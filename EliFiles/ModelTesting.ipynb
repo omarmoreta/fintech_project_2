{
 "cells": [
  {
   "cell_type": "code",
   "execution_count": 1,
   "metadata": {},
   "outputs": [
    {
     "data": {
      "text/html": [
       "<pre style=\"white-space:pre;overflow-x:auto;line-height:normal;font-family:Menlo,'DejaVu Sans Mono',consolas,'Courier New',monospace\"><span style=\"color: #808000; text-decoration-color: #808000\">Fetching data. Please be patient</span>\n",
       "\n",
       "</pre>\n"
      ],
      "text/plain": [
       "\u001b[33mFetching data. Please be patient\u001b[0m\n",
       "\n"
      ]
     },
     "metadata": {},
     "output_type": "display_data"
    },
    {
     "name": "stdout",
     "output_type": "stream",
     "text": [
      "There general sentiment for MSFT is: neutral\n",
      "                                         article_text sentiment\n",
      "0   Keybanc Maintains Microsoft (MSFT) Overweight ...   neutral\n",
      "1   Microsoft Co. (NASDAQ:MSFT) Stock Position Low...   neutral\n",
      "2   Waverton Investment Management Ltd Reduces Pos...  positive\n",
      "3   MSFT Stock Alert: Why Elon Musk Just Threatene...   neutral\n",
      "4   Amazon (AMZN) and Microsoft (MSFT) AI Gains Ma...   neutral\n",
      "..                                                ...       ...\n",
      "95  Analysts Are Betting On Microsoft Corporation ...   neutral\n",
      "96  Wall Street Still Mad for Microsoft Stock (NAS...   neutral\n",
      "97  Here’s Why Microsoft Corporation (MSFT) Appear...   neutral\n",
      "98  Microsoft (NASDAQ:MSFT) Beats Revenue and Earn...   neutral\n",
      "99  Microsoft (NASDAQ:MSFT) Remains a Tech Stock f...   neutral\n",
      "\n",
      "[100 rows x 2 columns]\n",
      "neutral     73\n",
      "positive    26\n",
      "negative     1\n",
      "dtype: int64\n",
      "Sentiment counts are overall: neutral\n"
     ]
    }
   ],
   "source": [
    "# Necessary import libs\n",
    "import pandas as pd\n",
    "import pickle\n",
    "\n",
    "from openbb_terminal.sdk import openbb\n",
    "\n",
    "terms = [\"MSFT\"]\n",
    "\n",
    "combined_df = pd.DataFrame()\n",
    "\n",
    "for term in terms:\n",
    "    news = openbb.news(term= term, sort= \"published\")\n",
    "    df = pd.DataFrame({'Term': term, 'Title': news['title'], 'Date': news['published'], 'Link': news['link']})\n",
    "    \n",
    "    # Concatenate the current dataframe to the combined dataframe\n",
    "    combined_df = pd.concat([combined_df, df], ignore_index=True)\n",
    "\n",
    "combined_df\n",
    "\n",
    "# Load our previously built models with pickle\n",
    "with open('model.pkl', 'rb') as f:\n",
    "    clf = pickle.load(f)\n",
    "\n",
    "with open('vectorizer.pkl', 'rb') as f:\n",
    "    vectorizer = pickle.load(f)\n",
    "\n",
    "# Apply to model to the articles\n",
    "X_vec = vectorizer.transform(combined_df['Title'])\n",
    "y_pred = clf.predict(X_vec)\n",
    "\n",
    "# Create a dataframe with the titles and sentiment predictions\n",
    "results = pd.DataFrame({'title': combined_df['Title'], 'sentiment': y_pred})\n",
    "\n",
    "sentiment_counts = results['sentiment'].value_counts()\n",
    "most_frequent_sentiment = sentiment_counts.idxmax()\n",
    "\n",
    "sentiment_counts = pd.Series(y_pred).value_counts()\n",
    "general_sentiment = sentiment_counts.idxmax()\n",
    "\n",
    "# Print out the sentiment label with the highest count\n",
    "print(f\"There general sentiment for {term} is:\", general_sentiment)\n",
    "print(results)\n",
    "print(sentiment_counts)\n",
    "\n",
    "print(f\"Sentiment counts are overall: {most_frequent_sentiment}\")"
   ]
  }
 ],
 "metadata": {
  "kernelspec": {
   "display_name": "explore",
   "language": "python",
   "name": "python3"
  },
  "language_info": {
   "codemirror_mode": {
    "name": "ipython",
    "version": 3
   },
   "file_extension": ".py",
   "mimetype": "text/x-python",
   "name": "python",
   "nbconvert_exporter": "python",
   "pygments_lexer": "ipython3",
   "version": "3.9.6"
  },
  "orig_nbformat": 4
 },
 "nbformat": 4,
 "nbformat_minor": 2
}
