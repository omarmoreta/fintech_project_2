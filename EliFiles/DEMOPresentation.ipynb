{
 "cells": [
  {
   "attachments": {},
   "cell_type": "markdown",
   "metadata": {},
   "source": [
    "---\n",
    "\n",
    "### Import your Necessary Libraries\n",
    "\n",
    "---"
   ]
  },
  {
   "cell_type": "code",
   "execution_count": 14,
   "metadata": {},
   "outputs": [],
   "source": [
    "# Do I even need to say anything?\n",
    "import pandas as pd\n",
    "import numpy as np\n",
    "\n",
    "# Plots for days\n",
    "import plotly.express as px\n",
    "import plotly.graph_objects as go\n",
    "\n",
    "# Useful datetime functions\n",
    "from datetime import date\n",
    "from datetime import timedelta\n",
    "from datetime import datetime\n",
    "\n",
    "# Sentiment polarity analysis\n",
    "from textblob import TextBlob \n",
    "\n",
    "# Save your models, reuse them\n",
    "import pickle\n",
    "\n",
    "# Fit, transform, all you want\n",
    "from sklearn.model_selection import train_test_split\n",
    "from sklearn.feature_extraction.text import CountVectorizer\n",
    "from sklearn.linear_model import LogisticRegression\n",
    "from sklearn.metrics import accuracy_score, precision_score, recall_score, f1_score\n",
    "\n",
    "# The main powerhouse of our project\n",
    "from openbb_terminal.sdk import openbb"
   ]
  },
  {
   "attachments": {},
   "cell_type": "markdown",
   "metadata": {},
   "source": [
    "---\n",
    "\n",
    "### Lets get the Sentiment for your company\n",
    "\n",
    "---"
   ]
  },
  {
   "cell_type": "code",
   "execution_count": 9,
   "metadata": {},
   "outputs": [
    {
     "data": {
      "text/html": [
       "<pre style=\"white-space:pre;overflow-x:auto;line-height:normal;font-family:Menlo,'DejaVu Sans Mono',consolas,'Courier New',monospace\"><span style=\"color: #808000; text-decoration-color: #808000\">Fetching data. Please be patient</span>\n",
       "\n",
       "</pre>\n"
      ],
      "text/plain": [
       "\u001b[33mFetching data. Please be patient\u001b[0m\n",
       "\n"
      ]
     },
     "metadata": {},
     "output_type": "display_data"
    },
    {
     "data": {
      "text/html": [
       "<pre style=\"white-space:pre;overflow-x:auto;line-height:normal;font-family:Menlo,'DejaVu Sans Mono',consolas,'Courier New',monospace\"><span style=\"color: #808000; text-decoration-color: #808000\">Fetching data. Please be patient</span>\n",
       "\n",
       "</pre>\n"
      ],
      "text/plain": [
       "\u001b[33mFetching data. Please be patient\u001b[0m\n",
       "\n"
      ]
     },
     "metadata": {},
     "output_type": "display_data"
    },
    {
     "data": {
      "text/html": [
       "<pre style=\"white-space:pre;overflow-x:auto;line-height:normal;font-family:Menlo,'DejaVu Sans Mono',consolas,'Courier New',monospace\"><span style=\"color: #808000; text-decoration-color: #808000\">Fetching data. Please be patient</span>\n",
       "\n",
       "</pre>\n"
      ],
      "text/plain": [
       "\u001b[33mFetching data. Please be patient\u001b[0m\n",
       "\n"
      ]
     },
     "metadata": {},
     "output_type": "display_data"
    },
    {
     "data": {
      "text/html": [
       "<pre style=\"white-space:pre;overflow-x:auto;line-height:normal;font-family:Menlo,'DejaVu Sans Mono',consolas,'Courier New',monospace\"><span style=\"color: #808000; text-decoration-color: #808000\">Fetching data. Please be patient</span>\n",
       "\n",
       "</pre>\n"
      ],
      "text/plain": [
       "\u001b[33mFetching data. Please be patient\u001b[0m\n",
       "\n"
      ]
     },
     "metadata": {},
     "output_type": "display_data"
    },
    {
     "data": {
      "text/html": [
       "<pre style=\"white-space:pre;overflow-x:auto;line-height:normal;font-family:Menlo,'DejaVu Sans Mono',consolas,'Courier New',monospace\"><span style=\"color: #808000; text-decoration-color: #808000\">Fetching data. Please be patient</span>\n",
       "\n",
       "</pre>\n"
      ],
      "text/plain": [
       "\u001b[33mFetching data. Please be patient\u001b[0m\n",
       "\n"
      ]
     },
     "metadata": {},
     "output_type": "display_data"
    },
    {
     "data": {
      "text/html": [
       "<pre style=\"white-space:pre;overflow-x:auto;line-height:normal;font-family:Menlo,'DejaVu Sans Mono',consolas,'Courier New',monospace\">Loading Daily data for AAPL with starting period 2023-04-14.\n",
       "</pre>\n"
      ],
      "text/plain": [
       "Loading Daily data for AAPL with starting period 2023-04-14.\n"
      ]
     },
     "metadata": {},
     "output_type": "display_data"
    },
    {
     "data": {
      "text/html": [
       "<pre style=\"white-space:pre;overflow-x:auto;line-height:normal;font-family:Menlo,'DejaVu Sans Mono',consolas,'Courier New',monospace\">Loading Daily data for AAPL with starting period 2023-04-14.\n",
       "</pre>\n"
      ],
      "text/plain": [
       "Loading Daily data for AAPL with starting period 2023-04-14.\n"
      ]
     },
     "metadata": {},
     "output_type": "display_data"
    },
    {
     "data": {
      "text/html": [
       "<pre style=\"white-space:pre;overflow-x:auto;line-height:normal;font-family:Menlo,'DejaVu Sans Mono',consolas,'Courier New',monospace\">Loading Daily data for AAPL with starting period 2023-04-14.\n",
       "</pre>\n"
      ],
      "text/plain": [
       "Loading Daily data for AAPL with starting period 2023-04-14.\n"
      ]
     },
     "metadata": {},
     "output_type": "display_data"
    },
    {
     "data": {
      "text/html": [
       "<pre style=\"white-space:pre;overflow-x:auto;line-height:normal;font-family:Menlo,'DejaVu Sans Mono',consolas,'Courier New',monospace\">Loading Daily data for AAPL with starting period 2023-04-14.\n",
       "</pre>\n"
      ],
      "text/plain": [
       "Loading Daily data for AAPL with starting period 2023-04-14.\n"
      ]
     },
     "metadata": {},
     "output_type": "display_data"
    },
    {
     "data": {
      "text/html": [
       "<pre style=\"white-space:pre;overflow-x:auto;line-height:normal;font-family:Menlo,'DejaVu Sans Mono',consolas,'Courier New',monospace\">Loading Daily data for AAPL with starting period 2023-04-14.\n",
       "</pre>\n"
      ],
      "text/plain": [
       "Loading Daily data for AAPL with starting period 2023-04-14.\n"
      ]
     },
     "metadata": {},
     "output_type": "display_data"
    },
    {
     "data": {
      "text/html": [
       "<pre style=\"white-space:pre;overflow-x:auto;line-height:normal;font-family:Menlo,'DejaVu Sans Mono',consolas,'Courier New',monospace\">Loading Daily data for AAPL with starting period 2023-04-14.\n",
       "</pre>\n"
      ],
      "text/plain": [
       "Loading Daily data for AAPL with starting period 2023-04-14.\n"
      ]
     },
     "metadata": {},
     "output_type": "display_data"
    },
    {
     "data": {
      "text/html": [
       "<pre style=\"white-space:pre;overflow-x:auto;line-height:normal;font-family:Menlo,'DejaVu Sans Mono',consolas,'Courier New',monospace\">Loading Daily data for AAPL with starting period 2023-04-14.\n",
       "</pre>\n"
      ],
      "text/plain": [
       "Loading Daily data for AAPL with starting period 2023-04-14.\n"
      ]
     },
     "metadata": {},
     "output_type": "display_data"
    },
    {
     "data": {
      "text/html": [
       "<pre style=\"white-space:pre;overflow-x:auto;line-height:normal;font-family:Menlo,'DejaVu Sans Mono',consolas,'Courier New',monospace\">Loading Daily data for AAPL with starting period 2023-04-14.\n",
       "</pre>\n"
      ],
      "text/plain": [
       "Loading Daily data for AAPL with starting period 2023-04-14.\n"
      ]
     },
     "metadata": {},
     "output_type": "display_data"
    },
    {
     "data": {
      "text/html": [
       "<pre style=\"white-space:pre;overflow-x:auto;line-height:normal;font-family:Menlo,'DejaVu Sans Mono',consolas,'Courier New',monospace\">Loading Daily data for AAPL with starting period 2023-04-14.\n",
       "</pre>\n"
      ],
      "text/plain": [
       "Loading Daily data for AAPL with starting period 2023-04-14.\n"
      ]
     },
     "metadata": {},
     "output_type": "display_data"
    },
    {
     "data": {
      "text/html": [
       "<pre style=\"white-space:pre;overflow-x:auto;line-height:normal;font-family:Menlo,'DejaVu Sans Mono',consolas,'Courier New',monospace\">Loading Daily data for AAPL with starting period 2023-04-14.\n",
       "</pre>\n"
      ],
      "text/plain": [
       "Loading Daily data for AAPL with starting period 2023-04-14.\n"
      ]
     },
     "metadata": {},
     "output_type": "display_data"
    },
    {
     "data": {
      "text/html": [
       "<pre style=\"white-space:pre;overflow-x:auto;line-height:normal;font-family:Menlo,'DejaVu Sans Mono',consolas,'Courier New',monospace\">Loading Daily data for AAPL with starting period 2023-04-14.\n",
       "</pre>\n"
      ],
      "text/plain": [
       "Loading Daily data for AAPL with starting period 2023-04-14.\n"
      ]
     },
     "metadata": {},
     "output_type": "display_data"
    },
    {
     "data": {
      "text/html": [
       "<pre style=\"white-space:pre;overflow-x:auto;line-height:normal;font-family:Menlo,'DejaVu Sans Mono',consolas,'Courier New',monospace\">Loading Daily data for AAPL with starting period 2023-04-14.\n",
       "</pre>\n"
      ],
      "text/plain": [
       "Loading Daily data for AAPL with starting period 2023-04-14.\n"
      ]
     },
     "metadata": {},
     "output_type": "display_data"
    },
    {
     "data": {
      "text/html": [
       "<pre style=\"white-space:pre;overflow-x:auto;line-height:normal;font-family:Menlo,'DejaVu Sans Mono',consolas,'Courier New',monospace\">Loading Daily data for AAPL with starting period 2023-04-14.\n",
       "</pre>\n"
      ],
      "text/plain": [
       "Loading Daily data for AAPL with starting period 2023-04-14.\n"
      ]
     },
     "metadata": {},
     "output_type": "display_data"
    },
    {
     "data": {
      "text/html": [
       "<pre style=\"white-space:pre;overflow-x:auto;line-height:normal;font-family:Menlo,'DejaVu Sans Mono',consolas,'Courier New',monospace\">Loading Daily data for AAPL with starting period 2023-04-14.\n",
       "</pre>\n"
      ],
      "text/plain": [
       "Loading Daily data for AAPL with starting period 2023-04-14.\n"
      ]
     },
     "metadata": {},
     "output_type": "display_data"
    },
    {
     "data": {
      "text/html": [
       "<pre style=\"white-space:pre;overflow-x:auto;line-height:normal;font-family:Menlo,'DejaVu Sans Mono',consolas,'Courier New',monospace\">Loading Daily data for AAPL with starting period 2023-04-13.\n",
       "</pre>\n"
      ],
      "text/plain": [
       "Loading Daily data for AAPL with starting period 2023-04-13.\n"
      ]
     },
     "metadata": {},
     "output_type": "display_data"
    },
    {
     "data": {
      "text/html": [
       "<pre style=\"white-space:pre;overflow-x:auto;line-height:normal;font-family:Menlo,'DejaVu Sans Mono',consolas,'Courier New',monospace\">Loading Daily data for AAPL with starting period 2023-04-13.\n",
       "</pre>\n"
      ],
      "text/plain": [
       "Loading Daily data for AAPL with starting period 2023-04-13.\n"
      ]
     },
     "metadata": {},
     "output_type": "display_data"
    },
    {
     "data": {
      "text/html": [
       "<pre style=\"white-space:pre;overflow-x:auto;line-height:normal;font-family:Menlo,'DejaVu Sans Mono',consolas,'Courier New',monospace\">Loading Daily data for AAPL with starting period 2023-04-13.\n",
       "</pre>\n"
      ],
      "text/plain": [
       "Loading Daily data for AAPL with starting period 2023-04-13.\n"
      ]
     },
     "metadata": {},
     "output_type": "display_data"
    },
    {
     "data": {
      "text/html": [
       "<pre style=\"white-space:pre;overflow-x:auto;line-height:normal;font-family:Menlo,'DejaVu Sans Mono',consolas,'Courier New',monospace\">Loading Daily data for AAPL with starting period 2023-04-13.\n",
       "</pre>\n"
      ],
      "text/plain": [
       "Loading Daily data for AAPL with starting period 2023-04-13.\n"
      ]
     },
     "metadata": {},
     "output_type": "display_data"
    },
    {
     "data": {
      "text/html": [
       "<pre style=\"white-space:pre;overflow-x:auto;line-height:normal;font-family:Menlo,'DejaVu Sans Mono',consolas,'Courier New',monospace\">Loading Daily data for AAPL with starting period 2023-04-13.\n",
       "</pre>\n"
      ],
      "text/plain": [
       "Loading Daily data for AAPL with starting period 2023-04-13.\n"
      ]
     },
     "metadata": {},
     "output_type": "display_data"
    },
    {
     "data": {
      "text/html": [
       "<pre style=\"white-space:pre;overflow-x:auto;line-height:normal;font-family:Menlo,'DejaVu Sans Mono',consolas,'Courier New',monospace\">Loading Daily data for AAPL with starting period 2023-04-13.\n",
       "</pre>\n"
      ],
      "text/plain": [
       "Loading Daily data for AAPL with starting period 2023-04-13.\n"
      ]
     },
     "metadata": {},
     "output_type": "display_data"
    },
    {
     "data": {
      "text/html": [
       "<pre style=\"white-space:pre;overflow-x:auto;line-height:normal;font-family:Menlo,'DejaVu Sans Mono',consolas,'Courier New',monospace\">Loading Daily data for AAPL with starting period 2023-04-13.\n",
       "</pre>\n"
      ],
      "text/plain": [
       "Loading Daily data for AAPL with starting period 2023-04-13.\n"
      ]
     },
     "metadata": {},
     "output_type": "display_data"
    },
    {
     "data": {
      "text/html": [
       "<pre style=\"white-space:pre;overflow-x:auto;line-height:normal;font-family:Menlo,'DejaVu Sans Mono',consolas,'Courier New',monospace\">Loading Daily data for AAPL with starting period 2023-04-13.\n",
       "</pre>\n"
      ],
      "text/plain": [
       "Loading Daily data for AAPL with starting period 2023-04-13.\n"
      ]
     },
     "metadata": {},
     "output_type": "display_data"
    },
    {
     "data": {
      "text/html": [
       "<pre style=\"white-space:pre;overflow-x:auto;line-height:normal;font-family:Menlo,'DejaVu Sans Mono',consolas,'Courier New',monospace\">Loading Daily data for AAPL with starting period 2023-04-13.\n",
       "</pre>\n"
      ],
      "text/plain": [
       "Loading Daily data for AAPL with starting period 2023-04-13.\n"
      ]
     },
     "metadata": {},
     "output_type": "display_data"
    },
    {
     "data": {
      "text/html": [
       "<pre style=\"white-space:pre;overflow-x:auto;line-height:normal;font-family:Menlo,'DejaVu Sans Mono',consolas,'Courier New',monospace\">Loading Daily data for AAPL with starting period 2023-04-13.\n",
       "</pre>\n"
      ],
      "text/plain": [
       "Loading Daily data for AAPL with starting period 2023-04-13.\n"
      ]
     },
     "metadata": {},
     "output_type": "display_data"
    },
    {
     "data": {
      "text/html": [
       "<pre style=\"white-space:pre;overflow-x:auto;line-height:normal;font-family:Menlo,'DejaVu Sans Mono',consolas,'Courier New',monospace\">Loading Daily data for AAPL with starting period 2023-04-13.\n",
       "</pre>\n"
      ],
      "text/plain": [
       "Loading Daily data for AAPL with starting period 2023-04-13.\n"
      ]
     },
     "metadata": {},
     "output_type": "display_data"
    },
    {
     "data": {
      "text/html": [
       "<pre style=\"white-space:pre;overflow-x:auto;line-height:normal;font-family:Menlo,'DejaVu Sans Mono',consolas,'Courier New',monospace\">Loading Daily data for AAPL with starting period 2023-04-13.\n",
       "</pre>\n"
      ],
      "text/plain": [
       "Loading Daily data for AAPL with starting period 2023-04-13.\n"
      ]
     },
     "metadata": {},
     "output_type": "display_data"
    },
    {
     "data": {
      "text/html": [
       "<pre style=\"white-space:pre;overflow-x:auto;line-height:normal;font-family:Menlo,'DejaVu Sans Mono',consolas,'Courier New',monospace\">Loading Daily data for AAPL with starting period 2023-04-13.\n",
       "</pre>\n"
      ],
      "text/plain": [
       "Loading Daily data for AAPL with starting period 2023-04-13.\n"
      ]
     },
     "metadata": {},
     "output_type": "display_data"
    },
    {
     "data": {
      "text/html": [
       "<pre style=\"white-space:pre;overflow-x:auto;line-height:normal;font-family:Menlo,'DejaVu Sans Mono',consolas,'Courier New',monospace\">Loading Daily data for AAPL with starting period 2023-04-13.\n",
       "</pre>\n"
      ],
      "text/plain": [
       "Loading Daily data for AAPL with starting period 2023-04-13.\n"
      ]
     },
     "metadata": {},
     "output_type": "display_data"
    },
    {
     "data": {
      "text/html": [
       "<pre style=\"white-space:pre;overflow-x:auto;line-height:normal;font-family:Menlo,'DejaVu Sans Mono',consolas,'Courier New',monospace\">Loading Daily data for AAPL with starting period 2023-04-13.\n",
       "</pre>\n"
      ],
      "text/plain": [
       "Loading Daily data for AAPL with starting period 2023-04-13.\n"
      ]
     },
     "metadata": {},
     "output_type": "display_data"
    },
    {
     "data": {
      "text/html": [
       "<pre style=\"white-space:pre;overflow-x:auto;line-height:normal;font-family:Menlo,'DejaVu Sans Mono',consolas,'Courier New',monospace\">Loading Daily data for AAPL with starting period 2023-04-13.\n",
       "</pre>\n"
      ],
      "text/plain": [
       "Loading Daily data for AAPL with starting period 2023-04-13.\n"
      ]
     },
     "metadata": {},
     "output_type": "display_data"
    },
    {
     "data": {
      "text/html": [
       "<pre style=\"white-space:pre;overflow-x:auto;line-height:normal;font-family:Menlo,'DejaVu Sans Mono',consolas,'Courier New',monospace\">Loading Daily data for AAPL with starting period 2023-04-12.\n",
       "</pre>\n"
      ],
      "text/plain": [
       "Loading Daily data for AAPL with starting period 2023-04-12.\n"
      ]
     },
     "metadata": {},
     "output_type": "display_data"
    },
    {
     "data": {
      "text/html": [
       "<pre style=\"white-space:pre;overflow-x:auto;line-height:normal;font-family:Menlo,'DejaVu Sans Mono',consolas,'Courier New',monospace\">Loading Daily data for AAPL with starting period 2023-04-11.\n",
       "</pre>\n"
      ],
      "text/plain": [
       "Loading Daily data for AAPL with starting period 2023-04-11.\n"
      ]
     },
     "metadata": {},
     "output_type": "display_data"
    },
    {
     "data": {
      "text/html": [
       "<pre style=\"white-space:pre;overflow-x:auto;line-height:normal;font-family:Menlo,'DejaVu Sans Mono',consolas,'Courier New',monospace\">Loading Daily data for AAPL with starting period 2023-04-11.\n",
       "</pre>\n"
      ],
      "text/plain": [
       "Loading Daily data for AAPL with starting period 2023-04-11.\n"
      ]
     },
     "metadata": {},
     "output_type": "display_data"
    },
    {
     "data": {
      "text/html": [
       "<pre style=\"white-space:pre;overflow-x:auto;line-height:normal;font-family:Menlo,'DejaVu Sans Mono',consolas,'Courier New',monospace\">Loading Daily data for AAPL with starting period 2023-04-10.\n",
       "</pre>\n"
      ],
      "text/plain": [
       "Loading Daily data for AAPL with starting period 2023-04-10.\n"
      ]
     },
     "metadata": {},
     "output_type": "display_data"
    },
    {
     "data": {
      "text/html": [
       "<pre style=\"white-space:pre;overflow-x:auto;line-height:normal;font-family:Menlo,'DejaVu Sans Mono',consolas,'Courier New',monospace\">Loading Daily data for AAPL with starting period 2023-04-10.\n",
       "</pre>\n"
      ],
      "text/plain": [
       "Loading Daily data for AAPL with starting period 2023-04-10.\n"
      ]
     },
     "metadata": {},
     "output_type": "display_data"
    },
    {
     "data": {
      "text/html": [
       "<pre style=\"white-space:pre;overflow-x:auto;line-height:normal;font-family:Menlo,'DejaVu Sans Mono',consolas,'Courier New',monospace\">Loading Daily data for AAPL with starting period 2023-04-10.\n",
       "</pre>\n"
      ],
      "text/plain": [
       "Loading Daily data for AAPL with starting period 2023-04-10.\n"
      ]
     },
     "metadata": {},
     "output_type": "display_data"
    },
    {
     "data": {
      "text/html": [
       "<pre style=\"white-space:pre;overflow-x:auto;line-height:normal;font-family:Menlo,'DejaVu Sans Mono',consolas,'Courier New',monospace\">Loading Daily data for AAPL with starting period 2023-04-10.\n",
       "</pre>\n"
      ],
      "text/plain": [
       "Loading Daily data for AAPL with starting period 2023-04-10.\n"
      ]
     },
     "metadata": {},
     "output_type": "display_data"
    },
    {
     "data": {
      "text/html": [
       "<pre style=\"white-space:pre;overflow-x:auto;line-height:normal;font-family:Menlo,'DejaVu Sans Mono',consolas,'Courier New',monospace\">Loading Daily data for AAPL with starting period 2023-04-10.\n",
       "</pre>\n"
      ],
      "text/plain": [
       "Loading Daily data for AAPL with starting period 2023-04-10.\n"
      ]
     },
     "metadata": {},
     "output_type": "display_data"
    },
    {
     "data": {
      "text/html": [
       "<pre style=\"white-space:pre;overflow-x:auto;line-height:normal;font-family:Menlo,'DejaVu Sans Mono',consolas,'Courier New',monospace\">Loading Daily data for AAPL with starting period 2023-04-10.\n",
       "</pre>\n"
      ],
      "text/plain": [
       "Loading Daily data for AAPL with starting period 2023-04-10.\n"
      ]
     },
     "metadata": {},
     "output_type": "display_data"
    },
    {
     "data": {
      "text/html": [
       "<pre style=\"white-space:pre;overflow-x:auto;line-height:normal;font-family:Menlo,'DejaVu Sans Mono',consolas,'Courier New',monospace\">Loading Daily data for AAPL with starting period 2023-04-10.\n",
       "</pre>\n"
      ],
      "text/plain": [
       "Loading Daily data for AAPL with starting period 2023-04-10.\n"
      ]
     },
     "metadata": {},
     "output_type": "display_data"
    },
    {
     "data": {
      "text/html": [
       "<pre style=\"white-space:pre;overflow-x:auto;line-height:normal;font-family:Menlo,'DejaVu Sans Mono',consolas,'Courier New',monospace\">Loading Daily data for AAPL with starting period 2023-04-10.\n",
       "</pre>\n"
      ],
      "text/plain": [
       "Loading Daily data for AAPL with starting period 2023-04-10.\n"
      ]
     },
     "metadata": {},
     "output_type": "display_data"
    },
    {
     "data": {
      "text/html": [
       "<pre style=\"white-space:pre;overflow-x:auto;line-height:normal;font-family:Menlo,'DejaVu Sans Mono',consolas,'Courier New',monospace\">Loading Daily data for AAPL with starting period 2023-04-10.\n",
       "</pre>\n"
      ],
      "text/plain": [
       "Loading Daily data for AAPL with starting period 2023-04-10.\n"
      ]
     },
     "metadata": {},
     "output_type": "display_data"
    },
    {
     "data": {
      "text/html": [
       "<pre style=\"white-space:pre;overflow-x:auto;line-height:normal;font-family:Menlo,'DejaVu Sans Mono',consolas,'Courier New',monospace\">Loading Daily data for AAPL with starting period 2023-04-10.\n",
       "</pre>\n"
      ],
      "text/plain": [
       "Loading Daily data for AAPL with starting period 2023-04-10.\n"
      ]
     },
     "metadata": {},
     "output_type": "display_data"
    },
    {
     "data": {
      "text/html": [
       "<pre style=\"white-space:pre;overflow-x:auto;line-height:normal;font-family:Menlo,'DejaVu Sans Mono',consolas,'Courier New',monospace\">Loading Daily data for AAPL with starting period 2023-04-10.\n",
       "</pre>\n"
      ],
      "text/plain": [
       "Loading Daily data for AAPL with starting period 2023-04-10.\n"
      ]
     },
     "metadata": {},
     "output_type": "display_data"
    },
    {
     "data": {
      "text/html": [
       "<pre style=\"white-space:pre;overflow-x:auto;line-height:normal;font-family:Menlo,'DejaVu Sans Mono',consolas,'Courier New',monospace\">Loading Daily data for AAPL with starting period 2023-04-06.\n",
       "</pre>\n"
      ],
      "text/plain": [
       "Loading Daily data for AAPL with starting period 2023-04-06.\n"
      ]
     },
     "metadata": {},
     "output_type": "display_data"
    },
    {
     "data": {
      "text/html": [
       "<pre style=\"white-space:pre;overflow-x:auto;line-height:normal;font-family:Menlo,'DejaVu Sans Mono',consolas,'Courier New',monospace\">Loading Daily data for AAPL with starting period 2023-04-06.\n",
       "</pre>\n"
      ],
      "text/plain": [
       "Loading Daily data for AAPL with starting period 2023-04-06.\n"
      ]
     },
     "metadata": {},
     "output_type": "display_data"
    },
    {
     "data": {
      "text/html": [
       "<pre style=\"white-space:pre;overflow-x:auto;line-height:normal;font-family:Menlo,'DejaVu Sans Mono',consolas,'Courier New',monospace\">Loading Daily data for AAPL with starting period 2023-04-05.\n",
       "</pre>\n"
      ],
      "text/plain": [
       "Loading Daily data for AAPL with starting period 2023-04-05.\n"
      ]
     },
     "metadata": {},
     "output_type": "display_data"
    },
    {
     "data": {
      "text/html": [
       "<pre style=\"white-space:pre;overflow-x:auto;line-height:normal;font-family:Menlo,'DejaVu Sans Mono',consolas,'Courier New',monospace\">Loading Daily data for AAPL with starting period 2023-04-03.\n",
       "</pre>\n"
      ],
      "text/plain": [
       "Loading Daily data for AAPL with starting period 2023-04-03.\n"
      ]
     },
     "metadata": {},
     "output_type": "display_data"
    },
    {
     "data": {
      "text/html": [
       "<pre style=\"white-space:pre;overflow-x:auto;line-height:normal;font-family:Menlo,'DejaVu Sans Mono',consolas,'Courier New',monospace\">Loading Daily data for AAPL with starting period 2023-04-03.\n",
       "</pre>\n"
      ],
      "text/plain": [
       "Loading Daily data for AAPL with starting period 2023-04-03.\n"
      ]
     },
     "metadata": {},
     "output_type": "display_data"
    },
    {
     "data": {
      "text/html": [
       "<pre style=\"white-space:pre;overflow-x:auto;line-height:normal;font-family:Menlo,'DejaVu Sans Mono',consolas,'Courier New',monospace\">Loading Daily data for AAPL with starting period 2023-04-03.\n",
       "</pre>\n"
      ],
      "text/plain": [
       "Loading Daily data for AAPL with starting period 2023-04-03.\n"
      ]
     },
     "metadata": {},
     "output_type": "display_data"
    },
    {
     "data": {
      "text/html": [
       "<pre style=\"white-space:pre;overflow-x:auto;line-height:normal;font-family:Menlo,'DejaVu Sans Mono',consolas,'Courier New',monospace\">Loading Daily data for AAPL with starting period 2023-04-03.\n",
       "</pre>\n"
      ],
      "text/plain": [
       "Loading Daily data for AAPL with starting period 2023-04-03.\n"
      ]
     },
     "metadata": {},
     "output_type": "display_data"
    },
    {
     "data": {
      "text/html": [
       "<pre style=\"white-space:pre;overflow-x:auto;line-height:normal;font-family:Menlo,'DejaVu Sans Mono',consolas,'Courier New',monospace\">Loading Daily data for AAPL with starting period 2023-04-03.\n",
       "</pre>\n"
      ],
      "text/plain": [
       "Loading Daily data for AAPL with starting period 2023-04-03.\n"
      ]
     },
     "metadata": {},
     "output_type": "display_data"
    },
    {
     "data": {
      "text/html": [
       "<pre style=\"white-space:pre;overflow-x:auto;line-height:normal;font-family:Menlo,'DejaVu Sans Mono',consolas,'Courier New',monospace\">Loading Daily data for AAPL with starting period 2023-04-03.\n",
       "</pre>\n"
      ],
      "text/plain": [
       "Loading Daily data for AAPL with starting period 2023-04-03.\n"
      ]
     },
     "metadata": {},
     "output_type": "display_data"
    },
    {
     "data": {
      "text/html": [
       "<pre style=\"white-space:pre;overflow-x:auto;line-height:normal;font-family:Menlo,'DejaVu Sans Mono',consolas,'Courier New',monospace\">Loading Daily data for AAPL with starting period 2023-03-31.\n",
       "</pre>\n"
      ],
      "text/plain": [
       "Loading Daily data for AAPL with starting period 2023-03-31.\n"
      ]
     },
     "metadata": {},
     "output_type": "display_data"
    },
    {
     "data": {
      "text/html": [
       "<pre style=\"white-space:pre;overflow-x:auto;line-height:normal;font-family:Menlo,'DejaVu Sans Mono',consolas,'Courier New',monospace\">Loading Daily data for AAPL with starting period 2023-03-31.\n",
       "</pre>\n"
      ],
      "text/plain": [
       "Loading Daily data for AAPL with starting period 2023-03-31.\n"
      ]
     },
     "metadata": {},
     "output_type": "display_data"
    },
    {
     "data": {
      "text/html": [
       "<pre style=\"white-space:pre;overflow-x:auto;line-height:normal;font-family:Menlo,'DejaVu Sans Mono',consolas,'Courier New',monospace\">Loading Daily data for AAPL with starting period 2023-03-30.\n",
       "</pre>\n"
      ],
      "text/plain": [
       "Loading Daily data for AAPL with starting period 2023-03-30.\n"
      ]
     },
     "metadata": {},
     "output_type": "display_data"
    },
    {
     "data": {
      "text/html": [
       "<pre style=\"white-space:pre;overflow-x:auto;line-height:normal;font-family:Menlo,'DejaVu Sans Mono',consolas,'Courier New',monospace\">Loading Daily data for AAPL with starting period 2023-03-30.\n",
       "</pre>\n"
      ],
      "text/plain": [
       "Loading Daily data for AAPL with starting period 2023-03-30.\n"
      ]
     },
     "metadata": {},
     "output_type": "display_data"
    },
    {
     "data": {
      "text/html": [
       "<pre style=\"white-space:pre;overflow-x:auto;line-height:normal;font-family:Menlo,'DejaVu Sans Mono',consolas,'Courier New',monospace\">Loading Daily data for AAPL with starting period 2023-03-29.\n",
       "</pre>\n"
      ],
      "text/plain": [
       "Loading Daily data for AAPL with starting period 2023-03-29.\n"
      ]
     },
     "metadata": {},
     "output_type": "display_data"
    },
    {
     "data": {
      "text/html": [
       "<pre style=\"white-space:pre;overflow-x:auto;line-height:normal;font-family:Menlo,'DejaVu Sans Mono',consolas,'Courier New',monospace\">Loading Daily data for AAPL with starting period 2023-03-27.\n",
       "</pre>\n"
      ],
      "text/plain": [
       "Loading Daily data for AAPL with starting period 2023-03-27.\n"
      ]
     },
     "metadata": {},
     "output_type": "display_data"
    },
    {
     "data": {
      "text/html": [
       "<pre style=\"white-space:pre;overflow-x:auto;line-height:normal;font-family:Menlo,'DejaVu Sans Mono',consolas,'Courier New',monospace\">Loading Daily data for AAPL with starting period 2023-03-27.\n",
       "</pre>\n"
      ],
      "text/plain": [
       "Loading Daily data for AAPL with starting period 2023-03-27.\n"
      ]
     },
     "metadata": {},
     "output_type": "display_data"
    },
    {
     "data": {
      "text/html": [
       "<pre style=\"white-space:pre;overflow-x:auto;line-height:normal;font-family:Menlo,'DejaVu Sans Mono',consolas,'Courier New',monospace\">Loading Daily data for AAPL with starting period 2023-03-27.\n",
       "</pre>\n"
      ],
      "text/plain": [
       "Loading Daily data for AAPL with starting period 2023-03-27.\n"
      ]
     },
     "metadata": {},
     "output_type": "display_data"
    },
    {
     "data": {
      "text/html": [
       "<pre style=\"white-space:pre;overflow-x:auto;line-height:normal;font-family:Menlo,'DejaVu Sans Mono',consolas,'Courier New',monospace\">Loading Daily data for AAPL with starting period 2023-03-27.\n",
       "</pre>\n"
      ],
      "text/plain": [
       "Loading Daily data for AAPL with starting period 2023-03-27.\n"
      ]
     },
     "metadata": {},
     "output_type": "display_data"
    },
    {
     "data": {
      "text/html": [
       "<pre style=\"white-space:pre;overflow-x:auto;line-height:normal;font-family:Menlo,'DejaVu Sans Mono',consolas,'Courier New',monospace\">Loading Daily data for AAPL with starting period 2023-03-27.\n",
       "</pre>\n"
      ],
      "text/plain": [
       "Loading Daily data for AAPL with starting period 2023-03-27.\n"
      ]
     },
     "metadata": {},
     "output_type": "display_data"
    },
    {
     "data": {
      "text/html": [
       "<pre style=\"white-space:pre;overflow-x:auto;line-height:normal;font-family:Menlo,'DejaVu Sans Mono',consolas,'Courier New',monospace\">Loading Daily data for AAPL with starting period 2023-03-24.\n",
       "</pre>\n"
      ],
      "text/plain": [
       "Loading Daily data for AAPL with starting period 2023-03-24.\n"
      ]
     },
     "metadata": {},
     "output_type": "display_data"
    },
    {
     "data": {
      "text/html": [
       "<pre style=\"white-space:pre;overflow-x:auto;line-height:normal;font-family:Menlo,'DejaVu Sans Mono',consolas,'Courier New',monospace\">Loading Daily data for AAPL with starting period 2023-03-24.\n",
       "</pre>\n"
      ],
      "text/plain": [
       "Loading Daily data for AAPL with starting period 2023-03-24.\n"
      ]
     },
     "metadata": {},
     "output_type": "display_data"
    },
    {
     "data": {
      "text/html": [
       "<pre style=\"white-space:pre;overflow-x:auto;line-height:normal;font-family:Menlo,'DejaVu Sans Mono',consolas,'Courier New',monospace\">Loading Daily data for AAPL with starting period 2023-03-23.\n",
       "</pre>\n"
      ],
      "text/plain": [
       "Loading Daily data for AAPL with starting period 2023-03-23.\n"
      ]
     },
     "metadata": {},
     "output_type": "display_data"
    },
    {
     "data": {
      "text/html": [
       "<pre style=\"white-space:pre;overflow-x:auto;line-height:normal;font-family:Menlo,'DejaVu Sans Mono',consolas,'Courier New',monospace\">Loading Daily data for AAPL with starting period 2023-03-23.\n",
       "</pre>\n"
      ],
      "text/plain": [
       "Loading Daily data for AAPL with starting period 2023-03-23.\n"
      ]
     },
     "metadata": {},
     "output_type": "display_data"
    },
    {
     "data": {
      "text/html": [
       "<pre style=\"white-space:pre;overflow-x:auto;line-height:normal;font-family:Menlo,'DejaVu Sans Mono',consolas,'Courier New',monospace\">Loading Daily data for AAPL with starting period 2023-03-22.\n",
       "</pre>\n"
      ],
      "text/plain": [
       "Loading Daily data for AAPL with starting period 2023-03-22.\n"
      ]
     },
     "metadata": {},
     "output_type": "display_data"
    },
    {
     "data": {
      "text/html": [
       "<pre style=\"white-space:pre;overflow-x:auto;line-height:normal;font-family:Menlo,'DejaVu Sans Mono',consolas,'Courier New',monospace\">Loading Daily data for AAPL with starting period 2023-03-21.\n",
       "</pre>\n"
      ],
      "text/plain": [
       "Loading Daily data for AAPL with starting period 2023-03-21.\n"
      ]
     },
     "metadata": {},
     "output_type": "display_data"
    },
    {
     "data": {
      "text/html": [
       "<pre style=\"white-space:pre;overflow-x:auto;line-height:normal;font-family:Menlo,'DejaVu Sans Mono',consolas,'Courier New',monospace\">Loading Daily data for AAPL with starting period 2023-03-20.\n",
       "</pre>\n"
      ],
      "text/plain": [
       "Loading Daily data for AAPL with starting period 2023-03-20.\n"
      ]
     },
     "metadata": {},
     "output_type": "display_data"
    },
    {
     "data": {
      "text/html": [
       "<pre style=\"white-space:pre;overflow-x:auto;line-height:normal;font-family:Menlo,'DejaVu Sans Mono',consolas,'Courier New',monospace\">Loading Daily data for AAPL with starting period 2023-03-20.\n",
       "</pre>\n"
      ],
      "text/plain": [
       "Loading Daily data for AAPL with starting period 2023-03-20.\n"
      ]
     },
     "metadata": {},
     "output_type": "display_data"
    },
    {
     "data": {
      "text/html": [
       "<pre style=\"white-space:pre;overflow-x:auto;line-height:normal;font-family:Menlo,'DejaVu Sans Mono',consolas,'Courier New',monospace\">Loading Daily data for AAPL with starting period 2023-03-20.\n",
       "</pre>\n"
      ],
      "text/plain": [
       "Loading Daily data for AAPL with starting period 2023-03-20.\n"
      ]
     },
     "metadata": {},
     "output_type": "display_data"
    },
    {
     "data": {
      "text/html": [
       "<pre style=\"white-space:pre;overflow-x:auto;line-height:normal;font-family:Menlo,'DejaVu Sans Mono',consolas,'Courier New',monospace\">Loading Daily data for AAPL with starting period 2023-03-20.\n",
       "</pre>\n"
      ],
      "text/plain": [
       "Loading Daily data for AAPL with starting period 2023-03-20.\n"
      ]
     },
     "metadata": {},
     "output_type": "display_data"
    },
    {
     "data": {
      "text/html": [
       "<pre style=\"white-space:pre;overflow-x:auto;line-height:normal;font-family:Menlo,'DejaVu Sans Mono',consolas,'Courier New',monospace\">Loading Daily data for AAPL with starting period 2023-03-20.\n",
       "</pre>\n"
      ],
      "text/plain": [
       "Loading Daily data for AAPL with starting period 2023-03-20.\n"
      ]
     },
     "metadata": {},
     "output_type": "display_data"
    },
    {
     "data": {
      "text/html": [
       "<pre style=\"white-space:pre;overflow-x:auto;line-height:normal;font-family:Menlo,'DejaVu Sans Mono',consolas,'Courier New',monospace\">Loading Daily data for AAPL with starting period 2023-03-20.\n",
       "</pre>\n"
      ],
      "text/plain": [
       "Loading Daily data for AAPL with starting period 2023-03-20.\n"
      ]
     },
     "metadata": {},
     "output_type": "display_data"
    },
    {
     "data": {
      "text/html": [
       "<pre style=\"white-space:pre;overflow-x:auto;line-height:normal;font-family:Menlo,'DejaVu Sans Mono',consolas,'Courier New',monospace\">Loading Daily data for AAPL with starting period 2023-03-20.\n",
       "</pre>\n"
      ],
      "text/plain": [
       "Loading Daily data for AAPL with starting period 2023-03-20.\n"
      ]
     },
     "metadata": {},
     "output_type": "display_data"
    },
    {
     "data": {
      "text/html": [
       "<pre style=\"white-space:pre;overflow-x:auto;line-height:normal;font-family:Menlo,'DejaVu Sans Mono',consolas,'Courier New',monospace\">Loading Daily data for AAPL with starting period 2023-03-20.\n",
       "</pre>\n"
      ],
      "text/plain": [
       "Loading Daily data for AAPL with starting period 2023-03-20.\n"
      ]
     },
     "metadata": {},
     "output_type": "display_data"
    },
    {
     "data": {
      "text/html": [
       "<pre style=\"white-space:pre;overflow-x:auto;line-height:normal;font-family:Menlo,'DejaVu Sans Mono',consolas,'Courier New',monospace\">Loading Daily data for AAPL with starting period 2023-03-17.\n",
       "</pre>\n"
      ],
      "text/plain": [
       "Loading Daily data for AAPL with starting period 2023-03-17.\n"
      ]
     },
     "metadata": {},
     "output_type": "display_data"
    },
    {
     "data": {
      "text/html": [
       "<pre style=\"white-space:pre;overflow-x:auto;line-height:normal;font-family:Menlo,'DejaVu Sans Mono',consolas,'Courier New',monospace\">Loading Daily data for AAPL with starting period 2023-03-17.\n",
       "</pre>\n"
      ],
      "text/plain": [
       "Loading Daily data for AAPL with starting period 2023-03-17.\n"
      ]
     },
     "metadata": {},
     "output_type": "display_data"
    },
    {
     "data": {
      "text/html": [
       "<pre style=\"white-space:pre;overflow-x:auto;line-height:normal;font-family:Menlo,'DejaVu Sans Mono',consolas,'Courier New',monospace\">Loading Daily data for AAPL with starting period 2023-03-17.\n",
       "</pre>\n"
      ],
      "text/plain": [
       "Loading Daily data for AAPL with starting period 2023-03-17.\n"
      ]
     },
     "metadata": {},
     "output_type": "display_data"
    },
    {
     "data": {
      "text/html": [
       "<pre style=\"white-space:pre;overflow-x:auto;line-height:normal;font-family:Menlo,'DejaVu Sans Mono',consolas,'Courier New',monospace\">Loading Daily data for AAPL with starting period 2023-03-16.\n",
       "</pre>\n"
      ],
      "text/plain": [
       "Loading Daily data for AAPL with starting period 2023-03-16.\n"
      ]
     },
     "metadata": {},
     "output_type": "display_data"
    },
    {
     "data": {
      "text/html": [
       "<pre style=\"white-space:pre;overflow-x:auto;line-height:normal;font-family:Menlo,'DejaVu Sans Mono',consolas,'Courier New',monospace\">Loading Daily data for AAPL with starting period 2023-03-16.\n",
       "</pre>\n"
      ],
      "text/plain": [
       "Loading Daily data for AAPL with starting period 2023-03-16.\n"
      ]
     },
     "metadata": {},
     "output_type": "display_data"
    },
    {
     "data": {
      "text/html": [
       "<pre style=\"white-space:pre;overflow-x:auto;line-height:normal;font-family:Menlo,'DejaVu Sans Mono',consolas,'Courier New',monospace\">Loading Daily data for AAPL with starting period 2023-03-13.\n",
       "</pre>\n"
      ],
      "text/plain": [
       "Loading Daily data for AAPL with starting period 2023-03-13.\n"
      ]
     },
     "metadata": {},
     "output_type": "display_data"
    },
    {
     "data": {
      "text/html": [
       "<pre style=\"white-space:pre;overflow-x:auto;line-height:normal;font-family:Menlo,'DejaVu Sans Mono',consolas,'Courier New',monospace\">Loading Daily data for AAPL with starting period 2023-03-10.\n",
       "</pre>\n"
      ],
      "text/plain": [
       "Loading Daily data for AAPL with starting period 2023-03-10.\n"
      ]
     },
     "metadata": {},
     "output_type": "display_data"
    },
    {
     "data": {
      "text/html": [
       "<pre style=\"white-space:pre;overflow-x:auto;line-height:normal;font-family:Menlo,'DejaVu Sans Mono',consolas,'Courier New',monospace\">Loading Daily data for AAPL with starting period 2023-03-06.\n",
       "</pre>\n"
      ],
      "text/plain": [
       "Loading Daily data for AAPL with starting period 2023-03-06.\n"
      ]
     },
     "metadata": {},
     "output_type": "display_data"
    },
    {
     "data": {
      "text/html": [
       "<pre style=\"white-space:pre;overflow-x:auto;line-height:normal;font-family:Menlo,'DejaVu Sans Mono',consolas,'Courier New',monospace\">Loading Daily data for AAPL with starting period 2023-03-02.\n",
       "</pre>\n"
      ],
      "text/plain": [
       "Loading Daily data for AAPL with starting period 2023-03-02.\n"
      ]
     },
     "metadata": {},
     "output_type": "display_data"
    },
    {
     "data": {
      "text/html": [
       "<pre style=\"white-space:pre;overflow-x:auto;line-height:normal;font-family:Menlo,'DejaVu Sans Mono',consolas,'Courier New',monospace\">Loading Daily data for AAPL with starting period 2023-02-27.\n",
       "</pre>\n"
      ],
      "text/plain": [
       "Loading Daily data for AAPL with starting period 2023-02-27.\n"
      ]
     },
     "metadata": {},
     "output_type": "display_data"
    },
    {
     "data": {
      "text/html": [
       "<pre style=\"white-space:pre;overflow-x:auto;line-height:normal;font-family:Menlo,'DejaVu Sans Mono',consolas,'Courier New',monospace\">Loading Daily data for AAPL with starting period 2023-02-23.\n",
       "</pre>\n"
      ],
      "text/plain": [
       "Loading Daily data for AAPL with starting period 2023-02-23.\n"
      ]
     },
     "metadata": {},
     "output_type": "display_data"
    },
    {
     "data": {
      "text/html": [
       "<pre style=\"white-space:pre;overflow-x:auto;line-height:normal;font-family:Menlo,'DejaVu Sans Mono',consolas,'Courier New',monospace\">Loading Daily data for AAPL with starting period 2023-02-13.\n",
       "</pre>\n"
      ],
      "text/plain": [
       "Loading Daily data for AAPL with starting period 2023-02-13.\n"
      ]
     },
     "metadata": {},
     "output_type": "display_data"
    },
    {
     "data": {
      "text/html": [
       "<pre style=\"white-space:pre;overflow-x:auto;line-height:normal;font-family:Menlo,'DejaVu Sans Mono',consolas,'Courier New',monospace\">Loading Daily data for AAPL with starting period 2023-02-13.\n",
       "</pre>\n"
      ],
      "text/plain": [
       "Loading Daily data for AAPL with starting period 2023-02-13.\n"
      ]
     },
     "metadata": {},
     "output_type": "display_data"
    },
    {
     "data": {
      "text/html": [
       "<pre style=\"white-space:pre;overflow-x:auto;line-height:normal;font-family:Menlo,'DejaVu Sans Mono',consolas,'Courier New',monospace\">Loading Daily data for AAPL with starting period 2023-02-03.\n",
       "</pre>\n"
      ],
      "text/plain": [
       "Loading Daily data for AAPL with starting period 2023-02-03.\n"
      ]
     },
     "metadata": {},
     "output_type": "display_data"
    },
    {
     "data": {
      "text/html": [
       "<pre style=\"white-space:pre;overflow-x:auto;line-height:normal;font-family:Menlo,'DejaVu Sans Mono',consolas,'Courier New',monospace\">Loading Daily data for AAPL with starting period 2023-02-02.\n",
       "</pre>\n"
      ],
      "text/plain": [
       "Loading Daily data for AAPL with starting period 2023-02-02.\n"
      ]
     },
     "metadata": {},
     "output_type": "display_data"
    },
    {
     "data": {
      "text/html": [
       "<pre style=\"white-space:pre;overflow-x:auto;line-height:normal;font-family:Menlo,'DejaVu Sans Mono',consolas,'Courier New',monospace\">Loading Daily data for AAPL with starting period 2023-01-27.\n",
       "</pre>\n"
      ],
      "text/plain": [
       "Loading Daily data for AAPL with starting period 2023-01-27.\n"
      ]
     },
     "metadata": {},
     "output_type": "display_data"
    },
    {
     "data": {
      "text/html": [
       "<pre style=\"white-space:pre;overflow-x:auto;line-height:normal;font-family:Menlo,'DejaVu Sans Mono',consolas,'Courier New',monospace\">Loading Daily data for AAPL with starting period 2023-01-27.\n",
       "</pre>\n"
      ],
      "text/plain": [
       "Loading Daily data for AAPL with starting period 2023-01-27.\n"
      ]
     },
     "metadata": {},
     "output_type": "display_data"
    },
    {
     "data": {
      "text/html": [
       "<pre style=\"white-space:pre;overflow-x:auto;line-height:normal;font-family:Menlo,'DejaVu Sans Mono',consolas,'Courier New',monospace\">Loading Daily data for AAPL with starting period 2023-01-23.\n",
       "</pre>\n"
      ],
      "text/plain": [
       "Loading Daily data for AAPL with starting period 2023-01-23.\n"
      ]
     },
     "metadata": {},
     "output_type": "display_data"
    },
    {
     "data": {
      "text/html": [
       "<pre style=\"white-space:pre;overflow-x:auto;line-height:normal;font-family:Menlo,'DejaVu Sans Mono',consolas,'Courier New',monospace\">Loading Daily data for AAPL with starting period 2023-01-19.\n",
       "</pre>\n"
      ],
      "text/plain": [
       "Loading Daily data for AAPL with starting period 2023-01-19.\n"
      ]
     },
     "metadata": {},
     "output_type": "display_data"
    },
    {
     "data": {
      "text/html": [
       "<pre style=\"white-space:pre;overflow-x:auto;line-height:normal;font-family:Menlo,'DejaVu Sans Mono',consolas,'Courier New',monospace\">Loading Daily data for AAPL with starting period 2023-01-17.\n",
       "</pre>\n"
      ],
      "text/plain": [
       "Loading Daily data for AAPL with starting period 2023-01-17.\n"
      ]
     },
     "metadata": {},
     "output_type": "display_data"
    },
    {
     "data": {
      "text/html": [
       "<pre style=\"white-space:pre;overflow-x:auto;line-height:normal;font-family:Menlo,'DejaVu Sans Mono',consolas,'Courier New',monospace\">Loading Daily data for AAPL with starting period 2023-01-05.\n",
       "</pre>\n"
      ],
      "text/plain": [
       "Loading Daily data for AAPL with starting period 2023-01-05.\n"
      ]
     },
     "metadata": {},
     "output_type": "display_data"
    },
    {
     "data": {
      "text/html": [
       "<pre style=\"white-space:pre;overflow-x:auto;line-height:normal;font-family:Menlo,'DejaVu Sans Mono',consolas,'Courier New',monospace\">Loading Daily data for AAPL with starting period 2023-01-03.\n",
       "</pre>\n"
      ],
      "text/plain": [
       "Loading Daily data for AAPL with starting period 2023-01-03.\n"
      ]
     },
     "metadata": {},
     "output_type": "display_data"
    },
    {
     "data": {
      "text/html": [
       "<pre style=\"white-space:pre;overflow-x:auto;line-height:normal;font-family:Menlo,'DejaVu Sans Mono',consolas,'Courier New',monospace\">Loading Daily data for AAPL with starting period 2023-01-03.\n",
       "</pre>\n"
      ],
      "text/plain": [
       "Loading Daily data for AAPL with starting period 2023-01-03.\n"
      ]
     },
     "metadata": {},
     "output_type": "display_data"
    },
    {
     "data": {
      "text/html": [
       "<pre style=\"white-space:pre;overflow-x:auto;line-height:normal;font-family:Menlo,'DejaVu Sans Mono',consolas,'Courier New',monospace\">Loading Daily data for AAPL with starting period 2022-11-17.\n",
       "</pre>\n"
      ],
      "text/plain": [
       "Loading Daily data for AAPL with starting period 2022-11-17.\n"
      ]
     },
     "metadata": {},
     "output_type": "display_data"
    },
    {
     "data": {
      "text/html": [
       "<pre style=\"white-space:pre;overflow-x:auto;line-height:normal;font-family:Menlo,'DejaVu Sans Mono',consolas,'Courier New',monospace\">Loading Daily data for AAPL with starting period 2022-10-13.\n",
       "</pre>\n"
      ],
      "text/plain": [
       "Loading Daily data for AAPL with starting period 2022-10-13.\n"
      ]
     },
     "metadata": {},
     "output_type": "display_data"
    },
    {
     "data": {
      "text/html": [
       "<pre style=\"white-space:pre;overflow-x:auto;line-height:normal;font-family:Menlo,'DejaVu Sans Mono',consolas,'Courier New',monospace\">Loading Daily data for MSFT with starting period 2023-04-14.\n",
       "</pre>\n"
      ],
      "text/plain": [
       "Loading Daily data for MSFT with starting period 2023-04-14.\n"
      ]
     },
     "metadata": {},
     "output_type": "display_data"
    },
    {
     "data": {
      "text/html": [
       "<pre style=\"white-space:pre;overflow-x:auto;line-height:normal;font-family:Menlo,'DejaVu Sans Mono',consolas,'Courier New',monospace\">Loading Daily data for MSFT with starting period 2023-04-14.\n",
       "</pre>\n"
      ],
      "text/plain": [
       "Loading Daily data for MSFT with starting period 2023-04-14.\n"
      ]
     },
     "metadata": {},
     "output_type": "display_data"
    },
    {
     "data": {
      "text/html": [
       "<pre style=\"white-space:pre;overflow-x:auto;line-height:normal;font-family:Menlo,'DejaVu Sans Mono',consolas,'Courier New',monospace\">Loading Daily data for MSFT with starting period 2023-04-14.\n",
       "</pre>\n"
      ],
      "text/plain": [
       "Loading Daily data for MSFT with starting period 2023-04-14.\n"
      ]
     },
     "metadata": {},
     "output_type": "display_data"
    },
    {
     "data": {
      "text/html": [
       "<pre style=\"white-space:pre;overflow-x:auto;line-height:normal;font-family:Menlo,'DejaVu Sans Mono',consolas,'Courier New',monospace\">Loading Daily data for MSFT with starting period 2023-04-14.\n",
       "</pre>\n"
      ],
      "text/plain": [
       "Loading Daily data for MSFT with starting period 2023-04-14.\n"
      ]
     },
     "metadata": {},
     "output_type": "display_data"
    },
    {
     "data": {
      "text/html": [
       "<pre style=\"white-space:pre;overflow-x:auto;line-height:normal;font-family:Menlo,'DejaVu Sans Mono',consolas,'Courier New',monospace\">Loading Daily data for MSFT with starting period 2023-04-14.\n",
       "</pre>\n"
      ],
      "text/plain": [
       "Loading Daily data for MSFT with starting period 2023-04-14.\n"
      ]
     },
     "metadata": {},
     "output_type": "display_data"
    },
    {
     "data": {
      "text/html": [
       "<pre style=\"white-space:pre;overflow-x:auto;line-height:normal;font-family:Menlo,'DejaVu Sans Mono',consolas,'Courier New',monospace\">Loading Daily data for MSFT with starting period 2023-04-14.\n",
       "</pre>\n"
      ],
      "text/plain": [
       "Loading Daily data for MSFT with starting period 2023-04-14.\n"
      ]
     },
     "metadata": {},
     "output_type": "display_data"
    },
    {
     "data": {
      "text/html": [
       "<pre style=\"white-space:pre;overflow-x:auto;line-height:normal;font-family:Menlo,'DejaVu Sans Mono',consolas,'Courier New',monospace\">Loading Daily data for MSFT with starting period 2023-04-14.\n",
       "</pre>\n"
      ],
      "text/plain": [
       "Loading Daily data for MSFT with starting period 2023-04-14.\n"
      ]
     },
     "metadata": {},
     "output_type": "display_data"
    },
    {
     "data": {
      "text/html": [
       "<pre style=\"white-space:pre;overflow-x:auto;line-height:normal;font-family:Menlo,'DejaVu Sans Mono',consolas,'Courier New',monospace\">Loading Daily data for MSFT with starting period 2023-04-14.\n",
       "</pre>\n"
      ],
      "text/plain": [
       "Loading Daily data for MSFT with starting period 2023-04-14.\n"
      ]
     },
     "metadata": {},
     "output_type": "display_data"
    },
    {
     "data": {
      "text/html": [
       "<pre style=\"white-space:pre;overflow-x:auto;line-height:normal;font-family:Menlo,'DejaVu Sans Mono',consolas,'Courier New',monospace\">Loading Daily data for MSFT with starting period 2023-04-14.\n",
       "</pre>\n"
      ],
      "text/plain": [
       "Loading Daily data for MSFT with starting period 2023-04-14.\n"
      ]
     },
     "metadata": {},
     "output_type": "display_data"
    },
    {
     "data": {
      "text/html": [
       "<pre style=\"white-space:pre;overflow-x:auto;line-height:normal;font-family:Menlo,'DejaVu Sans Mono',consolas,'Courier New',monospace\">Loading Daily data for MSFT with starting period 2023-04-14.\n",
       "</pre>\n"
      ],
      "text/plain": [
       "Loading Daily data for MSFT with starting period 2023-04-14.\n"
      ]
     },
     "metadata": {},
     "output_type": "display_data"
    },
    {
     "data": {
      "text/html": [
       "<pre style=\"white-space:pre;overflow-x:auto;line-height:normal;font-family:Menlo,'DejaVu Sans Mono',consolas,'Courier New',monospace\">Loading Daily data for MSFT with starting period 2023-04-14.\n",
       "</pre>\n"
      ],
      "text/plain": [
       "Loading Daily data for MSFT with starting period 2023-04-14.\n"
      ]
     },
     "metadata": {},
     "output_type": "display_data"
    },
    {
     "data": {
      "text/html": [
       "<pre style=\"white-space:pre;overflow-x:auto;line-height:normal;font-family:Menlo,'DejaVu Sans Mono',consolas,'Courier New',monospace\">Loading Daily data for MSFT with starting period 2023-04-14.\n",
       "</pre>\n"
      ],
      "text/plain": [
       "Loading Daily data for MSFT with starting period 2023-04-14.\n"
      ]
     },
     "metadata": {},
     "output_type": "display_data"
    },
    {
     "data": {
      "text/html": [
       "<pre style=\"white-space:pre;overflow-x:auto;line-height:normal;font-family:Menlo,'DejaVu Sans Mono',consolas,'Courier New',monospace\">Loading Daily data for MSFT with starting period 2023-04-14.\n",
       "</pre>\n"
      ],
      "text/plain": [
       "Loading Daily data for MSFT with starting period 2023-04-14.\n"
      ]
     },
     "metadata": {},
     "output_type": "display_data"
    },
    {
     "data": {
      "text/html": [
       "<pre style=\"white-space:pre;overflow-x:auto;line-height:normal;font-family:Menlo,'DejaVu Sans Mono',consolas,'Courier New',monospace\">Loading Daily data for MSFT with starting period 2023-04-14.\n",
       "</pre>\n"
      ],
      "text/plain": [
       "Loading Daily data for MSFT with starting period 2023-04-14.\n"
      ]
     },
     "metadata": {},
     "output_type": "display_data"
    },
    {
     "data": {
      "text/html": [
       "<pre style=\"white-space:pre;overflow-x:auto;line-height:normal;font-family:Menlo,'DejaVu Sans Mono',consolas,'Courier New',monospace\">Loading Daily data for MSFT with starting period 2023-04-14.\n",
       "</pre>\n"
      ],
      "text/plain": [
       "Loading Daily data for MSFT with starting period 2023-04-14.\n"
      ]
     },
     "metadata": {},
     "output_type": "display_data"
    },
    {
     "data": {
      "text/html": [
       "<pre style=\"white-space:pre;overflow-x:auto;line-height:normal;font-family:Menlo,'DejaVu Sans Mono',consolas,'Courier New',monospace\">Loading Daily data for MSFT with starting period 2023-04-13.\n",
       "</pre>\n"
      ],
      "text/plain": [
       "Loading Daily data for MSFT with starting period 2023-04-13.\n"
      ]
     },
     "metadata": {},
     "output_type": "display_data"
    },
    {
     "data": {
      "text/html": [
       "<pre style=\"white-space:pre;overflow-x:auto;line-height:normal;font-family:Menlo,'DejaVu Sans Mono',consolas,'Courier New',monospace\">Loading Daily data for MSFT with starting period 2023-04-13.\n",
       "</pre>\n"
      ],
      "text/plain": [
       "Loading Daily data for MSFT with starting period 2023-04-13.\n"
      ]
     },
     "metadata": {},
     "output_type": "display_data"
    },
    {
     "data": {
      "text/html": [
       "<pre style=\"white-space:pre;overflow-x:auto;line-height:normal;font-family:Menlo,'DejaVu Sans Mono',consolas,'Courier New',monospace\">Loading Daily data for MSFT with starting period 2023-04-13.\n",
       "</pre>\n"
      ],
      "text/plain": [
       "Loading Daily data for MSFT with starting period 2023-04-13.\n"
      ]
     },
     "metadata": {},
     "output_type": "display_data"
    },
    {
     "data": {
      "text/html": [
       "<pre style=\"white-space:pre;overflow-x:auto;line-height:normal;font-family:Menlo,'DejaVu Sans Mono',consolas,'Courier New',monospace\">Loading Daily data for MSFT with starting period 2023-04-13.\n",
       "</pre>\n"
      ],
      "text/plain": [
       "Loading Daily data for MSFT with starting period 2023-04-13.\n"
      ]
     },
     "metadata": {},
     "output_type": "display_data"
    },
    {
     "data": {
      "text/html": [
       "<pre style=\"white-space:pre;overflow-x:auto;line-height:normal;font-family:Menlo,'DejaVu Sans Mono',consolas,'Courier New',monospace\">Loading Daily data for MSFT with starting period 2023-04-13.\n",
       "</pre>\n"
      ],
      "text/plain": [
       "Loading Daily data for MSFT with starting period 2023-04-13.\n"
      ]
     },
     "metadata": {},
     "output_type": "display_data"
    },
    {
     "data": {
      "text/html": [
       "<pre style=\"white-space:pre;overflow-x:auto;line-height:normal;font-family:Menlo,'DejaVu Sans Mono',consolas,'Courier New',monospace\">Loading Daily data for MSFT with starting period 2023-04-13.\n",
       "</pre>\n"
      ],
      "text/plain": [
       "Loading Daily data for MSFT with starting period 2023-04-13.\n"
      ]
     },
     "metadata": {},
     "output_type": "display_data"
    },
    {
     "data": {
      "text/html": [
       "<pre style=\"white-space:pre;overflow-x:auto;line-height:normal;font-family:Menlo,'DejaVu Sans Mono',consolas,'Courier New',monospace\">Loading Daily data for MSFT with starting period 2023-04-13.\n",
       "</pre>\n"
      ],
      "text/plain": [
       "Loading Daily data for MSFT with starting period 2023-04-13.\n"
      ]
     },
     "metadata": {},
     "output_type": "display_data"
    },
    {
     "data": {
      "text/html": [
       "<pre style=\"white-space:pre;overflow-x:auto;line-height:normal;font-family:Menlo,'DejaVu Sans Mono',consolas,'Courier New',monospace\">Loading Daily data for MSFT with starting period 2023-04-13.\n",
       "</pre>\n"
      ],
      "text/plain": [
       "Loading Daily data for MSFT with starting period 2023-04-13.\n"
      ]
     },
     "metadata": {},
     "output_type": "display_data"
    },
    {
     "data": {
      "text/html": [
       "<pre style=\"white-space:pre;overflow-x:auto;line-height:normal;font-family:Menlo,'DejaVu Sans Mono',consolas,'Courier New',monospace\">Loading Daily data for MSFT with starting period 2023-04-13.\n",
       "</pre>\n"
      ],
      "text/plain": [
       "Loading Daily data for MSFT with starting period 2023-04-13.\n"
      ]
     },
     "metadata": {},
     "output_type": "display_data"
    },
    {
     "data": {
      "text/html": [
       "<pre style=\"white-space:pre;overflow-x:auto;line-height:normal;font-family:Menlo,'DejaVu Sans Mono',consolas,'Courier New',monospace\">Loading Daily data for MSFT with starting period 2023-04-13.\n",
       "</pre>\n"
      ],
      "text/plain": [
       "Loading Daily data for MSFT with starting period 2023-04-13.\n"
      ]
     },
     "metadata": {},
     "output_type": "display_data"
    },
    {
     "data": {
      "text/html": [
       "<pre style=\"white-space:pre;overflow-x:auto;line-height:normal;font-family:Menlo,'DejaVu Sans Mono',consolas,'Courier New',monospace\">Loading Daily data for MSFT with starting period 2023-04-13.\n",
       "</pre>\n"
      ],
      "text/plain": [
       "Loading Daily data for MSFT with starting period 2023-04-13.\n"
      ]
     },
     "metadata": {},
     "output_type": "display_data"
    },
    {
     "data": {
      "text/html": [
       "<pre style=\"white-space:pre;overflow-x:auto;line-height:normal;font-family:Menlo,'DejaVu Sans Mono',consolas,'Courier New',monospace\">Loading Daily data for MSFT with starting period 2023-04-13.\n",
       "</pre>\n"
      ],
      "text/plain": [
       "Loading Daily data for MSFT with starting period 2023-04-13.\n"
      ]
     },
     "metadata": {},
     "output_type": "display_data"
    },
    {
     "data": {
      "text/html": [
       "<pre style=\"white-space:pre;overflow-x:auto;line-height:normal;font-family:Menlo,'DejaVu Sans Mono',consolas,'Courier New',monospace\">Loading Daily data for MSFT with starting period 2023-04-13.\n",
       "</pre>\n"
      ],
      "text/plain": [
       "Loading Daily data for MSFT with starting period 2023-04-13.\n"
      ]
     },
     "metadata": {},
     "output_type": "display_data"
    },
    {
     "data": {
      "text/html": [
       "<pre style=\"white-space:pre;overflow-x:auto;line-height:normal;font-family:Menlo,'DejaVu Sans Mono',consolas,'Courier New',monospace\">Loading Daily data for MSFT with starting period 2023-04-13.\n",
       "</pre>\n"
      ],
      "text/plain": [
       "Loading Daily data for MSFT with starting period 2023-04-13.\n"
      ]
     },
     "metadata": {},
     "output_type": "display_data"
    },
    {
     "data": {
      "text/html": [
       "<pre style=\"white-space:pre;overflow-x:auto;line-height:normal;font-family:Menlo,'DejaVu Sans Mono',consolas,'Courier New',monospace\">Loading Daily data for MSFT with starting period 2023-04-13.\n",
       "</pre>\n"
      ],
      "text/plain": [
       "Loading Daily data for MSFT with starting period 2023-04-13.\n"
      ]
     },
     "metadata": {},
     "output_type": "display_data"
    },
    {
     "data": {
      "text/html": [
       "<pre style=\"white-space:pre;overflow-x:auto;line-height:normal;font-family:Menlo,'DejaVu Sans Mono',consolas,'Courier New',monospace\">Loading Daily data for MSFT with starting period 2023-04-12.\n",
       "</pre>\n"
      ],
      "text/plain": [
       "Loading Daily data for MSFT with starting period 2023-04-12.\n"
      ]
     },
     "metadata": {},
     "output_type": "display_data"
    },
    {
     "data": {
      "text/html": [
       "<pre style=\"white-space:pre;overflow-x:auto;line-height:normal;font-family:Menlo,'DejaVu Sans Mono',consolas,'Courier New',monospace\">Loading Daily data for MSFT with starting period 2023-04-12.\n",
       "</pre>\n"
      ],
      "text/plain": [
       "Loading Daily data for MSFT with starting period 2023-04-12.\n"
      ]
     },
     "metadata": {},
     "output_type": "display_data"
    },
    {
     "data": {
      "text/html": [
       "<pre style=\"white-space:pre;overflow-x:auto;line-height:normal;font-family:Menlo,'DejaVu Sans Mono',consolas,'Courier New',monospace\">Loading Daily data for MSFT with starting period 2023-04-12.\n",
       "</pre>\n"
      ],
      "text/plain": [
       "Loading Daily data for MSFT with starting period 2023-04-12.\n"
      ]
     },
     "metadata": {},
     "output_type": "display_data"
    },
    {
     "data": {
      "text/html": [
       "<pre style=\"white-space:pre;overflow-x:auto;line-height:normal;font-family:Menlo,'DejaVu Sans Mono',consolas,'Courier New',monospace\">Loading Daily data for MSFT with starting period 2023-04-11.\n",
       "</pre>\n"
      ],
      "text/plain": [
       "Loading Daily data for MSFT with starting period 2023-04-11.\n"
      ]
     },
     "metadata": {},
     "output_type": "display_data"
    },
    {
     "data": {
      "text/html": [
       "<pre style=\"white-space:pre;overflow-x:auto;line-height:normal;font-family:Menlo,'DejaVu Sans Mono',consolas,'Courier New',monospace\">Loading Daily data for MSFT with starting period 2023-04-10.\n",
       "</pre>\n"
      ],
      "text/plain": [
       "Loading Daily data for MSFT with starting period 2023-04-10.\n"
      ]
     },
     "metadata": {},
     "output_type": "display_data"
    },
    {
     "data": {
      "text/html": [
       "<pre style=\"white-space:pre;overflow-x:auto;line-height:normal;font-family:Menlo,'DejaVu Sans Mono',consolas,'Courier New',monospace\">Loading Daily data for MSFT with starting period 2023-04-10.\n",
       "</pre>\n"
      ],
      "text/plain": [
       "Loading Daily data for MSFT with starting period 2023-04-10.\n"
      ]
     },
     "metadata": {},
     "output_type": "display_data"
    },
    {
     "data": {
      "text/html": [
       "<pre style=\"white-space:pre;overflow-x:auto;line-height:normal;font-family:Menlo,'DejaVu Sans Mono',consolas,'Courier New',monospace\">Loading Daily data for MSFT with starting period 2023-04-10.\n",
       "</pre>\n"
      ],
      "text/plain": [
       "Loading Daily data for MSFT with starting period 2023-04-10.\n"
      ]
     },
     "metadata": {},
     "output_type": "display_data"
    },
    {
     "data": {
      "text/html": [
       "<pre style=\"white-space:pre;overflow-x:auto;line-height:normal;font-family:Menlo,'DejaVu Sans Mono',consolas,'Courier New',monospace\">Loading Daily data for MSFT with starting period 2023-04-10.\n",
       "</pre>\n"
      ],
      "text/plain": [
       "Loading Daily data for MSFT with starting period 2023-04-10.\n"
      ]
     },
     "metadata": {},
     "output_type": "display_data"
    },
    {
     "data": {
      "text/html": [
       "<pre style=\"white-space:pre;overflow-x:auto;line-height:normal;font-family:Menlo,'DejaVu Sans Mono',consolas,'Courier New',monospace\">Loading Daily data for MSFT with starting period 2023-04-10.\n",
       "</pre>\n"
      ],
      "text/plain": [
       "Loading Daily data for MSFT with starting period 2023-04-10.\n"
      ]
     },
     "metadata": {},
     "output_type": "display_data"
    },
    {
     "data": {
      "text/html": [
       "<pre style=\"white-space:pre;overflow-x:auto;line-height:normal;font-family:Menlo,'DejaVu Sans Mono',consolas,'Courier New',monospace\">Loading Daily data for MSFT with starting period 2023-04-10.\n",
       "</pre>\n"
      ],
      "text/plain": [
       "Loading Daily data for MSFT with starting period 2023-04-10.\n"
      ]
     },
     "metadata": {},
     "output_type": "display_data"
    },
    {
     "data": {
      "text/html": [
       "<pre style=\"white-space:pre;overflow-x:auto;line-height:normal;font-family:Menlo,'DejaVu Sans Mono',consolas,'Courier New',monospace\">Loading Daily data for MSFT with starting period 2023-04-10.\n",
       "</pre>\n"
      ],
      "text/plain": [
       "Loading Daily data for MSFT with starting period 2023-04-10.\n"
      ]
     },
     "metadata": {},
     "output_type": "display_data"
    },
    {
     "data": {
      "text/html": [
       "<pre style=\"white-space:pre;overflow-x:auto;line-height:normal;font-family:Menlo,'DejaVu Sans Mono',consolas,'Courier New',monospace\">Loading Daily data for MSFT with starting period 2023-04-10.\n",
       "</pre>\n"
      ],
      "text/plain": [
       "Loading Daily data for MSFT with starting period 2023-04-10.\n"
      ]
     },
     "metadata": {},
     "output_type": "display_data"
    },
    {
     "data": {
      "text/html": [
       "<pre style=\"white-space:pre;overflow-x:auto;line-height:normal;font-family:Menlo,'DejaVu Sans Mono',consolas,'Courier New',monospace\">Loading Daily data for MSFT with starting period 2023-04-10.\n",
       "</pre>\n"
      ],
      "text/plain": [
       "Loading Daily data for MSFT with starting period 2023-04-10.\n"
      ]
     },
     "metadata": {},
     "output_type": "display_data"
    },
    {
     "data": {
      "text/html": [
       "<pre style=\"white-space:pre;overflow-x:auto;line-height:normal;font-family:Menlo,'DejaVu Sans Mono',consolas,'Courier New',monospace\">Loading Daily data for MSFT with starting period 2023-04-10.\n",
       "</pre>\n"
      ],
      "text/plain": [
       "Loading Daily data for MSFT with starting period 2023-04-10.\n"
      ]
     },
     "metadata": {},
     "output_type": "display_data"
    },
    {
     "data": {
      "text/html": [
       "<pre style=\"white-space:pre;overflow-x:auto;line-height:normal;font-family:Menlo,'DejaVu Sans Mono',consolas,'Courier New',monospace\">Loading Daily data for MSFT with starting period 2023-04-10.\n",
       "</pre>\n"
      ],
      "text/plain": [
       "Loading Daily data for MSFT with starting period 2023-04-10.\n"
      ]
     },
     "metadata": {},
     "output_type": "display_data"
    },
    {
     "data": {
      "text/html": [
       "<pre style=\"white-space:pre;overflow-x:auto;line-height:normal;font-family:Menlo,'DejaVu Sans Mono',consolas,'Courier New',monospace\">Loading Daily data for MSFT with starting period 2023-04-10.\n",
       "</pre>\n"
      ],
      "text/plain": [
       "Loading Daily data for MSFT with starting period 2023-04-10.\n"
      ]
     },
     "metadata": {},
     "output_type": "display_data"
    },
    {
     "data": {
      "text/html": [
       "<pre style=\"white-space:pre;overflow-x:auto;line-height:normal;font-family:Menlo,'DejaVu Sans Mono',consolas,'Courier New',monospace\">Loading Daily data for MSFT with starting period 2023-04-10.\n",
       "</pre>\n"
      ],
      "text/plain": [
       "Loading Daily data for MSFT with starting period 2023-04-10.\n"
      ]
     },
     "metadata": {},
     "output_type": "display_data"
    },
    {
     "data": {
      "text/html": [
       "<pre style=\"white-space:pre;overflow-x:auto;line-height:normal;font-family:Menlo,'DejaVu Sans Mono',consolas,'Courier New',monospace\">Loading Daily data for MSFT with starting period 2023-04-10.\n",
       "</pre>\n"
      ],
      "text/plain": [
       "Loading Daily data for MSFT with starting period 2023-04-10.\n"
      ]
     },
     "metadata": {},
     "output_type": "display_data"
    },
    {
     "data": {
      "text/html": [
       "<pre style=\"white-space:pre;overflow-x:auto;line-height:normal;font-family:Menlo,'DejaVu Sans Mono',consolas,'Courier New',monospace\">Loading Daily data for MSFT with starting period 2023-04-10.\n",
       "</pre>\n"
      ],
      "text/plain": [
       "Loading Daily data for MSFT with starting period 2023-04-10.\n"
      ]
     },
     "metadata": {},
     "output_type": "display_data"
    },
    {
     "data": {
      "text/html": [
       "<pre style=\"white-space:pre;overflow-x:auto;line-height:normal;font-family:Menlo,'DejaVu Sans Mono',consolas,'Courier New',monospace\">Loading Daily data for MSFT with starting period 2023-04-10.\n",
       "</pre>\n"
      ],
      "text/plain": [
       "Loading Daily data for MSFT with starting period 2023-04-10.\n"
      ]
     },
     "metadata": {},
     "output_type": "display_data"
    },
    {
     "data": {
      "text/html": [
       "<pre style=\"white-space:pre;overflow-x:auto;line-height:normal;font-family:Menlo,'DejaVu Sans Mono',consolas,'Courier New',monospace\">Loading Daily data for MSFT with starting period 2023-04-10.\n",
       "</pre>\n"
      ],
      "text/plain": [
       "Loading Daily data for MSFT with starting period 2023-04-10.\n"
      ]
     },
     "metadata": {},
     "output_type": "display_data"
    },
    {
     "data": {
      "text/html": [
       "<pre style=\"white-space:pre;overflow-x:auto;line-height:normal;font-family:Menlo,'DejaVu Sans Mono',consolas,'Courier New',monospace\">Loading Daily data for MSFT with starting period 2023-04-10.\n",
       "</pre>\n"
      ],
      "text/plain": [
       "Loading Daily data for MSFT with starting period 2023-04-10.\n"
      ]
     },
     "metadata": {},
     "output_type": "display_data"
    },
    {
     "data": {
      "text/html": [
       "<pre style=\"white-space:pre;overflow-x:auto;line-height:normal;font-family:Menlo,'DejaVu Sans Mono',consolas,'Courier New',monospace\">Loading Daily data for MSFT with starting period 2023-04-10.\n",
       "</pre>\n"
      ],
      "text/plain": [
       "Loading Daily data for MSFT with starting period 2023-04-10.\n"
      ]
     },
     "metadata": {},
     "output_type": "display_data"
    },
    {
     "data": {
      "text/html": [
       "<pre style=\"white-space:pre;overflow-x:auto;line-height:normal;font-family:Menlo,'DejaVu Sans Mono',consolas,'Courier New',monospace\">Loading Daily data for MSFT with starting period 2023-04-10.\n",
       "</pre>\n"
      ],
      "text/plain": [
       "Loading Daily data for MSFT with starting period 2023-04-10.\n"
      ]
     },
     "metadata": {},
     "output_type": "display_data"
    },
    {
     "data": {
      "text/html": [
       "<pre style=\"white-space:pre;overflow-x:auto;line-height:normal;font-family:Menlo,'DejaVu Sans Mono',consolas,'Courier New',monospace\">Loading Daily data for MSFT with starting period 2023-04-03.\n",
       "</pre>\n"
      ],
      "text/plain": [
       "Loading Daily data for MSFT with starting period 2023-04-03.\n"
      ]
     },
     "metadata": {},
     "output_type": "display_data"
    },
    {
     "data": {
      "text/html": [
       "<pre style=\"white-space:pre;overflow-x:auto;line-height:normal;font-family:Menlo,'DejaVu Sans Mono',consolas,'Courier New',monospace\">Loading Daily data for MSFT with starting period 2023-04-03.\n",
       "</pre>\n"
      ],
      "text/plain": [
       "Loading Daily data for MSFT with starting period 2023-04-03.\n"
      ]
     },
     "metadata": {},
     "output_type": "display_data"
    },
    {
     "data": {
      "text/html": [
       "<pre style=\"white-space:pre;overflow-x:auto;line-height:normal;font-family:Menlo,'DejaVu Sans Mono',consolas,'Courier New',monospace\">Loading Daily data for MSFT with starting period 2023-04-03.\n",
       "</pre>\n"
      ],
      "text/plain": [
       "Loading Daily data for MSFT with starting period 2023-04-03.\n"
      ]
     },
     "metadata": {},
     "output_type": "display_data"
    },
    {
     "data": {
      "text/html": [
       "<pre style=\"white-space:pre;overflow-x:auto;line-height:normal;font-family:Menlo,'DejaVu Sans Mono',consolas,'Courier New',monospace\">Loading Daily data for MSFT with starting period 2023-04-03.\n",
       "</pre>\n"
      ],
      "text/plain": [
       "Loading Daily data for MSFT with starting period 2023-04-03.\n"
      ]
     },
     "metadata": {},
     "output_type": "display_data"
    },
    {
     "data": {
      "text/html": [
       "<pre style=\"white-space:pre;overflow-x:auto;line-height:normal;font-family:Menlo,'DejaVu Sans Mono',consolas,'Courier New',monospace\">Loading Daily data for MSFT with starting period 2023-04-03.\n",
       "</pre>\n"
      ],
      "text/plain": [
       "Loading Daily data for MSFT with starting period 2023-04-03.\n"
      ]
     },
     "metadata": {},
     "output_type": "display_data"
    },
    {
     "data": {
      "text/html": [
       "<pre style=\"white-space:pre;overflow-x:auto;line-height:normal;font-family:Menlo,'DejaVu Sans Mono',consolas,'Courier New',monospace\">Loading Daily data for MSFT with starting period 2023-03-31.\n",
       "</pre>\n"
      ],
      "text/plain": [
       "Loading Daily data for MSFT with starting period 2023-03-31.\n"
      ]
     },
     "metadata": {},
     "output_type": "display_data"
    },
    {
     "data": {
      "text/html": [
       "<pre style=\"white-space:pre;overflow-x:auto;line-height:normal;font-family:Menlo,'DejaVu Sans Mono',consolas,'Courier New',monospace\">Loading Daily data for MSFT with starting period 2023-03-31.\n",
       "</pre>\n"
      ],
      "text/plain": [
       "Loading Daily data for MSFT with starting period 2023-03-31.\n"
      ]
     },
     "metadata": {},
     "output_type": "display_data"
    },
    {
     "data": {
      "text/html": [
       "<pre style=\"white-space:pre;overflow-x:auto;line-height:normal;font-family:Menlo,'DejaVu Sans Mono',consolas,'Courier New',monospace\">Loading Daily data for MSFT with starting period 2023-03-31.\n",
       "</pre>\n"
      ],
      "text/plain": [
       "Loading Daily data for MSFT with starting period 2023-03-31.\n"
      ]
     },
     "metadata": {},
     "output_type": "display_data"
    },
    {
     "data": {
      "text/html": [
       "<pre style=\"white-space:pre;overflow-x:auto;line-height:normal;font-family:Menlo,'DejaVu Sans Mono',consolas,'Courier New',monospace\">Loading Daily data for MSFT with starting period 2023-03-30.\n",
       "</pre>\n"
      ],
      "text/plain": [
       "Loading Daily data for MSFT with starting period 2023-03-30.\n"
      ]
     },
     "metadata": {},
     "output_type": "display_data"
    },
    {
     "data": {
      "text/html": [
       "<pre style=\"white-space:pre;overflow-x:auto;line-height:normal;font-family:Menlo,'DejaVu Sans Mono',consolas,'Courier New',monospace\">Loading Daily data for MSFT with starting period 2023-03-30.\n",
       "</pre>\n"
      ],
      "text/plain": [
       "Loading Daily data for MSFT with starting period 2023-03-30.\n"
      ]
     },
     "metadata": {},
     "output_type": "display_data"
    },
    {
     "data": {
      "text/html": [
       "<pre style=\"white-space:pre;overflow-x:auto;line-height:normal;font-family:Menlo,'DejaVu Sans Mono',consolas,'Courier New',monospace\">Loading Daily data for MSFT with starting period 2023-03-30.\n",
       "</pre>\n"
      ],
      "text/plain": [
       "Loading Daily data for MSFT with starting period 2023-03-30.\n"
      ]
     },
     "metadata": {},
     "output_type": "display_data"
    },
    {
     "data": {
      "text/html": [
       "<pre style=\"white-space:pre;overflow-x:auto;line-height:normal;font-family:Menlo,'DejaVu Sans Mono',consolas,'Courier New',monospace\">Loading Daily data for MSFT with starting period 2023-03-27.\n",
       "</pre>\n"
      ],
      "text/plain": [
       "Loading Daily data for MSFT with starting period 2023-03-27.\n"
      ]
     },
     "metadata": {},
     "output_type": "display_data"
    },
    {
     "data": {
      "text/html": [
       "<pre style=\"white-space:pre;overflow-x:auto;line-height:normal;font-family:Menlo,'DejaVu Sans Mono',consolas,'Courier New',monospace\">Loading Daily data for MSFT with starting period 2023-03-27.\n",
       "</pre>\n"
      ],
      "text/plain": [
       "Loading Daily data for MSFT with starting period 2023-03-27.\n"
      ]
     },
     "metadata": {},
     "output_type": "display_data"
    },
    {
     "data": {
      "text/html": [
       "<pre style=\"white-space:pre;overflow-x:auto;line-height:normal;font-family:Menlo,'DejaVu Sans Mono',consolas,'Courier New',monospace\">Loading Daily data for MSFT with starting period 2023-03-27.\n",
       "</pre>\n"
      ],
      "text/plain": [
       "Loading Daily data for MSFT with starting period 2023-03-27.\n"
      ]
     },
     "metadata": {},
     "output_type": "display_data"
    },
    {
     "data": {
      "text/html": [
       "<pre style=\"white-space:pre;overflow-x:auto;line-height:normal;font-family:Menlo,'DejaVu Sans Mono',consolas,'Courier New',monospace\">Loading Daily data for MSFT with starting period 2023-03-27.\n",
       "</pre>\n"
      ],
      "text/plain": [
       "Loading Daily data for MSFT with starting period 2023-03-27.\n"
      ]
     },
     "metadata": {},
     "output_type": "display_data"
    },
    {
     "data": {
      "text/html": [
       "<pre style=\"white-space:pre;overflow-x:auto;line-height:normal;font-family:Menlo,'DejaVu Sans Mono',consolas,'Courier New',monospace\">Loading Daily data for MSFT with starting period 2023-03-27.\n",
       "</pre>\n"
      ],
      "text/plain": [
       "Loading Daily data for MSFT with starting period 2023-03-27.\n"
      ]
     },
     "metadata": {},
     "output_type": "display_data"
    },
    {
     "data": {
      "text/html": [
       "<pre style=\"white-space:pre;overflow-x:auto;line-height:normal;font-family:Menlo,'DejaVu Sans Mono',consolas,'Courier New',monospace\">Loading Daily data for MSFT with starting period 2023-03-27.\n",
       "</pre>\n"
      ],
      "text/plain": [
       "Loading Daily data for MSFT with starting period 2023-03-27.\n"
      ]
     },
     "metadata": {},
     "output_type": "display_data"
    },
    {
     "data": {
      "text/html": [
       "<pre style=\"white-space:pre;overflow-x:auto;line-height:normal;font-family:Menlo,'DejaVu Sans Mono',consolas,'Courier New',monospace\">Loading Daily data for MSFT with starting period 2023-03-27.\n",
       "</pre>\n"
      ],
      "text/plain": [
       "Loading Daily data for MSFT with starting period 2023-03-27.\n"
      ]
     },
     "metadata": {},
     "output_type": "display_data"
    },
    {
     "data": {
      "text/html": [
       "<pre style=\"white-space:pre;overflow-x:auto;line-height:normal;font-family:Menlo,'DejaVu Sans Mono',consolas,'Courier New',monospace\">Loading Daily data for MSFT with starting period 2023-03-27.\n",
       "</pre>\n"
      ],
      "text/plain": [
       "Loading Daily data for MSFT with starting period 2023-03-27.\n"
      ]
     },
     "metadata": {},
     "output_type": "display_data"
    },
    {
     "data": {
      "text/html": [
       "<pre style=\"white-space:pre;overflow-x:auto;line-height:normal;font-family:Menlo,'DejaVu Sans Mono',consolas,'Courier New',monospace\">Loading Daily data for MSFT with starting period 2023-03-27.\n",
       "</pre>\n"
      ],
      "text/plain": [
       "Loading Daily data for MSFT with starting period 2023-03-27.\n"
      ]
     },
     "metadata": {},
     "output_type": "display_data"
    },
    {
     "data": {
      "text/html": [
       "<pre style=\"white-space:pre;overflow-x:auto;line-height:normal;font-family:Menlo,'DejaVu Sans Mono',consolas,'Courier New',monospace\">Loading Daily data for MSFT with starting period 2023-03-24.\n",
       "</pre>\n"
      ],
      "text/plain": [
       "Loading Daily data for MSFT with starting period 2023-03-24.\n"
      ]
     },
     "metadata": {},
     "output_type": "display_data"
    },
    {
     "data": {
      "text/html": [
       "<pre style=\"white-space:pre;overflow-x:auto;line-height:normal;font-family:Menlo,'DejaVu Sans Mono',consolas,'Courier New',monospace\">Loading Daily data for MSFT with starting period 2023-03-24.\n",
       "</pre>\n"
      ],
      "text/plain": [
       "Loading Daily data for MSFT with starting period 2023-03-24.\n"
      ]
     },
     "metadata": {},
     "output_type": "display_data"
    },
    {
     "data": {
      "text/html": [
       "<pre style=\"white-space:pre;overflow-x:auto;line-height:normal;font-family:Menlo,'DejaVu Sans Mono',consolas,'Courier New',monospace\">Loading Daily data for MSFT with starting period 2023-03-24.\n",
       "</pre>\n"
      ],
      "text/plain": [
       "Loading Daily data for MSFT with starting period 2023-03-24.\n"
      ]
     },
     "metadata": {},
     "output_type": "display_data"
    },
    {
     "data": {
      "text/html": [
       "<pre style=\"white-space:pre;overflow-x:auto;line-height:normal;font-family:Menlo,'DejaVu Sans Mono',consolas,'Courier New',monospace\">Loading Daily data for MSFT with starting period 2023-03-23.\n",
       "</pre>\n"
      ],
      "text/plain": [
       "Loading Daily data for MSFT with starting period 2023-03-23.\n"
      ]
     },
     "metadata": {},
     "output_type": "display_data"
    },
    {
     "data": {
      "text/html": [
       "<pre style=\"white-space:pre;overflow-x:auto;line-height:normal;font-family:Menlo,'DejaVu Sans Mono',consolas,'Courier New',monospace\">Loading Daily data for MSFT with starting period 2023-03-23.\n",
       "</pre>\n"
      ],
      "text/plain": [
       "Loading Daily data for MSFT with starting period 2023-03-23.\n"
      ]
     },
     "metadata": {},
     "output_type": "display_data"
    },
    {
     "data": {
      "text/html": [
       "<pre style=\"white-space:pre;overflow-x:auto;line-height:normal;font-family:Menlo,'DejaVu Sans Mono',consolas,'Courier New',monospace\">Loading Daily data for MSFT with starting period 2023-03-22.\n",
       "</pre>\n"
      ],
      "text/plain": [
       "Loading Daily data for MSFT with starting period 2023-03-22.\n"
      ]
     },
     "metadata": {},
     "output_type": "display_data"
    },
    {
     "data": {
      "text/html": [
       "<pre style=\"white-space:pre;overflow-x:auto;line-height:normal;font-family:Menlo,'DejaVu Sans Mono',consolas,'Courier New',monospace\">Loading Daily data for MSFT with starting period 2023-03-20.\n",
       "</pre>\n"
      ],
      "text/plain": [
       "Loading Daily data for MSFT with starting period 2023-03-20.\n"
      ]
     },
     "metadata": {},
     "output_type": "display_data"
    },
    {
     "data": {
      "text/html": [
       "<pre style=\"white-space:pre;overflow-x:auto;line-height:normal;font-family:Menlo,'DejaVu Sans Mono',consolas,'Courier New',monospace\">Loading Daily data for MSFT with starting period 2023-03-20.\n",
       "</pre>\n"
      ],
      "text/plain": [
       "Loading Daily data for MSFT with starting period 2023-03-20.\n"
      ]
     },
     "metadata": {},
     "output_type": "display_data"
    },
    {
     "data": {
      "text/html": [
       "<pre style=\"white-space:pre;overflow-x:auto;line-height:normal;font-family:Menlo,'DejaVu Sans Mono',consolas,'Courier New',monospace\">Loading Daily data for MSFT with starting period 2023-03-20.\n",
       "</pre>\n"
      ],
      "text/plain": [
       "Loading Daily data for MSFT with starting period 2023-03-20.\n"
      ]
     },
     "metadata": {},
     "output_type": "display_data"
    },
    {
     "data": {
      "text/html": [
       "<pre style=\"white-space:pre;overflow-x:auto;line-height:normal;font-family:Menlo,'DejaVu Sans Mono',consolas,'Courier New',monospace\">Loading Daily data for MSFT with starting period 2023-03-20.\n",
       "</pre>\n"
      ],
      "text/plain": [
       "Loading Daily data for MSFT with starting period 2023-03-20.\n"
      ]
     },
     "metadata": {},
     "output_type": "display_data"
    },
    {
     "data": {
      "text/html": [
       "<pre style=\"white-space:pre;overflow-x:auto;line-height:normal;font-family:Menlo,'DejaVu Sans Mono',consolas,'Courier New',monospace\">Loading Daily data for MSFT with starting period 2023-03-20.\n",
       "</pre>\n"
      ],
      "text/plain": [
       "Loading Daily data for MSFT with starting period 2023-03-20.\n"
      ]
     },
     "metadata": {},
     "output_type": "display_data"
    },
    {
     "data": {
      "text/html": [
       "<pre style=\"white-space:pre;overflow-x:auto;line-height:normal;font-family:Menlo,'DejaVu Sans Mono',consolas,'Courier New',monospace\">Loading Daily data for MSFT with starting period 2023-03-20.\n",
       "</pre>\n"
      ],
      "text/plain": [
       "Loading Daily data for MSFT with starting period 2023-03-20.\n"
      ]
     },
     "metadata": {},
     "output_type": "display_data"
    },
    {
     "data": {
      "text/html": [
       "<pre style=\"white-space:pre;overflow-x:auto;line-height:normal;font-family:Menlo,'DejaVu Sans Mono',consolas,'Courier New',monospace\">Loading Daily data for MSFT with starting period 2023-03-20.\n",
       "</pre>\n"
      ],
      "text/plain": [
       "Loading Daily data for MSFT with starting period 2023-03-20.\n"
      ]
     },
     "metadata": {},
     "output_type": "display_data"
    },
    {
     "data": {
      "text/html": [
       "<pre style=\"white-space:pre;overflow-x:auto;line-height:normal;font-family:Menlo,'DejaVu Sans Mono',consolas,'Courier New',monospace\">Loading Daily data for MSFT with starting period 2023-03-20.\n",
       "</pre>\n"
      ],
      "text/plain": [
       "Loading Daily data for MSFT with starting period 2023-03-20.\n"
      ]
     },
     "metadata": {},
     "output_type": "display_data"
    },
    {
     "data": {
      "text/html": [
       "<pre style=\"white-space:pre;overflow-x:auto;line-height:normal;font-family:Menlo,'DejaVu Sans Mono',consolas,'Courier New',monospace\">Loading Daily data for MSFT with starting period 2023-03-20.\n",
       "</pre>\n"
      ],
      "text/plain": [
       "Loading Daily data for MSFT with starting period 2023-03-20.\n"
      ]
     },
     "metadata": {},
     "output_type": "display_data"
    },
    {
     "data": {
      "text/html": [
       "<pre style=\"white-space:pre;overflow-x:auto;line-height:normal;font-family:Menlo,'DejaVu Sans Mono',consolas,'Courier New',monospace\">Loading Daily data for MSFT with starting period 2023-03-20.\n",
       "</pre>\n"
      ],
      "text/plain": [
       "Loading Daily data for MSFT with starting period 2023-03-20.\n"
      ]
     },
     "metadata": {},
     "output_type": "display_data"
    },
    {
     "data": {
      "text/html": [
       "<pre style=\"white-space:pre;overflow-x:auto;line-height:normal;font-family:Menlo,'DejaVu Sans Mono',consolas,'Courier New',monospace\">Loading Daily data for MSFT with starting period 2023-03-17.\n",
       "</pre>\n"
      ],
      "text/plain": [
       "Loading Daily data for MSFT with starting period 2023-03-17.\n"
      ]
     },
     "metadata": {},
     "output_type": "display_data"
    },
    {
     "data": {
      "text/html": [
       "<pre style=\"white-space:pre;overflow-x:auto;line-height:normal;font-family:Menlo,'DejaVu Sans Mono',consolas,'Courier New',monospace\">Loading Daily data for MSFT with starting period 2023-03-17.\n",
       "</pre>\n"
      ],
      "text/plain": [
       "Loading Daily data for MSFT with starting period 2023-03-17.\n"
      ]
     },
     "metadata": {},
     "output_type": "display_data"
    },
    {
     "data": {
      "text/html": [
       "<pre style=\"white-space:pre;overflow-x:auto;line-height:normal;font-family:Menlo,'DejaVu Sans Mono',consolas,'Courier New',monospace\">Loading Daily data for MSFT with starting period 2023-03-17.\n",
       "</pre>\n"
      ],
      "text/plain": [
       "Loading Daily data for MSFT with starting period 2023-03-17.\n"
      ]
     },
     "metadata": {},
     "output_type": "display_data"
    },
    {
     "data": {
      "text/html": [
       "<pre style=\"white-space:pre;overflow-x:auto;line-height:normal;font-family:Menlo,'DejaVu Sans Mono',consolas,'Courier New',monospace\">Loading Daily data for MSFT with starting period 2023-03-16.\n",
       "</pre>\n"
      ],
      "text/plain": [
       "Loading Daily data for MSFT with starting period 2023-03-16.\n"
      ]
     },
     "metadata": {},
     "output_type": "display_data"
    },
    {
     "data": {
      "text/html": [
       "<pre style=\"white-space:pre;overflow-x:auto;line-height:normal;font-family:Menlo,'DejaVu Sans Mono',consolas,'Courier New',monospace\">Loading Daily data for MSFT with starting period 2023-03-16.\n",
       "</pre>\n"
      ],
      "text/plain": [
       "Loading Daily data for MSFT with starting period 2023-03-16.\n"
      ]
     },
     "metadata": {},
     "output_type": "display_data"
    },
    {
     "data": {
      "text/html": [
       "<pre style=\"white-space:pre;overflow-x:auto;line-height:normal;font-family:Menlo,'DejaVu Sans Mono',consolas,'Courier New',monospace\">Loading Daily data for MSFT with starting period 2023-03-16.\n",
       "</pre>\n"
      ],
      "text/plain": [
       "Loading Daily data for MSFT with starting period 2023-03-16.\n"
      ]
     },
     "metadata": {},
     "output_type": "display_data"
    },
    {
     "data": {
      "text/html": [
       "<pre style=\"white-space:pre;overflow-x:auto;line-height:normal;font-family:Menlo,'DejaVu Sans Mono',consolas,'Courier New',monospace\">Loading Daily data for MSFT with starting period 2023-03-16.\n",
       "</pre>\n"
      ],
      "text/plain": [
       "Loading Daily data for MSFT with starting period 2023-03-16.\n"
      ]
     },
     "metadata": {},
     "output_type": "display_data"
    },
    {
     "data": {
      "text/html": [
       "<pre style=\"white-space:pre;overflow-x:auto;line-height:normal;font-family:Menlo,'DejaVu Sans Mono',consolas,'Courier New',monospace\">Loading Daily data for MSFT with starting period 2023-03-09.\n",
       "</pre>\n"
      ],
      "text/plain": [
       "Loading Daily data for MSFT with starting period 2023-03-09.\n"
      ]
     },
     "metadata": {},
     "output_type": "display_data"
    },
    {
     "data": {
      "text/html": [
       "<pre style=\"white-space:pre;overflow-x:auto;line-height:normal;font-family:Menlo,'DejaVu Sans Mono',consolas,'Courier New',monospace\">Loading Daily data for MSFT with starting period 2023-02-13.\n",
       "</pre>\n"
      ],
      "text/plain": [
       "Loading Daily data for MSFT with starting period 2023-02-13.\n"
      ]
     },
     "metadata": {},
     "output_type": "display_data"
    },
    {
     "data": {
      "text/html": [
       "<pre style=\"white-space:pre;overflow-x:auto;line-height:normal;font-family:Menlo,'DejaVu Sans Mono',consolas,'Courier New',monospace\">Loading Daily data for MSFT with starting period 2023-01-30.\n",
       "</pre>\n"
      ],
      "text/plain": [
       "Loading Daily data for MSFT with starting period 2023-01-30.\n"
      ]
     },
     "metadata": {},
     "output_type": "display_data"
    },
    {
     "data": {
      "text/html": [
       "<pre style=\"white-space:pre;overflow-x:auto;line-height:normal;font-family:Menlo,'DejaVu Sans Mono',consolas,'Courier New',monospace\">Loading Daily data for GOOG with starting period 2023-04-14.\n",
       "</pre>\n"
      ],
      "text/plain": [
       "Loading Daily data for GOOG with starting period 2023-04-14.\n"
      ]
     },
     "metadata": {},
     "output_type": "display_data"
    },
    {
     "data": {
      "text/html": [
       "<pre style=\"white-space:pre;overflow-x:auto;line-height:normal;font-family:Menlo,'DejaVu Sans Mono',consolas,'Courier New',monospace\">Loading Daily data for GOOG with starting period 2023-04-14.\n",
       "</pre>\n"
      ],
      "text/plain": [
       "Loading Daily data for GOOG with starting period 2023-04-14.\n"
      ]
     },
     "metadata": {},
     "output_type": "display_data"
    },
    {
     "data": {
      "text/html": [
       "<pre style=\"white-space:pre;overflow-x:auto;line-height:normal;font-family:Menlo,'DejaVu Sans Mono',consolas,'Courier New',monospace\">Loading Daily data for GOOG with starting period 2023-04-14.\n",
       "</pre>\n"
      ],
      "text/plain": [
       "Loading Daily data for GOOG with starting period 2023-04-14.\n"
      ]
     },
     "metadata": {},
     "output_type": "display_data"
    },
    {
     "data": {
      "text/html": [
       "<pre style=\"white-space:pre;overflow-x:auto;line-height:normal;font-family:Menlo,'DejaVu Sans Mono',consolas,'Courier New',monospace\">Loading Daily data for GOOG with starting period 2023-04-14.\n",
       "</pre>\n"
      ],
      "text/plain": [
       "Loading Daily data for GOOG with starting period 2023-04-14.\n"
      ]
     },
     "metadata": {},
     "output_type": "display_data"
    },
    {
     "data": {
      "text/html": [
       "<pre style=\"white-space:pre;overflow-x:auto;line-height:normal;font-family:Menlo,'DejaVu Sans Mono',consolas,'Courier New',monospace\">Loading Daily data for GOOG with starting period 2023-04-14.\n",
       "</pre>\n"
      ],
      "text/plain": [
       "Loading Daily data for GOOG with starting period 2023-04-14.\n"
      ]
     },
     "metadata": {},
     "output_type": "display_data"
    },
    {
     "data": {
      "text/html": [
       "<pre style=\"white-space:pre;overflow-x:auto;line-height:normal;font-family:Menlo,'DejaVu Sans Mono',consolas,'Courier New',monospace\">Loading Daily data for GOOG with starting period 2023-04-14.\n",
       "</pre>\n"
      ],
      "text/plain": [
       "Loading Daily data for GOOG with starting period 2023-04-14.\n"
      ]
     },
     "metadata": {},
     "output_type": "display_data"
    },
    {
     "data": {
      "text/html": [
       "<pre style=\"white-space:pre;overflow-x:auto;line-height:normal;font-family:Menlo,'DejaVu Sans Mono',consolas,'Courier New',monospace\">Loading Daily data for GOOG with starting period 2023-04-14.\n",
       "</pre>\n"
      ],
      "text/plain": [
       "Loading Daily data for GOOG with starting period 2023-04-14.\n"
      ]
     },
     "metadata": {},
     "output_type": "display_data"
    },
    {
     "data": {
      "text/html": [
       "<pre style=\"white-space:pre;overflow-x:auto;line-height:normal;font-family:Menlo,'DejaVu Sans Mono',consolas,'Courier New',monospace\">Loading Daily data for GOOG with starting period 2023-04-14.\n",
       "</pre>\n"
      ],
      "text/plain": [
       "Loading Daily data for GOOG with starting period 2023-04-14.\n"
      ]
     },
     "metadata": {},
     "output_type": "display_data"
    },
    {
     "data": {
      "text/html": [
       "<pre style=\"white-space:pre;overflow-x:auto;line-height:normal;font-family:Menlo,'DejaVu Sans Mono',consolas,'Courier New',monospace\">Loading Daily data for GOOG with starting period 2023-04-14.\n",
       "</pre>\n"
      ],
      "text/plain": [
       "Loading Daily data for GOOG with starting period 2023-04-14.\n"
      ]
     },
     "metadata": {},
     "output_type": "display_data"
    },
    {
     "data": {
      "text/html": [
       "<pre style=\"white-space:pre;overflow-x:auto;line-height:normal;font-family:Menlo,'DejaVu Sans Mono',consolas,'Courier New',monospace\">Loading Daily data for GOOG with starting period 2023-04-14.\n",
       "</pre>\n"
      ],
      "text/plain": [
       "Loading Daily data for GOOG with starting period 2023-04-14.\n"
      ]
     },
     "metadata": {},
     "output_type": "display_data"
    },
    {
     "data": {
      "text/html": [
       "<pre style=\"white-space:pre;overflow-x:auto;line-height:normal;font-family:Menlo,'DejaVu Sans Mono',consolas,'Courier New',monospace\">Loading Daily data for GOOG with starting period 2023-04-14.\n",
       "</pre>\n"
      ],
      "text/plain": [
       "Loading Daily data for GOOG with starting period 2023-04-14.\n"
      ]
     },
     "metadata": {},
     "output_type": "display_data"
    },
    {
     "data": {
      "text/html": [
       "<pre style=\"white-space:pre;overflow-x:auto;line-height:normal;font-family:Menlo,'DejaVu Sans Mono',consolas,'Courier New',monospace\">Loading Daily data for GOOG with starting period 2023-04-13.\n",
       "</pre>\n"
      ],
      "text/plain": [
       "Loading Daily data for GOOG with starting period 2023-04-13.\n"
      ]
     },
     "metadata": {},
     "output_type": "display_data"
    },
    {
     "data": {
      "text/html": [
       "<pre style=\"white-space:pre;overflow-x:auto;line-height:normal;font-family:Menlo,'DejaVu Sans Mono',consolas,'Courier New',monospace\">Loading Daily data for GOOG with starting period 2023-04-13.\n",
       "</pre>\n"
      ],
      "text/plain": [
       "Loading Daily data for GOOG with starting period 2023-04-13.\n"
      ]
     },
     "metadata": {},
     "output_type": "display_data"
    },
    {
     "data": {
      "text/html": [
       "<pre style=\"white-space:pre;overflow-x:auto;line-height:normal;font-family:Menlo,'DejaVu Sans Mono',consolas,'Courier New',monospace\">Loading Daily data for GOOG with starting period 2023-04-13.\n",
       "</pre>\n"
      ],
      "text/plain": [
       "Loading Daily data for GOOG with starting period 2023-04-13.\n"
      ]
     },
     "metadata": {},
     "output_type": "display_data"
    },
    {
     "data": {
      "text/html": [
       "<pre style=\"white-space:pre;overflow-x:auto;line-height:normal;font-family:Menlo,'DejaVu Sans Mono',consolas,'Courier New',monospace\">Loading Daily data for GOOG with starting period 2023-04-13.\n",
       "</pre>\n"
      ],
      "text/plain": [
       "Loading Daily data for GOOG with starting period 2023-04-13.\n"
      ]
     },
     "metadata": {},
     "output_type": "display_data"
    },
    {
     "data": {
      "text/html": [
       "<pre style=\"white-space:pre;overflow-x:auto;line-height:normal;font-family:Menlo,'DejaVu Sans Mono',consolas,'Courier New',monospace\">Loading Daily data for GOOG with starting period 2023-04-13.\n",
       "</pre>\n"
      ],
      "text/plain": [
       "Loading Daily data for GOOG with starting period 2023-04-13.\n"
      ]
     },
     "metadata": {},
     "output_type": "display_data"
    },
    {
     "data": {
      "text/html": [
       "<pre style=\"white-space:pre;overflow-x:auto;line-height:normal;font-family:Menlo,'DejaVu Sans Mono',consolas,'Courier New',monospace\">Loading Daily data for GOOG with starting period 2023-04-13.\n",
       "</pre>\n"
      ],
      "text/plain": [
       "Loading Daily data for GOOG with starting period 2023-04-13.\n"
      ]
     },
     "metadata": {},
     "output_type": "display_data"
    },
    {
     "data": {
      "text/html": [
       "<pre style=\"white-space:pre;overflow-x:auto;line-height:normal;font-family:Menlo,'DejaVu Sans Mono',consolas,'Courier New',monospace\">Loading Daily data for GOOG with starting period 2023-04-13.\n",
       "</pre>\n"
      ],
      "text/plain": [
       "Loading Daily data for GOOG with starting period 2023-04-13.\n"
      ]
     },
     "metadata": {},
     "output_type": "display_data"
    },
    {
     "data": {
      "text/html": [
       "<pre style=\"white-space:pre;overflow-x:auto;line-height:normal;font-family:Menlo,'DejaVu Sans Mono',consolas,'Courier New',monospace\">Loading Daily data for GOOG with starting period 2023-04-13.\n",
       "</pre>\n"
      ],
      "text/plain": [
       "Loading Daily data for GOOG with starting period 2023-04-13.\n"
      ]
     },
     "metadata": {},
     "output_type": "display_data"
    },
    {
     "data": {
      "text/html": [
       "<pre style=\"white-space:pre;overflow-x:auto;line-height:normal;font-family:Menlo,'DejaVu Sans Mono',consolas,'Courier New',monospace\">Loading Daily data for GOOG with starting period 2023-04-13.\n",
       "</pre>\n"
      ],
      "text/plain": [
       "Loading Daily data for GOOG with starting period 2023-04-13.\n"
      ]
     },
     "metadata": {},
     "output_type": "display_data"
    },
    {
     "data": {
      "text/html": [
       "<pre style=\"white-space:pre;overflow-x:auto;line-height:normal;font-family:Menlo,'DejaVu Sans Mono',consolas,'Courier New',monospace\">Loading Daily data for GOOG with starting period 2023-04-13.\n",
       "</pre>\n"
      ],
      "text/plain": [
       "Loading Daily data for GOOG with starting period 2023-04-13.\n"
      ]
     },
     "metadata": {},
     "output_type": "display_data"
    },
    {
     "data": {
      "text/html": [
       "<pre style=\"white-space:pre;overflow-x:auto;line-height:normal;font-family:Menlo,'DejaVu Sans Mono',consolas,'Courier New',monospace\">Loading Daily data for GOOG with starting period 2023-04-12.\n",
       "</pre>\n"
      ],
      "text/plain": [
       "Loading Daily data for GOOG with starting period 2023-04-12.\n"
      ]
     },
     "metadata": {},
     "output_type": "display_data"
    },
    {
     "data": {
      "text/html": [
       "<pre style=\"white-space:pre;overflow-x:auto;line-height:normal;font-family:Menlo,'DejaVu Sans Mono',consolas,'Courier New',monospace\">Loading Daily data for GOOG with starting period 2023-04-12.\n",
       "</pre>\n"
      ],
      "text/plain": [
       "Loading Daily data for GOOG with starting period 2023-04-12.\n"
      ]
     },
     "metadata": {},
     "output_type": "display_data"
    },
    {
     "data": {
      "text/html": [
       "<pre style=\"white-space:pre;overflow-x:auto;line-height:normal;font-family:Menlo,'DejaVu Sans Mono',consolas,'Courier New',monospace\">Loading Daily data for GOOG with starting period 2023-04-12.\n",
       "</pre>\n"
      ],
      "text/plain": [
       "Loading Daily data for GOOG with starting period 2023-04-12.\n"
      ]
     },
     "metadata": {},
     "output_type": "display_data"
    },
    {
     "data": {
      "text/html": [
       "<pre style=\"white-space:pre;overflow-x:auto;line-height:normal;font-family:Menlo,'DejaVu Sans Mono',consolas,'Courier New',monospace\">Loading Daily data for GOOG with starting period 2023-04-10.\n",
       "</pre>\n"
      ],
      "text/plain": [
       "Loading Daily data for GOOG with starting period 2023-04-10.\n"
      ]
     },
     "metadata": {},
     "output_type": "display_data"
    },
    {
     "data": {
      "text/html": [
       "<pre style=\"white-space:pre;overflow-x:auto;line-height:normal;font-family:Menlo,'DejaVu Sans Mono',consolas,'Courier New',monospace\">Loading Daily data for GOOG with starting period 2023-04-10.\n",
       "</pre>\n"
      ],
      "text/plain": [
       "Loading Daily data for GOOG with starting period 2023-04-10.\n"
      ]
     },
     "metadata": {},
     "output_type": "display_data"
    },
    {
     "data": {
      "text/html": [
       "<pre style=\"white-space:pre;overflow-x:auto;line-height:normal;font-family:Menlo,'DejaVu Sans Mono',consolas,'Courier New',monospace\">Loading Daily data for GOOG with starting period 2023-04-10.\n",
       "</pre>\n"
      ],
      "text/plain": [
       "Loading Daily data for GOOG with starting period 2023-04-10.\n"
      ]
     },
     "metadata": {},
     "output_type": "display_data"
    },
    {
     "data": {
      "text/html": [
       "<pre style=\"white-space:pre;overflow-x:auto;line-height:normal;font-family:Menlo,'DejaVu Sans Mono',consolas,'Courier New',monospace\">Loading Daily data for GOOG with starting period 2023-04-10.\n",
       "</pre>\n"
      ],
      "text/plain": [
       "Loading Daily data for GOOG with starting period 2023-04-10.\n"
      ]
     },
     "metadata": {},
     "output_type": "display_data"
    },
    {
     "data": {
      "text/html": [
       "<pre style=\"white-space:pre;overflow-x:auto;line-height:normal;font-family:Menlo,'DejaVu Sans Mono',consolas,'Courier New',monospace\">Loading Daily data for GOOG with starting period 2023-04-10.\n",
       "</pre>\n"
      ],
      "text/plain": [
       "Loading Daily data for GOOG with starting period 2023-04-10.\n"
      ]
     },
     "metadata": {},
     "output_type": "display_data"
    },
    {
     "data": {
      "text/html": [
       "<pre style=\"white-space:pre;overflow-x:auto;line-height:normal;font-family:Menlo,'DejaVu Sans Mono',consolas,'Courier New',monospace\">Loading Daily data for GOOG with starting period 2023-04-10.\n",
       "</pre>\n"
      ],
      "text/plain": [
       "Loading Daily data for GOOG with starting period 2023-04-10.\n"
      ]
     },
     "metadata": {},
     "output_type": "display_data"
    },
    {
     "data": {
      "text/html": [
       "<pre style=\"white-space:pre;overflow-x:auto;line-height:normal;font-family:Menlo,'DejaVu Sans Mono',consolas,'Courier New',monospace\">Loading Daily data for GOOG with starting period 2023-04-10.\n",
       "</pre>\n"
      ],
      "text/plain": [
       "Loading Daily data for GOOG with starting period 2023-04-10.\n"
      ]
     },
     "metadata": {},
     "output_type": "display_data"
    },
    {
     "data": {
      "text/html": [
       "<pre style=\"white-space:pre;overflow-x:auto;line-height:normal;font-family:Menlo,'DejaVu Sans Mono',consolas,'Courier New',monospace\">Loading Daily data for GOOG with starting period 2023-04-10.\n",
       "</pre>\n"
      ],
      "text/plain": [
       "Loading Daily data for GOOG with starting period 2023-04-10.\n"
      ]
     },
     "metadata": {},
     "output_type": "display_data"
    },
    {
     "data": {
      "text/html": [
       "<pre style=\"white-space:pre;overflow-x:auto;line-height:normal;font-family:Menlo,'DejaVu Sans Mono',consolas,'Courier New',monospace\">Loading Daily data for GOOG with starting period 2023-04-10.\n",
       "</pre>\n"
      ],
      "text/plain": [
       "Loading Daily data for GOOG with starting period 2023-04-10.\n"
      ]
     },
     "metadata": {},
     "output_type": "display_data"
    },
    {
     "data": {
      "text/html": [
       "<pre style=\"white-space:pre;overflow-x:auto;line-height:normal;font-family:Menlo,'DejaVu Sans Mono',consolas,'Courier New',monospace\">Loading Daily data for GOOG with starting period 2023-04-10.\n",
       "</pre>\n"
      ],
      "text/plain": [
       "Loading Daily data for GOOG with starting period 2023-04-10.\n"
      ]
     },
     "metadata": {},
     "output_type": "display_data"
    },
    {
     "data": {
      "text/html": [
       "<pre style=\"white-space:pre;overflow-x:auto;line-height:normal;font-family:Menlo,'DejaVu Sans Mono',consolas,'Courier New',monospace\">Loading Daily data for GOOG with starting period 2023-04-10.\n",
       "</pre>\n"
      ],
      "text/plain": [
       "Loading Daily data for GOOG with starting period 2023-04-10.\n"
      ]
     },
     "metadata": {},
     "output_type": "display_data"
    },
    {
     "data": {
      "text/html": [
       "<pre style=\"white-space:pre;overflow-x:auto;line-height:normal;font-family:Menlo,'DejaVu Sans Mono',consolas,'Courier New',monospace\">Loading Daily data for GOOG with starting period 2023-04-10.\n",
       "</pre>\n"
      ],
      "text/plain": [
       "Loading Daily data for GOOG with starting period 2023-04-10.\n"
      ]
     },
     "metadata": {},
     "output_type": "display_data"
    },
    {
     "data": {
      "text/html": [
       "<pre style=\"white-space:pre;overflow-x:auto;line-height:normal;font-family:Menlo,'DejaVu Sans Mono',consolas,'Courier New',monospace\">Loading Daily data for GOOG with starting period 2023-04-10.\n",
       "</pre>\n"
      ],
      "text/plain": [
       "Loading Daily data for GOOG with starting period 2023-04-10.\n"
      ]
     },
     "metadata": {},
     "output_type": "display_data"
    },
    {
     "data": {
      "text/html": [
       "<pre style=\"white-space:pre;overflow-x:auto;line-height:normal;font-family:Menlo,'DejaVu Sans Mono',consolas,'Courier New',monospace\">Loading Daily data for GOOG with starting period 2023-04-10.\n",
       "</pre>\n"
      ],
      "text/plain": [
       "Loading Daily data for GOOG with starting period 2023-04-10.\n"
      ]
     },
     "metadata": {},
     "output_type": "display_data"
    },
    {
     "data": {
      "text/html": [
       "<pre style=\"white-space:pre;overflow-x:auto;line-height:normal;font-family:Menlo,'DejaVu Sans Mono',consolas,'Courier New',monospace\">Loading Daily data for GOOG with starting period 2023-04-06.\n",
       "</pre>\n"
      ],
      "text/plain": [
       "Loading Daily data for GOOG with starting period 2023-04-06.\n"
      ]
     },
     "metadata": {},
     "output_type": "display_data"
    },
    {
     "data": {
      "text/html": [
       "<pre style=\"white-space:pre;overflow-x:auto;line-height:normal;font-family:Menlo,'DejaVu Sans Mono',consolas,'Courier New',monospace\">Loading Daily data for GOOG with starting period 2023-04-03.\n",
       "</pre>\n"
      ],
      "text/plain": [
       "Loading Daily data for GOOG with starting period 2023-04-03.\n"
      ]
     },
     "metadata": {},
     "output_type": "display_data"
    },
    {
     "data": {
      "text/html": [
       "<pre style=\"white-space:pre;overflow-x:auto;line-height:normal;font-family:Menlo,'DejaVu Sans Mono',consolas,'Courier New',monospace\">Loading Daily data for GOOG with starting period 2023-04-03.\n",
       "</pre>\n"
      ],
      "text/plain": [
       "Loading Daily data for GOOG with starting period 2023-04-03.\n"
      ]
     },
     "metadata": {},
     "output_type": "display_data"
    },
    {
     "data": {
      "text/html": [
       "<pre style=\"white-space:pre;overflow-x:auto;line-height:normal;font-family:Menlo,'DejaVu Sans Mono',consolas,'Courier New',monospace\">Loading Daily data for GOOG with starting period 2023-04-03.\n",
       "</pre>\n"
      ],
      "text/plain": [
       "Loading Daily data for GOOG with starting period 2023-04-03.\n"
      ]
     },
     "metadata": {},
     "output_type": "display_data"
    },
    {
     "data": {
      "text/html": [
       "<pre style=\"white-space:pre;overflow-x:auto;line-height:normal;font-family:Menlo,'DejaVu Sans Mono',consolas,'Courier New',monospace\">Loading Daily data for GOOG with starting period 2023-04-03.\n",
       "</pre>\n"
      ],
      "text/plain": [
       "Loading Daily data for GOOG with starting period 2023-04-03.\n"
      ]
     },
     "metadata": {},
     "output_type": "display_data"
    },
    {
     "data": {
      "text/html": [
       "<pre style=\"white-space:pre;overflow-x:auto;line-height:normal;font-family:Menlo,'DejaVu Sans Mono',consolas,'Courier New',monospace\">Loading Daily data for GOOG with starting period 2023-04-03.\n",
       "</pre>\n"
      ],
      "text/plain": [
       "Loading Daily data for GOOG with starting period 2023-04-03.\n"
      ]
     },
     "metadata": {},
     "output_type": "display_data"
    },
    {
     "data": {
      "text/html": [
       "<pre style=\"white-space:pre;overflow-x:auto;line-height:normal;font-family:Menlo,'DejaVu Sans Mono',consolas,'Courier New',monospace\">Loading Daily data for GOOG with starting period 2023-04-03.\n",
       "</pre>\n"
      ],
      "text/plain": [
       "Loading Daily data for GOOG with starting period 2023-04-03.\n"
      ]
     },
     "metadata": {},
     "output_type": "display_data"
    },
    {
     "data": {
      "text/html": [
       "<pre style=\"white-space:pre;overflow-x:auto;line-height:normal;font-family:Menlo,'DejaVu Sans Mono',consolas,'Courier New',monospace\">Loading Daily data for GOOG with starting period 2023-04-03.\n",
       "</pre>\n"
      ],
      "text/plain": [
       "Loading Daily data for GOOG with starting period 2023-04-03.\n"
      ]
     },
     "metadata": {},
     "output_type": "display_data"
    },
    {
     "data": {
      "text/html": [
       "<pre style=\"white-space:pre;overflow-x:auto;line-height:normal;font-family:Menlo,'DejaVu Sans Mono',consolas,'Courier New',monospace\">Loading Daily data for GOOG with starting period 2023-04-03.\n",
       "</pre>\n"
      ],
      "text/plain": [
       "Loading Daily data for GOOG with starting period 2023-04-03.\n"
      ]
     },
     "metadata": {},
     "output_type": "display_data"
    },
    {
     "data": {
      "text/html": [
       "<pre style=\"white-space:pre;overflow-x:auto;line-height:normal;font-family:Menlo,'DejaVu Sans Mono',consolas,'Courier New',monospace\">Loading Daily data for GOOG with starting period 2023-04-03.\n",
       "</pre>\n"
      ],
      "text/plain": [
       "Loading Daily data for GOOG with starting period 2023-04-03.\n"
      ]
     },
     "metadata": {},
     "output_type": "display_data"
    },
    {
     "data": {
      "text/html": [
       "<pre style=\"white-space:pre;overflow-x:auto;line-height:normal;font-family:Menlo,'DejaVu Sans Mono',consolas,'Courier New',monospace\">Loading Daily data for GOOG with starting period 2023-03-31.\n",
       "</pre>\n"
      ],
      "text/plain": [
       "Loading Daily data for GOOG with starting period 2023-03-31.\n"
      ]
     },
     "metadata": {},
     "output_type": "display_data"
    },
    {
     "data": {
      "text/html": [
       "<pre style=\"white-space:pre;overflow-x:auto;line-height:normal;font-family:Menlo,'DejaVu Sans Mono',consolas,'Courier New',monospace\">Loading Daily data for GOOG with starting period 2023-03-31.\n",
       "</pre>\n"
      ],
      "text/plain": [
       "Loading Daily data for GOOG with starting period 2023-03-31.\n"
      ]
     },
     "metadata": {},
     "output_type": "display_data"
    },
    {
     "data": {
      "text/html": [
       "<pre style=\"white-space:pre;overflow-x:auto;line-height:normal;font-family:Menlo,'DejaVu Sans Mono',consolas,'Courier New',monospace\">Loading Daily data for GOOG with starting period 2023-03-31.\n",
       "</pre>\n"
      ],
      "text/plain": [
       "Loading Daily data for GOOG with starting period 2023-03-31.\n"
      ]
     },
     "metadata": {},
     "output_type": "display_data"
    },
    {
     "data": {
      "text/html": [
       "<pre style=\"white-space:pre;overflow-x:auto;line-height:normal;font-family:Menlo,'DejaVu Sans Mono',consolas,'Courier New',monospace\">Loading Daily data for GOOG with starting period 2023-03-30.\n",
       "</pre>\n"
      ],
      "text/plain": [
       "Loading Daily data for GOOG with starting period 2023-03-30.\n"
      ]
     },
     "metadata": {},
     "output_type": "display_data"
    },
    {
     "data": {
      "text/html": [
       "<pre style=\"white-space:pre;overflow-x:auto;line-height:normal;font-family:Menlo,'DejaVu Sans Mono',consolas,'Courier New',monospace\">Loading Daily data for GOOG with starting period 2023-03-30.\n",
       "</pre>\n"
      ],
      "text/plain": [
       "Loading Daily data for GOOG with starting period 2023-03-30.\n"
      ]
     },
     "metadata": {},
     "output_type": "display_data"
    },
    {
     "data": {
      "text/html": [
       "<pre style=\"white-space:pre;overflow-x:auto;line-height:normal;font-family:Menlo,'DejaVu Sans Mono',consolas,'Courier New',monospace\">Loading Daily data for GOOG with starting period 2023-03-30.\n",
       "</pre>\n"
      ],
      "text/plain": [
       "Loading Daily data for GOOG with starting period 2023-03-30.\n"
      ]
     },
     "metadata": {},
     "output_type": "display_data"
    },
    {
     "data": {
      "text/html": [
       "<pre style=\"white-space:pre;overflow-x:auto;line-height:normal;font-family:Menlo,'DejaVu Sans Mono',consolas,'Courier New',monospace\">Loading Daily data for GOOG with starting period 2023-03-30.\n",
       "</pre>\n"
      ],
      "text/plain": [
       "Loading Daily data for GOOG with starting period 2023-03-30.\n"
      ]
     },
     "metadata": {},
     "output_type": "display_data"
    },
    {
     "data": {
      "text/html": [
       "<pre style=\"white-space:pre;overflow-x:auto;line-height:normal;font-family:Menlo,'DejaVu Sans Mono',consolas,'Courier New',monospace\">Loading Daily data for GOOG with starting period 2023-03-29.\n",
       "</pre>\n"
      ],
      "text/plain": [
       "Loading Daily data for GOOG with starting period 2023-03-29.\n"
      ]
     },
     "metadata": {},
     "output_type": "display_data"
    },
    {
     "data": {
      "text/html": [
       "<pre style=\"white-space:pre;overflow-x:auto;line-height:normal;font-family:Menlo,'DejaVu Sans Mono',consolas,'Courier New',monospace\">Loading Daily data for GOOG with starting period 2023-03-27.\n",
       "</pre>\n"
      ],
      "text/plain": [
       "Loading Daily data for GOOG with starting period 2023-03-27.\n"
      ]
     },
     "metadata": {},
     "output_type": "display_data"
    },
    {
     "data": {
      "text/html": [
       "<pre style=\"white-space:pre;overflow-x:auto;line-height:normal;font-family:Menlo,'DejaVu Sans Mono',consolas,'Courier New',monospace\">Loading Daily data for GOOG with starting period 2023-03-27.\n",
       "</pre>\n"
      ],
      "text/plain": [
       "Loading Daily data for GOOG with starting period 2023-03-27.\n"
      ]
     },
     "metadata": {},
     "output_type": "display_data"
    },
    {
     "data": {
      "text/html": [
       "<pre style=\"white-space:pre;overflow-x:auto;line-height:normal;font-family:Menlo,'DejaVu Sans Mono',consolas,'Courier New',monospace\">Loading Daily data for GOOG with starting period 2023-03-27.\n",
       "</pre>\n"
      ],
      "text/plain": [
       "Loading Daily data for GOOG with starting period 2023-03-27.\n"
      ]
     },
     "metadata": {},
     "output_type": "display_data"
    },
    {
     "data": {
      "text/html": [
       "<pre style=\"white-space:pre;overflow-x:auto;line-height:normal;font-family:Menlo,'DejaVu Sans Mono',consolas,'Courier New',monospace\">Loading Daily data for GOOG with starting period 2023-03-27.\n",
       "</pre>\n"
      ],
      "text/plain": [
       "Loading Daily data for GOOG with starting period 2023-03-27.\n"
      ]
     },
     "metadata": {},
     "output_type": "display_data"
    },
    {
     "data": {
      "text/html": [
       "<pre style=\"white-space:pre;overflow-x:auto;line-height:normal;font-family:Menlo,'DejaVu Sans Mono',consolas,'Courier New',monospace\">Loading Daily data for GOOG with starting period 2023-03-24.\n",
       "</pre>\n"
      ],
      "text/plain": [
       "Loading Daily data for GOOG with starting period 2023-03-24.\n"
      ]
     },
     "metadata": {},
     "output_type": "display_data"
    },
    {
     "data": {
      "text/html": [
       "<pre style=\"white-space:pre;overflow-x:auto;line-height:normal;font-family:Menlo,'DejaVu Sans Mono',consolas,'Courier New',monospace\">Loading Daily data for GOOG with starting period 2023-03-23.\n",
       "</pre>\n"
      ],
      "text/plain": [
       "Loading Daily data for GOOG with starting period 2023-03-23.\n"
      ]
     },
     "metadata": {},
     "output_type": "display_data"
    },
    {
     "data": {
      "text/html": [
       "<pre style=\"white-space:pre;overflow-x:auto;line-height:normal;font-family:Menlo,'DejaVu Sans Mono',consolas,'Courier New',monospace\">Loading Daily data for GOOG with starting period 2023-03-23.\n",
       "</pre>\n"
      ],
      "text/plain": [
       "Loading Daily data for GOOG with starting period 2023-03-23.\n"
      ]
     },
     "metadata": {},
     "output_type": "display_data"
    },
    {
     "data": {
      "text/html": [
       "<pre style=\"white-space:pre;overflow-x:auto;line-height:normal;font-family:Menlo,'DejaVu Sans Mono',consolas,'Courier New',monospace\">Loading Daily data for GOOG with starting period 2023-03-22.\n",
       "</pre>\n"
      ],
      "text/plain": [
       "Loading Daily data for GOOG with starting period 2023-03-22.\n"
      ]
     },
     "metadata": {},
     "output_type": "display_data"
    },
    {
     "data": {
      "text/html": [
       "<pre style=\"white-space:pre;overflow-x:auto;line-height:normal;font-family:Menlo,'DejaVu Sans Mono',consolas,'Courier New',monospace\">Loading Daily data for GOOG with starting period 2023-03-20.\n",
       "</pre>\n"
      ],
      "text/plain": [
       "Loading Daily data for GOOG with starting period 2023-03-20.\n"
      ]
     },
     "metadata": {},
     "output_type": "display_data"
    },
    {
     "data": {
      "text/html": [
       "<pre style=\"white-space:pre;overflow-x:auto;line-height:normal;font-family:Menlo,'DejaVu Sans Mono',consolas,'Courier New',monospace\">Loading Daily data for GOOG with starting period 2023-03-20.\n",
       "</pre>\n"
      ],
      "text/plain": [
       "Loading Daily data for GOOG with starting period 2023-03-20.\n"
      ]
     },
     "metadata": {},
     "output_type": "display_data"
    },
    {
     "data": {
      "text/html": [
       "<pre style=\"white-space:pre;overflow-x:auto;line-height:normal;font-family:Menlo,'DejaVu Sans Mono',consolas,'Courier New',monospace\">Loading Daily data for GOOG with starting period 2023-03-20.\n",
       "</pre>\n"
      ],
      "text/plain": [
       "Loading Daily data for GOOG with starting period 2023-03-20.\n"
      ]
     },
     "metadata": {},
     "output_type": "display_data"
    },
    {
     "data": {
      "text/html": [
       "<pre style=\"white-space:pre;overflow-x:auto;line-height:normal;font-family:Menlo,'DejaVu Sans Mono',consolas,'Courier New',monospace\">Loading Daily data for GOOG with starting period 2023-03-20.\n",
       "</pre>\n"
      ],
      "text/plain": [
       "Loading Daily data for GOOG with starting period 2023-03-20.\n"
      ]
     },
     "metadata": {},
     "output_type": "display_data"
    },
    {
     "data": {
      "text/html": [
       "<pre style=\"white-space:pre;overflow-x:auto;line-height:normal;font-family:Menlo,'DejaVu Sans Mono',consolas,'Courier New',monospace\">Loading Daily data for GOOG with starting period 2023-03-20.\n",
       "</pre>\n"
      ],
      "text/plain": [
       "Loading Daily data for GOOG with starting period 2023-03-20.\n"
      ]
     },
     "metadata": {},
     "output_type": "display_data"
    },
    {
     "data": {
      "text/html": [
       "<pre style=\"white-space:pre;overflow-x:auto;line-height:normal;font-family:Menlo,'DejaVu Sans Mono',consolas,'Courier New',monospace\">Loading Daily data for GOOG with starting period 2023-03-20.\n",
       "</pre>\n"
      ],
      "text/plain": [
       "Loading Daily data for GOOG with starting period 2023-03-20.\n"
      ]
     },
     "metadata": {},
     "output_type": "display_data"
    },
    {
     "data": {
      "text/html": [
       "<pre style=\"white-space:pre;overflow-x:auto;line-height:normal;font-family:Menlo,'DejaVu Sans Mono',consolas,'Courier New',monospace\">Loading Daily data for GOOG with starting period 2023-03-17.\n",
       "</pre>\n"
      ],
      "text/plain": [
       "Loading Daily data for GOOG with starting period 2023-03-17.\n"
      ]
     },
     "metadata": {},
     "output_type": "display_data"
    },
    {
     "data": {
      "text/html": [
       "<pre style=\"white-space:pre;overflow-x:auto;line-height:normal;font-family:Menlo,'DejaVu Sans Mono',consolas,'Courier New',monospace\">Loading Daily data for GOOG with starting period 2023-03-17.\n",
       "</pre>\n"
      ],
      "text/plain": [
       "Loading Daily data for GOOG with starting period 2023-03-17.\n"
      ]
     },
     "metadata": {},
     "output_type": "display_data"
    },
    {
     "data": {
      "text/html": [
       "<pre style=\"white-space:pre;overflow-x:auto;line-height:normal;font-family:Menlo,'DejaVu Sans Mono',consolas,'Courier New',monospace\">Loading Daily data for GOOG with starting period 2023-03-17.\n",
       "</pre>\n"
      ],
      "text/plain": [
       "Loading Daily data for GOOG with starting period 2023-03-17.\n"
      ]
     },
     "metadata": {},
     "output_type": "display_data"
    },
    {
     "data": {
      "text/html": [
       "<pre style=\"white-space:pre;overflow-x:auto;line-height:normal;font-family:Menlo,'DejaVu Sans Mono',consolas,'Courier New',monospace\">Loading Daily data for GOOG with starting period 2023-03-16.\n",
       "</pre>\n"
      ],
      "text/plain": [
       "Loading Daily data for GOOG with starting period 2023-03-16.\n"
      ]
     },
     "metadata": {},
     "output_type": "display_data"
    },
    {
     "data": {
      "text/html": [
       "<pre style=\"white-space:pre;overflow-x:auto;line-height:normal;font-family:Menlo,'DejaVu Sans Mono',consolas,'Courier New',monospace\">Loading Daily data for GOOG with starting period 2023-03-16.\n",
       "</pre>\n"
      ],
      "text/plain": [
       "Loading Daily data for GOOG with starting period 2023-03-16.\n"
      ]
     },
     "metadata": {},
     "output_type": "display_data"
    },
    {
     "data": {
      "text/html": [
       "<pre style=\"white-space:pre;overflow-x:auto;line-height:normal;font-family:Menlo,'DejaVu Sans Mono',consolas,'Courier New',monospace\">Loading Daily data for GOOG with starting period 2023-03-15.\n",
       "</pre>\n"
      ],
      "text/plain": [
       "Loading Daily data for GOOG with starting period 2023-03-15.\n"
      ]
     },
     "metadata": {},
     "output_type": "display_data"
    },
    {
     "data": {
      "text/html": [
       "<pre style=\"white-space:pre;overflow-x:auto;line-height:normal;font-family:Menlo,'DejaVu Sans Mono',consolas,'Courier New',monospace\">Loading Daily data for GOOG with starting period 2023-03-06.\n",
       "</pre>\n"
      ],
      "text/plain": [
       "Loading Daily data for GOOG with starting period 2023-03-06.\n"
      ]
     },
     "metadata": {},
     "output_type": "display_data"
    },
    {
     "data": {
      "text/html": [
       "<pre style=\"white-space:pre;overflow-x:auto;line-height:normal;font-family:Menlo,'DejaVu Sans Mono',consolas,'Courier New',monospace\">Loading Daily data for GOOG with starting period 2023-03-02.\n",
       "</pre>\n"
      ],
      "text/plain": [
       "Loading Daily data for GOOG with starting period 2023-03-02.\n"
      ]
     },
     "metadata": {},
     "output_type": "display_data"
    },
    {
     "data": {
      "text/html": [
       "<pre style=\"white-space:pre;overflow-x:auto;line-height:normal;font-family:Menlo,'DejaVu Sans Mono',consolas,'Courier New',monospace\">Loading Daily data for GOOG with starting period 2023-02-27.\n",
       "</pre>\n"
      ],
      "text/plain": [
       "Loading Daily data for GOOG with starting period 2023-02-27.\n"
      ]
     },
     "metadata": {},
     "output_type": "display_data"
    },
    {
     "data": {
      "text/html": [
       "<pre style=\"white-space:pre;overflow-x:auto;line-height:normal;font-family:Menlo,'DejaVu Sans Mono',consolas,'Courier New',monospace\">Loading Daily data for GOOG with starting period 2023-02-27.\n",
       "</pre>\n"
      ],
      "text/plain": [
       "Loading Daily data for GOOG with starting period 2023-02-27.\n"
      ]
     },
     "metadata": {},
     "output_type": "display_data"
    },
    {
     "data": {
      "text/html": [
       "<pre style=\"white-space:pre;overflow-x:auto;line-height:normal;font-family:Menlo,'DejaVu Sans Mono',consolas,'Courier New',monospace\">Loading Daily data for GOOG with starting period 2023-02-23.\n",
       "</pre>\n"
      ],
      "text/plain": [
       "Loading Daily data for GOOG with starting period 2023-02-23.\n"
      ]
     },
     "metadata": {},
     "output_type": "display_data"
    },
    {
     "data": {
      "text/html": [
       "<pre style=\"white-space:pre;overflow-x:auto;line-height:normal;font-family:Menlo,'DejaVu Sans Mono',consolas,'Courier New',monospace\">Loading Daily data for GOOG with starting period 2023-02-21.\n",
       "</pre>\n"
      ],
      "text/plain": [
       "Loading Daily data for GOOG with starting period 2023-02-21.\n"
      ]
     },
     "metadata": {},
     "output_type": "display_data"
    },
    {
     "data": {
      "text/html": [
       "<pre style=\"white-space:pre;overflow-x:auto;line-height:normal;font-family:Menlo,'DejaVu Sans Mono',consolas,'Courier New',monospace\">Loading Daily data for GOOG with starting period 2023-02-21.\n",
       "</pre>\n"
      ],
      "text/plain": [
       "Loading Daily data for GOOG with starting period 2023-02-21.\n"
      ]
     },
     "metadata": {},
     "output_type": "display_data"
    },
    {
     "data": {
      "text/html": [
       "<pre style=\"white-space:pre;overflow-x:auto;line-height:normal;font-family:Menlo,'DejaVu Sans Mono',consolas,'Courier New',monospace\">Loading Daily data for GOOG with starting period 2023-02-13.\n",
       "</pre>\n"
      ],
      "text/plain": [
       "Loading Daily data for GOOG with starting period 2023-02-13.\n"
      ]
     },
     "metadata": {},
     "output_type": "display_data"
    },
    {
     "data": {
      "text/html": [
       "<pre style=\"white-space:pre;overflow-x:auto;line-height:normal;font-family:Menlo,'DejaVu Sans Mono',consolas,'Courier New',monospace\">Loading Daily data for GOOG with starting period 2023-02-09.\n",
       "</pre>\n"
      ],
      "text/plain": [
       "Loading Daily data for GOOG with starting period 2023-02-09.\n"
      ]
     },
     "metadata": {},
     "output_type": "display_data"
    },
    {
     "data": {
      "text/html": [
       "<pre style=\"white-space:pre;overflow-x:auto;line-height:normal;font-family:Menlo,'DejaVu Sans Mono',consolas,'Courier New',monospace\">Loading Daily data for GOOG with starting period 2023-02-06.\n",
       "</pre>\n"
      ],
      "text/plain": [
       "Loading Daily data for GOOG with starting period 2023-02-06.\n"
      ]
     },
     "metadata": {},
     "output_type": "display_data"
    },
    {
     "data": {
      "text/html": [
       "<pre style=\"white-space:pre;overflow-x:auto;line-height:normal;font-family:Menlo,'DejaVu Sans Mono',consolas,'Courier New',monospace\">Loading Daily data for GOOG with starting period 2023-02-02.\n",
       "</pre>\n"
      ],
      "text/plain": [
       "Loading Daily data for GOOG with starting period 2023-02-02.\n"
      ]
     },
     "metadata": {},
     "output_type": "display_data"
    },
    {
     "data": {
      "text/html": [
       "<pre style=\"white-space:pre;overflow-x:auto;line-height:normal;font-family:Menlo,'DejaVu Sans Mono',consolas,'Courier New',monospace\">Loading Daily data for GOOG with starting period 2023-01-30.\n",
       "</pre>\n"
      ],
      "text/plain": [
       "Loading Daily data for GOOG with starting period 2023-01-30.\n"
      ]
     },
     "metadata": {},
     "output_type": "display_data"
    },
    {
     "data": {
      "text/html": [
       "<pre style=\"white-space:pre;overflow-x:auto;line-height:normal;font-family:Menlo,'DejaVu Sans Mono',consolas,'Courier New',monospace\">Loading Daily data for GOOG with starting period 2023-01-26.\n",
       "</pre>\n"
      ],
      "text/plain": [
       "Loading Daily data for GOOG with starting period 2023-01-26.\n"
      ]
     },
     "metadata": {},
     "output_type": "display_data"
    },
    {
     "data": {
      "text/html": [
       "<pre style=\"white-space:pre;overflow-x:auto;line-height:normal;font-family:Menlo,'DejaVu Sans Mono',consolas,'Courier New',monospace\">Loading Daily data for GOOG with starting period 2023-01-26.\n",
       "</pre>\n"
      ],
      "text/plain": [
       "Loading Daily data for GOOG with starting period 2023-01-26.\n"
      ]
     },
     "metadata": {},
     "output_type": "display_data"
    },
    {
     "data": {
      "text/html": [
       "<pre style=\"white-space:pre;overflow-x:auto;line-height:normal;font-family:Menlo,'DejaVu Sans Mono',consolas,'Courier New',monospace\">Loading Daily data for GOOG with starting period 2023-01-13.\n",
       "</pre>\n"
      ],
      "text/plain": [
       "Loading Daily data for GOOG with starting period 2023-01-13.\n"
      ]
     },
     "metadata": {},
     "output_type": "display_data"
    },
    {
     "data": {
      "text/html": [
       "<pre style=\"white-space:pre;overflow-x:auto;line-height:normal;font-family:Menlo,'DejaVu Sans Mono',consolas,'Courier New',monospace\">Loading Daily data for GOOG with starting period 2023-01-03.\n",
       "</pre>\n"
      ],
      "text/plain": [
       "Loading Daily data for GOOG with starting period 2023-01-03.\n"
      ]
     },
     "metadata": {},
     "output_type": "display_data"
    },
    {
     "data": {
      "text/html": [
       "<pre style=\"white-space:pre;overflow-x:auto;line-height:normal;font-family:Menlo,'DejaVu Sans Mono',consolas,'Courier New',monospace\">Loading Daily data for GOOG with starting period 2022-12-19.\n",
       "</pre>\n"
      ],
      "text/plain": [
       "Loading Daily data for GOOG with starting period 2022-12-19.\n"
      ]
     },
     "metadata": {},
     "output_type": "display_data"
    },
    {
     "data": {
      "text/html": [
       "<pre style=\"white-space:pre;overflow-x:auto;line-height:normal;font-family:Menlo,'DejaVu Sans Mono',consolas,'Courier New',monospace\">Loading Daily data for GOOG with starting period 2022-12-08.\n",
       "</pre>\n"
      ],
      "text/plain": [
       "Loading Daily data for GOOG with starting period 2022-12-08.\n"
      ]
     },
     "metadata": {},
     "output_type": "display_data"
    },
    {
     "data": {
      "text/html": [
       "<pre style=\"white-space:pre;overflow-x:auto;line-height:normal;font-family:Menlo,'DejaVu Sans Mono',consolas,'Courier New',monospace\">Loading Daily data for GOOG with starting period 2022-11-21.\n",
       "</pre>\n"
      ],
      "text/plain": [
       "Loading Daily data for GOOG with starting period 2022-11-21.\n"
      ]
     },
     "metadata": {},
     "output_type": "display_data"
    },
    {
     "data": {
      "text/html": [
       "<pre style=\"white-space:pre;overflow-x:auto;line-height:normal;font-family:Menlo,'DejaVu Sans Mono',consolas,'Courier New',monospace\">Loading Daily data for GOOG with starting period 2022-11-07.\n",
       "</pre>\n"
      ],
      "text/plain": [
       "Loading Daily data for GOOG with starting period 2022-11-07.\n"
      ]
     },
     "metadata": {},
     "output_type": "display_data"
    },
    {
     "data": {
      "text/html": [
       "<pre style=\"white-space:pre;overflow-x:auto;line-height:normal;font-family:Menlo,'DejaVu Sans Mono',consolas,'Courier New',monospace\">Loading Daily data for GOOG with starting period 2022-11-04.\n",
       "</pre>\n"
      ],
      "text/plain": [
       "Loading Daily data for GOOG with starting period 2022-11-04.\n"
      ]
     },
     "metadata": {},
     "output_type": "display_data"
    },
    {
     "data": {
      "text/html": [
       "<pre style=\"white-space:pre;overflow-x:auto;line-height:normal;font-family:Menlo,'DejaVu Sans Mono',consolas,'Courier New',monospace\">Loading Daily data for GOOG with starting period 2022-10-31.\n",
       "</pre>\n"
      ],
      "text/plain": [
       "Loading Daily data for GOOG with starting period 2022-10-31.\n"
      ]
     },
     "metadata": {},
     "output_type": "display_data"
    },
    {
     "data": {
      "text/html": [
       "<pre style=\"white-space:pre;overflow-x:auto;line-height:normal;font-family:Menlo,'DejaVu Sans Mono',consolas,'Courier New',monospace\">Loading Daily data for GOOG with starting period 2022-10-24.\n",
       "</pre>\n"
      ],
      "text/plain": [
       "Loading Daily data for GOOG with starting period 2022-10-24.\n"
      ]
     },
     "metadata": {},
     "output_type": "display_data"
    },
    {
     "data": {
      "text/html": [
       "<pre style=\"white-space:pre;overflow-x:auto;line-height:normal;font-family:Menlo,'DejaVu Sans Mono',consolas,'Courier New',monospace\">Loading Daily data for GOOG with starting period 2022-10-13.\n",
       "</pre>\n"
      ],
      "text/plain": [
       "Loading Daily data for GOOG with starting period 2022-10-13.\n"
      ]
     },
     "metadata": {},
     "output_type": "display_data"
    },
    {
     "data": {
      "text/html": [
       "<pre style=\"white-space:pre;overflow-x:auto;line-height:normal;font-family:Menlo,'DejaVu Sans Mono',consolas,'Courier New',monospace\">Loading Daily data for AMZN with starting period 2023-04-14.\n",
       "</pre>\n"
      ],
      "text/plain": [
       "Loading Daily data for AMZN with starting period 2023-04-14.\n"
      ]
     },
     "metadata": {},
     "output_type": "display_data"
    },
    {
     "data": {
      "text/html": [
       "<pre style=\"white-space:pre;overflow-x:auto;line-height:normal;font-family:Menlo,'DejaVu Sans Mono',consolas,'Courier New',monospace\">Loading Daily data for AMZN with starting period 2023-04-14.\n",
       "</pre>\n"
      ],
      "text/plain": [
       "Loading Daily data for AMZN with starting period 2023-04-14.\n"
      ]
     },
     "metadata": {},
     "output_type": "display_data"
    },
    {
     "data": {
      "text/html": [
       "<pre style=\"white-space:pre;overflow-x:auto;line-height:normal;font-family:Menlo,'DejaVu Sans Mono',consolas,'Courier New',monospace\">Loading Daily data for AMZN with starting period 2023-04-14.\n",
       "</pre>\n"
      ],
      "text/plain": [
       "Loading Daily data for AMZN with starting period 2023-04-14.\n"
      ]
     },
     "metadata": {},
     "output_type": "display_data"
    },
    {
     "data": {
      "text/html": [
       "<pre style=\"white-space:pre;overflow-x:auto;line-height:normal;font-family:Menlo,'DejaVu Sans Mono',consolas,'Courier New',monospace\">Loading Daily data for AMZN with starting period 2023-04-14.\n",
       "</pre>\n"
      ],
      "text/plain": [
       "Loading Daily data for AMZN with starting period 2023-04-14.\n"
      ]
     },
     "metadata": {},
     "output_type": "display_data"
    },
    {
     "data": {
      "text/html": [
       "<pre style=\"white-space:pre;overflow-x:auto;line-height:normal;font-family:Menlo,'DejaVu Sans Mono',consolas,'Courier New',monospace\">Loading Daily data for AMZN with starting period 2023-04-14.\n",
       "</pre>\n"
      ],
      "text/plain": [
       "Loading Daily data for AMZN with starting period 2023-04-14.\n"
      ]
     },
     "metadata": {},
     "output_type": "display_data"
    },
    {
     "data": {
      "text/html": [
       "<pre style=\"white-space:pre;overflow-x:auto;line-height:normal;font-family:Menlo,'DejaVu Sans Mono',consolas,'Courier New',monospace\">Loading Daily data for AMZN with starting period 2023-04-14.\n",
       "</pre>\n"
      ],
      "text/plain": [
       "Loading Daily data for AMZN with starting period 2023-04-14.\n"
      ]
     },
     "metadata": {},
     "output_type": "display_data"
    },
    {
     "data": {
      "text/html": [
       "<pre style=\"white-space:pre;overflow-x:auto;line-height:normal;font-family:Menlo,'DejaVu Sans Mono',consolas,'Courier New',monospace\">Loading Daily data for AMZN with starting period 2023-04-14.\n",
       "</pre>\n"
      ],
      "text/plain": [
       "Loading Daily data for AMZN with starting period 2023-04-14.\n"
      ]
     },
     "metadata": {},
     "output_type": "display_data"
    },
    {
     "data": {
      "text/html": [
       "<pre style=\"white-space:pre;overflow-x:auto;line-height:normal;font-family:Menlo,'DejaVu Sans Mono',consolas,'Courier New',monospace\">Loading Daily data for AMZN with starting period 2023-04-13.\n",
       "</pre>\n"
      ],
      "text/plain": [
       "Loading Daily data for AMZN with starting period 2023-04-13.\n"
      ]
     },
     "metadata": {},
     "output_type": "display_data"
    },
    {
     "data": {
      "text/html": [
       "<pre style=\"white-space:pre;overflow-x:auto;line-height:normal;font-family:Menlo,'DejaVu Sans Mono',consolas,'Courier New',monospace\">Loading Daily data for AMZN with starting period 2023-04-13.\n",
       "</pre>\n"
      ],
      "text/plain": [
       "Loading Daily data for AMZN with starting period 2023-04-13.\n"
      ]
     },
     "metadata": {},
     "output_type": "display_data"
    },
    {
     "data": {
      "text/html": [
       "<pre style=\"white-space:pre;overflow-x:auto;line-height:normal;font-family:Menlo,'DejaVu Sans Mono',consolas,'Courier New',monospace\">Loading Daily data for AMZN with starting period 2023-04-13.\n",
       "</pre>\n"
      ],
      "text/plain": [
       "Loading Daily data for AMZN with starting period 2023-04-13.\n"
      ]
     },
     "metadata": {},
     "output_type": "display_data"
    },
    {
     "data": {
      "text/html": [
       "<pre style=\"white-space:pre;overflow-x:auto;line-height:normal;font-family:Menlo,'DejaVu Sans Mono',consolas,'Courier New',monospace\">Loading Daily data for AMZN with starting period 2023-04-13.\n",
       "</pre>\n"
      ],
      "text/plain": [
       "Loading Daily data for AMZN with starting period 2023-04-13.\n"
      ]
     },
     "metadata": {},
     "output_type": "display_data"
    },
    {
     "data": {
      "text/html": [
       "<pre style=\"white-space:pre;overflow-x:auto;line-height:normal;font-family:Menlo,'DejaVu Sans Mono',consolas,'Courier New',monospace\">Loading Daily data for AMZN with starting period 2023-04-13.\n",
       "</pre>\n"
      ],
      "text/plain": [
       "Loading Daily data for AMZN with starting period 2023-04-13.\n"
      ]
     },
     "metadata": {},
     "output_type": "display_data"
    },
    {
     "data": {
      "text/html": [
       "<pre style=\"white-space:pre;overflow-x:auto;line-height:normal;font-family:Menlo,'DejaVu Sans Mono',consolas,'Courier New',monospace\">Loading Daily data for AMZN with starting period 2023-04-13.\n",
       "</pre>\n"
      ],
      "text/plain": [
       "Loading Daily data for AMZN with starting period 2023-04-13.\n"
      ]
     },
     "metadata": {},
     "output_type": "display_data"
    },
    {
     "data": {
      "text/html": [
       "<pre style=\"white-space:pre;overflow-x:auto;line-height:normal;font-family:Menlo,'DejaVu Sans Mono',consolas,'Courier New',monospace\">Loading Daily data for AMZN with starting period 2023-04-13.\n",
       "</pre>\n"
      ],
      "text/plain": [
       "Loading Daily data for AMZN with starting period 2023-04-13.\n"
      ]
     },
     "metadata": {},
     "output_type": "display_data"
    },
    {
     "data": {
      "text/html": [
       "<pre style=\"white-space:pre;overflow-x:auto;line-height:normal;font-family:Menlo,'DejaVu Sans Mono',consolas,'Courier New',monospace\">Loading Daily data for AMZN with starting period 2023-04-13.\n",
       "</pre>\n"
      ],
      "text/plain": [
       "Loading Daily data for AMZN with starting period 2023-04-13.\n"
      ]
     },
     "metadata": {},
     "output_type": "display_data"
    },
    {
     "data": {
      "text/html": [
       "<pre style=\"white-space:pre;overflow-x:auto;line-height:normal;font-family:Menlo,'DejaVu Sans Mono',consolas,'Courier New',monospace\">Loading Daily data for AMZN with starting period 2023-04-13.\n",
       "</pre>\n"
      ],
      "text/plain": [
       "Loading Daily data for AMZN with starting period 2023-04-13.\n"
      ]
     },
     "metadata": {},
     "output_type": "display_data"
    },
    {
     "data": {
      "text/html": [
       "<pre style=\"white-space:pre;overflow-x:auto;line-height:normal;font-family:Menlo,'DejaVu Sans Mono',consolas,'Courier New',monospace\">Loading Daily data for AMZN with starting period 2023-04-12.\n",
       "</pre>\n"
      ],
      "text/plain": [
       "Loading Daily data for AMZN with starting period 2023-04-12.\n"
      ]
     },
     "metadata": {},
     "output_type": "display_data"
    },
    {
     "data": {
      "text/html": [
       "<pre style=\"white-space:pre;overflow-x:auto;line-height:normal;font-family:Menlo,'DejaVu Sans Mono',consolas,'Courier New',monospace\">Loading Daily data for AMZN with starting period 2023-04-12.\n",
       "</pre>\n"
      ],
      "text/plain": [
       "Loading Daily data for AMZN with starting period 2023-04-12.\n"
      ]
     },
     "metadata": {},
     "output_type": "display_data"
    },
    {
     "data": {
      "text/html": [
       "<pre style=\"white-space:pre;overflow-x:auto;line-height:normal;font-family:Menlo,'DejaVu Sans Mono',consolas,'Courier New',monospace\">Loading Daily data for AMZN with starting period 2023-04-12.\n",
       "</pre>\n"
      ],
      "text/plain": [
       "Loading Daily data for AMZN with starting period 2023-04-12.\n"
      ]
     },
     "metadata": {},
     "output_type": "display_data"
    },
    {
     "data": {
      "text/html": [
       "<pre style=\"white-space:pre;overflow-x:auto;line-height:normal;font-family:Menlo,'DejaVu Sans Mono',consolas,'Courier New',monospace\">Loading Daily data for AMZN with starting period 2023-04-11.\n",
       "</pre>\n"
      ],
      "text/plain": [
       "Loading Daily data for AMZN with starting period 2023-04-11.\n"
      ]
     },
     "metadata": {},
     "output_type": "display_data"
    },
    {
     "data": {
      "text/html": [
       "<pre style=\"white-space:pre;overflow-x:auto;line-height:normal;font-family:Menlo,'DejaVu Sans Mono',consolas,'Courier New',monospace\">Loading Daily data for AMZN with starting period 2023-04-10.\n",
       "</pre>\n"
      ],
      "text/plain": [
       "Loading Daily data for AMZN with starting period 2023-04-10.\n"
      ]
     },
     "metadata": {},
     "output_type": "display_data"
    },
    {
     "data": {
      "text/html": [
       "<pre style=\"white-space:pre;overflow-x:auto;line-height:normal;font-family:Menlo,'DejaVu Sans Mono',consolas,'Courier New',monospace\">Loading Daily data for AMZN with starting period 2023-04-10.\n",
       "</pre>\n"
      ],
      "text/plain": [
       "Loading Daily data for AMZN with starting period 2023-04-10.\n"
      ]
     },
     "metadata": {},
     "output_type": "display_data"
    },
    {
     "data": {
      "text/html": [
       "<pre style=\"white-space:pre;overflow-x:auto;line-height:normal;font-family:Menlo,'DejaVu Sans Mono',consolas,'Courier New',monospace\">Loading Daily data for AMZN with starting period 2023-04-10.\n",
       "</pre>\n"
      ],
      "text/plain": [
       "Loading Daily data for AMZN with starting period 2023-04-10.\n"
      ]
     },
     "metadata": {},
     "output_type": "display_data"
    },
    {
     "data": {
      "text/html": [
       "<pre style=\"white-space:pre;overflow-x:auto;line-height:normal;font-family:Menlo,'DejaVu Sans Mono',consolas,'Courier New',monospace\">Loading Daily data for AMZN with starting period 2023-04-10.\n",
       "</pre>\n"
      ],
      "text/plain": [
       "Loading Daily data for AMZN with starting period 2023-04-10.\n"
      ]
     },
     "metadata": {},
     "output_type": "display_data"
    },
    {
     "data": {
      "text/html": [
       "<pre style=\"white-space:pre;overflow-x:auto;line-height:normal;font-family:Menlo,'DejaVu Sans Mono',consolas,'Courier New',monospace\">Loading Daily data for AMZN with starting period 2023-04-10.\n",
       "</pre>\n"
      ],
      "text/plain": [
       "Loading Daily data for AMZN with starting period 2023-04-10.\n"
      ]
     },
     "metadata": {},
     "output_type": "display_data"
    },
    {
     "data": {
      "text/html": [
       "<pre style=\"white-space:pre;overflow-x:auto;line-height:normal;font-family:Menlo,'DejaVu Sans Mono',consolas,'Courier New',monospace\">Loading Daily data for AMZN with starting period 2023-04-10.\n",
       "</pre>\n"
      ],
      "text/plain": [
       "Loading Daily data for AMZN with starting period 2023-04-10.\n"
      ]
     },
     "metadata": {},
     "output_type": "display_data"
    },
    {
     "data": {
      "text/html": [
       "<pre style=\"white-space:pre;overflow-x:auto;line-height:normal;font-family:Menlo,'DejaVu Sans Mono',consolas,'Courier New',monospace\">Loading Daily data for AMZN with starting period 2023-04-10.\n",
       "</pre>\n"
      ],
      "text/plain": [
       "Loading Daily data for AMZN with starting period 2023-04-10.\n"
      ]
     },
     "metadata": {},
     "output_type": "display_data"
    },
    {
     "data": {
      "text/html": [
       "<pre style=\"white-space:pre;overflow-x:auto;line-height:normal;font-family:Menlo,'DejaVu Sans Mono',consolas,'Courier New',monospace\">Loading Daily data for AMZN with starting period 2023-04-10.\n",
       "</pre>\n"
      ],
      "text/plain": [
       "Loading Daily data for AMZN with starting period 2023-04-10.\n"
      ]
     },
     "metadata": {},
     "output_type": "display_data"
    },
    {
     "data": {
      "text/html": [
       "<pre style=\"white-space:pre;overflow-x:auto;line-height:normal;font-family:Menlo,'DejaVu Sans Mono',consolas,'Courier New',monospace\">Loading Daily data for AMZN with starting period 2023-04-10.\n",
       "</pre>\n"
      ],
      "text/plain": [
       "Loading Daily data for AMZN with starting period 2023-04-10.\n"
      ]
     },
     "metadata": {},
     "output_type": "display_data"
    },
    {
     "data": {
      "text/html": [
       "<pre style=\"white-space:pre;overflow-x:auto;line-height:normal;font-family:Menlo,'DejaVu Sans Mono',consolas,'Courier New',monospace\">Loading Daily data for AMZN with starting period 2023-04-10.\n",
       "</pre>\n"
      ],
      "text/plain": [
       "Loading Daily data for AMZN with starting period 2023-04-10.\n"
      ]
     },
     "metadata": {},
     "output_type": "display_data"
    },
    {
     "data": {
      "text/html": [
       "<pre style=\"white-space:pre;overflow-x:auto;line-height:normal;font-family:Menlo,'DejaVu Sans Mono',consolas,'Courier New',monospace\">Loading Daily data for AMZN with starting period 2023-04-10.\n",
       "</pre>\n"
      ],
      "text/plain": [
       "Loading Daily data for AMZN with starting period 2023-04-10.\n"
      ]
     },
     "metadata": {},
     "output_type": "display_data"
    },
    {
     "data": {
      "text/html": [
       "<pre style=\"white-space:pre;overflow-x:auto;line-height:normal;font-family:Menlo,'DejaVu Sans Mono',consolas,'Courier New',monospace\">Loading Daily data for AMZN with starting period 2023-04-10.\n",
       "</pre>\n"
      ],
      "text/plain": [
       "Loading Daily data for AMZN with starting period 2023-04-10.\n"
      ]
     },
     "metadata": {},
     "output_type": "display_data"
    },
    {
     "data": {
      "text/html": [
       "<pre style=\"white-space:pre;overflow-x:auto;line-height:normal;font-family:Menlo,'DejaVu Sans Mono',consolas,'Courier New',monospace\">Loading Daily data for AMZN with starting period 2023-04-10.\n",
       "</pre>\n"
      ],
      "text/plain": [
       "Loading Daily data for AMZN with starting period 2023-04-10.\n"
      ]
     },
     "metadata": {},
     "output_type": "display_data"
    },
    {
     "data": {
      "text/html": [
       "<pre style=\"white-space:pre;overflow-x:auto;line-height:normal;font-family:Menlo,'DejaVu Sans Mono',consolas,'Courier New',monospace\">Loading Daily data for AMZN with starting period 2023-04-10.\n",
       "</pre>\n"
      ],
      "text/plain": [
       "Loading Daily data for AMZN with starting period 2023-04-10.\n"
      ]
     },
     "metadata": {},
     "output_type": "display_data"
    },
    {
     "data": {
      "text/html": [
       "<pre style=\"white-space:pre;overflow-x:auto;line-height:normal;font-family:Menlo,'DejaVu Sans Mono',consolas,'Courier New',monospace\">Loading Daily data for AMZN with starting period 2023-04-10.\n",
       "</pre>\n"
      ],
      "text/plain": [
       "Loading Daily data for AMZN with starting period 2023-04-10.\n"
      ]
     },
     "metadata": {},
     "output_type": "display_data"
    },
    {
     "data": {
      "text/html": [
       "<pre style=\"white-space:pre;overflow-x:auto;line-height:normal;font-family:Menlo,'DejaVu Sans Mono',consolas,'Courier New',monospace\">Loading Daily data for AMZN with starting period 2023-04-06.\n",
       "</pre>\n"
      ],
      "text/plain": [
       "Loading Daily data for AMZN with starting period 2023-04-06.\n"
      ]
     },
     "metadata": {},
     "output_type": "display_data"
    },
    {
     "data": {
      "text/html": [
       "<pre style=\"white-space:pre;overflow-x:auto;line-height:normal;font-family:Menlo,'DejaVu Sans Mono',consolas,'Courier New',monospace\">Loading Daily data for AMZN with starting period 2023-04-03.\n",
       "</pre>\n"
      ],
      "text/plain": [
       "Loading Daily data for AMZN with starting period 2023-04-03.\n"
      ]
     },
     "metadata": {},
     "output_type": "display_data"
    },
    {
     "data": {
      "text/html": [
       "<pre style=\"white-space:pre;overflow-x:auto;line-height:normal;font-family:Menlo,'DejaVu Sans Mono',consolas,'Courier New',monospace\">Loading Daily data for AMZN with starting period 2023-04-03.\n",
       "</pre>\n"
      ],
      "text/plain": [
       "Loading Daily data for AMZN with starting period 2023-04-03.\n"
      ]
     },
     "metadata": {},
     "output_type": "display_data"
    },
    {
     "data": {
      "text/html": [
       "<pre style=\"white-space:pre;overflow-x:auto;line-height:normal;font-family:Menlo,'DejaVu Sans Mono',consolas,'Courier New',monospace\">Loading Daily data for AMZN with starting period 2023-04-03.\n",
       "</pre>\n"
      ],
      "text/plain": [
       "Loading Daily data for AMZN with starting period 2023-04-03.\n"
      ]
     },
     "metadata": {},
     "output_type": "display_data"
    },
    {
     "data": {
      "text/html": [
       "<pre style=\"white-space:pre;overflow-x:auto;line-height:normal;font-family:Menlo,'DejaVu Sans Mono',consolas,'Courier New',monospace\">Loading Daily data for AMZN with starting period 2023-03-31.\n",
       "</pre>\n"
      ],
      "text/plain": [
       "Loading Daily data for AMZN with starting period 2023-03-31.\n"
      ]
     },
     "metadata": {},
     "output_type": "display_data"
    },
    {
     "data": {
      "text/html": [
       "<pre style=\"white-space:pre;overflow-x:auto;line-height:normal;font-family:Menlo,'DejaVu Sans Mono',consolas,'Courier New',monospace\">Loading Daily data for AMZN with starting period 2023-03-30.\n",
       "</pre>\n"
      ],
      "text/plain": [
       "Loading Daily data for AMZN with starting period 2023-03-30.\n"
      ]
     },
     "metadata": {},
     "output_type": "display_data"
    },
    {
     "data": {
      "text/html": [
       "<pre style=\"white-space:pre;overflow-x:auto;line-height:normal;font-family:Menlo,'DejaVu Sans Mono',consolas,'Courier New',monospace\">Loading Daily data for AMZN with starting period 2023-03-29.\n",
       "</pre>\n"
      ],
      "text/plain": [
       "Loading Daily data for AMZN with starting period 2023-03-29.\n"
      ]
     },
     "metadata": {},
     "output_type": "display_data"
    },
    {
     "data": {
      "text/html": [
       "<pre style=\"white-space:pre;overflow-x:auto;line-height:normal;font-family:Menlo,'DejaVu Sans Mono',consolas,'Courier New',monospace\">Loading Daily data for AMZN with starting period 2023-03-27.\n",
       "</pre>\n"
      ],
      "text/plain": [
       "Loading Daily data for AMZN with starting period 2023-03-27.\n"
      ]
     },
     "metadata": {},
     "output_type": "display_data"
    },
    {
     "data": {
      "text/html": [
       "<pre style=\"white-space:pre;overflow-x:auto;line-height:normal;font-family:Menlo,'DejaVu Sans Mono',consolas,'Courier New',monospace\">Loading Daily data for AMZN with starting period 2023-03-27.\n",
       "</pre>\n"
      ],
      "text/plain": [
       "Loading Daily data for AMZN with starting period 2023-03-27.\n"
      ]
     },
     "metadata": {},
     "output_type": "display_data"
    },
    {
     "data": {
      "text/html": [
       "<pre style=\"white-space:pre;overflow-x:auto;line-height:normal;font-family:Menlo,'DejaVu Sans Mono',consolas,'Courier New',monospace\">Loading Daily data for AMZN with starting period 2023-03-23.\n",
       "</pre>\n"
      ],
      "text/plain": [
       "Loading Daily data for AMZN with starting period 2023-03-23.\n"
      ]
     },
     "metadata": {},
     "output_type": "display_data"
    },
    {
     "data": {
      "text/html": [
       "<pre style=\"white-space:pre;overflow-x:auto;line-height:normal;font-family:Menlo,'DejaVu Sans Mono',consolas,'Courier New',monospace\">Loading Daily data for AMZN with starting period 2023-03-22.\n",
       "</pre>\n"
      ],
      "text/plain": [
       "Loading Daily data for AMZN with starting period 2023-03-22.\n"
      ]
     },
     "metadata": {},
     "output_type": "display_data"
    },
    {
     "data": {
      "text/html": [
       "<pre style=\"white-space:pre;overflow-x:auto;line-height:normal;font-family:Menlo,'DejaVu Sans Mono',consolas,'Courier New',monospace\">Loading Daily data for AMZN with starting period 2023-03-20.\n",
       "</pre>\n"
      ],
      "text/plain": [
       "Loading Daily data for AMZN with starting period 2023-03-20.\n"
      ]
     },
     "metadata": {},
     "output_type": "display_data"
    },
    {
     "data": {
      "text/html": [
       "<pre style=\"white-space:pre;overflow-x:auto;line-height:normal;font-family:Menlo,'DejaVu Sans Mono',consolas,'Courier New',monospace\">Loading Daily data for AMZN with starting period 2023-03-20.\n",
       "</pre>\n"
      ],
      "text/plain": [
       "Loading Daily data for AMZN with starting period 2023-03-20.\n"
      ]
     },
     "metadata": {},
     "output_type": "display_data"
    },
    {
     "data": {
      "text/html": [
       "<pre style=\"white-space:pre;overflow-x:auto;line-height:normal;font-family:Menlo,'DejaVu Sans Mono',consolas,'Courier New',monospace\">Loading Daily data for AMZN with starting period 2023-03-20.\n",
       "</pre>\n"
      ],
      "text/plain": [
       "Loading Daily data for AMZN with starting period 2023-03-20.\n"
      ]
     },
     "metadata": {},
     "output_type": "display_data"
    },
    {
     "data": {
      "text/html": [
       "<pre style=\"white-space:pre;overflow-x:auto;line-height:normal;font-family:Menlo,'DejaVu Sans Mono',consolas,'Courier New',monospace\">Loading Daily data for AMZN with starting period 2023-03-20.\n",
       "</pre>\n"
      ],
      "text/plain": [
       "Loading Daily data for AMZN with starting period 2023-03-20.\n"
      ]
     },
     "metadata": {},
     "output_type": "display_data"
    },
    {
     "data": {
      "text/html": [
       "<pre style=\"white-space:pre;overflow-x:auto;line-height:normal;font-family:Menlo,'DejaVu Sans Mono',consolas,'Courier New',monospace\">Loading Daily data for AMZN with starting period 2023-03-20.\n",
       "</pre>\n"
      ],
      "text/plain": [
       "Loading Daily data for AMZN with starting period 2023-03-20.\n"
      ]
     },
     "metadata": {},
     "output_type": "display_data"
    },
    {
     "data": {
      "text/html": [
       "<pre style=\"white-space:pre;overflow-x:auto;line-height:normal;font-family:Menlo,'DejaVu Sans Mono',consolas,'Courier New',monospace\">Loading Daily data for AMZN with starting period 2023-03-20.\n",
       "</pre>\n"
      ],
      "text/plain": [
       "Loading Daily data for AMZN with starting period 2023-03-20.\n"
      ]
     },
     "metadata": {},
     "output_type": "display_data"
    },
    {
     "data": {
      "text/html": [
       "<pre style=\"white-space:pre;overflow-x:auto;line-height:normal;font-family:Menlo,'DejaVu Sans Mono',consolas,'Courier New',monospace\">Loading Daily data for AMZN with starting period 2023-03-20.\n",
       "</pre>\n"
      ],
      "text/plain": [
       "Loading Daily data for AMZN with starting period 2023-03-20.\n"
      ]
     },
     "metadata": {},
     "output_type": "display_data"
    },
    {
     "data": {
      "text/html": [
       "<pre style=\"white-space:pre;overflow-x:auto;line-height:normal;font-family:Menlo,'DejaVu Sans Mono',consolas,'Courier New',monospace\">Loading Daily data for AMZN with starting period 2023-03-16.\n",
       "</pre>\n"
      ],
      "text/plain": [
       "Loading Daily data for AMZN with starting period 2023-03-16.\n"
      ]
     },
     "metadata": {},
     "output_type": "display_data"
    },
    {
     "data": {
      "text/html": [
       "<pre style=\"white-space:pre;overflow-x:auto;line-height:normal;font-family:Menlo,'DejaVu Sans Mono',consolas,'Courier New',monospace\">Loading Daily data for AMZN with starting period 2023-03-16.\n",
       "</pre>\n"
      ],
      "text/plain": [
       "Loading Daily data for AMZN with starting period 2023-03-16.\n"
      ]
     },
     "metadata": {},
     "output_type": "display_data"
    },
    {
     "data": {
      "text/html": [
       "<pre style=\"white-space:pre;overflow-x:auto;line-height:normal;font-family:Menlo,'DejaVu Sans Mono',consolas,'Courier New',monospace\">Loading Daily data for AMZN with starting period 2023-03-13.\n",
       "</pre>\n"
      ],
      "text/plain": [
       "Loading Daily data for AMZN with starting period 2023-03-13.\n"
      ]
     },
     "metadata": {},
     "output_type": "display_data"
    },
    {
     "data": {
      "text/html": [
       "<pre style=\"white-space:pre;overflow-x:auto;line-height:normal;font-family:Menlo,'DejaVu Sans Mono',consolas,'Courier New',monospace\">Loading Daily data for AMZN with starting period 2023-03-09.\n",
       "</pre>\n"
      ],
      "text/plain": [
       "Loading Daily data for AMZN with starting period 2023-03-09.\n"
      ]
     },
     "metadata": {},
     "output_type": "display_data"
    },
    {
     "data": {
      "text/html": [
       "<pre style=\"white-space:pre;overflow-x:auto;line-height:normal;font-family:Menlo,'DejaVu Sans Mono',consolas,'Courier New',monospace\">Loading Daily data for AMZN with starting period 2023-03-06.\n",
       "</pre>\n"
      ],
      "text/plain": [
       "Loading Daily data for AMZN with starting period 2023-03-06.\n"
      ]
     },
     "metadata": {},
     "output_type": "display_data"
    },
    {
     "data": {
      "text/html": [
       "<pre style=\"white-space:pre;overflow-x:auto;line-height:normal;font-family:Menlo,'DejaVu Sans Mono',consolas,'Courier New',monospace\">Loading Daily data for AMZN with starting period 2023-03-06.\n",
       "</pre>\n"
      ],
      "text/plain": [
       "Loading Daily data for AMZN with starting period 2023-03-06.\n"
      ]
     },
     "metadata": {},
     "output_type": "display_data"
    },
    {
     "data": {
      "text/html": [
       "<pre style=\"white-space:pre;overflow-x:auto;line-height:normal;font-family:Menlo,'DejaVu Sans Mono',consolas,'Courier New',monospace\">Loading Daily data for AMZN with starting period 2023-03-06.\n",
       "</pre>\n"
      ],
      "text/plain": [
       "Loading Daily data for AMZN with starting period 2023-03-06.\n"
      ]
     },
     "metadata": {},
     "output_type": "display_data"
    },
    {
     "data": {
      "text/html": [
       "<pre style=\"white-space:pre;overflow-x:auto;line-height:normal;font-family:Menlo,'DejaVu Sans Mono',consolas,'Courier New',monospace\">Loading Daily data for AMZN with starting period 2023-03-03.\n",
       "</pre>\n"
      ],
      "text/plain": [
       "Loading Daily data for AMZN with starting period 2023-03-03.\n"
      ]
     },
     "metadata": {},
     "output_type": "display_data"
    },
    {
     "data": {
      "text/html": [
       "<pre style=\"white-space:pre;overflow-x:auto;line-height:normal;font-family:Menlo,'DejaVu Sans Mono',consolas,'Courier New',monospace\">Loading Daily data for AMZN with starting period 2023-03-03.\n",
       "</pre>\n"
      ],
      "text/plain": [
       "Loading Daily data for AMZN with starting period 2023-03-03.\n"
      ]
     },
     "metadata": {},
     "output_type": "display_data"
    },
    {
     "data": {
      "text/html": [
       "<pre style=\"white-space:pre;overflow-x:auto;line-height:normal;font-family:Menlo,'DejaVu Sans Mono',consolas,'Courier New',monospace\">Loading Daily data for AMZN with starting period 2023-02-27.\n",
       "</pre>\n"
      ],
      "text/plain": [
       "Loading Daily data for AMZN with starting period 2023-02-27.\n"
      ]
     },
     "metadata": {},
     "output_type": "display_data"
    },
    {
     "data": {
      "text/html": [
       "<pre style=\"white-space:pre;overflow-x:auto;line-height:normal;font-family:Menlo,'DejaVu Sans Mono',consolas,'Courier New',monospace\">Loading Daily data for AMZN with starting period 2023-02-27.\n",
       "</pre>\n"
      ],
      "text/plain": [
       "Loading Daily data for AMZN with starting period 2023-02-27.\n"
      ]
     },
     "metadata": {},
     "output_type": "display_data"
    },
    {
     "data": {
      "text/html": [
       "<pre style=\"white-space:pre;overflow-x:auto;line-height:normal;font-family:Menlo,'DejaVu Sans Mono',consolas,'Courier New',monospace\">Loading Daily data for AMZN with starting period 2023-02-27.\n",
       "</pre>\n"
      ],
      "text/plain": [
       "Loading Daily data for AMZN with starting period 2023-02-27.\n"
      ]
     },
     "metadata": {},
     "output_type": "display_data"
    },
    {
     "data": {
      "text/html": [
       "<pre style=\"white-space:pre;overflow-x:auto;line-height:normal;font-family:Menlo,'DejaVu Sans Mono',consolas,'Courier New',monospace\">Loading Daily data for AMZN with starting period 2023-02-21.\n",
       "</pre>\n"
      ],
      "text/plain": [
       "Loading Daily data for AMZN with starting period 2023-02-21.\n"
      ]
     },
     "metadata": {},
     "output_type": "display_data"
    },
    {
     "data": {
      "text/html": [
       "<pre style=\"white-space:pre;overflow-x:auto;line-height:normal;font-family:Menlo,'DejaVu Sans Mono',consolas,'Courier New',monospace\">Loading Daily data for AMZN with starting period 2023-02-21.\n",
       "</pre>\n"
      ],
      "text/plain": [
       "Loading Daily data for AMZN with starting period 2023-02-21.\n"
      ]
     },
     "metadata": {},
     "output_type": "display_data"
    },
    {
     "data": {
      "text/html": [
       "<pre style=\"white-space:pre;overflow-x:auto;line-height:normal;font-family:Menlo,'DejaVu Sans Mono',consolas,'Courier New',monospace\">Loading Daily data for AMZN with starting period 2023-02-21.\n",
       "</pre>\n"
      ],
      "text/plain": [
       "Loading Daily data for AMZN with starting period 2023-02-21.\n"
      ]
     },
     "metadata": {},
     "output_type": "display_data"
    },
    {
     "data": {
      "text/html": [
       "<pre style=\"white-space:pre;overflow-x:auto;line-height:normal;font-family:Menlo,'DejaVu Sans Mono',consolas,'Courier New',monospace\">Loading Daily data for AMZN with starting period 2023-02-17.\n",
       "</pre>\n"
      ],
      "text/plain": [
       "Loading Daily data for AMZN with starting period 2023-02-17.\n"
      ]
     },
     "metadata": {},
     "output_type": "display_data"
    },
    {
     "data": {
      "text/html": [
       "<pre style=\"white-space:pre;overflow-x:auto;line-height:normal;font-family:Menlo,'DejaVu Sans Mono',consolas,'Courier New',monospace\">Loading Daily data for AMZN with starting period 2023-02-16.\n",
       "</pre>\n"
      ],
      "text/plain": [
       "Loading Daily data for AMZN with starting period 2023-02-16.\n"
      ]
     },
     "metadata": {},
     "output_type": "display_data"
    },
    {
     "data": {
      "text/html": [
       "<pre style=\"white-space:pre;overflow-x:auto;line-height:normal;font-family:Menlo,'DejaVu Sans Mono',consolas,'Courier New',monospace\">Loading Daily data for AMZN with starting period 2023-02-13.\n",
       "</pre>\n"
      ],
      "text/plain": [
       "Loading Daily data for AMZN with starting period 2023-02-13.\n"
      ]
     },
     "metadata": {},
     "output_type": "display_data"
    },
    {
     "data": {
      "text/html": [
       "<pre style=\"white-space:pre;overflow-x:auto;line-height:normal;font-family:Menlo,'DejaVu Sans Mono',consolas,'Courier New',monospace\">Loading Daily data for AMZN with starting period 2023-02-10.\n",
       "</pre>\n"
      ],
      "text/plain": [
       "Loading Daily data for AMZN with starting period 2023-02-10.\n"
      ]
     },
     "metadata": {},
     "output_type": "display_data"
    },
    {
     "data": {
      "text/html": [
       "<pre style=\"white-space:pre;overflow-x:auto;line-height:normal;font-family:Menlo,'DejaVu Sans Mono',consolas,'Courier New',monospace\">Loading Daily data for AMZN with starting period 2023-02-09.\n",
       "</pre>\n"
      ],
      "text/plain": [
       "Loading Daily data for AMZN with starting period 2023-02-09.\n"
      ]
     },
     "metadata": {},
     "output_type": "display_data"
    },
    {
     "data": {
      "text/html": [
       "<pre style=\"white-space:pre;overflow-x:auto;line-height:normal;font-family:Menlo,'DejaVu Sans Mono',consolas,'Courier New',monospace\">Loading Daily data for AMZN with starting period 2023-02-06.\n",
       "</pre>\n"
      ],
      "text/plain": [
       "Loading Daily data for AMZN with starting period 2023-02-06.\n"
      ]
     },
     "metadata": {},
     "output_type": "display_data"
    },
    {
     "data": {
      "text/html": [
       "<pre style=\"white-space:pre;overflow-x:auto;line-height:normal;font-family:Menlo,'DejaVu Sans Mono',consolas,'Courier New',monospace\">Loading Daily data for AMZN with starting period 2023-02-06.\n",
       "</pre>\n"
      ],
      "text/plain": [
       "Loading Daily data for AMZN with starting period 2023-02-06.\n"
      ]
     },
     "metadata": {},
     "output_type": "display_data"
    },
    {
     "data": {
      "text/html": [
       "<pre style=\"white-space:pre;overflow-x:auto;line-height:normal;font-family:Menlo,'DejaVu Sans Mono',consolas,'Courier New',monospace\">Loading Daily data for AMZN with starting period 2023-02-03.\n",
       "</pre>\n"
      ],
      "text/plain": [
       "Loading Daily data for AMZN with starting period 2023-02-03.\n"
      ]
     },
     "metadata": {},
     "output_type": "display_data"
    },
    {
     "data": {
      "text/html": [
       "<pre style=\"white-space:pre;overflow-x:auto;line-height:normal;font-family:Menlo,'DejaVu Sans Mono',consolas,'Courier New',monospace\">Loading Daily data for AMZN with starting period 2023-01-30.\n",
       "</pre>\n"
      ],
      "text/plain": [
       "Loading Daily data for AMZN with starting period 2023-01-30.\n"
      ]
     },
     "metadata": {},
     "output_type": "display_data"
    },
    {
     "data": {
      "text/html": [
       "<pre style=\"white-space:pre;overflow-x:auto;line-height:normal;font-family:Menlo,'DejaVu Sans Mono',consolas,'Courier New',monospace\">Loading Daily data for AMZN with starting period 2023-01-30.\n",
       "</pre>\n"
      ],
      "text/plain": [
       "Loading Daily data for AMZN with starting period 2023-01-30.\n"
      ]
     },
     "metadata": {},
     "output_type": "display_data"
    },
    {
     "data": {
      "text/html": [
       "<pre style=\"white-space:pre;overflow-x:auto;line-height:normal;font-family:Menlo,'DejaVu Sans Mono',consolas,'Courier New',monospace\">Loading Daily data for AMZN with starting period 2023-01-26.\n",
       "</pre>\n"
      ],
      "text/plain": [
       "Loading Daily data for AMZN with starting period 2023-01-26.\n"
      ]
     },
     "metadata": {},
     "output_type": "display_data"
    },
    {
     "data": {
      "text/html": [
       "<pre style=\"white-space:pre;overflow-x:auto;line-height:normal;font-family:Menlo,'DejaVu Sans Mono',consolas,'Courier New',monospace\">Loading Daily data for AMZN with starting period 2023-01-23.\n",
       "</pre>\n"
      ],
      "text/plain": [
       "Loading Daily data for AMZN with starting period 2023-01-23.\n"
      ]
     },
     "metadata": {},
     "output_type": "display_data"
    },
    {
     "data": {
      "text/html": [
       "<pre style=\"white-space:pre;overflow-x:auto;line-height:normal;font-family:Menlo,'DejaVu Sans Mono',consolas,'Courier New',monospace\">Loading Daily data for AMZN with starting period 2023-01-20.\n",
       "</pre>\n"
      ],
      "text/plain": [
       "Loading Daily data for AMZN with starting period 2023-01-20.\n"
      ]
     },
     "metadata": {},
     "output_type": "display_data"
    },
    {
     "data": {
      "text/html": [
       "<pre style=\"white-space:pre;overflow-x:auto;line-height:normal;font-family:Menlo,'DejaVu Sans Mono',consolas,'Courier New',monospace\">Loading Daily data for AMZN with starting period 2023-01-19.\n",
       "</pre>\n"
      ],
      "text/plain": [
       "Loading Daily data for AMZN with starting period 2023-01-19.\n"
      ]
     },
     "metadata": {},
     "output_type": "display_data"
    },
    {
     "data": {
      "text/html": [
       "<pre style=\"white-space:pre;overflow-x:auto;line-height:normal;font-family:Menlo,'DejaVu Sans Mono',consolas,'Courier New',monospace\">Loading Daily data for AMZN with starting period 2023-01-13.\n",
       "</pre>\n"
      ],
      "text/plain": [
       "Loading Daily data for AMZN with starting period 2023-01-13.\n"
      ]
     },
     "metadata": {},
     "output_type": "display_data"
    },
    {
     "data": {
      "text/html": [
       "<pre style=\"white-space:pre;overflow-x:auto;line-height:normal;font-family:Menlo,'DejaVu Sans Mono',consolas,'Courier New',monospace\">Loading Daily data for AMZN with starting period 2023-01-09.\n",
       "</pre>\n"
      ],
      "text/plain": [
       "Loading Daily data for AMZN with starting period 2023-01-09.\n"
      ]
     },
     "metadata": {},
     "output_type": "display_data"
    },
    {
     "data": {
      "text/html": [
       "<pre style=\"white-space:pre;overflow-x:auto;line-height:normal;font-family:Menlo,'DejaVu Sans Mono',consolas,'Courier New',monospace\">Loading Daily data for AMZN with starting period 2023-01-03.\n",
       "</pre>\n"
      ],
      "text/plain": [
       "Loading Daily data for AMZN with starting period 2023-01-03.\n"
      ]
     },
     "metadata": {},
     "output_type": "display_data"
    },
    {
     "data": {
      "text/html": [
       "<pre style=\"white-space:pre;overflow-x:auto;line-height:normal;font-family:Menlo,'DejaVu Sans Mono',consolas,'Courier New',monospace\">Loading Daily data for AMZN with starting period 2022-12-30.\n",
       "</pre>\n"
      ],
      "text/plain": [
       "Loading Daily data for AMZN with starting period 2022-12-30.\n"
      ]
     },
     "metadata": {},
     "output_type": "display_data"
    },
    {
     "data": {
      "text/html": [
       "<pre style=\"white-space:pre;overflow-x:auto;line-height:normal;font-family:Menlo,'DejaVu Sans Mono',consolas,'Courier New',monospace\">Loading Daily data for AMZN with starting period 2022-12-14.\n",
       "</pre>\n"
      ],
      "text/plain": [
       "Loading Daily data for AMZN with starting period 2022-12-14.\n"
      ]
     },
     "metadata": {},
     "output_type": "display_data"
    },
    {
     "data": {
      "text/html": [
       "<pre style=\"white-space:pre;overflow-x:auto;line-height:normal;font-family:Menlo,'DejaVu Sans Mono',consolas,'Courier New',monospace\">Loading Daily data for AMZN with starting period 2022-12-13.\n",
       "</pre>\n"
      ],
      "text/plain": [
       "Loading Daily data for AMZN with starting period 2022-12-13.\n"
      ]
     },
     "metadata": {},
     "output_type": "display_data"
    },
    {
     "data": {
      "text/html": [
       "<pre style=\"white-space:pre;overflow-x:auto;line-height:normal;font-family:Menlo,'DejaVu Sans Mono',consolas,'Courier New',monospace\">Loading Daily data for AMZN with starting period 2022-12-12.\n",
       "</pre>\n"
      ],
      "text/plain": [
       "Loading Daily data for AMZN with starting period 2022-12-12.\n"
      ]
     },
     "metadata": {},
     "output_type": "display_data"
    },
    {
     "data": {
      "text/html": [
       "<pre style=\"white-space:pre;overflow-x:auto;line-height:normal;font-family:Menlo,'DejaVu Sans Mono',consolas,'Courier New',monospace\">Loading Daily data for AMZN with starting period 2022-12-12.\n",
       "</pre>\n"
      ],
      "text/plain": [
       "Loading Daily data for AMZN with starting period 2022-12-12.\n"
      ]
     },
     "metadata": {},
     "output_type": "display_data"
    },
    {
     "data": {
      "text/html": [
       "<pre style=\"white-space:pre;overflow-x:auto;line-height:normal;font-family:Menlo,'DejaVu Sans Mono',consolas,'Courier New',monospace\">Loading Daily data for AMZN with starting period 2022-12-09.\n",
       "</pre>\n"
      ],
      "text/plain": [
       "Loading Daily data for AMZN with starting period 2022-12-09.\n"
      ]
     },
     "metadata": {},
     "output_type": "display_data"
    },
    {
     "data": {
      "text/html": [
       "<pre style=\"white-space:pre;overflow-x:auto;line-height:normal;font-family:Menlo,'DejaVu Sans Mono',consolas,'Courier New',monospace\">Loading Daily data for AMZN with starting period 2022-12-05.\n",
       "</pre>\n"
      ],
      "text/plain": [
       "Loading Daily data for AMZN with starting period 2022-12-05.\n"
      ]
     },
     "metadata": {},
     "output_type": "display_data"
    },
    {
     "data": {
      "text/html": [
       "<pre style=\"white-space:pre;overflow-x:auto;line-height:normal;font-family:Menlo,'DejaVu Sans Mono',consolas,'Courier New',monospace\">Loading Daily data for AMZN with starting period 2022-11-14.\n",
       "</pre>\n"
      ],
      "text/plain": [
       "Loading Daily data for AMZN with starting period 2022-11-14.\n"
      ]
     },
     "metadata": {},
     "output_type": "display_data"
    },
    {
     "data": {
      "text/html": [
       "<pre style=\"white-space:pre;overflow-x:auto;line-height:normal;font-family:Menlo,'DejaVu Sans Mono',consolas,'Courier New',monospace\">Loading Daily data for AMZN with starting period 2022-10-31.\n",
       "</pre>\n"
      ],
      "text/plain": [
       "Loading Daily data for AMZN with starting period 2022-10-31.\n"
      ]
     },
     "metadata": {},
     "output_type": "display_data"
    },
    {
     "data": {
      "text/html": [
       "<pre style=\"white-space:pre;overflow-x:auto;line-height:normal;font-family:Menlo,'DejaVu Sans Mono',consolas,'Courier New',monospace\">Loading Daily data for AMZN with starting period 2022-10-24.\n",
       "</pre>\n"
      ],
      "text/plain": [
       "Loading Daily data for AMZN with starting period 2022-10-24.\n"
      ]
     },
     "metadata": {},
     "output_type": "display_data"
    },
    {
     "data": {
      "text/html": [
       "<pre style=\"white-space:pre;overflow-x:auto;line-height:normal;font-family:Menlo,'DejaVu Sans Mono',consolas,'Courier New',monospace\">Loading Daily data for AMZN with starting period 2022-10-24.\n",
       "</pre>\n"
      ],
      "text/plain": [
       "Loading Daily data for AMZN with starting period 2022-10-24.\n"
      ]
     },
     "metadata": {},
     "output_type": "display_data"
    },
    {
     "data": {
      "text/html": [
       "<pre style=\"white-space:pre;overflow-x:auto;line-height:normal;font-family:Menlo,'DejaVu Sans Mono',consolas,'Courier New',monospace\">Loading Daily data for AMZN with starting period 2022-10-17.\n",
       "</pre>\n"
      ],
      "text/plain": [
       "Loading Daily data for AMZN with starting period 2022-10-17.\n"
      ]
     },
     "metadata": {},
     "output_type": "display_data"
    },
    {
     "data": {
      "text/html": [
       "<pre style=\"white-space:pre;overflow-x:auto;line-height:normal;font-family:Menlo,'DejaVu Sans Mono',consolas,'Courier New',monospace\">Loading Daily data for AMZN with starting period 2022-10-03.\n",
       "</pre>\n"
      ],
      "text/plain": [
       "Loading Daily data for AMZN with starting period 2022-10-03.\n"
      ]
     },
     "metadata": {},
     "output_type": "display_data"
    },
    {
     "data": {
      "text/html": [
       "<pre style=\"white-space:pre;overflow-x:auto;line-height:normal;font-family:Menlo,'DejaVu Sans Mono',consolas,'Courier New',monospace\">Loading Daily data for AMZN with starting period 2022-09-12.\n",
       "</pre>\n"
      ],
      "text/plain": [
       "Loading Daily data for AMZN with starting period 2022-09-12.\n"
      ]
     },
     "metadata": {},
     "output_type": "display_data"
    },
    {
     "data": {
      "text/html": [
       "<pre style=\"white-space:pre;overflow-x:auto;line-height:normal;font-family:Menlo,'DejaVu Sans Mono',consolas,'Courier New',monospace\">Loading Daily data for AMZN with starting period 2022-07-25.\n",
       "</pre>\n"
      ],
      "text/plain": [
       "Loading Daily data for AMZN with starting period 2022-07-25.\n"
      ]
     },
     "metadata": {},
     "output_type": "display_data"
    },
    {
     "data": {
      "text/html": [
       "<pre style=\"white-space:pre;overflow-x:auto;line-height:normal;font-family:Menlo,'DejaVu Sans Mono',consolas,'Courier New',monospace\">Loading Daily data for TSCO with starting period 2023-04-14.\n",
       "</pre>\n"
      ],
      "text/plain": [
       "Loading Daily data for TSCO with starting period 2023-04-14.\n"
      ]
     },
     "metadata": {},
     "output_type": "display_data"
    },
    {
     "data": {
      "text/html": [
       "<pre style=\"white-space:pre;overflow-x:auto;line-height:normal;font-family:Menlo,'DejaVu Sans Mono',consolas,'Courier New',monospace\">Loading Daily data for TSCO with starting period 2023-04-14.\n",
       "</pre>\n"
      ],
      "text/plain": [
       "Loading Daily data for TSCO with starting period 2023-04-14.\n"
      ]
     },
     "metadata": {},
     "output_type": "display_data"
    },
    {
     "data": {
      "text/html": [
       "<pre style=\"white-space:pre;overflow-x:auto;line-height:normal;font-family:Menlo,'DejaVu Sans Mono',consolas,'Courier New',monospace\">Loading Daily data for TSCO with starting period 2023-04-14.\n",
       "</pre>\n"
      ],
      "text/plain": [
       "Loading Daily data for TSCO with starting period 2023-04-14.\n"
      ]
     },
     "metadata": {},
     "output_type": "display_data"
    },
    {
     "data": {
      "text/html": [
       "<pre style=\"white-space:pre;overflow-x:auto;line-height:normal;font-family:Menlo,'DejaVu Sans Mono',consolas,'Courier New',monospace\">Loading Daily data for TSCO with starting period 2023-04-14.\n",
       "</pre>\n"
      ],
      "text/plain": [
       "Loading Daily data for TSCO with starting period 2023-04-14.\n"
      ]
     },
     "metadata": {},
     "output_type": "display_data"
    },
    {
     "data": {
      "text/html": [
       "<pre style=\"white-space:pre;overflow-x:auto;line-height:normal;font-family:Menlo,'DejaVu Sans Mono',consolas,'Courier New',monospace\">Loading Daily data for TSCO with starting period 2023-04-14.\n",
       "</pre>\n"
      ],
      "text/plain": [
       "Loading Daily data for TSCO with starting period 2023-04-14.\n"
      ]
     },
     "metadata": {},
     "output_type": "display_data"
    },
    {
     "data": {
      "text/html": [
       "<pre style=\"white-space:pre;overflow-x:auto;line-height:normal;font-family:Menlo,'DejaVu Sans Mono',consolas,'Courier New',monospace\">Loading Daily data for TSCO with starting period 2023-04-13.\n",
       "</pre>\n"
      ],
      "text/plain": [
       "Loading Daily data for TSCO with starting period 2023-04-13.\n"
      ]
     },
     "metadata": {},
     "output_type": "display_data"
    },
    {
     "data": {
      "text/html": [
       "<pre style=\"white-space:pre;overflow-x:auto;line-height:normal;font-family:Menlo,'DejaVu Sans Mono',consolas,'Courier New',monospace\">Loading Daily data for TSCO with starting period 2023-04-13.\n",
       "</pre>\n"
      ],
      "text/plain": [
       "Loading Daily data for TSCO with starting period 2023-04-13.\n"
      ]
     },
     "metadata": {},
     "output_type": "display_data"
    },
    {
     "data": {
      "text/html": [
       "<pre style=\"white-space:pre;overflow-x:auto;line-height:normal;font-family:Menlo,'DejaVu Sans Mono',consolas,'Courier New',monospace\">Loading Daily data for TSCO with starting period 2023-04-13.\n",
       "</pre>\n"
      ],
      "text/plain": [
       "Loading Daily data for TSCO with starting period 2023-04-13.\n"
      ]
     },
     "metadata": {},
     "output_type": "display_data"
    },
    {
     "data": {
      "text/html": [
       "<pre style=\"white-space:pre;overflow-x:auto;line-height:normal;font-family:Menlo,'DejaVu Sans Mono',consolas,'Courier New',monospace\">Loading Daily data for TSCO with starting period 2023-04-13.\n",
       "</pre>\n"
      ],
      "text/plain": [
       "Loading Daily data for TSCO with starting period 2023-04-13.\n"
      ]
     },
     "metadata": {},
     "output_type": "display_data"
    },
    {
     "data": {
      "text/html": [
       "<pre style=\"white-space:pre;overflow-x:auto;line-height:normal;font-family:Menlo,'DejaVu Sans Mono',consolas,'Courier New',monospace\">Loading Daily data for TSCO with starting period 2023-04-13.\n",
       "</pre>\n"
      ],
      "text/plain": [
       "Loading Daily data for TSCO with starting period 2023-04-13.\n"
      ]
     },
     "metadata": {},
     "output_type": "display_data"
    },
    {
     "data": {
      "text/html": [
       "<pre style=\"white-space:pre;overflow-x:auto;line-height:normal;font-family:Menlo,'DejaVu Sans Mono',consolas,'Courier New',monospace\">Loading Daily data for TSCO with starting period 2023-04-12.\n",
       "</pre>\n"
      ],
      "text/plain": [
       "Loading Daily data for TSCO with starting period 2023-04-12.\n"
      ]
     },
     "metadata": {},
     "output_type": "display_data"
    },
    {
     "data": {
      "text/html": [
       "<pre style=\"white-space:pre;overflow-x:auto;line-height:normal;font-family:Menlo,'DejaVu Sans Mono',consolas,'Courier New',monospace\">Loading Daily data for TSCO with starting period 2023-04-12.\n",
       "</pre>\n"
      ],
      "text/plain": [
       "Loading Daily data for TSCO with starting period 2023-04-12.\n"
      ]
     },
     "metadata": {},
     "output_type": "display_data"
    },
    {
     "data": {
      "text/html": [
       "<pre style=\"white-space:pre;overflow-x:auto;line-height:normal;font-family:Menlo,'DejaVu Sans Mono',consolas,'Courier New',monospace\">Loading Daily data for TSCO with starting period 2023-04-10.\n",
       "</pre>\n"
      ],
      "text/plain": [
       "Loading Daily data for TSCO with starting period 2023-04-10.\n"
      ]
     },
     "metadata": {},
     "output_type": "display_data"
    },
    {
     "data": {
      "text/html": [
       "<pre style=\"white-space:pre;overflow-x:auto;line-height:normal;font-family:Menlo,'DejaVu Sans Mono',consolas,'Courier New',monospace\">Loading Daily data for TSCO with starting period 2023-04-10.\n",
       "</pre>\n"
      ],
      "text/plain": [
       "Loading Daily data for TSCO with starting period 2023-04-10.\n"
      ]
     },
     "metadata": {},
     "output_type": "display_data"
    },
    {
     "data": {
      "text/html": [
       "<pre style=\"white-space:pre;overflow-x:auto;line-height:normal;font-family:Menlo,'DejaVu Sans Mono',consolas,'Courier New',monospace\">Loading Daily data for TSCO with starting period 2023-04-10.\n",
       "</pre>\n"
      ],
      "text/plain": [
       "Loading Daily data for TSCO with starting period 2023-04-10.\n"
      ]
     },
     "metadata": {},
     "output_type": "display_data"
    },
    {
     "data": {
      "text/html": [
       "<pre style=\"white-space:pre;overflow-x:auto;line-height:normal;font-family:Menlo,'DejaVu Sans Mono',consolas,'Courier New',monospace\">Loading Daily data for TSCO with starting period 2023-04-10.\n",
       "</pre>\n"
      ],
      "text/plain": [
       "Loading Daily data for TSCO with starting period 2023-04-10.\n"
      ]
     },
     "metadata": {},
     "output_type": "display_data"
    },
    {
     "data": {
      "text/html": [
       "<pre style=\"white-space:pre;overflow-x:auto;line-height:normal;font-family:Menlo,'DejaVu Sans Mono',consolas,'Courier New',monospace\">Loading Daily data for TSCO with starting period 2023-04-10.\n",
       "</pre>\n"
      ],
      "text/plain": [
       "Loading Daily data for TSCO with starting period 2023-04-10.\n"
      ]
     },
     "metadata": {},
     "output_type": "display_data"
    },
    {
     "data": {
      "text/html": [
       "<pre style=\"white-space:pre;overflow-x:auto;line-height:normal;font-family:Menlo,'DejaVu Sans Mono',consolas,'Courier New',monospace\">Loading Daily data for TSCO with starting period 2023-04-10.\n",
       "</pre>\n"
      ],
      "text/plain": [
       "Loading Daily data for TSCO with starting period 2023-04-10.\n"
      ]
     },
     "metadata": {},
     "output_type": "display_data"
    },
    {
     "data": {
      "text/html": [
       "<pre style=\"white-space:pre;overflow-x:auto;line-height:normal;font-family:Menlo,'DejaVu Sans Mono',consolas,'Courier New',monospace\">Loading Daily data for TSCO with starting period 2023-04-10.\n",
       "</pre>\n"
      ],
      "text/plain": [
       "Loading Daily data for TSCO with starting period 2023-04-10.\n"
      ]
     },
     "metadata": {},
     "output_type": "display_data"
    },
    {
     "data": {
      "text/html": [
       "<pre style=\"white-space:pre;overflow-x:auto;line-height:normal;font-family:Menlo,'DejaVu Sans Mono',consolas,'Courier New',monospace\">Loading Daily data for TSCO with starting period 2023-04-10.\n",
       "</pre>\n"
      ],
      "text/plain": [
       "Loading Daily data for TSCO with starting period 2023-04-10.\n"
      ]
     },
     "metadata": {},
     "output_type": "display_data"
    },
    {
     "data": {
      "text/html": [
       "<pre style=\"white-space:pre;overflow-x:auto;line-height:normal;font-family:Menlo,'DejaVu Sans Mono',consolas,'Courier New',monospace\">Loading Daily data for TSCO with starting period 2023-04-10.\n",
       "</pre>\n"
      ],
      "text/plain": [
       "Loading Daily data for TSCO with starting period 2023-04-10.\n"
      ]
     },
     "metadata": {},
     "output_type": "display_data"
    },
    {
     "data": {
      "text/html": [
       "<pre style=\"white-space:pre;overflow-x:auto;line-height:normal;font-family:Menlo,'DejaVu Sans Mono',consolas,'Courier New',monospace\">Loading Daily data for TSCO with starting period 2023-04-10.\n",
       "</pre>\n"
      ],
      "text/plain": [
       "Loading Daily data for TSCO with starting period 2023-04-10.\n"
      ]
     },
     "metadata": {},
     "output_type": "display_data"
    },
    {
     "data": {
      "text/html": [
       "<pre style=\"white-space:pre;overflow-x:auto;line-height:normal;font-family:Menlo,'DejaVu Sans Mono',consolas,'Courier New',monospace\">Loading Daily data for TSCO with starting period 2023-04-10.\n",
       "</pre>\n"
      ],
      "text/plain": [
       "Loading Daily data for TSCO with starting period 2023-04-10.\n"
      ]
     },
     "metadata": {},
     "output_type": "display_data"
    },
    {
     "data": {
      "text/html": [
       "<pre style=\"white-space:pre;overflow-x:auto;line-height:normal;font-family:Menlo,'DejaVu Sans Mono',consolas,'Courier New',monospace\">Loading Daily data for TSCO with starting period 2023-04-10.\n",
       "</pre>\n"
      ],
      "text/plain": [
       "Loading Daily data for TSCO with starting period 2023-04-10.\n"
      ]
     },
     "metadata": {},
     "output_type": "display_data"
    },
    {
     "data": {
      "text/html": [
       "<pre style=\"white-space:pre;overflow-x:auto;line-height:normal;font-family:Menlo,'DejaVu Sans Mono',consolas,'Courier New',monospace\">Loading Daily data for TSCO with starting period 2023-04-10.\n",
       "</pre>\n"
      ],
      "text/plain": [
       "Loading Daily data for TSCO with starting period 2023-04-10.\n"
      ]
     },
     "metadata": {},
     "output_type": "display_data"
    },
    {
     "data": {
      "text/html": [
       "<pre style=\"white-space:pre;overflow-x:auto;line-height:normal;font-family:Menlo,'DejaVu Sans Mono',consolas,'Courier New',monospace\">Loading Daily data for TSCO with starting period 2023-04-10.\n",
       "</pre>\n"
      ],
      "text/plain": [
       "Loading Daily data for TSCO with starting period 2023-04-10.\n"
      ]
     },
     "metadata": {},
     "output_type": "display_data"
    },
    {
     "data": {
      "text/html": [
       "<pre style=\"white-space:pre;overflow-x:auto;line-height:normal;font-family:Menlo,'DejaVu Sans Mono',consolas,'Courier New',monospace\">Loading Daily data for TSCO with starting period 2023-04-10.\n",
       "</pre>\n"
      ],
      "text/plain": [
       "Loading Daily data for TSCO with starting period 2023-04-10.\n"
      ]
     },
     "metadata": {},
     "output_type": "display_data"
    },
    {
     "data": {
      "text/html": [
       "<pre style=\"white-space:pre;overflow-x:auto;line-height:normal;font-family:Menlo,'DejaVu Sans Mono',consolas,'Courier New',monospace\">Loading Daily data for TSCO with starting period 2023-04-10.\n",
       "</pre>\n"
      ],
      "text/plain": [
       "Loading Daily data for TSCO with starting period 2023-04-10.\n"
      ]
     },
     "metadata": {},
     "output_type": "display_data"
    },
    {
     "data": {
      "text/html": [
       "<pre style=\"white-space:pre;overflow-x:auto;line-height:normal;font-family:Menlo,'DejaVu Sans Mono',consolas,'Courier New',monospace\">Loading Daily data for TSCO with starting period 2023-04-06.\n",
       "</pre>\n"
      ],
      "text/plain": [
       "Loading Daily data for TSCO with starting period 2023-04-06.\n"
      ]
     },
     "metadata": {},
     "output_type": "display_data"
    },
    {
     "data": {
      "text/html": [
       "<pre style=\"white-space:pre;overflow-x:auto;line-height:normal;font-family:Menlo,'DejaVu Sans Mono',consolas,'Courier New',monospace\">Loading Daily data for TSCO with starting period 2023-04-06.\n",
       "</pre>\n"
      ],
      "text/plain": [
       "Loading Daily data for TSCO with starting period 2023-04-06.\n"
      ]
     },
     "metadata": {},
     "output_type": "display_data"
    },
    {
     "data": {
      "text/html": [
       "<pre style=\"white-space:pre;overflow-x:auto;line-height:normal;font-family:Menlo,'DejaVu Sans Mono',consolas,'Courier New',monospace\">Loading Daily data for TSCO with starting period 2023-04-03.\n",
       "</pre>\n"
      ],
      "text/plain": [
       "Loading Daily data for TSCO with starting period 2023-04-03.\n"
      ]
     },
     "metadata": {},
     "output_type": "display_data"
    },
    {
     "data": {
      "text/html": [
       "<pre style=\"white-space:pre;overflow-x:auto;line-height:normal;font-family:Menlo,'DejaVu Sans Mono',consolas,'Courier New',monospace\">Loading Daily data for TSCO with starting period 2023-04-03.\n",
       "</pre>\n"
      ],
      "text/plain": [
       "Loading Daily data for TSCO with starting period 2023-04-03.\n"
      ]
     },
     "metadata": {},
     "output_type": "display_data"
    },
    {
     "data": {
      "text/html": [
       "<pre style=\"white-space:pre;overflow-x:auto;line-height:normal;font-family:Menlo,'DejaVu Sans Mono',consolas,'Courier New',monospace\">Loading Daily data for TSCO with starting period 2023-04-03.\n",
       "</pre>\n"
      ],
      "text/plain": [
       "Loading Daily data for TSCO with starting period 2023-04-03.\n"
      ]
     },
     "metadata": {},
     "output_type": "display_data"
    },
    {
     "data": {
      "text/html": [
       "<pre style=\"white-space:pre;overflow-x:auto;line-height:normal;font-family:Menlo,'DejaVu Sans Mono',consolas,'Courier New',monospace\">Loading Daily data for TSCO with starting period 2023-03-31.\n",
       "</pre>\n"
      ],
      "text/plain": [
       "Loading Daily data for TSCO with starting period 2023-03-31.\n"
      ]
     },
     "metadata": {},
     "output_type": "display_data"
    },
    {
     "data": {
      "text/html": [
       "<pre style=\"white-space:pre;overflow-x:auto;line-height:normal;font-family:Menlo,'DejaVu Sans Mono',consolas,'Courier New',monospace\">Loading Daily data for TSCO with starting period 2023-03-30.\n",
       "</pre>\n"
      ],
      "text/plain": [
       "Loading Daily data for TSCO with starting period 2023-03-30.\n"
      ]
     },
     "metadata": {},
     "output_type": "display_data"
    },
    {
     "data": {
      "text/html": [
       "<pre style=\"white-space:pre;overflow-x:auto;line-height:normal;font-family:Menlo,'DejaVu Sans Mono',consolas,'Courier New',monospace\">Loading Daily data for TSCO with starting period 2023-03-30.\n",
       "</pre>\n"
      ],
      "text/plain": [
       "Loading Daily data for TSCO with starting period 2023-03-30.\n"
      ]
     },
     "metadata": {},
     "output_type": "display_data"
    },
    {
     "data": {
      "text/html": [
       "<pre style=\"white-space:pre;overflow-x:auto;line-height:normal;font-family:Menlo,'DejaVu Sans Mono',consolas,'Courier New',monospace\">Loading Daily data for TSCO with starting period 2023-03-27.\n",
       "</pre>\n"
      ],
      "text/plain": [
       "Loading Daily data for TSCO with starting period 2023-03-27.\n"
      ]
     },
     "metadata": {},
     "output_type": "display_data"
    },
    {
     "data": {
      "text/html": [
       "<pre style=\"white-space:pre;overflow-x:auto;line-height:normal;font-family:Menlo,'DejaVu Sans Mono',consolas,'Courier New',monospace\">Loading Daily data for TSCO with starting period 2023-03-27.\n",
       "</pre>\n"
      ],
      "text/plain": [
       "Loading Daily data for TSCO with starting period 2023-03-27.\n"
      ]
     },
     "metadata": {},
     "output_type": "display_data"
    },
    {
     "data": {
      "text/html": [
       "<pre style=\"white-space:pre;overflow-x:auto;line-height:normal;font-family:Menlo,'DejaVu Sans Mono',consolas,'Courier New',monospace\">Loading Daily data for TSCO with starting period 2023-03-23.\n",
       "</pre>\n"
      ],
      "text/plain": [
       "Loading Daily data for TSCO with starting period 2023-03-23.\n"
      ]
     },
     "metadata": {},
     "output_type": "display_data"
    },
    {
     "data": {
      "text/html": [
       "<pre style=\"white-space:pre;overflow-x:auto;line-height:normal;font-family:Menlo,'DejaVu Sans Mono',consolas,'Courier New',monospace\">Loading Daily data for TSCO with starting period 2023-03-22.\n",
       "</pre>\n"
      ],
      "text/plain": [
       "Loading Daily data for TSCO with starting period 2023-03-22.\n"
      ]
     },
     "metadata": {},
     "output_type": "display_data"
    },
    {
     "data": {
      "text/html": [
       "<pre style=\"white-space:pre;overflow-x:auto;line-height:normal;font-family:Menlo,'DejaVu Sans Mono',consolas,'Courier New',monospace\">Loading Daily data for TSCO with starting period 2023-03-20.\n",
       "</pre>\n"
      ],
      "text/plain": [
       "Loading Daily data for TSCO with starting period 2023-03-20.\n"
      ]
     },
     "metadata": {},
     "output_type": "display_data"
    },
    {
     "data": {
      "text/html": [
       "<pre style=\"white-space:pre;overflow-x:auto;line-height:normal;font-family:Menlo,'DejaVu Sans Mono',consolas,'Courier New',monospace\">Loading Daily data for TSCO with starting period 2023-03-20.\n",
       "</pre>\n"
      ],
      "text/plain": [
       "Loading Daily data for TSCO with starting period 2023-03-20.\n"
      ]
     },
     "metadata": {},
     "output_type": "display_data"
    },
    {
     "data": {
      "text/html": [
       "<pre style=\"white-space:pre;overflow-x:auto;line-height:normal;font-family:Menlo,'DejaVu Sans Mono',consolas,'Courier New',monospace\">Loading Daily data for TSCO with starting period 2023-03-20.\n",
       "</pre>\n"
      ],
      "text/plain": [
       "Loading Daily data for TSCO with starting period 2023-03-20.\n"
      ]
     },
     "metadata": {},
     "output_type": "display_data"
    },
    {
     "data": {
      "text/html": [
       "<pre style=\"white-space:pre;overflow-x:auto;line-height:normal;font-family:Menlo,'DejaVu Sans Mono',consolas,'Courier New',monospace\">Loading Daily data for TSCO with starting period 2023-03-20.\n",
       "</pre>\n"
      ],
      "text/plain": [
       "Loading Daily data for TSCO with starting period 2023-03-20.\n"
      ]
     },
     "metadata": {},
     "output_type": "display_data"
    },
    {
     "data": {
      "text/html": [
       "<pre style=\"white-space:pre;overflow-x:auto;line-height:normal;font-family:Menlo,'DejaVu Sans Mono',consolas,'Courier New',monospace\">Loading Daily data for TSCO with starting period 2023-03-20.\n",
       "</pre>\n"
      ],
      "text/plain": [
       "Loading Daily data for TSCO with starting period 2023-03-20.\n"
      ]
     },
     "metadata": {},
     "output_type": "display_data"
    },
    {
     "data": {
      "text/html": [
       "<pre style=\"white-space:pre;overflow-x:auto;line-height:normal;font-family:Menlo,'DejaVu Sans Mono',consolas,'Courier New',monospace\">Loading Daily data for TSCO with starting period 2023-03-16.\n",
       "</pre>\n"
      ],
      "text/plain": [
       "Loading Daily data for TSCO with starting period 2023-03-16.\n"
      ]
     },
     "metadata": {},
     "output_type": "display_data"
    },
    {
     "data": {
      "text/html": [
       "<pre style=\"white-space:pre;overflow-x:auto;line-height:normal;font-family:Menlo,'DejaVu Sans Mono',consolas,'Courier New',monospace\">Loading Daily data for TSCO with starting period 2023-03-13.\n",
       "</pre>\n"
      ],
      "text/plain": [
       "Loading Daily data for TSCO with starting period 2023-03-13.\n"
      ]
     },
     "metadata": {},
     "output_type": "display_data"
    },
    {
     "data": {
      "text/html": [
       "<pre style=\"white-space:pre;overflow-x:auto;line-height:normal;font-family:Menlo,'DejaVu Sans Mono',consolas,'Courier New',monospace\">Loading Daily data for TSCO with starting period 2023-03-13.\n",
       "</pre>\n"
      ],
      "text/plain": [
       "Loading Daily data for TSCO with starting period 2023-03-13.\n"
      ]
     },
     "metadata": {},
     "output_type": "display_data"
    },
    {
     "data": {
      "text/html": [
       "<pre style=\"white-space:pre;overflow-x:auto;line-height:normal;font-family:Menlo,'DejaVu Sans Mono',consolas,'Courier New',monospace\">Loading Daily data for TSCO with starting period 2023-03-13.\n",
       "</pre>\n"
      ],
      "text/plain": [
       "Loading Daily data for TSCO with starting period 2023-03-13.\n"
      ]
     },
     "metadata": {},
     "output_type": "display_data"
    },
    {
     "data": {
      "text/html": [
       "<pre style=\"white-space:pre;overflow-x:auto;line-height:normal;font-family:Menlo,'DejaVu Sans Mono',consolas,'Courier New',monospace\">Loading Daily data for TSCO with starting period 2023-03-13.\n",
       "</pre>\n"
      ],
      "text/plain": [
       "Loading Daily data for TSCO with starting period 2023-03-13.\n"
      ]
     },
     "metadata": {},
     "output_type": "display_data"
    },
    {
     "data": {
      "text/html": [
       "<pre style=\"white-space:pre;overflow-x:auto;line-height:normal;font-family:Menlo,'DejaVu Sans Mono',consolas,'Courier New',monospace\">Loading Daily data for TSCO with starting period 2023-03-10.\n",
       "</pre>\n"
      ],
      "text/plain": [
       "Loading Daily data for TSCO with starting period 2023-03-10.\n"
      ]
     },
     "metadata": {},
     "output_type": "display_data"
    },
    {
     "data": {
      "text/html": [
       "<pre style=\"white-space:pre;overflow-x:auto;line-height:normal;font-family:Menlo,'DejaVu Sans Mono',consolas,'Courier New',monospace\">Loading Daily data for TSCO with starting period 2023-03-06.\n",
       "</pre>\n"
      ],
      "text/plain": [
       "Loading Daily data for TSCO with starting period 2023-03-06.\n"
      ]
     },
     "metadata": {},
     "output_type": "display_data"
    },
    {
     "data": {
      "text/html": [
       "<pre style=\"white-space:pre;overflow-x:auto;line-height:normal;font-family:Menlo,'DejaVu Sans Mono',consolas,'Courier New',monospace\">Loading Daily data for TSCO with starting period 2023-03-03.\n",
       "</pre>\n"
      ],
      "text/plain": [
       "Loading Daily data for TSCO with starting period 2023-03-03.\n"
      ]
     },
     "metadata": {},
     "output_type": "display_data"
    },
    {
     "data": {
      "text/html": [
       "<pre style=\"white-space:pre;overflow-x:auto;line-height:normal;font-family:Menlo,'DejaVu Sans Mono',consolas,'Courier New',monospace\">Loading Daily data for TSCO with starting period 2023-03-02.\n",
       "</pre>\n"
      ],
      "text/plain": [
       "Loading Daily data for TSCO with starting period 2023-03-02.\n"
      ]
     },
     "metadata": {},
     "output_type": "display_data"
    },
    {
     "data": {
      "text/html": [
       "<pre style=\"white-space:pre;overflow-x:auto;line-height:normal;font-family:Menlo,'DejaVu Sans Mono',consolas,'Courier New',monospace\">Loading Daily data for TSCO with starting period 2023-03-02.\n",
       "</pre>\n"
      ],
      "text/plain": [
       "Loading Daily data for TSCO with starting period 2023-03-02.\n"
      ]
     },
     "metadata": {},
     "output_type": "display_data"
    },
    {
     "data": {
      "text/html": [
       "<pre style=\"white-space:pre;overflow-x:auto;line-height:normal;font-family:Menlo,'DejaVu Sans Mono',consolas,'Courier New',monospace\">Loading Daily data for TSCO with starting period 2023-02-27.\n",
       "</pre>\n"
      ],
      "text/plain": [
       "Loading Daily data for TSCO with starting period 2023-02-27.\n"
      ]
     },
     "metadata": {},
     "output_type": "display_data"
    },
    {
     "data": {
      "text/html": [
       "<pre style=\"white-space:pre;overflow-x:auto;line-height:normal;font-family:Menlo,'DejaVu Sans Mono',consolas,'Courier New',monospace\">Loading Daily data for TSCO with starting period 2023-02-27.\n",
       "</pre>\n"
      ],
      "text/plain": [
       "Loading Daily data for TSCO with starting period 2023-02-27.\n"
      ]
     },
     "metadata": {},
     "output_type": "display_data"
    },
    {
     "data": {
      "text/html": [
       "<pre style=\"white-space:pre;overflow-x:auto;line-height:normal;font-family:Menlo,'DejaVu Sans Mono',consolas,'Courier New',monospace\">Loading Daily data for TSCO with starting period 2023-02-24.\n",
       "</pre>\n"
      ],
      "text/plain": [
       "Loading Daily data for TSCO with starting period 2023-02-24.\n"
      ]
     },
     "metadata": {},
     "output_type": "display_data"
    },
    {
     "data": {
      "text/html": [
       "<pre style=\"white-space:pre;overflow-x:auto;line-height:normal;font-family:Menlo,'DejaVu Sans Mono',consolas,'Courier New',monospace\">Loading Daily data for TSCO with starting period 2023-02-23.\n",
       "</pre>\n"
      ],
      "text/plain": [
       "Loading Daily data for TSCO with starting period 2023-02-23.\n"
      ]
     },
     "metadata": {},
     "output_type": "display_data"
    },
    {
     "data": {
      "text/html": [
       "<pre style=\"white-space:pre;overflow-x:auto;line-height:normal;font-family:Menlo,'DejaVu Sans Mono',consolas,'Courier New',monospace\">Loading Daily data for TSCO with starting period 2023-02-16.\n",
       "</pre>\n"
      ],
      "text/plain": [
       "Loading Daily data for TSCO with starting period 2023-02-16.\n"
      ]
     },
     "metadata": {},
     "output_type": "display_data"
    },
    {
     "data": {
      "text/html": [
       "<pre style=\"white-space:pre;overflow-x:auto;line-height:normal;font-family:Menlo,'DejaVu Sans Mono',consolas,'Courier New',monospace\">Loading Daily data for TSCO with starting period 2023-02-15.\n",
       "</pre>\n"
      ],
      "text/plain": [
       "Loading Daily data for TSCO with starting period 2023-02-15.\n"
      ]
     },
     "metadata": {},
     "output_type": "display_data"
    },
    {
     "data": {
      "text/html": [
       "<pre style=\"white-space:pre;overflow-x:auto;line-height:normal;font-family:Menlo,'DejaVu Sans Mono',consolas,'Courier New',monospace\">Loading Daily data for TSCO with starting period 2023-02-08.\n",
       "</pre>\n"
      ],
      "text/plain": [
       "Loading Daily data for TSCO with starting period 2023-02-08.\n"
      ]
     },
     "metadata": {},
     "output_type": "display_data"
    },
    {
     "data": {
      "text/html": [
       "<pre style=\"white-space:pre;overflow-x:auto;line-height:normal;font-family:Menlo,'DejaVu Sans Mono',consolas,'Courier New',monospace\">Loading Daily data for TSCO with starting period 2023-02-06.\n",
       "</pre>\n"
      ],
      "text/plain": [
       "Loading Daily data for TSCO with starting period 2023-02-06.\n"
      ]
     },
     "metadata": {},
     "output_type": "display_data"
    },
    {
     "data": {
      "text/html": [
       "<pre style=\"white-space:pre;overflow-x:auto;line-height:normal;font-family:Menlo,'DejaVu Sans Mono',consolas,'Courier New',monospace\">Loading Daily data for TSCO with starting period 2023-02-06.\n",
       "</pre>\n"
      ],
      "text/plain": [
       "Loading Daily data for TSCO with starting period 2023-02-06.\n"
      ]
     },
     "metadata": {},
     "output_type": "display_data"
    },
    {
     "data": {
      "text/html": [
       "<pre style=\"white-space:pre;overflow-x:auto;line-height:normal;font-family:Menlo,'DejaVu Sans Mono',consolas,'Courier New',monospace\">Loading Daily data for TSCO with starting period 2023-02-02.\n",
       "</pre>\n"
      ],
      "text/plain": [
       "Loading Daily data for TSCO with starting period 2023-02-02.\n"
      ]
     },
     "metadata": {},
     "output_type": "display_data"
    },
    {
     "data": {
      "text/html": [
       "<pre style=\"white-space:pre;overflow-x:auto;line-height:normal;font-family:Menlo,'DejaVu Sans Mono',consolas,'Courier New',monospace\">Loading Daily data for TSCO with starting period 2023-01-30.\n",
       "</pre>\n"
      ],
      "text/plain": [
       "Loading Daily data for TSCO with starting period 2023-01-30.\n"
      ]
     },
     "metadata": {},
     "output_type": "display_data"
    },
    {
     "data": {
      "text/html": [
       "<pre style=\"white-space:pre;overflow-x:auto;line-height:normal;font-family:Menlo,'DejaVu Sans Mono',consolas,'Courier New',monospace\">Loading Daily data for TSCO with starting period 2023-01-27.\n",
       "</pre>\n"
      ],
      "text/plain": [
       "Loading Daily data for TSCO with starting period 2023-01-27.\n"
      ]
     },
     "metadata": {},
     "output_type": "display_data"
    },
    {
     "data": {
      "text/html": [
       "<pre style=\"white-space:pre;overflow-x:auto;line-height:normal;font-family:Menlo,'DejaVu Sans Mono',consolas,'Courier New',monospace\">Loading Daily data for TSCO with starting period 2023-01-25.\n",
       "</pre>\n"
      ],
      "text/plain": [
       "Loading Daily data for TSCO with starting period 2023-01-25.\n"
      ]
     },
     "metadata": {},
     "output_type": "display_data"
    },
    {
     "data": {
      "text/html": [
       "<pre style=\"white-space:pre;overflow-x:auto;line-height:normal;font-family:Menlo,'DejaVu Sans Mono',consolas,'Courier New',monospace\">Loading Daily data for TSCO with starting period 2023-01-23.\n",
       "</pre>\n"
      ],
      "text/plain": [
       "Loading Daily data for TSCO with starting period 2023-01-23.\n"
      ]
     },
     "metadata": {},
     "output_type": "display_data"
    },
    {
     "data": {
      "text/html": [
       "<pre style=\"white-space:pre;overflow-x:auto;line-height:normal;font-family:Menlo,'DejaVu Sans Mono',consolas,'Courier New',monospace\">Loading Daily data for TSCO with starting period 2023-01-23.\n",
       "</pre>\n"
      ],
      "text/plain": [
       "Loading Daily data for TSCO with starting period 2023-01-23.\n"
      ]
     },
     "metadata": {},
     "output_type": "display_data"
    },
    {
     "data": {
      "text/html": [
       "<pre style=\"white-space:pre;overflow-x:auto;line-height:normal;font-family:Menlo,'DejaVu Sans Mono',consolas,'Courier New',monospace\">Loading Daily data for TSCO with starting period 2023-01-23.\n",
       "</pre>\n"
      ],
      "text/plain": [
       "Loading Daily data for TSCO with starting period 2023-01-23.\n"
      ]
     },
     "metadata": {},
     "output_type": "display_data"
    },
    {
     "data": {
      "text/html": [
       "<pre style=\"white-space:pre;overflow-x:auto;line-height:normal;font-family:Menlo,'DejaVu Sans Mono',consolas,'Courier New',monospace\">Loading Daily data for TSCO with starting period 2023-01-23.\n",
       "</pre>\n"
      ],
      "text/plain": [
       "Loading Daily data for TSCO with starting period 2023-01-23.\n"
      ]
     },
     "metadata": {},
     "output_type": "display_data"
    },
    {
     "data": {
      "text/html": [
       "<pre style=\"white-space:pre;overflow-x:auto;line-height:normal;font-family:Menlo,'DejaVu Sans Mono',consolas,'Courier New',monospace\">Loading Daily data for TSCO with starting period 2023-01-17.\n",
       "</pre>\n"
      ],
      "text/plain": [
       "Loading Daily data for TSCO with starting period 2023-01-17.\n"
      ]
     },
     "metadata": {},
     "output_type": "display_data"
    },
    {
     "data": {
      "text/html": [
       "<pre style=\"white-space:pre;overflow-x:auto;line-height:normal;font-family:Menlo,'DejaVu Sans Mono',consolas,'Courier New',monospace\">Loading Daily data for TSCO with starting period 2023-01-17.\n",
       "</pre>\n"
      ],
      "text/plain": [
       "Loading Daily data for TSCO with starting period 2023-01-17.\n"
      ]
     },
     "metadata": {},
     "output_type": "display_data"
    },
    {
     "data": {
      "text/html": [
       "<pre style=\"white-space:pre;overflow-x:auto;line-height:normal;font-family:Menlo,'DejaVu Sans Mono',consolas,'Courier New',monospace\">Loading Daily data for TSCO with starting period 2023-01-17.\n",
       "</pre>\n"
      ],
      "text/plain": [
       "Loading Daily data for TSCO with starting period 2023-01-17.\n"
      ]
     },
     "metadata": {},
     "output_type": "display_data"
    },
    {
     "data": {
      "text/html": [
       "<pre style=\"white-space:pre;overflow-x:auto;line-height:normal;font-family:Menlo,'DejaVu Sans Mono',consolas,'Courier New',monospace\">Loading Daily data for TSCO with starting period 2023-01-17.\n",
       "</pre>\n"
      ],
      "text/plain": [
       "Loading Daily data for TSCO with starting period 2023-01-17.\n"
      ]
     },
     "metadata": {},
     "output_type": "display_data"
    },
    {
     "data": {
      "text/html": [
       "<pre style=\"white-space:pre;overflow-x:auto;line-height:normal;font-family:Menlo,'DejaVu Sans Mono',consolas,'Courier New',monospace\">Loading Daily data for TSCO with starting period 2023-01-11.\n",
       "</pre>\n"
      ],
      "text/plain": [
       "Loading Daily data for TSCO with starting period 2023-01-11.\n"
      ]
     },
     "metadata": {},
     "output_type": "display_data"
    },
    {
     "data": {
      "text/html": [
       "<pre style=\"white-space:pre;overflow-x:auto;line-height:normal;font-family:Menlo,'DejaVu Sans Mono',consolas,'Courier New',monospace\">Loading Daily data for TSCO with starting period 2023-01-03.\n",
       "</pre>\n"
      ],
      "text/plain": [
       "Loading Daily data for TSCO with starting period 2023-01-03.\n"
      ]
     },
     "metadata": {},
     "output_type": "display_data"
    },
    {
     "data": {
      "text/html": [
       "<pre style=\"white-space:pre;overflow-x:auto;line-height:normal;font-family:Menlo,'DejaVu Sans Mono',consolas,'Courier New',monospace\">Loading Daily data for TSCO with starting period 2023-01-03.\n",
       "</pre>\n"
      ],
      "text/plain": [
       "Loading Daily data for TSCO with starting period 2023-01-03.\n"
      ]
     },
     "metadata": {},
     "output_type": "display_data"
    },
    {
     "data": {
      "text/html": [
       "<pre style=\"white-space:pre;overflow-x:auto;line-height:normal;font-family:Menlo,'DejaVu Sans Mono',consolas,'Courier New',monospace\">Loading Daily data for TSCO with starting period 2023-01-03.\n",
       "</pre>\n"
      ],
      "text/plain": [
       "Loading Daily data for TSCO with starting period 2023-01-03.\n"
      ]
     },
     "metadata": {},
     "output_type": "display_data"
    },
    {
     "data": {
      "text/html": [
       "<pre style=\"white-space:pre;overflow-x:auto;line-height:normal;font-family:Menlo,'DejaVu Sans Mono',consolas,'Courier New',monospace\">Loading Daily data for TSCO with starting period 2022-12-30.\n",
       "</pre>\n"
      ],
      "text/plain": [
       "Loading Daily data for TSCO with starting period 2022-12-30.\n"
      ]
     },
     "metadata": {},
     "output_type": "display_data"
    },
    {
     "data": {
      "text/html": [
       "<pre style=\"white-space:pre;overflow-x:auto;line-height:normal;font-family:Menlo,'DejaVu Sans Mono',consolas,'Courier New',monospace\">Loading Daily data for TSCO with starting period 2022-12-12.\n",
       "</pre>\n"
      ],
      "text/plain": [
       "Loading Daily data for TSCO with starting period 2022-12-12.\n"
      ]
     },
     "metadata": {},
     "output_type": "display_data"
    },
    {
     "data": {
      "text/html": [
       "<pre style=\"white-space:pre;overflow-x:auto;line-height:normal;font-family:Menlo,'DejaVu Sans Mono',consolas,'Courier New',monospace\">Loading Daily data for TSCO with starting period 2022-12-12.\n",
       "</pre>\n"
      ],
      "text/plain": [
       "Loading Daily data for TSCO with starting period 2022-12-12.\n"
      ]
     },
     "metadata": {},
     "output_type": "display_data"
    },
    {
     "data": {
      "text/html": [
       "<pre style=\"white-space:pre;overflow-x:auto;line-height:normal;font-family:Menlo,'DejaVu Sans Mono',consolas,'Courier New',monospace\">Loading Daily data for TSCO with starting period 2022-12-01.\n",
       "</pre>\n"
      ],
      "text/plain": [
       "Loading Daily data for TSCO with starting period 2022-12-01.\n"
      ]
     },
     "metadata": {},
     "output_type": "display_data"
    },
    {
     "data": {
      "text/html": [
       "<pre style=\"white-space:pre;overflow-x:auto;line-height:normal;font-family:Menlo,'DejaVu Sans Mono',consolas,'Courier New',monospace\">Loading Daily data for TSCO with starting period 2022-12-01.\n",
       "</pre>\n"
      ],
      "text/plain": [
       "Loading Daily data for TSCO with starting period 2022-12-01.\n"
      ]
     },
     "metadata": {},
     "output_type": "display_data"
    },
    {
     "data": {
      "text/html": [
       "<pre style=\"white-space:pre;overflow-x:auto;line-height:normal;font-family:Menlo,'DejaVu Sans Mono',consolas,'Courier New',monospace\">Loading Daily data for TSCO with starting period 2022-11-25.\n",
       "</pre>\n"
      ],
      "text/plain": [
       "Loading Daily data for TSCO with starting period 2022-11-25.\n"
      ]
     },
     "metadata": {},
     "output_type": "display_data"
    },
    {
     "data": {
      "text/html": [
       "<pre style=\"white-space:pre;overflow-x:auto;line-height:normal;font-family:Menlo,'DejaVu Sans Mono',consolas,'Courier New',monospace\">Loading Daily data for TSCO with starting period 2022-11-11.\n",
       "</pre>\n"
      ],
      "text/plain": [
       "Loading Daily data for TSCO with starting period 2022-11-11.\n"
      ]
     },
     "metadata": {},
     "output_type": "display_data"
    },
    {
     "data": {
      "text/html": [
       "<pre style=\"white-space:pre;overflow-x:auto;line-height:normal;font-family:Menlo,'DejaVu Sans Mono',consolas,'Courier New',monospace\">Loading Daily data for TSCO with starting period 2022-11-02.\n",
       "</pre>\n"
      ],
      "text/plain": [
       "Loading Daily data for TSCO with starting period 2022-11-02.\n"
      ]
     },
     "metadata": {},
     "output_type": "display_data"
    },
    {
     "data": {
      "text/html": [
       "<pre style=\"white-space:pre;overflow-x:auto;line-height:normal;font-family:Menlo,'DejaVu Sans Mono',consolas,'Courier New',monospace\">Loading Daily data for TSCO with starting period 2022-10-28.\n",
       "</pre>\n"
      ],
      "text/plain": [
       "Loading Daily data for TSCO with starting period 2022-10-28.\n"
      ]
     },
     "metadata": {},
     "output_type": "display_data"
    },
    {
     "data": {
      "text/html": [
       "<pre style=\"white-space:pre;overflow-x:auto;line-height:normal;font-family:Menlo,'DejaVu Sans Mono',consolas,'Courier New',monospace\">Loading Daily data for TSCO with starting period 2022-10-10.\n",
       "</pre>\n"
      ],
      "text/plain": [
       "Loading Daily data for TSCO with starting period 2022-10-10.\n"
      ]
     },
     "metadata": {},
     "output_type": "display_data"
    },
    {
     "data": {
      "text/html": [
       "<pre style=\"white-space:pre;overflow-x:auto;line-height:normal;font-family:Menlo,'DejaVu Sans Mono',consolas,'Courier New',monospace\">Loading Daily data for TSCO with starting period 2022-10-06.\n",
       "</pre>\n"
      ],
      "text/plain": [
       "Loading Daily data for TSCO with starting period 2022-10-06.\n"
      ]
     },
     "metadata": {},
     "output_type": "display_data"
    },
    {
     "data": {
      "text/html": [
       "<pre style=\"white-space:pre;overflow-x:auto;line-height:normal;font-family:Menlo,'DejaVu Sans Mono',consolas,'Courier New',monospace\">Loading Daily data for TSCO with starting period 2022-09-29.\n",
       "</pre>\n"
      ],
      "text/plain": [
       "Loading Daily data for TSCO with starting period 2022-09-29.\n"
      ]
     },
     "metadata": {},
     "output_type": "display_data"
    },
    {
     "data": {
      "text/html": [
       "<pre style=\"white-space:pre;overflow-x:auto;line-height:normal;font-family:Menlo,'DejaVu Sans Mono',consolas,'Courier New',monospace\">Loading Daily data for TSCO with starting period 2022-09-12.\n",
       "</pre>\n"
      ],
      "text/plain": [
       "Loading Daily data for TSCO with starting period 2022-09-12.\n"
      ]
     },
     "metadata": {},
     "output_type": "display_data"
    },
    {
     "data": {
      "text/html": [
       "<pre style=\"white-space:pre;overflow-x:auto;line-height:normal;font-family:Menlo,'DejaVu Sans Mono',consolas,'Courier New',monospace\">Loading Daily data for TSCO with starting period 2022-09-08.\n",
       "</pre>\n"
      ],
      "text/plain": [
       "Loading Daily data for TSCO with starting period 2022-09-08.\n"
      ]
     },
     "metadata": {},
     "output_type": "display_data"
    },
    {
     "data": {
      "text/html": [
       "<pre style=\"white-space:pre;overflow-x:auto;line-height:normal;font-family:Menlo,'DejaVu Sans Mono',consolas,'Courier New',monospace\">Loading Daily data for TSCO with starting period 2022-08-11.\n",
       "</pre>\n"
      ],
      "text/plain": [
       "Loading Daily data for TSCO with starting period 2022-08-11.\n"
      ]
     },
     "metadata": {},
     "output_type": "display_data"
    },
    {
     "data": {
      "text/html": [
       "<pre style=\"white-space:pre;overflow-x:auto;line-height:normal;font-family:Menlo,'DejaVu Sans Mono',consolas,'Courier New',monospace\">Loading Daily data for TSCO with starting period 2022-07-18.\n",
       "</pre>\n"
      ],
      "text/plain": [
       "Loading Daily data for TSCO with starting period 2022-07-18.\n"
      ]
     },
     "metadata": {},
     "output_type": "display_data"
    },
    {
     "data": {
      "text/html": [
       "<pre style=\"white-space:pre;overflow-x:auto;line-height:normal;font-family:Menlo,'DejaVu Sans Mono',consolas,'Courier New',monospace\">Loading Daily data for TSCO with starting period 2022-06-16.\n",
       "</pre>\n"
      ],
      "text/plain": [
       "Loading Daily data for TSCO with starting period 2022-06-16.\n"
      ]
     },
     "metadata": {},
     "output_type": "display_data"
    },
    {
     "data": {
      "text/html": [
       "<pre style=\"white-space:pre;overflow-x:auto;line-height:normal;font-family:Menlo,'DejaVu Sans Mono',consolas,'Courier New',monospace\">Loading Daily data for TSCO with starting period 2022-04-14.\n",
       "</pre>\n"
      ],
      "text/plain": [
       "Loading Daily data for TSCO with starting period 2022-04-14.\n"
      ]
     },
     "metadata": {},
     "output_type": "display_data"
    },
    {
     "data": {
      "text/html": [
       "<pre style=\"white-space:pre;overflow-x:auto;line-height:normal;font-family:Menlo,'DejaVu Sans Mono',consolas,'Courier New',monospace\">Loading Daily data for TSCO with starting period 2022-03-30.\n",
       "</pre>\n"
      ],
      "text/plain": [
       "Loading Daily data for TSCO with starting period 2022-03-30.\n"
      ]
     },
     "metadata": {},
     "output_type": "display_data"
    },
    {
     "data": {
      "text/html": [
       "<pre style=\"white-space:pre;overflow-x:auto;line-height:normal;font-family:Menlo,'DejaVu Sans Mono',consolas,'Courier New',monospace\">Loading Daily data for TSCO with starting period 2021-01-12.\n",
       "</pre>\n"
      ],
      "text/plain": [
       "Loading Daily data for TSCO with starting period 2021-01-12.\n"
      ]
     },
     "metadata": {},
     "output_type": "display_data"
    },
    {
     "data": {
      "text/html": [
       "<pre style=\"white-space:pre;overflow-x:auto;line-height:normal;font-family:Menlo,'DejaVu Sans Mono',consolas,'Courier New',monospace\">Loading Daily data for AAPL with starting period 2023-04-18.\n",
       "</pre>\n"
      ],
      "text/plain": [
       "Loading Daily data for AAPL with starting period 2023-04-18.\n"
      ]
     },
     "metadata": {},
     "output_type": "display_data"
    },
    {
     "data": {
      "text/html": [
       "<pre style=\"white-space:pre;overflow-x:auto;line-height:normal;font-family:Menlo,'DejaVu Sans Mono',consolas,'Courier New',monospace\">Loading Daily data for AAPL with starting period 2023-04-18.\n",
       "</pre>\n"
      ],
      "text/plain": [
       "Loading Daily data for AAPL with starting period 2023-04-18.\n"
      ]
     },
     "metadata": {},
     "output_type": "display_data"
    },
    {
     "data": {
      "text/html": [
       "<pre style=\"white-space:pre;overflow-x:auto;line-height:normal;font-family:Menlo,'DejaVu Sans Mono',consolas,'Courier New',monospace\">Loading Daily data for AAPL with starting period 2023-04-18.\n",
       "</pre>\n"
      ],
      "text/plain": [
       "Loading Daily data for AAPL with starting period 2023-04-18.\n"
      ]
     },
     "metadata": {},
     "output_type": "display_data"
    },
    {
     "data": {
      "text/html": [
       "<pre style=\"white-space:pre;overflow-x:auto;line-height:normal;font-family:Menlo,'DejaVu Sans Mono',consolas,'Courier New',monospace\">Loading Daily data for AAPL with starting period 2023-04-18.\n",
       "</pre>\n"
      ],
      "text/plain": [
       "Loading Daily data for AAPL with starting period 2023-04-18.\n"
      ]
     },
     "metadata": {},
     "output_type": "display_data"
    },
    {
     "data": {
      "text/html": [
       "<pre style=\"white-space:pre;overflow-x:auto;line-height:normal;font-family:Menlo,'DejaVu Sans Mono',consolas,'Courier New',monospace\">Loading Daily data for AAPL with starting period 2023-04-18.\n",
       "</pre>\n"
      ],
      "text/plain": [
       "Loading Daily data for AAPL with starting period 2023-04-18.\n"
      ]
     },
     "metadata": {},
     "output_type": "display_data"
    },
    {
     "data": {
      "text/html": [
       "<pre style=\"white-space:pre;overflow-x:auto;line-height:normal;font-family:Menlo,'DejaVu Sans Mono',consolas,'Courier New',monospace\">Loading Daily data for AAPL with starting period 2023-04-18.\n",
       "</pre>\n"
      ],
      "text/plain": [
       "Loading Daily data for AAPL with starting period 2023-04-18.\n"
      ]
     },
     "metadata": {},
     "output_type": "display_data"
    },
    {
     "data": {
      "text/html": [
       "<pre style=\"white-space:pre;overflow-x:auto;line-height:normal;font-family:Menlo,'DejaVu Sans Mono',consolas,'Courier New',monospace\">Loading Daily data for AAPL with starting period 2023-04-18.\n",
       "</pre>\n"
      ],
      "text/plain": [
       "Loading Daily data for AAPL with starting period 2023-04-18.\n"
      ]
     },
     "metadata": {},
     "output_type": "display_data"
    },
    {
     "data": {
      "text/html": [
       "<pre style=\"white-space:pre;overflow-x:auto;line-height:normal;font-family:Menlo,'DejaVu Sans Mono',consolas,'Courier New',monospace\">Loading Daily data for AAPL with starting period 2023-04-18.\n",
       "</pre>\n"
      ],
      "text/plain": [
       "Loading Daily data for AAPL with starting period 2023-04-18.\n"
      ]
     },
     "metadata": {},
     "output_type": "display_data"
    },
    {
     "data": {
      "text/html": [
       "<pre style=\"white-space:pre;overflow-x:auto;line-height:normal;font-family:Menlo,'DejaVu Sans Mono',consolas,'Courier New',monospace\">Loading Daily data for AAPL with starting period 2023-04-18.\n",
       "</pre>\n"
      ],
      "text/plain": [
       "Loading Daily data for AAPL with starting period 2023-04-18.\n"
      ]
     },
     "metadata": {},
     "output_type": "display_data"
    },
    {
     "data": {
      "text/html": [
       "<pre style=\"white-space:pre;overflow-x:auto;line-height:normal;font-family:Menlo,'DejaVu Sans Mono',consolas,'Courier New',monospace\">Loading Daily data for AAPL with starting period 2023-04-18.\n",
       "</pre>\n"
      ],
      "text/plain": [
       "Loading Daily data for AAPL with starting period 2023-04-18.\n"
      ]
     },
     "metadata": {},
     "output_type": "display_data"
    },
    {
     "data": {
      "text/html": [
       "<pre style=\"white-space:pre;overflow-x:auto;line-height:normal;font-family:Menlo,'DejaVu Sans Mono',consolas,'Courier New',monospace\">Loading Daily data for AAPL with starting period 2023-04-18.\n",
       "</pre>\n"
      ],
      "text/plain": [
       "Loading Daily data for AAPL with starting period 2023-04-18.\n"
      ]
     },
     "metadata": {},
     "output_type": "display_data"
    },
    {
     "data": {
      "text/html": [
       "<pre style=\"white-space:pre;overflow-x:auto;line-height:normal;font-family:Menlo,'DejaVu Sans Mono',consolas,'Courier New',monospace\">Loading Daily data for AAPL with starting period 2023-04-18.\n",
       "</pre>\n"
      ],
      "text/plain": [
       "Loading Daily data for AAPL with starting period 2023-04-18.\n"
      ]
     },
     "metadata": {},
     "output_type": "display_data"
    },
    {
     "data": {
      "text/html": [
       "<pre style=\"white-space:pre;overflow-x:auto;line-height:normal;font-family:Menlo,'DejaVu Sans Mono',consolas,'Courier New',monospace\">Loading Daily data for AAPL with starting period 2023-04-18.\n",
       "</pre>\n"
      ],
      "text/plain": [
       "Loading Daily data for AAPL with starting period 2023-04-18.\n"
      ]
     },
     "metadata": {},
     "output_type": "display_data"
    },
    {
     "data": {
      "text/html": [
       "<pre style=\"white-space:pre;overflow-x:auto;line-height:normal;font-family:Menlo,'DejaVu Sans Mono',consolas,'Courier New',monospace\">Loading Daily data for AAPL with starting period 2023-04-18.\n",
       "</pre>\n"
      ],
      "text/plain": [
       "Loading Daily data for AAPL with starting period 2023-04-18.\n"
      ]
     },
     "metadata": {},
     "output_type": "display_data"
    },
    {
     "data": {
      "text/html": [
       "<pre style=\"white-space:pre;overflow-x:auto;line-height:normal;font-family:Menlo,'DejaVu Sans Mono',consolas,'Courier New',monospace\">Loading Daily data for AAPL with starting period 2023-04-17.\n",
       "</pre>\n"
      ],
      "text/plain": [
       "Loading Daily data for AAPL with starting period 2023-04-17.\n"
      ]
     },
     "metadata": {},
     "output_type": "display_data"
    },
    {
     "data": {
      "text/html": [
       "<pre style=\"white-space:pre;overflow-x:auto;line-height:normal;font-family:Menlo,'DejaVu Sans Mono',consolas,'Courier New',monospace\">Loading Daily data for AAPL with starting period 2023-04-17.\n",
       "</pre>\n"
      ],
      "text/plain": [
       "Loading Daily data for AAPL with starting period 2023-04-17.\n"
      ]
     },
     "metadata": {},
     "output_type": "display_data"
    },
    {
     "data": {
      "text/html": [
       "<pre style=\"white-space:pre;overflow-x:auto;line-height:normal;font-family:Menlo,'DejaVu Sans Mono',consolas,'Courier New',monospace\">Loading Daily data for AAPL with starting period 2023-04-17.\n",
       "</pre>\n"
      ],
      "text/plain": [
       "Loading Daily data for AAPL with starting period 2023-04-17.\n"
      ]
     },
     "metadata": {},
     "output_type": "display_data"
    },
    {
     "data": {
      "text/html": [
       "<pre style=\"white-space:pre;overflow-x:auto;line-height:normal;font-family:Menlo,'DejaVu Sans Mono',consolas,'Courier New',monospace\">Loading Daily data for AAPL with starting period 2023-04-17.\n",
       "</pre>\n"
      ],
      "text/plain": [
       "Loading Daily data for AAPL with starting period 2023-04-17.\n"
      ]
     },
     "metadata": {},
     "output_type": "display_data"
    },
    {
     "data": {
      "text/html": [
       "<pre style=\"white-space:pre;overflow-x:auto;line-height:normal;font-family:Menlo,'DejaVu Sans Mono',consolas,'Courier New',monospace\">Loading Daily data for AAPL with starting period 2023-04-17.\n",
       "</pre>\n"
      ],
      "text/plain": [
       "Loading Daily data for AAPL with starting period 2023-04-17.\n"
      ]
     },
     "metadata": {},
     "output_type": "display_data"
    },
    {
     "data": {
      "text/html": [
       "<pre style=\"white-space:pre;overflow-x:auto;line-height:normal;font-family:Menlo,'DejaVu Sans Mono',consolas,'Courier New',monospace\">Loading Daily data for AAPL with starting period 2023-04-17.\n",
       "</pre>\n"
      ],
      "text/plain": [
       "Loading Daily data for AAPL with starting period 2023-04-17.\n"
      ]
     },
     "metadata": {},
     "output_type": "display_data"
    },
    {
     "data": {
      "text/html": [
       "<pre style=\"white-space:pre;overflow-x:auto;line-height:normal;font-family:Menlo,'DejaVu Sans Mono',consolas,'Courier New',monospace\">Loading Daily data for AAPL with starting period 2023-04-17.\n",
       "</pre>\n"
      ],
      "text/plain": [
       "Loading Daily data for AAPL with starting period 2023-04-17.\n"
      ]
     },
     "metadata": {},
     "output_type": "display_data"
    },
    {
     "data": {
      "text/html": [
       "<pre style=\"white-space:pre;overflow-x:auto;line-height:normal;font-family:Menlo,'DejaVu Sans Mono',consolas,'Courier New',monospace\">Loading Daily data for AAPL with starting period 2023-04-17.\n",
       "</pre>\n"
      ],
      "text/plain": [
       "Loading Daily data for AAPL with starting period 2023-04-17.\n"
      ]
     },
     "metadata": {},
     "output_type": "display_data"
    },
    {
     "data": {
      "text/html": [
       "<pre style=\"white-space:pre;overflow-x:auto;line-height:normal;font-family:Menlo,'DejaVu Sans Mono',consolas,'Courier New',monospace\">Loading Daily data for AAPL with starting period 2023-04-17.\n",
       "</pre>\n"
      ],
      "text/plain": [
       "Loading Daily data for AAPL with starting period 2023-04-17.\n"
      ]
     },
     "metadata": {},
     "output_type": "display_data"
    },
    {
     "data": {
      "text/html": [
       "<pre style=\"white-space:pre;overflow-x:auto;line-height:normal;font-family:Menlo,'DejaVu Sans Mono',consolas,'Courier New',monospace\">Loading Daily data for AAPL with starting period 2023-04-17.\n",
       "</pre>\n"
      ],
      "text/plain": [
       "Loading Daily data for AAPL with starting period 2023-04-17.\n"
      ]
     },
     "metadata": {},
     "output_type": "display_data"
    },
    {
     "data": {
      "text/html": [
       "<pre style=\"white-space:pre;overflow-x:auto;line-height:normal;font-family:Menlo,'DejaVu Sans Mono',consolas,'Courier New',monospace\">Loading Daily data for AAPL with starting period 2023-04-17.\n",
       "</pre>\n"
      ],
      "text/plain": [
       "Loading Daily data for AAPL with starting period 2023-04-17.\n"
      ]
     },
     "metadata": {},
     "output_type": "display_data"
    },
    {
     "data": {
      "text/html": [
       "<pre style=\"white-space:pre;overflow-x:auto;line-height:normal;font-family:Menlo,'DejaVu Sans Mono',consolas,'Courier New',monospace\">Loading Daily data for AAPL with starting period 2023-04-17.\n",
       "</pre>\n"
      ],
      "text/plain": [
       "Loading Daily data for AAPL with starting period 2023-04-17.\n"
      ]
     },
     "metadata": {},
     "output_type": "display_data"
    },
    {
     "data": {
      "text/html": [
       "<pre style=\"white-space:pre;overflow-x:auto;line-height:normal;font-family:Menlo,'DejaVu Sans Mono',consolas,'Courier New',monospace\">Loading Daily data for AAPL with starting period 2023-04-17.\n",
       "</pre>\n"
      ],
      "text/plain": [
       "Loading Daily data for AAPL with starting period 2023-04-17.\n"
      ]
     },
     "metadata": {},
     "output_type": "display_data"
    },
    {
     "data": {
      "text/html": [
       "<pre style=\"white-space:pre;overflow-x:auto;line-height:normal;font-family:Menlo,'DejaVu Sans Mono',consolas,'Courier New',monospace\">Loading Daily data for AAPL with starting period 2023-04-17.\n",
       "</pre>\n"
      ],
      "text/plain": [
       "Loading Daily data for AAPL with starting period 2023-04-17.\n"
      ]
     },
     "metadata": {},
     "output_type": "display_data"
    },
    {
     "data": {
      "text/html": [
       "<pre style=\"white-space:pre;overflow-x:auto;line-height:normal;font-family:Menlo,'DejaVu Sans Mono',consolas,'Courier New',monospace\">Loading Daily data for AAPL with starting period 2023-04-17.\n",
       "</pre>\n"
      ],
      "text/plain": [
       "Loading Daily data for AAPL with starting period 2023-04-17.\n"
      ]
     },
     "metadata": {},
     "output_type": "display_data"
    },
    {
     "data": {
      "text/html": [
       "<pre style=\"white-space:pre;overflow-x:auto;line-height:normal;font-family:Menlo,'DejaVu Sans Mono',consolas,'Courier New',monospace\">Loading Daily data for AAPL with starting period 2023-04-17.\n",
       "</pre>\n"
      ],
      "text/plain": [
       "Loading Daily data for AAPL with starting period 2023-04-17.\n"
      ]
     },
     "metadata": {},
     "output_type": "display_data"
    },
    {
     "data": {
      "text/html": [
       "<pre style=\"white-space:pre;overflow-x:auto;line-height:normal;font-family:Menlo,'DejaVu Sans Mono',consolas,'Courier New',monospace\">Loading Daily data for AAPL with starting period 2023-04-17.\n",
       "</pre>\n"
      ],
      "text/plain": [
       "Loading Daily data for AAPL with starting period 2023-04-17.\n"
      ]
     },
     "metadata": {},
     "output_type": "display_data"
    },
    {
     "data": {
      "text/html": [
       "<pre style=\"white-space:pre;overflow-x:auto;line-height:normal;font-family:Menlo,'DejaVu Sans Mono',consolas,'Courier New',monospace\">Loading Daily data for AAPL with starting period 2023-04-17.\n",
       "</pre>\n"
      ],
      "text/plain": [
       "Loading Daily data for AAPL with starting period 2023-04-17.\n"
      ]
     },
     "metadata": {},
     "output_type": "display_data"
    },
    {
     "data": {
      "text/html": [
       "<pre style=\"white-space:pre;overflow-x:auto;line-height:normal;font-family:Menlo,'DejaVu Sans Mono',consolas,'Courier New',monospace\">Loading Daily data for AAPL with starting period 2023-04-17.\n",
       "</pre>\n"
      ],
      "text/plain": [
       "Loading Daily data for AAPL with starting period 2023-04-17.\n"
      ]
     },
     "metadata": {},
     "output_type": "display_data"
    },
    {
     "data": {
      "text/html": [
       "<pre style=\"white-space:pre;overflow-x:auto;line-height:normal;font-family:Menlo,'DejaVu Sans Mono',consolas,'Courier New',monospace\">Loading Daily data for AAPL with starting period 2023-04-14.\n",
       "</pre>\n"
      ],
      "text/plain": [
       "Loading Daily data for AAPL with starting period 2023-04-14.\n"
      ]
     },
     "metadata": {},
     "output_type": "display_data"
    },
    {
     "data": {
      "text/html": [
       "<pre style=\"white-space:pre;overflow-x:auto;line-height:normal;font-family:Menlo,'DejaVu Sans Mono',consolas,'Courier New',monospace\">Loading Daily data for AAPL with starting period 2023-04-14.\n",
       "</pre>\n"
      ],
      "text/plain": [
       "Loading Daily data for AAPL with starting period 2023-04-14.\n"
      ]
     },
     "metadata": {},
     "output_type": "display_data"
    },
    {
     "data": {
      "text/html": [
       "<pre style=\"white-space:pre;overflow-x:auto;line-height:normal;font-family:Menlo,'DejaVu Sans Mono',consolas,'Courier New',monospace\">Loading Daily data for AAPL with starting period 2023-04-14.\n",
       "</pre>\n"
      ],
      "text/plain": [
       "Loading Daily data for AAPL with starting period 2023-04-14.\n"
      ]
     },
     "metadata": {},
     "output_type": "display_data"
    },
    {
     "data": {
      "text/html": [
       "<pre style=\"white-space:pre;overflow-x:auto;line-height:normal;font-family:Menlo,'DejaVu Sans Mono',consolas,'Courier New',monospace\">Loading Daily data for AAPL with starting period 2023-04-14.\n",
       "</pre>\n"
      ],
      "text/plain": [
       "Loading Daily data for AAPL with starting period 2023-04-14.\n"
      ]
     },
     "metadata": {},
     "output_type": "display_data"
    },
    {
     "data": {
      "text/html": [
       "<pre style=\"white-space:pre;overflow-x:auto;line-height:normal;font-family:Menlo,'DejaVu Sans Mono',consolas,'Courier New',monospace\">Loading Daily data for AAPL with starting period 2023-04-13.\n",
       "</pre>\n"
      ],
      "text/plain": [
       "Loading Daily data for AAPL with starting period 2023-04-13.\n"
      ]
     },
     "metadata": {},
     "output_type": "display_data"
    },
    {
     "data": {
      "text/html": [
       "<pre style=\"white-space:pre;overflow-x:auto;line-height:normal;font-family:Menlo,'DejaVu Sans Mono',consolas,'Courier New',monospace\">Loading Daily data for AAPL with starting period 2023-04-13.\n",
       "</pre>\n"
      ],
      "text/plain": [
       "Loading Daily data for AAPL with starting period 2023-04-13.\n"
      ]
     },
     "metadata": {},
     "output_type": "display_data"
    },
    {
     "data": {
      "text/html": [
       "<pre style=\"white-space:pre;overflow-x:auto;line-height:normal;font-family:Menlo,'DejaVu Sans Mono',consolas,'Courier New',monospace\">Loading Daily data for AAPL with starting period 2023-04-13.\n",
       "</pre>\n"
      ],
      "text/plain": [
       "Loading Daily data for AAPL with starting period 2023-04-13.\n"
      ]
     },
     "metadata": {},
     "output_type": "display_data"
    },
    {
     "data": {
      "text/html": [
       "<pre style=\"white-space:pre;overflow-x:auto;line-height:normal;font-family:Menlo,'DejaVu Sans Mono',consolas,'Courier New',monospace\">Loading Daily data for AAPL with starting period 2023-04-12.\n",
       "</pre>\n"
      ],
      "text/plain": [
       "Loading Daily data for AAPL with starting period 2023-04-12.\n"
      ]
     },
     "metadata": {},
     "output_type": "display_data"
    },
    {
     "data": {
      "text/html": [
       "<pre style=\"white-space:pre;overflow-x:auto;line-height:normal;font-family:Menlo,'DejaVu Sans Mono',consolas,'Courier New',monospace\">Loading Daily data for AAPL with starting period 2023-04-12.\n",
       "</pre>\n"
      ],
      "text/plain": [
       "Loading Daily data for AAPL with starting period 2023-04-12.\n"
      ]
     },
     "metadata": {},
     "output_type": "display_data"
    },
    {
     "data": {
      "text/html": [
       "<pre style=\"white-space:pre;overflow-x:auto;line-height:normal;font-family:Menlo,'DejaVu Sans Mono',consolas,'Courier New',monospace\">Loading Daily data for AAPL with starting period 2023-04-11.\n",
       "</pre>\n"
      ],
      "text/plain": [
       "Loading Daily data for AAPL with starting period 2023-04-11.\n"
      ]
     },
     "metadata": {},
     "output_type": "display_data"
    },
    {
     "data": {
      "text/html": [
       "<pre style=\"white-space:pre;overflow-x:auto;line-height:normal;font-family:Menlo,'DejaVu Sans Mono',consolas,'Courier New',monospace\">Loading Daily data for AAPL with starting period 2023-04-11.\n",
       "</pre>\n"
      ],
      "text/plain": [
       "Loading Daily data for AAPL with starting period 2023-04-11.\n"
      ]
     },
     "metadata": {},
     "output_type": "display_data"
    },
    {
     "data": {
      "text/html": [
       "<pre style=\"white-space:pre;overflow-x:auto;line-height:normal;font-family:Menlo,'DejaVu Sans Mono',consolas,'Courier New',monospace\">Loading Daily data for AAPL with starting period 2023-04-10.\n",
       "</pre>\n"
      ],
      "text/plain": [
       "Loading Daily data for AAPL with starting period 2023-04-10.\n"
      ]
     },
     "metadata": {},
     "output_type": "display_data"
    },
    {
     "data": {
      "text/html": [
       "<pre style=\"white-space:pre;overflow-x:auto;line-height:normal;font-family:Menlo,'DejaVu Sans Mono',consolas,'Courier New',monospace\">Loading Daily data for AAPL with starting period 2023-04-10.\n",
       "</pre>\n"
      ],
      "text/plain": [
       "Loading Daily data for AAPL with starting period 2023-04-10.\n"
      ]
     },
     "metadata": {},
     "output_type": "display_data"
    },
    {
     "data": {
      "text/html": [
       "<pre style=\"white-space:pre;overflow-x:auto;line-height:normal;font-family:Menlo,'DejaVu Sans Mono',consolas,'Courier New',monospace\">Loading Daily data for AAPL with starting period 2023-04-10.\n",
       "</pre>\n"
      ],
      "text/plain": [
       "Loading Daily data for AAPL with starting period 2023-04-10.\n"
      ]
     },
     "metadata": {},
     "output_type": "display_data"
    },
    {
     "data": {
      "text/html": [
       "<pre style=\"white-space:pre;overflow-x:auto;line-height:normal;font-family:Menlo,'DejaVu Sans Mono',consolas,'Courier New',monospace\">Loading Daily data for AAPL with starting period 2023-04-10.\n",
       "</pre>\n"
      ],
      "text/plain": [
       "Loading Daily data for AAPL with starting period 2023-04-10.\n"
      ]
     },
     "metadata": {},
     "output_type": "display_data"
    },
    {
     "data": {
      "text/html": [
       "<pre style=\"white-space:pre;overflow-x:auto;line-height:normal;font-family:Menlo,'DejaVu Sans Mono',consolas,'Courier New',monospace\">Loading Daily data for AAPL with starting period 2023-04-06.\n",
       "</pre>\n"
      ],
      "text/plain": [
       "Loading Daily data for AAPL with starting period 2023-04-06.\n"
      ]
     },
     "metadata": {},
     "output_type": "display_data"
    },
    {
     "data": {
      "text/html": [
       "<pre style=\"white-space:pre;overflow-x:auto;line-height:normal;font-family:Menlo,'DejaVu Sans Mono',consolas,'Courier New',monospace\">Loading Daily data for AAPL with starting period 2023-04-06.\n",
       "</pre>\n"
      ],
      "text/plain": [
       "Loading Daily data for AAPL with starting period 2023-04-06.\n"
      ]
     },
     "metadata": {},
     "output_type": "display_data"
    },
    {
     "data": {
      "text/html": [
       "<pre style=\"white-space:pre;overflow-x:auto;line-height:normal;font-family:Menlo,'DejaVu Sans Mono',consolas,'Courier New',monospace\">Loading Daily data for AAPL with starting period 2023-04-06.\n",
       "</pre>\n"
      ],
      "text/plain": [
       "Loading Daily data for AAPL with starting period 2023-04-06.\n"
      ]
     },
     "metadata": {},
     "output_type": "display_data"
    },
    {
     "data": {
      "text/html": [
       "<pre style=\"white-space:pre;overflow-x:auto;line-height:normal;font-family:Menlo,'DejaVu Sans Mono',consolas,'Courier New',monospace\">Loading Daily data for AAPL with starting period 2023-04-05.\n",
       "</pre>\n"
      ],
      "text/plain": [
       "Loading Daily data for AAPL with starting period 2023-04-05.\n"
      ]
     },
     "metadata": {},
     "output_type": "display_data"
    },
    {
     "data": {
      "text/html": [
       "<pre style=\"white-space:pre;overflow-x:auto;line-height:normal;font-family:Menlo,'DejaVu Sans Mono',consolas,'Courier New',monospace\">Loading Daily data for AAPL with starting period 2023-04-05.\n",
       "</pre>\n"
      ],
      "text/plain": [
       "Loading Daily data for AAPL with starting period 2023-04-05.\n"
      ]
     },
     "metadata": {},
     "output_type": "display_data"
    },
    {
     "data": {
      "text/html": [
       "<pre style=\"white-space:pre;overflow-x:auto;line-height:normal;font-family:Menlo,'DejaVu Sans Mono',consolas,'Courier New',monospace\">Loading Daily data for AAPL with starting period 2023-04-04.\n",
       "</pre>\n"
      ],
      "text/plain": [
       "Loading Daily data for AAPL with starting period 2023-04-04.\n"
      ]
     },
     "metadata": {},
     "output_type": "display_data"
    },
    {
     "data": {
      "text/html": [
       "<pre style=\"white-space:pre;overflow-x:auto;line-height:normal;font-family:Menlo,'DejaVu Sans Mono',consolas,'Courier New',monospace\">Loading Daily data for AAPL with starting period 2023-04-04.\n",
       "</pre>\n"
      ],
      "text/plain": [
       "Loading Daily data for AAPL with starting period 2023-04-04.\n"
      ]
     },
     "metadata": {},
     "output_type": "display_data"
    },
    {
     "data": {
      "text/html": [
       "<pre style=\"white-space:pre;overflow-x:auto;line-height:normal;font-family:Menlo,'DejaVu Sans Mono',consolas,'Courier New',monospace\">Loading Daily data for AAPL with starting period 2023-04-03.\n",
       "</pre>\n"
      ],
      "text/plain": [
       "Loading Daily data for AAPL with starting period 2023-04-03.\n"
      ]
     },
     "metadata": {},
     "output_type": "display_data"
    },
    {
     "data": {
      "text/html": [
       "<pre style=\"white-space:pre;overflow-x:auto;line-height:normal;font-family:Menlo,'DejaVu Sans Mono',consolas,'Courier New',monospace\">Loading Daily data for AAPL with starting period 2023-04-03.\n",
       "</pre>\n"
      ],
      "text/plain": [
       "Loading Daily data for AAPL with starting period 2023-04-03.\n"
      ]
     },
     "metadata": {},
     "output_type": "display_data"
    },
    {
     "data": {
      "text/html": [
       "<pre style=\"white-space:pre;overflow-x:auto;line-height:normal;font-family:Menlo,'DejaVu Sans Mono',consolas,'Courier New',monospace\">Loading Daily data for AAPL with starting period 2023-04-03.\n",
       "</pre>\n"
      ],
      "text/plain": [
       "Loading Daily data for AAPL with starting period 2023-04-03.\n"
      ]
     },
     "metadata": {},
     "output_type": "display_data"
    },
    {
     "data": {
      "text/html": [
       "<pre style=\"white-space:pre;overflow-x:auto;line-height:normal;font-family:Menlo,'DejaVu Sans Mono',consolas,'Courier New',monospace\">Loading Daily data for AAPL with starting period 2023-03-30.\n",
       "</pre>\n"
      ],
      "text/plain": [
       "Loading Daily data for AAPL with starting period 2023-03-30.\n"
      ]
     },
     "metadata": {},
     "output_type": "display_data"
    },
    {
     "data": {
      "text/html": [
       "<pre style=\"white-space:pre;overflow-x:auto;line-height:normal;font-family:Menlo,'DejaVu Sans Mono',consolas,'Courier New',monospace\">Loading Daily data for AAPL with starting period 2023-03-30.\n",
       "</pre>\n"
      ],
      "text/plain": [
       "Loading Daily data for AAPL with starting period 2023-03-30.\n"
      ]
     },
     "metadata": {},
     "output_type": "display_data"
    },
    {
     "data": {
      "text/html": [
       "<pre style=\"white-space:pre;overflow-x:auto;line-height:normal;font-family:Menlo,'DejaVu Sans Mono',consolas,'Courier New',monospace\">Loading Daily data for AAPL with starting period 2023-03-29.\n",
       "</pre>\n"
      ],
      "text/plain": [
       "Loading Daily data for AAPL with starting period 2023-03-29.\n"
      ]
     },
     "metadata": {},
     "output_type": "display_data"
    },
    {
     "data": {
      "text/html": [
       "<pre style=\"white-space:pre;overflow-x:auto;line-height:normal;font-family:Menlo,'DejaVu Sans Mono',consolas,'Courier New',monospace\">Loading Daily data for AAPL with starting period 2023-03-29.\n",
       "</pre>\n"
      ],
      "text/plain": [
       "Loading Daily data for AAPL with starting period 2023-03-29.\n"
      ]
     },
     "metadata": {},
     "output_type": "display_data"
    },
    {
     "data": {
      "text/html": [
       "<pre style=\"white-space:pre;overflow-x:auto;line-height:normal;font-family:Menlo,'DejaVu Sans Mono',consolas,'Courier New',monospace\">Loading Daily data for AAPL with starting period 2023-03-29.\n",
       "</pre>\n"
      ],
      "text/plain": [
       "Loading Daily data for AAPL with starting period 2023-03-29.\n"
      ]
     },
     "metadata": {},
     "output_type": "display_data"
    },
    {
     "data": {
      "text/html": [
       "<pre style=\"white-space:pre;overflow-x:auto;line-height:normal;font-family:Menlo,'DejaVu Sans Mono',consolas,'Courier New',monospace\">Loading Daily data for AAPL with starting period 2023-03-28.\n",
       "</pre>\n"
      ],
      "text/plain": [
       "Loading Daily data for AAPL with starting period 2023-03-28.\n"
      ]
     },
     "metadata": {},
     "output_type": "display_data"
    },
    {
     "data": {
      "text/html": [
       "<pre style=\"white-space:pre;overflow-x:auto;line-height:normal;font-family:Menlo,'DejaVu Sans Mono',consolas,'Courier New',monospace\">Loading Daily data for AAPL with starting period 2023-03-28.\n",
       "</pre>\n"
      ],
      "text/plain": [
       "Loading Daily data for AAPL with starting period 2023-03-28.\n"
      ]
     },
     "metadata": {},
     "output_type": "display_data"
    },
    {
     "data": {
      "text/html": [
       "<pre style=\"white-space:pre;overflow-x:auto;line-height:normal;font-family:Menlo,'DejaVu Sans Mono',consolas,'Courier New',monospace\">Loading Daily data for AAPL with starting period 2023-03-27.\n",
       "</pre>\n"
      ],
      "text/plain": [
       "Loading Daily data for AAPL with starting period 2023-03-27.\n"
      ]
     },
     "metadata": {},
     "output_type": "display_data"
    },
    {
     "data": {
      "text/html": [
       "<pre style=\"white-space:pre;overflow-x:auto;line-height:normal;font-family:Menlo,'DejaVu Sans Mono',consolas,'Courier New',monospace\">Loading Daily data for AAPL with starting period 2023-03-27.\n",
       "</pre>\n"
      ],
      "text/plain": [
       "Loading Daily data for AAPL with starting period 2023-03-27.\n"
      ]
     },
     "metadata": {},
     "output_type": "display_data"
    },
    {
     "data": {
      "text/html": [
       "<pre style=\"white-space:pre;overflow-x:auto;line-height:normal;font-family:Menlo,'DejaVu Sans Mono',consolas,'Courier New',monospace\">Loading Daily data for AAPL with starting period 2023-03-27.\n",
       "</pre>\n"
      ],
      "text/plain": [
       "Loading Daily data for AAPL with starting period 2023-03-27.\n"
      ]
     },
     "metadata": {},
     "output_type": "display_data"
    },
    {
     "data": {
      "text/html": [
       "<pre style=\"white-space:pre;overflow-x:auto;line-height:normal;font-family:Menlo,'DejaVu Sans Mono',consolas,'Courier New',monospace\">Loading Daily data for AAPL with starting period 2023-03-27.\n",
       "</pre>\n"
      ],
      "text/plain": [
       "Loading Daily data for AAPL with starting period 2023-03-27.\n"
      ]
     },
     "metadata": {},
     "output_type": "display_data"
    },
    {
     "data": {
      "text/html": [
       "<pre style=\"white-space:pre;overflow-x:auto;line-height:normal;font-family:Menlo,'DejaVu Sans Mono',consolas,'Courier New',monospace\">Loading Daily data for AAPL with starting period 2023-03-24.\n",
       "</pre>\n"
      ],
      "text/plain": [
       "Loading Daily data for AAPL with starting period 2023-03-24.\n"
      ]
     },
     "metadata": {},
     "output_type": "display_data"
    },
    {
     "data": {
      "text/html": [
       "<pre style=\"white-space:pre;overflow-x:auto;line-height:normal;font-family:Menlo,'DejaVu Sans Mono',consolas,'Courier New',monospace\">Loading Daily data for AAPL with starting period 2023-03-24.\n",
       "</pre>\n"
      ],
      "text/plain": [
       "Loading Daily data for AAPL with starting period 2023-03-24.\n"
      ]
     },
     "metadata": {},
     "output_type": "display_data"
    },
    {
     "data": {
      "text/html": [
       "<pre style=\"white-space:pre;overflow-x:auto;line-height:normal;font-family:Menlo,'DejaVu Sans Mono',consolas,'Courier New',monospace\">Loading Daily data for AAPL with starting period 2023-03-23.\n",
       "</pre>\n"
      ],
      "text/plain": [
       "Loading Daily data for AAPL with starting period 2023-03-23.\n"
      ]
     },
     "metadata": {},
     "output_type": "display_data"
    },
    {
     "data": {
      "text/html": [
       "<pre style=\"white-space:pre;overflow-x:auto;line-height:normal;font-family:Menlo,'DejaVu Sans Mono',consolas,'Courier New',monospace\">Loading Daily data for AAPL with starting period 2023-03-23.\n",
       "</pre>\n"
      ],
      "text/plain": [
       "Loading Daily data for AAPL with starting period 2023-03-23.\n"
      ]
     },
     "metadata": {},
     "output_type": "display_data"
    },
    {
     "data": {
      "text/html": [
       "<pre style=\"white-space:pre;overflow-x:auto;line-height:normal;font-family:Menlo,'DejaVu Sans Mono',consolas,'Courier New',monospace\">Loading Daily data for AAPL with starting period 2023-03-23.\n",
       "</pre>\n"
      ],
      "text/plain": [
       "Loading Daily data for AAPL with starting period 2023-03-23.\n"
      ]
     },
     "metadata": {},
     "output_type": "display_data"
    },
    {
     "data": {
      "text/html": [
       "<pre style=\"white-space:pre;overflow-x:auto;line-height:normal;font-family:Menlo,'DejaVu Sans Mono',consolas,'Courier New',monospace\">Loading Daily data for AAPL with starting period 2023-03-22.\n",
       "</pre>\n"
      ],
      "text/plain": [
       "Loading Daily data for AAPL with starting period 2023-03-22.\n"
      ]
     },
     "metadata": {},
     "output_type": "display_data"
    },
    {
     "data": {
      "text/html": [
       "<pre style=\"white-space:pre;overflow-x:auto;line-height:normal;font-family:Menlo,'DejaVu Sans Mono',consolas,'Courier New',monospace\">Loading Daily data for AAPL with starting period 2023-03-22.\n",
       "</pre>\n"
      ],
      "text/plain": [
       "Loading Daily data for AAPL with starting period 2023-03-22.\n"
      ]
     },
     "metadata": {},
     "output_type": "display_data"
    },
    {
     "data": {
      "text/html": [
       "<pre style=\"white-space:pre;overflow-x:auto;line-height:normal;font-family:Menlo,'DejaVu Sans Mono',consolas,'Courier New',monospace\">Loading Daily data for AAPL with starting period 2023-03-22.\n",
       "</pre>\n"
      ],
      "text/plain": [
       "Loading Daily data for AAPL with starting period 2023-03-22.\n"
      ]
     },
     "metadata": {},
     "output_type": "display_data"
    },
    {
     "data": {
      "text/html": [
       "<pre style=\"white-space:pre;overflow-x:auto;line-height:normal;font-family:Menlo,'DejaVu Sans Mono',consolas,'Courier New',monospace\">Loading Daily data for AAPL with starting period 2023-03-21.\n",
       "</pre>\n"
      ],
      "text/plain": [
       "Loading Daily data for AAPL with starting period 2023-03-21.\n"
      ]
     },
     "metadata": {},
     "output_type": "display_data"
    },
    {
     "data": {
      "text/html": [
       "<pre style=\"white-space:pre;overflow-x:auto;line-height:normal;font-family:Menlo,'DejaVu Sans Mono',consolas,'Courier New',monospace\">Loading Daily data for AAPL with starting period 2023-03-21.\n",
       "</pre>\n"
      ],
      "text/plain": [
       "Loading Daily data for AAPL with starting period 2023-03-21.\n"
      ]
     },
     "metadata": {},
     "output_type": "display_data"
    },
    {
     "data": {
      "text/html": [
       "<pre style=\"white-space:pre;overflow-x:auto;line-height:normal;font-family:Menlo,'DejaVu Sans Mono',consolas,'Courier New',monospace\">Loading Daily data for AAPL with starting period 2023-03-21.\n",
       "</pre>\n"
      ],
      "text/plain": [
       "Loading Daily data for AAPL with starting period 2023-03-21.\n"
      ]
     },
     "metadata": {},
     "output_type": "display_data"
    },
    {
     "data": {
      "text/html": [
       "<pre style=\"white-space:pre;overflow-x:auto;line-height:normal;font-family:Menlo,'DejaVu Sans Mono',consolas,'Courier New',monospace\">Loading Daily data for AAPL with starting period 2023-03-20.\n",
       "</pre>\n"
      ],
      "text/plain": [
       "Loading Daily data for AAPL with starting period 2023-03-20.\n"
      ]
     },
     "metadata": {},
     "output_type": "display_data"
    },
    {
     "data": {
      "text/html": [
       "<pre style=\"white-space:pre;overflow-x:auto;line-height:normal;font-family:Menlo,'DejaVu Sans Mono',consolas,'Courier New',monospace\">Loading Daily data for AAPL with starting period 2023-03-20.\n",
       "</pre>\n"
      ],
      "text/plain": [
       "Loading Daily data for AAPL with starting period 2023-03-20.\n"
      ]
     },
     "metadata": {},
     "output_type": "display_data"
    },
    {
     "data": {
      "text/html": [
       "<pre style=\"white-space:pre;overflow-x:auto;line-height:normal;font-family:Menlo,'DejaVu Sans Mono',consolas,'Courier New',monospace\">Loading Daily data for AAPL with starting period 2023-03-15.\n",
       "</pre>\n"
      ],
      "text/plain": [
       "Loading Daily data for AAPL with starting period 2023-03-15.\n"
      ]
     },
     "metadata": {},
     "output_type": "display_data"
    },
    {
     "data": {
      "text/html": [
       "<pre style=\"white-space:pre;overflow-x:auto;line-height:normal;font-family:Menlo,'DejaVu Sans Mono',consolas,'Courier New',monospace\">Loading Daily data for AAPL with starting period 2023-03-14.\n",
       "</pre>\n"
      ],
      "text/plain": [
       "Loading Daily data for AAPL with starting period 2023-03-14.\n"
      ]
     },
     "metadata": {},
     "output_type": "display_data"
    },
    {
     "data": {
      "text/html": [
       "<pre style=\"white-space:pre;overflow-x:auto;line-height:normal;font-family:Menlo,'DejaVu Sans Mono',consolas,'Courier New',monospace\">Loading Daily data for AAPL with starting period 2023-03-09.\n",
       "</pre>\n"
      ],
      "text/plain": [
       "Loading Daily data for AAPL with starting period 2023-03-09.\n"
      ]
     },
     "metadata": {},
     "output_type": "display_data"
    },
    {
     "data": {
      "text/html": [
       "<pre style=\"white-space:pre;overflow-x:auto;line-height:normal;font-family:Menlo,'DejaVu Sans Mono',consolas,'Courier New',monospace\">Loading Daily data for AAPL with starting period 2023-03-06.\n",
       "</pre>\n"
      ],
      "text/plain": [
       "Loading Daily data for AAPL with starting period 2023-03-06.\n"
      ]
     },
     "metadata": {},
     "output_type": "display_data"
    },
    {
     "data": {
      "text/html": [
       "<pre style=\"white-space:pre;overflow-x:auto;line-height:normal;font-family:Menlo,'DejaVu Sans Mono',consolas,'Courier New',monospace\">Loading Daily data for AAPL with starting period 2023-03-03.\n",
       "</pre>\n"
      ],
      "text/plain": [
       "Loading Daily data for AAPL with starting period 2023-03-03.\n"
      ]
     },
     "metadata": {},
     "output_type": "display_data"
    },
    {
     "data": {
      "text/html": [
       "<pre style=\"white-space:pre;overflow-x:auto;line-height:normal;font-family:Menlo,'DejaVu Sans Mono',consolas,'Courier New',monospace\">Loading Daily data for AAPL with starting period 2023-02-27.\n",
       "</pre>\n"
      ],
      "text/plain": [
       "Loading Daily data for AAPL with starting period 2023-02-27.\n"
      ]
     },
     "metadata": {},
     "output_type": "display_data"
    },
    {
     "data": {
      "text/html": [
       "<pre style=\"white-space:pre;overflow-x:auto;line-height:normal;font-family:Menlo,'DejaVu Sans Mono',consolas,'Courier New',monospace\">Loading Daily data for AAPL with starting period 2023-02-16.\n",
       "</pre>\n"
      ],
      "text/plain": [
       "Loading Daily data for AAPL with starting period 2023-02-16.\n"
      ]
     },
     "metadata": {},
     "output_type": "display_data"
    },
    {
     "data": {
      "text/html": [
       "<pre style=\"white-space:pre;overflow-x:auto;line-height:normal;font-family:Menlo,'DejaVu Sans Mono',consolas,'Courier New',monospace\">Loading Daily data for AAPL with starting period 2023-02-15.\n",
       "</pre>\n"
      ],
      "text/plain": [
       "Loading Daily data for AAPL with starting period 2023-02-15.\n"
      ]
     },
     "metadata": {},
     "output_type": "display_data"
    },
    {
     "data": {
      "text/html": [
       "<pre style=\"white-space:pre;overflow-x:auto;line-height:normal;font-family:Menlo,'DejaVu Sans Mono',consolas,'Courier New',monospace\">Loading Daily data for AAPL with starting period 2023-02-07.\n",
       "</pre>\n"
      ],
      "text/plain": [
       "Loading Daily data for AAPL with starting period 2023-02-07.\n"
      ]
     },
     "metadata": {},
     "output_type": "display_data"
    },
    {
     "data": {
      "text/html": [
       "<pre style=\"white-space:pre;overflow-x:auto;line-height:normal;font-family:Menlo,'DejaVu Sans Mono',consolas,'Courier New',monospace\">Loading Daily data for AAPL with starting period 2023-02-06.\n",
       "</pre>\n"
      ],
      "text/plain": [
       "Loading Daily data for AAPL with starting period 2023-02-06.\n"
      ]
     },
     "metadata": {},
     "output_type": "display_data"
    },
    {
     "data": {
      "text/html": [
       "<pre style=\"white-space:pre;overflow-x:auto;line-height:normal;font-family:Menlo,'DejaVu Sans Mono',consolas,'Courier New',monospace\">Loading Daily data for AAPL with starting period 2023-01-31.\n",
       "</pre>\n"
      ],
      "text/plain": [
       "Loading Daily data for AAPL with starting period 2023-01-31.\n"
      ]
     },
     "metadata": {},
     "output_type": "display_data"
    },
    {
     "data": {
      "text/html": [
       "<pre style=\"white-space:pre;overflow-x:auto;line-height:normal;font-family:Menlo,'DejaVu Sans Mono',consolas,'Courier New',monospace\">Loading Daily data for AAPL with starting period 2023-01-31.\n",
       "</pre>\n"
      ],
      "text/plain": [
       "Loading Daily data for AAPL with starting period 2023-01-31.\n"
      ]
     },
     "metadata": {},
     "output_type": "display_data"
    },
    {
     "data": {
      "text/html": [
       "<pre style=\"white-space:pre;overflow-x:auto;line-height:normal;font-family:Menlo,'DejaVu Sans Mono',consolas,'Courier New',monospace\">Loading Daily data for AAPL with starting period 2023-01-26.\n",
       "</pre>\n"
      ],
      "text/plain": [
       "Loading Daily data for AAPL with starting period 2023-01-26.\n"
      ]
     },
     "metadata": {},
     "output_type": "display_data"
    },
    {
     "data": {
      "text/html": [
       "<pre style=\"white-space:pre;overflow-x:auto;line-height:normal;font-family:Menlo,'DejaVu Sans Mono',consolas,'Courier New',monospace\">Loading Daily data for AAPL with starting period 2023-01-23.\n",
       "</pre>\n"
      ],
      "text/plain": [
       "Loading Daily data for AAPL with starting period 2023-01-23.\n"
      ]
     },
     "metadata": {},
     "output_type": "display_data"
    },
    {
     "data": {
      "text/html": [
       "<pre style=\"white-space:pre;overflow-x:auto;line-height:normal;font-family:Menlo,'DejaVu Sans Mono',consolas,'Courier New',monospace\">Loading Daily data for AAPL with starting period 2023-01-20.\n",
       "</pre>\n"
      ],
      "text/plain": [
       "Loading Daily data for AAPL with starting period 2023-01-20.\n"
      ]
     },
     "metadata": {},
     "output_type": "display_data"
    },
    {
     "data": {
      "text/html": [
       "<pre style=\"white-space:pre;overflow-x:auto;line-height:normal;font-family:Menlo,'DejaVu Sans Mono',consolas,'Courier New',monospace\">Loading Daily data for AAPL with starting period 2023-01-09.\n",
       "</pre>\n"
      ],
      "text/plain": [
       "Loading Daily data for AAPL with starting period 2023-01-09.\n"
      ]
     },
     "metadata": {},
     "output_type": "display_data"
    },
    {
     "data": {
      "text/html": [
       "<pre style=\"white-space:pre;overflow-x:auto;line-height:normal;font-family:Menlo,'DejaVu Sans Mono',consolas,'Courier New',monospace\">Loading Daily data for AAPL with starting period 2023-01-06.\n",
       "</pre>\n"
      ],
      "text/plain": [
       "Loading Daily data for AAPL with starting period 2023-01-06.\n"
      ]
     },
     "metadata": {},
     "output_type": "display_data"
    },
    {
     "data": {
      "text/html": [
       "<pre style=\"white-space:pre;overflow-x:auto;line-height:normal;font-family:Menlo,'DejaVu Sans Mono',consolas,'Courier New',monospace\">Loading Daily data for AAPL with starting period 2023-01-06.\n",
       "</pre>\n"
      ],
      "text/plain": [
       "Loading Daily data for AAPL with starting period 2023-01-06.\n"
      ]
     },
     "metadata": {},
     "output_type": "display_data"
    },
    {
     "data": {
      "text/html": [
       "<pre style=\"white-space:pre;overflow-x:auto;line-height:normal;font-family:Menlo,'DejaVu Sans Mono',consolas,'Courier New',monospace\">Loading Daily data for AAPL with starting period 2022-11-21.\n",
       "</pre>\n"
      ],
      "text/plain": [
       "Loading Daily data for AAPL with starting period 2022-11-21.\n"
      ]
     },
     "metadata": {},
     "output_type": "display_data"
    },
    {
     "data": {
      "text/html": [
       "<pre style=\"white-space:pre;overflow-x:auto;line-height:normal;font-family:Menlo,'DejaVu Sans Mono',consolas,'Courier New',monospace\">Loading Daily data for AAPL with starting period 2022-10-17.\n",
       "</pre>\n"
      ],
      "text/plain": [
       "Loading Daily data for AAPL with starting period 2022-10-17.\n"
      ]
     },
     "metadata": {},
     "output_type": "display_data"
    },
    {
     "data": {
      "text/html": [
       "<pre style=\"white-space:pre;overflow-x:auto;line-height:normal;font-family:Menlo,'DejaVu Sans Mono',consolas,'Courier New',monospace\">Loading Daily data for MSFT with starting period 2023-04-18.\n",
       "</pre>\n"
      ],
      "text/plain": [
       "Loading Daily data for MSFT with starting period 2023-04-18.\n"
      ]
     },
     "metadata": {},
     "output_type": "display_data"
    },
    {
     "data": {
      "text/html": [
       "<pre style=\"white-space:pre;overflow-x:auto;line-height:normal;font-family:Menlo,'DejaVu Sans Mono',consolas,'Courier New',monospace\">Loading Daily data for MSFT with starting period 2023-04-18.\n",
       "</pre>\n"
      ],
      "text/plain": [
       "Loading Daily data for MSFT with starting period 2023-04-18.\n"
      ]
     },
     "metadata": {},
     "output_type": "display_data"
    },
    {
     "data": {
      "text/html": [
       "<pre style=\"white-space:pre;overflow-x:auto;line-height:normal;font-family:Menlo,'DejaVu Sans Mono',consolas,'Courier New',monospace\">Loading Daily data for MSFT with starting period 2023-04-18.\n",
       "</pre>\n"
      ],
      "text/plain": [
       "Loading Daily data for MSFT with starting period 2023-04-18.\n"
      ]
     },
     "metadata": {},
     "output_type": "display_data"
    },
    {
     "data": {
      "text/html": [
       "<pre style=\"white-space:pre;overflow-x:auto;line-height:normal;font-family:Menlo,'DejaVu Sans Mono',consolas,'Courier New',monospace\">Loading Daily data for MSFT with starting period 2023-04-18.\n",
       "</pre>\n"
      ],
      "text/plain": [
       "Loading Daily data for MSFT with starting period 2023-04-18.\n"
      ]
     },
     "metadata": {},
     "output_type": "display_data"
    },
    {
     "data": {
      "text/html": [
       "<pre style=\"white-space:pre;overflow-x:auto;line-height:normal;font-family:Menlo,'DejaVu Sans Mono',consolas,'Courier New',monospace\">Loading Daily data for MSFT with starting period 2023-04-18.\n",
       "</pre>\n"
      ],
      "text/plain": [
       "Loading Daily data for MSFT with starting period 2023-04-18.\n"
      ]
     },
     "metadata": {},
     "output_type": "display_data"
    },
    {
     "data": {
      "text/html": [
       "<pre style=\"white-space:pre;overflow-x:auto;line-height:normal;font-family:Menlo,'DejaVu Sans Mono',consolas,'Courier New',monospace\">Loading Daily data for MSFT with starting period 2023-04-18.\n",
       "</pre>\n"
      ],
      "text/plain": [
       "Loading Daily data for MSFT with starting period 2023-04-18.\n"
      ]
     },
     "metadata": {},
     "output_type": "display_data"
    },
    {
     "data": {
      "text/html": [
       "<pre style=\"white-space:pre;overflow-x:auto;line-height:normal;font-family:Menlo,'DejaVu Sans Mono',consolas,'Courier New',monospace\">Loading Daily data for MSFT with starting period 2023-04-18.\n",
       "</pre>\n"
      ],
      "text/plain": [
       "Loading Daily data for MSFT with starting period 2023-04-18.\n"
      ]
     },
     "metadata": {},
     "output_type": "display_data"
    },
    {
     "data": {
      "text/html": [
       "<pre style=\"white-space:pre;overflow-x:auto;line-height:normal;font-family:Menlo,'DejaVu Sans Mono',consolas,'Courier New',monospace\">Loading Daily data for MSFT with starting period 2023-04-18.\n",
       "</pre>\n"
      ],
      "text/plain": [
       "Loading Daily data for MSFT with starting period 2023-04-18.\n"
      ]
     },
     "metadata": {},
     "output_type": "display_data"
    },
    {
     "data": {
      "text/html": [
       "<pre style=\"white-space:pre;overflow-x:auto;line-height:normal;font-family:Menlo,'DejaVu Sans Mono',consolas,'Courier New',monospace\">Loading Daily data for MSFT with starting period 2023-04-18.\n",
       "</pre>\n"
      ],
      "text/plain": [
       "Loading Daily data for MSFT with starting period 2023-04-18.\n"
      ]
     },
     "metadata": {},
     "output_type": "display_data"
    },
    {
     "data": {
      "text/html": [
       "<pre style=\"white-space:pre;overflow-x:auto;line-height:normal;font-family:Menlo,'DejaVu Sans Mono',consolas,'Courier New',monospace\">Loading Daily data for MSFT with starting period 2023-04-18.\n",
       "</pre>\n"
      ],
      "text/plain": [
       "Loading Daily data for MSFT with starting period 2023-04-18.\n"
      ]
     },
     "metadata": {},
     "output_type": "display_data"
    },
    {
     "data": {
      "text/html": [
       "<pre style=\"white-space:pre;overflow-x:auto;line-height:normal;font-family:Menlo,'DejaVu Sans Mono',consolas,'Courier New',monospace\">Loading Daily data for MSFT with starting period 2023-04-18.\n",
       "</pre>\n"
      ],
      "text/plain": [
       "Loading Daily data for MSFT with starting period 2023-04-18.\n"
      ]
     },
     "metadata": {},
     "output_type": "display_data"
    },
    {
     "data": {
      "text/html": [
       "<pre style=\"white-space:pre;overflow-x:auto;line-height:normal;font-family:Menlo,'DejaVu Sans Mono',consolas,'Courier New',monospace\">Loading Daily data for MSFT with starting period 2023-04-18.\n",
       "</pre>\n"
      ],
      "text/plain": [
       "Loading Daily data for MSFT with starting period 2023-04-18.\n"
      ]
     },
     "metadata": {},
     "output_type": "display_data"
    },
    {
     "data": {
      "text/html": [
       "<pre style=\"white-space:pre;overflow-x:auto;line-height:normal;font-family:Menlo,'DejaVu Sans Mono',consolas,'Courier New',monospace\">Loading Daily data for MSFT with starting period 2023-04-18.\n",
       "</pre>\n"
      ],
      "text/plain": [
       "Loading Daily data for MSFT with starting period 2023-04-18.\n"
      ]
     },
     "metadata": {},
     "output_type": "display_data"
    },
    {
     "data": {
      "text/html": [
       "<pre style=\"white-space:pre;overflow-x:auto;line-height:normal;font-family:Menlo,'DejaVu Sans Mono',consolas,'Courier New',monospace\">Loading Daily data for MSFT with starting period 2023-04-18.\n",
       "</pre>\n"
      ],
      "text/plain": [
       "Loading Daily data for MSFT with starting period 2023-04-18.\n"
      ]
     },
     "metadata": {},
     "output_type": "display_data"
    },
    {
     "data": {
      "text/html": [
       "<pre style=\"white-space:pre;overflow-x:auto;line-height:normal;font-family:Menlo,'DejaVu Sans Mono',consolas,'Courier New',monospace\">Loading Daily data for MSFT with starting period 2023-04-18.\n",
       "</pre>\n"
      ],
      "text/plain": [
       "Loading Daily data for MSFT with starting period 2023-04-18.\n"
      ]
     },
     "metadata": {},
     "output_type": "display_data"
    },
    {
     "data": {
      "text/html": [
       "<pre style=\"white-space:pre;overflow-x:auto;line-height:normal;font-family:Menlo,'DejaVu Sans Mono',consolas,'Courier New',monospace\">Loading Daily data for MSFT with starting period 2023-04-17.\n",
       "</pre>\n"
      ],
      "text/plain": [
       "Loading Daily data for MSFT with starting period 2023-04-17.\n"
      ]
     },
     "metadata": {},
     "output_type": "display_data"
    },
    {
     "data": {
      "text/html": [
       "<pre style=\"white-space:pre;overflow-x:auto;line-height:normal;font-family:Menlo,'DejaVu Sans Mono',consolas,'Courier New',monospace\">Loading Daily data for MSFT with starting period 2023-04-17.\n",
       "</pre>\n"
      ],
      "text/plain": [
       "Loading Daily data for MSFT with starting period 2023-04-17.\n"
      ]
     },
     "metadata": {},
     "output_type": "display_data"
    },
    {
     "data": {
      "text/html": [
       "<pre style=\"white-space:pre;overflow-x:auto;line-height:normal;font-family:Menlo,'DejaVu Sans Mono',consolas,'Courier New',monospace\">Loading Daily data for MSFT with starting period 2023-04-17.\n",
       "</pre>\n"
      ],
      "text/plain": [
       "Loading Daily data for MSFT with starting period 2023-04-17.\n"
      ]
     },
     "metadata": {},
     "output_type": "display_data"
    },
    {
     "data": {
      "text/html": [
       "<pre style=\"white-space:pre;overflow-x:auto;line-height:normal;font-family:Menlo,'DejaVu Sans Mono',consolas,'Courier New',monospace\">Loading Daily data for MSFT with starting period 2023-04-17.\n",
       "</pre>\n"
      ],
      "text/plain": [
       "Loading Daily data for MSFT with starting period 2023-04-17.\n"
      ]
     },
     "metadata": {},
     "output_type": "display_data"
    },
    {
     "data": {
      "text/html": [
       "<pre style=\"white-space:pre;overflow-x:auto;line-height:normal;font-family:Menlo,'DejaVu Sans Mono',consolas,'Courier New',monospace\">Loading Daily data for MSFT with starting period 2023-04-17.\n",
       "</pre>\n"
      ],
      "text/plain": [
       "Loading Daily data for MSFT with starting period 2023-04-17.\n"
      ]
     },
     "metadata": {},
     "output_type": "display_data"
    },
    {
     "data": {
      "text/html": [
       "<pre style=\"white-space:pre;overflow-x:auto;line-height:normal;font-family:Menlo,'DejaVu Sans Mono',consolas,'Courier New',monospace\">Loading Daily data for MSFT with starting period 2023-04-17.\n",
       "</pre>\n"
      ],
      "text/plain": [
       "Loading Daily data for MSFT with starting period 2023-04-17.\n"
      ]
     },
     "metadata": {},
     "output_type": "display_data"
    },
    {
     "data": {
      "text/html": [
       "<pre style=\"white-space:pre;overflow-x:auto;line-height:normal;font-family:Menlo,'DejaVu Sans Mono',consolas,'Courier New',monospace\">Loading Daily data for MSFT with starting period 2023-04-17.\n",
       "</pre>\n"
      ],
      "text/plain": [
       "Loading Daily data for MSFT with starting period 2023-04-17.\n"
      ]
     },
     "metadata": {},
     "output_type": "display_data"
    },
    {
     "data": {
      "text/html": [
       "<pre style=\"white-space:pre;overflow-x:auto;line-height:normal;font-family:Menlo,'DejaVu Sans Mono',consolas,'Courier New',monospace\">Loading Daily data for MSFT with starting period 2023-04-17.\n",
       "</pre>\n"
      ],
      "text/plain": [
       "Loading Daily data for MSFT with starting period 2023-04-17.\n"
      ]
     },
     "metadata": {},
     "output_type": "display_data"
    },
    {
     "data": {
      "text/html": [
       "<pre style=\"white-space:pre;overflow-x:auto;line-height:normal;font-family:Menlo,'DejaVu Sans Mono',consolas,'Courier New',monospace\">Loading Daily data for MSFT with starting period 2023-04-17.\n",
       "</pre>\n"
      ],
      "text/plain": [
       "Loading Daily data for MSFT with starting period 2023-04-17.\n"
      ]
     },
     "metadata": {},
     "output_type": "display_data"
    },
    {
     "data": {
      "text/html": [
       "<pre style=\"white-space:pre;overflow-x:auto;line-height:normal;font-family:Menlo,'DejaVu Sans Mono',consolas,'Courier New',monospace\">Loading Daily data for MSFT with starting period 2023-04-17.\n",
       "</pre>\n"
      ],
      "text/plain": [
       "Loading Daily data for MSFT with starting period 2023-04-17.\n"
      ]
     },
     "metadata": {},
     "output_type": "display_data"
    },
    {
     "data": {
      "text/html": [
       "<pre style=\"white-space:pre;overflow-x:auto;line-height:normal;font-family:Menlo,'DejaVu Sans Mono',consolas,'Courier New',monospace\">Loading Daily data for MSFT with starting period 2023-04-17.\n",
       "</pre>\n"
      ],
      "text/plain": [
       "Loading Daily data for MSFT with starting period 2023-04-17.\n"
      ]
     },
     "metadata": {},
     "output_type": "display_data"
    },
    {
     "data": {
      "text/html": [
       "<pre style=\"white-space:pre;overflow-x:auto;line-height:normal;font-family:Menlo,'DejaVu Sans Mono',consolas,'Courier New',monospace\">Loading Daily data for MSFT with starting period 2023-04-17.\n",
       "</pre>\n"
      ],
      "text/plain": [
       "Loading Daily data for MSFT with starting period 2023-04-17.\n"
      ]
     },
     "metadata": {},
     "output_type": "display_data"
    },
    {
     "data": {
      "text/html": [
       "<pre style=\"white-space:pre;overflow-x:auto;line-height:normal;font-family:Menlo,'DejaVu Sans Mono',consolas,'Courier New',monospace\">Loading Daily data for MSFT with starting period 2023-04-17.\n",
       "</pre>\n"
      ],
      "text/plain": [
       "Loading Daily data for MSFT with starting period 2023-04-17.\n"
      ]
     },
     "metadata": {},
     "output_type": "display_data"
    },
    {
     "data": {
      "text/html": [
       "<pre style=\"white-space:pre;overflow-x:auto;line-height:normal;font-family:Menlo,'DejaVu Sans Mono',consolas,'Courier New',monospace\">Loading Daily data for MSFT with starting period 2023-04-17.\n",
       "</pre>\n"
      ],
      "text/plain": [
       "Loading Daily data for MSFT with starting period 2023-04-17.\n"
      ]
     },
     "metadata": {},
     "output_type": "display_data"
    },
    {
     "data": {
      "text/html": [
       "<pre style=\"white-space:pre;overflow-x:auto;line-height:normal;font-family:Menlo,'DejaVu Sans Mono',consolas,'Courier New',monospace\">Loading Daily data for MSFT with starting period 2023-04-17.\n",
       "</pre>\n"
      ],
      "text/plain": [
       "Loading Daily data for MSFT with starting period 2023-04-17.\n"
      ]
     },
     "metadata": {},
     "output_type": "display_data"
    },
    {
     "data": {
      "text/html": [
       "<pre style=\"white-space:pre;overflow-x:auto;line-height:normal;font-family:Menlo,'DejaVu Sans Mono',consolas,'Courier New',monospace\">Loading Daily data for MSFT with starting period 2023-04-17.\n",
       "</pre>\n"
      ],
      "text/plain": [
       "Loading Daily data for MSFT with starting period 2023-04-17.\n"
      ]
     },
     "metadata": {},
     "output_type": "display_data"
    },
    {
     "data": {
      "text/html": [
       "<pre style=\"white-space:pre;overflow-x:auto;line-height:normal;font-family:Menlo,'DejaVu Sans Mono',consolas,'Courier New',monospace\">Loading Daily data for MSFT with starting period 2023-04-17.\n",
       "</pre>\n"
      ],
      "text/plain": [
       "Loading Daily data for MSFT with starting period 2023-04-17.\n"
      ]
     },
     "metadata": {},
     "output_type": "display_data"
    },
    {
     "data": {
      "text/html": [
       "<pre style=\"white-space:pre;overflow-x:auto;line-height:normal;font-family:Menlo,'DejaVu Sans Mono',consolas,'Courier New',monospace\">Loading Daily data for MSFT with starting period 2023-04-17.\n",
       "</pre>\n"
      ],
      "text/plain": [
       "Loading Daily data for MSFT with starting period 2023-04-17.\n"
      ]
     },
     "metadata": {},
     "output_type": "display_data"
    },
    {
     "data": {
      "text/html": [
       "<pre style=\"white-space:pre;overflow-x:auto;line-height:normal;font-family:Menlo,'DejaVu Sans Mono',consolas,'Courier New',monospace\">Loading Daily data for MSFT with starting period 2023-04-17.\n",
       "</pre>\n"
      ],
      "text/plain": [
       "Loading Daily data for MSFT with starting period 2023-04-17.\n"
      ]
     },
     "metadata": {},
     "output_type": "display_data"
    },
    {
     "data": {
      "text/html": [
       "<pre style=\"white-space:pre;overflow-x:auto;line-height:normal;font-family:Menlo,'DejaVu Sans Mono',consolas,'Courier New',monospace\">Loading Daily data for MSFT with starting period 2023-04-14.\n",
       "</pre>\n"
      ],
      "text/plain": [
       "Loading Daily data for MSFT with starting period 2023-04-14.\n"
      ]
     },
     "metadata": {},
     "output_type": "display_data"
    },
    {
     "data": {
      "text/html": [
       "<pre style=\"white-space:pre;overflow-x:auto;line-height:normal;font-family:Menlo,'DejaVu Sans Mono',consolas,'Courier New',monospace\">Loading Daily data for MSFT with starting period 2023-04-14.\n",
       "</pre>\n"
      ],
      "text/plain": [
       "Loading Daily data for MSFT with starting period 2023-04-14.\n"
      ]
     },
     "metadata": {},
     "output_type": "display_data"
    },
    {
     "data": {
      "text/html": [
       "<pre style=\"white-space:pre;overflow-x:auto;line-height:normal;font-family:Menlo,'DejaVu Sans Mono',consolas,'Courier New',monospace\">Loading Daily data for MSFT with starting period 2023-04-14.\n",
       "</pre>\n"
      ],
      "text/plain": [
       "Loading Daily data for MSFT with starting period 2023-04-14.\n"
      ]
     },
     "metadata": {},
     "output_type": "display_data"
    },
    {
     "data": {
      "text/html": [
       "<pre style=\"white-space:pre;overflow-x:auto;line-height:normal;font-family:Menlo,'DejaVu Sans Mono',consolas,'Courier New',monospace\">Loading Daily data for MSFT with starting period 2023-04-13.\n",
       "</pre>\n"
      ],
      "text/plain": [
       "Loading Daily data for MSFT with starting period 2023-04-13.\n"
      ]
     },
     "metadata": {},
     "output_type": "display_data"
    },
    {
     "data": {
      "text/html": [
       "<pre style=\"white-space:pre;overflow-x:auto;line-height:normal;font-family:Menlo,'DejaVu Sans Mono',consolas,'Courier New',monospace\">Loading Daily data for MSFT with starting period 2023-04-13.\n",
       "</pre>\n"
      ],
      "text/plain": [
       "Loading Daily data for MSFT with starting period 2023-04-13.\n"
      ]
     },
     "metadata": {},
     "output_type": "display_data"
    },
    {
     "data": {
      "text/html": [
       "<pre style=\"white-space:pre;overflow-x:auto;line-height:normal;font-family:Menlo,'DejaVu Sans Mono',consolas,'Courier New',monospace\">Loading Daily data for MSFT with starting period 2023-04-13.\n",
       "</pre>\n"
      ],
      "text/plain": [
       "Loading Daily data for MSFT with starting period 2023-04-13.\n"
      ]
     },
     "metadata": {},
     "output_type": "display_data"
    },
    {
     "data": {
      "text/html": [
       "<pre style=\"white-space:pre;overflow-x:auto;line-height:normal;font-family:Menlo,'DejaVu Sans Mono',consolas,'Courier New',monospace\">Loading Daily data for MSFT with starting period 2023-04-13.\n",
       "</pre>\n"
      ],
      "text/plain": [
       "Loading Daily data for MSFT with starting period 2023-04-13.\n"
      ]
     },
     "metadata": {},
     "output_type": "display_data"
    },
    {
     "data": {
      "text/html": [
       "<pre style=\"white-space:pre;overflow-x:auto;line-height:normal;font-family:Menlo,'DejaVu Sans Mono',consolas,'Courier New',monospace\">Loading Daily data for MSFT with starting period 2023-04-13.\n",
       "</pre>\n"
      ],
      "text/plain": [
       "Loading Daily data for MSFT with starting period 2023-04-13.\n"
      ]
     },
     "metadata": {},
     "output_type": "display_data"
    },
    {
     "data": {
      "text/html": [
       "<pre style=\"white-space:pre;overflow-x:auto;line-height:normal;font-family:Menlo,'DejaVu Sans Mono',consolas,'Courier New',monospace\">Loading Daily data for MSFT with starting period 2023-04-13.\n",
       "</pre>\n"
      ],
      "text/plain": [
       "Loading Daily data for MSFT with starting period 2023-04-13.\n"
      ]
     },
     "metadata": {},
     "output_type": "display_data"
    },
    {
     "data": {
      "text/html": [
       "<pre style=\"white-space:pre;overflow-x:auto;line-height:normal;font-family:Menlo,'DejaVu Sans Mono',consolas,'Courier New',monospace\">Loading Daily data for MSFT with starting period 2023-04-13.\n",
       "</pre>\n"
      ],
      "text/plain": [
       "Loading Daily data for MSFT with starting period 2023-04-13.\n"
      ]
     },
     "metadata": {},
     "output_type": "display_data"
    },
    {
     "data": {
      "text/html": [
       "<pre style=\"white-space:pre;overflow-x:auto;line-height:normal;font-family:Menlo,'DejaVu Sans Mono',consolas,'Courier New',monospace\">Loading Daily data for MSFT with starting period 2023-04-13.\n",
       "</pre>\n"
      ],
      "text/plain": [
       "Loading Daily data for MSFT with starting period 2023-04-13.\n"
      ]
     },
     "metadata": {},
     "output_type": "display_data"
    },
    {
     "data": {
      "text/html": [
       "<pre style=\"white-space:pre;overflow-x:auto;line-height:normal;font-family:Menlo,'DejaVu Sans Mono',consolas,'Courier New',monospace\">Loading Daily data for MSFT with starting period 2023-04-12.\n",
       "</pre>\n"
      ],
      "text/plain": [
       "Loading Daily data for MSFT with starting period 2023-04-12.\n"
      ]
     },
     "metadata": {},
     "output_type": "display_data"
    },
    {
     "data": {
      "text/html": [
       "<pre style=\"white-space:pre;overflow-x:auto;line-height:normal;font-family:Menlo,'DejaVu Sans Mono',consolas,'Courier New',monospace\">Loading Daily data for MSFT with starting period 2023-04-12.\n",
       "</pre>\n"
      ],
      "text/plain": [
       "Loading Daily data for MSFT with starting period 2023-04-12.\n"
      ]
     },
     "metadata": {},
     "output_type": "display_data"
    },
    {
     "data": {
      "text/html": [
       "<pre style=\"white-space:pre;overflow-x:auto;line-height:normal;font-family:Menlo,'DejaVu Sans Mono',consolas,'Courier New',monospace\">Loading Daily data for MSFT with starting period 2023-04-12.\n",
       "</pre>\n"
      ],
      "text/plain": [
       "Loading Daily data for MSFT with starting period 2023-04-12.\n"
      ]
     },
     "metadata": {},
     "output_type": "display_data"
    },
    {
     "data": {
      "text/html": [
       "<pre style=\"white-space:pre;overflow-x:auto;line-height:normal;font-family:Menlo,'DejaVu Sans Mono',consolas,'Courier New',monospace\">Loading Daily data for MSFT with starting period 2023-04-12.\n",
       "</pre>\n"
      ],
      "text/plain": [
       "Loading Daily data for MSFT with starting period 2023-04-12.\n"
      ]
     },
     "metadata": {},
     "output_type": "display_data"
    },
    {
     "data": {
      "text/html": [
       "<pre style=\"white-space:pre;overflow-x:auto;line-height:normal;font-family:Menlo,'DejaVu Sans Mono',consolas,'Courier New',monospace\">Loading Daily data for MSFT with starting period 2023-04-11.\n",
       "</pre>\n"
      ],
      "text/plain": [
       "Loading Daily data for MSFT with starting period 2023-04-11.\n"
      ]
     },
     "metadata": {},
     "output_type": "display_data"
    },
    {
     "data": {
      "text/html": [
       "<pre style=\"white-space:pre;overflow-x:auto;line-height:normal;font-family:Menlo,'DejaVu Sans Mono',consolas,'Courier New',monospace\">Loading Daily data for MSFT with starting period 2023-04-11.\n",
       "</pre>\n"
      ],
      "text/plain": [
       "Loading Daily data for MSFT with starting period 2023-04-11.\n"
      ]
     },
     "metadata": {},
     "output_type": "display_data"
    },
    {
     "data": {
      "text/html": [
       "<pre style=\"white-space:pre;overflow-x:auto;line-height:normal;font-family:Menlo,'DejaVu Sans Mono',consolas,'Courier New',monospace\">Loading Daily data for MSFT with starting period 2023-04-11.\n",
       "</pre>\n"
      ],
      "text/plain": [
       "Loading Daily data for MSFT with starting period 2023-04-11.\n"
      ]
     },
     "metadata": {},
     "output_type": "display_data"
    },
    {
     "data": {
      "text/html": [
       "<pre style=\"white-space:pre;overflow-x:auto;line-height:normal;font-family:Menlo,'DejaVu Sans Mono',consolas,'Courier New',monospace\">Loading Daily data for MSFT with starting period 2023-04-11.\n",
       "</pre>\n"
      ],
      "text/plain": [
       "Loading Daily data for MSFT with starting period 2023-04-11.\n"
      ]
     },
     "metadata": {},
     "output_type": "display_data"
    },
    {
     "data": {
      "text/html": [
       "<pre style=\"white-space:pre;overflow-x:auto;line-height:normal;font-family:Menlo,'DejaVu Sans Mono',consolas,'Courier New',monospace\">Loading Daily data for MSFT with starting period 2023-04-11.\n",
       "</pre>\n"
      ],
      "text/plain": [
       "Loading Daily data for MSFT with starting period 2023-04-11.\n"
      ]
     },
     "metadata": {},
     "output_type": "display_data"
    },
    {
     "data": {
      "text/html": [
       "<pre style=\"white-space:pre;overflow-x:auto;line-height:normal;font-family:Menlo,'DejaVu Sans Mono',consolas,'Courier New',monospace\">Loading Daily data for MSFT with starting period 2023-04-10.\n",
       "</pre>\n"
      ],
      "text/plain": [
       "Loading Daily data for MSFT with starting period 2023-04-10.\n"
      ]
     },
     "metadata": {},
     "output_type": "display_data"
    },
    {
     "data": {
      "text/html": [
       "<pre style=\"white-space:pre;overflow-x:auto;line-height:normal;font-family:Menlo,'DejaVu Sans Mono',consolas,'Courier New',monospace\">Loading Daily data for MSFT with starting period 2023-04-06.\n",
       "</pre>\n"
      ],
      "text/plain": [
       "Loading Daily data for MSFT with starting period 2023-04-06.\n"
      ]
     },
     "metadata": {},
     "output_type": "display_data"
    },
    {
     "data": {
      "text/html": [
       "<pre style=\"white-space:pre;overflow-x:auto;line-height:normal;font-family:Menlo,'DejaVu Sans Mono',consolas,'Courier New',monospace\">Loading Daily data for MSFT with starting period 2023-04-06.\n",
       "</pre>\n"
      ],
      "text/plain": [
       "Loading Daily data for MSFT with starting period 2023-04-06.\n"
      ]
     },
     "metadata": {},
     "output_type": "display_data"
    },
    {
     "data": {
      "text/html": [
       "<pre style=\"white-space:pre;overflow-x:auto;line-height:normal;font-family:Menlo,'DejaVu Sans Mono',consolas,'Courier New',monospace\">Loading Daily data for MSFT with starting period 2023-04-06.\n",
       "</pre>\n"
      ],
      "text/plain": [
       "Loading Daily data for MSFT with starting period 2023-04-06.\n"
      ]
     },
     "metadata": {},
     "output_type": "display_data"
    },
    {
     "data": {
      "text/html": [
       "<pre style=\"white-space:pre;overflow-x:auto;line-height:normal;font-family:Menlo,'DejaVu Sans Mono',consolas,'Courier New',monospace\">Loading Daily data for MSFT with starting period 2023-04-05.\n",
       "</pre>\n"
      ],
      "text/plain": [
       "Loading Daily data for MSFT with starting period 2023-04-05.\n"
      ]
     },
     "metadata": {},
     "output_type": "display_data"
    },
    {
     "data": {
      "text/html": [
       "<pre style=\"white-space:pre;overflow-x:auto;line-height:normal;font-family:Menlo,'DejaVu Sans Mono',consolas,'Courier New',monospace\">Loading Daily data for MSFT with starting period 2023-04-04.\n",
       "</pre>\n"
      ],
      "text/plain": [
       "Loading Daily data for MSFT with starting period 2023-04-04.\n"
      ]
     },
     "metadata": {},
     "output_type": "display_data"
    },
    {
     "data": {
      "text/html": [
       "<pre style=\"white-space:pre;overflow-x:auto;line-height:normal;font-family:Menlo,'DejaVu Sans Mono',consolas,'Courier New',monospace\">Loading Daily data for MSFT with starting period 2023-04-04.\n",
       "</pre>\n"
      ],
      "text/plain": [
       "Loading Daily data for MSFT with starting period 2023-04-04.\n"
      ]
     },
     "metadata": {},
     "output_type": "display_data"
    },
    {
     "data": {
      "text/html": [
       "<pre style=\"white-space:pre;overflow-x:auto;line-height:normal;font-family:Menlo,'DejaVu Sans Mono',consolas,'Courier New',monospace\">Loading Daily data for MSFT with starting period 2023-04-04.\n",
       "</pre>\n"
      ],
      "text/plain": [
       "Loading Daily data for MSFT with starting period 2023-04-04.\n"
      ]
     },
     "metadata": {},
     "output_type": "display_data"
    },
    {
     "data": {
      "text/html": [
       "<pre style=\"white-space:pre;overflow-x:auto;line-height:normal;font-family:Menlo,'DejaVu Sans Mono',consolas,'Courier New',monospace\">Loading Daily data for MSFT with starting period 2023-04-03.\n",
       "</pre>\n"
      ],
      "text/plain": [
       "Loading Daily data for MSFT with starting period 2023-04-03.\n"
      ]
     },
     "metadata": {},
     "output_type": "display_data"
    },
    {
     "data": {
      "text/html": [
       "<pre style=\"white-space:pre;overflow-x:auto;line-height:normal;font-family:Menlo,'DejaVu Sans Mono',consolas,'Courier New',monospace\">Loading Daily data for MSFT with starting period 2023-04-03.\n",
       "</pre>\n"
      ],
      "text/plain": [
       "Loading Daily data for MSFT with starting period 2023-04-03.\n"
      ]
     },
     "metadata": {},
     "output_type": "display_data"
    },
    {
     "data": {
      "text/html": [
       "<pre style=\"white-space:pre;overflow-x:auto;line-height:normal;font-family:Menlo,'DejaVu Sans Mono',consolas,'Courier New',monospace\">Loading Daily data for MSFT with starting period 2023-04-03.\n",
       "</pre>\n"
      ],
      "text/plain": [
       "Loading Daily data for MSFT with starting period 2023-04-03.\n"
      ]
     },
     "metadata": {},
     "output_type": "display_data"
    },
    {
     "data": {
      "text/html": [
       "<pre style=\"white-space:pre;overflow-x:auto;line-height:normal;font-family:Menlo,'DejaVu Sans Mono',consolas,'Courier New',monospace\">Loading Daily data for MSFT with starting period 2023-03-31.\n",
       "</pre>\n"
      ],
      "text/plain": [
       "Loading Daily data for MSFT with starting period 2023-03-31.\n"
      ]
     },
     "metadata": {},
     "output_type": "display_data"
    },
    {
     "data": {
      "text/html": [
       "<pre style=\"white-space:pre;overflow-x:auto;line-height:normal;font-family:Menlo,'DejaVu Sans Mono',consolas,'Courier New',monospace\">Loading Daily data for MSFT with starting period 2023-03-31.\n",
       "</pre>\n"
      ],
      "text/plain": [
       "Loading Daily data for MSFT with starting period 2023-03-31.\n"
      ]
     },
     "metadata": {},
     "output_type": "display_data"
    },
    {
     "data": {
      "text/html": [
       "<pre style=\"white-space:pre;overflow-x:auto;line-height:normal;font-family:Menlo,'DejaVu Sans Mono',consolas,'Courier New',monospace\">Loading Daily data for MSFT with starting period 2023-03-31.\n",
       "</pre>\n"
      ],
      "text/plain": [
       "Loading Daily data for MSFT with starting period 2023-03-31.\n"
      ]
     },
     "metadata": {},
     "output_type": "display_data"
    },
    {
     "data": {
      "text/html": [
       "<pre style=\"white-space:pre;overflow-x:auto;line-height:normal;font-family:Menlo,'DejaVu Sans Mono',consolas,'Courier New',monospace\">Loading Daily data for MSFT with starting period 2023-03-31.\n",
       "</pre>\n"
      ],
      "text/plain": [
       "Loading Daily data for MSFT with starting period 2023-03-31.\n"
      ]
     },
     "metadata": {},
     "output_type": "display_data"
    },
    {
     "data": {
      "text/html": [
       "<pre style=\"white-space:pre;overflow-x:auto;line-height:normal;font-family:Menlo,'DejaVu Sans Mono',consolas,'Courier New',monospace\">Loading Daily data for MSFT with starting period 2023-03-30.\n",
       "</pre>\n"
      ],
      "text/plain": [
       "Loading Daily data for MSFT with starting period 2023-03-30.\n"
      ]
     },
     "metadata": {},
     "output_type": "display_data"
    },
    {
     "data": {
      "text/html": [
       "<pre style=\"white-space:pre;overflow-x:auto;line-height:normal;font-family:Menlo,'DejaVu Sans Mono',consolas,'Courier New',monospace\">Loading Daily data for MSFT with starting period 2023-03-29.\n",
       "</pre>\n"
      ],
      "text/plain": [
       "Loading Daily data for MSFT with starting period 2023-03-29.\n"
      ]
     },
     "metadata": {},
     "output_type": "display_data"
    },
    {
     "data": {
      "text/html": [
       "<pre style=\"white-space:pre;overflow-x:auto;line-height:normal;font-family:Menlo,'DejaVu Sans Mono',consolas,'Courier New',monospace\">Loading Daily data for MSFT with starting period 2023-03-29.\n",
       "</pre>\n"
      ],
      "text/plain": [
       "Loading Daily data for MSFT with starting period 2023-03-29.\n"
      ]
     },
     "metadata": {},
     "output_type": "display_data"
    },
    {
     "data": {
      "text/html": [
       "<pre style=\"white-space:pre;overflow-x:auto;line-height:normal;font-family:Menlo,'DejaVu Sans Mono',consolas,'Courier New',monospace\">Loading Daily data for MSFT with starting period 2023-03-29.\n",
       "</pre>\n"
      ],
      "text/plain": [
       "Loading Daily data for MSFT with starting period 2023-03-29.\n"
      ]
     },
     "metadata": {},
     "output_type": "display_data"
    },
    {
     "data": {
      "text/html": [
       "<pre style=\"white-space:pre;overflow-x:auto;line-height:normal;font-family:Menlo,'DejaVu Sans Mono',consolas,'Courier New',monospace\">Loading Daily data for MSFT with starting period 2023-03-29.\n",
       "</pre>\n"
      ],
      "text/plain": [
       "Loading Daily data for MSFT with starting period 2023-03-29.\n"
      ]
     },
     "metadata": {},
     "output_type": "display_data"
    },
    {
     "data": {
      "text/html": [
       "<pre style=\"white-space:pre;overflow-x:auto;line-height:normal;font-family:Menlo,'DejaVu Sans Mono',consolas,'Courier New',monospace\">Loading Daily data for MSFT with starting period 2023-03-28.\n",
       "</pre>\n"
      ],
      "text/plain": [
       "Loading Daily data for MSFT with starting period 2023-03-28.\n"
      ]
     },
     "metadata": {},
     "output_type": "display_data"
    },
    {
     "data": {
      "text/html": [
       "<pre style=\"white-space:pre;overflow-x:auto;line-height:normal;font-family:Menlo,'DejaVu Sans Mono',consolas,'Courier New',monospace\">Loading Daily data for MSFT with starting period 2023-03-28.\n",
       "</pre>\n"
      ],
      "text/plain": [
       "Loading Daily data for MSFT with starting period 2023-03-28.\n"
      ]
     },
     "metadata": {},
     "output_type": "display_data"
    },
    {
     "data": {
      "text/html": [
       "<pre style=\"white-space:pre;overflow-x:auto;line-height:normal;font-family:Menlo,'DejaVu Sans Mono',consolas,'Courier New',monospace\">Loading Daily data for MSFT with starting period 2023-03-28.\n",
       "</pre>\n"
      ],
      "text/plain": [
       "Loading Daily data for MSFT with starting period 2023-03-28.\n"
      ]
     },
     "metadata": {},
     "output_type": "display_data"
    },
    {
     "data": {
      "text/html": [
       "<pre style=\"white-space:pre;overflow-x:auto;line-height:normal;font-family:Menlo,'DejaVu Sans Mono',consolas,'Courier New',monospace\">Loading Daily data for MSFT with starting period 2023-03-27.\n",
       "</pre>\n"
      ],
      "text/plain": [
       "Loading Daily data for MSFT with starting period 2023-03-27.\n"
      ]
     },
     "metadata": {},
     "output_type": "display_data"
    },
    {
     "data": {
      "text/html": [
       "<pre style=\"white-space:pre;overflow-x:auto;line-height:normal;font-family:Menlo,'DejaVu Sans Mono',consolas,'Courier New',monospace\">Loading Daily data for MSFT with starting period 2023-03-27.\n",
       "</pre>\n"
      ],
      "text/plain": [
       "Loading Daily data for MSFT with starting period 2023-03-27.\n"
      ]
     },
     "metadata": {},
     "output_type": "display_data"
    },
    {
     "data": {
      "text/html": [
       "<pre style=\"white-space:pre;overflow-x:auto;line-height:normal;font-family:Menlo,'DejaVu Sans Mono',consolas,'Courier New',monospace\">Loading Daily data for MSFT with starting period 2023-03-27.\n",
       "</pre>\n"
      ],
      "text/plain": [
       "Loading Daily data for MSFT with starting period 2023-03-27.\n"
      ]
     },
     "metadata": {},
     "output_type": "display_data"
    },
    {
     "data": {
      "text/html": [
       "<pre style=\"white-space:pre;overflow-x:auto;line-height:normal;font-family:Menlo,'DejaVu Sans Mono',consolas,'Courier New',monospace\">Loading Daily data for MSFT with starting period 2023-03-24.\n",
       "</pre>\n"
      ],
      "text/plain": [
       "Loading Daily data for MSFT with starting period 2023-03-24.\n"
      ]
     },
     "metadata": {},
     "output_type": "display_data"
    },
    {
     "data": {
      "text/html": [
       "<pre style=\"white-space:pre;overflow-x:auto;line-height:normal;font-family:Menlo,'DejaVu Sans Mono',consolas,'Courier New',monospace\">Loading Daily data for MSFT with starting period 2023-03-24.\n",
       "</pre>\n"
      ],
      "text/plain": [
       "Loading Daily data for MSFT with starting period 2023-03-24.\n"
      ]
     },
     "metadata": {},
     "output_type": "display_data"
    },
    {
     "data": {
      "text/html": [
       "<pre style=\"white-space:pre;overflow-x:auto;line-height:normal;font-family:Menlo,'DejaVu Sans Mono',consolas,'Courier New',monospace\">Loading Daily data for MSFT with starting period 2023-03-23.\n",
       "</pre>\n"
      ],
      "text/plain": [
       "Loading Daily data for MSFT with starting period 2023-03-23.\n"
      ]
     },
     "metadata": {},
     "output_type": "display_data"
    },
    {
     "data": {
      "text/html": [
       "<pre style=\"white-space:pre;overflow-x:auto;line-height:normal;font-family:Menlo,'DejaVu Sans Mono',consolas,'Courier New',monospace\">Loading Daily data for MSFT with starting period 2023-03-23.\n",
       "</pre>\n"
      ],
      "text/plain": [
       "Loading Daily data for MSFT with starting period 2023-03-23.\n"
      ]
     },
     "metadata": {},
     "output_type": "display_data"
    },
    {
     "data": {
      "text/html": [
       "<pre style=\"white-space:pre;overflow-x:auto;line-height:normal;font-family:Menlo,'DejaVu Sans Mono',consolas,'Courier New',monospace\">Loading Daily data for MSFT with starting period 2023-03-23.\n",
       "</pre>\n"
      ],
      "text/plain": [
       "Loading Daily data for MSFT with starting period 2023-03-23.\n"
      ]
     },
     "metadata": {},
     "output_type": "display_data"
    },
    {
     "data": {
      "text/html": [
       "<pre style=\"white-space:pre;overflow-x:auto;line-height:normal;font-family:Menlo,'DejaVu Sans Mono',consolas,'Courier New',monospace\">Loading Daily data for MSFT with starting period 2023-03-22.\n",
       "</pre>\n"
      ],
      "text/plain": [
       "Loading Daily data for MSFT with starting period 2023-03-22.\n"
      ]
     },
     "metadata": {},
     "output_type": "display_data"
    },
    {
     "data": {
      "text/html": [
       "<pre style=\"white-space:pre;overflow-x:auto;line-height:normal;font-family:Menlo,'DejaVu Sans Mono',consolas,'Courier New',monospace\">Loading Daily data for MSFT with starting period 2023-03-22.\n",
       "</pre>\n"
      ],
      "text/plain": [
       "Loading Daily data for MSFT with starting period 2023-03-22.\n"
      ]
     },
     "metadata": {},
     "output_type": "display_data"
    },
    {
     "data": {
      "text/html": [
       "<pre style=\"white-space:pre;overflow-x:auto;line-height:normal;font-family:Menlo,'DejaVu Sans Mono',consolas,'Courier New',monospace\">Loading Daily data for MSFT with starting period 2023-03-22.\n",
       "</pre>\n"
      ],
      "text/plain": [
       "Loading Daily data for MSFT with starting period 2023-03-22.\n"
      ]
     },
     "metadata": {},
     "output_type": "display_data"
    },
    {
     "data": {
      "text/html": [
       "<pre style=\"white-space:pre;overflow-x:auto;line-height:normal;font-family:Menlo,'DejaVu Sans Mono',consolas,'Courier New',monospace\">Loading Daily data for MSFT with starting period 2023-03-22.\n",
       "</pre>\n"
      ],
      "text/plain": [
       "Loading Daily data for MSFT with starting period 2023-03-22.\n"
      ]
     },
     "metadata": {},
     "output_type": "display_data"
    },
    {
     "data": {
      "text/html": [
       "<pre style=\"white-space:pre;overflow-x:auto;line-height:normal;font-family:Menlo,'DejaVu Sans Mono',consolas,'Courier New',monospace\">Loading Daily data for MSFT with starting period 2023-03-22.\n",
       "</pre>\n"
      ],
      "text/plain": [
       "Loading Daily data for MSFT with starting period 2023-03-22.\n"
      ]
     },
     "metadata": {},
     "output_type": "display_data"
    },
    {
     "data": {
      "text/html": [
       "<pre style=\"white-space:pre;overflow-x:auto;line-height:normal;font-family:Menlo,'DejaVu Sans Mono',consolas,'Courier New',monospace\">Loading Daily data for MSFT with starting period 2023-03-21.\n",
       "</pre>\n"
      ],
      "text/plain": [
       "Loading Daily data for MSFT with starting period 2023-03-21.\n"
      ]
     },
     "metadata": {},
     "output_type": "display_data"
    },
    {
     "data": {
      "text/html": [
       "<pre style=\"white-space:pre;overflow-x:auto;line-height:normal;font-family:Menlo,'DejaVu Sans Mono',consolas,'Courier New',monospace\">Loading Daily data for MSFT with starting period 2023-03-21.\n",
       "</pre>\n"
      ],
      "text/plain": [
       "Loading Daily data for MSFT with starting period 2023-03-21.\n"
      ]
     },
     "metadata": {},
     "output_type": "display_data"
    },
    {
     "data": {
      "text/html": [
       "<pre style=\"white-space:pre;overflow-x:auto;line-height:normal;font-family:Menlo,'DejaVu Sans Mono',consolas,'Courier New',monospace\">Loading Daily data for MSFT with starting period 2023-03-21.\n",
       "</pre>\n"
      ],
      "text/plain": [
       "Loading Daily data for MSFT with starting period 2023-03-21.\n"
      ]
     },
     "metadata": {},
     "output_type": "display_data"
    },
    {
     "data": {
      "text/html": [
       "<pre style=\"white-space:pre;overflow-x:auto;line-height:normal;font-family:Menlo,'DejaVu Sans Mono',consolas,'Courier New',monospace\">Loading Daily data for MSFT with starting period 2023-03-20.\n",
       "</pre>\n"
      ],
      "text/plain": [
       "Loading Daily data for MSFT with starting period 2023-03-20.\n"
      ]
     },
     "metadata": {},
     "output_type": "display_data"
    },
    {
     "data": {
      "text/html": [
       "<pre style=\"white-space:pre;overflow-x:auto;line-height:normal;font-family:Menlo,'DejaVu Sans Mono',consolas,'Courier New',monospace\">Loading Daily data for MSFT with starting period 2023-03-20.\n",
       "</pre>\n"
      ],
      "text/plain": [
       "Loading Daily data for MSFT with starting period 2023-03-20.\n"
      ]
     },
     "metadata": {},
     "output_type": "display_data"
    },
    {
     "data": {
      "text/html": [
       "<pre style=\"white-space:pre;overflow-x:auto;line-height:normal;font-family:Menlo,'DejaVu Sans Mono',consolas,'Courier New',monospace\">Loading Daily data for MSFT with starting period 2023-03-20.\n",
       "</pre>\n"
      ],
      "text/plain": [
       "Loading Daily data for MSFT with starting period 2023-03-20.\n"
      ]
     },
     "metadata": {},
     "output_type": "display_data"
    },
    {
     "data": {
      "text/html": [
       "<pre style=\"white-space:pre;overflow-x:auto;line-height:normal;font-family:Menlo,'DejaVu Sans Mono',consolas,'Courier New',monospace\">Loading Daily data for MSFT with starting period 2023-03-20.\n",
       "</pre>\n"
      ],
      "text/plain": [
       "Loading Daily data for MSFT with starting period 2023-03-20.\n"
      ]
     },
     "metadata": {},
     "output_type": "display_data"
    },
    {
     "data": {
      "text/html": [
       "<pre style=\"white-space:pre;overflow-x:auto;line-height:normal;font-family:Menlo,'DejaVu Sans Mono',consolas,'Courier New',monospace\">Loading Daily data for MSFT with starting period 2023-03-13.\n",
       "</pre>\n"
      ],
      "text/plain": [
       "Loading Daily data for MSFT with starting period 2023-03-13.\n"
      ]
     },
     "metadata": {},
     "output_type": "display_data"
    },
    {
     "data": {
      "text/html": [
       "<pre style=\"white-space:pre;overflow-x:auto;line-height:normal;font-family:Menlo,'DejaVu Sans Mono',consolas,'Courier New',monospace\">Loading Daily data for MSFT with starting period 2023-02-15.\n",
       "</pre>\n"
      ],
      "text/plain": [
       "Loading Daily data for MSFT with starting period 2023-02-15.\n"
      ]
     },
     "metadata": {},
     "output_type": "display_data"
    },
    {
     "data": {
      "text/html": [
       "<pre style=\"white-space:pre;overflow-x:auto;line-height:normal;font-family:Menlo,'DejaVu Sans Mono',consolas,'Courier New',monospace\">Loading Daily data for MSFT with starting period 2023-02-03.\n",
       "</pre>\n"
      ],
      "text/plain": [
       "Loading Daily data for MSFT with starting period 2023-02-03.\n"
      ]
     },
     "metadata": {},
     "output_type": "display_data"
    },
    {
     "data": {
      "text/html": [
       "<pre style=\"white-space:pre;overflow-x:auto;line-height:normal;font-family:Menlo,'DejaVu Sans Mono',consolas,'Courier New',monospace\">Loading Daily data for GOOG with starting period 2023-04-18.\n",
       "</pre>\n"
      ],
      "text/plain": [
       "Loading Daily data for GOOG with starting period 2023-04-18.\n"
      ]
     },
     "metadata": {},
     "output_type": "display_data"
    },
    {
     "data": {
      "text/html": [
       "<pre style=\"white-space:pre;overflow-x:auto;line-height:normal;font-family:Menlo,'DejaVu Sans Mono',consolas,'Courier New',monospace\">Loading Daily data for GOOG with starting period 2023-04-18.\n",
       "</pre>\n"
      ],
      "text/plain": [
       "Loading Daily data for GOOG with starting period 2023-04-18.\n"
      ]
     },
     "metadata": {},
     "output_type": "display_data"
    },
    {
     "data": {
      "text/html": [
       "<pre style=\"white-space:pre;overflow-x:auto;line-height:normal;font-family:Menlo,'DejaVu Sans Mono',consolas,'Courier New',monospace\">Loading Daily data for GOOG with starting period 2023-04-18.\n",
       "</pre>\n"
      ],
      "text/plain": [
       "Loading Daily data for GOOG with starting period 2023-04-18.\n"
      ]
     },
     "metadata": {},
     "output_type": "display_data"
    },
    {
     "data": {
      "text/html": [
       "<pre style=\"white-space:pre;overflow-x:auto;line-height:normal;font-family:Menlo,'DejaVu Sans Mono',consolas,'Courier New',monospace\">Loading Daily data for GOOG with starting period 2023-04-18.\n",
       "</pre>\n"
      ],
      "text/plain": [
       "Loading Daily data for GOOG with starting period 2023-04-18.\n"
      ]
     },
     "metadata": {},
     "output_type": "display_data"
    },
    {
     "data": {
      "text/html": [
       "<pre style=\"white-space:pre;overflow-x:auto;line-height:normal;font-family:Menlo,'DejaVu Sans Mono',consolas,'Courier New',monospace\">Loading Daily data for GOOG with starting period 2023-04-18.\n",
       "</pre>\n"
      ],
      "text/plain": [
       "Loading Daily data for GOOG with starting period 2023-04-18.\n"
      ]
     },
     "metadata": {},
     "output_type": "display_data"
    },
    {
     "data": {
      "text/html": [
       "<pre style=\"white-space:pre;overflow-x:auto;line-height:normal;font-family:Menlo,'DejaVu Sans Mono',consolas,'Courier New',monospace\">Loading Daily data for GOOG with starting period 2023-04-18.\n",
       "</pre>\n"
      ],
      "text/plain": [
       "Loading Daily data for GOOG with starting period 2023-04-18.\n"
      ]
     },
     "metadata": {},
     "output_type": "display_data"
    },
    {
     "data": {
      "text/html": [
       "<pre style=\"white-space:pre;overflow-x:auto;line-height:normal;font-family:Menlo,'DejaVu Sans Mono',consolas,'Courier New',monospace\">Loading Daily data for GOOG with starting period 2023-04-18.\n",
       "</pre>\n"
      ],
      "text/plain": [
       "Loading Daily data for GOOG with starting period 2023-04-18.\n"
      ]
     },
     "metadata": {},
     "output_type": "display_data"
    },
    {
     "data": {
      "text/html": [
       "<pre style=\"white-space:pre;overflow-x:auto;line-height:normal;font-family:Menlo,'DejaVu Sans Mono',consolas,'Courier New',monospace\">Loading Daily data for GOOG with starting period 2023-04-18.\n",
       "</pre>\n"
      ],
      "text/plain": [
       "Loading Daily data for GOOG with starting period 2023-04-18.\n"
      ]
     },
     "metadata": {},
     "output_type": "display_data"
    },
    {
     "data": {
      "text/html": [
       "<pre style=\"white-space:pre;overflow-x:auto;line-height:normal;font-family:Menlo,'DejaVu Sans Mono',consolas,'Courier New',monospace\">Loading Daily data for GOOG with starting period 2023-04-18.\n",
       "</pre>\n"
      ],
      "text/plain": [
       "Loading Daily data for GOOG with starting period 2023-04-18.\n"
      ]
     },
     "metadata": {},
     "output_type": "display_data"
    },
    {
     "data": {
      "text/html": [
       "<pre style=\"white-space:pre;overflow-x:auto;line-height:normal;font-family:Menlo,'DejaVu Sans Mono',consolas,'Courier New',monospace\">Loading Daily data for GOOG with starting period 2023-04-18.\n",
       "</pre>\n"
      ],
      "text/plain": [
       "Loading Daily data for GOOG with starting period 2023-04-18.\n"
      ]
     },
     "metadata": {},
     "output_type": "display_data"
    },
    {
     "data": {
      "text/html": [
       "<pre style=\"white-space:pre;overflow-x:auto;line-height:normal;font-family:Menlo,'DejaVu Sans Mono',consolas,'Courier New',monospace\">Loading Daily data for GOOG with starting period 2023-04-18.\n",
       "</pre>\n"
      ],
      "text/plain": [
       "Loading Daily data for GOOG with starting period 2023-04-18.\n"
      ]
     },
     "metadata": {},
     "output_type": "display_data"
    },
    {
     "data": {
      "text/html": [
       "<pre style=\"white-space:pre;overflow-x:auto;line-height:normal;font-family:Menlo,'DejaVu Sans Mono',consolas,'Courier New',monospace\">Loading Daily data for GOOG with starting period 2023-04-17.\n",
       "</pre>\n"
      ],
      "text/plain": [
       "Loading Daily data for GOOG with starting period 2023-04-17.\n"
      ]
     },
     "metadata": {},
     "output_type": "display_data"
    },
    {
     "data": {
      "text/html": [
       "<pre style=\"white-space:pre;overflow-x:auto;line-height:normal;font-family:Menlo,'DejaVu Sans Mono',consolas,'Courier New',monospace\">Loading Daily data for GOOG with starting period 2023-04-17.\n",
       "</pre>\n"
      ],
      "text/plain": [
       "Loading Daily data for GOOG with starting period 2023-04-17.\n"
      ]
     },
     "metadata": {},
     "output_type": "display_data"
    },
    {
     "data": {
      "text/html": [
       "<pre style=\"white-space:pre;overflow-x:auto;line-height:normal;font-family:Menlo,'DejaVu Sans Mono',consolas,'Courier New',monospace\">Loading Daily data for GOOG with starting period 2023-04-17.\n",
       "</pre>\n"
      ],
      "text/plain": [
       "Loading Daily data for GOOG with starting period 2023-04-17.\n"
      ]
     },
     "metadata": {},
     "output_type": "display_data"
    },
    {
     "data": {
      "text/html": [
       "<pre style=\"white-space:pre;overflow-x:auto;line-height:normal;font-family:Menlo,'DejaVu Sans Mono',consolas,'Courier New',monospace\">Loading Daily data for GOOG with starting period 2023-04-17.\n",
       "</pre>\n"
      ],
      "text/plain": [
       "Loading Daily data for GOOG with starting period 2023-04-17.\n"
      ]
     },
     "metadata": {},
     "output_type": "display_data"
    },
    {
     "data": {
      "text/html": [
       "<pre style=\"white-space:pre;overflow-x:auto;line-height:normal;font-family:Menlo,'DejaVu Sans Mono',consolas,'Courier New',monospace\">Loading Daily data for GOOG with starting period 2023-04-17.\n",
       "</pre>\n"
      ],
      "text/plain": [
       "Loading Daily data for GOOG with starting period 2023-04-17.\n"
      ]
     },
     "metadata": {},
     "output_type": "display_data"
    },
    {
     "data": {
      "text/html": [
       "<pre style=\"white-space:pre;overflow-x:auto;line-height:normal;font-family:Menlo,'DejaVu Sans Mono',consolas,'Courier New',monospace\">Loading Daily data for GOOG with starting period 2023-04-17.\n",
       "</pre>\n"
      ],
      "text/plain": [
       "Loading Daily data for GOOG with starting period 2023-04-17.\n"
      ]
     },
     "metadata": {},
     "output_type": "display_data"
    },
    {
     "data": {
      "text/html": [
       "<pre style=\"white-space:pre;overflow-x:auto;line-height:normal;font-family:Menlo,'DejaVu Sans Mono',consolas,'Courier New',monospace\">Loading Daily data for GOOG with starting period 2023-04-17.\n",
       "</pre>\n"
      ],
      "text/plain": [
       "Loading Daily data for GOOG with starting period 2023-04-17.\n"
      ]
     },
     "metadata": {},
     "output_type": "display_data"
    },
    {
     "data": {
      "text/html": [
       "<pre style=\"white-space:pre;overflow-x:auto;line-height:normal;font-family:Menlo,'DejaVu Sans Mono',consolas,'Courier New',monospace\">Loading Daily data for GOOG with starting period 2023-04-17.\n",
       "</pre>\n"
      ],
      "text/plain": [
       "Loading Daily data for GOOG with starting period 2023-04-17.\n"
      ]
     },
     "metadata": {},
     "output_type": "display_data"
    },
    {
     "data": {
      "text/html": [
       "<pre style=\"white-space:pre;overflow-x:auto;line-height:normal;font-family:Menlo,'DejaVu Sans Mono',consolas,'Courier New',monospace\">Loading Daily data for GOOG with starting period 2023-04-17.\n",
       "</pre>\n"
      ],
      "text/plain": [
       "Loading Daily data for GOOG with starting period 2023-04-17.\n"
      ]
     },
     "metadata": {},
     "output_type": "display_data"
    },
    {
     "data": {
      "text/html": [
       "<pre style=\"white-space:pre;overflow-x:auto;line-height:normal;font-family:Menlo,'DejaVu Sans Mono',consolas,'Courier New',monospace\">Loading Daily data for GOOG with starting period 2023-04-17.\n",
       "</pre>\n"
      ],
      "text/plain": [
       "Loading Daily data for GOOG with starting period 2023-04-17.\n"
      ]
     },
     "metadata": {},
     "output_type": "display_data"
    },
    {
     "data": {
      "text/html": [
       "<pre style=\"white-space:pre;overflow-x:auto;line-height:normal;font-family:Menlo,'DejaVu Sans Mono',consolas,'Courier New',monospace\">Loading Daily data for GOOG with starting period 2023-04-17.\n",
       "</pre>\n"
      ],
      "text/plain": [
       "Loading Daily data for GOOG with starting period 2023-04-17.\n"
      ]
     },
     "metadata": {},
     "output_type": "display_data"
    },
    {
     "data": {
      "text/html": [
       "<pre style=\"white-space:pre;overflow-x:auto;line-height:normal;font-family:Menlo,'DejaVu Sans Mono',consolas,'Courier New',monospace\">Loading Daily data for GOOG with starting period 2023-04-17.\n",
       "</pre>\n"
      ],
      "text/plain": [
       "Loading Daily data for GOOG with starting period 2023-04-17.\n"
      ]
     },
     "metadata": {},
     "output_type": "display_data"
    },
    {
     "data": {
      "text/html": [
       "<pre style=\"white-space:pre;overflow-x:auto;line-height:normal;font-family:Menlo,'DejaVu Sans Mono',consolas,'Courier New',monospace\">Loading Daily data for GOOG with starting period 2023-04-17.\n",
       "</pre>\n"
      ],
      "text/plain": [
       "Loading Daily data for GOOG with starting period 2023-04-17.\n"
      ]
     },
     "metadata": {},
     "output_type": "display_data"
    },
    {
     "data": {
      "text/html": [
       "<pre style=\"white-space:pre;overflow-x:auto;line-height:normal;font-family:Menlo,'DejaVu Sans Mono',consolas,'Courier New',monospace\">Loading Daily data for GOOG with starting period 2023-04-14.\n",
       "</pre>\n"
      ],
      "text/plain": [
       "Loading Daily data for GOOG with starting period 2023-04-14.\n"
      ]
     },
     "metadata": {},
     "output_type": "display_data"
    },
    {
     "data": {
      "text/html": [
       "<pre style=\"white-space:pre;overflow-x:auto;line-height:normal;font-family:Menlo,'DejaVu Sans Mono',consolas,'Courier New',monospace\">Loading Daily data for GOOG with starting period 2023-04-14.\n",
       "</pre>\n"
      ],
      "text/plain": [
       "Loading Daily data for GOOG with starting period 2023-04-14.\n"
      ]
     },
     "metadata": {},
     "output_type": "display_data"
    },
    {
     "data": {
      "text/html": [
       "<pre style=\"white-space:pre;overflow-x:auto;line-height:normal;font-family:Menlo,'DejaVu Sans Mono',consolas,'Courier New',monospace\">Loading Daily data for GOOG with starting period 2023-04-14.\n",
       "</pre>\n"
      ],
      "text/plain": [
       "Loading Daily data for GOOG with starting period 2023-04-14.\n"
      ]
     },
     "metadata": {},
     "output_type": "display_data"
    },
    {
     "data": {
      "text/html": [
       "<pre style=\"white-space:pre;overflow-x:auto;line-height:normal;font-family:Menlo,'DejaVu Sans Mono',consolas,'Courier New',monospace\">Loading Daily data for GOOG with starting period 2023-04-13.\n",
       "</pre>\n"
      ],
      "text/plain": [
       "Loading Daily data for GOOG with starting period 2023-04-13.\n"
      ]
     },
     "metadata": {},
     "output_type": "display_data"
    },
    {
     "data": {
      "text/html": [
       "<pre style=\"white-space:pre;overflow-x:auto;line-height:normal;font-family:Menlo,'DejaVu Sans Mono',consolas,'Courier New',monospace\">Loading Daily data for GOOG with starting period 2023-04-13.\n",
       "</pre>\n"
      ],
      "text/plain": [
       "Loading Daily data for GOOG with starting period 2023-04-13.\n"
      ]
     },
     "metadata": {},
     "output_type": "display_data"
    },
    {
     "data": {
      "text/html": [
       "<pre style=\"white-space:pre;overflow-x:auto;line-height:normal;font-family:Menlo,'DejaVu Sans Mono',consolas,'Courier New',monospace\">Loading Daily data for GOOG with starting period 2023-04-13.\n",
       "</pre>\n"
      ],
      "text/plain": [
       "Loading Daily data for GOOG with starting period 2023-04-13.\n"
      ]
     },
     "metadata": {},
     "output_type": "display_data"
    },
    {
     "data": {
      "text/html": [
       "<pre style=\"white-space:pre;overflow-x:auto;line-height:normal;font-family:Menlo,'DejaVu Sans Mono',consolas,'Courier New',monospace\">Loading Daily data for GOOG with starting period 2023-04-13.\n",
       "</pre>\n"
      ],
      "text/plain": [
       "Loading Daily data for GOOG with starting period 2023-04-13.\n"
      ]
     },
     "metadata": {},
     "output_type": "display_data"
    },
    {
     "data": {
      "text/html": [
       "<pre style=\"white-space:pre;overflow-x:auto;line-height:normal;font-family:Menlo,'DejaVu Sans Mono',consolas,'Courier New',monospace\">Loading Daily data for GOOG with starting period 2023-04-13.\n",
       "</pre>\n"
      ],
      "text/plain": [
       "Loading Daily data for GOOG with starting period 2023-04-13.\n"
      ]
     },
     "metadata": {},
     "output_type": "display_data"
    },
    {
     "data": {
      "text/html": [
       "<pre style=\"white-space:pre;overflow-x:auto;line-height:normal;font-family:Menlo,'DejaVu Sans Mono',consolas,'Courier New',monospace\">Loading Daily data for GOOG with starting period 2023-04-13.\n",
       "</pre>\n"
      ],
      "text/plain": [
       "Loading Daily data for GOOG with starting period 2023-04-13.\n"
      ]
     },
     "metadata": {},
     "output_type": "display_data"
    },
    {
     "data": {
      "text/html": [
       "<pre style=\"white-space:pre;overflow-x:auto;line-height:normal;font-family:Menlo,'DejaVu Sans Mono',consolas,'Courier New',monospace\">Loading Daily data for GOOG with starting period 2023-04-12.\n",
       "</pre>\n"
      ],
      "text/plain": [
       "Loading Daily data for GOOG with starting period 2023-04-12.\n"
      ]
     },
     "metadata": {},
     "output_type": "display_data"
    },
    {
     "data": {
      "text/html": [
       "<pre style=\"white-space:pre;overflow-x:auto;line-height:normal;font-family:Menlo,'DejaVu Sans Mono',consolas,'Courier New',monospace\">Loading Daily data for GOOG with starting period 2023-04-12.\n",
       "</pre>\n"
      ],
      "text/plain": [
       "Loading Daily data for GOOG with starting period 2023-04-12.\n"
      ]
     },
     "metadata": {},
     "output_type": "display_data"
    },
    {
     "data": {
      "text/html": [
       "<pre style=\"white-space:pre;overflow-x:auto;line-height:normal;font-family:Menlo,'DejaVu Sans Mono',consolas,'Courier New',monospace\">Loading Daily data for GOOG with starting period 2023-04-12.\n",
       "</pre>\n"
      ],
      "text/plain": [
       "Loading Daily data for GOOG with starting period 2023-04-12.\n"
      ]
     },
     "metadata": {},
     "output_type": "display_data"
    },
    {
     "data": {
      "text/html": [
       "<pre style=\"white-space:pre;overflow-x:auto;line-height:normal;font-family:Menlo,'DejaVu Sans Mono',consolas,'Courier New',monospace\">Loading Daily data for GOOG with starting period 2023-04-11.\n",
       "</pre>\n"
      ],
      "text/plain": [
       "Loading Daily data for GOOG with starting period 2023-04-11.\n"
      ]
     },
     "metadata": {},
     "output_type": "display_data"
    },
    {
     "data": {
      "text/html": [
       "<pre style=\"white-space:pre;overflow-x:auto;line-height:normal;font-family:Menlo,'DejaVu Sans Mono',consolas,'Courier New',monospace\">Loading Daily data for GOOG with starting period 2023-04-11.\n",
       "</pre>\n"
      ],
      "text/plain": [
       "Loading Daily data for GOOG with starting period 2023-04-11.\n"
      ]
     },
     "metadata": {},
     "output_type": "display_data"
    },
    {
     "data": {
      "text/html": [
       "<pre style=\"white-space:pre;overflow-x:auto;line-height:normal;font-family:Menlo,'DejaVu Sans Mono',consolas,'Courier New',monospace\">Loading Daily data for GOOG with starting period 2023-04-10.\n",
       "</pre>\n"
      ],
      "text/plain": [
       "Loading Daily data for GOOG with starting period 2023-04-10.\n"
      ]
     },
     "metadata": {},
     "output_type": "display_data"
    },
    {
     "data": {
      "text/html": [
       "<pre style=\"white-space:pre;overflow-x:auto;line-height:normal;font-family:Menlo,'DejaVu Sans Mono',consolas,'Courier New',monospace\">Loading Daily data for GOOG with starting period 2023-04-10.\n",
       "</pre>\n"
      ],
      "text/plain": [
       "Loading Daily data for GOOG with starting period 2023-04-10.\n"
      ]
     },
     "metadata": {},
     "output_type": "display_data"
    },
    {
     "data": {
      "text/html": [
       "<pre style=\"white-space:pre;overflow-x:auto;line-height:normal;font-family:Menlo,'DejaVu Sans Mono',consolas,'Courier New',monospace\">Loading Daily data for GOOG with starting period 2023-04-06.\n",
       "</pre>\n"
      ],
      "text/plain": [
       "Loading Daily data for GOOG with starting period 2023-04-06.\n"
      ]
     },
     "metadata": {},
     "output_type": "display_data"
    },
    {
     "data": {
      "text/html": [
       "<pre style=\"white-space:pre;overflow-x:auto;line-height:normal;font-family:Menlo,'DejaVu Sans Mono',consolas,'Courier New',monospace\">Loading Daily data for GOOG with starting period 2023-04-06.\n",
       "</pre>\n"
      ],
      "text/plain": [
       "Loading Daily data for GOOG with starting period 2023-04-06.\n"
      ]
     },
     "metadata": {},
     "output_type": "display_data"
    },
    {
     "data": {
      "text/html": [
       "<pre style=\"white-space:pre;overflow-x:auto;line-height:normal;font-family:Menlo,'DejaVu Sans Mono',consolas,'Courier New',monospace\">Loading Daily data for GOOG with starting period 2023-04-06.\n",
       "</pre>\n"
      ],
      "text/plain": [
       "Loading Daily data for GOOG with starting period 2023-04-06.\n"
      ]
     },
     "metadata": {},
     "output_type": "display_data"
    },
    {
     "data": {
      "text/html": [
       "<pre style=\"white-space:pre;overflow-x:auto;line-height:normal;font-family:Menlo,'DejaVu Sans Mono',consolas,'Courier New',monospace\">Loading Daily data for GOOG with starting period 2023-04-05.\n",
       "</pre>\n"
      ],
      "text/plain": [
       "Loading Daily data for GOOG with starting period 2023-04-05.\n"
      ]
     },
     "metadata": {},
     "output_type": "display_data"
    },
    {
     "data": {
      "text/html": [
       "<pre style=\"white-space:pre;overflow-x:auto;line-height:normal;font-family:Menlo,'DejaVu Sans Mono',consolas,'Courier New',monospace\">Loading Daily data for GOOG with starting period 2023-04-05.\n",
       "</pre>\n"
      ],
      "text/plain": [
       "Loading Daily data for GOOG with starting period 2023-04-05.\n"
      ]
     },
     "metadata": {},
     "output_type": "display_data"
    },
    {
     "data": {
      "text/html": [
       "<pre style=\"white-space:pre;overflow-x:auto;line-height:normal;font-family:Menlo,'DejaVu Sans Mono',consolas,'Courier New',monospace\">Loading Daily data for GOOG with starting period 2023-04-05.\n",
       "</pre>\n"
      ],
      "text/plain": [
       "Loading Daily data for GOOG with starting period 2023-04-05.\n"
      ]
     },
     "metadata": {},
     "output_type": "display_data"
    },
    {
     "data": {
      "text/html": [
       "<pre style=\"white-space:pre;overflow-x:auto;line-height:normal;font-family:Menlo,'DejaVu Sans Mono',consolas,'Courier New',monospace\">Loading Daily data for GOOG with starting period 2023-04-05.\n",
       "</pre>\n"
      ],
      "text/plain": [
       "Loading Daily data for GOOG with starting period 2023-04-05.\n"
      ]
     },
     "metadata": {},
     "output_type": "display_data"
    },
    {
     "data": {
      "text/html": [
       "<pre style=\"white-space:pre;overflow-x:auto;line-height:normal;font-family:Menlo,'DejaVu Sans Mono',consolas,'Courier New',monospace\">Loading Daily data for GOOG with starting period 2023-04-05.\n",
       "</pre>\n"
      ],
      "text/plain": [
       "Loading Daily data for GOOG with starting period 2023-04-05.\n"
      ]
     },
     "metadata": {},
     "output_type": "display_data"
    },
    {
     "data": {
      "text/html": [
       "<pre style=\"white-space:pre;overflow-x:auto;line-height:normal;font-family:Menlo,'DejaVu Sans Mono',consolas,'Courier New',monospace\">Loading Daily data for GOOG with starting period 2023-04-04.\n",
       "</pre>\n"
      ],
      "text/plain": [
       "Loading Daily data for GOOG with starting period 2023-04-04.\n"
      ]
     },
     "metadata": {},
     "output_type": "display_data"
    },
    {
     "data": {
      "text/html": [
       "<pre style=\"white-space:pre;overflow-x:auto;line-height:normal;font-family:Menlo,'DejaVu Sans Mono',consolas,'Courier New',monospace\">Loading Daily data for GOOG with starting period 2023-04-04.\n",
       "</pre>\n"
      ],
      "text/plain": [
       "Loading Daily data for GOOG with starting period 2023-04-04.\n"
      ]
     },
     "metadata": {},
     "output_type": "display_data"
    },
    {
     "data": {
      "text/html": [
       "<pre style=\"white-space:pre;overflow-x:auto;line-height:normal;font-family:Menlo,'DejaVu Sans Mono',consolas,'Courier New',monospace\">Loading Daily data for GOOG with starting period 2023-04-04.\n",
       "</pre>\n"
      ],
      "text/plain": [
       "Loading Daily data for GOOG with starting period 2023-04-04.\n"
      ]
     },
     "metadata": {},
     "output_type": "display_data"
    },
    {
     "data": {
      "text/html": [
       "<pre style=\"white-space:pre;overflow-x:auto;line-height:normal;font-family:Menlo,'DejaVu Sans Mono',consolas,'Courier New',monospace\">Loading Daily data for GOOG with starting period 2023-04-03.\n",
       "</pre>\n"
      ],
      "text/plain": [
       "Loading Daily data for GOOG with starting period 2023-04-03.\n"
      ]
     },
     "metadata": {},
     "output_type": "display_data"
    },
    {
     "data": {
      "text/html": [
       "<pre style=\"white-space:pre;overflow-x:auto;line-height:normal;font-family:Menlo,'DejaVu Sans Mono',consolas,'Courier New',monospace\">Loading Daily data for GOOG with starting period 2023-04-03.\n",
       "</pre>\n"
      ],
      "text/plain": [
       "Loading Daily data for GOOG with starting period 2023-04-03.\n"
      ]
     },
     "metadata": {},
     "output_type": "display_data"
    },
    {
     "data": {
      "text/html": [
       "<pre style=\"white-space:pre;overflow-x:auto;line-height:normal;font-family:Menlo,'DejaVu Sans Mono',consolas,'Courier New',monospace\">Loading Daily data for GOOG with starting period 2023-04-03.\n",
       "</pre>\n"
      ],
      "text/plain": [
       "Loading Daily data for GOOG with starting period 2023-04-03.\n"
      ]
     },
     "metadata": {},
     "output_type": "display_data"
    },
    {
     "data": {
      "text/html": [
       "<pre style=\"white-space:pre;overflow-x:auto;line-height:normal;font-family:Menlo,'DejaVu Sans Mono',consolas,'Courier New',monospace\">Loading Daily data for GOOG with starting period 2023-04-03.\n",
       "</pre>\n"
      ],
      "text/plain": [
       "Loading Daily data for GOOG with starting period 2023-04-03.\n"
      ]
     },
     "metadata": {},
     "output_type": "display_data"
    },
    {
     "data": {
      "text/html": [
       "<pre style=\"white-space:pre;overflow-x:auto;line-height:normal;font-family:Menlo,'DejaVu Sans Mono',consolas,'Courier New',monospace\">Loading Daily data for GOOG with starting period 2023-04-03.\n",
       "</pre>\n"
      ],
      "text/plain": [
       "Loading Daily data for GOOG with starting period 2023-04-03.\n"
      ]
     },
     "metadata": {},
     "output_type": "display_data"
    },
    {
     "data": {
      "text/html": [
       "<pre style=\"white-space:pre;overflow-x:auto;line-height:normal;font-family:Menlo,'DejaVu Sans Mono',consolas,'Courier New',monospace\">Loading Daily data for GOOG with starting period 2023-03-30.\n",
       "</pre>\n"
      ],
      "text/plain": [
       "Loading Daily data for GOOG with starting period 2023-03-30.\n"
      ]
     },
     "metadata": {},
     "output_type": "display_data"
    },
    {
     "data": {
      "text/html": [
       "<pre style=\"white-space:pre;overflow-x:auto;line-height:normal;font-family:Menlo,'DejaVu Sans Mono',consolas,'Courier New',monospace\">Loading Daily data for GOOG with starting period 2023-03-30.\n",
       "</pre>\n"
      ],
      "text/plain": [
       "Loading Daily data for GOOG with starting period 2023-03-30.\n"
      ]
     },
     "metadata": {},
     "output_type": "display_data"
    },
    {
     "data": {
      "text/html": [
       "<pre style=\"white-space:pre;overflow-x:auto;line-height:normal;font-family:Menlo,'DejaVu Sans Mono',consolas,'Courier New',monospace\">Loading Daily data for GOOG with starting period 2023-03-29.\n",
       "</pre>\n"
      ],
      "text/plain": [
       "Loading Daily data for GOOG with starting period 2023-03-29.\n"
      ]
     },
     "metadata": {},
     "output_type": "display_data"
    },
    {
     "data": {
      "text/html": [
       "<pre style=\"white-space:pre;overflow-x:auto;line-height:normal;font-family:Menlo,'DejaVu Sans Mono',consolas,'Courier New',monospace\">Loading Daily data for GOOG with starting period 2023-03-29.\n",
       "</pre>\n"
      ],
      "text/plain": [
       "Loading Daily data for GOOG with starting period 2023-03-29.\n"
      ]
     },
     "metadata": {},
     "output_type": "display_data"
    },
    {
     "data": {
      "text/html": [
       "<pre style=\"white-space:pre;overflow-x:auto;line-height:normal;font-family:Menlo,'DejaVu Sans Mono',consolas,'Courier New',monospace\">Loading Daily data for GOOG with starting period 2023-03-28.\n",
       "</pre>\n"
      ],
      "text/plain": [
       "Loading Daily data for GOOG with starting period 2023-03-28.\n"
      ]
     },
     "metadata": {},
     "output_type": "display_data"
    },
    {
     "data": {
      "text/html": [
       "<pre style=\"white-space:pre;overflow-x:auto;line-height:normal;font-family:Menlo,'DejaVu Sans Mono',consolas,'Courier New',monospace\">Loading Daily data for GOOG with starting period 2023-03-27.\n",
       "</pre>\n"
      ],
      "text/plain": [
       "Loading Daily data for GOOG with starting period 2023-03-27.\n"
      ]
     },
     "metadata": {},
     "output_type": "display_data"
    },
    {
     "data": {
      "text/html": [
       "<pre style=\"white-space:pre;overflow-x:auto;line-height:normal;font-family:Menlo,'DejaVu Sans Mono',consolas,'Courier New',monospace\">Loading Daily data for GOOG with starting period 2023-03-27.\n",
       "</pre>\n"
      ],
      "text/plain": [
       "Loading Daily data for GOOG with starting period 2023-03-27.\n"
      ]
     },
     "metadata": {},
     "output_type": "display_data"
    },
    {
     "data": {
      "text/html": [
       "<pre style=\"white-space:pre;overflow-x:auto;line-height:normal;font-family:Menlo,'DejaVu Sans Mono',consolas,'Courier New',monospace\">Loading Daily data for GOOG with starting period 2023-03-27.\n",
       "</pre>\n"
      ],
      "text/plain": [
       "Loading Daily data for GOOG with starting period 2023-03-27.\n"
      ]
     },
     "metadata": {},
     "output_type": "display_data"
    },
    {
     "data": {
      "text/html": [
       "<pre style=\"white-space:pre;overflow-x:auto;line-height:normal;font-family:Menlo,'DejaVu Sans Mono',consolas,'Courier New',monospace\">Loading Daily data for GOOG with starting period 2023-03-23.\n",
       "</pre>\n"
      ],
      "text/plain": [
       "Loading Daily data for GOOG with starting period 2023-03-23.\n"
      ]
     },
     "metadata": {},
     "output_type": "display_data"
    },
    {
     "data": {
      "text/html": [
       "<pre style=\"white-space:pre;overflow-x:auto;line-height:normal;font-family:Menlo,'DejaVu Sans Mono',consolas,'Courier New',monospace\">Loading Daily data for GOOG with starting period 2023-03-23.\n",
       "</pre>\n"
      ],
      "text/plain": [
       "Loading Daily data for GOOG with starting period 2023-03-23.\n"
      ]
     },
     "metadata": {},
     "output_type": "display_data"
    },
    {
     "data": {
      "text/html": [
       "<pre style=\"white-space:pre;overflow-x:auto;line-height:normal;font-family:Menlo,'DejaVu Sans Mono',consolas,'Courier New',monospace\">Loading Daily data for GOOG with starting period 2023-03-23.\n",
       "</pre>\n"
      ],
      "text/plain": [
       "Loading Daily data for GOOG with starting period 2023-03-23.\n"
      ]
     },
     "metadata": {},
     "output_type": "display_data"
    },
    {
     "data": {
      "text/html": [
       "<pre style=\"white-space:pre;overflow-x:auto;line-height:normal;font-family:Menlo,'DejaVu Sans Mono',consolas,'Courier New',monospace\">Loading Daily data for GOOG with starting period 2023-03-23.\n",
       "</pre>\n"
      ],
      "text/plain": [
       "Loading Daily data for GOOG with starting period 2023-03-23.\n"
      ]
     },
     "metadata": {},
     "output_type": "display_data"
    },
    {
     "data": {
      "text/html": [
       "<pre style=\"white-space:pre;overflow-x:auto;line-height:normal;font-family:Menlo,'DejaVu Sans Mono',consolas,'Courier New',monospace\">Loading Daily data for GOOG with starting period 2023-03-22.\n",
       "</pre>\n"
      ],
      "text/plain": [
       "Loading Daily data for GOOG with starting period 2023-03-22.\n"
      ]
     },
     "metadata": {},
     "output_type": "display_data"
    },
    {
     "data": {
      "text/html": [
       "<pre style=\"white-space:pre;overflow-x:auto;line-height:normal;font-family:Menlo,'DejaVu Sans Mono',consolas,'Courier New',monospace\">Loading Daily data for GOOG with starting period 2023-03-22.\n",
       "</pre>\n"
      ],
      "text/plain": [
       "Loading Daily data for GOOG with starting period 2023-03-22.\n"
      ]
     },
     "metadata": {},
     "output_type": "display_data"
    },
    {
     "data": {
      "text/html": [
       "<pre style=\"white-space:pre;overflow-x:auto;line-height:normal;font-family:Menlo,'DejaVu Sans Mono',consolas,'Courier New',monospace\">Loading Daily data for GOOG with starting period 2023-03-21.\n",
       "</pre>\n"
      ],
      "text/plain": [
       "Loading Daily data for GOOG with starting period 2023-03-21.\n"
      ]
     },
     "metadata": {},
     "output_type": "display_data"
    },
    {
     "data": {
      "text/html": [
       "<pre style=\"white-space:pre;overflow-x:auto;line-height:normal;font-family:Menlo,'DejaVu Sans Mono',consolas,'Courier New',monospace\">Loading Daily data for GOOG with starting period 2023-03-21.\n",
       "</pre>\n"
      ],
      "text/plain": [
       "Loading Daily data for GOOG with starting period 2023-03-21.\n"
      ]
     },
     "metadata": {},
     "output_type": "display_data"
    },
    {
     "data": {
      "text/html": [
       "<pre style=\"white-space:pre;overflow-x:auto;line-height:normal;font-family:Menlo,'DejaVu Sans Mono',consolas,'Courier New',monospace\">Loading Daily data for GOOG with starting period 2023-03-21.\n",
       "</pre>\n"
      ],
      "text/plain": [
       "Loading Daily data for GOOG with starting period 2023-03-21.\n"
      ]
     },
     "metadata": {},
     "output_type": "display_data"
    },
    {
     "data": {
      "text/html": [
       "<pre style=\"white-space:pre;overflow-x:auto;line-height:normal;font-family:Menlo,'DejaVu Sans Mono',consolas,'Courier New',monospace\">Loading Daily data for GOOG with starting period 2023-03-20.\n",
       "</pre>\n"
      ],
      "text/plain": [
       "Loading Daily data for GOOG with starting period 2023-03-20.\n"
      ]
     },
     "metadata": {},
     "output_type": "display_data"
    },
    {
     "data": {
      "text/html": [
       "<pre style=\"white-space:pre;overflow-x:auto;line-height:normal;font-family:Menlo,'DejaVu Sans Mono',consolas,'Courier New',monospace\">Loading Daily data for GOOG with starting period 2023-03-20.\n",
       "</pre>\n"
      ],
      "text/plain": [
       "Loading Daily data for GOOG with starting period 2023-03-20.\n"
      ]
     },
     "metadata": {},
     "output_type": "display_data"
    },
    {
     "data": {
      "text/html": [
       "<pre style=\"white-space:pre;overflow-x:auto;line-height:normal;font-family:Menlo,'DejaVu Sans Mono',consolas,'Courier New',monospace\">Loading Daily data for GOOG with starting period 2023-03-20.\n",
       "</pre>\n"
      ],
      "text/plain": [
       "Loading Daily data for GOOG with starting period 2023-03-20.\n"
      ]
     },
     "metadata": {},
     "output_type": "display_data"
    },
    {
     "data": {
      "text/html": [
       "<pre style=\"white-space:pre;overflow-x:auto;line-height:normal;font-family:Menlo,'DejaVu Sans Mono',consolas,'Courier New',monospace\">Loading Daily data for GOOG with starting period 2023-03-10.\n",
       "</pre>\n"
      ],
      "text/plain": [
       "Loading Daily data for GOOG with starting period 2023-03-10.\n"
      ]
     },
     "metadata": {},
     "output_type": "display_data"
    },
    {
     "data": {
      "text/html": [
       "<pre style=\"white-space:pre;overflow-x:auto;line-height:normal;font-family:Menlo,'DejaVu Sans Mono',consolas,'Courier New',monospace\">Loading Daily data for GOOG with starting period 2023-03-06.\n",
       "</pre>\n"
      ],
      "text/plain": [
       "Loading Daily data for GOOG with starting period 2023-03-06.\n"
      ]
     },
     "metadata": {},
     "output_type": "display_data"
    },
    {
     "data": {
      "text/html": [
       "<pre style=\"white-space:pre;overflow-x:auto;line-height:normal;font-family:Menlo,'DejaVu Sans Mono',consolas,'Courier New',monospace\">Loading Daily data for GOOG with starting period 2023-03-02.\n",
       "</pre>\n"
      ],
      "text/plain": [
       "Loading Daily data for GOOG with starting period 2023-03-02.\n"
      ]
     },
     "metadata": {},
     "output_type": "display_data"
    },
    {
     "data": {
      "text/html": [
       "<pre style=\"white-space:pre;overflow-x:auto;line-height:normal;font-family:Menlo,'DejaVu Sans Mono',consolas,'Courier New',monospace\">Loading Daily data for GOOG with starting period 2023-03-01.\n",
       "</pre>\n"
      ],
      "text/plain": [
       "Loading Daily data for GOOG with starting period 2023-03-01.\n"
      ]
     },
     "metadata": {},
     "output_type": "display_data"
    },
    {
     "data": {
      "text/html": [
       "<pre style=\"white-space:pre;overflow-x:auto;line-height:normal;font-family:Menlo,'DejaVu Sans Mono',consolas,'Courier New',monospace\">Loading Daily data for GOOG with starting period 2023-02-27.\n",
       "</pre>\n"
      ],
      "text/plain": [
       "Loading Daily data for GOOG with starting period 2023-02-27.\n"
      ]
     },
     "metadata": {},
     "output_type": "display_data"
    },
    {
     "data": {
      "text/html": [
       "<pre style=\"white-space:pre;overflow-x:auto;line-height:normal;font-family:Menlo,'DejaVu Sans Mono',consolas,'Courier New',monospace\">Loading Daily data for GOOG with starting period 2023-02-27.\n",
       "</pre>\n"
      ],
      "text/plain": [
       "Loading Daily data for GOOG with starting period 2023-02-27.\n"
      ]
     },
     "metadata": {},
     "output_type": "display_data"
    },
    {
     "data": {
      "text/html": [
       "<pre style=\"white-space:pre;overflow-x:auto;line-height:normal;font-family:Menlo,'DejaVu Sans Mono',consolas,'Courier New',monospace\">Loading Daily data for GOOG with starting period 2023-02-23.\n",
       "</pre>\n"
      ],
      "text/plain": [
       "Loading Daily data for GOOG with starting period 2023-02-23.\n"
      ]
     },
     "metadata": {},
     "output_type": "display_data"
    },
    {
     "data": {
      "text/html": [
       "<pre style=\"white-space:pre;overflow-x:auto;line-height:normal;font-family:Menlo,'DejaVu Sans Mono',consolas,'Courier New',monospace\">Loading Daily data for GOOG with starting period 2023-02-15.\n",
       "</pre>\n"
      ],
      "text/plain": [
       "Loading Daily data for GOOG with starting period 2023-02-15.\n"
      ]
     },
     "metadata": {},
     "output_type": "display_data"
    },
    {
     "data": {
      "text/html": [
       "<pre style=\"white-space:pre;overflow-x:auto;line-height:normal;font-family:Menlo,'DejaVu Sans Mono',consolas,'Courier New',monospace\">Loading Daily data for GOOG with starting period 2023-02-13.\n",
       "</pre>\n"
      ],
      "text/plain": [
       "Loading Daily data for GOOG with starting period 2023-02-13.\n"
      ]
     },
     "metadata": {},
     "output_type": "display_data"
    },
    {
     "data": {
      "text/html": [
       "<pre style=\"white-space:pre;overflow-x:auto;line-height:normal;font-family:Menlo,'DejaVu Sans Mono',consolas,'Courier New',monospace\">Loading Daily data for GOOG with starting period 2023-02-08.\n",
       "</pre>\n"
      ],
      "text/plain": [
       "Loading Daily data for GOOG with starting period 2023-02-08.\n"
      ]
     },
     "metadata": {},
     "output_type": "display_data"
    },
    {
     "data": {
      "text/html": [
       "<pre style=\"white-space:pre;overflow-x:auto;line-height:normal;font-family:Menlo,'DejaVu Sans Mono',consolas,'Courier New',monospace\">Loading Daily data for GOOG with starting period 2023-02-06.\n",
       "</pre>\n"
      ],
      "text/plain": [
       "Loading Daily data for GOOG with starting period 2023-02-06.\n"
      ]
     },
     "metadata": {},
     "output_type": "display_data"
    },
    {
     "data": {
      "text/html": [
       "<pre style=\"white-space:pre;overflow-x:auto;line-height:normal;font-family:Menlo,'DejaVu Sans Mono',consolas,'Courier New',monospace\">Loading Daily data for GOOG with starting period 2023-02-01.\n",
       "</pre>\n"
      ],
      "text/plain": [
       "Loading Daily data for GOOG with starting period 2023-02-01.\n"
      ]
     },
     "metadata": {},
     "output_type": "display_data"
    },
    {
     "data": {
      "text/html": [
       "<pre style=\"white-space:pre;overflow-x:auto;line-height:normal;font-family:Menlo,'DejaVu Sans Mono',consolas,'Courier New',monospace\">Loading Daily data for GOOG with starting period 2023-01-30.\n",
       "</pre>\n"
      ],
      "text/plain": [
       "Loading Daily data for GOOG with starting period 2023-01-30.\n"
      ]
     },
     "metadata": {},
     "output_type": "display_data"
    },
    {
     "data": {
      "text/html": [
       "<pre style=\"white-space:pre;overflow-x:auto;line-height:normal;font-family:Menlo,'DejaVu Sans Mono',consolas,'Courier New',monospace\">Loading Daily data for GOOG with starting period 2023-01-30.\n",
       "</pre>\n"
      ],
      "text/plain": [
       "Loading Daily data for GOOG with starting period 2023-01-30.\n"
      ]
     },
     "metadata": {},
     "output_type": "display_data"
    },
    {
     "data": {
      "text/html": [
       "<pre style=\"white-space:pre;overflow-x:auto;line-height:normal;font-family:Menlo,'DejaVu Sans Mono',consolas,'Courier New',monospace\">Loading Daily data for GOOG with starting period 2023-01-17.\n",
       "</pre>\n"
      ],
      "text/plain": [
       "Loading Daily data for GOOG with starting period 2023-01-17.\n"
      ]
     },
     "metadata": {},
     "output_type": "display_data"
    },
    {
     "data": {
      "text/html": [
       "<pre style=\"white-space:pre;overflow-x:auto;line-height:normal;font-family:Menlo,'DejaVu Sans Mono',consolas,'Courier New',monospace\">Loading Daily data for GOOG with starting period 2023-01-06.\n",
       "</pre>\n"
      ],
      "text/plain": [
       "Loading Daily data for GOOG with starting period 2023-01-06.\n"
      ]
     },
     "metadata": {},
     "output_type": "display_data"
    },
    {
     "data": {
      "text/html": [
       "<pre style=\"white-space:pre;overflow-x:auto;line-height:normal;font-family:Menlo,'DejaVu Sans Mono',consolas,'Courier New',monospace\">Loading Daily data for GOOG with starting period 2022-12-21.\n",
       "</pre>\n"
      ],
      "text/plain": [
       "Loading Daily data for GOOG with starting period 2022-12-21.\n"
      ]
     },
     "metadata": {},
     "output_type": "display_data"
    },
    {
     "data": {
      "text/html": [
       "<pre style=\"white-space:pre;overflow-x:auto;line-height:normal;font-family:Menlo,'DejaVu Sans Mono',consolas,'Courier New',monospace\">Loading Daily data for GOOG with starting period 2022-12-12.\n",
       "</pre>\n"
      ],
      "text/plain": [
       "Loading Daily data for GOOG with starting period 2022-12-12.\n"
      ]
     },
     "metadata": {},
     "output_type": "display_data"
    },
    {
     "data": {
      "text/html": [
       "<pre style=\"white-space:pre;overflow-x:auto;line-height:normal;font-family:Menlo,'DejaVu Sans Mono',consolas,'Courier New',monospace\">Loading Daily data for GOOG with starting period 2022-11-23.\n",
       "</pre>\n"
      ],
      "text/plain": [
       "Loading Daily data for GOOG with starting period 2022-11-23.\n"
      ]
     },
     "metadata": {},
     "output_type": "display_data"
    },
    {
     "data": {
      "text/html": [
       "<pre style=\"white-space:pre;overflow-x:auto;line-height:normal;font-family:Menlo,'DejaVu Sans Mono',consolas,'Courier New',monospace\">Loading Daily data for GOOG with starting period 2022-11-09.\n",
       "</pre>\n"
      ],
      "text/plain": [
       "Loading Daily data for GOOG with starting period 2022-11-09.\n"
      ]
     },
     "metadata": {},
     "output_type": "display_data"
    },
    {
     "data": {
      "text/html": [
       "<pre style=\"white-space:pre;overflow-x:auto;line-height:normal;font-family:Menlo,'DejaVu Sans Mono',consolas,'Courier New',monospace\">Loading Daily data for GOOG with starting period 2022-11-08.\n",
       "</pre>\n"
      ],
      "text/plain": [
       "Loading Daily data for GOOG with starting period 2022-11-08.\n"
      ]
     },
     "metadata": {},
     "output_type": "display_data"
    },
    {
     "data": {
      "text/html": [
       "<pre style=\"white-space:pre;overflow-x:auto;line-height:normal;font-family:Menlo,'DejaVu Sans Mono',consolas,'Courier New',monospace\">Loading Daily data for GOOG with starting period 2022-11-03.\n",
       "</pre>\n"
      ],
      "text/plain": [
       "Loading Daily data for GOOG with starting period 2022-11-03.\n"
      ]
     },
     "metadata": {},
     "output_type": "display_data"
    },
    {
     "data": {
      "text/html": [
       "<pre style=\"white-space:pre;overflow-x:auto;line-height:normal;font-family:Menlo,'DejaVu Sans Mono',consolas,'Courier New',monospace\">Loading Daily data for GOOG with starting period 2022-10-27.\n",
       "</pre>\n"
      ],
      "text/plain": [
       "Loading Daily data for GOOG with starting period 2022-10-27.\n"
      ]
     },
     "metadata": {},
     "output_type": "display_data"
    },
    {
     "data": {
      "text/html": [
       "<pre style=\"white-space:pre;overflow-x:auto;line-height:normal;font-family:Menlo,'DejaVu Sans Mono',consolas,'Courier New',monospace\">Loading Daily data for GOOG with starting period 2022-10-17.\n",
       "</pre>\n"
      ],
      "text/plain": [
       "Loading Daily data for GOOG with starting period 2022-10-17.\n"
      ]
     },
     "metadata": {},
     "output_type": "display_data"
    },
    {
     "data": {
      "text/html": [
       "<pre style=\"white-space:pre;overflow-x:auto;line-height:normal;font-family:Menlo,'DejaVu Sans Mono',consolas,'Courier New',monospace\">Loading Daily data for AMZN with starting period 2023-04-18.\n",
       "</pre>\n"
      ],
      "text/plain": [
       "Loading Daily data for AMZN with starting period 2023-04-18.\n"
      ]
     },
     "metadata": {},
     "output_type": "display_data"
    },
    {
     "data": {
      "text/html": [
       "<pre style=\"white-space:pre;overflow-x:auto;line-height:normal;font-family:Menlo,'DejaVu Sans Mono',consolas,'Courier New',monospace\">Loading Daily data for AMZN with starting period 2023-04-18.\n",
       "</pre>\n"
      ],
      "text/plain": [
       "Loading Daily data for AMZN with starting period 2023-04-18.\n"
      ]
     },
     "metadata": {},
     "output_type": "display_data"
    },
    {
     "data": {
      "text/html": [
       "<pre style=\"white-space:pre;overflow-x:auto;line-height:normal;font-family:Menlo,'DejaVu Sans Mono',consolas,'Courier New',monospace\">Loading Daily data for AMZN with starting period 2023-04-18.\n",
       "</pre>\n"
      ],
      "text/plain": [
       "Loading Daily data for AMZN with starting period 2023-04-18.\n"
      ]
     },
     "metadata": {},
     "output_type": "display_data"
    },
    {
     "data": {
      "text/html": [
       "<pre style=\"white-space:pre;overflow-x:auto;line-height:normal;font-family:Menlo,'DejaVu Sans Mono',consolas,'Courier New',monospace\">Loading Daily data for AMZN with starting period 2023-04-18.\n",
       "</pre>\n"
      ],
      "text/plain": [
       "Loading Daily data for AMZN with starting period 2023-04-18.\n"
      ]
     },
     "metadata": {},
     "output_type": "display_data"
    },
    {
     "data": {
      "text/html": [
       "<pre style=\"white-space:pre;overflow-x:auto;line-height:normal;font-family:Menlo,'DejaVu Sans Mono',consolas,'Courier New',monospace\">Loading Daily data for AMZN with starting period 2023-04-18.\n",
       "</pre>\n"
      ],
      "text/plain": [
       "Loading Daily data for AMZN with starting period 2023-04-18.\n"
      ]
     },
     "metadata": {},
     "output_type": "display_data"
    },
    {
     "data": {
      "text/html": [
       "<pre style=\"white-space:pre;overflow-x:auto;line-height:normal;font-family:Menlo,'DejaVu Sans Mono',consolas,'Courier New',monospace\">Loading Daily data for AMZN with starting period 2023-04-18.\n",
       "</pre>\n"
      ],
      "text/plain": [
       "Loading Daily data for AMZN with starting period 2023-04-18.\n"
      ]
     },
     "metadata": {},
     "output_type": "display_data"
    },
    {
     "data": {
      "text/html": [
       "<pre style=\"white-space:pre;overflow-x:auto;line-height:normal;font-family:Menlo,'DejaVu Sans Mono',consolas,'Courier New',monospace\">Loading Daily data for AMZN with starting period 2023-04-18.\n",
       "</pre>\n"
      ],
      "text/plain": [
       "Loading Daily data for AMZN with starting period 2023-04-18.\n"
      ]
     },
     "metadata": {},
     "output_type": "display_data"
    },
    {
     "data": {
      "text/html": [
       "<pre style=\"white-space:pre;overflow-x:auto;line-height:normal;font-family:Menlo,'DejaVu Sans Mono',consolas,'Courier New',monospace\">Loading Daily data for AMZN with starting period 2023-04-17.\n",
       "</pre>\n"
      ],
      "text/plain": [
       "Loading Daily data for AMZN with starting period 2023-04-17.\n"
      ]
     },
     "metadata": {},
     "output_type": "display_data"
    },
    {
     "data": {
      "text/html": [
       "<pre style=\"white-space:pre;overflow-x:auto;line-height:normal;font-family:Menlo,'DejaVu Sans Mono',consolas,'Courier New',monospace\">Loading Daily data for AMZN with starting period 2023-04-17.\n",
       "</pre>\n"
      ],
      "text/plain": [
       "Loading Daily data for AMZN with starting period 2023-04-17.\n"
      ]
     },
     "metadata": {},
     "output_type": "display_data"
    },
    {
     "data": {
      "text/html": [
       "<pre style=\"white-space:pre;overflow-x:auto;line-height:normal;font-family:Menlo,'DejaVu Sans Mono',consolas,'Courier New',monospace\">Loading Daily data for AMZN with starting period 2023-04-17.\n",
       "</pre>\n"
      ],
      "text/plain": [
       "Loading Daily data for AMZN with starting period 2023-04-17.\n"
      ]
     },
     "metadata": {},
     "output_type": "display_data"
    },
    {
     "data": {
      "text/html": [
       "<pre style=\"white-space:pre;overflow-x:auto;line-height:normal;font-family:Menlo,'DejaVu Sans Mono',consolas,'Courier New',monospace\">Loading Daily data for AMZN with starting period 2023-04-17.\n",
       "</pre>\n"
      ],
      "text/plain": [
       "Loading Daily data for AMZN with starting period 2023-04-17.\n"
      ]
     },
     "metadata": {},
     "output_type": "display_data"
    },
    {
     "data": {
      "text/html": [
       "<pre style=\"white-space:pre;overflow-x:auto;line-height:normal;font-family:Menlo,'DejaVu Sans Mono',consolas,'Courier New',monospace\">Loading Daily data for AMZN with starting period 2023-04-17.\n",
       "</pre>\n"
      ],
      "text/plain": [
       "Loading Daily data for AMZN with starting period 2023-04-17.\n"
      ]
     },
     "metadata": {},
     "output_type": "display_data"
    },
    {
     "data": {
      "text/html": [
       "<pre style=\"white-space:pre;overflow-x:auto;line-height:normal;font-family:Menlo,'DejaVu Sans Mono',consolas,'Courier New',monospace\">Loading Daily data for AMZN with starting period 2023-04-17.\n",
       "</pre>\n"
      ],
      "text/plain": [
       "Loading Daily data for AMZN with starting period 2023-04-17.\n"
      ]
     },
     "metadata": {},
     "output_type": "display_data"
    },
    {
     "data": {
      "text/html": [
       "<pre style=\"white-space:pre;overflow-x:auto;line-height:normal;font-family:Menlo,'DejaVu Sans Mono',consolas,'Courier New',monospace\">Loading Daily data for AMZN with starting period 2023-04-17.\n",
       "</pre>\n"
      ],
      "text/plain": [
       "Loading Daily data for AMZN with starting period 2023-04-17.\n"
      ]
     },
     "metadata": {},
     "output_type": "display_data"
    },
    {
     "data": {
      "text/html": [
       "<pre style=\"white-space:pre;overflow-x:auto;line-height:normal;font-family:Menlo,'DejaVu Sans Mono',consolas,'Courier New',monospace\">Loading Daily data for AMZN with starting period 2023-04-17.\n",
       "</pre>\n"
      ],
      "text/plain": [
       "Loading Daily data for AMZN with starting period 2023-04-17.\n"
      ]
     },
     "metadata": {},
     "output_type": "display_data"
    },
    {
     "data": {
      "text/html": [
       "<pre style=\"white-space:pre;overflow-x:auto;line-height:normal;font-family:Menlo,'DejaVu Sans Mono',consolas,'Courier New',monospace\">Loading Daily data for AMZN with starting period 2023-04-17.\n",
       "</pre>\n"
      ],
      "text/plain": [
       "Loading Daily data for AMZN with starting period 2023-04-17.\n"
      ]
     },
     "metadata": {},
     "output_type": "display_data"
    },
    {
     "data": {
      "text/html": [
       "<pre style=\"white-space:pre;overflow-x:auto;line-height:normal;font-family:Menlo,'DejaVu Sans Mono',consolas,'Courier New',monospace\">Loading Daily data for AMZN with starting period 2023-04-17.\n",
       "</pre>\n"
      ],
      "text/plain": [
       "Loading Daily data for AMZN with starting period 2023-04-17.\n"
      ]
     },
     "metadata": {},
     "output_type": "display_data"
    },
    {
     "data": {
      "text/html": [
       "<pre style=\"white-space:pre;overflow-x:auto;line-height:normal;font-family:Menlo,'DejaVu Sans Mono',consolas,'Courier New',monospace\">Loading Daily data for AMZN with starting period 2023-04-17.\n",
       "</pre>\n"
      ],
      "text/plain": [
       "Loading Daily data for AMZN with starting period 2023-04-17.\n"
      ]
     },
     "metadata": {},
     "output_type": "display_data"
    },
    {
     "data": {
      "text/html": [
       "<pre style=\"white-space:pre;overflow-x:auto;line-height:normal;font-family:Menlo,'DejaVu Sans Mono',consolas,'Courier New',monospace\">Loading Daily data for AMZN with starting period 2023-04-17.\n",
       "</pre>\n"
      ],
      "text/plain": [
       "Loading Daily data for AMZN with starting period 2023-04-17.\n"
      ]
     },
     "metadata": {},
     "output_type": "display_data"
    },
    {
     "data": {
      "text/html": [
       "<pre style=\"white-space:pre;overflow-x:auto;line-height:normal;font-family:Menlo,'DejaVu Sans Mono',consolas,'Courier New',monospace\">Loading Daily data for AMZN with starting period 2023-04-17.\n",
       "</pre>\n"
      ],
      "text/plain": [
       "Loading Daily data for AMZN with starting period 2023-04-17.\n"
      ]
     },
     "metadata": {},
     "output_type": "display_data"
    },
    {
     "data": {
      "text/html": [
       "<pre style=\"white-space:pre;overflow-x:auto;line-height:normal;font-family:Menlo,'DejaVu Sans Mono',consolas,'Courier New',monospace\">Loading Daily data for AMZN with starting period 2023-04-14.\n",
       "</pre>\n"
      ],
      "text/plain": [
       "Loading Daily data for AMZN with starting period 2023-04-14.\n"
      ]
     },
     "metadata": {},
     "output_type": "display_data"
    },
    {
     "data": {
      "text/html": [
       "<pre style=\"white-space:pre;overflow-x:auto;line-height:normal;font-family:Menlo,'DejaVu Sans Mono',consolas,'Courier New',monospace\">Loading Daily data for AMZN with starting period 2023-04-14.\n",
       "</pre>\n"
      ],
      "text/plain": [
       "Loading Daily data for AMZN with starting period 2023-04-14.\n"
      ]
     },
     "metadata": {},
     "output_type": "display_data"
    },
    {
     "data": {
      "text/html": [
       "<pre style=\"white-space:pre;overflow-x:auto;line-height:normal;font-family:Menlo,'DejaVu Sans Mono',consolas,'Courier New',monospace\">Loading Daily data for AMZN with starting period 2023-04-14.\n",
       "</pre>\n"
      ],
      "text/plain": [
       "Loading Daily data for AMZN with starting period 2023-04-14.\n"
      ]
     },
     "metadata": {},
     "output_type": "display_data"
    },
    {
     "data": {
      "text/html": [
       "<pre style=\"white-space:pre;overflow-x:auto;line-height:normal;font-family:Menlo,'DejaVu Sans Mono',consolas,'Courier New',monospace\">Loading Daily data for AMZN with starting period 2023-04-13.\n",
       "</pre>\n"
      ],
      "text/plain": [
       "Loading Daily data for AMZN with starting period 2023-04-13.\n"
      ]
     },
     "metadata": {},
     "output_type": "display_data"
    },
    {
     "data": {
      "text/html": [
       "<pre style=\"white-space:pre;overflow-x:auto;line-height:normal;font-family:Menlo,'DejaVu Sans Mono',consolas,'Courier New',monospace\">Loading Daily data for AMZN with starting period 2023-04-13.\n",
       "</pre>\n"
      ],
      "text/plain": [
       "Loading Daily data for AMZN with starting period 2023-04-13.\n"
      ]
     },
     "metadata": {},
     "output_type": "display_data"
    },
    {
     "data": {
      "text/html": [
       "<pre style=\"white-space:pre;overflow-x:auto;line-height:normal;font-family:Menlo,'DejaVu Sans Mono',consolas,'Courier New',monospace\">Loading Daily data for AMZN with starting period 2023-04-13.\n",
       "</pre>\n"
      ],
      "text/plain": [
       "Loading Daily data for AMZN with starting period 2023-04-13.\n"
      ]
     },
     "metadata": {},
     "output_type": "display_data"
    },
    {
     "data": {
      "text/html": [
       "<pre style=\"white-space:pre;overflow-x:auto;line-height:normal;font-family:Menlo,'DejaVu Sans Mono',consolas,'Courier New',monospace\">Loading Daily data for AMZN with starting period 2023-04-13.\n",
       "</pre>\n"
      ],
      "text/plain": [
       "Loading Daily data for AMZN with starting period 2023-04-13.\n"
      ]
     },
     "metadata": {},
     "output_type": "display_data"
    },
    {
     "data": {
      "text/html": [
       "<pre style=\"white-space:pre;overflow-x:auto;line-height:normal;font-family:Menlo,'DejaVu Sans Mono',consolas,'Courier New',monospace\">Loading Daily data for AMZN with starting period 2023-04-13.\n",
       "</pre>\n"
      ],
      "text/plain": [
       "Loading Daily data for AMZN with starting period 2023-04-13.\n"
      ]
     },
     "metadata": {},
     "output_type": "display_data"
    },
    {
     "data": {
      "text/html": [
       "<pre style=\"white-space:pre;overflow-x:auto;line-height:normal;font-family:Menlo,'DejaVu Sans Mono',consolas,'Courier New',monospace\">Loading Daily data for AMZN with starting period 2023-04-12.\n",
       "</pre>\n"
      ],
      "text/plain": [
       "Loading Daily data for AMZN with starting period 2023-04-12.\n"
      ]
     },
     "metadata": {},
     "output_type": "display_data"
    },
    {
     "data": {
      "text/html": [
       "<pre style=\"white-space:pre;overflow-x:auto;line-height:normal;font-family:Menlo,'DejaVu Sans Mono',consolas,'Courier New',monospace\">Loading Daily data for AMZN with starting period 2023-04-12.\n",
       "</pre>\n"
      ],
      "text/plain": [
       "Loading Daily data for AMZN with starting period 2023-04-12.\n"
      ]
     },
     "metadata": {},
     "output_type": "display_data"
    },
    {
     "data": {
      "text/html": [
       "<pre style=\"white-space:pre;overflow-x:auto;line-height:normal;font-family:Menlo,'DejaVu Sans Mono',consolas,'Courier New',monospace\">Loading Daily data for AMZN with starting period 2023-04-12.\n",
       "</pre>\n"
      ],
      "text/plain": [
       "Loading Daily data for AMZN with starting period 2023-04-12.\n"
      ]
     },
     "metadata": {},
     "output_type": "display_data"
    },
    {
     "data": {
      "text/html": [
       "<pre style=\"white-space:pre;overflow-x:auto;line-height:normal;font-family:Menlo,'DejaVu Sans Mono',consolas,'Courier New',monospace\">Loading Daily data for AMZN with starting period 2023-04-12.\n",
       "</pre>\n"
      ],
      "text/plain": [
       "Loading Daily data for AMZN with starting period 2023-04-12.\n"
      ]
     },
     "metadata": {},
     "output_type": "display_data"
    },
    {
     "data": {
      "text/html": [
       "<pre style=\"white-space:pre;overflow-x:auto;line-height:normal;font-family:Menlo,'DejaVu Sans Mono',consolas,'Courier New',monospace\">Loading Daily data for AMZN with starting period 2023-04-12.\n",
       "</pre>\n"
      ],
      "text/plain": [
       "Loading Daily data for AMZN with starting period 2023-04-12.\n"
      ]
     },
     "metadata": {},
     "output_type": "display_data"
    },
    {
     "data": {
      "text/html": [
       "<pre style=\"white-space:pre;overflow-x:auto;line-height:normal;font-family:Menlo,'DejaVu Sans Mono',consolas,'Courier New',monospace\">Loading Daily data for AMZN with starting period 2023-04-12.\n",
       "</pre>\n"
      ],
      "text/plain": [
       "Loading Daily data for AMZN with starting period 2023-04-12.\n"
      ]
     },
     "metadata": {},
     "output_type": "display_data"
    },
    {
     "data": {
      "text/html": [
       "<pre style=\"white-space:pre;overflow-x:auto;line-height:normal;font-family:Menlo,'DejaVu Sans Mono',consolas,'Courier New',monospace\">Loading Daily data for AMZN with starting period 2023-04-11.\n",
       "</pre>\n"
      ],
      "text/plain": [
       "Loading Daily data for AMZN with starting period 2023-04-11.\n"
      ]
     },
     "metadata": {},
     "output_type": "display_data"
    },
    {
     "data": {
      "text/html": [
       "<pre style=\"white-space:pre;overflow-x:auto;line-height:normal;font-family:Menlo,'DejaVu Sans Mono',consolas,'Courier New',monospace\">Loading Daily data for AMZN with starting period 2023-04-10.\n",
       "</pre>\n"
      ],
      "text/plain": [
       "Loading Daily data for AMZN with starting period 2023-04-10.\n"
      ]
     },
     "metadata": {},
     "output_type": "display_data"
    },
    {
     "data": {
      "text/html": [
       "<pre style=\"white-space:pre;overflow-x:auto;line-height:normal;font-family:Menlo,'DejaVu Sans Mono',consolas,'Courier New',monospace\">Loading Daily data for AMZN with starting period 2023-04-06.\n",
       "</pre>\n"
      ],
      "text/plain": [
       "Loading Daily data for AMZN with starting period 2023-04-06.\n"
      ]
     },
     "metadata": {},
     "output_type": "display_data"
    },
    {
     "data": {
      "text/html": [
       "<pre style=\"white-space:pre;overflow-x:auto;line-height:normal;font-family:Menlo,'DejaVu Sans Mono',consolas,'Courier New',monospace\">Loading Daily data for AMZN with starting period 2023-04-06.\n",
       "</pre>\n"
      ],
      "text/plain": [
       "Loading Daily data for AMZN with starting period 2023-04-06.\n"
      ]
     },
     "metadata": {},
     "output_type": "display_data"
    },
    {
     "data": {
      "text/html": [
       "<pre style=\"white-space:pre;overflow-x:auto;line-height:normal;font-family:Menlo,'DejaVu Sans Mono',consolas,'Courier New',monospace\">Loading Daily data for AMZN with starting period 2023-04-05.\n",
       "</pre>\n"
      ],
      "text/plain": [
       "Loading Daily data for AMZN with starting period 2023-04-05.\n"
      ]
     },
     "metadata": {},
     "output_type": "display_data"
    },
    {
     "data": {
      "text/html": [
       "<pre style=\"white-space:pre;overflow-x:auto;line-height:normal;font-family:Menlo,'DejaVu Sans Mono',consolas,'Courier New',monospace\">Loading Daily data for AMZN with starting period 2023-04-04.\n",
       "</pre>\n"
      ],
      "text/plain": [
       "Loading Daily data for AMZN with starting period 2023-04-04.\n"
      ]
     },
     "metadata": {},
     "output_type": "display_data"
    },
    {
     "data": {
      "text/html": [
       "<pre style=\"white-space:pre;overflow-x:auto;line-height:normal;font-family:Menlo,'DejaVu Sans Mono',consolas,'Courier New',monospace\">Loading Daily data for AMZN with starting period 2023-04-03.\n",
       "</pre>\n"
      ],
      "text/plain": [
       "Loading Daily data for AMZN with starting period 2023-04-03.\n"
      ]
     },
     "metadata": {},
     "output_type": "display_data"
    },
    {
     "data": {
      "text/html": [
       "<pre style=\"white-space:pre;overflow-x:auto;line-height:normal;font-family:Menlo,'DejaVu Sans Mono',consolas,'Courier New',monospace\">Loading Daily data for AMZN with starting period 2023-04-03.\n",
       "</pre>\n"
      ],
      "text/plain": [
       "Loading Daily data for AMZN with starting period 2023-04-03.\n"
      ]
     },
     "metadata": {},
     "output_type": "display_data"
    },
    {
     "data": {
      "text/html": [
       "<pre style=\"white-space:pre;overflow-x:auto;line-height:normal;font-family:Menlo,'DejaVu Sans Mono',consolas,'Courier New',monospace\">Loading Daily data for AMZN with starting period 2023-03-29.\n",
       "</pre>\n"
      ],
      "text/plain": [
       "Loading Daily data for AMZN with starting period 2023-03-29.\n"
      ]
     },
     "metadata": {},
     "output_type": "display_data"
    },
    {
     "data": {
      "text/html": [
       "<pre style=\"white-space:pre;overflow-x:auto;line-height:normal;font-family:Menlo,'DejaVu Sans Mono',consolas,'Courier New',monospace\">Loading Daily data for AMZN with starting period 2023-03-29.\n",
       "</pre>\n"
      ],
      "text/plain": [
       "Loading Daily data for AMZN with starting period 2023-03-29.\n"
      ]
     },
     "metadata": {},
     "output_type": "display_data"
    },
    {
     "data": {
      "text/html": [
       "<pre style=\"white-space:pre;overflow-x:auto;line-height:normal;font-family:Menlo,'DejaVu Sans Mono',consolas,'Courier New',monospace\">Loading Daily data for AMZN with starting period 2023-03-27.\n",
       "</pre>\n"
      ],
      "text/plain": [
       "Loading Daily data for AMZN with starting period 2023-03-27.\n"
      ]
     },
     "metadata": {},
     "output_type": "display_data"
    },
    {
     "data": {
      "text/html": [
       "<pre style=\"white-space:pre;overflow-x:auto;line-height:normal;font-family:Menlo,'DejaVu Sans Mono',consolas,'Courier New',monospace\">Loading Daily data for AMZN with starting period 2023-03-27.\n",
       "</pre>\n"
      ],
      "text/plain": [
       "Loading Daily data for AMZN with starting period 2023-03-27.\n"
      ]
     },
     "metadata": {},
     "output_type": "display_data"
    },
    {
     "data": {
      "text/html": [
       "<pre style=\"white-space:pre;overflow-x:auto;line-height:normal;font-family:Menlo,'DejaVu Sans Mono',consolas,'Courier New',monospace\">Loading Daily data for AMZN with starting period 2023-03-24.\n",
       "</pre>\n"
      ],
      "text/plain": [
       "Loading Daily data for AMZN with starting period 2023-03-24.\n"
      ]
     },
     "metadata": {},
     "output_type": "display_data"
    },
    {
     "data": {
      "text/html": [
       "<pre style=\"white-space:pre;overflow-x:auto;line-height:normal;font-family:Menlo,'DejaVu Sans Mono',consolas,'Courier New',monospace\">Loading Daily data for AMZN with starting period 2023-03-23.\n",
       "</pre>\n"
      ],
      "text/plain": [
       "Loading Daily data for AMZN with starting period 2023-03-23.\n"
      ]
     },
     "metadata": {},
     "output_type": "display_data"
    },
    {
     "data": {
      "text/html": [
       "<pre style=\"white-space:pre;overflow-x:auto;line-height:normal;font-family:Menlo,'DejaVu Sans Mono',consolas,'Courier New',monospace\">Loading Daily data for AMZN with starting period 2023-03-23.\n",
       "</pre>\n"
      ],
      "text/plain": [
       "Loading Daily data for AMZN with starting period 2023-03-23.\n"
      ]
     },
     "metadata": {},
     "output_type": "display_data"
    },
    {
     "data": {
      "text/html": [
       "<pre style=\"white-space:pre;overflow-x:auto;line-height:normal;font-family:Menlo,'DejaVu Sans Mono',consolas,'Courier New',monospace\">Loading Daily data for AMZN with starting period 2023-03-22.\n",
       "</pre>\n"
      ],
      "text/plain": [
       "Loading Daily data for AMZN with starting period 2023-03-22.\n"
      ]
     },
     "metadata": {},
     "output_type": "display_data"
    },
    {
     "data": {
      "text/html": [
       "<pre style=\"white-space:pre;overflow-x:auto;line-height:normal;font-family:Menlo,'DejaVu Sans Mono',consolas,'Courier New',monospace\">Loading Daily data for AMZN with starting period 2023-03-22.\n",
       "</pre>\n"
      ],
      "text/plain": [
       "Loading Daily data for AMZN with starting period 2023-03-22.\n"
      ]
     },
     "metadata": {},
     "output_type": "display_data"
    },
    {
     "data": {
      "text/html": [
       "<pre style=\"white-space:pre;overflow-x:auto;line-height:normal;font-family:Menlo,'DejaVu Sans Mono',consolas,'Courier New',monospace\">Loading Daily data for AMZN with starting period 2023-03-22.\n",
       "</pre>\n"
      ],
      "text/plain": [
       "Loading Daily data for AMZN with starting period 2023-03-22.\n"
      ]
     },
     "metadata": {},
     "output_type": "display_data"
    },
    {
     "data": {
      "text/html": [
       "<pre style=\"white-space:pre;overflow-x:auto;line-height:normal;font-family:Menlo,'DejaVu Sans Mono',consolas,'Courier New',monospace\">Loading Daily data for AMZN with starting period 2023-03-22.\n",
       "</pre>\n"
      ],
      "text/plain": [
       "Loading Daily data for AMZN with starting period 2023-03-22.\n"
      ]
     },
     "metadata": {},
     "output_type": "display_data"
    },
    {
     "data": {
      "text/html": [
       "<pre style=\"white-space:pre;overflow-x:auto;line-height:normal;font-family:Menlo,'DejaVu Sans Mono',consolas,'Courier New',monospace\">Loading Daily data for AMZN with starting period 2023-03-20.\n",
       "</pre>\n"
      ],
      "text/plain": [
       "Loading Daily data for AMZN with starting period 2023-03-20.\n"
      ]
     },
     "metadata": {},
     "output_type": "display_data"
    },
    {
     "data": {
      "text/html": [
       "<pre style=\"white-space:pre;overflow-x:auto;line-height:normal;font-family:Menlo,'DejaVu Sans Mono',consolas,'Courier New',monospace\">Loading Daily data for AMZN with starting period 2023-03-20.\n",
       "</pre>\n"
      ],
      "text/plain": [
       "Loading Daily data for AMZN with starting period 2023-03-20.\n"
      ]
     },
     "metadata": {},
     "output_type": "display_data"
    },
    {
     "data": {
      "text/html": [
       "<pre style=\"white-space:pre;overflow-x:auto;line-height:normal;font-family:Menlo,'DejaVu Sans Mono',consolas,'Courier New',monospace\">Loading Daily data for AMZN with starting period 2023-03-16.\n",
       "</pre>\n"
      ],
      "text/plain": [
       "Loading Daily data for AMZN with starting period 2023-03-16.\n"
      ]
     },
     "metadata": {},
     "output_type": "display_data"
    },
    {
     "data": {
      "text/html": [
       "<pre style=\"white-space:pre;overflow-x:auto;line-height:normal;font-family:Menlo,'DejaVu Sans Mono',consolas,'Courier New',monospace\">Loading Daily data for AMZN with starting period 2023-03-13.\n",
       "</pre>\n"
      ],
      "text/plain": [
       "Loading Daily data for AMZN with starting period 2023-03-13.\n"
      ]
     },
     "metadata": {},
     "output_type": "display_data"
    },
    {
     "data": {
      "text/html": [
       "<pre style=\"white-space:pre;overflow-x:auto;line-height:normal;font-family:Menlo,'DejaVu Sans Mono',consolas,'Courier New',monospace\">Loading Daily data for AMZN with starting period 2023-03-10.\n",
       "</pre>\n"
      ],
      "text/plain": [
       "Loading Daily data for AMZN with starting period 2023-03-10.\n"
      ]
     },
     "metadata": {},
     "output_type": "display_data"
    },
    {
     "data": {
      "text/html": [
       "<pre style=\"white-space:pre;overflow-x:auto;line-height:normal;font-family:Menlo,'DejaVu Sans Mono',consolas,'Courier New',monospace\">Loading Daily data for AMZN with starting period 2023-03-09.\n",
       "</pre>\n"
      ],
      "text/plain": [
       "Loading Daily data for AMZN with starting period 2023-03-09.\n"
      ]
     },
     "metadata": {},
     "output_type": "display_data"
    },
    {
     "data": {
      "text/html": [
       "<pre style=\"white-space:pre;overflow-x:auto;line-height:normal;font-family:Menlo,'DejaVu Sans Mono',consolas,'Courier New',monospace\">Loading Daily data for AMZN with starting period 2023-03-08.\n",
       "</pre>\n"
      ],
      "text/plain": [
       "Loading Daily data for AMZN with starting period 2023-03-08.\n"
      ]
     },
     "metadata": {},
     "output_type": "display_data"
    },
    {
     "data": {
      "text/html": [
       "<pre style=\"white-space:pre;overflow-x:auto;line-height:normal;font-family:Menlo,'DejaVu Sans Mono',consolas,'Courier New',monospace\">Loading Daily data for AMZN with starting period 2023-03-07.\n",
       "</pre>\n"
      ],
      "text/plain": [
       "Loading Daily data for AMZN with starting period 2023-03-07.\n"
      ]
     },
     "metadata": {},
     "output_type": "display_data"
    },
    {
     "data": {
      "text/html": [
       "<pre style=\"white-space:pre;overflow-x:auto;line-height:normal;font-family:Menlo,'DejaVu Sans Mono',consolas,'Courier New',monospace\">Loading Daily data for AMZN with starting period 2023-03-07.\n",
       "</pre>\n"
      ],
      "text/plain": [
       "Loading Daily data for AMZN with starting period 2023-03-07.\n"
      ]
     },
     "metadata": {},
     "output_type": "display_data"
    },
    {
     "data": {
      "text/html": [
       "<pre style=\"white-space:pre;overflow-x:auto;line-height:normal;font-family:Menlo,'DejaVu Sans Mono',consolas,'Courier New',monospace\">Loading Daily data for AMZN with starting period 2023-03-03.\n",
       "</pre>\n"
      ],
      "text/plain": [
       "Loading Daily data for AMZN with starting period 2023-03-03.\n"
      ]
     },
     "metadata": {},
     "output_type": "display_data"
    },
    {
     "data": {
      "text/html": [
       "<pre style=\"white-space:pre;overflow-x:auto;line-height:normal;font-family:Menlo,'DejaVu Sans Mono',consolas,'Courier New',monospace\">Loading Daily data for AMZN with starting period 2023-03-02.\n",
       "</pre>\n"
      ],
      "text/plain": [
       "Loading Daily data for AMZN with starting period 2023-03-02.\n"
      ]
     },
     "metadata": {},
     "output_type": "display_data"
    },
    {
     "data": {
      "text/html": [
       "<pre style=\"white-space:pre;overflow-x:auto;line-height:normal;font-family:Menlo,'DejaVu Sans Mono',consolas,'Courier New',monospace\">Loading Daily data for AMZN with starting period 2023-03-01.\n",
       "</pre>\n"
      ],
      "text/plain": [
       "Loading Daily data for AMZN with starting period 2023-03-01.\n"
      ]
     },
     "metadata": {},
     "output_type": "display_data"
    },
    {
     "data": {
      "text/html": [
       "<pre style=\"white-space:pre;overflow-x:auto;line-height:normal;font-family:Menlo,'DejaVu Sans Mono',consolas,'Courier New',monospace\">Loading Daily data for AMZN with starting period 2023-02-24.\n",
       "</pre>\n"
      ],
      "text/plain": [
       "Loading Daily data for AMZN with starting period 2023-02-24.\n"
      ]
     },
     "metadata": {},
     "output_type": "display_data"
    },
    {
     "data": {
      "text/html": [
       "<pre style=\"white-space:pre;overflow-x:auto;line-height:normal;font-family:Menlo,'DejaVu Sans Mono',consolas,'Courier New',monospace\">Loading Daily data for AMZN with starting period 2023-02-22.\n",
       "</pre>\n"
      ],
      "text/plain": [
       "Loading Daily data for AMZN with starting period 2023-02-22.\n"
      ]
     },
     "metadata": {},
     "output_type": "display_data"
    },
    {
     "data": {
      "text/html": [
       "<pre style=\"white-space:pre;overflow-x:auto;line-height:normal;font-family:Menlo,'DejaVu Sans Mono',consolas,'Courier New',monospace\">Loading Daily data for AMZN with starting period 2023-02-22.\n",
       "</pre>\n"
      ],
      "text/plain": [
       "Loading Daily data for AMZN with starting period 2023-02-22.\n"
      ]
     },
     "metadata": {},
     "output_type": "display_data"
    },
    {
     "data": {
      "text/html": [
       "<pre style=\"white-space:pre;overflow-x:auto;line-height:normal;font-family:Menlo,'DejaVu Sans Mono',consolas,'Courier New',monospace\">Loading Daily data for AMZN with starting period 2023-02-21.\n",
       "</pre>\n"
      ],
      "text/plain": [
       "Loading Daily data for AMZN with starting period 2023-02-21.\n"
      ]
     },
     "metadata": {},
     "output_type": "display_data"
    },
    {
     "data": {
      "text/html": [
       "<pre style=\"white-space:pre;overflow-x:auto;line-height:normal;font-family:Menlo,'DejaVu Sans Mono',consolas,'Courier New',monospace\">Loading Daily data for AMZN with starting period 2023-02-21.\n",
       "</pre>\n"
      ],
      "text/plain": [
       "Loading Daily data for AMZN with starting period 2023-02-21.\n"
      ]
     },
     "metadata": {},
     "output_type": "display_data"
    },
    {
     "data": {
      "text/html": [
       "<pre style=\"white-space:pre;overflow-x:auto;line-height:normal;font-family:Menlo,'DejaVu Sans Mono',consolas,'Courier New',monospace\">Loading Daily data for AMZN with starting period 2023-02-16.\n",
       "</pre>\n"
      ],
      "text/plain": [
       "Loading Daily data for AMZN with starting period 2023-02-16.\n"
      ]
     },
     "metadata": {},
     "output_type": "display_data"
    },
    {
     "data": {
      "text/html": [
       "<pre style=\"white-space:pre;overflow-x:auto;line-height:normal;font-family:Menlo,'DejaVu Sans Mono',consolas,'Courier New',monospace\">Loading Daily data for AMZN with starting period 2023-02-14.\n",
       "</pre>\n"
      ],
      "text/plain": [
       "Loading Daily data for AMZN with starting period 2023-02-14.\n"
      ]
     },
     "metadata": {},
     "output_type": "display_data"
    },
    {
     "data": {
      "text/html": [
       "<pre style=\"white-space:pre;overflow-x:auto;line-height:normal;font-family:Menlo,'DejaVu Sans Mono',consolas,'Courier New',monospace\">Loading Daily data for AMZN with starting period 2023-02-13.\n",
       "</pre>\n"
      ],
      "text/plain": [
       "Loading Daily data for AMZN with starting period 2023-02-13.\n"
      ]
     },
     "metadata": {},
     "output_type": "display_data"
    },
    {
     "data": {
      "text/html": [
       "<pre style=\"white-space:pre;overflow-x:auto;line-height:normal;font-family:Menlo,'DejaVu Sans Mono',consolas,'Courier New',monospace\">Loading Daily data for AMZN with starting period 2023-02-10.\n",
       "</pre>\n"
      ],
      "text/plain": [
       "Loading Daily data for AMZN with starting period 2023-02-10.\n"
      ]
     },
     "metadata": {},
     "output_type": "display_data"
    },
    {
     "data": {
      "text/html": [
       "<pre style=\"white-space:pre;overflow-x:auto;line-height:normal;font-family:Menlo,'DejaVu Sans Mono',consolas,'Courier New',monospace\">Loading Daily data for AMZN with starting period 2023-02-08.\n",
       "</pre>\n"
      ],
      "text/plain": [
       "Loading Daily data for AMZN with starting period 2023-02-08.\n"
      ]
     },
     "metadata": {},
     "output_type": "display_data"
    },
    {
     "data": {
      "text/html": [
       "<pre style=\"white-space:pre;overflow-x:auto;line-height:normal;font-family:Menlo,'DejaVu Sans Mono',consolas,'Courier New',monospace\">Loading Daily data for AMZN with starting period 2023-02-07.\n",
       "</pre>\n"
      ],
      "text/plain": [
       "Loading Daily data for AMZN with starting period 2023-02-07.\n"
      ]
     },
     "metadata": {},
     "output_type": "display_data"
    },
    {
     "data": {
      "text/html": [
       "<pre style=\"white-space:pre;overflow-x:auto;line-height:normal;font-family:Menlo,'DejaVu Sans Mono',consolas,'Courier New',monospace\">Loading Daily data for AMZN with starting period 2023-02-02.\n",
       "</pre>\n"
      ],
      "text/plain": [
       "Loading Daily data for AMZN with starting period 2023-02-02.\n"
      ]
     },
     "metadata": {},
     "output_type": "display_data"
    },
    {
     "data": {
      "text/html": [
       "<pre style=\"white-space:pre;overflow-x:auto;line-height:normal;font-family:Menlo,'DejaVu Sans Mono',consolas,'Courier New',monospace\">Loading Daily data for AMZN with starting period 2023-02-02.\n",
       "</pre>\n"
      ],
      "text/plain": [
       "Loading Daily data for AMZN with starting period 2023-02-02.\n"
      ]
     },
     "metadata": {},
     "output_type": "display_data"
    },
    {
     "data": {
      "text/html": [
       "<pre style=\"white-space:pre;overflow-x:auto;line-height:normal;font-family:Menlo,'DejaVu Sans Mono',consolas,'Courier New',monospace\">Loading Daily data for AMZN with starting period 2023-01-30.\n",
       "</pre>\n"
      ],
      "text/plain": [
       "Loading Daily data for AMZN with starting period 2023-01-30.\n"
      ]
     },
     "metadata": {},
     "output_type": "display_data"
    },
    {
     "data": {
      "text/html": [
       "<pre style=\"white-space:pre;overflow-x:auto;line-height:normal;font-family:Menlo,'DejaVu Sans Mono',consolas,'Courier New',monospace\">Loading Daily data for AMZN with starting period 2023-01-25.\n",
       "</pre>\n"
      ],
      "text/plain": [
       "Loading Daily data for AMZN with starting period 2023-01-25.\n"
      ]
     },
     "metadata": {},
     "output_type": "display_data"
    },
    {
     "data": {
      "text/html": [
       "<pre style=\"white-space:pre;overflow-x:auto;line-height:normal;font-family:Menlo,'DejaVu Sans Mono',consolas,'Courier New',monospace\">Loading Daily data for AMZN with starting period 2023-01-24.\n",
       "</pre>\n"
      ],
      "text/plain": [
       "Loading Daily data for AMZN with starting period 2023-01-24.\n"
      ]
     },
     "metadata": {},
     "output_type": "display_data"
    },
    {
     "data": {
      "text/html": [
       "<pre style=\"white-space:pre;overflow-x:auto;line-height:normal;font-family:Menlo,'DejaVu Sans Mono',consolas,'Courier New',monospace\">Loading Daily data for AMZN with starting period 2023-01-23.\n",
       "</pre>\n"
      ],
      "text/plain": [
       "Loading Daily data for AMZN with starting period 2023-01-23.\n"
      ]
     },
     "metadata": {},
     "output_type": "display_data"
    },
    {
     "data": {
      "text/html": [
       "<pre style=\"white-space:pre;overflow-x:auto;line-height:normal;font-family:Menlo,'DejaVu Sans Mono',consolas,'Courier New',monospace\">Loading Daily data for AMZN with starting period 2023-01-17.\n",
       "</pre>\n"
      ],
      "text/plain": [
       "Loading Daily data for AMZN with starting period 2023-01-17.\n"
      ]
     },
     "metadata": {},
     "output_type": "display_data"
    },
    {
     "data": {
      "text/html": [
       "<pre style=\"white-space:pre;overflow-x:auto;line-height:normal;font-family:Menlo,'DejaVu Sans Mono',consolas,'Courier New',monospace\">Loading Daily data for AMZN with starting period 2023-01-12.\n",
       "</pre>\n"
      ],
      "text/plain": [
       "Loading Daily data for AMZN with starting period 2023-01-12.\n"
      ]
     },
     "metadata": {},
     "output_type": "display_data"
    },
    {
     "data": {
      "text/html": [
       "<pre style=\"white-space:pre;overflow-x:auto;line-height:normal;font-family:Menlo,'DejaVu Sans Mono',consolas,'Courier New',monospace\">Loading Daily data for AMZN with starting period 2023-01-04.\n",
       "</pre>\n"
      ],
      "text/plain": [
       "Loading Daily data for AMZN with starting period 2023-01-04.\n"
      ]
     },
     "metadata": {},
     "output_type": "display_data"
    },
    {
     "data": {
      "text/html": [
       "<pre style=\"white-space:pre;overflow-x:auto;line-height:normal;font-family:Menlo,'DejaVu Sans Mono',consolas,'Courier New',monospace\">Loading Daily data for AMZN with starting period 2023-01-03.\n",
       "</pre>\n"
      ],
      "text/plain": [
       "Loading Daily data for AMZN with starting period 2023-01-03.\n"
      ]
     },
     "metadata": {},
     "output_type": "display_data"
    },
    {
     "data": {
      "text/html": [
       "<pre style=\"white-space:pre;overflow-x:auto;line-height:normal;font-family:Menlo,'DejaVu Sans Mono',consolas,'Courier New',monospace\">Loading Daily data for AMZN with starting period 2022-12-19.\n",
       "</pre>\n"
      ],
      "text/plain": [
       "Loading Daily data for AMZN with starting period 2022-12-19.\n"
      ]
     },
     "metadata": {},
     "output_type": "display_data"
    },
    {
     "data": {
      "text/html": [
       "<pre style=\"white-space:pre;overflow-x:auto;line-height:normal;font-family:Menlo,'DejaVu Sans Mono',consolas,'Courier New',monospace\">Loading Daily data for AMZN with starting period 2022-12-19.\n",
       "</pre>\n"
      ],
      "text/plain": [
       "Loading Daily data for AMZN with starting period 2022-12-19.\n"
      ]
     },
     "metadata": {},
     "output_type": "display_data"
    },
    {
     "data": {
      "text/html": [
       "<pre style=\"white-space:pre;overflow-x:auto;line-height:normal;font-family:Menlo,'DejaVu Sans Mono',consolas,'Courier New',monospace\">Loading Daily data for AMZN with starting period 2022-12-16.\n",
       "</pre>\n"
      ],
      "text/plain": [
       "Loading Daily data for AMZN with starting period 2022-12-16.\n"
      ]
     },
     "metadata": {},
     "output_type": "display_data"
    },
    {
     "data": {
      "text/html": [
       "<pre style=\"white-space:pre;overflow-x:auto;line-height:normal;font-family:Menlo,'DejaVu Sans Mono',consolas,'Courier New',monospace\">Loading Daily data for AMZN with starting period 2022-12-15.\n",
       "</pre>\n"
      ],
      "text/plain": [
       "Loading Daily data for AMZN with starting period 2022-12-15.\n"
      ]
     },
     "metadata": {},
     "output_type": "display_data"
    },
    {
     "data": {
      "text/html": [
       "<pre style=\"white-space:pre;overflow-x:auto;line-height:normal;font-family:Menlo,'DejaVu Sans Mono',consolas,'Courier New',monospace\">Loading Daily data for AMZN with starting period 2022-12-13.\n",
       "</pre>\n"
      ],
      "text/plain": [
       "Loading Daily data for AMZN with starting period 2022-12-13.\n"
      ]
     },
     "metadata": {},
     "output_type": "display_data"
    },
    {
     "data": {
      "text/html": [
       "<pre style=\"white-space:pre;overflow-x:auto;line-height:normal;font-family:Menlo,'DejaVu Sans Mono',consolas,'Courier New',monospace\">Loading Daily data for AMZN with starting period 2022-12-08.\n",
       "</pre>\n"
      ],
      "text/plain": [
       "Loading Daily data for AMZN with starting period 2022-12-08.\n"
      ]
     },
     "metadata": {},
     "output_type": "display_data"
    },
    {
     "data": {
      "text/html": [
       "<pre style=\"white-space:pre;overflow-x:auto;line-height:normal;font-family:Menlo,'DejaVu Sans Mono',consolas,'Courier New',monospace\">Loading Daily data for AMZN with starting period 2022-11-16.\n",
       "</pre>\n"
      ],
      "text/plain": [
       "Loading Daily data for AMZN with starting period 2022-11-16.\n"
      ]
     },
     "metadata": {},
     "output_type": "display_data"
    },
    {
     "data": {
      "text/html": [
       "<pre style=\"white-space:pre;overflow-x:auto;line-height:normal;font-family:Menlo,'DejaVu Sans Mono',consolas,'Courier New',monospace\">Loading Daily data for AMZN with starting period 2022-11-03.\n",
       "</pre>\n"
      ],
      "text/plain": [
       "Loading Daily data for AMZN with starting period 2022-11-03.\n"
      ]
     },
     "metadata": {},
     "output_type": "display_data"
    },
    {
     "data": {
      "text/html": [
       "<pre style=\"white-space:pre;overflow-x:auto;line-height:normal;font-family:Menlo,'DejaVu Sans Mono',consolas,'Courier New',monospace\">Loading Daily data for AMZN with starting period 2022-10-27.\n",
       "</pre>\n"
      ],
      "text/plain": [
       "Loading Daily data for AMZN with starting period 2022-10-27.\n"
      ]
     },
     "metadata": {},
     "output_type": "display_data"
    },
    {
     "data": {
      "text/html": [
       "<pre style=\"white-space:pre;overflow-x:auto;line-height:normal;font-family:Menlo,'DejaVu Sans Mono',consolas,'Courier New',monospace\">Loading Daily data for AMZN with starting period 2022-10-27.\n",
       "</pre>\n"
      ],
      "text/plain": [
       "Loading Daily data for AMZN with starting period 2022-10-27.\n"
      ]
     },
     "metadata": {},
     "output_type": "display_data"
    },
    {
     "data": {
      "text/html": [
       "<pre style=\"white-space:pre;overflow-x:auto;line-height:normal;font-family:Menlo,'DejaVu Sans Mono',consolas,'Courier New',monospace\">Loading Daily data for AMZN with starting period 2022-10-19.\n",
       "</pre>\n"
      ],
      "text/plain": [
       "Loading Daily data for AMZN with starting period 2022-10-19.\n"
      ]
     },
     "metadata": {},
     "output_type": "display_data"
    },
    {
     "data": {
      "text/html": [
       "<pre style=\"white-space:pre;overflow-x:auto;line-height:normal;font-family:Menlo,'DejaVu Sans Mono',consolas,'Courier New',monospace\">Loading Daily data for AMZN with starting period 2022-10-06.\n",
       "</pre>\n"
      ],
      "text/plain": [
       "Loading Daily data for AMZN with starting period 2022-10-06.\n"
      ]
     },
     "metadata": {},
     "output_type": "display_data"
    },
    {
     "data": {
      "text/html": [
       "<pre style=\"white-space:pre;overflow-x:auto;line-height:normal;font-family:Menlo,'DejaVu Sans Mono',consolas,'Courier New',monospace\">Loading Daily data for AMZN with starting period 2022-09-14.\n",
       "</pre>\n"
      ],
      "text/plain": [
       "Loading Daily data for AMZN with starting period 2022-09-14.\n"
      ]
     },
     "metadata": {},
     "output_type": "display_data"
    },
    {
     "data": {
      "text/html": [
       "<pre style=\"white-space:pre;overflow-x:auto;line-height:normal;font-family:Menlo,'DejaVu Sans Mono',consolas,'Courier New',monospace\">Loading Daily data for AMZN with starting period 2022-07-28.\n",
       "</pre>\n"
      ],
      "text/plain": [
       "Loading Daily data for AMZN with starting period 2022-07-28.\n"
      ]
     },
     "metadata": {},
     "output_type": "display_data"
    },
    {
     "data": {
      "text/html": [
       "<pre style=\"white-space:pre;overflow-x:auto;line-height:normal;font-family:Menlo,'DejaVu Sans Mono',consolas,'Courier New',monospace\">Loading Daily data for TSCO with starting period 2023-04-18.\n",
       "</pre>\n"
      ],
      "text/plain": [
       "Loading Daily data for TSCO with starting period 2023-04-18.\n"
      ]
     },
     "metadata": {},
     "output_type": "display_data"
    },
    {
     "data": {
      "text/html": [
       "<pre style=\"white-space:pre;overflow-x:auto;line-height:normal;font-family:Menlo,'DejaVu Sans Mono',consolas,'Courier New',monospace\">Loading Daily data for TSCO with starting period 2023-04-18.\n",
       "</pre>\n"
      ],
      "text/plain": [
       "Loading Daily data for TSCO with starting period 2023-04-18.\n"
      ]
     },
     "metadata": {},
     "output_type": "display_data"
    },
    {
     "data": {
      "text/html": [
       "<pre style=\"white-space:pre;overflow-x:auto;line-height:normal;font-family:Menlo,'DejaVu Sans Mono',consolas,'Courier New',monospace\">Loading Daily data for TSCO with starting period 2023-04-18.\n",
       "</pre>\n"
      ],
      "text/plain": [
       "Loading Daily data for TSCO with starting period 2023-04-18.\n"
      ]
     },
     "metadata": {},
     "output_type": "display_data"
    },
    {
     "data": {
      "text/html": [
       "<pre style=\"white-space:pre;overflow-x:auto;line-height:normal;font-family:Menlo,'DejaVu Sans Mono',consolas,'Courier New',monospace\">Loading Daily data for TSCO with starting period 2023-04-18.\n",
       "</pre>\n"
      ],
      "text/plain": [
       "Loading Daily data for TSCO with starting period 2023-04-18.\n"
      ]
     },
     "metadata": {},
     "output_type": "display_data"
    },
    {
     "data": {
      "text/html": [
       "<pre style=\"white-space:pre;overflow-x:auto;line-height:normal;font-family:Menlo,'DejaVu Sans Mono',consolas,'Courier New',monospace\">Loading Daily data for TSCO with starting period 2023-04-18.\n",
       "</pre>\n"
      ],
      "text/plain": [
       "Loading Daily data for TSCO with starting period 2023-04-18.\n"
      ]
     },
     "metadata": {},
     "output_type": "display_data"
    },
    {
     "data": {
      "text/html": [
       "<pre style=\"white-space:pre;overflow-x:auto;line-height:normal;font-family:Menlo,'DejaVu Sans Mono',consolas,'Courier New',monospace\">Loading Daily data for TSCO with starting period 2023-04-17.\n",
       "</pre>\n"
      ],
      "text/plain": [
       "Loading Daily data for TSCO with starting period 2023-04-17.\n"
      ]
     },
     "metadata": {},
     "output_type": "display_data"
    },
    {
     "data": {
      "text/html": [
       "<pre style=\"white-space:pre;overflow-x:auto;line-height:normal;font-family:Menlo,'DejaVu Sans Mono',consolas,'Courier New',monospace\">Loading Daily data for TSCO with starting period 2023-04-17.\n",
       "</pre>\n"
      ],
      "text/plain": [
       "Loading Daily data for TSCO with starting period 2023-04-17.\n"
      ]
     },
     "metadata": {},
     "output_type": "display_data"
    },
    {
     "data": {
      "text/html": [
       "<pre style=\"white-space:pre;overflow-x:auto;line-height:normal;font-family:Menlo,'DejaVu Sans Mono',consolas,'Courier New',monospace\">Loading Daily data for TSCO with starting period 2023-04-17.\n",
       "</pre>\n"
      ],
      "text/plain": [
       "Loading Daily data for TSCO with starting period 2023-04-17.\n"
      ]
     },
     "metadata": {},
     "output_type": "display_data"
    },
    {
     "data": {
      "text/html": [
       "<pre style=\"white-space:pre;overflow-x:auto;line-height:normal;font-family:Menlo,'DejaVu Sans Mono',consolas,'Courier New',monospace\">Loading Daily data for TSCO with starting period 2023-04-17.\n",
       "</pre>\n"
      ],
      "text/plain": [
       "Loading Daily data for TSCO with starting period 2023-04-17.\n"
      ]
     },
     "metadata": {},
     "output_type": "display_data"
    },
    {
     "data": {
      "text/html": [
       "<pre style=\"white-space:pre;overflow-x:auto;line-height:normal;font-family:Menlo,'DejaVu Sans Mono',consolas,'Courier New',monospace\">Loading Daily data for TSCO with starting period 2023-04-17.\n",
       "</pre>\n"
      ],
      "text/plain": [
       "Loading Daily data for TSCO with starting period 2023-04-17.\n"
      ]
     },
     "metadata": {},
     "output_type": "display_data"
    },
    {
     "data": {
      "text/html": [
       "<pre style=\"white-space:pre;overflow-x:auto;line-height:normal;font-family:Menlo,'DejaVu Sans Mono',consolas,'Courier New',monospace\">Loading Daily data for TSCO with starting period 2023-04-17.\n",
       "</pre>\n"
      ],
      "text/plain": [
       "Loading Daily data for TSCO with starting period 2023-04-17.\n"
      ]
     },
     "metadata": {},
     "output_type": "display_data"
    },
    {
     "data": {
      "text/html": [
       "<pre style=\"white-space:pre;overflow-x:auto;line-height:normal;font-family:Menlo,'DejaVu Sans Mono',consolas,'Courier New',monospace\">Loading Daily data for TSCO with starting period 2023-04-17.\n",
       "</pre>\n"
      ],
      "text/plain": [
       "Loading Daily data for TSCO with starting period 2023-04-17.\n"
      ]
     },
     "metadata": {},
     "output_type": "display_data"
    },
    {
     "data": {
      "text/html": [
       "<pre style=\"white-space:pre;overflow-x:auto;line-height:normal;font-family:Menlo,'DejaVu Sans Mono',consolas,'Courier New',monospace\">Loading Daily data for TSCO with starting period 2023-04-14.\n",
       "</pre>\n"
      ],
      "text/plain": [
       "Loading Daily data for TSCO with starting period 2023-04-14.\n"
      ]
     },
     "metadata": {},
     "output_type": "display_data"
    },
    {
     "data": {
      "text/html": [
       "<pre style=\"white-space:pre;overflow-x:auto;line-height:normal;font-family:Menlo,'DejaVu Sans Mono',consolas,'Courier New',monospace\">Loading Daily data for TSCO with starting period 2023-04-14.\n",
       "</pre>\n"
      ],
      "text/plain": [
       "Loading Daily data for TSCO with starting period 2023-04-14.\n"
      ]
     },
     "metadata": {},
     "output_type": "display_data"
    },
    {
     "data": {
      "text/html": [
       "<pre style=\"white-space:pre;overflow-x:auto;line-height:normal;font-family:Menlo,'DejaVu Sans Mono',consolas,'Courier New',monospace\">Loading Daily data for TSCO with starting period 2023-04-14.\n",
       "</pre>\n"
      ],
      "text/plain": [
       "Loading Daily data for TSCO with starting period 2023-04-14.\n"
      ]
     },
     "metadata": {},
     "output_type": "display_data"
    },
    {
     "data": {
      "text/html": [
       "<pre style=\"white-space:pre;overflow-x:auto;line-height:normal;font-family:Menlo,'DejaVu Sans Mono',consolas,'Courier New',monospace\">Loading Daily data for TSCO with starting period 2023-04-13.\n",
       "</pre>\n"
      ],
      "text/plain": [
       "Loading Daily data for TSCO with starting period 2023-04-13.\n"
      ]
     },
     "metadata": {},
     "output_type": "display_data"
    },
    {
     "data": {
      "text/html": [
       "<pre style=\"white-space:pre;overflow-x:auto;line-height:normal;font-family:Menlo,'DejaVu Sans Mono',consolas,'Courier New',monospace\">Loading Daily data for TSCO with starting period 2023-04-13.\n",
       "</pre>\n"
      ],
      "text/plain": [
       "Loading Daily data for TSCO with starting period 2023-04-13.\n"
      ]
     },
     "metadata": {},
     "output_type": "display_data"
    },
    {
     "data": {
      "text/html": [
       "<pre style=\"white-space:pre;overflow-x:auto;line-height:normal;font-family:Menlo,'DejaVu Sans Mono',consolas,'Courier New',monospace\">Loading Daily data for TSCO with starting period 2023-04-13.\n",
       "</pre>\n"
      ],
      "text/plain": [
       "Loading Daily data for TSCO with starting period 2023-04-13.\n"
      ]
     },
     "metadata": {},
     "output_type": "display_data"
    },
    {
     "data": {
      "text/html": [
       "<pre style=\"white-space:pre;overflow-x:auto;line-height:normal;font-family:Menlo,'DejaVu Sans Mono',consolas,'Courier New',monospace\">Loading Daily data for TSCO with starting period 2023-04-13.\n",
       "</pre>\n"
      ],
      "text/plain": [
       "Loading Daily data for TSCO with starting period 2023-04-13.\n"
      ]
     },
     "metadata": {},
     "output_type": "display_data"
    },
    {
     "data": {
      "text/html": [
       "<pre style=\"white-space:pre;overflow-x:auto;line-height:normal;font-family:Menlo,'DejaVu Sans Mono',consolas,'Courier New',monospace\">Loading Daily data for TSCO with starting period 2023-04-13.\n",
       "</pre>\n"
      ],
      "text/plain": [
       "Loading Daily data for TSCO with starting period 2023-04-13.\n"
      ]
     },
     "metadata": {},
     "output_type": "display_data"
    },
    {
     "data": {
      "text/html": [
       "<pre style=\"white-space:pre;overflow-x:auto;line-height:normal;font-family:Menlo,'DejaVu Sans Mono',consolas,'Courier New',monospace\">Loading Daily data for TSCO with starting period 2023-04-13.\n",
       "</pre>\n"
      ],
      "text/plain": [
       "Loading Daily data for TSCO with starting period 2023-04-13.\n"
      ]
     },
     "metadata": {},
     "output_type": "display_data"
    },
    {
     "data": {
      "text/html": [
       "<pre style=\"white-space:pre;overflow-x:auto;line-height:normal;font-family:Menlo,'DejaVu Sans Mono',consolas,'Courier New',monospace\">Loading Daily data for TSCO with starting period 2023-04-12.\n",
       "</pre>\n"
      ],
      "text/plain": [
       "Loading Daily data for TSCO with starting period 2023-04-12.\n"
      ]
     },
     "metadata": {},
     "output_type": "display_data"
    },
    {
     "data": {
      "text/html": [
       "<pre style=\"white-space:pre;overflow-x:auto;line-height:normal;font-family:Menlo,'DejaVu Sans Mono',consolas,'Courier New',monospace\">Loading Daily data for TSCO with starting period 2023-04-12.\n",
       "</pre>\n"
      ],
      "text/plain": [
       "Loading Daily data for TSCO with starting period 2023-04-12.\n"
      ]
     },
     "metadata": {},
     "output_type": "display_data"
    },
    {
     "data": {
      "text/html": [
       "<pre style=\"white-space:pre;overflow-x:auto;line-height:normal;font-family:Menlo,'DejaVu Sans Mono',consolas,'Courier New',monospace\">Loading Daily data for TSCO with starting period 2023-04-12.\n",
       "</pre>\n"
      ],
      "text/plain": [
       "Loading Daily data for TSCO with starting period 2023-04-12.\n"
      ]
     },
     "metadata": {},
     "output_type": "display_data"
    },
    {
     "data": {
      "text/html": [
       "<pre style=\"white-space:pre;overflow-x:auto;line-height:normal;font-family:Menlo,'DejaVu Sans Mono',consolas,'Courier New',monospace\">Loading Daily data for TSCO with starting period 2023-04-12.\n",
       "</pre>\n"
      ],
      "text/plain": [
       "Loading Daily data for TSCO with starting period 2023-04-12.\n"
      ]
     },
     "metadata": {},
     "output_type": "display_data"
    },
    {
     "data": {
      "text/html": [
       "<pre style=\"white-space:pre;overflow-x:auto;line-height:normal;font-family:Menlo,'DejaVu Sans Mono',consolas,'Courier New',monospace\">Loading Daily data for TSCO with starting period 2023-04-11.\n",
       "</pre>\n"
      ],
      "text/plain": [
       "Loading Daily data for TSCO with starting period 2023-04-11.\n"
      ]
     },
     "metadata": {},
     "output_type": "display_data"
    },
    {
     "data": {
      "text/html": [
       "<pre style=\"white-space:pre;overflow-x:auto;line-height:normal;font-family:Menlo,'DejaVu Sans Mono',consolas,'Courier New',monospace\">Loading Daily data for TSCO with starting period 2023-04-11.\n",
       "</pre>\n"
      ],
      "text/plain": [
       "Loading Daily data for TSCO with starting period 2023-04-11.\n"
      ]
     },
     "metadata": {},
     "output_type": "display_data"
    },
    {
     "data": {
      "text/html": [
       "<pre style=\"white-space:pre;overflow-x:auto;line-height:normal;font-family:Menlo,'DejaVu Sans Mono',consolas,'Courier New',monospace\">Loading Daily data for TSCO with starting period 2023-04-11.\n",
       "</pre>\n"
      ],
      "text/plain": [
       "Loading Daily data for TSCO with starting period 2023-04-11.\n"
      ]
     },
     "metadata": {},
     "output_type": "display_data"
    },
    {
     "data": {
      "text/html": [
       "<pre style=\"white-space:pre;overflow-x:auto;line-height:normal;font-family:Menlo,'DejaVu Sans Mono',consolas,'Courier New',monospace\">Loading Daily data for TSCO with starting period 2023-04-10.\n",
       "</pre>\n"
      ],
      "text/plain": [
       "Loading Daily data for TSCO with starting period 2023-04-10.\n"
      ]
     },
     "metadata": {},
     "output_type": "display_data"
    },
    {
     "data": {
      "text/html": [
       "<pre style=\"white-space:pre;overflow-x:auto;line-height:normal;font-family:Menlo,'DejaVu Sans Mono',consolas,'Courier New',monospace\">Loading Daily data for TSCO with starting period 2023-04-10.\n",
       "</pre>\n"
      ],
      "text/plain": [
       "Loading Daily data for TSCO with starting period 2023-04-10.\n"
      ]
     },
     "metadata": {},
     "output_type": "display_data"
    },
    {
     "data": {
      "text/html": [
       "<pre style=\"white-space:pre;overflow-x:auto;line-height:normal;font-family:Menlo,'DejaVu Sans Mono',consolas,'Courier New',monospace\">Loading Daily data for TSCO with starting period 2023-04-06.\n",
       "</pre>\n"
      ],
      "text/plain": [
       "Loading Daily data for TSCO with starting period 2023-04-06.\n"
      ]
     },
     "metadata": {},
     "output_type": "display_data"
    },
    {
     "data": {
      "text/html": [
       "<pre style=\"white-space:pre;overflow-x:auto;line-height:normal;font-family:Menlo,'DejaVu Sans Mono',consolas,'Courier New',monospace\">Loading Daily data for TSCO with starting period 2023-04-06.\n",
       "</pre>\n"
      ],
      "text/plain": [
       "Loading Daily data for TSCO with starting period 2023-04-06.\n"
      ]
     },
     "metadata": {},
     "output_type": "display_data"
    },
    {
     "data": {
      "text/html": [
       "<pre style=\"white-space:pre;overflow-x:auto;line-height:normal;font-family:Menlo,'DejaVu Sans Mono',consolas,'Courier New',monospace\">Loading Daily data for TSCO with starting period 2023-04-05.\n",
       "</pre>\n"
      ],
      "text/plain": [
       "Loading Daily data for TSCO with starting period 2023-04-05.\n"
      ]
     },
     "metadata": {},
     "output_type": "display_data"
    },
    {
     "data": {
      "text/html": [
       "<pre style=\"white-space:pre;overflow-x:auto;line-height:normal;font-family:Menlo,'DejaVu Sans Mono',consolas,'Courier New',monospace\">Loading Daily data for TSCO with starting period 2023-04-04.\n",
       "</pre>\n"
      ],
      "text/plain": [
       "Loading Daily data for TSCO with starting period 2023-04-04.\n"
      ]
     },
     "metadata": {},
     "output_type": "display_data"
    },
    {
     "data": {
      "text/html": [
       "<pre style=\"white-space:pre;overflow-x:auto;line-height:normal;font-family:Menlo,'DejaVu Sans Mono',consolas,'Courier New',monospace\">Loading Daily data for TSCO with starting period 2023-04-03.\n",
       "</pre>\n"
      ],
      "text/plain": [
       "Loading Daily data for TSCO with starting period 2023-04-03.\n"
      ]
     },
     "metadata": {},
     "output_type": "display_data"
    },
    {
     "data": {
      "text/html": [
       "<pre style=\"white-space:pre;overflow-x:auto;line-height:normal;font-family:Menlo,'DejaVu Sans Mono',consolas,'Courier New',monospace\">Loading Daily data for TSCO with starting period 2023-04-03.\n",
       "</pre>\n"
      ],
      "text/plain": [
       "Loading Daily data for TSCO with starting period 2023-04-03.\n"
      ]
     },
     "metadata": {},
     "output_type": "display_data"
    },
    {
     "data": {
      "text/html": [
       "<pre style=\"white-space:pre;overflow-x:auto;line-height:normal;font-family:Menlo,'DejaVu Sans Mono',consolas,'Courier New',monospace\">Loading Daily data for TSCO with starting period 2023-03-31.\n",
       "</pre>\n"
      ],
      "text/plain": [
       "Loading Daily data for TSCO with starting period 2023-03-31.\n"
      ]
     },
     "metadata": {},
     "output_type": "display_data"
    },
    {
     "data": {
      "text/html": [
       "<pre style=\"white-space:pre;overflow-x:auto;line-height:normal;font-family:Menlo,'DejaVu Sans Mono',consolas,'Courier New',monospace\">Loading Daily data for TSCO with starting period 2023-03-31.\n",
       "</pre>\n"
      ],
      "text/plain": [
       "Loading Daily data for TSCO with starting period 2023-03-31.\n"
      ]
     },
     "metadata": {},
     "output_type": "display_data"
    },
    {
     "data": {
      "text/html": [
       "<pre style=\"white-space:pre;overflow-x:auto;line-height:normal;font-family:Menlo,'DejaVu Sans Mono',consolas,'Courier New',monospace\">Loading Daily data for TSCO with starting period 2023-03-27.\n",
       "</pre>\n"
      ],
      "text/plain": [
       "Loading Daily data for TSCO with starting period 2023-03-27.\n"
      ]
     },
     "metadata": {},
     "output_type": "display_data"
    },
    {
     "data": {
      "text/html": [
       "<pre style=\"white-space:pre;overflow-x:auto;line-height:normal;font-family:Menlo,'DejaVu Sans Mono',consolas,'Courier New',monospace\">Loading Daily data for TSCO with starting period 2023-03-27.\n",
       "</pre>\n"
      ],
      "text/plain": [
       "Loading Daily data for TSCO with starting period 2023-03-27.\n"
      ]
     },
     "metadata": {},
     "output_type": "display_data"
    },
    {
     "data": {
      "text/html": [
       "<pre style=\"white-space:pre;overflow-x:auto;line-height:normal;font-family:Menlo,'DejaVu Sans Mono',consolas,'Courier New',monospace\">Loading Daily data for TSCO with starting period 2023-03-24.\n",
       "</pre>\n"
      ],
      "text/plain": [
       "Loading Daily data for TSCO with starting period 2023-03-24.\n"
      ]
     },
     "metadata": {},
     "output_type": "display_data"
    },
    {
     "data": {
      "text/html": [
       "<pre style=\"white-space:pre;overflow-x:auto;line-height:normal;font-family:Menlo,'DejaVu Sans Mono',consolas,'Courier New',monospace\">Loading Daily data for TSCO with starting period 2023-03-23.\n",
       "</pre>\n"
      ],
      "text/plain": [
       "Loading Daily data for TSCO with starting period 2023-03-23.\n"
      ]
     },
     "metadata": {},
     "output_type": "display_data"
    },
    {
     "data": {
      "text/html": [
       "<pre style=\"white-space:pre;overflow-x:auto;line-height:normal;font-family:Menlo,'DejaVu Sans Mono',consolas,'Courier New',monospace\">Loading Daily data for TSCO with starting period 2023-03-23.\n",
       "</pre>\n"
      ],
      "text/plain": [
       "Loading Daily data for TSCO with starting period 2023-03-23.\n"
      ]
     },
     "metadata": {},
     "output_type": "display_data"
    },
    {
     "data": {
      "text/html": [
       "<pre style=\"white-space:pre;overflow-x:auto;line-height:normal;font-family:Menlo,'DejaVu Sans Mono',consolas,'Courier New',monospace\">Loading Daily data for TSCO with starting period 2023-03-23.\n",
       "</pre>\n"
      ],
      "text/plain": [
       "Loading Daily data for TSCO with starting period 2023-03-23.\n"
      ]
     },
     "metadata": {},
     "output_type": "display_data"
    },
    {
     "data": {
      "text/html": [
       "<pre style=\"white-space:pre;overflow-x:auto;line-height:normal;font-family:Menlo,'DejaVu Sans Mono',consolas,'Courier New',monospace\">Loading Daily data for TSCO with starting period 2023-03-22.\n",
       "</pre>\n"
      ],
      "text/plain": [
       "Loading Daily data for TSCO with starting period 2023-03-22.\n"
      ]
     },
     "metadata": {},
     "output_type": "display_data"
    },
    {
     "data": {
      "text/html": [
       "<pre style=\"white-space:pre;overflow-x:auto;line-height:normal;font-family:Menlo,'DejaVu Sans Mono',consolas,'Courier New',monospace\">Loading Daily data for TSCO with starting period 2023-03-20.\n",
       "</pre>\n"
      ],
      "text/plain": [
       "Loading Daily data for TSCO with starting period 2023-03-20.\n"
      ]
     },
     "metadata": {},
     "output_type": "display_data"
    },
    {
     "data": {
      "text/html": [
       "<pre style=\"white-space:pre;overflow-x:auto;line-height:normal;font-family:Menlo,'DejaVu Sans Mono',consolas,'Courier New',monospace\">Loading Daily data for TSCO with starting period 2023-03-17.\n",
       "</pre>\n"
      ],
      "text/plain": [
       "Loading Daily data for TSCO with starting period 2023-03-17.\n"
      ]
     },
     "metadata": {},
     "output_type": "display_data"
    },
    {
     "data": {
      "text/html": [
       "<pre style=\"white-space:pre;overflow-x:auto;line-height:normal;font-family:Menlo,'DejaVu Sans Mono',consolas,'Courier New',monospace\">Loading Daily data for TSCO with starting period 2023-03-17.\n",
       "</pre>\n"
      ],
      "text/plain": [
       "Loading Daily data for TSCO with starting period 2023-03-17.\n"
      ]
     },
     "metadata": {},
     "output_type": "display_data"
    },
    {
     "data": {
      "text/html": [
       "<pre style=\"white-space:pre;overflow-x:auto;line-height:normal;font-family:Menlo,'DejaVu Sans Mono',consolas,'Courier New',monospace\">Loading Daily data for TSCO with starting period 2023-03-15.\n",
       "</pre>\n"
      ],
      "text/plain": [
       "Loading Daily data for TSCO with starting period 2023-03-15.\n"
      ]
     },
     "metadata": {},
     "output_type": "display_data"
    },
    {
     "data": {
      "text/html": [
       "<pre style=\"white-space:pre;overflow-x:auto;line-height:normal;font-family:Menlo,'DejaVu Sans Mono',consolas,'Courier New',monospace\">Loading Daily data for TSCO with starting period 2023-03-15.\n",
       "</pre>\n"
      ],
      "text/plain": [
       "Loading Daily data for TSCO with starting period 2023-03-15.\n"
      ]
     },
     "metadata": {},
     "output_type": "display_data"
    },
    {
     "data": {
      "text/html": [
       "<pre style=\"white-space:pre;overflow-x:auto;line-height:normal;font-family:Menlo,'DejaVu Sans Mono',consolas,'Courier New',monospace\">Loading Daily data for TSCO with starting period 2023-03-14.\n",
       "</pre>\n"
      ],
      "text/plain": [
       "Loading Daily data for TSCO with starting period 2023-03-14.\n"
      ]
     },
     "metadata": {},
     "output_type": "display_data"
    },
    {
     "data": {
      "text/html": [
       "<pre style=\"white-space:pre;overflow-x:auto;line-height:normal;font-family:Menlo,'DejaVu Sans Mono',consolas,'Courier New',monospace\">Loading Daily data for TSCO with starting period 2023-03-08.\n",
       "</pre>\n"
      ],
      "text/plain": [
       "Loading Daily data for TSCO with starting period 2023-03-08.\n"
      ]
     },
     "metadata": {},
     "output_type": "display_data"
    },
    {
     "data": {
      "text/html": [
       "<pre style=\"white-space:pre;overflow-x:auto;line-height:normal;font-family:Menlo,'DejaVu Sans Mono',consolas,'Courier New',monospace\">Loading Daily data for TSCO with starting period 2023-03-07.\n",
       "</pre>\n"
      ],
      "text/plain": [
       "Loading Daily data for TSCO with starting period 2023-03-07.\n"
      ]
     },
     "metadata": {},
     "output_type": "display_data"
    },
    {
     "data": {
      "text/html": [
       "<pre style=\"white-space:pre;overflow-x:auto;line-height:normal;font-family:Menlo,'DejaVu Sans Mono',consolas,'Courier New',monospace\">Loading Daily data for TSCO with starting period 2023-03-06.\n",
       "</pre>\n"
      ],
      "text/plain": [
       "Loading Daily data for TSCO with starting period 2023-03-06.\n"
      ]
     },
     "metadata": {},
     "output_type": "display_data"
    },
    {
     "data": {
      "text/html": [
       "<pre style=\"white-space:pre;overflow-x:auto;line-height:normal;font-family:Menlo,'DejaVu Sans Mono',consolas,'Courier New',monospace\">Loading Daily data for TSCO with starting period 2023-03-06.\n",
       "</pre>\n"
      ],
      "text/plain": [
       "Loading Daily data for TSCO with starting period 2023-03-06.\n"
      ]
     },
     "metadata": {},
     "output_type": "display_data"
    },
    {
     "data": {
      "text/html": [
       "<pre style=\"white-space:pre;overflow-x:auto;line-height:normal;font-family:Menlo,'DejaVu Sans Mono',consolas,'Courier New',monospace\">Loading Daily data for TSCO with starting period 2023-03-03.\n",
       "</pre>\n"
      ],
      "text/plain": [
       "Loading Daily data for TSCO with starting period 2023-03-03.\n"
      ]
     },
     "metadata": {},
     "output_type": "display_data"
    },
    {
     "data": {
      "text/html": [
       "<pre style=\"white-space:pre;overflow-x:auto;line-height:normal;font-family:Menlo,'DejaVu Sans Mono',consolas,'Courier New',monospace\">Loading Daily data for TSCO with starting period 2023-03-01.\n",
       "</pre>\n"
      ],
      "text/plain": [
       "Loading Daily data for TSCO with starting period 2023-03-01.\n"
      ]
     },
     "metadata": {},
     "output_type": "display_data"
    },
    {
     "data": {
      "text/html": [
       "<pre style=\"white-space:pre;overflow-x:auto;line-height:normal;font-family:Menlo,'DejaVu Sans Mono',consolas,'Courier New',monospace\">Loading Daily data for TSCO with starting period 2023-02-28.\n",
       "</pre>\n"
      ],
      "text/plain": [
       "Loading Daily data for TSCO with starting period 2023-02-28.\n"
      ]
     },
     "metadata": {},
     "output_type": "display_data"
    },
    {
     "data": {
      "text/html": [
       "<pre style=\"white-space:pre;overflow-x:auto;line-height:normal;font-family:Menlo,'DejaVu Sans Mono',consolas,'Courier New',monospace\">Loading Daily data for TSCO with starting period 2023-02-27.\n",
       "</pre>\n"
      ],
      "text/plain": [
       "Loading Daily data for TSCO with starting period 2023-02-27.\n"
      ]
     },
     "metadata": {},
     "output_type": "display_data"
    },
    {
     "data": {
      "text/html": [
       "<pre style=\"white-space:pre;overflow-x:auto;line-height:normal;font-family:Menlo,'DejaVu Sans Mono',consolas,'Courier New',monospace\">Loading Daily data for TSCO with starting period 2023-02-21.\n",
       "</pre>\n"
      ],
      "text/plain": [
       "Loading Daily data for TSCO with starting period 2023-02-21.\n"
      ]
     },
     "metadata": {},
     "output_type": "display_data"
    },
    {
     "data": {
      "text/html": [
       "<pre style=\"white-space:pre;overflow-x:auto;line-height:normal;font-family:Menlo,'DejaVu Sans Mono',consolas,'Courier New',monospace\">Loading Daily data for TSCO with starting period 2023-02-21.\n",
       "</pre>\n"
      ],
      "text/plain": [
       "Loading Daily data for TSCO with starting period 2023-02-21.\n"
      ]
     },
     "metadata": {},
     "output_type": "display_data"
    },
    {
     "data": {
      "text/html": [
       "<pre style=\"white-space:pre;overflow-x:auto;line-height:normal;font-family:Menlo,'DejaVu Sans Mono',consolas,'Courier New',monospace\">Loading Daily data for TSCO with starting period 2023-02-13.\n",
       "</pre>\n"
      ],
      "text/plain": [
       "Loading Daily data for TSCO with starting period 2023-02-13.\n"
      ]
     },
     "metadata": {},
     "output_type": "display_data"
    },
    {
     "data": {
      "text/html": [
       "<pre style=\"white-space:pre;overflow-x:auto;line-height:normal;font-family:Menlo,'DejaVu Sans Mono',consolas,'Courier New',monospace\">Loading Daily data for TSCO with starting period 2023-02-09.\n",
       "</pre>\n"
      ],
      "text/plain": [
       "Loading Daily data for TSCO with starting period 2023-02-09.\n"
      ]
     },
     "metadata": {},
     "output_type": "display_data"
    },
    {
     "data": {
      "text/html": [
       "<pre style=\"white-space:pre;overflow-x:auto;line-height:normal;font-family:Menlo,'DejaVu Sans Mono',consolas,'Courier New',monospace\">Loading Daily data for TSCO with starting period 2023-02-08.\n",
       "</pre>\n"
      ],
      "text/plain": [
       "Loading Daily data for TSCO with starting period 2023-02-08.\n"
      ]
     },
     "metadata": {},
     "output_type": "display_data"
    },
    {
     "data": {
      "text/html": [
       "<pre style=\"white-space:pre;overflow-x:auto;line-height:normal;font-family:Menlo,'DejaVu Sans Mono',consolas,'Courier New',monospace\">Loading Daily data for TSCO with starting period 2023-02-06.\n",
       "</pre>\n"
      ],
      "text/plain": [
       "Loading Daily data for TSCO with starting period 2023-02-06.\n"
      ]
     },
     "metadata": {},
     "output_type": "display_data"
    },
    {
     "data": {
      "text/html": [
       "<pre style=\"white-space:pre;overflow-x:auto;line-height:normal;font-family:Menlo,'DejaVu Sans Mono',consolas,'Courier New',monospace\">Loading Daily data for TSCO with starting period 2023-02-02.\n",
       "</pre>\n"
      ],
      "text/plain": [
       "Loading Daily data for TSCO with starting period 2023-02-02.\n"
      ]
     },
     "metadata": {},
     "output_type": "display_data"
    },
    {
     "data": {
      "text/html": [
       "<pre style=\"white-space:pre;overflow-x:auto;line-height:normal;font-family:Menlo,'DejaVu Sans Mono',consolas,'Courier New',monospace\">Loading Daily data for TSCO with starting period 2023-01-31.\n",
       "</pre>\n"
      ],
      "text/plain": [
       "Loading Daily data for TSCO with starting period 2023-01-31.\n"
      ]
     },
     "metadata": {},
     "output_type": "display_data"
    },
    {
     "data": {
      "text/html": [
       "<pre style=\"white-space:pre;overflow-x:auto;line-height:normal;font-family:Menlo,'DejaVu Sans Mono',consolas,'Courier New',monospace\">Loading Daily data for TSCO with starting period 2023-01-30.\n",
       "</pre>\n"
      ],
      "text/plain": [
       "Loading Daily data for TSCO with starting period 2023-01-30.\n"
      ]
     },
     "metadata": {},
     "output_type": "display_data"
    },
    {
     "data": {
      "text/html": [
       "<pre style=\"white-space:pre;overflow-x:auto;line-height:normal;font-family:Menlo,'DejaVu Sans Mono',consolas,'Courier New',monospace\">Loading Daily data for TSCO with starting period 2023-01-27.\n",
       "</pre>\n"
      ],
      "text/plain": [
       "Loading Daily data for TSCO with starting period 2023-01-27.\n"
      ]
     },
     "metadata": {},
     "output_type": "display_data"
    },
    {
     "data": {
      "text/html": [
       "<pre style=\"white-space:pre;overflow-x:auto;line-height:normal;font-family:Menlo,'DejaVu Sans Mono',consolas,'Courier New',monospace\">Loading Daily data for TSCO with starting period 2023-01-26.\n",
       "</pre>\n"
      ],
      "text/plain": [
       "Loading Daily data for TSCO with starting period 2023-01-26.\n"
      ]
     },
     "metadata": {},
     "output_type": "display_data"
    },
    {
     "data": {
      "text/html": [
       "<pre style=\"white-space:pre;overflow-x:auto;line-height:normal;font-family:Menlo,'DejaVu Sans Mono',consolas,'Courier New',monospace\">Loading Daily data for TSCO with starting period 2023-01-26.\n",
       "</pre>\n"
      ],
      "text/plain": [
       "Loading Daily data for TSCO with starting period 2023-01-26.\n"
      ]
     },
     "metadata": {},
     "output_type": "display_data"
    },
    {
     "data": {
      "text/html": [
       "<pre style=\"white-space:pre;overflow-x:auto;line-height:normal;font-family:Menlo,'DejaVu Sans Mono',consolas,'Courier New',monospace\">Loading Daily data for TSCO with starting period 2023-01-25.\n",
       "</pre>\n"
      ],
      "text/plain": [
       "Loading Daily data for TSCO with starting period 2023-01-25.\n"
      ]
     },
     "metadata": {},
     "output_type": "display_data"
    },
    {
     "data": {
      "text/html": [
       "<pre style=\"white-space:pre;overflow-x:auto;line-height:normal;font-family:Menlo,'DejaVu Sans Mono',consolas,'Courier New',monospace\">Loading Daily data for TSCO with starting period 2023-01-23.\n",
       "</pre>\n"
      ],
      "text/plain": [
       "Loading Daily data for TSCO with starting period 2023-01-23.\n"
      ]
     },
     "metadata": {},
     "output_type": "display_data"
    },
    {
     "data": {
      "text/html": [
       "<pre style=\"white-space:pre;overflow-x:auto;line-height:normal;font-family:Menlo,'DejaVu Sans Mono',consolas,'Courier New',monospace\">Loading Daily data for TSCO with starting period 2023-01-20.\n",
       "</pre>\n"
      ],
      "text/plain": [
       "Loading Daily data for TSCO with starting period 2023-01-20.\n"
      ]
     },
     "metadata": {},
     "output_type": "display_data"
    },
    {
     "data": {
      "text/html": [
       "<pre style=\"white-space:pre;overflow-x:auto;line-height:normal;font-family:Menlo,'DejaVu Sans Mono',consolas,'Courier New',monospace\">Loading Daily data for TSCO with starting period 2023-01-20.\n",
       "</pre>\n"
      ],
      "text/plain": [
       "Loading Daily data for TSCO with starting period 2023-01-20.\n"
      ]
     },
     "metadata": {},
     "output_type": "display_data"
    },
    {
     "data": {
      "text/html": [
       "<pre style=\"white-space:pre;overflow-x:auto;line-height:normal;font-family:Menlo,'DejaVu Sans Mono',consolas,'Courier New',monospace\">Loading Daily data for TSCO with starting period 2023-01-19.\n",
       "</pre>\n"
      ],
      "text/plain": [
       "Loading Daily data for TSCO with starting period 2023-01-19.\n"
      ]
     },
     "metadata": {},
     "output_type": "display_data"
    },
    {
     "data": {
      "text/html": [
       "<pre style=\"white-space:pre;overflow-x:auto;line-height:normal;font-family:Menlo,'DejaVu Sans Mono',consolas,'Courier New',monospace\">Loading Daily data for TSCO with starting period 2023-01-17.\n",
       "</pre>\n"
      ],
      "text/plain": [
       "Loading Daily data for TSCO with starting period 2023-01-17.\n"
      ]
     },
     "metadata": {},
     "output_type": "display_data"
    },
    {
     "data": {
      "text/html": [
       "<pre style=\"white-space:pre;overflow-x:auto;line-height:normal;font-family:Menlo,'DejaVu Sans Mono',consolas,'Courier New',monospace\">Loading Daily data for TSCO with starting period 2023-01-06.\n",
       "</pre>\n"
      ],
      "text/plain": [
       "Loading Daily data for TSCO with starting period 2023-01-06.\n"
      ]
     },
     "metadata": {},
     "output_type": "display_data"
    },
    {
     "data": {
      "text/html": [
       "<pre style=\"white-space:pre;overflow-x:auto;line-height:normal;font-family:Menlo,'DejaVu Sans Mono',consolas,'Courier New',monospace\">Loading Daily data for TSCO with starting period 2023-01-06.\n",
       "</pre>\n"
      ],
      "text/plain": [
       "Loading Daily data for TSCO with starting period 2023-01-06.\n"
      ]
     },
     "metadata": {},
     "output_type": "display_data"
    },
    {
     "data": {
      "text/html": [
       "<pre style=\"white-space:pre;overflow-x:auto;line-height:normal;font-family:Menlo,'DejaVu Sans Mono',consolas,'Courier New',monospace\">Loading Daily data for TSCO with starting period 2023-01-05.\n",
       "</pre>\n"
      ],
      "text/plain": [
       "Loading Daily data for TSCO with starting period 2023-01-05.\n"
      ]
     },
     "metadata": {},
     "output_type": "display_data"
    },
    {
     "data": {
      "text/html": [
       "<pre style=\"white-space:pre;overflow-x:auto;line-height:normal;font-family:Menlo,'DejaVu Sans Mono',consolas,'Courier New',monospace\">Loading Daily data for TSCO with starting period 2023-01-03.\n",
       "</pre>\n"
      ],
      "text/plain": [
       "Loading Daily data for TSCO with starting period 2023-01-03.\n"
      ]
     },
     "metadata": {},
     "output_type": "display_data"
    },
    {
     "data": {
      "text/html": [
       "<pre style=\"white-space:pre;overflow-x:auto;line-height:normal;font-family:Menlo,'DejaVu Sans Mono',consolas,'Courier New',monospace\">Loading Daily data for TSCO with starting period 2022-12-15.\n",
       "</pre>\n"
      ],
      "text/plain": [
       "Loading Daily data for TSCO with starting period 2022-12-15.\n"
      ]
     },
     "metadata": {},
     "output_type": "display_data"
    },
    {
     "data": {
      "text/html": [
       "<pre style=\"white-space:pre;overflow-x:auto;line-height:normal;font-family:Menlo,'DejaVu Sans Mono',consolas,'Courier New',monospace\">Loading Daily data for TSCO with starting period 2022-12-14.\n",
       "</pre>\n"
      ],
      "text/plain": [
       "Loading Daily data for TSCO with starting period 2022-12-14.\n"
      ]
     },
     "metadata": {},
     "output_type": "display_data"
    },
    {
     "data": {
      "text/html": [
       "<pre style=\"white-space:pre;overflow-x:auto;line-height:normal;font-family:Menlo,'DejaVu Sans Mono',consolas,'Courier New',monospace\">Loading Daily data for TSCO with starting period 2022-12-05.\n",
       "</pre>\n"
      ],
      "text/plain": [
       "Loading Daily data for TSCO with starting period 2022-12-05.\n"
      ]
     },
     "metadata": {},
     "output_type": "display_data"
    },
    {
     "data": {
      "text/html": [
       "<pre style=\"white-space:pre;overflow-x:auto;line-height:normal;font-family:Menlo,'DejaVu Sans Mono',consolas,'Courier New',monospace\">Loading Daily data for TSCO with starting period 2022-12-05.\n",
       "</pre>\n"
      ],
      "text/plain": [
       "Loading Daily data for TSCO with starting period 2022-12-05.\n"
      ]
     },
     "metadata": {},
     "output_type": "display_data"
    },
    {
     "data": {
      "text/html": [
       "<pre style=\"white-space:pre;overflow-x:auto;line-height:normal;font-family:Menlo,'DejaVu Sans Mono',consolas,'Courier New',monospace\">Loading Daily data for TSCO with starting period 2022-11-28.\n",
       "</pre>\n"
      ],
      "text/plain": [
       "Loading Daily data for TSCO with starting period 2022-11-28.\n"
      ]
     },
     "metadata": {},
     "output_type": "display_data"
    },
    {
     "data": {
      "text/html": [
       "<pre style=\"white-space:pre;overflow-x:auto;line-height:normal;font-family:Menlo,'DejaVu Sans Mono',consolas,'Courier New',monospace\">Loading Daily data for TSCO with starting period 2022-11-15.\n",
       "</pre>\n"
      ],
      "text/plain": [
       "Loading Daily data for TSCO with starting period 2022-11-15.\n"
      ]
     },
     "metadata": {},
     "output_type": "display_data"
    },
    {
     "data": {
      "text/html": [
       "<pre style=\"white-space:pre;overflow-x:auto;line-height:normal;font-family:Menlo,'DejaVu Sans Mono',consolas,'Courier New',monospace\">Loading Daily data for TSCO with starting period 2022-11-07.\n",
       "</pre>\n"
      ],
      "text/plain": [
       "Loading Daily data for TSCO with starting period 2022-11-07.\n"
      ]
     },
     "metadata": {},
     "output_type": "display_data"
    },
    {
     "data": {
      "text/html": [
       "<pre style=\"white-space:pre;overflow-x:auto;line-height:normal;font-family:Menlo,'DejaVu Sans Mono',consolas,'Courier New',monospace\">Loading Daily data for TSCO with starting period 2022-11-01.\n",
       "</pre>\n"
      ],
      "text/plain": [
       "Loading Daily data for TSCO with starting period 2022-11-01.\n"
      ]
     },
     "metadata": {},
     "output_type": "display_data"
    },
    {
     "data": {
      "text/html": [
       "<pre style=\"white-space:pre;overflow-x:auto;line-height:normal;font-family:Menlo,'DejaVu Sans Mono',consolas,'Courier New',monospace\">Loading Daily data for TSCO with starting period 2022-10-14.\n",
       "</pre>\n"
      ],
      "text/plain": [
       "Loading Daily data for TSCO with starting period 2022-10-14.\n"
      ]
     },
     "metadata": {},
     "output_type": "display_data"
    },
    {
     "data": {
      "text/html": [
       "<pre style=\"white-space:pre;overflow-x:auto;line-height:normal;font-family:Menlo,'DejaVu Sans Mono',consolas,'Courier New',monospace\">Loading Daily data for TSCO with starting period 2022-10-10.\n",
       "</pre>\n"
      ],
      "text/plain": [
       "Loading Daily data for TSCO with starting period 2022-10-10.\n"
      ]
     },
     "metadata": {},
     "output_type": "display_data"
    },
    {
     "data": {
      "text/html": [
       "<pre style=\"white-space:pre;overflow-x:auto;line-height:normal;font-family:Menlo,'DejaVu Sans Mono',consolas,'Courier New',monospace\">Loading Daily data for TSCO with starting period 2022-10-03.\n",
       "</pre>\n"
      ],
      "text/plain": [
       "Loading Daily data for TSCO with starting period 2022-10-03.\n"
      ]
     },
     "metadata": {},
     "output_type": "display_data"
    },
    {
     "data": {
      "text/html": [
       "<pre style=\"white-space:pre;overflow-x:auto;line-height:normal;font-family:Menlo,'DejaVu Sans Mono',consolas,'Courier New',monospace\">Loading Daily data for TSCO with starting period 2022-09-16.\n",
       "</pre>\n"
      ],
      "text/plain": [
       "Loading Daily data for TSCO with starting period 2022-09-16.\n"
      ]
     },
     "metadata": {},
     "output_type": "display_data"
    },
    {
     "data": {
      "text/html": [
       "<pre style=\"white-space:pre;overflow-x:auto;line-height:normal;font-family:Menlo,'DejaVu Sans Mono',consolas,'Courier New',monospace\">Loading Daily data for TSCO with starting period 2022-09-12.\n",
       "</pre>\n"
      ],
      "text/plain": [
       "Loading Daily data for TSCO with starting period 2022-09-12.\n"
      ]
     },
     "metadata": {},
     "output_type": "display_data"
    },
    {
     "data": {
      "text/html": [
       "<pre style=\"white-space:pre;overflow-x:auto;line-height:normal;font-family:Menlo,'DejaVu Sans Mono',consolas,'Courier New',monospace\">Loading Daily data for TSCO with starting period 2022-08-15.\n",
       "</pre>\n"
      ],
      "text/plain": [
       "Loading Daily data for TSCO with starting period 2022-08-15.\n"
      ]
     },
     "metadata": {},
     "output_type": "display_data"
    },
    {
     "data": {
      "text/html": [
       "<pre style=\"white-space:pre;overflow-x:auto;line-height:normal;font-family:Menlo,'DejaVu Sans Mono',consolas,'Courier New',monospace\">Loading Daily data for TSCO with starting period 2022-07-21.\n",
       "</pre>\n"
      ],
      "text/plain": [
       "Loading Daily data for TSCO with starting period 2022-07-21.\n"
      ]
     },
     "metadata": {},
     "output_type": "display_data"
    },
    {
     "data": {
      "text/html": [
       "<pre style=\"white-space:pre;overflow-x:auto;line-height:normal;font-family:Menlo,'DejaVu Sans Mono',consolas,'Courier New',monospace\">Loading Daily data for TSCO with starting period 2022-06-21.\n",
       "</pre>\n"
      ],
      "text/plain": [
       "Loading Daily data for TSCO with starting period 2022-06-21.\n"
      ]
     },
     "metadata": {},
     "output_type": "display_data"
    },
    {
     "data": {
      "text/html": [
       "<pre style=\"white-space:pre;overflow-x:auto;line-height:normal;font-family:Menlo,'DejaVu Sans Mono',consolas,'Courier New',monospace\">Loading Daily data for TSCO with starting period 2022-04-18.\n",
       "</pre>\n"
      ],
      "text/plain": [
       "Loading Daily data for TSCO with starting period 2022-04-18.\n"
      ]
     },
     "metadata": {},
     "output_type": "display_data"
    },
    {
     "data": {
      "text/html": [
       "<pre style=\"white-space:pre;overflow-x:auto;line-height:normal;font-family:Menlo,'DejaVu Sans Mono',consolas,'Courier New',monospace\">Loading Daily data for TSCO with starting period 2022-04-04.\n",
       "</pre>\n"
      ],
      "text/plain": [
       "Loading Daily data for TSCO with starting period 2022-04-04.\n"
      ]
     },
     "metadata": {},
     "output_type": "display_data"
    },
    {
     "data": {
      "text/html": [
       "<pre style=\"white-space:pre;overflow-x:auto;line-height:normal;font-family:Menlo,'DejaVu Sans Mono',consolas,'Courier New',monospace\">Loading Daily data for TSCO with starting period 2021-01-19.\n",
       "</pre>\n"
      ],
      "text/plain": [
       "Loading Daily data for TSCO with starting period 2021-01-19.\n"
      ]
     },
     "metadata": {},
     "output_type": "display_data"
    },
    {
     "data": {
      "text/html": [
       "<div>\n",
       "<style scoped>\n",
       "    .dataframe tbody tr th:only-of-type {\n",
       "        vertical-align: middle;\n",
       "    }\n",
       "\n",
       "    .dataframe tbody tr th {\n",
       "        vertical-align: top;\n",
       "    }\n",
       "\n",
       "    .dataframe thead th {\n",
       "        text-align: right;\n",
       "    }\n",
       "</style>\n",
       "<table border=\"1\" class=\"dataframe\">\n",
       "  <thead>\n",
       "    <tr style=\"text-align: right;\">\n",
       "      <th></th>\n",
       "      <th>Term</th>\n",
       "      <th>Title</th>\n",
       "      <th>Date</th>\n",
       "      <th>Link</th>\n",
       "      <th>Closing_Price</th>\n",
       "      <th>Closing_Price_7D</th>\n",
       "      <th>Sentiment</th>\n",
       "      <th>Difference</th>\n",
       "    </tr>\n",
       "  </thead>\n",
       "  <tbody>\n",
       "    <tr>\n",
       "      <th>0</th>\n",
       "      <td>AAPL</td>\n",
       "      <td>Unusual Call Option Trade in Apple (AAPL) Wort...</td>\n",
       "      <td>2023-04-18</td>\n",
       "      <td>https://news.google.com/rss/articles/CBMiV2h0d...</td>\n",
       "      <td>166.470001</td>\n",
       "      <td>166.470001</td>\n",
       "      <td>positive</td>\n",
       "      <td>0.000000</td>\n",
       "    </tr>\n",
       "    <tr>\n",
       "      <th>1</th>\n",
       "      <td>AAPL</td>\n",
       "      <td>Recent SellOff of Apple AAPL Stock by Congress...</td>\n",
       "      <td>2023-04-18</td>\n",
       "      <td>https://news.google.com/rss/articles/CBMiRWh0d...</td>\n",
       "      <td>166.470001</td>\n",
       "      <td>166.470001</td>\n",
       "      <td>positive</td>\n",
       "      <td>0.000000</td>\n",
       "    </tr>\n",
       "    <tr>\n",
       "      <th>2</th>\n",
       "      <td>AAPL</td>\n",
       "      <td>Apple's Next Growth Chapter Is Here - The Motl...</td>\n",
       "      <td>2023-04-18</td>\n",
       "      <td>https://news.google.com/rss/articles/CBMiTWh0d...</td>\n",
       "      <td>166.470001</td>\n",
       "      <td>166.470001</td>\n",
       "      <td>positive</td>\n",
       "      <td>0.000000</td>\n",
       "    </tr>\n",
       "    <tr>\n",
       "      <th>3</th>\n",
       "      <td>AAPL</td>\n",
       "      <td>Analysts are Upbeat About Apple’s (NASDAQ:AAPL...</td>\n",
       "      <td>2023-04-18</td>\n",
       "      <td>https://news.google.com/rss/articles/CBMiYmh0d...</td>\n",
       "      <td>166.470001</td>\n",
       "      <td>166.470001</td>\n",
       "      <td>neutral</td>\n",
       "      <td>0.000000</td>\n",
       "    </tr>\n",
       "    <tr>\n",
       "      <th>4</th>\n",
       "      <td>AAPL</td>\n",
       "      <td>AAPL Stock Alert: How to Earn 4.15% With Apple...</td>\n",
       "      <td>2023-04-18</td>\n",
       "      <td>https://news.google.com/rss/articles/CBMiYWh0d...</td>\n",
       "      <td>166.470001</td>\n",
       "      <td>166.470001</td>\n",
       "      <td>neutral</td>\n",
       "      <td>0.000000</td>\n",
       "    </tr>\n",
       "    <tr>\n",
       "      <th>...</th>\n",
       "      <td>...</td>\n",
       "      <td>...</td>\n",
       "      <td>...</td>\n",
       "      <td>...</td>\n",
       "      <td>...</td>\n",
       "      <td>...</td>\n",
       "      <td>...</td>\n",
       "      <td>...</td>\n",
       "    </tr>\n",
       "    <tr>\n",
       "      <th>497</th>\n",
       "      <td>TSCO</td>\n",
       "      <td>Tractor Supply leans on higher pricing to offs...</td>\n",
       "      <td>2022-07-21</td>\n",
       "      <td>https://news.google.com/rss/articles/CBMiZmh0d...</td>\n",
       "      <td>198.419998</td>\n",
       "      <td>190.809998</td>\n",
       "      <td>positive</td>\n",
       "      <td>-7.610001</td>\n",
       "    </tr>\n",
       "    <tr>\n",
       "      <th>498</th>\n",
       "      <td>TSCO</td>\n",
       "      <td>Tractor Supply Stock: Strong Growth Momentum (...</td>\n",
       "      <td>2022-06-20</td>\n",
       "      <td>https://news.google.com/rss/articles/CBMiTmh0d...</td>\n",
       "      <td>188.729996</td>\n",
       "      <td>202.509995</td>\n",
       "      <td>positive</td>\n",
       "      <td>13.779999</td>\n",
       "    </tr>\n",
       "    <tr>\n",
       "      <th>499</th>\n",
       "      <td>TSCO</td>\n",
       "      <td>Tractor Supply: Making Of Successful Retail Co...</td>\n",
       "      <td>2022-04-18</td>\n",
       "      <td>https://news.google.com/rss/articles/CBMiZGh0d...</td>\n",
       "      <td>217.529999</td>\n",
       "      <td>209.960007</td>\n",
       "      <td>positive</td>\n",
       "      <td>-7.569992</td>\n",
       "    </tr>\n",
       "    <tr>\n",
       "      <th>500</th>\n",
       "      <td>TSCO</td>\n",
       "      <td>Tractor Supply: Great Company But Overvalued (...</td>\n",
       "      <td>2022-04-03</td>\n",
       "      <td>https://news.google.com/rss/articles/CBMiVWh0d...</td>\n",
       "      <td>226.710007</td>\n",
       "      <td>236.380005</td>\n",
       "      <td>positive</td>\n",
       "      <td>9.669998</td>\n",
       "    </tr>\n",
       "    <tr>\n",
       "      <th>501</th>\n",
       "      <td>TSCO</td>\n",
       "      <td>Tractor Supply Stock (NASDAQ:TSCO), Quotes and...</td>\n",
       "      <td>2021-01-16</td>\n",
       "      <td>https://news.google.com/rss/articles/CBMiI2h0d...</td>\n",
       "      <td>157.479996</td>\n",
       "      <td>155.619995</td>\n",
       "      <td>neutral</td>\n",
       "      <td>-1.860001</td>\n",
       "    </tr>\n",
       "  </tbody>\n",
       "</table>\n",
       "<p>502 rows × 8 columns</p>\n",
       "</div>"
      ],
      "text/plain": [
       "     Term                                              Title       Date  \\\n",
       "0    AAPL  Unusual Call Option Trade in Apple (AAPL) Wort... 2023-04-18   \n",
       "1    AAPL  Recent SellOff of Apple AAPL Stock by Congress... 2023-04-18   \n",
       "2    AAPL  Apple's Next Growth Chapter Is Here - The Motl... 2023-04-18   \n",
       "3    AAPL  Analysts are Upbeat About Apple’s (NASDAQ:AAPL... 2023-04-18   \n",
       "4    AAPL  AAPL Stock Alert: How to Earn 4.15% With Apple... 2023-04-18   \n",
       "..    ...                                                ...        ...   \n",
       "497  TSCO  Tractor Supply leans on higher pricing to offs... 2022-07-21   \n",
       "498  TSCO  Tractor Supply Stock: Strong Growth Momentum (... 2022-06-20   \n",
       "499  TSCO  Tractor Supply: Making Of Successful Retail Co... 2022-04-18   \n",
       "500  TSCO  Tractor Supply: Great Company But Overvalued (... 2022-04-03   \n",
       "501  TSCO  Tractor Supply Stock (NASDAQ:TSCO), Quotes and... 2021-01-16   \n",
       "\n",
       "                                                  Link  Closing_Price  \\\n",
       "0    https://news.google.com/rss/articles/CBMiV2h0d...     166.470001   \n",
       "1    https://news.google.com/rss/articles/CBMiRWh0d...     166.470001   \n",
       "2    https://news.google.com/rss/articles/CBMiTWh0d...     166.470001   \n",
       "3    https://news.google.com/rss/articles/CBMiYmh0d...     166.470001   \n",
       "4    https://news.google.com/rss/articles/CBMiYWh0d...     166.470001   \n",
       "..                                                 ...            ...   \n",
       "497  https://news.google.com/rss/articles/CBMiZmh0d...     198.419998   \n",
       "498  https://news.google.com/rss/articles/CBMiTmh0d...     188.729996   \n",
       "499  https://news.google.com/rss/articles/CBMiZGh0d...     217.529999   \n",
       "500  https://news.google.com/rss/articles/CBMiVWh0d...     226.710007   \n",
       "501  https://news.google.com/rss/articles/CBMiI2h0d...     157.479996   \n",
       "\n",
       "     Closing_Price_7D Sentiment  Difference  \n",
       "0          166.470001  positive    0.000000  \n",
       "1          166.470001  positive    0.000000  \n",
       "2          166.470001  positive    0.000000  \n",
       "3          166.470001   neutral    0.000000  \n",
       "4          166.470001   neutral    0.000000  \n",
       "..                ...       ...         ...  \n",
       "497        190.809998  positive   -7.610001  \n",
       "498        202.509995  positive   13.779999  \n",
       "499        209.960007  positive   -7.569992  \n",
       "500        236.380005  positive    9.669998  \n",
       "501        155.619995   neutral   -1.860001  \n",
       "\n",
       "[502 rows x 8 columns]"
      ]
     },
     "execution_count": 9,
     "metadata": {},
     "output_type": "execute_result"
    }
   ],
   "source": [
    "# Choose your company for the review\n",
    "# You can list multiple companies in here if you wish to build a larger dataframe\n",
    "terms = [\"AAPL\"]\n",
    "\n",
    "# Create the DataFrame for our module\n",
    "combined_df = pd.DataFrame()\n",
    "\n",
    "# If there are multiple tickers it will loop through all of them and combine their news articles into 1 dataframe\n",
    "for term in terms:\n",
    "    # OpenBB has a .news() function which will pull in 100 recent news articles related to your Stock\n",
    "    news = openbb.news(term= term, sort= \"published\", )\n",
    "    df = pd.DataFrame({'Term': term, 'Title': news['title'], 'Date': news['published'], 'Link': news['link']})\n",
    "    df['Date'] = pd.to_datetime(df['Date']).dt.strftime('%Y-%m-%d')\n",
    "\n",
    "    # Concatenate the current dataframe to the combined dataframe\n",
    "    combined_df = pd.concat([combined_df, df], ignore_index=True)\n",
    "\n",
    "# This makes sure the date stays as DateTime for future use\n",
    "combined_df['Date'] = combined_df['Date'].astype('datetime64[ns]')\n",
    "\n",
    "# This will give us the closing price for each line from the news pull\n",
    "def get_closing_price(date, term):\n",
    "    end_date = date + pd.DateOffset(days=1) # Add 1 day to include the current date\n",
    "    start_date = date - pd.DateOffset(days=4) # Get a little bit extra in case of weekend\n",
    "    stock_data = openbb.stocks.load(symbol=term, start_date=start_date, end_date=end_date)\n",
    "    if not stock_data.empty:\n",
    "        closing_price = stock_data['Close'].iloc[-1] # Get the closing price for the last row\n",
    "        return closing_price\n",
    "    else:\n",
    "        return None\n",
    "    \n",
    "# Update combined_df to include 'Closing_Price' column\n",
    "combined_df['Closing_Price'] = combined_df.apply(lambda row: get_closing_price(row['Date'], row['Term']), axis=1)\n",
    "\n",
    "# get_closing_price 7 days later function\n",
    "def get_closing_price_7d(date, term):\n",
    "    end_date = date + pd.DateOffset(days=8) # Add 7 day to include the current date\n",
    "    start_date = date\n",
    "    stock_data = openbb.stocks.load(symbol=term, start_date=start_date, end_date=end_date)\n",
    "    if not stock_data.empty:\n",
    "        closing_price_7d = stock_data['Close'].iloc[-1] # Get the closing price for the last row\n",
    "        return closing_price_7d\n",
    "    else:\n",
    "        return None\n",
    "    \n",
    "# Update combined_df to include 'Closing_Price_7D' column\n",
    "combined_df['Closing_Price_7D'] = combined_df.apply(lambda row: get_closing_price_7d(row['Date'], row['Term']), axis=1)\n",
    "\n",
    "# Start Assigning Sentiment\n",
    "# Create sentiment_labels list\n",
    "sentiment_labels = []\n",
    "\n",
    "# Loop through all of the text and assign labels as 'Sentiment'\n",
    "for text in combined_df['Title']:\n",
    "    blob = TextBlob(text)\n",
    "    sentiment = blob.sentiment.polarity\n",
    "    if sentiment > 0:\n",
    "        sentiment_labels.append('positive')\n",
    "    elif sentiment < 0:\n",
    "        sentiment_labels.append('negative')\n",
    "    else:\n",
    "        sentiment_labels.append('neutral')\n",
    "\n",
    "combined_df['Sentiment'] = sentiment_labels\n",
    "\n",
    "# Calculate the difference in the shift for the 7days following the day of sentiment\n",
    "combined_df['Difference'] = combined_df['Closing_Price_7D'] - combined_df['Closing_Price']\n",
    "combined_df"
   ]
  },
  {
   "attachments": {},
   "cell_type": "markdown",
   "metadata": {},
   "source": [
    "---\n",
    "\n",
    "### Single out the most frequent instance of 'Sentiment' by 'Date'\n",
    "\n",
    "---"
   ]
  },
  {
   "cell_type": "code",
   "execution_count": 10,
   "metadata": {},
   "outputs": [],
   "source": [
    "# Group by 'Date', 'Term', and 'Sentiment', and count occurrences\n",
    "sentiment_counts = combined_df.groupby(['Date', 'Term', 'Sentiment']).size().reset_index(name='Count')\n",
    "\n",
    "# Get the sentiment with the highest count for each group\n",
    "idx = sentiment_counts.groupby(['Date', 'Term'])['Count'].idxmax()\n",
    "sentiment_max_count = sentiment_counts.loc[idx, ['Date', 'Term', 'Sentiment']]\n",
    "\n",
    "sentiment_max_count = sentiment_max_count.sort_values(by='Date', ascending=True)"
   ]
  },
  {
   "cell_type": "code",
   "execution_count": 11,
   "metadata": {},
   "outputs": [
    {
     "data": {
      "text/html": [
       "<pre style=\"white-space:pre;overflow-x:auto;line-height:normal;font-family:Menlo,'DejaVu Sans Mono',consolas,'Courier New',monospace\">Loading Daily data for TSCO with starting period 2021-01-13.\n",
       "</pre>\n"
      ],
      "text/plain": [
       "Loading Daily data for TSCO with starting period 2021-01-13.\n"
      ]
     },
     "metadata": {},
     "output_type": "display_data"
    },
    {
     "data": {
      "text/html": [
       "<pre style=\"white-space:pre;overflow-x:auto;line-height:normal;font-family:Menlo,'DejaVu Sans Mono',consolas,'Courier New',monospace\">Loading Daily data for TSCO with starting period 2022-03-31.\n",
       "</pre>\n"
      ],
      "text/plain": [
       "Loading Daily data for TSCO with starting period 2022-03-31.\n"
      ]
     },
     "metadata": {},
     "output_type": "display_data"
    },
    {
     "data": {
      "text/html": [
       "<pre style=\"white-space:pre;overflow-x:auto;line-height:normal;font-family:Menlo,'DejaVu Sans Mono',consolas,'Courier New',monospace\">Loading Daily data for TSCO with starting period 2022-04-18.\n",
       "</pre>\n"
      ],
      "text/plain": [
       "Loading Daily data for TSCO with starting period 2022-04-18.\n"
      ]
     },
     "metadata": {},
     "output_type": "display_data"
    },
    {
     "data": {
      "text/html": [
       "<pre style=\"white-space:pre;overflow-x:auto;line-height:normal;font-family:Menlo,'DejaVu Sans Mono',consolas,'Courier New',monospace\">Loading Daily data for TSCO with starting period 2022-06-17.\n",
       "</pre>\n"
      ],
      "text/plain": [
       "Loading Daily data for TSCO with starting period 2022-06-17.\n"
      ]
     },
     "metadata": {},
     "output_type": "display_data"
    },
    {
     "data": {
      "text/html": [
       "<pre style=\"white-space:pre;overflow-x:auto;line-height:normal;font-family:Menlo,'DejaVu Sans Mono',consolas,'Courier New',monospace\">Loading Daily data for TSCO with starting period 2022-07-18.\n",
       "</pre>\n"
      ],
      "text/plain": [
       "Loading Daily data for TSCO with starting period 2022-07-18.\n"
      ]
     },
     "metadata": {},
     "output_type": "display_data"
    },
    {
     "data": {
      "text/html": [
       "<pre style=\"white-space:pre;overflow-x:auto;line-height:normal;font-family:Menlo,'DejaVu Sans Mono',consolas,'Courier New',monospace\">Loading Daily data for AMZN with starting period 2022-07-25.\n",
       "</pre>\n"
      ],
      "text/plain": [
       "Loading Daily data for AMZN with starting period 2022-07-25.\n"
      ]
     },
     "metadata": {},
     "output_type": "display_data"
    },
    {
     "data": {
      "text/html": [
       "<pre style=\"white-space:pre;overflow-x:auto;line-height:normal;font-family:Menlo,'DejaVu Sans Mono',consolas,'Courier New',monospace\">Loading Daily data for TSCO with starting period 2022-08-12.\n",
       "</pre>\n"
      ],
      "text/plain": [
       "Loading Daily data for TSCO with starting period 2022-08-12.\n"
      ]
     },
     "metadata": {},
     "output_type": "display_data"
    },
    {
     "data": {
      "text/html": [
       "<pre style=\"white-space:pre;overflow-x:auto;line-height:normal;font-family:Menlo,'DejaVu Sans Mono',consolas,'Courier New',monospace\">Loading Daily data for TSCO with starting period 2022-09-09.\n",
       "</pre>\n"
      ],
      "text/plain": [
       "Loading Daily data for TSCO with starting period 2022-09-09.\n"
      ]
     },
     "metadata": {},
     "output_type": "display_data"
    },
    {
     "data": {
      "text/html": [
       "<pre style=\"white-space:pre;overflow-x:auto;line-height:normal;font-family:Menlo,'DejaVu Sans Mono',consolas,'Courier New',monospace\">Loading Daily data for AMZN with starting period 2022-09-12.\n",
       "</pre>\n"
      ],
      "text/plain": [
       "Loading Daily data for AMZN with starting period 2022-09-12.\n"
      ]
     },
     "metadata": {},
     "output_type": "display_data"
    },
    {
     "data": {
      "text/html": [
       "<pre style=\"white-space:pre;overflow-x:auto;line-height:normal;font-family:Menlo,'DejaVu Sans Mono',consolas,'Courier New',monospace\">Loading Daily data for TSCO with starting period 2022-09-13.\n",
       "</pre>\n"
      ],
      "text/plain": [
       "Loading Daily data for TSCO with starting period 2022-09-13.\n"
      ]
     },
     "metadata": {},
     "output_type": "display_data"
    },
    {
     "data": {
      "text/html": [
       "<pre style=\"white-space:pre;overflow-x:auto;line-height:normal;font-family:Menlo,'DejaVu Sans Mono',consolas,'Courier New',monospace\">Loading Daily data for TSCO with starting period 2022-09-30.\n",
       "</pre>\n"
      ],
      "text/plain": [
       "Loading Daily data for TSCO with starting period 2022-09-30.\n"
      ]
     },
     "metadata": {},
     "output_type": "display_data"
    },
    {
     "data": {
      "text/html": [
       "<pre style=\"white-space:pre;overflow-x:auto;line-height:normal;font-family:Menlo,'DejaVu Sans Mono',consolas,'Courier New',monospace\">Loading Daily data for AMZN with starting period 2022-10-03.\n",
       "</pre>\n"
      ],
      "text/plain": [
       "Loading Daily data for AMZN with starting period 2022-10-03.\n"
      ]
     },
     "metadata": {},
     "output_type": "display_data"
    },
    {
     "data": {
      "text/html": [
       "<pre style=\"white-space:pre;overflow-x:auto;line-height:normal;font-family:Menlo,'DejaVu Sans Mono',consolas,'Courier New',monospace\">Loading Daily data for TSCO with starting period 2022-10-07.\n",
       "</pre>\n"
      ],
      "text/plain": [
       "Loading Daily data for TSCO with starting period 2022-10-07.\n"
      ]
     },
     "metadata": {},
     "output_type": "display_data"
    },
    {
     "data": {
      "text/html": [
       "<pre style=\"white-space:pre;overflow-x:auto;line-height:normal;font-family:Menlo,'DejaVu Sans Mono',consolas,'Courier New',monospace\">Loading Daily data for TSCO with starting period 2022-10-11.\n",
       "</pre>\n"
      ],
      "text/plain": [
       "Loading Daily data for TSCO with starting period 2022-10-11.\n"
      ]
     },
     "metadata": {},
     "output_type": "display_data"
    },
    {
     "data": {
      "text/html": [
       "<pre style=\"white-space:pre;overflow-x:auto;line-height:normal;font-family:Menlo,'DejaVu Sans Mono',consolas,'Courier New',monospace\">Loading Daily data for GOOG with starting period 2022-10-14.\n",
       "</pre>\n"
      ],
      "text/plain": [
       "Loading Daily data for GOOG with starting period 2022-10-14.\n"
      ]
     },
     "metadata": {},
     "output_type": "display_data"
    },
    {
     "data": {
      "text/html": [
       "<pre style=\"white-space:pre;overflow-x:auto;line-height:normal;font-family:Menlo,'DejaVu Sans Mono',consolas,'Courier New',monospace\">Loading Daily data for AAPL with starting period 2022-10-14.\n",
       "</pre>\n"
      ],
      "text/plain": [
       "Loading Daily data for AAPL with starting period 2022-10-14.\n"
      ]
     },
     "metadata": {},
     "output_type": "display_data"
    },
    {
     "data": {
      "text/html": [
       "<pre style=\"white-space:pre;overflow-x:auto;line-height:normal;font-family:Menlo,'DejaVu Sans Mono',consolas,'Courier New',monospace\">Loading Daily data for AMZN with starting period 2022-10-17.\n",
       "</pre>\n"
      ],
      "text/plain": [
       "Loading Daily data for AMZN with starting period 2022-10-17.\n"
      ]
     },
     "metadata": {},
     "output_type": "display_data"
    },
    {
     "data": {
      "text/html": [
       "<pre style=\"white-space:pre;overflow-x:auto;line-height:normal;font-family:Menlo,'DejaVu Sans Mono',consolas,'Courier New',monospace\">Loading Daily data for AMZN with starting period 2022-10-24.\n",
       "</pre>\n"
      ],
      "text/plain": [
       "Loading Daily data for AMZN with starting period 2022-10-24.\n"
      ]
     },
     "metadata": {},
     "output_type": "display_data"
    },
    {
     "data": {
      "text/html": [
       "<pre style=\"white-space:pre;overflow-x:auto;line-height:normal;font-family:Menlo,'DejaVu Sans Mono',consolas,'Courier New',monospace\">Loading Daily data for GOOG with starting period 2022-10-24.\n",
       "</pre>\n"
      ],
      "text/plain": [
       "Loading Daily data for GOOG with starting period 2022-10-24.\n"
      ]
     },
     "metadata": {},
     "output_type": "display_data"
    },
    {
     "data": {
      "text/html": [
       "<pre style=\"white-space:pre;overflow-x:auto;line-height:normal;font-family:Menlo,'DejaVu Sans Mono',consolas,'Courier New',monospace\">Loading Daily data for TSCO with starting period 2022-10-31.\n",
       "</pre>\n"
      ],
      "text/plain": [
       "Loading Daily data for TSCO with starting period 2022-10-31.\n"
      ]
     },
     "metadata": {},
     "output_type": "display_data"
    },
    {
     "data": {
      "text/html": [
       "<pre style=\"white-space:pre;overflow-x:auto;line-height:normal;font-family:Menlo,'DejaVu Sans Mono',consolas,'Courier New',monospace\">Loading Daily data for AMZN with starting period 2022-10-31.\n",
       "</pre>\n"
      ],
      "text/plain": [
       "Loading Daily data for AMZN with starting period 2022-10-31.\n"
      ]
     },
     "metadata": {},
     "output_type": "display_data"
    },
    {
     "data": {
      "text/html": [
       "<pre style=\"white-space:pre;overflow-x:auto;line-height:normal;font-family:Menlo,'DejaVu Sans Mono',consolas,'Courier New',monospace\">Loading Daily data for GOOG with starting period 2022-10-31.\n",
       "</pre>\n"
      ],
      "text/plain": [
       "Loading Daily data for GOOG with starting period 2022-10-31.\n"
      ]
     },
     "metadata": {},
     "output_type": "display_data"
    },
    {
     "data": {
      "text/html": [
       "<pre style=\"white-space:pre;overflow-x:auto;line-height:normal;font-family:Menlo,'DejaVu Sans Mono',consolas,'Courier New',monospace\">Loading Daily data for TSCO with starting period 2022-11-03.\n",
       "</pre>\n"
      ],
      "text/plain": [
       "Loading Daily data for TSCO with starting period 2022-11-03.\n"
      ]
     },
     "metadata": {},
     "output_type": "display_data"
    },
    {
     "data": {
      "text/html": [
       "<pre style=\"white-space:pre;overflow-x:auto;line-height:normal;font-family:Menlo,'DejaVu Sans Mono',consolas,'Courier New',monospace\">Loading Daily data for GOOG with starting period 2022-11-07.\n",
       "</pre>\n"
      ],
      "text/plain": [
       "Loading Daily data for GOOG with starting period 2022-11-07.\n"
      ]
     },
     "metadata": {},
     "output_type": "display_data"
    },
    {
     "data": {
      "text/html": [
       "<pre style=\"white-space:pre;overflow-x:auto;line-height:normal;font-family:Menlo,'DejaVu Sans Mono',consolas,'Courier New',monospace\">Loading Daily data for GOOG with starting period 2022-11-07.\n",
       "</pre>\n"
      ],
      "text/plain": [
       "Loading Daily data for GOOG with starting period 2022-11-07.\n"
      ]
     },
     "metadata": {},
     "output_type": "display_data"
    },
    {
     "data": {
      "text/html": [
       "<pre style=\"white-space:pre;overflow-x:auto;line-height:normal;font-family:Menlo,'DejaVu Sans Mono',consolas,'Courier New',monospace\">Loading Daily data for TSCO with starting period 2022-11-14.\n",
       "</pre>\n"
      ],
      "text/plain": [
       "Loading Daily data for TSCO with starting period 2022-11-14.\n"
      ]
     },
     "metadata": {},
     "output_type": "display_data"
    },
    {
     "data": {
      "text/html": [
       "<pre style=\"white-space:pre;overflow-x:auto;line-height:normal;font-family:Menlo,'DejaVu Sans Mono',consolas,'Courier New',monospace\">Loading Daily data for AMZN with starting period 2022-11-14.\n",
       "</pre>\n"
      ],
      "text/plain": [
       "Loading Daily data for AMZN with starting period 2022-11-14.\n"
      ]
     },
     "metadata": {},
     "output_type": "display_data"
    },
    {
     "data": {
      "text/html": [
       "<pre style=\"white-space:pre;overflow-x:auto;line-height:normal;font-family:Menlo,'DejaVu Sans Mono',consolas,'Courier New',monospace\">Loading Daily data for AAPL with starting period 2022-11-18.\n",
       "</pre>\n"
      ],
      "text/plain": [
       "Loading Daily data for AAPL with starting period 2022-11-18.\n"
      ]
     },
     "metadata": {},
     "output_type": "display_data"
    },
    {
     "data": {
      "text/html": [
       "<pre style=\"white-space:pre;overflow-x:auto;line-height:normal;font-family:Menlo,'DejaVu Sans Mono',consolas,'Courier New',monospace\">Loading Daily data for GOOG with starting period 2022-11-21.\n",
       "</pre>\n"
      ],
      "text/plain": [
       "Loading Daily data for GOOG with starting period 2022-11-21.\n"
      ]
     },
     "metadata": {},
     "output_type": "display_data"
    },
    {
     "data": {
      "text/html": [
       "<pre style=\"white-space:pre;overflow-x:auto;line-height:normal;font-family:Menlo,'DejaVu Sans Mono',consolas,'Courier New',monospace\">Loading Daily data for TSCO with starting period 2022-11-25.\n",
       "</pre>\n"
      ],
      "text/plain": [
       "Loading Daily data for TSCO with starting period 2022-11-25.\n"
      ]
     },
     "metadata": {},
     "output_type": "display_data"
    },
    {
     "data": {
      "text/html": [
       "<pre style=\"white-space:pre;overflow-x:auto;line-height:normal;font-family:Menlo,'DejaVu Sans Mono',consolas,'Courier New',monospace\">Loading Daily data for TSCO with starting period 2022-12-02.\n",
       "</pre>\n"
      ],
      "text/plain": [
       "Loading Daily data for TSCO with starting period 2022-12-02.\n"
      ]
     },
     "metadata": {},
     "output_type": "display_data"
    },
    {
     "data": {
      "text/html": [
       "<pre style=\"white-space:pre;overflow-x:auto;line-height:normal;font-family:Menlo,'DejaVu Sans Mono',consolas,'Courier New',monospace\">Loading Daily data for AMZN with starting period 2022-12-05.\n",
       "</pre>\n"
      ],
      "text/plain": [
       "Loading Daily data for AMZN with starting period 2022-12-05.\n"
      ]
     },
     "metadata": {},
     "output_type": "display_data"
    },
    {
     "data": {
      "text/html": [
       "<pre style=\"white-space:pre;overflow-x:auto;line-height:normal;font-family:Menlo,'DejaVu Sans Mono',consolas,'Courier New',monospace\">Loading Daily data for GOOG with starting period 2022-12-09.\n",
       "</pre>\n"
      ],
      "text/plain": [
       "Loading Daily data for GOOG with starting period 2022-12-09.\n"
      ]
     },
     "metadata": {},
     "output_type": "display_data"
    },
    {
     "data": {
      "text/html": [
       "<pre style=\"white-space:pre;overflow-x:auto;line-height:normal;font-family:Menlo,'DejaVu Sans Mono',consolas,'Courier New',monospace\">Loading Daily data for AMZN with starting period 2022-12-12.\n",
       "</pre>\n"
      ],
      "text/plain": [
       "Loading Daily data for AMZN with starting period 2022-12-12.\n"
      ]
     },
     "metadata": {},
     "output_type": "display_data"
    },
    {
     "data": {
      "text/html": [
       "<pre style=\"white-space:pre;overflow-x:auto;line-height:normal;font-family:Menlo,'DejaVu Sans Mono',consolas,'Courier New',monospace\">Loading Daily data for TSCO with starting period 2022-12-12.\n",
       "</pre>\n"
      ],
      "text/plain": [
       "Loading Daily data for TSCO with starting period 2022-12-12.\n"
      ]
     },
     "metadata": {},
     "output_type": "display_data"
    },
    {
     "data": {
      "text/html": [
       "<pre style=\"white-space:pre;overflow-x:auto;line-height:normal;font-family:Menlo,'DejaVu Sans Mono',consolas,'Courier New',monospace\">Loading Daily data for AMZN with starting period 2022-12-12.\n",
       "</pre>\n"
      ],
      "text/plain": [
       "Loading Daily data for AMZN with starting period 2022-12-12.\n"
      ]
     },
     "metadata": {},
     "output_type": "display_data"
    },
    {
     "data": {
      "text/html": [
       "<pre style=\"white-space:pre;overflow-x:auto;line-height:normal;font-family:Menlo,'DejaVu Sans Mono',consolas,'Courier New',monospace\">Loading Daily data for TSCO with starting period 2022-12-12.\n",
       "</pre>\n"
      ],
      "text/plain": [
       "Loading Daily data for TSCO with starting period 2022-12-12.\n"
      ]
     },
     "metadata": {},
     "output_type": "display_data"
    },
    {
     "data": {
      "text/html": [
       "<pre style=\"white-space:pre;overflow-x:auto;line-height:normal;font-family:Menlo,'DejaVu Sans Mono',consolas,'Courier New',monospace\">Loading Daily data for AMZN with starting period 2022-12-13.\n",
       "</pre>\n"
      ],
      "text/plain": [
       "Loading Daily data for AMZN with starting period 2022-12-13.\n"
      ]
     },
     "metadata": {},
     "output_type": "display_data"
    },
    {
     "data": {
      "text/html": [
       "<pre style=\"white-space:pre;overflow-x:auto;line-height:normal;font-family:Menlo,'DejaVu Sans Mono',consolas,'Courier New',monospace\">Loading Daily data for AMZN with starting period 2022-12-14.\n",
       "</pre>\n"
      ],
      "text/plain": [
       "Loading Daily data for AMZN with starting period 2022-12-14.\n"
      ]
     },
     "metadata": {},
     "output_type": "display_data"
    },
    {
     "data": {
      "text/html": [
       "<pre style=\"white-space:pre;overflow-x:auto;line-height:normal;font-family:Menlo,'DejaVu Sans Mono',consolas,'Courier New',monospace\">Loading Daily data for AMZN with starting period 2022-12-15.\n",
       "</pre>\n"
      ],
      "text/plain": [
       "Loading Daily data for AMZN with starting period 2022-12-15.\n"
      ]
     },
     "metadata": {},
     "output_type": "display_data"
    },
    {
     "data": {
      "text/html": [
       "<pre style=\"white-space:pre;overflow-x:auto;line-height:normal;font-family:Menlo,'DejaVu Sans Mono',consolas,'Courier New',monospace\">Loading Daily data for GOOG with starting period 2022-12-19.\n",
       "</pre>\n"
      ],
      "text/plain": [
       "Loading Daily data for GOOG with starting period 2022-12-19.\n"
      ]
     },
     "metadata": {},
     "output_type": "display_data"
    },
    {
     "data": {
      "text/html": [
       "<pre style=\"white-space:pre;overflow-x:auto;line-height:normal;font-family:Menlo,'DejaVu Sans Mono',consolas,'Courier New',monospace\">Loading Daily data for AMZN with starting period 2023-01-03.\n",
       "</pre>\n"
      ],
      "text/plain": [
       "Loading Daily data for AMZN with starting period 2023-01-03.\n"
      ]
     },
     "metadata": {},
     "output_type": "display_data"
    },
    {
     "data": {
      "text/html": [
       "<pre style=\"white-space:pre;overflow-x:auto;line-height:normal;font-family:Menlo,'DejaVu Sans Mono',consolas,'Courier New',monospace\">Loading Daily data for TSCO with starting period 2023-01-03.\n",
       "</pre>\n"
      ],
      "text/plain": [
       "Loading Daily data for TSCO with starting period 2023-01-03.\n"
      ]
     },
     "metadata": {},
     "output_type": "display_data"
    },
    {
     "data": {
      "text/html": [
       "<pre style=\"white-space:pre;overflow-x:auto;line-height:normal;font-family:Menlo,'DejaVu Sans Mono',consolas,'Courier New',monospace\">Loading Daily data for AMZN with starting period 2023-01-03.\n",
       "</pre>\n"
      ],
      "text/plain": [
       "Loading Daily data for AMZN with starting period 2023-01-03.\n"
      ]
     },
     "metadata": {},
     "output_type": "display_data"
    },
    {
     "data": {
      "text/html": [
       "<pre style=\"white-space:pre;overflow-x:auto;line-height:normal;font-family:Menlo,'DejaVu Sans Mono',consolas,'Courier New',monospace\">Loading Daily data for TSCO with starting period 2023-01-03.\n",
       "</pre>\n"
      ],
      "text/plain": [
       "Loading Daily data for TSCO with starting period 2023-01-03.\n"
      ]
     },
     "metadata": {},
     "output_type": "display_data"
    },
    {
     "data": {
      "text/html": [
       "<pre style=\"white-space:pre;overflow-x:auto;line-height:normal;font-family:Menlo,'DejaVu Sans Mono',consolas,'Courier New',monospace\">Loading Daily data for TSCO with starting period 2023-01-03.\n",
       "</pre>\n"
      ],
      "text/plain": [
       "Loading Daily data for TSCO with starting period 2023-01-03.\n"
      ]
     },
     "metadata": {},
     "output_type": "display_data"
    },
    {
     "data": {
      "text/html": [
       "<pre style=\"white-space:pre;overflow-x:auto;line-height:normal;font-family:Menlo,'DejaVu Sans Mono',consolas,'Courier New',monospace\">Loading Daily data for AAPL with starting period 2023-01-03.\n",
       "</pre>\n"
      ],
      "text/plain": [
       "Loading Daily data for AAPL with starting period 2023-01-03.\n"
      ]
     },
     "metadata": {},
     "output_type": "display_data"
    },
    {
     "data": {
      "text/html": [
       "<pre style=\"white-space:pre;overflow-x:auto;line-height:normal;font-family:Menlo,'DejaVu Sans Mono',consolas,'Courier New',monospace\">Loading Daily data for GOOG with starting period 2023-01-03.\n",
       "</pre>\n"
      ],
      "text/plain": [
       "Loading Daily data for GOOG with starting period 2023-01-03.\n"
      ]
     },
     "metadata": {},
     "output_type": "display_data"
    },
    {
     "data": {
      "text/html": [
       "<pre style=\"white-space:pre;overflow-x:auto;line-height:normal;font-family:Menlo,'DejaVu Sans Mono',consolas,'Courier New',monospace\">Loading Daily data for AAPL with starting period 2023-01-06.\n",
       "</pre>\n"
      ],
      "text/plain": [
       "Loading Daily data for AAPL with starting period 2023-01-06.\n"
      ]
     },
     "metadata": {},
     "output_type": "display_data"
    },
    {
     "data": {
      "text/html": [
       "<pre style=\"white-space:pre;overflow-x:auto;line-height:normal;font-family:Menlo,'DejaVu Sans Mono',consolas,'Courier New',monospace\">Loading Daily data for AMZN with starting period 2023-01-09.\n",
       "</pre>\n"
      ],
      "text/plain": [
       "Loading Daily data for AMZN with starting period 2023-01-09.\n"
      ]
     },
     "metadata": {},
     "output_type": "display_data"
    },
    {
     "data": {
      "text/html": [
       "<pre style=\"white-space:pre;overflow-x:auto;line-height:normal;font-family:Menlo,'DejaVu Sans Mono',consolas,'Courier New',monospace\">Loading Daily data for TSCO with starting period 2023-01-12.\n",
       "</pre>\n"
      ],
      "text/plain": [
       "Loading Daily data for TSCO with starting period 2023-01-12.\n"
      ]
     },
     "metadata": {},
     "output_type": "display_data"
    },
    {
     "data": {
      "text/html": [
       "<pre style=\"white-space:pre;overflow-x:auto;line-height:normal;font-family:Menlo,'DejaVu Sans Mono',consolas,'Courier New',monospace\">Loading Daily data for AMZN with starting period 2023-01-17.\n",
       "</pre>\n"
      ],
      "text/plain": [
       "Loading Daily data for AMZN with starting period 2023-01-17.\n"
      ]
     },
     "metadata": {},
     "output_type": "display_data"
    },
    {
     "data": {
      "text/html": [
       "<pre style=\"white-space:pre;overflow-x:auto;line-height:normal;font-family:Menlo,'DejaVu Sans Mono',consolas,'Courier New',monospace\">Loading Daily data for GOOG with starting period 2023-01-17.\n",
       "</pre>\n"
      ],
      "text/plain": [
       "Loading Daily data for GOOG with starting period 2023-01-17.\n"
      ]
     },
     "metadata": {},
     "output_type": "display_data"
    },
    {
     "data": {
      "text/html": [
       "<pre style=\"white-space:pre;overflow-x:auto;line-height:normal;font-family:Menlo,'DejaVu Sans Mono',consolas,'Courier New',monospace\">Loading Daily data for TSCO with starting period 2023-01-17.\n",
       "</pre>\n"
      ],
      "text/plain": [
       "Loading Daily data for TSCO with starting period 2023-01-17.\n"
      ]
     },
     "metadata": {},
     "output_type": "display_data"
    },
    {
     "data": {
      "text/html": [
       "<pre style=\"white-space:pre;overflow-x:auto;line-height:normal;font-family:Menlo,'DejaVu Sans Mono',consolas,'Courier New',monospace\">Loading Daily data for AAPL with starting period 2023-01-17.\n",
       "</pre>\n"
      ],
      "text/plain": [
       "Loading Daily data for AAPL with starting period 2023-01-17.\n"
      ]
     },
     "metadata": {},
     "output_type": "display_data"
    },
    {
     "data": {
      "text/html": [
       "<pre style=\"white-space:pre;overflow-x:auto;line-height:normal;font-family:Menlo,'DejaVu Sans Mono',consolas,'Courier New',monospace\">Loading Daily data for TSCO with starting period 2023-01-17.\n",
       "</pre>\n"
      ],
      "text/plain": [
       "Loading Daily data for TSCO with starting period 2023-01-17.\n"
      ]
     },
     "metadata": {},
     "output_type": "display_data"
    },
    {
     "data": {
      "text/html": [
       "<pre style=\"white-space:pre;overflow-x:auto;line-height:normal;font-family:Menlo,'DejaVu Sans Mono',consolas,'Courier New',monospace\">Loading Daily data for TSCO with starting period 2023-01-18.\n",
       "</pre>\n"
      ],
      "text/plain": [
       "Loading Daily data for TSCO with starting period 2023-01-18.\n"
      ]
     },
     "metadata": {},
     "output_type": "display_data"
    },
    {
     "data": {
      "text/html": [
       "<pre style=\"white-space:pre;overflow-x:auto;line-height:normal;font-family:Menlo,'DejaVu Sans Mono',consolas,'Courier New',monospace\">Loading Daily data for AAPL with starting period 2023-01-20.\n",
       "</pre>\n"
      ],
      "text/plain": [
       "Loading Daily data for AAPL with starting period 2023-01-20.\n"
      ]
     },
     "metadata": {},
     "output_type": "display_data"
    },
    {
     "data": {
      "text/html": [
       "<pre style=\"white-space:pre;overflow-x:auto;line-height:normal;font-family:Menlo,'DejaVu Sans Mono',consolas,'Courier New',monospace\">Loading Daily data for AMZN with starting period 2023-01-20.\n",
       "</pre>\n"
      ],
      "text/plain": [
       "Loading Daily data for AMZN with starting period 2023-01-20.\n"
      ]
     },
     "metadata": {},
     "output_type": "display_data"
    },
    {
     "data": {
      "text/html": [
       "<pre style=\"white-space:pre;overflow-x:auto;line-height:normal;font-family:Menlo,'DejaVu Sans Mono',consolas,'Courier New',monospace\">Loading Daily data for AMZN with starting period 2023-01-23.\n",
       "</pre>\n"
      ],
      "text/plain": [
       "Loading Daily data for AMZN with starting period 2023-01-23.\n"
      ]
     },
     "metadata": {},
     "output_type": "display_data"
    },
    {
     "data": {
      "text/html": [
       "<pre style=\"white-space:pre;overflow-x:auto;line-height:normal;font-family:Menlo,'DejaVu Sans Mono',consolas,'Courier New',monospace\">Loading Daily data for TSCO with starting period 2023-01-23.\n",
       "</pre>\n"
      ],
      "text/plain": [
       "Loading Daily data for TSCO with starting period 2023-01-23.\n"
      ]
     },
     "metadata": {},
     "output_type": "display_data"
    },
    {
     "data": {
      "text/html": [
       "<pre style=\"white-space:pre;overflow-x:auto;line-height:normal;font-family:Menlo,'DejaVu Sans Mono',consolas,'Courier New',monospace\">Loading Daily data for AMZN with starting period 2023-01-23.\n",
       "</pre>\n"
      ],
      "text/plain": [
       "Loading Daily data for AMZN with starting period 2023-01-23.\n"
      ]
     },
     "metadata": {},
     "output_type": "display_data"
    },
    {
     "data": {
      "text/html": [
       "<pre style=\"white-space:pre;overflow-x:auto;line-height:normal;font-family:Menlo,'DejaVu Sans Mono',consolas,'Courier New',monospace\">Loading Daily data for AAPL with starting period 2023-01-23.\n",
       "</pre>\n"
      ],
      "text/plain": [
       "Loading Daily data for AAPL with starting period 2023-01-23.\n"
      ]
     },
     "metadata": {},
     "output_type": "display_data"
    },
    {
     "data": {
      "text/html": [
       "<pre style=\"white-space:pre;overflow-x:auto;line-height:normal;font-family:Menlo,'DejaVu Sans Mono',consolas,'Courier New',monospace\">Loading Daily data for TSCO with starting period 2023-01-23.\n",
       "</pre>\n"
      ],
      "text/plain": [
       "Loading Daily data for TSCO with starting period 2023-01-23.\n"
      ]
     },
     "metadata": {},
     "output_type": "display_data"
    },
    {
     "data": {
      "text/html": [
       "<pre style=\"white-space:pre;overflow-x:auto;line-height:normal;font-family:Menlo,'DejaVu Sans Mono',consolas,'Courier New',monospace\">Loading Daily data for TSCO with starting period 2023-01-24.\n",
       "</pre>\n"
      ],
      "text/plain": [
       "Loading Daily data for TSCO with starting period 2023-01-24.\n"
      ]
     },
     "metadata": {},
     "output_type": "display_data"
    },
    {
     "data": {
      "text/html": [
       "<pre style=\"white-space:pre;overflow-x:auto;line-height:normal;font-family:Menlo,'DejaVu Sans Mono',consolas,'Courier New',monospace\">Loading Daily data for TSCO with starting period 2023-01-26.\n",
       "</pre>\n"
      ],
      "text/plain": [
       "Loading Daily data for TSCO with starting period 2023-01-26.\n"
      ]
     },
     "metadata": {},
     "output_type": "display_data"
    },
    {
     "data": {
      "text/html": [
       "<pre style=\"white-space:pre;overflow-x:auto;line-height:normal;font-family:Menlo,'DejaVu Sans Mono',consolas,'Courier New',monospace\">Loading Daily data for AMZN with starting period 2023-01-27.\n",
       "</pre>\n"
      ],
      "text/plain": [
       "Loading Daily data for AMZN with starting period 2023-01-27.\n"
      ]
     },
     "metadata": {},
     "output_type": "display_data"
    },
    {
     "data": {
      "text/html": [
       "<pre style=\"white-space:pre;overflow-x:auto;line-height:normal;font-family:Menlo,'DejaVu Sans Mono',consolas,'Courier New',monospace\">Loading Daily data for GOOG with starting period 2023-01-27.\n",
       "</pre>\n"
      ],
      "text/plain": [
       "Loading Daily data for GOOG with starting period 2023-01-27.\n"
      ]
     },
     "metadata": {},
     "output_type": "display_data"
    },
    {
     "data": {
      "text/html": [
       "<pre style=\"white-space:pre;overflow-x:auto;line-height:normal;font-family:Menlo,'DejaVu Sans Mono',consolas,'Courier New',monospace\">Loading Daily data for AAPL with starting period 2023-01-30.\n",
       "</pre>\n"
      ],
      "text/plain": [
       "Loading Daily data for AAPL with starting period 2023-01-30.\n"
      ]
     },
     "metadata": {},
     "output_type": "display_data"
    },
    {
     "data": {
      "text/html": [
       "<pre style=\"white-space:pre;overflow-x:auto;line-height:normal;font-family:Menlo,'DejaVu Sans Mono',consolas,'Courier New',monospace\">Loading Daily data for TSCO with starting period 2023-01-30.\n",
       "</pre>\n"
      ],
      "text/plain": [
       "Loading Daily data for TSCO with starting period 2023-01-30.\n"
      ]
     },
     "metadata": {},
     "output_type": "display_data"
    },
    {
     "data": {
      "text/html": [
       "<pre style=\"white-space:pre;overflow-x:auto;line-height:normal;font-family:Menlo,'DejaVu Sans Mono',consolas,'Courier New',monospace\">Loading Daily data for GOOG with starting period 2023-01-30.\n",
       "</pre>\n"
      ],
      "text/plain": [
       "Loading Daily data for GOOG with starting period 2023-01-30.\n"
      ]
     },
     "metadata": {},
     "output_type": "display_data"
    },
    {
     "data": {
      "text/html": [
       "<pre style=\"white-space:pre;overflow-x:auto;line-height:normal;font-family:Menlo,'DejaVu Sans Mono',consolas,'Courier New',monospace\">Loading Daily data for AMZN with starting period 2023-01-30.\n",
       "</pre>\n"
      ],
      "text/plain": [
       "Loading Daily data for AMZN with starting period 2023-01-30.\n"
      ]
     },
     "metadata": {},
     "output_type": "display_data"
    },
    {
     "data": {
      "text/html": [
       "<pre style=\"white-space:pre;overflow-x:auto;line-height:normal;font-family:Menlo,'DejaVu Sans Mono',consolas,'Courier New',monospace\">Loading Daily data for TSCO with starting period 2023-01-30.\n",
       "</pre>\n"
      ],
      "text/plain": [
       "Loading Daily data for TSCO with starting period 2023-01-30.\n"
      ]
     },
     "metadata": {},
     "output_type": "display_data"
    },
    {
     "data": {
      "text/html": [
       "<pre style=\"white-space:pre;overflow-x:auto;line-height:normal;font-family:Menlo,'DejaVu Sans Mono',consolas,'Courier New',monospace\">Loading Daily data for MSFT with starting period 2023-01-31.\n",
       "</pre>\n"
      ],
      "text/plain": [
       "Loading Daily data for MSFT with starting period 2023-01-31.\n"
      ]
     },
     "metadata": {},
     "output_type": "display_data"
    },
    {
     "data": {
      "text/html": [
       "<pre style=\"white-space:pre;overflow-x:auto;line-height:normal;font-family:Menlo,'DejaVu Sans Mono',consolas,'Courier New',monospace\">Loading Daily data for GOOG with starting period 2023-02-03.\n",
       "</pre>\n"
      ],
      "text/plain": [
       "Loading Daily data for GOOG with starting period 2023-02-03.\n"
      ]
     },
     "metadata": {},
     "output_type": "display_data"
    },
    {
     "data": {
      "text/html": [
       "<pre style=\"white-space:pre;overflow-x:auto;line-height:normal;font-family:Menlo,'DejaVu Sans Mono',consolas,'Courier New',monospace\">Loading Daily data for TSCO with starting period 2023-02-03.\n",
       "</pre>\n"
      ],
      "text/plain": [
       "Loading Daily data for TSCO with starting period 2023-02-03.\n"
      ]
     },
     "metadata": {},
     "output_type": "display_data"
    },
    {
     "data": {
      "text/html": [
       "<pre style=\"white-space:pre;overflow-x:auto;line-height:normal;font-family:Menlo,'DejaVu Sans Mono',consolas,'Courier New',monospace\">Loading Daily data for AAPL with starting period 2023-02-03.\n",
       "</pre>\n"
      ],
      "text/plain": [
       "Loading Daily data for AAPL with starting period 2023-02-03.\n"
      ]
     },
     "metadata": {},
     "output_type": "display_data"
    },
    {
     "data": {
      "text/html": [
       "<pre style=\"white-space:pre;overflow-x:auto;line-height:normal;font-family:Menlo,'DejaVu Sans Mono',consolas,'Courier New',monospace\">Loading Daily data for AAPL with starting period 2023-02-06.\n",
       "</pre>\n"
      ],
      "text/plain": [
       "Loading Daily data for AAPL with starting period 2023-02-06.\n"
      ]
     },
     "metadata": {},
     "output_type": "display_data"
    },
    {
     "data": {
      "text/html": [
       "<pre style=\"white-space:pre;overflow-x:auto;line-height:normal;font-family:Menlo,'DejaVu Sans Mono',consolas,'Courier New',monospace\">Loading Daily data for AMZN with starting period 2023-02-06.\n",
       "</pre>\n"
      ],
      "text/plain": [
       "Loading Daily data for AMZN with starting period 2023-02-06.\n"
      ]
     },
     "metadata": {},
     "output_type": "display_data"
    },
    {
     "data": {
      "text/html": [
       "<pre style=\"white-space:pre;overflow-x:auto;line-height:normal;font-family:Menlo,'DejaVu Sans Mono',consolas,'Courier New',monospace\">Loading Daily data for AMZN with starting period 2023-02-06.\n",
       "</pre>\n"
      ],
      "text/plain": [
       "Loading Daily data for AMZN with starting period 2023-02-06.\n"
      ]
     },
     "metadata": {},
     "output_type": "display_data"
    },
    {
     "data": {
      "text/html": [
       "<pre style=\"white-space:pre;overflow-x:auto;line-height:normal;font-family:Menlo,'DejaVu Sans Mono',consolas,'Courier New',monospace\">Loading Daily data for GOOG with starting period 2023-02-06.\n",
       "</pre>\n"
      ],
      "text/plain": [
       "Loading Daily data for GOOG with starting period 2023-02-06.\n"
      ]
     },
     "metadata": {},
     "output_type": "display_data"
    },
    {
     "data": {
      "text/html": [
       "<pre style=\"white-space:pre;overflow-x:auto;line-height:normal;font-family:Menlo,'DejaVu Sans Mono',consolas,'Courier New',monospace\">Loading Daily data for TSCO with starting period 2023-02-06.\n",
       "</pre>\n"
      ],
      "text/plain": [
       "Loading Daily data for TSCO with starting period 2023-02-06.\n"
      ]
     },
     "metadata": {},
     "output_type": "display_data"
    },
    {
     "data": {
      "text/html": [
       "<pre style=\"white-space:pre;overflow-x:auto;line-height:normal;font-family:Menlo,'DejaVu Sans Mono',consolas,'Courier New',monospace\">Loading Daily data for TSCO with starting period 2023-02-06.\n",
       "</pre>\n"
      ],
      "text/plain": [
       "Loading Daily data for TSCO with starting period 2023-02-06.\n"
      ]
     },
     "metadata": {},
     "output_type": "display_data"
    },
    {
     "data": {
      "text/html": [
       "<pre style=\"white-space:pre;overflow-x:auto;line-height:normal;font-family:Menlo,'DejaVu Sans Mono',consolas,'Courier New',monospace\">Loading Daily data for AMZN with starting period 2023-02-07.\n",
       "</pre>\n"
      ],
      "text/plain": [
       "Loading Daily data for AMZN with starting period 2023-02-07.\n"
      ]
     },
     "metadata": {},
     "output_type": "display_data"
    },
    {
     "data": {
      "text/html": [
       "<pre style=\"white-space:pre;overflow-x:auto;line-height:normal;font-family:Menlo,'DejaVu Sans Mono',consolas,'Courier New',monospace\">Loading Daily data for TSCO with starting period 2023-02-09.\n",
       "</pre>\n"
      ],
      "text/plain": [
       "Loading Daily data for TSCO with starting period 2023-02-09.\n"
      ]
     },
     "metadata": {},
     "output_type": "display_data"
    },
    {
     "data": {
      "text/html": [
       "<pre style=\"white-space:pre;overflow-x:auto;line-height:normal;font-family:Menlo,'DejaVu Sans Mono',consolas,'Courier New',monospace\">Loading Daily data for AMZN with starting period 2023-02-10.\n",
       "</pre>\n"
      ],
      "text/plain": [
       "Loading Daily data for AMZN with starting period 2023-02-10.\n"
      ]
     },
     "metadata": {},
     "output_type": "display_data"
    },
    {
     "data": {
      "text/html": [
       "<pre style=\"white-space:pre;overflow-x:auto;line-height:normal;font-family:Menlo,'DejaVu Sans Mono',consolas,'Courier New',monospace\">Loading Daily data for GOOG with starting period 2023-02-10.\n",
       "</pre>\n"
      ],
      "text/plain": [
       "Loading Daily data for GOOG with starting period 2023-02-10.\n"
      ]
     },
     "metadata": {},
     "output_type": "display_data"
    },
    {
     "data": {
      "text/html": [
       "<pre style=\"white-space:pre;overflow-x:auto;line-height:normal;font-family:Menlo,'DejaVu Sans Mono',consolas,'Courier New',monospace\">Loading Daily data for AMZN with starting period 2023-02-13.\n",
       "</pre>\n"
      ],
      "text/plain": [
       "Loading Daily data for AMZN with starting period 2023-02-13.\n"
      ]
     },
     "metadata": {},
     "output_type": "display_data"
    },
    {
     "data": {
      "text/html": [
       "<pre style=\"white-space:pre;overflow-x:auto;line-height:normal;font-family:Menlo,'DejaVu Sans Mono',consolas,'Courier New',monospace\">Loading Daily data for MSFT with starting period 2023-02-13.\n",
       "</pre>\n"
      ],
      "text/plain": [
       "Loading Daily data for MSFT with starting period 2023-02-13.\n"
      ]
     },
     "metadata": {},
     "output_type": "display_data"
    },
    {
     "data": {
      "text/html": [
       "<pre style=\"white-space:pre;overflow-x:auto;line-height:normal;font-family:Menlo,'DejaVu Sans Mono',consolas,'Courier New',monospace\">Loading Daily data for AAPL with starting period 2023-02-13.\n",
       "</pre>\n"
      ],
      "text/plain": [
       "Loading Daily data for AAPL with starting period 2023-02-13.\n"
      ]
     },
     "metadata": {},
     "output_type": "display_data"
    },
    {
     "data": {
      "text/html": [
       "<pre style=\"white-space:pre;overflow-x:auto;line-height:normal;font-family:Menlo,'DejaVu Sans Mono',consolas,'Courier New',monospace\">Loading Daily data for GOOG with starting period 2023-02-13.\n",
       "</pre>\n"
      ],
      "text/plain": [
       "Loading Daily data for GOOG with starting period 2023-02-13.\n"
      ]
     },
     "metadata": {},
     "output_type": "display_data"
    },
    {
     "data": {
      "text/html": [
       "<pre style=\"white-space:pre;overflow-x:auto;line-height:normal;font-family:Menlo,'DejaVu Sans Mono',consolas,'Courier New',monospace\">Loading Daily data for AMZN with starting period 2023-02-13.\n",
       "</pre>\n"
      ],
      "text/plain": [
       "Loading Daily data for AMZN with starting period 2023-02-13.\n"
      ]
     },
     "metadata": {},
     "output_type": "display_data"
    },
    {
     "data": {
      "text/html": [
       "<pre style=\"white-space:pre;overflow-x:auto;line-height:normal;font-family:Menlo,'DejaVu Sans Mono',consolas,'Courier New',monospace\">Loading Daily data for AAPL with starting period 2023-02-13.\n",
       "</pre>\n"
      ],
      "text/plain": [
       "Loading Daily data for AAPL with starting period 2023-02-13.\n"
      ]
     },
     "metadata": {},
     "output_type": "display_data"
    },
    {
     "data": {
      "text/html": [
       "<pre style=\"white-space:pre;overflow-x:auto;line-height:normal;font-family:Menlo,'DejaVu Sans Mono',consolas,'Courier New',monospace\">Loading Daily data for TSCO with starting period 2023-02-16.\n",
       "</pre>\n"
      ],
      "text/plain": [
       "Loading Daily data for TSCO with starting period 2023-02-16.\n"
      ]
     },
     "metadata": {},
     "output_type": "display_data"
    },
    {
     "data": {
      "text/html": [
       "<pre style=\"white-space:pre;overflow-x:auto;line-height:normal;font-family:Menlo,'DejaVu Sans Mono',consolas,'Courier New',monospace\">Loading Daily data for AMZN with starting period 2023-02-17.\n",
       "</pre>\n"
      ],
      "text/plain": [
       "Loading Daily data for AMZN with starting period 2023-02-17.\n"
      ]
     },
     "metadata": {},
     "output_type": "display_data"
    },
    {
     "data": {
      "text/html": [
       "<pre style=\"white-space:pre;overflow-x:auto;line-height:normal;font-family:Menlo,'DejaVu Sans Mono',consolas,'Courier New',monospace\">Loading Daily data for TSCO with starting period 2023-02-17.\n",
       "</pre>\n"
      ],
      "text/plain": [
       "Loading Daily data for TSCO with starting period 2023-02-17.\n"
      ]
     },
     "metadata": {},
     "output_type": "display_data"
    },
    {
     "data": {
      "text/html": [
       "<pre style=\"white-space:pre;overflow-x:auto;line-height:normal;font-family:Menlo,'DejaVu Sans Mono',consolas,'Courier New',monospace\">Loading Daily data for AMZN with starting period 2023-02-21.\n",
       "</pre>\n"
      ],
      "text/plain": [
       "Loading Daily data for AMZN with starting period 2023-02-21.\n"
      ]
     },
     "metadata": {},
     "output_type": "display_data"
    },
    {
     "data": {
      "text/html": [
       "<pre style=\"white-space:pre;overflow-x:auto;line-height:normal;font-family:Menlo,'DejaVu Sans Mono',consolas,'Courier New',monospace\">Loading Daily data for AMZN with starting period 2023-02-21.\n",
       "</pre>\n"
      ],
      "text/plain": [
       "Loading Daily data for AMZN with starting period 2023-02-21.\n"
      ]
     },
     "metadata": {},
     "output_type": "display_data"
    },
    {
     "data": {
      "text/html": [
       "<pre style=\"white-space:pre;overflow-x:auto;line-height:normal;font-family:Menlo,'DejaVu Sans Mono',consolas,'Courier New',monospace\">Loading Daily data for GOOG with starting period 2023-02-21.\n",
       "</pre>\n"
      ],
      "text/plain": [
       "Loading Daily data for GOOG with starting period 2023-02-21.\n"
      ]
     },
     "metadata": {},
     "output_type": "display_data"
    },
    {
     "data": {
      "text/html": [
       "<pre style=\"white-space:pre;overflow-x:auto;line-height:normal;font-family:Menlo,'DejaVu Sans Mono',consolas,'Courier New',monospace\">Loading Daily data for AMZN with starting period 2023-02-21.\n",
       "</pre>\n"
      ],
      "text/plain": [
       "Loading Daily data for AMZN with starting period 2023-02-21.\n"
      ]
     },
     "metadata": {},
     "output_type": "display_data"
    },
    {
     "data": {
      "text/html": [
       "<pre style=\"white-space:pre;overflow-x:auto;line-height:normal;font-family:Menlo,'DejaVu Sans Mono',consolas,'Courier New',monospace\">Loading Daily data for GOOG with starting period 2023-02-22.\n",
       "</pre>\n"
      ],
      "text/plain": [
       "Loading Daily data for GOOG with starting period 2023-02-22.\n"
      ]
     },
     "metadata": {},
     "output_type": "display_data"
    },
    {
     "data": {
      "text/html": [
       "<pre style=\"white-space:pre;overflow-x:auto;line-height:normal;font-family:Menlo,'DejaVu Sans Mono',consolas,'Courier New',monospace\">Loading Daily data for AAPL with starting period 2023-02-24.\n",
       "</pre>\n"
      ],
      "text/plain": [
       "Loading Daily data for AAPL with starting period 2023-02-24.\n"
      ]
     },
     "metadata": {},
     "output_type": "display_data"
    },
    {
     "data": {
      "text/html": [
       "<pre style=\"white-space:pre;overflow-x:auto;line-height:normal;font-family:Menlo,'DejaVu Sans Mono',consolas,'Courier New',monospace\">Loading Daily data for GOOG with starting period 2023-02-24.\n",
       "</pre>\n"
      ],
      "text/plain": [
       "Loading Daily data for GOOG with starting period 2023-02-24.\n"
      ]
     },
     "metadata": {},
     "output_type": "display_data"
    },
    {
     "data": {
      "text/html": [
       "<pre style=\"white-space:pre;overflow-x:auto;line-height:normal;font-family:Menlo,'DejaVu Sans Mono',consolas,'Courier New',monospace\">Loading Daily data for TSCO with starting period 2023-02-24.\n",
       "</pre>\n"
      ],
      "text/plain": [
       "Loading Daily data for TSCO with starting period 2023-02-24.\n"
      ]
     },
     "metadata": {},
     "output_type": "display_data"
    },
    {
     "data": {
      "text/html": [
       "<pre style=\"white-space:pre;overflow-x:auto;line-height:normal;font-family:Menlo,'DejaVu Sans Mono',consolas,'Courier New',monospace\">Loading Daily data for TSCO with starting period 2023-02-27.\n",
       "</pre>\n"
      ],
      "text/plain": [
       "Loading Daily data for TSCO with starting period 2023-02-27.\n"
      ]
     },
     "metadata": {},
     "output_type": "display_data"
    },
    {
     "data": {
      "text/html": [
       "<pre style=\"white-space:pre;overflow-x:auto;line-height:normal;font-family:Menlo,'DejaVu Sans Mono',consolas,'Courier New',monospace\">Loading Daily data for GOOG with starting period 2023-02-27.\n",
       "</pre>\n"
      ],
      "text/plain": [
       "Loading Daily data for GOOG with starting period 2023-02-27.\n"
      ]
     },
     "metadata": {},
     "output_type": "display_data"
    },
    {
     "data": {
      "text/html": [
       "<pre style=\"white-space:pre;overflow-x:auto;line-height:normal;font-family:Menlo,'DejaVu Sans Mono',consolas,'Courier New',monospace\">Loading Daily data for TSCO with starting period 2023-02-27.\n",
       "</pre>\n"
      ],
      "text/plain": [
       "Loading Daily data for TSCO with starting period 2023-02-27.\n"
      ]
     },
     "metadata": {},
     "output_type": "display_data"
    },
    {
     "data": {
      "text/html": [
       "<pre style=\"white-space:pre;overflow-x:auto;line-height:normal;font-family:Menlo,'DejaVu Sans Mono',consolas,'Courier New',monospace\">Loading Daily data for AMZN with starting period 2023-02-27.\n",
       "</pre>\n"
      ],
      "text/plain": [
       "Loading Daily data for AMZN with starting period 2023-02-27.\n"
      ]
     },
     "metadata": {},
     "output_type": "display_data"
    },
    {
     "data": {
      "text/html": [
       "<pre style=\"white-space:pre;overflow-x:auto;line-height:normal;font-family:Menlo,'DejaVu Sans Mono',consolas,'Courier New',monospace\">Loading Daily data for AMZN with starting period 2023-02-27.\n",
       "</pre>\n"
      ],
      "text/plain": [
       "Loading Daily data for AMZN with starting period 2023-02-27.\n"
      ]
     },
     "metadata": {},
     "output_type": "display_data"
    },
    {
     "data": {
      "text/html": [
       "<pre style=\"white-space:pre;overflow-x:auto;line-height:normal;font-family:Menlo,'DejaVu Sans Mono',consolas,'Courier New',monospace\">Loading Daily data for GOOG with starting period 2023-02-27.\n",
       "</pre>\n"
      ],
      "text/plain": [
       "Loading Daily data for GOOG with starting period 2023-02-27.\n"
      ]
     },
     "metadata": {},
     "output_type": "display_data"
    },
    {
     "data": {
      "text/html": [
       "<pre style=\"white-space:pre;overflow-x:auto;line-height:normal;font-family:Menlo,'DejaVu Sans Mono',consolas,'Courier New',monospace\">Loading Daily data for AAPL with starting period 2023-02-28.\n",
       "</pre>\n"
      ],
      "text/plain": [
       "Loading Daily data for AAPL with starting period 2023-02-28.\n"
      ]
     },
     "metadata": {},
     "output_type": "display_data"
    },
    {
     "data": {
      "text/html": [
       "<pre style=\"white-space:pre;overflow-x:auto;line-height:normal;font-family:Menlo,'DejaVu Sans Mono',consolas,'Courier New',monospace\">Loading Daily data for AMZN with starting period 2023-02-28.\n",
       "</pre>\n"
      ],
      "text/plain": [
       "Loading Daily data for AMZN with starting period 2023-02-28.\n"
      ]
     },
     "metadata": {},
     "output_type": "display_data"
    },
    {
     "data": {
      "text/html": [
       "<pre style=\"white-space:pre;overflow-x:auto;line-height:normal;font-family:Menlo,'DejaVu Sans Mono',consolas,'Courier New',monospace\">Loading Daily data for TSCO with starting period 2023-02-28.\n",
       "</pre>\n"
      ],
      "text/plain": [
       "Loading Daily data for TSCO with starting period 2023-02-28.\n"
      ]
     },
     "metadata": {},
     "output_type": "display_data"
    },
    {
     "data": {
      "text/html": [
       "<pre style=\"white-space:pre;overflow-x:auto;line-height:normal;font-family:Menlo,'DejaVu Sans Mono',consolas,'Courier New',monospace\">Loading Daily data for AAPL with starting period 2023-03-03.\n",
       "</pre>\n"
      ],
      "text/plain": [
       "Loading Daily data for AAPL with starting period 2023-03-03.\n"
      ]
     },
     "metadata": {},
     "output_type": "display_data"
    },
    {
     "data": {
      "text/html": [
       "<pre style=\"white-space:pre;overflow-x:auto;line-height:normal;font-family:Menlo,'DejaVu Sans Mono',consolas,'Courier New',monospace\">Loading Daily data for GOOG with starting period 2023-03-03.\n",
       "</pre>\n"
      ],
      "text/plain": [
       "Loading Daily data for GOOG with starting period 2023-03-03.\n"
      ]
     },
     "metadata": {},
     "output_type": "display_data"
    },
    {
     "data": {
      "text/html": [
       "<pre style=\"white-space:pre;overflow-x:auto;line-height:normal;font-family:Menlo,'DejaVu Sans Mono',consolas,'Courier New',monospace\">Loading Daily data for TSCO with starting period 2023-03-03.\n",
       "</pre>\n"
      ],
      "text/plain": [
       "Loading Daily data for TSCO with starting period 2023-03-03.\n"
      ]
     },
     "metadata": {},
     "output_type": "display_data"
    },
    {
     "data": {
      "text/html": [
       "<pre style=\"white-space:pre;overflow-x:auto;line-height:normal;font-family:Menlo,'DejaVu Sans Mono',consolas,'Courier New',monospace\">Loading Daily data for AMZN with starting period 2023-03-06.\n",
       "</pre>\n"
      ],
      "text/plain": [
       "Loading Daily data for AMZN with starting period 2023-03-06.\n"
      ]
     },
     "metadata": {},
     "output_type": "display_data"
    },
    {
     "data": {
      "text/html": [
       "<pre style=\"white-space:pre;overflow-x:auto;line-height:normal;font-family:Menlo,'DejaVu Sans Mono',consolas,'Courier New',monospace\">Loading Daily data for TSCO with starting period 2023-03-06.\n",
       "</pre>\n"
      ],
      "text/plain": [
       "Loading Daily data for TSCO with starting period 2023-03-06.\n"
      ]
     },
     "metadata": {},
     "output_type": "display_data"
    },
    {
     "data": {
      "text/html": [
       "<pre style=\"white-space:pre;overflow-x:auto;line-height:normal;font-family:Menlo,'DejaVu Sans Mono',consolas,'Courier New',monospace\">Loading Daily data for AMZN with starting period 2023-03-06.\n",
       "</pre>\n"
      ],
      "text/plain": [
       "Loading Daily data for AMZN with starting period 2023-03-06.\n"
      ]
     },
     "metadata": {},
     "output_type": "display_data"
    },
    {
     "data": {
      "text/html": [
       "<pre style=\"white-space:pre;overflow-x:auto;line-height:normal;font-family:Menlo,'DejaVu Sans Mono',consolas,'Courier New',monospace\">Loading Daily data for TSCO with starting period 2023-03-06.\n",
       "</pre>\n"
      ],
      "text/plain": [
       "Loading Daily data for TSCO with starting period 2023-03-06.\n"
      ]
     },
     "metadata": {},
     "output_type": "display_data"
    },
    {
     "data": {
      "text/html": [
       "<pre style=\"white-space:pre;overflow-x:auto;line-height:normal;font-family:Menlo,'DejaVu Sans Mono',consolas,'Courier New',monospace\">Loading Daily data for AAPL with starting period 2023-03-06.\n",
       "</pre>\n"
      ],
      "text/plain": [
       "Loading Daily data for AAPL with starting period 2023-03-06.\n"
      ]
     },
     "metadata": {},
     "output_type": "display_data"
    },
    {
     "data": {
      "text/html": [
       "<pre style=\"white-space:pre;overflow-x:auto;line-height:normal;font-family:Menlo,'DejaVu Sans Mono',consolas,'Courier New',monospace\">Loading Daily data for AMZN with starting period 2023-03-06.\n",
       "</pre>\n"
      ],
      "text/plain": [
       "Loading Daily data for AMZN with starting period 2023-03-06.\n"
      ]
     },
     "metadata": {},
     "output_type": "display_data"
    },
    {
     "data": {
      "text/html": [
       "<pre style=\"white-space:pre;overflow-x:auto;line-height:normal;font-family:Menlo,'DejaVu Sans Mono',consolas,'Courier New',monospace\">Loading Daily data for GOOG with starting period 2023-03-07.\n",
       "</pre>\n"
      ],
      "text/plain": [
       "Loading Daily data for GOOG with starting period 2023-03-07.\n"
      ]
     },
     "metadata": {},
     "output_type": "display_data"
    },
    {
     "data": {
      "text/html": [
       "<pre style=\"white-space:pre;overflow-x:auto;line-height:normal;font-family:Menlo,'DejaVu Sans Mono',consolas,'Courier New',monospace\">Loading Daily data for AMZN with starting period 2023-03-07.\n",
       "</pre>\n"
      ],
      "text/plain": [
       "Loading Daily data for AMZN with starting period 2023-03-07.\n"
      ]
     },
     "metadata": {},
     "output_type": "display_data"
    },
    {
     "data": {
      "text/html": [
       "<pre style=\"white-space:pre;overflow-x:auto;line-height:normal;font-family:Menlo,'DejaVu Sans Mono',consolas,'Courier New',monospace\">Loading Daily data for AMZN with starting period 2023-03-10.\n",
       "</pre>\n"
      ],
      "text/plain": [
       "Loading Daily data for AMZN with starting period 2023-03-10.\n"
      ]
     },
     "metadata": {},
     "output_type": "display_data"
    },
    {
     "data": {
      "text/html": [
       "<pre style=\"white-space:pre;overflow-x:auto;line-height:normal;font-family:Menlo,'DejaVu Sans Mono',consolas,'Courier New',monospace\">Loading Daily data for MSFT with starting period 2023-03-10.\n",
       "</pre>\n"
      ],
      "text/plain": [
       "Loading Daily data for MSFT with starting period 2023-03-10.\n"
      ]
     },
     "metadata": {},
     "output_type": "display_data"
    },
    {
     "data": {
      "text/html": [
       "<pre style=\"white-space:pre;overflow-x:auto;line-height:normal;font-family:Menlo,'DejaVu Sans Mono',consolas,'Courier New',monospace\">Loading Daily data for AAPL with starting period 2023-03-13.\n",
       "</pre>\n"
      ],
      "text/plain": [
       "Loading Daily data for AAPL with starting period 2023-03-13.\n"
      ]
     },
     "metadata": {},
     "output_type": "display_data"
    },
    {
     "data": {
      "text/html": [
       "<pre style=\"white-space:pre;overflow-x:auto;line-height:normal;font-family:Menlo,'DejaVu Sans Mono',consolas,'Courier New',monospace\">Loading Daily data for TSCO with starting period 2023-03-13.\n",
       "</pre>\n"
      ],
      "text/plain": [
       "Loading Daily data for TSCO with starting period 2023-03-13.\n"
      ]
     },
     "metadata": {},
     "output_type": "display_data"
    },
    {
     "data": {
      "text/html": [
       "<pre style=\"white-space:pre;overflow-x:auto;line-height:normal;font-family:Menlo,'DejaVu Sans Mono',consolas,'Courier New',monospace\">Loading Daily data for AAPL with starting period 2023-03-13.\n",
       "</pre>\n"
      ],
      "text/plain": [
       "Loading Daily data for AAPL with starting period 2023-03-13.\n"
      ]
     },
     "metadata": {},
     "output_type": "display_data"
    },
    {
     "data": {
      "text/html": [
       "<pre style=\"white-space:pre;overflow-x:auto;line-height:normal;font-family:Menlo,'DejaVu Sans Mono',consolas,'Courier New',monospace\">Loading Daily data for TSCO with starting period 2023-03-13.\n",
       "</pre>\n"
      ],
      "text/plain": [
       "Loading Daily data for TSCO with starting period 2023-03-13.\n"
      ]
     },
     "metadata": {},
     "output_type": "display_data"
    },
    {
     "data": {
      "text/html": [
       "<pre style=\"white-space:pre;overflow-x:auto;line-height:normal;font-family:Menlo,'DejaVu Sans Mono',consolas,'Courier New',monospace\">Loading Daily data for AMZN with starting period 2023-03-13.\n",
       "</pre>\n"
      ],
      "text/plain": [
       "Loading Daily data for AMZN with starting period 2023-03-13.\n"
      ]
     },
     "metadata": {},
     "output_type": "display_data"
    },
    {
     "data": {
      "text/html": [
       "<pre style=\"white-space:pre;overflow-x:auto;line-height:normal;font-family:Menlo,'DejaVu Sans Mono',consolas,'Courier New',monospace\">Loading Daily data for TSCO with starting period 2023-03-14.\n",
       "</pre>\n"
      ],
      "text/plain": [
       "Loading Daily data for TSCO with starting period 2023-03-14.\n"
      ]
     },
     "metadata": {},
     "output_type": "display_data"
    },
    {
     "data": {
      "text/html": [
       "<pre style=\"white-space:pre;overflow-x:auto;line-height:normal;font-family:Menlo,'DejaVu Sans Mono',consolas,'Courier New',monospace\">Loading Daily data for GOOG with starting period 2023-03-16.\n",
       "</pre>\n"
      ],
      "text/plain": [
       "Loading Daily data for GOOG with starting period 2023-03-16.\n"
      ]
     },
     "metadata": {},
     "output_type": "display_data"
    },
    {
     "data": {
      "text/html": [
       "<pre style=\"white-space:pre;overflow-x:auto;line-height:normal;font-family:Menlo,'DejaVu Sans Mono',consolas,'Courier New',monospace\">Loading Daily data for MSFT with starting period 2023-03-17.\n",
       "</pre>\n"
      ],
      "text/plain": [
       "Loading Daily data for MSFT with starting period 2023-03-17.\n"
      ]
     },
     "metadata": {},
     "output_type": "display_data"
    },
    {
     "data": {
      "text/html": [
       "<pre style=\"white-space:pre;overflow-x:auto;line-height:normal;font-family:Menlo,'DejaVu Sans Mono',consolas,'Courier New',monospace\">Loading Daily data for GOOG with starting period 2023-03-17.\n",
       "</pre>\n"
      ],
      "text/plain": [
       "Loading Daily data for GOOG with starting period 2023-03-17.\n"
      ]
     },
     "metadata": {},
     "output_type": "display_data"
    },
    {
     "data": {
      "text/html": [
       "<pre style=\"white-space:pre;overflow-x:auto;line-height:normal;font-family:Menlo,'DejaVu Sans Mono',consolas,'Courier New',monospace\">Loading Daily data for TSCO with starting period 2023-03-17.\n",
       "</pre>\n"
      ],
      "text/plain": [
       "Loading Daily data for TSCO with starting period 2023-03-17.\n"
      ]
     },
     "metadata": {},
     "output_type": "display_data"
    },
    {
     "data": {
      "text/html": [
       "<pre style=\"white-space:pre;overflow-x:auto;line-height:normal;font-family:Menlo,'DejaVu Sans Mono',consolas,'Courier New',monospace\">Loading Daily data for AAPL with starting period 2023-03-17.\n",
       "</pre>\n"
      ],
      "text/plain": [
       "Loading Daily data for AAPL with starting period 2023-03-17.\n"
      ]
     },
     "metadata": {},
     "output_type": "display_data"
    },
    {
     "data": {
      "text/html": [
       "<pre style=\"white-space:pre;overflow-x:auto;line-height:normal;font-family:Menlo,'DejaVu Sans Mono',consolas,'Courier New',monospace\">Loading Daily data for AMZN with starting period 2023-03-17.\n",
       "</pre>\n"
      ],
      "text/plain": [
       "Loading Daily data for AMZN with starting period 2023-03-17.\n"
      ]
     },
     "metadata": {},
     "output_type": "display_data"
    },
    {
     "data": {
      "text/html": [
       "<pre style=\"white-space:pre;overflow-x:auto;line-height:normal;font-family:Menlo,'DejaVu Sans Mono',consolas,'Courier New',monospace\">Loading Daily data for AAPL with starting period 2023-03-20.\n",
       "</pre>\n"
      ],
      "text/plain": [
       "Loading Daily data for AAPL with starting period 2023-03-20.\n"
      ]
     },
     "metadata": {},
     "output_type": "display_data"
    },
    {
     "data": {
      "text/html": [
       "<pre style=\"white-space:pre;overflow-x:auto;line-height:normal;font-family:Menlo,'DejaVu Sans Mono',consolas,'Courier New',monospace\">Loading Daily data for GOOG with starting period 2023-03-20.\n",
       "</pre>\n"
      ],
      "text/plain": [
       "Loading Daily data for GOOG with starting period 2023-03-20.\n"
      ]
     },
     "metadata": {},
     "output_type": "display_data"
    },
    {
     "data": {
      "text/html": [
       "<pre style=\"white-space:pre;overflow-x:auto;line-height:normal;font-family:Menlo,'DejaVu Sans Mono',consolas,'Courier New',monospace\">Loading Daily data for MSFT with starting period 2023-03-20.\n",
       "</pre>\n"
      ],
      "text/plain": [
       "Loading Daily data for MSFT with starting period 2023-03-20.\n"
      ]
     },
     "metadata": {},
     "output_type": "display_data"
    },
    {
     "data": {
      "text/html": [
       "<pre style=\"white-space:pre;overflow-x:auto;line-height:normal;font-family:Menlo,'DejaVu Sans Mono',consolas,'Courier New',monospace\">Loading Daily data for TSCO with starting period 2023-03-20.\n",
       "</pre>\n"
      ],
      "text/plain": [
       "Loading Daily data for TSCO with starting period 2023-03-20.\n"
      ]
     },
     "metadata": {},
     "output_type": "display_data"
    },
    {
     "data": {
      "text/html": [
       "<pre style=\"white-space:pre;overflow-x:auto;line-height:normal;font-family:Menlo,'DejaVu Sans Mono',consolas,'Courier New',monospace\">Loading Daily data for GOOG with starting period 2023-03-20.\n",
       "</pre>\n"
      ],
      "text/plain": [
       "Loading Daily data for GOOG with starting period 2023-03-20.\n"
      ]
     },
     "metadata": {},
     "output_type": "display_data"
    },
    {
     "data": {
      "text/html": [
       "<pre style=\"white-space:pre;overflow-x:auto;line-height:normal;font-family:Menlo,'DejaVu Sans Mono',consolas,'Courier New',monospace\">Loading Daily data for MSFT with starting period 2023-03-20.\n",
       "</pre>\n"
      ],
      "text/plain": [
       "Loading Daily data for MSFT with starting period 2023-03-20.\n"
      ]
     },
     "metadata": {},
     "output_type": "display_data"
    },
    {
     "data": {
      "text/html": [
       "<pre style=\"white-space:pre;overflow-x:auto;line-height:normal;font-family:Menlo,'DejaVu Sans Mono',consolas,'Courier New',monospace\">Loading Daily data for AAPL with starting period 2023-03-20.\n",
       "</pre>\n"
      ],
      "text/plain": [
       "Loading Daily data for AAPL with starting period 2023-03-20.\n"
      ]
     },
     "metadata": {},
     "output_type": "display_data"
    },
    {
     "data": {
      "text/html": [
       "<pre style=\"white-space:pre;overflow-x:auto;line-height:normal;font-family:Menlo,'DejaVu Sans Mono',consolas,'Courier New',monospace\">Loading Daily data for AMZN with starting period 2023-03-20.\n",
       "</pre>\n"
      ],
      "text/plain": [
       "Loading Daily data for AMZN with starting period 2023-03-20.\n"
      ]
     },
     "metadata": {},
     "output_type": "display_data"
    },
    {
     "data": {
      "text/html": [
       "<pre style=\"white-space:pre;overflow-x:auto;line-height:normal;font-family:Menlo,'DejaVu Sans Mono',consolas,'Courier New',monospace\">Loading Daily data for AAPL with starting period 2023-03-20.\n",
       "</pre>\n"
      ],
      "text/plain": [
       "Loading Daily data for AAPL with starting period 2023-03-20.\n"
      ]
     },
     "metadata": {},
     "output_type": "display_data"
    },
    {
     "data": {
      "text/html": [
       "<pre style=\"white-space:pre;overflow-x:auto;line-height:normal;font-family:Menlo,'DejaVu Sans Mono',consolas,'Courier New',monospace\">Loading Daily data for AMZN with starting period 2023-03-20.\n",
       "</pre>\n"
      ],
      "text/plain": [
       "Loading Daily data for AMZN with starting period 2023-03-20.\n"
      ]
     },
     "metadata": {},
     "output_type": "display_data"
    },
    {
     "data": {
      "text/html": [
       "<pre style=\"white-space:pre;overflow-x:auto;line-height:normal;font-family:Menlo,'DejaVu Sans Mono',consolas,'Courier New',monospace\">Loading Daily data for GOOG with starting period 2023-03-20.\n",
       "</pre>\n"
      ],
      "text/plain": [
       "Loading Daily data for GOOG with starting period 2023-03-20.\n"
      ]
     },
     "metadata": {},
     "output_type": "display_data"
    },
    {
     "data": {
      "text/html": [
       "<pre style=\"white-space:pre;overflow-x:auto;line-height:normal;font-family:Menlo,'DejaVu Sans Mono',consolas,'Courier New',monospace\">Loading Daily data for MSFT with starting period 2023-03-20.\n",
       "</pre>\n"
      ],
      "text/plain": [
       "Loading Daily data for MSFT with starting period 2023-03-20.\n"
      ]
     },
     "metadata": {},
     "output_type": "display_data"
    },
    {
     "data": {
      "text/html": [
       "<pre style=\"white-space:pre;overflow-x:auto;line-height:normal;font-family:Menlo,'DejaVu Sans Mono',consolas,'Courier New',monospace\">Loading Daily data for TSCO with starting period 2023-03-20.\n",
       "</pre>\n"
      ],
      "text/plain": [
       "Loading Daily data for TSCO with starting period 2023-03-20.\n"
      ]
     },
     "metadata": {},
     "output_type": "display_data"
    },
    {
     "data": {
      "text/html": [
       "<pre style=\"white-space:pre;overflow-x:auto;line-height:normal;font-family:Menlo,'DejaVu Sans Mono',consolas,'Courier New',monospace\">Loading Daily data for TSCO with starting period 2023-03-21.\n",
       "</pre>\n"
      ],
      "text/plain": [
       "Loading Daily data for TSCO with starting period 2023-03-21.\n"
      ]
     },
     "metadata": {},
     "output_type": "display_data"
    },
    {
     "data": {
      "text/html": [
       "<pre style=\"white-space:pre;overflow-x:auto;line-height:normal;font-family:Menlo,'DejaVu Sans Mono',consolas,'Courier New',monospace\">Loading Daily data for MSFT with starting period 2023-03-21.\n",
       "</pre>\n"
      ],
      "text/plain": [
       "Loading Daily data for MSFT with starting period 2023-03-21.\n"
      ]
     },
     "metadata": {},
     "output_type": "display_data"
    },
    {
     "data": {
      "text/html": [
       "<pre style=\"white-space:pre;overflow-x:auto;line-height:normal;font-family:Menlo,'DejaVu Sans Mono',consolas,'Courier New',monospace\">Loading Daily data for AMZN with starting period 2023-03-21.\n",
       "</pre>\n"
      ],
      "text/plain": [
       "Loading Daily data for AMZN with starting period 2023-03-21.\n"
      ]
     },
     "metadata": {},
     "output_type": "display_data"
    },
    {
     "data": {
      "text/html": [
       "<pre style=\"white-space:pre;overflow-x:auto;line-height:normal;font-family:Menlo,'DejaVu Sans Mono',consolas,'Courier New',monospace\">Loading Daily data for AAPL with starting period 2023-03-21.\n",
       "</pre>\n"
      ],
      "text/plain": [
       "Loading Daily data for AAPL with starting period 2023-03-21.\n"
      ]
     },
     "metadata": {},
     "output_type": "display_data"
    },
    {
     "data": {
      "text/html": [
       "<pre style=\"white-space:pre;overflow-x:auto;line-height:normal;font-family:Menlo,'DejaVu Sans Mono',consolas,'Courier New',monospace\">Loading Daily data for AAPL with starting period 2023-03-22.\n",
       "</pre>\n"
      ],
      "text/plain": [
       "Loading Daily data for AAPL with starting period 2023-03-22.\n"
      ]
     },
     "metadata": {},
     "output_type": "display_data"
    },
    {
     "data": {
      "text/html": [
       "<pre style=\"white-space:pre;overflow-x:auto;line-height:normal;font-family:Menlo,'DejaVu Sans Mono',consolas,'Courier New',monospace\">Loading Daily data for AAPL with starting period 2023-03-23.\n",
       "</pre>\n"
      ],
      "text/plain": [
       "Loading Daily data for AAPL with starting period 2023-03-23.\n"
      ]
     },
     "metadata": {},
     "output_type": "display_data"
    },
    {
     "data": {
      "text/html": [
       "<pre style=\"white-space:pre;overflow-x:auto;line-height:normal;font-family:Menlo,'DejaVu Sans Mono',consolas,'Courier New',monospace\">Loading Daily data for AMZN with starting period 2023-03-23.\n",
       "</pre>\n"
      ],
      "text/plain": [
       "Loading Daily data for AMZN with starting period 2023-03-23.\n"
      ]
     },
     "metadata": {},
     "output_type": "display_data"
    },
    {
     "data": {
      "text/html": [
       "<pre style=\"white-space:pre;overflow-x:auto;line-height:normal;font-family:Menlo,'DejaVu Sans Mono',consolas,'Courier New',monospace\">Loading Daily data for GOOG with starting period 2023-03-23.\n",
       "</pre>\n"
      ],
      "text/plain": [
       "Loading Daily data for GOOG with starting period 2023-03-23.\n"
      ]
     },
     "metadata": {},
     "output_type": "display_data"
    },
    {
     "data": {
      "text/html": [
       "<pre style=\"white-space:pre;overflow-x:auto;line-height:normal;font-family:Menlo,'DejaVu Sans Mono',consolas,'Courier New',monospace\">Loading Daily data for MSFT with starting period 2023-03-23.\n",
       "</pre>\n"
      ],
      "text/plain": [
       "Loading Daily data for MSFT with starting period 2023-03-23.\n"
      ]
     },
     "metadata": {},
     "output_type": "display_data"
    },
    {
     "data": {
      "text/html": [
       "<pre style=\"white-space:pre;overflow-x:auto;line-height:normal;font-family:Menlo,'DejaVu Sans Mono',consolas,'Courier New',monospace\">Loading Daily data for TSCO with starting period 2023-03-23.\n",
       "</pre>\n"
      ],
      "text/plain": [
       "Loading Daily data for TSCO with starting period 2023-03-23.\n"
      ]
     },
     "metadata": {},
     "output_type": "display_data"
    },
    {
     "data": {
      "text/html": [
       "<pre style=\"white-space:pre;overflow-x:auto;line-height:normal;font-family:Menlo,'DejaVu Sans Mono',consolas,'Courier New',monospace\">Loading Daily data for AAPL with starting period 2023-03-24.\n",
       "</pre>\n"
      ],
      "text/plain": [
       "Loading Daily data for AAPL with starting period 2023-03-24.\n"
      ]
     },
     "metadata": {},
     "output_type": "display_data"
    },
    {
     "data": {
      "text/html": [
       "<pre style=\"white-space:pre;overflow-x:auto;line-height:normal;font-family:Menlo,'DejaVu Sans Mono',consolas,'Courier New',monospace\">Loading Daily data for AMZN with starting period 2023-03-24.\n",
       "</pre>\n"
      ],
      "text/plain": [
       "Loading Daily data for AMZN with starting period 2023-03-24.\n"
      ]
     },
     "metadata": {},
     "output_type": "display_data"
    },
    {
     "data": {
      "text/html": [
       "<pre style=\"white-space:pre;overflow-x:auto;line-height:normal;font-family:Menlo,'DejaVu Sans Mono',consolas,'Courier New',monospace\">Loading Daily data for GOOG with starting period 2023-03-24.\n",
       "</pre>\n"
      ],
      "text/plain": [
       "Loading Daily data for GOOG with starting period 2023-03-24.\n"
      ]
     },
     "metadata": {},
     "output_type": "display_data"
    },
    {
     "data": {
      "text/html": [
       "<pre style=\"white-space:pre;overflow-x:auto;line-height:normal;font-family:Menlo,'DejaVu Sans Mono',consolas,'Courier New',monospace\">Loading Daily data for MSFT with starting period 2023-03-24.\n",
       "</pre>\n"
      ],
      "text/plain": [
       "Loading Daily data for MSFT with starting period 2023-03-24.\n"
      ]
     },
     "metadata": {},
     "output_type": "display_data"
    },
    {
     "data": {
      "text/html": [
       "<pre style=\"white-space:pre;overflow-x:auto;line-height:normal;font-family:Menlo,'DejaVu Sans Mono',consolas,'Courier New',monospace\">Loading Daily data for TSCO with starting period 2023-03-24.\n",
       "</pre>\n"
      ],
      "text/plain": [
       "Loading Daily data for TSCO with starting period 2023-03-24.\n"
      ]
     },
     "metadata": {},
     "output_type": "display_data"
    },
    {
     "data": {
      "text/html": [
       "<pre style=\"white-space:pre;overflow-x:auto;line-height:normal;font-family:Menlo,'DejaVu Sans Mono',consolas,'Courier New',monospace\">Loading Daily data for GOOG with starting period 2023-03-27.\n",
       "</pre>\n"
      ],
      "text/plain": [
       "Loading Daily data for GOOG with starting period 2023-03-27.\n"
      ]
     },
     "metadata": {},
     "output_type": "display_data"
    },
    {
     "data": {
      "text/html": [
       "<pre style=\"white-space:pre;overflow-x:auto;line-height:normal;font-family:Menlo,'DejaVu Sans Mono',consolas,'Courier New',monospace\">Loading Daily data for MSFT with starting period 2023-03-27.\n",
       "</pre>\n"
      ],
      "text/plain": [
       "Loading Daily data for MSFT with starting period 2023-03-27.\n"
      ]
     },
     "metadata": {},
     "output_type": "display_data"
    },
    {
     "data": {
      "text/html": [
       "<pre style=\"white-space:pre;overflow-x:auto;line-height:normal;font-family:Menlo,'DejaVu Sans Mono',consolas,'Courier New',monospace\">Loading Daily data for AAPL with starting period 2023-03-27.\n",
       "</pre>\n"
      ],
      "text/plain": [
       "Loading Daily data for AAPL with starting period 2023-03-27.\n"
      ]
     },
     "metadata": {},
     "output_type": "display_data"
    },
    {
     "data": {
      "text/html": [
       "<pre style=\"white-space:pre;overflow-x:auto;line-height:normal;font-family:Menlo,'DejaVu Sans Mono',consolas,'Courier New',monospace\">Loading Daily data for AAPL with starting period 2023-03-27.\n",
       "</pre>\n"
      ],
      "text/plain": [
       "Loading Daily data for AAPL with starting period 2023-03-27.\n"
      ]
     },
     "metadata": {},
     "output_type": "display_data"
    },
    {
     "data": {
      "text/html": [
       "<pre style=\"white-space:pre;overflow-x:auto;line-height:normal;font-family:Menlo,'DejaVu Sans Mono',consolas,'Courier New',monospace\">Loading Daily data for AMZN with starting period 2023-03-27.\n",
       "</pre>\n"
      ],
      "text/plain": [
       "Loading Daily data for AMZN with starting period 2023-03-27.\n"
      ]
     },
     "metadata": {},
     "output_type": "display_data"
    },
    {
     "data": {
      "text/html": [
       "<pre style=\"white-space:pre;overflow-x:auto;line-height:normal;font-family:Menlo,'DejaVu Sans Mono',consolas,'Courier New',monospace\">Loading Daily data for GOOG with starting period 2023-03-27.\n",
       "</pre>\n"
      ],
      "text/plain": [
       "Loading Daily data for GOOG with starting period 2023-03-27.\n"
      ]
     },
     "metadata": {},
     "output_type": "display_data"
    },
    {
     "data": {
      "text/html": [
       "<pre style=\"white-space:pre;overflow-x:auto;line-height:normal;font-family:Menlo,'DejaVu Sans Mono',consolas,'Courier New',monospace\">Loading Daily data for MSFT with starting period 2023-03-27.\n",
       "</pre>\n"
      ],
      "text/plain": [
       "Loading Daily data for MSFT with starting period 2023-03-27.\n"
      ]
     },
     "metadata": {},
     "output_type": "display_data"
    },
    {
     "data": {
      "text/html": [
       "<pre style=\"white-space:pre;overflow-x:auto;line-height:normal;font-family:Menlo,'DejaVu Sans Mono',consolas,'Courier New',monospace\">Loading Daily data for AAPL with starting period 2023-03-27.\n",
       "</pre>\n"
      ],
      "text/plain": [
       "Loading Daily data for AAPL with starting period 2023-03-27.\n"
      ]
     },
     "metadata": {},
     "output_type": "display_data"
    },
    {
     "data": {
      "text/html": [
       "<pre style=\"white-space:pre;overflow-x:auto;line-height:normal;font-family:Menlo,'DejaVu Sans Mono',consolas,'Courier New',monospace\">Loading Daily data for GOOG with starting period 2023-03-27.\n",
       "</pre>\n"
      ],
      "text/plain": [
       "Loading Daily data for GOOG with starting period 2023-03-27.\n"
      ]
     },
     "metadata": {},
     "output_type": "display_data"
    },
    {
     "data": {
      "text/html": [
       "<pre style=\"white-space:pre;overflow-x:auto;line-height:normal;font-family:Menlo,'DejaVu Sans Mono',consolas,'Courier New',monospace\">Loading Daily data for MSFT with starting period 2023-03-27.\n",
       "</pre>\n"
      ],
      "text/plain": [
       "Loading Daily data for MSFT with starting period 2023-03-27.\n"
      ]
     },
     "metadata": {},
     "output_type": "display_data"
    },
    {
     "data": {
      "text/html": [
       "<pre style=\"white-space:pre;overflow-x:auto;line-height:normal;font-family:Menlo,'DejaVu Sans Mono',consolas,'Courier New',monospace\">Loading Daily data for MSFT with starting period 2023-03-28.\n",
       "</pre>\n"
      ],
      "text/plain": [
       "Loading Daily data for MSFT with starting period 2023-03-28.\n"
      ]
     },
     "metadata": {},
     "output_type": "display_data"
    },
    {
     "data": {
      "text/html": [
       "<pre style=\"white-space:pre;overflow-x:auto;line-height:normal;font-family:Menlo,'DejaVu Sans Mono',consolas,'Courier New',monospace\">Loading Daily data for TSCO with starting period 2023-03-28.\n",
       "</pre>\n"
      ],
      "text/plain": [
       "Loading Daily data for TSCO with starting period 2023-03-28.\n"
      ]
     },
     "metadata": {},
     "output_type": "display_data"
    },
    {
     "data": {
      "text/html": [
       "<pre style=\"white-space:pre;overflow-x:auto;line-height:normal;font-family:Menlo,'DejaVu Sans Mono',consolas,'Courier New',monospace\">Loading Daily data for AAPL with starting period 2023-03-30.\n",
       "</pre>\n"
      ],
      "text/plain": [
       "Loading Daily data for AAPL with starting period 2023-03-30.\n"
      ]
     },
     "metadata": {},
     "output_type": "display_data"
    },
    {
     "data": {
      "text/html": [
       "<pre style=\"white-space:pre;overflow-x:auto;line-height:normal;font-family:Menlo,'DejaVu Sans Mono',consolas,'Courier New',monospace\">Loading Daily data for AMZN with starting period 2023-03-30.\n",
       "</pre>\n"
      ],
      "text/plain": [
       "Loading Daily data for AMZN with starting period 2023-03-30.\n"
      ]
     },
     "metadata": {},
     "output_type": "display_data"
    },
    {
     "data": {
      "text/html": [
       "<pre style=\"white-space:pre;overflow-x:auto;line-height:normal;font-family:Menlo,'DejaVu Sans Mono',consolas,'Courier New',monospace\">Loading Daily data for GOOG with starting period 2023-03-30.\n",
       "</pre>\n"
      ],
      "text/plain": [
       "Loading Daily data for GOOG with starting period 2023-03-30.\n"
      ]
     },
     "metadata": {},
     "output_type": "display_data"
    },
    {
     "data": {
      "text/html": [
       "<pre style=\"white-space:pre;overflow-x:auto;line-height:normal;font-family:Menlo,'DejaVu Sans Mono',consolas,'Courier New',monospace\">Loading Daily data for TSCO with starting period 2023-03-31.\n",
       "</pre>\n"
      ],
      "text/plain": [
       "Loading Daily data for TSCO with starting period 2023-03-31.\n"
      ]
     },
     "metadata": {},
     "output_type": "display_data"
    },
    {
     "data": {
      "text/html": [
       "<pre style=\"white-space:pre;overflow-x:auto;line-height:normal;font-family:Menlo,'DejaVu Sans Mono',consolas,'Courier New',monospace\">Loading Daily data for MSFT with starting period 2023-03-31.\n",
       "</pre>\n"
      ],
      "text/plain": [
       "Loading Daily data for MSFT with starting period 2023-03-31.\n"
      ]
     },
     "metadata": {},
     "output_type": "display_data"
    },
    {
     "data": {
      "text/html": [
       "<pre style=\"white-space:pre;overflow-x:auto;line-height:normal;font-family:Menlo,'DejaVu Sans Mono',consolas,'Courier New',monospace\">Loading Daily data for AMZN with starting period 2023-03-31.\n",
       "</pre>\n"
      ],
      "text/plain": [
       "Loading Daily data for AMZN with starting period 2023-03-31.\n"
      ]
     },
     "metadata": {},
     "output_type": "display_data"
    },
    {
     "data": {
      "text/html": [
       "<pre style=\"white-space:pre;overflow-x:auto;line-height:normal;font-family:Menlo,'DejaVu Sans Mono',consolas,'Courier New',monospace\">Loading Daily data for AAPL with starting period 2023-03-31.\n",
       "</pre>\n"
      ],
      "text/plain": [
       "Loading Daily data for AAPL with starting period 2023-03-31.\n"
      ]
     },
     "metadata": {},
     "output_type": "display_data"
    },
    {
     "data": {
      "text/html": [
       "<pre style=\"white-space:pre;overflow-x:auto;line-height:normal;font-family:Menlo,'DejaVu Sans Mono',consolas,'Courier New',monospace\">Loading Daily data for GOOG with starting period 2023-03-31.\n",
       "</pre>\n"
      ],
      "text/plain": [
       "Loading Daily data for GOOG with starting period 2023-03-31.\n"
      ]
     },
     "metadata": {},
     "output_type": "display_data"
    },
    {
     "data": {
      "text/html": [
       "<pre style=\"white-space:pre;overflow-x:auto;line-height:normal;font-family:Menlo,'DejaVu Sans Mono',consolas,'Courier New',monospace\">Loading Daily data for AAPL with starting period 2023-04-03.\n",
       "</pre>\n"
      ],
      "text/plain": [
       "Loading Daily data for AAPL with starting period 2023-04-03.\n"
      ]
     },
     "metadata": {},
     "output_type": "display_data"
    },
    {
     "data": {
      "text/html": [
       "<pre style=\"white-space:pre;overflow-x:auto;line-height:normal;font-family:Menlo,'DejaVu Sans Mono',consolas,'Courier New',monospace\">Loading Daily data for AMZN with starting period 2023-04-03.\n",
       "</pre>\n"
      ],
      "text/plain": [
       "Loading Daily data for AMZN with starting period 2023-04-03.\n"
      ]
     },
     "metadata": {},
     "output_type": "display_data"
    },
    {
     "data": {
      "text/html": [
       "<pre style=\"white-space:pre;overflow-x:auto;line-height:normal;font-family:Menlo,'DejaVu Sans Mono',consolas,'Courier New',monospace\">Loading Daily data for GOOG with starting period 2023-04-03.\n",
       "</pre>\n"
      ],
      "text/plain": [
       "Loading Daily data for GOOG with starting period 2023-04-03.\n"
      ]
     },
     "metadata": {},
     "output_type": "display_data"
    },
    {
     "data": {
      "text/html": [
       "<pre style=\"white-space:pre;overflow-x:auto;line-height:normal;font-family:Menlo,'DejaVu Sans Mono',consolas,'Courier New',monospace\">Loading Daily data for MSFT with starting period 2023-04-03.\n",
       "</pre>\n"
      ],
      "text/plain": [
       "Loading Daily data for MSFT with starting period 2023-04-03.\n"
      ]
     },
     "metadata": {},
     "output_type": "display_data"
    },
    {
     "data": {
      "text/html": [
       "<pre style=\"white-space:pre;overflow-x:auto;line-height:normal;font-family:Menlo,'DejaVu Sans Mono',consolas,'Courier New',monospace\">Loading Daily data for TSCO with starting period 2023-04-03.\n",
       "</pre>\n"
      ],
      "text/plain": [
       "Loading Daily data for TSCO with starting period 2023-04-03.\n"
      ]
     },
     "metadata": {},
     "output_type": "display_data"
    },
    {
     "data": {
      "text/html": [
       "<pre style=\"white-space:pre;overflow-x:auto;line-height:normal;font-family:Menlo,'DejaVu Sans Mono',consolas,'Courier New',monospace\">Loading Daily data for AAPL with starting period 2023-04-03.\n",
       "</pre>\n"
      ],
      "text/plain": [
       "Loading Daily data for AAPL with starting period 2023-04-03.\n"
      ]
     },
     "metadata": {},
     "output_type": "display_data"
    },
    {
     "data": {
      "text/html": [
       "<pre style=\"white-space:pre;overflow-x:auto;line-height:normal;font-family:Menlo,'DejaVu Sans Mono',consolas,'Courier New',monospace\">Loading Daily data for AMZN with starting period 2023-04-03.\n",
       "</pre>\n"
      ],
      "text/plain": [
       "Loading Daily data for AMZN with starting period 2023-04-03.\n"
      ]
     },
     "metadata": {},
     "output_type": "display_data"
    },
    {
     "data": {
      "text/html": [
       "<pre style=\"white-space:pre;overflow-x:auto;line-height:normal;font-family:Menlo,'DejaVu Sans Mono',consolas,'Courier New',monospace\">Loading Daily data for GOOG with starting period 2023-04-03.\n",
       "</pre>\n"
      ],
      "text/plain": [
       "Loading Daily data for GOOG with starting period 2023-04-03.\n"
      ]
     },
     "metadata": {},
     "output_type": "display_data"
    },
    {
     "data": {
      "text/html": [
       "<pre style=\"white-space:pre;overflow-x:auto;line-height:normal;font-family:Menlo,'DejaVu Sans Mono',consolas,'Courier New',monospace\">Loading Daily data for MSFT with starting period 2023-04-03.\n",
       "</pre>\n"
      ],
      "text/plain": [
       "Loading Daily data for MSFT with starting period 2023-04-03.\n"
      ]
     },
     "metadata": {},
     "output_type": "display_data"
    },
    {
     "data": {
      "text/html": [
       "<pre style=\"white-space:pre;overflow-x:auto;line-height:normal;font-family:Menlo,'DejaVu Sans Mono',consolas,'Courier New',monospace\">Loading Daily data for TSCO with starting period 2023-04-03.\n",
       "</pre>\n"
      ],
      "text/plain": [
       "Loading Daily data for TSCO with starting period 2023-04-03.\n"
      ]
     },
     "metadata": {},
     "output_type": "display_data"
    },
    {
     "data": {
      "text/html": [
       "<pre style=\"white-space:pre;overflow-x:auto;line-height:normal;font-family:Menlo,'DejaVu Sans Mono',consolas,'Courier New',monospace\">Loading Daily data for AMZN with starting period 2023-04-03.\n",
       "</pre>\n"
      ],
      "text/plain": [
       "Loading Daily data for AMZN with starting period 2023-04-03.\n"
      ]
     },
     "metadata": {},
     "output_type": "display_data"
    },
    {
     "data": {
      "text/html": [
       "<pre style=\"white-space:pre;overflow-x:auto;line-height:normal;font-family:Menlo,'DejaVu Sans Mono',consolas,'Courier New',monospace\">Loading Daily data for TSCO with starting period 2023-04-03.\n",
       "</pre>\n"
      ],
      "text/plain": [
       "Loading Daily data for TSCO with starting period 2023-04-03.\n"
      ]
     },
     "metadata": {},
     "output_type": "display_data"
    },
    {
     "data": {
      "text/html": [
       "<pre style=\"white-space:pre;overflow-x:auto;line-height:normal;font-family:Menlo,'DejaVu Sans Mono',consolas,'Courier New',monospace\">Loading Daily data for MSFT with starting period 2023-04-03.\n",
       "</pre>\n"
      ],
      "text/plain": [
       "Loading Daily data for MSFT with starting period 2023-04-03.\n"
      ]
     },
     "metadata": {},
     "output_type": "display_data"
    },
    {
     "data": {
      "text/html": [
       "<pre style=\"white-space:pre;overflow-x:auto;line-height:normal;font-family:Menlo,'DejaVu Sans Mono',consolas,'Courier New',monospace\">Loading Daily data for AAPL with starting period 2023-04-03.\n",
       "</pre>\n"
      ],
      "text/plain": [
       "Loading Daily data for AAPL with starting period 2023-04-03.\n"
      ]
     },
     "metadata": {},
     "output_type": "display_data"
    },
    {
     "data": {
      "text/html": [
       "<pre style=\"white-space:pre;overflow-x:auto;line-height:normal;font-family:Menlo,'DejaVu Sans Mono',consolas,'Courier New',monospace\">Loading Daily data for GOOG with starting period 2023-04-03.\n",
       "</pre>\n"
      ],
      "text/plain": [
       "Loading Daily data for GOOG with starting period 2023-04-03.\n"
      ]
     },
     "metadata": {},
     "output_type": "display_data"
    },
    {
     "data": {
      "text/html": [
       "<pre style=\"white-space:pre;overflow-x:auto;line-height:normal;font-family:Menlo,'DejaVu Sans Mono',consolas,'Courier New',monospace\">Loading Daily data for AAPL with starting period 2023-04-04.\n",
       "</pre>\n"
      ],
      "text/plain": [
       "Loading Daily data for AAPL with starting period 2023-04-04.\n"
      ]
     },
     "metadata": {},
     "output_type": "display_data"
    },
    {
     "data": {
      "text/html": [
       "<pre style=\"white-space:pre;overflow-x:auto;line-height:normal;font-family:Menlo,'DejaVu Sans Mono',consolas,'Courier New',monospace\">Loading Daily data for GOOG with starting period 2023-04-04.\n",
       "</pre>\n"
      ],
      "text/plain": [
       "Loading Daily data for GOOG with starting period 2023-04-04.\n"
      ]
     },
     "metadata": {},
     "output_type": "display_data"
    },
    {
     "data": {
      "text/html": [
       "<pre style=\"white-space:pre;overflow-x:auto;line-height:normal;font-family:Menlo,'DejaVu Sans Mono',consolas,'Courier New',monospace\">Loading Daily data for MSFT with starting period 2023-04-04.\n",
       "</pre>\n"
      ],
      "text/plain": [
       "Loading Daily data for MSFT with starting period 2023-04-04.\n"
      ]
     },
     "metadata": {},
     "output_type": "display_data"
    },
    {
     "data": {
      "text/html": [
       "<pre style=\"white-space:pre;overflow-x:auto;line-height:normal;font-family:Menlo,'DejaVu Sans Mono',consolas,'Courier New',monospace\">Loading Daily data for AAPL with starting period 2023-04-06.\n",
       "</pre>\n"
      ],
      "text/plain": [
       "Loading Daily data for AAPL with starting period 2023-04-06.\n"
      ]
     },
     "metadata": {},
     "output_type": "display_data"
    },
    {
     "data": {
      "text/html": [
       "<pre style=\"white-space:pre;overflow-x:auto;line-height:normal;font-family:Menlo,'DejaVu Sans Mono',consolas,'Courier New',monospace\">Loading Daily data for GOOG with starting period 2023-04-10.\n",
       "</pre>\n"
      ],
      "text/plain": [
       "Loading Daily data for GOOG with starting period 2023-04-10.\n"
      ]
     },
     "metadata": {},
     "output_type": "display_data"
    },
    {
     "data": {
      "text/html": [
       "<pre style=\"white-space:pre;overflow-x:auto;line-height:normal;font-family:Menlo,'DejaVu Sans Mono',consolas,'Courier New',monospace\">Loading Daily data for AAPL with starting period 2023-04-10.\n",
       "</pre>\n"
      ],
      "text/plain": [
       "Loading Daily data for AAPL with starting period 2023-04-10.\n"
      ]
     },
     "metadata": {},
     "output_type": "display_data"
    },
    {
     "data": {
      "text/html": [
       "<pre style=\"white-space:pre;overflow-x:auto;line-height:normal;font-family:Menlo,'DejaVu Sans Mono',consolas,'Courier New',monospace\">Loading Daily data for AMZN with starting period 2023-04-10.\n",
       "</pre>\n"
      ],
      "text/plain": [
       "Loading Daily data for AMZN with starting period 2023-04-10.\n"
      ]
     },
     "metadata": {},
     "output_type": "display_data"
    },
    {
     "data": {
      "text/html": [
       "<pre style=\"white-space:pre;overflow-x:auto;line-height:normal;font-family:Menlo,'DejaVu Sans Mono',consolas,'Courier New',monospace\">Loading Daily data for TSCO with starting period 2023-04-10.\n",
       "</pre>\n"
      ],
      "text/plain": [
       "Loading Daily data for TSCO with starting period 2023-04-10.\n"
      ]
     },
     "metadata": {},
     "output_type": "display_data"
    },
    {
     "data": {
      "text/html": [
       "<pre style=\"white-space:pre;overflow-x:auto;line-height:normal;font-family:Menlo,'DejaVu Sans Mono',consolas,'Courier New',monospace\">Loading Daily data for TSCO with starting period 2023-04-10.\n",
       "</pre>\n"
      ],
      "text/plain": [
       "Loading Daily data for TSCO with starting period 2023-04-10.\n"
      ]
     },
     "metadata": {},
     "output_type": "display_data"
    },
    {
     "data": {
      "text/html": [
       "<pre style=\"white-space:pre;overflow-x:auto;line-height:normal;font-family:Menlo,'DejaVu Sans Mono',consolas,'Courier New',monospace\">Loading Daily data for MSFT with starting period 2023-04-10.\n",
       "</pre>\n"
      ],
      "text/plain": [
       "Loading Daily data for MSFT with starting period 2023-04-10.\n"
      ]
     },
     "metadata": {},
     "output_type": "display_data"
    },
    {
     "data": {
      "text/html": [
       "<pre style=\"white-space:pre;overflow-x:auto;line-height:normal;font-family:Menlo,'DejaVu Sans Mono',consolas,'Courier New',monospace\">Loading Daily data for GOOG with starting period 2023-04-10.\n",
       "</pre>\n"
      ],
      "text/plain": [
       "Loading Daily data for GOOG with starting period 2023-04-10.\n"
      ]
     },
     "metadata": {},
     "output_type": "display_data"
    },
    {
     "data": {
      "text/html": [
       "<pre style=\"white-space:pre;overflow-x:auto;line-height:normal;font-family:Menlo,'DejaVu Sans Mono',consolas,'Courier New',monospace\">Loading Daily data for AMZN with starting period 2023-04-10.\n",
       "</pre>\n"
      ],
      "text/plain": [
       "Loading Daily data for AMZN with starting period 2023-04-10.\n"
      ]
     },
     "metadata": {},
     "output_type": "display_data"
    },
    {
     "data": {
      "text/html": [
       "<pre style=\"white-space:pre;overflow-x:auto;line-height:normal;font-family:Menlo,'DejaVu Sans Mono',consolas,'Courier New',monospace\">Loading Daily data for AAPL with starting period 2023-04-10.\n",
       "</pre>\n"
      ],
      "text/plain": [
       "Loading Daily data for AAPL with starting period 2023-04-10.\n"
      ]
     },
     "metadata": {},
     "output_type": "display_data"
    },
    {
     "data": {
      "text/html": [
       "<pre style=\"white-space:pre;overflow-x:auto;line-height:normal;font-family:Menlo,'DejaVu Sans Mono',consolas,'Courier New',monospace\">Loading Daily data for AAPL with starting period 2023-04-10.\n",
       "</pre>\n"
      ],
      "text/plain": [
       "Loading Daily data for AAPL with starting period 2023-04-10.\n"
      ]
     },
     "metadata": {},
     "output_type": "display_data"
    },
    {
     "data": {
      "text/html": [
       "<pre style=\"white-space:pre;overflow-x:auto;line-height:normal;font-family:Menlo,'DejaVu Sans Mono',consolas,'Courier New',monospace\">Loading Daily data for AMZN with starting period 2023-04-10.\n",
       "</pre>\n"
      ],
      "text/plain": [
       "Loading Daily data for AMZN with starting period 2023-04-10.\n"
      ]
     },
     "metadata": {},
     "output_type": "display_data"
    },
    {
     "data": {
      "text/html": [
       "<pre style=\"white-space:pre;overflow-x:auto;line-height:normal;font-family:Menlo,'DejaVu Sans Mono',consolas,'Courier New',monospace\">Loading Daily data for GOOG with starting period 2023-04-10.\n",
       "</pre>\n"
      ],
      "text/plain": [
       "Loading Daily data for GOOG with starting period 2023-04-10.\n"
      ]
     },
     "metadata": {},
     "output_type": "display_data"
    },
    {
     "data": {
      "text/html": [
       "<pre style=\"white-space:pre;overflow-x:auto;line-height:normal;font-family:Menlo,'DejaVu Sans Mono',consolas,'Courier New',monospace\">Loading Daily data for MSFT with starting period 2023-04-10.\n",
       "</pre>\n"
      ],
      "text/plain": [
       "Loading Daily data for MSFT with starting period 2023-04-10.\n"
      ]
     },
     "metadata": {},
     "output_type": "display_data"
    },
    {
     "data": {
      "text/html": [
       "<pre style=\"white-space:pre;overflow-x:auto;line-height:normal;font-family:Menlo,'DejaVu Sans Mono',consolas,'Courier New',monospace\">Loading Daily data for TSCO with starting period 2023-04-10.\n",
       "</pre>\n"
      ],
      "text/plain": [
       "Loading Daily data for TSCO with starting period 2023-04-10.\n"
      ]
     },
     "metadata": {},
     "output_type": "display_data"
    },
    {
     "data": {
      "text/html": [
       "<pre style=\"white-space:pre;overflow-x:auto;line-height:normal;font-family:Menlo,'DejaVu Sans Mono',consolas,'Courier New',monospace\">Loading Daily data for AAPL with starting period 2023-04-10.\n",
       "</pre>\n"
      ],
      "text/plain": [
       "Loading Daily data for AAPL with starting period 2023-04-10.\n"
      ]
     },
     "metadata": {},
     "output_type": "display_data"
    },
    {
     "data": {
      "text/html": [
       "<pre style=\"white-space:pre;overflow-x:auto;line-height:normal;font-family:Menlo,'DejaVu Sans Mono',consolas,'Courier New',monospace\">Loading Daily data for AMZN with starting period 2023-04-10.\n",
       "</pre>\n"
      ],
      "text/plain": [
       "Loading Daily data for AMZN with starting period 2023-04-10.\n"
      ]
     },
     "metadata": {},
     "output_type": "display_data"
    },
    {
     "data": {
      "text/html": [
       "<pre style=\"white-space:pre;overflow-x:auto;line-height:normal;font-family:Menlo,'DejaVu Sans Mono',consolas,'Courier New',monospace\">Loading Daily data for GOOG with starting period 2023-04-10.\n",
       "</pre>\n"
      ],
      "text/plain": [
       "Loading Daily data for GOOG with starting period 2023-04-10.\n"
      ]
     },
     "metadata": {},
     "output_type": "display_data"
    },
    {
     "data": {
      "text/html": [
       "<pre style=\"white-space:pre;overflow-x:auto;line-height:normal;font-family:Menlo,'DejaVu Sans Mono',consolas,'Courier New',monospace\">Loading Daily data for MSFT with starting period 2023-04-10.\n",
       "</pre>\n"
      ],
      "text/plain": [
       "Loading Daily data for MSFT with starting period 2023-04-10.\n"
      ]
     },
     "metadata": {},
     "output_type": "display_data"
    },
    {
     "data": {
      "text/html": [
       "<pre style=\"white-space:pre;overflow-x:auto;line-height:normal;font-family:Menlo,'DejaVu Sans Mono',consolas,'Courier New',monospace\">Loading Daily data for TSCO with starting period 2023-04-10.\n",
       "</pre>\n"
      ],
      "text/plain": [
       "Loading Daily data for TSCO with starting period 2023-04-10.\n"
      ]
     },
     "metadata": {},
     "output_type": "display_data"
    },
    {
     "data": {
      "text/html": [
       "<pre style=\"white-space:pre;overflow-x:auto;line-height:normal;font-family:Menlo,'DejaVu Sans Mono',consolas,'Courier New',monospace\">Loading Daily data for TSCO with starting period 2023-04-11.\n",
       "</pre>\n"
      ],
      "text/plain": [
       "Loading Daily data for TSCO with starting period 2023-04-11.\n"
      ]
     },
     "metadata": {},
     "output_type": "display_data"
    },
    {
     "data": {
      "text/html": [
       "<pre style=\"white-space:pre;overflow-x:auto;line-height:normal;font-family:Menlo,'DejaVu Sans Mono',consolas,'Courier New',monospace\">Loading Daily data for MSFT with starting period 2023-04-11.\n",
       "</pre>\n"
      ],
      "text/plain": [
       "Loading Daily data for MSFT with starting period 2023-04-11.\n"
      ]
     },
     "metadata": {},
     "output_type": "display_data"
    },
    {
     "data": {
      "text/html": [
       "<pre style=\"white-space:pre;overflow-x:auto;line-height:normal;font-family:Menlo,'DejaVu Sans Mono',consolas,'Courier New',monospace\">Loading Daily data for AMZN with starting period 2023-04-11.\n",
       "</pre>\n"
      ],
      "text/plain": [
       "Loading Daily data for AMZN with starting period 2023-04-11.\n"
      ]
     },
     "metadata": {},
     "output_type": "display_data"
    },
    {
     "data": {
      "text/html": [
       "<pre style=\"white-space:pre;overflow-x:auto;line-height:normal;font-family:Menlo,'DejaVu Sans Mono',consolas,'Courier New',monospace\">Loading Daily data for AAPL with starting period 2023-04-11.\n",
       "</pre>\n"
      ],
      "text/plain": [
       "Loading Daily data for AAPL with starting period 2023-04-11.\n"
      ]
     },
     "metadata": {},
     "output_type": "display_data"
    },
    {
     "data": {
      "text/html": [
       "<pre style=\"white-space:pre;overflow-x:auto;line-height:normal;font-family:Menlo,'DejaVu Sans Mono',consolas,'Courier New',monospace\">Loading Daily data for GOOG with starting period 2023-04-11.\n",
       "</pre>\n"
      ],
      "text/plain": [
       "Loading Daily data for GOOG with starting period 2023-04-11.\n"
      ]
     },
     "metadata": {},
     "output_type": "display_data"
    },
    {
     "data": {
      "text/html": [
       "<pre style=\"white-space:pre;overflow-x:auto;line-height:normal;font-family:Menlo,'DejaVu Sans Mono',consolas,'Courier New',monospace\">Loading Daily data for AAPL with starting period 2023-04-12.\n",
       "</pre>\n"
      ],
      "text/plain": [
       "Loading Daily data for AAPL with starting period 2023-04-12.\n"
      ]
     },
     "metadata": {},
     "output_type": "display_data"
    },
    {
     "data": {
      "text/html": [
       "<pre style=\"white-space:pre;overflow-x:auto;line-height:normal;font-family:Menlo,'DejaVu Sans Mono',consolas,'Courier New',monospace\">Loading Daily data for AMZN with starting period 2023-04-12.\n",
       "</pre>\n"
      ],
      "text/plain": [
       "Loading Daily data for AMZN with starting period 2023-04-12.\n"
      ]
     },
     "metadata": {},
     "output_type": "display_data"
    },
    {
     "data": {
      "text/html": [
       "<pre style=\"white-space:pre;overflow-x:auto;line-height:normal;font-family:Menlo,'DejaVu Sans Mono',consolas,'Courier New',monospace\">Loading Daily data for MSFT with starting period 2023-04-12.\n",
       "</pre>\n"
      ],
      "text/plain": [
       "Loading Daily data for MSFT with starting period 2023-04-12.\n"
      ]
     },
     "metadata": {},
     "output_type": "display_data"
    },
    {
     "data": {
      "text/html": [
       "<pre style=\"white-space:pre;overflow-x:auto;line-height:normal;font-family:Menlo,'DejaVu Sans Mono',consolas,'Courier New',monospace\">Loading Daily data for AAPL with starting period 2023-04-13.\n",
       "</pre>\n"
      ],
      "text/plain": [
       "Loading Daily data for AAPL with starting period 2023-04-13.\n"
      ]
     },
     "metadata": {},
     "output_type": "display_data"
    },
    {
     "data": {
      "text/html": [
       "<pre style=\"white-space:pre;overflow-x:auto;line-height:normal;font-family:Menlo,'DejaVu Sans Mono',consolas,'Courier New',monospace\">Loading Daily data for AMZN with starting period 2023-04-13.\n",
       "</pre>\n"
      ],
      "text/plain": [
       "Loading Daily data for AMZN with starting period 2023-04-13.\n"
      ]
     },
     "metadata": {},
     "output_type": "display_data"
    },
    {
     "data": {
      "text/html": [
       "<pre style=\"white-space:pre;overflow-x:auto;line-height:normal;font-family:Menlo,'DejaVu Sans Mono',consolas,'Courier New',monospace\">Loading Daily data for GOOG with starting period 2023-04-13.\n",
       "</pre>\n"
      ],
      "text/plain": [
       "Loading Daily data for GOOG with starting period 2023-04-13.\n"
      ]
     },
     "metadata": {},
     "output_type": "display_data"
    },
    {
     "data": {
      "text/html": [
       "<pre style=\"white-space:pre;overflow-x:auto;line-height:normal;font-family:Menlo,'DejaVu Sans Mono',consolas,'Courier New',monospace\">Loading Daily data for MSFT with starting period 2023-04-13.\n",
       "</pre>\n"
      ],
      "text/plain": [
       "Loading Daily data for MSFT with starting period 2023-04-13.\n"
      ]
     },
     "metadata": {},
     "output_type": "display_data"
    },
    {
     "data": {
      "text/html": [
       "<pre style=\"white-space:pre;overflow-x:auto;line-height:normal;font-family:Menlo,'DejaVu Sans Mono',consolas,'Courier New',monospace\">Loading Daily data for TSCO with starting period 2023-04-13.\n",
       "</pre>\n"
      ],
      "text/plain": [
       "Loading Daily data for TSCO with starting period 2023-04-13.\n"
      ]
     },
     "metadata": {},
     "output_type": "display_data"
    },
    {
     "data": {
      "text/html": [
       "<pre style=\"white-space:pre;overflow-x:auto;line-height:normal;font-family:Menlo,'DejaVu Sans Mono',consolas,'Courier New',monospace\">Loading Daily data for MSFT with starting period 2023-04-14.\n",
       "</pre>\n"
      ],
      "text/plain": [
       "Loading Daily data for MSFT with starting period 2023-04-14.\n"
      ]
     },
     "metadata": {},
     "output_type": "display_data"
    },
    {
     "data": {
      "text/html": [
       "<pre style=\"white-space:pre;overflow-x:auto;line-height:normal;font-family:Menlo,'DejaVu Sans Mono',consolas,'Courier New',monospace\">Loading Daily data for GOOG with starting period 2023-04-14.\n",
       "</pre>\n"
      ],
      "text/plain": [
       "Loading Daily data for GOOG with starting period 2023-04-14.\n"
      ]
     },
     "metadata": {},
     "output_type": "display_data"
    },
    {
     "data": {
      "text/html": [
       "<pre style=\"white-space:pre;overflow-x:auto;line-height:normal;font-family:Menlo,'DejaVu Sans Mono',consolas,'Courier New',monospace\">Loading Daily data for TSCO with starting period 2023-04-14.\n",
       "</pre>\n"
      ],
      "text/plain": [
       "Loading Daily data for TSCO with starting period 2023-04-14.\n"
      ]
     },
     "metadata": {},
     "output_type": "display_data"
    },
    {
     "data": {
      "text/html": [
       "<pre style=\"white-space:pre;overflow-x:auto;line-height:normal;font-family:Menlo,'DejaVu Sans Mono',consolas,'Courier New',monospace\">Loading Daily data for AAPL with starting period 2023-04-14.\n",
       "</pre>\n"
      ],
      "text/plain": [
       "Loading Daily data for AAPL with starting period 2023-04-14.\n"
      ]
     },
     "metadata": {},
     "output_type": "display_data"
    },
    {
     "data": {
      "text/html": [
       "<pre style=\"white-space:pre;overflow-x:auto;line-height:normal;font-family:Menlo,'DejaVu Sans Mono',consolas,'Courier New',monospace\">Loading Daily data for AMZN with starting period 2023-04-14.\n",
       "</pre>\n"
      ],
      "text/plain": [
       "Loading Daily data for AMZN with starting period 2023-04-14.\n"
      ]
     },
     "metadata": {},
     "output_type": "display_data"
    },
    {
     "data": {
      "text/html": [
       "<pre style=\"white-space:pre;overflow-x:auto;line-height:normal;font-family:Menlo,'DejaVu Sans Mono',consolas,'Courier New',monospace\">Loading Daily data for GOOG with starting period 2023-04-17.\n",
       "</pre>\n"
      ],
      "text/plain": [
       "Loading Daily data for GOOG with starting period 2023-04-17.\n"
      ]
     },
     "metadata": {},
     "output_type": "display_data"
    },
    {
     "data": {
      "text/html": [
       "<pre style=\"white-space:pre;overflow-x:auto;line-height:normal;font-family:Menlo,'DejaVu Sans Mono',consolas,'Courier New',monospace\">Loading Daily data for MSFT with starting period 2023-04-17.\n",
       "</pre>\n"
      ],
      "text/plain": [
       "Loading Daily data for MSFT with starting period 2023-04-17.\n"
      ]
     },
     "metadata": {},
     "output_type": "display_data"
    },
    {
     "data": {
      "text/html": [
       "<pre style=\"white-space:pre;overflow-x:auto;line-height:normal;font-family:Menlo,'DejaVu Sans Mono',consolas,'Courier New',monospace\">Loading Daily data for AAPL with starting period 2023-04-17.\n",
       "</pre>\n"
      ],
      "text/plain": [
       "Loading Daily data for AAPL with starting period 2023-04-17.\n"
      ]
     },
     "metadata": {},
     "output_type": "display_data"
    },
    {
     "data": {
      "text/html": [
       "<pre style=\"white-space:pre;overflow-x:auto;line-height:normal;font-family:Menlo,'DejaVu Sans Mono',consolas,'Courier New',monospace\">Loading Daily data for AMZN with starting period 2023-04-17.\n",
       "</pre>\n"
      ],
      "text/plain": [
       "Loading Daily data for AMZN with starting period 2023-04-17.\n"
      ]
     },
     "metadata": {},
     "output_type": "display_data"
    },
    {
     "data": {
      "text/html": [
       "<pre style=\"white-space:pre;overflow-x:auto;line-height:normal;font-family:Menlo,'DejaVu Sans Mono',consolas,'Courier New',monospace\">Loading Daily data for TSCO with starting period 2023-04-17.\n",
       "</pre>\n"
      ],
      "text/plain": [
       "Loading Daily data for TSCO with starting period 2023-04-17.\n"
      ]
     },
     "metadata": {},
     "output_type": "display_data"
    },
    {
     "data": {
      "text/html": [
       "<pre style=\"white-space:pre;overflow-x:auto;line-height:normal;font-family:Menlo,'DejaVu Sans Mono',consolas,'Courier New',monospace\">Loading Daily data for TSCO with starting period 2021-01-13.\n",
       "</pre>\n"
      ],
      "text/plain": [
       "Loading Daily data for TSCO with starting period 2021-01-13.\n"
      ]
     },
     "metadata": {},
     "output_type": "display_data"
    },
    {
     "data": {
      "text/html": [
       "<pre style=\"white-space:pre;overflow-x:auto;line-height:normal;font-family:Menlo,'DejaVu Sans Mono',consolas,'Courier New',monospace\">Loading Daily data for TSCO with starting period 2022-03-31.\n",
       "</pre>\n"
      ],
      "text/plain": [
       "Loading Daily data for TSCO with starting period 2022-03-31.\n"
      ]
     },
     "metadata": {},
     "output_type": "display_data"
    },
    {
     "data": {
      "text/html": [
       "<pre style=\"white-space:pre;overflow-x:auto;line-height:normal;font-family:Menlo,'DejaVu Sans Mono',consolas,'Courier New',monospace\">Loading Daily data for TSCO with starting period 2022-04-18.\n",
       "</pre>\n"
      ],
      "text/plain": [
       "Loading Daily data for TSCO with starting period 2022-04-18.\n"
      ]
     },
     "metadata": {},
     "output_type": "display_data"
    },
    {
     "data": {
      "text/html": [
       "<pre style=\"white-space:pre;overflow-x:auto;line-height:normal;font-family:Menlo,'DejaVu Sans Mono',consolas,'Courier New',monospace\">Loading Daily data for TSCO with starting period 2022-06-17.\n",
       "</pre>\n"
      ],
      "text/plain": [
       "Loading Daily data for TSCO with starting period 2022-06-17.\n"
      ]
     },
     "metadata": {},
     "output_type": "display_data"
    },
    {
     "data": {
      "text/html": [
       "<pre style=\"white-space:pre;overflow-x:auto;line-height:normal;font-family:Menlo,'DejaVu Sans Mono',consolas,'Courier New',monospace\">Loading Daily data for TSCO with starting period 2022-07-18.\n",
       "</pre>\n"
      ],
      "text/plain": [
       "Loading Daily data for TSCO with starting period 2022-07-18.\n"
      ]
     },
     "metadata": {},
     "output_type": "display_data"
    },
    {
     "data": {
      "text/html": [
       "<pre style=\"white-space:pre;overflow-x:auto;line-height:normal;font-family:Menlo,'DejaVu Sans Mono',consolas,'Courier New',monospace\">Loading Daily data for AMZN with starting period 2022-07-25.\n",
       "</pre>\n"
      ],
      "text/plain": [
       "Loading Daily data for AMZN with starting period 2022-07-25.\n"
      ]
     },
     "metadata": {},
     "output_type": "display_data"
    },
    {
     "data": {
      "text/html": [
       "<pre style=\"white-space:pre;overflow-x:auto;line-height:normal;font-family:Menlo,'DejaVu Sans Mono',consolas,'Courier New',monospace\">Loading Daily data for TSCO with starting period 2022-08-12.\n",
       "</pre>\n"
      ],
      "text/plain": [
       "Loading Daily data for TSCO with starting period 2022-08-12.\n"
      ]
     },
     "metadata": {},
     "output_type": "display_data"
    },
    {
     "data": {
      "text/html": [
       "<pre style=\"white-space:pre;overflow-x:auto;line-height:normal;font-family:Menlo,'DejaVu Sans Mono',consolas,'Courier New',monospace\">Loading Daily data for TSCO with starting period 2022-09-09.\n",
       "</pre>\n"
      ],
      "text/plain": [
       "Loading Daily data for TSCO with starting period 2022-09-09.\n"
      ]
     },
     "metadata": {},
     "output_type": "display_data"
    },
    {
     "data": {
      "text/html": [
       "<pre style=\"white-space:pre;overflow-x:auto;line-height:normal;font-family:Menlo,'DejaVu Sans Mono',consolas,'Courier New',monospace\">Loading Daily data for AMZN with starting period 2022-09-12.\n",
       "</pre>\n"
      ],
      "text/plain": [
       "Loading Daily data for AMZN with starting period 2022-09-12.\n"
      ]
     },
     "metadata": {},
     "output_type": "display_data"
    },
    {
     "data": {
      "text/html": [
       "<pre style=\"white-space:pre;overflow-x:auto;line-height:normal;font-family:Menlo,'DejaVu Sans Mono',consolas,'Courier New',monospace\">Loading Daily data for TSCO with starting period 2022-09-13.\n",
       "</pre>\n"
      ],
      "text/plain": [
       "Loading Daily data for TSCO with starting period 2022-09-13.\n"
      ]
     },
     "metadata": {},
     "output_type": "display_data"
    },
    {
     "data": {
      "text/html": [
       "<pre style=\"white-space:pre;overflow-x:auto;line-height:normal;font-family:Menlo,'DejaVu Sans Mono',consolas,'Courier New',monospace\">Loading Daily data for TSCO with starting period 2022-09-30.\n",
       "</pre>\n"
      ],
      "text/plain": [
       "Loading Daily data for TSCO with starting period 2022-09-30.\n"
      ]
     },
     "metadata": {},
     "output_type": "display_data"
    },
    {
     "data": {
      "text/html": [
       "<pre style=\"white-space:pre;overflow-x:auto;line-height:normal;font-family:Menlo,'DejaVu Sans Mono',consolas,'Courier New',monospace\">Loading Daily data for AMZN with starting period 2022-10-03.\n",
       "</pre>\n"
      ],
      "text/plain": [
       "Loading Daily data for AMZN with starting period 2022-10-03.\n"
      ]
     },
     "metadata": {},
     "output_type": "display_data"
    },
    {
     "data": {
      "text/html": [
       "<pre style=\"white-space:pre;overflow-x:auto;line-height:normal;font-family:Menlo,'DejaVu Sans Mono',consolas,'Courier New',monospace\">Loading Daily data for TSCO with starting period 2022-10-07.\n",
       "</pre>\n"
      ],
      "text/plain": [
       "Loading Daily data for TSCO with starting period 2022-10-07.\n"
      ]
     },
     "metadata": {},
     "output_type": "display_data"
    },
    {
     "data": {
      "text/html": [
       "<pre style=\"white-space:pre;overflow-x:auto;line-height:normal;font-family:Menlo,'DejaVu Sans Mono',consolas,'Courier New',monospace\">Loading Daily data for TSCO with starting period 2022-10-11.\n",
       "</pre>\n"
      ],
      "text/plain": [
       "Loading Daily data for TSCO with starting period 2022-10-11.\n"
      ]
     },
     "metadata": {},
     "output_type": "display_data"
    },
    {
     "data": {
      "text/html": [
       "<pre style=\"white-space:pre;overflow-x:auto;line-height:normal;font-family:Menlo,'DejaVu Sans Mono',consolas,'Courier New',monospace\">Loading Daily data for GOOG with starting period 2022-10-14.\n",
       "</pre>\n"
      ],
      "text/plain": [
       "Loading Daily data for GOOG with starting period 2022-10-14.\n"
      ]
     },
     "metadata": {},
     "output_type": "display_data"
    },
    {
     "data": {
      "text/html": [
       "<pre style=\"white-space:pre;overflow-x:auto;line-height:normal;font-family:Menlo,'DejaVu Sans Mono',consolas,'Courier New',monospace\">Loading Daily data for AAPL with starting period 2022-10-14.\n",
       "</pre>\n"
      ],
      "text/plain": [
       "Loading Daily data for AAPL with starting period 2022-10-14.\n"
      ]
     },
     "metadata": {},
     "output_type": "display_data"
    },
    {
     "data": {
      "text/html": [
       "<pre style=\"white-space:pre;overflow-x:auto;line-height:normal;font-family:Menlo,'DejaVu Sans Mono',consolas,'Courier New',monospace\">Loading Daily data for AMZN with starting period 2022-10-17.\n",
       "</pre>\n"
      ],
      "text/plain": [
       "Loading Daily data for AMZN with starting period 2022-10-17.\n"
      ]
     },
     "metadata": {},
     "output_type": "display_data"
    },
    {
     "data": {
      "text/html": [
       "<pre style=\"white-space:pre;overflow-x:auto;line-height:normal;font-family:Menlo,'DejaVu Sans Mono',consolas,'Courier New',monospace\">Loading Daily data for AMZN with starting period 2022-10-24.\n",
       "</pre>\n"
      ],
      "text/plain": [
       "Loading Daily data for AMZN with starting period 2022-10-24.\n"
      ]
     },
     "metadata": {},
     "output_type": "display_data"
    },
    {
     "data": {
      "text/html": [
       "<pre style=\"white-space:pre;overflow-x:auto;line-height:normal;font-family:Menlo,'DejaVu Sans Mono',consolas,'Courier New',monospace\">Loading Daily data for GOOG with starting period 2022-10-24.\n",
       "</pre>\n"
      ],
      "text/plain": [
       "Loading Daily data for GOOG with starting period 2022-10-24.\n"
      ]
     },
     "metadata": {},
     "output_type": "display_data"
    },
    {
     "data": {
      "text/html": [
       "<pre style=\"white-space:pre;overflow-x:auto;line-height:normal;font-family:Menlo,'DejaVu Sans Mono',consolas,'Courier New',monospace\">Loading Daily data for TSCO with starting period 2022-10-31.\n",
       "</pre>\n"
      ],
      "text/plain": [
       "Loading Daily data for TSCO with starting period 2022-10-31.\n"
      ]
     },
     "metadata": {},
     "output_type": "display_data"
    },
    {
     "data": {
      "text/html": [
       "<pre style=\"white-space:pre;overflow-x:auto;line-height:normal;font-family:Menlo,'DejaVu Sans Mono',consolas,'Courier New',monospace\">Loading Daily data for AMZN with starting period 2022-10-31.\n",
       "</pre>\n"
      ],
      "text/plain": [
       "Loading Daily data for AMZN with starting period 2022-10-31.\n"
      ]
     },
     "metadata": {},
     "output_type": "display_data"
    },
    {
     "data": {
      "text/html": [
       "<pre style=\"white-space:pre;overflow-x:auto;line-height:normal;font-family:Menlo,'DejaVu Sans Mono',consolas,'Courier New',monospace\">Loading Daily data for GOOG with starting period 2022-10-31.\n",
       "</pre>\n"
      ],
      "text/plain": [
       "Loading Daily data for GOOG with starting period 2022-10-31.\n"
      ]
     },
     "metadata": {},
     "output_type": "display_data"
    },
    {
     "data": {
      "text/html": [
       "<pre style=\"white-space:pre;overflow-x:auto;line-height:normal;font-family:Menlo,'DejaVu Sans Mono',consolas,'Courier New',monospace\">Loading Daily data for TSCO with starting period 2022-11-03.\n",
       "</pre>\n"
      ],
      "text/plain": [
       "Loading Daily data for TSCO with starting period 2022-11-03.\n"
      ]
     },
     "metadata": {},
     "output_type": "display_data"
    },
    {
     "data": {
      "text/html": [
       "<pre style=\"white-space:pre;overflow-x:auto;line-height:normal;font-family:Menlo,'DejaVu Sans Mono',consolas,'Courier New',monospace\">Loading Daily data for GOOG with starting period 2022-11-07.\n",
       "</pre>\n"
      ],
      "text/plain": [
       "Loading Daily data for GOOG with starting period 2022-11-07.\n"
      ]
     },
     "metadata": {},
     "output_type": "display_data"
    },
    {
     "data": {
      "text/html": [
       "<pre style=\"white-space:pre;overflow-x:auto;line-height:normal;font-family:Menlo,'DejaVu Sans Mono',consolas,'Courier New',monospace\">Loading Daily data for GOOG with starting period 2022-11-07.\n",
       "</pre>\n"
      ],
      "text/plain": [
       "Loading Daily data for GOOG with starting period 2022-11-07.\n"
      ]
     },
     "metadata": {},
     "output_type": "display_data"
    },
    {
     "data": {
      "text/html": [
       "<pre style=\"white-space:pre;overflow-x:auto;line-height:normal;font-family:Menlo,'DejaVu Sans Mono',consolas,'Courier New',monospace\">Loading Daily data for TSCO with starting period 2022-11-14.\n",
       "</pre>\n"
      ],
      "text/plain": [
       "Loading Daily data for TSCO with starting period 2022-11-14.\n"
      ]
     },
     "metadata": {},
     "output_type": "display_data"
    },
    {
     "data": {
      "text/html": [
       "<pre style=\"white-space:pre;overflow-x:auto;line-height:normal;font-family:Menlo,'DejaVu Sans Mono',consolas,'Courier New',monospace\">Loading Daily data for AMZN with starting period 2022-11-14.\n",
       "</pre>\n"
      ],
      "text/plain": [
       "Loading Daily data for AMZN with starting period 2022-11-14.\n"
      ]
     },
     "metadata": {},
     "output_type": "display_data"
    },
    {
     "data": {
      "text/html": [
       "<pre style=\"white-space:pre;overflow-x:auto;line-height:normal;font-family:Menlo,'DejaVu Sans Mono',consolas,'Courier New',monospace\">Loading Daily data for AAPL with starting period 2022-11-18.\n",
       "</pre>\n"
      ],
      "text/plain": [
       "Loading Daily data for AAPL with starting period 2022-11-18.\n"
      ]
     },
     "metadata": {},
     "output_type": "display_data"
    },
    {
     "data": {
      "text/html": [
       "<pre style=\"white-space:pre;overflow-x:auto;line-height:normal;font-family:Menlo,'DejaVu Sans Mono',consolas,'Courier New',monospace\">Loading Daily data for GOOG with starting period 2022-11-21.\n",
       "</pre>\n"
      ],
      "text/plain": [
       "Loading Daily data for GOOG with starting period 2022-11-21.\n"
      ]
     },
     "metadata": {},
     "output_type": "display_data"
    },
    {
     "data": {
      "text/html": [
       "<pre style=\"white-space:pre;overflow-x:auto;line-height:normal;font-family:Menlo,'DejaVu Sans Mono',consolas,'Courier New',monospace\">Loading Daily data for TSCO with starting period 2022-11-25.\n",
       "</pre>\n"
      ],
      "text/plain": [
       "Loading Daily data for TSCO with starting period 2022-11-25.\n"
      ]
     },
     "metadata": {},
     "output_type": "display_data"
    },
    {
     "data": {
      "text/html": [
       "<pre style=\"white-space:pre;overflow-x:auto;line-height:normal;font-family:Menlo,'DejaVu Sans Mono',consolas,'Courier New',monospace\">Loading Daily data for TSCO with starting period 2022-12-02.\n",
       "</pre>\n"
      ],
      "text/plain": [
       "Loading Daily data for TSCO with starting period 2022-12-02.\n"
      ]
     },
     "metadata": {},
     "output_type": "display_data"
    },
    {
     "data": {
      "text/html": [
       "<pre style=\"white-space:pre;overflow-x:auto;line-height:normal;font-family:Menlo,'DejaVu Sans Mono',consolas,'Courier New',monospace\">Loading Daily data for AMZN with starting period 2022-12-05.\n",
       "</pre>\n"
      ],
      "text/plain": [
       "Loading Daily data for AMZN with starting period 2022-12-05.\n"
      ]
     },
     "metadata": {},
     "output_type": "display_data"
    },
    {
     "data": {
      "text/html": [
       "<pre style=\"white-space:pre;overflow-x:auto;line-height:normal;font-family:Menlo,'DejaVu Sans Mono',consolas,'Courier New',monospace\">Loading Daily data for GOOG with starting period 2022-12-09.\n",
       "</pre>\n"
      ],
      "text/plain": [
       "Loading Daily data for GOOG with starting period 2022-12-09.\n"
      ]
     },
     "metadata": {},
     "output_type": "display_data"
    },
    {
     "data": {
      "text/html": [
       "<pre style=\"white-space:pre;overflow-x:auto;line-height:normal;font-family:Menlo,'DejaVu Sans Mono',consolas,'Courier New',monospace\">Loading Daily data for AMZN with starting period 2022-12-12.\n",
       "</pre>\n"
      ],
      "text/plain": [
       "Loading Daily data for AMZN with starting period 2022-12-12.\n"
      ]
     },
     "metadata": {},
     "output_type": "display_data"
    },
    {
     "data": {
      "text/html": [
       "<pre style=\"white-space:pre;overflow-x:auto;line-height:normal;font-family:Menlo,'DejaVu Sans Mono',consolas,'Courier New',monospace\">Loading Daily data for TSCO with starting period 2022-12-12.\n",
       "</pre>\n"
      ],
      "text/plain": [
       "Loading Daily data for TSCO with starting period 2022-12-12.\n"
      ]
     },
     "metadata": {},
     "output_type": "display_data"
    },
    {
     "data": {
      "text/html": [
       "<pre style=\"white-space:pre;overflow-x:auto;line-height:normal;font-family:Menlo,'DejaVu Sans Mono',consolas,'Courier New',monospace\">Loading Daily data for AMZN with starting period 2022-12-12.\n",
       "</pre>\n"
      ],
      "text/plain": [
       "Loading Daily data for AMZN with starting period 2022-12-12.\n"
      ]
     },
     "metadata": {},
     "output_type": "display_data"
    },
    {
     "data": {
      "text/html": [
       "<pre style=\"white-space:pre;overflow-x:auto;line-height:normal;font-family:Menlo,'DejaVu Sans Mono',consolas,'Courier New',monospace\">Loading Daily data for TSCO with starting period 2022-12-12.\n",
       "</pre>\n"
      ],
      "text/plain": [
       "Loading Daily data for TSCO with starting period 2022-12-12.\n"
      ]
     },
     "metadata": {},
     "output_type": "display_data"
    },
    {
     "data": {
      "text/html": [
       "<pre style=\"white-space:pre;overflow-x:auto;line-height:normal;font-family:Menlo,'DejaVu Sans Mono',consolas,'Courier New',monospace\">Loading Daily data for AMZN with starting period 2022-12-13.\n",
       "</pre>\n"
      ],
      "text/plain": [
       "Loading Daily data for AMZN with starting period 2022-12-13.\n"
      ]
     },
     "metadata": {},
     "output_type": "display_data"
    },
    {
     "data": {
      "text/html": [
       "<pre style=\"white-space:pre;overflow-x:auto;line-height:normal;font-family:Menlo,'DejaVu Sans Mono',consolas,'Courier New',monospace\">Loading Daily data for AMZN with starting period 2022-12-14.\n",
       "</pre>\n"
      ],
      "text/plain": [
       "Loading Daily data for AMZN with starting period 2022-12-14.\n"
      ]
     },
     "metadata": {},
     "output_type": "display_data"
    },
    {
     "data": {
      "text/html": [
       "<pre style=\"white-space:pre;overflow-x:auto;line-height:normal;font-family:Menlo,'DejaVu Sans Mono',consolas,'Courier New',monospace\">Loading Daily data for AMZN with starting period 2022-12-15.\n",
       "</pre>\n"
      ],
      "text/plain": [
       "Loading Daily data for AMZN with starting period 2022-12-15.\n"
      ]
     },
     "metadata": {},
     "output_type": "display_data"
    },
    {
     "data": {
      "text/html": [
       "<pre style=\"white-space:pre;overflow-x:auto;line-height:normal;font-family:Menlo,'DejaVu Sans Mono',consolas,'Courier New',monospace\">Loading Daily data for GOOG with starting period 2022-12-19.\n",
       "</pre>\n"
      ],
      "text/plain": [
       "Loading Daily data for GOOG with starting period 2022-12-19.\n"
      ]
     },
     "metadata": {},
     "output_type": "display_data"
    },
    {
     "data": {
      "text/html": [
       "<pre style=\"white-space:pre;overflow-x:auto;line-height:normal;font-family:Menlo,'DejaVu Sans Mono',consolas,'Courier New',monospace\">Loading Daily data for AMZN with starting period 2023-01-03.\n",
       "</pre>\n"
      ],
      "text/plain": [
       "Loading Daily data for AMZN with starting period 2023-01-03.\n"
      ]
     },
     "metadata": {},
     "output_type": "display_data"
    },
    {
     "data": {
      "text/html": [
       "<pre style=\"white-space:pre;overflow-x:auto;line-height:normal;font-family:Menlo,'DejaVu Sans Mono',consolas,'Courier New',monospace\">Loading Daily data for TSCO with starting period 2023-01-03.\n",
       "</pre>\n"
      ],
      "text/plain": [
       "Loading Daily data for TSCO with starting period 2023-01-03.\n"
      ]
     },
     "metadata": {},
     "output_type": "display_data"
    },
    {
     "data": {
      "text/html": [
       "<pre style=\"white-space:pre;overflow-x:auto;line-height:normal;font-family:Menlo,'DejaVu Sans Mono',consolas,'Courier New',monospace\">Loading Daily data for AMZN with starting period 2023-01-03.\n",
       "</pre>\n"
      ],
      "text/plain": [
       "Loading Daily data for AMZN with starting period 2023-01-03.\n"
      ]
     },
     "metadata": {},
     "output_type": "display_data"
    },
    {
     "data": {
      "text/html": [
       "<pre style=\"white-space:pre;overflow-x:auto;line-height:normal;font-family:Menlo,'DejaVu Sans Mono',consolas,'Courier New',monospace\">Loading Daily data for TSCO with starting period 2023-01-03.\n",
       "</pre>\n"
      ],
      "text/plain": [
       "Loading Daily data for TSCO with starting period 2023-01-03.\n"
      ]
     },
     "metadata": {},
     "output_type": "display_data"
    },
    {
     "data": {
      "text/html": [
       "<pre style=\"white-space:pre;overflow-x:auto;line-height:normal;font-family:Menlo,'DejaVu Sans Mono',consolas,'Courier New',monospace\">Loading Daily data for TSCO with starting period 2023-01-03.\n",
       "</pre>\n"
      ],
      "text/plain": [
       "Loading Daily data for TSCO with starting period 2023-01-03.\n"
      ]
     },
     "metadata": {},
     "output_type": "display_data"
    },
    {
     "data": {
      "text/html": [
       "<pre style=\"white-space:pre;overflow-x:auto;line-height:normal;font-family:Menlo,'DejaVu Sans Mono',consolas,'Courier New',monospace\">Loading Daily data for AAPL with starting period 2023-01-03.\n",
       "</pre>\n"
      ],
      "text/plain": [
       "Loading Daily data for AAPL with starting period 2023-01-03.\n"
      ]
     },
     "metadata": {},
     "output_type": "display_data"
    },
    {
     "data": {
      "text/html": [
       "<pre style=\"white-space:pre;overflow-x:auto;line-height:normal;font-family:Menlo,'DejaVu Sans Mono',consolas,'Courier New',monospace\">Loading Daily data for GOOG with starting period 2023-01-03.\n",
       "</pre>\n"
      ],
      "text/plain": [
       "Loading Daily data for GOOG with starting period 2023-01-03.\n"
      ]
     },
     "metadata": {},
     "output_type": "display_data"
    },
    {
     "data": {
      "text/html": [
       "<pre style=\"white-space:pre;overflow-x:auto;line-height:normal;font-family:Menlo,'DejaVu Sans Mono',consolas,'Courier New',monospace\">Loading Daily data for AAPL with starting period 2023-01-06.\n",
       "</pre>\n"
      ],
      "text/plain": [
       "Loading Daily data for AAPL with starting period 2023-01-06.\n"
      ]
     },
     "metadata": {},
     "output_type": "display_data"
    },
    {
     "data": {
      "text/html": [
       "<pre style=\"white-space:pre;overflow-x:auto;line-height:normal;font-family:Menlo,'DejaVu Sans Mono',consolas,'Courier New',monospace\">Loading Daily data for AMZN with starting period 2023-01-09.\n",
       "</pre>\n"
      ],
      "text/plain": [
       "Loading Daily data for AMZN with starting period 2023-01-09.\n"
      ]
     },
     "metadata": {},
     "output_type": "display_data"
    },
    {
     "data": {
      "text/html": [
       "<pre style=\"white-space:pre;overflow-x:auto;line-height:normal;font-family:Menlo,'DejaVu Sans Mono',consolas,'Courier New',monospace\">Loading Daily data for TSCO with starting period 2023-01-12.\n",
       "</pre>\n"
      ],
      "text/plain": [
       "Loading Daily data for TSCO with starting period 2023-01-12.\n"
      ]
     },
     "metadata": {},
     "output_type": "display_data"
    },
    {
     "data": {
      "text/html": [
       "<pre style=\"white-space:pre;overflow-x:auto;line-height:normal;font-family:Menlo,'DejaVu Sans Mono',consolas,'Courier New',monospace\">Loading Daily data for AMZN with starting period 2023-01-17.\n",
       "</pre>\n"
      ],
      "text/plain": [
       "Loading Daily data for AMZN with starting period 2023-01-17.\n"
      ]
     },
     "metadata": {},
     "output_type": "display_data"
    },
    {
     "data": {
      "text/html": [
       "<pre style=\"white-space:pre;overflow-x:auto;line-height:normal;font-family:Menlo,'DejaVu Sans Mono',consolas,'Courier New',monospace\">Loading Daily data for GOOG with starting period 2023-01-17.\n",
       "</pre>\n"
      ],
      "text/plain": [
       "Loading Daily data for GOOG with starting period 2023-01-17.\n"
      ]
     },
     "metadata": {},
     "output_type": "display_data"
    },
    {
     "data": {
      "text/html": [
       "<pre style=\"white-space:pre;overflow-x:auto;line-height:normal;font-family:Menlo,'DejaVu Sans Mono',consolas,'Courier New',monospace\">Loading Daily data for TSCO with starting period 2023-01-17.\n",
       "</pre>\n"
      ],
      "text/plain": [
       "Loading Daily data for TSCO with starting period 2023-01-17.\n"
      ]
     },
     "metadata": {},
     "output_type": "display_data"
    },
    {
     "data": {
      "text/html": [
       "<pre style=\"white-space:pre;overflow-x:auto;line-height:normal;font-family:Menlo,'DejaVu Sans Mono',consolas,'Courier New',monospace\">Loading Daily data for AAPL with starting period 2023-01-17.\n",
       "</pre>\n"
      ],
      "text/plain": [
       "Loading Daily data for AAPL with starting period 2023-01-17.\n"
      ]
     },
     "metadata": {},
     "output_type": "display_data"
    },
    {
     "data": {
      "text/html": [
       "<pre style=\"white-space:pre;overflow-x:auto;line-height:normal;font-family:Menlo,'DejaVu Sans Mono',consolas,'Courier New',monospace\">Loading Daily data for TSCO with starting period 2023-01-17.\n",
       "</pre>\n"
      ],
      "text/plain": [
       "Loading Daily data for TSCO with starting period 2023-01-17.\n"
      ]
     },
     "metadata": {},
     "output_type": "display_data"
    },
    {
     "data": {
      "text/html": [
       "<pre style=\"white-space:pre;overflow-x:auto;line-height:normal;font-family:Menlo,'DejaVu Sans Mono',consolas,'Courier New',monospace\">Loading Daily data for TSCO with starting period 2023-01-18.\n",
       "</pre>\n"
      ],
      "text/plain": [
       "Loading Daily data for TSCO with starting period 2023-01-18.\n"
      ]
     },
     "metadata": {},
     "output_type": "display_data"
    },
    {
     "data": {
      "text/html": [
       "<pre style=\"white-space:pre;overflow-x:auto;line-height:normal;font-family:Menlo,'DejaVu Sans Mono',consolas,'Courier New',monospace\">Loading Daily data for AAPL with starting period 2023-01-20.\n",
       "</pre>\n"
      ],
      "text/plain": [
       "Loading Daily data for AAPL with starting period 2023-01-20.\n"
      ]
     },
     "metadata": {},
     "output_type": "display_data"
    },
    {
     "data": {
      "text/html": [
       "<pre style=\"white-space:pre;overflow-x:auto;line-height:normal;font-family:Menlo,'DejaVu Sans Mono',consolas,'Courier New',monospace\">Loading Daily data for AMZN with starting period 2023-01-20.\n",
       "</pre>\n"
      ],
      "text/plain": [
       "Loading Daily data for AMZN with starting period 2023-01-20.\n"
      ]
     },
     "metadata": {},
     "output_type": "display_data"
    },
    {
     "data": {
      "text/html": [
       "<pre style=\"white-space:pre;overflow-x:auto;line-height:normal;font-family:Menlo,'DejaVu Sans Mono',consolas,'Courier New',monospace\">Loading Daily data for AMZN with starting period 2023-01-23.\n",
       "</pre>\n"
      ],
      "text/plain": [
       "Loading Daily data for AMZN with starting period 2023-01-23.\n"
      ]
     },
     "metadata": {},
     "output_type": "display_data"
    },
    {
     "data": {
      "text/html": [
       "<pre style=\"white-space:pre;overflow-x:auto;line-height:normal;font-family:Menlo,'DejaVu Sans Mono',consolas,'Courier New',monospace\">Loading Daily data for TSCO with starting period 2023-01-23.\n",
       "</pre>\n"
      ],
      "text/plain": [
       "Loading Daily data for TSCO with starting period 2023-01-23.\n"
      ]
     },
     "metadata": {},
     "output_type": "display_data"
    },
    {
     "data": {
      "text/html": [
       "<pre style=\"white-space:pre;overflow-x:auto;line-height:normal;font-family:Menlo,'DejaVu Sans Mono',consolas,'Courier New',monospace\">Loading Daily data for AMZN with starting period 2023-01-23.\n",
       "</pre>\n"
      ],
      "text/plain": [
       "Loading Daily data for AMZN with starting period 2023-01-23.\n"
      ]
     },
     "metadata": {},
     "output_type": "display_data"
    },
    {
     "data": {
      "text/html": [
       "<pre style=\"white-space:pre;overflow-x:auto;line-height:normal;font-family:Menlo,'DejaVu Sans Mono',consolas,'Courier New',monospace\">Loading Daily data for AAPL with starting period 2023-01-23.\n",
       "</pre>\n"
      ],
      "text/plain": [
       "Loading Daily data for AAPL with starting period 2023-01-23.\n"
      ]
     },
     "metadata": {},
     "output_type": "display_data"
    },
    {
     "data": {
      "text/html": [
       "<pre style=\"white-space:pre;overflow-x:auto;line-height:normal;font-family:Menlo,'DejaVu Sans Mono',consolas,'Courier New',monospace\">Loading Daily data for TSCO with starting period 2023-01-23.\n",
       "</pre>\n"
      ],
      "text/plain": [
       "Loading Daily data for TSCO with starting period 2023-01-23.\n"
      ]
     },
     "metadata": {},
     "output_type": "display_data"
    },
    {
     "data": {
      "text/html": [
       "<pre style=\"white-space:pre;overflow-x:auto;line-height:normal;font-family:Menlo,'DejaVu Sans Mono',consolas,'Courier New',monospace\">Loading Daily data for TSCO with starting period 2023-01-24.\n",
       "</pre>\n"
      ],
      "text/plain": [
       "Loading Daily data for TSCO with starting period 2023-01-24.\n"
      ]
     },
     "metadata": {},
     "output_type": "display_data"
    },
    {
     "data": {
      "text/html": [
       "<pre style=\"white-space:pre;overflow-x:auto;line-height:normal;font-family:Menlo,'DejaVu Sans Mono',consolas,'Courier New',monospace\">Loading Daily data for TSCO with starting period 2023-01-26.\n",
       "</pre>\n"
      ],
      "text/plain": [
       "Loading Daily data for TSCO with starting period 2023-01-26.\n"
      ]
     },
     "metadata": {},
     "output_type": "display_data"
    },
    {
     "data": {
      "text/html": [
       "<pre style=\"white-space:pre;overflow-x:auto;line-height:normal;font-family:Menlo,'DejaVu Sans Mono',consolas,'Courier New',monospace\">Loading Daily data for AMZN with starting period 2023-01-27.\n",
       "</pre>\n"
      ],
      "text/plain": [
       "Loading Daily data for AMZN with starting period 2023-01-27.\n"
      ]
     },
     "metadata": {},
     "output_type": "display_data"
    },
    {
     "data": {
      "text/html": [
       "<pre style=\"white-space:pre;overflow-x:auto;line-height:normal;font-family:Menlo,'DejaVu Sans Mono',consolas,'Courier New',monospace\">Loading Daily data for GOOG with starting period 2023-01-27.\n",
       "</pre>\n"
      ],
      "text/plain": [
       "Loading Daily data for GOOG with starting period 2023-01-27.\n"
      ]
     },
     "metadata": {},
     "output_type": "display_data"
    },
    {
     "data": {
      "text/html": [
       "<pre style=\"white-space:pre;overflow-x:auto;line-height:normal;font-family:Menlo,'DejaVu Sans Mono',consolas,'Courier New',monospace\">Loading Daily data for AAPL with starting period 2023-01-30.\n",
       "</pre>\n"
      ],
      "text/plain": [
       "Loading Daily data for AAPL with starting period 2023-01-30.\n"
      ]
     },
     "metadata": {},
     "output_type": "display_data"
    },
    {
     "data": {
      "text/html": [
       "<pre style=\"white-space:pre;overflow-x:auto;line-height:normal;font-family:Menlo,'DejaVu Sans Mono',consolas,'Courier New',monospace\">Loading Daily data for TSCO with starting period 2023-01-30.\n",
       "</pre>\n"
      ],
      "text/plain": [
       "Loading Daily data for TSCO with starting period 2023-01-30.\n"
      ]
     },
     "metadata": {},
     "output_type": "display_data"
    },
    {
     "data": {
      "text/html": [
       "<pre style=\"white-space:pre;overflow-x:auto;line-height:normal;font-family:Menlo,'DejaVu Sans Mono',consolas,'Courier New',monospace\">Loading Daily data for GOOG with starting period 2023-01-30.\n",
       "</pre>\n"
      ],
      "text/plain": [
       "Loading Daily data for GOOG with starting period 2023-01-30.\n"
      ]
     },
     "metadata": {},
     "output_type": "display_data"
    },
    {
     "data": {
      "text/html": [
       "<pre style=\"white-space:pre;overflow-x:auto;line-height:normal;font-family:Menlo,'DejaVu Sans Mono',consolas,'Courier New',monospace\">Loading Daily data for AMZN with starting period 2023-01-30.\n",
       "</pre>\n"
      ],
      "text/plain": [
       "Loading Daily data for AMZN with starting period 2023-01-30.\n"
      ]
     },
     "metadata": {},
     "output_type": "display_data"
    },
    {
     "data": {
      "text/html": [
       "<pre style=\"white-space:pre;overflow-x:auto;line-height:normal;font-family:Menlo,'DejaVu Sans Mono',consolas,'Courier New',monospace\">Loading Daily data for TSCO with starting period 2023-01-30.\n",
       "</pre>\n"
      ],
      "text/plain": [
       "Loading Daily data for TSCO with starting period 2023-01-30.\n"
      ]
     },
     "metadata": {},
     "output_type": "display_data"
    },
    {
     "data": {
      "text/html": [
       "<pre style=\"white-space:pre;overflow-x:auto;line-height:normal;font-family:Menlo,'DejaVu Sans Mono',consolas,'Courier New',monospace\">Loading Daily data for MSFT with starting period 2023-01-31.\n",
       "</pre>\n"
      ],
      "text/plain": [
       "Loading Daily data for MSFT with starting period 2023-01-31.\n"
      ]
     },
     "metadata": {},
     "output_type": "display_data"
    },
    {
     "data": {
      "text/html": [
       "<pre style=\"white-space:pre;overflow-x:auto;line-height:normal;font-family:Menlo,'DejaVu Sans Mono',consolas,'Courier New',monospace\">Loading Daily data for GOOG with starting period 2023-02-03.\n",
       "</pre>\n"
      ],
      "text/plain": [
       "Loading Daily data for GOOG with starting period 2023-02-03.\n"
      ]
     },
     "metadata": {},
     "output_type": "display_data"
    },
    {
     "data": {
      "text/html": [
       "<pre style=\"white-space:pre;overflow-x:auto;line-height:normal;font-family:Menlo,'DejaVu Sans Mono',consolas,'Courier New',monospace\">Loading Daily data for TSCO with starting period 2023-02-03.\n",
       "</pre>\n"
      ],
      "text/plain": [
       "Loading Daily data for TSCO with starting period 2023-02-03.\n"
      ]
     },
     "metadata": {},
     "output_type": "display_data"
    },
    {
     "data": {
      "text/html": [
       "<pre style=\"white-space:pre;overflow-x:auto;line-height:normal;font-family:Menlo,'DejaVu Sans Mono',consolas,'Courier New',monospace\">Loading Daily data for AAPL with starting period 2023-02-03.\n",
       "</pre>\n"
      ],
      "text/plain": [
       "Loading Daily data for AAPL with starting period 2023-02-03.\n"
      ]
     },
     "metadata": {},
     "output_type": "display_data"
    },
    {
     "data": {
      "text/html": [
       "<pre style=\"white-space:pre;overflow-x:auto;line-height:normal;font-family:Menlo,'DejaVu Sans Mono',consolas,'Courier New',monospace\">Loading Daily data for AAPL with starting period 2023-02-06.\n",
       "</pre>\n"
      ],
      "text/plain": [
       "Loading Daily data for AAPL with starting period 2023-02-06.\n"
      ]
     },
     "metadata": {},
     "output_type": "display_data"
    },
    {
     "data": {
      "text/html": [
       "<pre style=\"white-space:pre;overflow-x:auto;line-height:normal;font-family:Menlo,'DejaVu Sans Mono',consolas,'Courier New',monospace\">Loading Daily data for AMZN with starting period 2023-02-06.\n",
       "</pre>\n"
      ],
      "text/plain": [
       "Loading Daily data for AMZN with starting period 2023-02-06.\n"
      ]
     },
     "metadata": {},
     "output_type": "display_data"
    },
    {
     "data": {
      "text/html": [
       "<pre style=\"white-space:pre;overflow-x:auto;line-height:normal;font-family:Menlo,'DejaVu Sans Mono',consolas,'Courier New',monospace\">Loading Daily data for AMZN with starting period 2023-02-06.\n",
       "</pre>\n"
      ],
      "text/plain": [
       "Loading Daily data for AMZN with starting period 2023-02-06.\n"
      ]
     },
     "metadata": {},
     "output_type": "display_data"
    },
    {
     "data": {
      "text/html": [
       "<pre style=\"white-space:pre;overflow-x:auto;line-height:normal;font-family:Menlo,'DejaVu Sans Mono',consolas,'Courier New',monospace\">Loading Daily data for GOOG with starting period 2023-02-06.\n",
       "</pre>\n"
      ],
      "text/plain": [
       "Loading Daily data for GOOG with starting period 2023-02-06.\n"
      ]
     },
     "metadata": {},
     "output_type": "display_data"
    },
    {
     "data": {
      "text/html": [
       "<pre style=\"white-space:pre;overflow-x:auto;line-height:normal;font-family:Menlo,'DejaVu Sans Mono',consolas,'Courier New',monospace\">Loading Daily data for TSCO with starting period 2023-02-06.\n",
       "</pre>\n"
      ],
      "text/plain": [
       "Loading Daily data for TSCO with starting period 2023-02-06.\n"
      ]
     },
     "metadata": {},
     "output_type": "display_data"
    },
    {
     "data": {
      "text/html": [
       "<pre style=\"white-space:pre;overflow-x:auto;line-height:normal;font-family:Menlo,'DejaVu Sans Mono',consolas,'Courier New',monospace\">Loading Daily data for TSCO with starting period 2023-02-06.\n",
       "</pre>\n"
      ],
      "text/plain": [
       "Loading Daily data for TSCO with starting period 2023-02-06.\n"
      ]
     },
     "metadata": {},
     "output_type": "display_data"
    },
    {
     "data": {
      "text/html": [
       "<pre style=\"white-space:pre;overflow-x:auto;line-height:normal;font-family:Menlo,'DejaVu Sans Mono',consolas,'Courier New',monospace\">Loading Daily data for AMZN with starting period 2023-02-07.\n",
       "</pre>\n"
      ],
      "text/plain": [
       "Loading Daily data for AMZN with starting period 2023-02-07.\n"
      ]
     },
     "metadata": {},
     "output_type": "display_data"
    },
    {
     "data": {
      "text/html": [
       "<pre style=\"white-space:pre;overflow-x:auto;line-height:normal;font-family:Menlo,'DejaVu Sans Mono',consolas,'Courier New',monospace\">Loading Daily data for TSCO with starting period 2023-02-09.\n",
       "</pre>\n"
      ],
      "text/plain": [
       "Loading Daily data for TSCO with starting period 2023-02-09.\n"
      ]
     },
     "metadata": {},
     "output_type": "display_data"
    },
    {
     "data": {
      "text/html": [
       "<pre style=\"white-space:pre;overflow-x:auto;line-height:normal;font-family:Menlo,'DejaVu Sans Mono',consolas,'Courier New',monospace\">Loading Daily data for AMZN with starting period 2023-02-10.\n",
       "</pre>\n"
      ],
      "text/plain": [
       "Loading Daily data for AMZN with starting period 2023-02-10.\n"
      ]
     },
     "metadata": {},
     "output_type": "display_data"
    },
    {
     "data": {
      "text/html": [
       "<pre style=\"white-space:pre;overflow-x:auto;line-height:normal;font-family:Menlo,'DejaVu Sans Mono',consolas,'Courier New',monospace\">Loading Daily data for GOOG with starting period 2023-02-10.\n",
       "</pre>\n"
      ],
      "text/plain": [
       "Loading Daily data for GOOG with starting period 2023-02-10.\n"
      ]
     },
     "metadata": {},
     "output_type": "display_data"
    },
    {
     "data": {
      "text/html": [
       "<pre style=\"white-space:pre;overflow-x:auto;line-height:normal;font-family:Menlo,'DejaVu Sans Mono',consolas,'Courier New',monospace\">Loading Daily data for AMZN with starting period 2023-02-13.\n",
       "</pre>\n"
      ],
      "text/plain": [
       "Loading Daily data for AMZN with starting period 2023-02-13.\n"
      ]
     },
     "metadata": {},
     "output_type": "display_data"
    },
    {
     "data": {
      "text/html": [
       "<pre style=\"white-space:pre;overflow-x:auto;line-height:normal;font-family:Menlo,'DejaVu Sans Mono',consolas,'Courier New',monospace\">Loading Daily data for MSFT with starting period 2023-02-13.\n",
       "</pre>\n"
      ],
      "text/plain": [
       "Loading Daily data for MSFT with starting period 2023-02-13.\n"
      ]
     },
     "metadata": {},
     "output_type": "display_data"
    },
    {
     "data": {
      "text/html": [
       "<pre style=\"white-space:pre;overflow-x:auto;line-height:normal;font-family:Menlo,'DejaVu Sans Mono',consolas,'Courier New',monospace\">Loading Daily data for AAPL with starting period 2023-02-13.\n",
       "</pre>\n"
      ],
      "text/plain": [
       "Loading Daily data for AAPL with starting period 2023-02-13.\n"
      ]
     },
     "metadata": {},
     "output_type": "display_data"
    },
    {
     "data": {
      "text/html": [
       "<pre style=\"white-space:pre;overflow-x:auto;line-height:normal;font-family:Menlo,'DejaVu Sans Mono',consolas,'Courier New',monospace\">Loading Daily data for GOOG with starting period 2023-02-13.\n",
       "</pre>\n"
      ],
      "text/plain": [
       "Loading Daily data for GOOG with starting period 2023-02-13.\n"
      ]
     },
     "metadata": {},
     "output_type": "display_data"
    },
    {
     "data": {
      "text/html": [
       "<pre style=\"white-space:pre;overflow-x:auto;line-height:normal;font-family:Menlo,'DejaVu Sans Mono',consolas,'Courier New',monospace\">Loading Daily data for AMZN with starting period 2023-02-13.\n",
       "</pre>\n"
      ],
      "text/plain": [
       "Loading Daily data for AMZN with starting period 2023-02-13.\n"
      ]
     },
     "metadata": {},
     "output_type": "display_data"
    },
    {
     "data": {
      "text/html": [
       "<pre style=\"white-space:pre;overflow-x:auto;line-height:normal;font-family:Menlo,'DejaVu Sans Mono',consolas,'Courier New',monospace\">Loading Daily data for AAPL with starting period 2023-02-13.\n",
       "</pre>\n"
      ],
      "text/plain": [
       "Loading Daily data for AAPL with starting period 2023-02-13.\n"
      ]
     },
     "metadata": {},
     "output_type": "display_data"
    },
    {
     "data": {
      "text/html": [
       "<pre style=\"white-space:pre;overflow-x:auto;line-height:normal;font-family:Menlo,'DejaVu Sans Mono',consolas,'Courier New',monospace\">Loading Daily data for TSCO with starting period 2023-02-16.\n",
       "</pre>\n"
      ],
      "text/plain": [
       "Loading Daily data for TSCO with starting period 2023-02-16.\n"
      ]
     },
     "metadata": {},
     "output_type": "display_data"
    },
    {
     "data": {
      "text/html": [
       "<pre style=\"white-space:pre;overflow-x:auto;line-height:normal;font-family:Menlo,'DejaVu Sans Mono',consolas,'Courier New',monospace\">Loading Daily data for AMZN with starting period 2023-02-17.\n",
       "</pre>\n"
      ],
      "text/plain": [
       "Loading Daily data for AMZN with starting period 2023-02-17.\n"
      ]
     },
     "metadata": {},
     "output_type": "display_data"
    },
    {
     "data": {
      "text/html": [
       "<pre style=\"white-space:pre;overflow-x:auto;line-height:normal;font-family:Menlo,'DejaVu Sans Mono',consolas,'Courier New',monospace\">Loading Daily data for TSCO with starting period 2023-02-17.\n",
       "</pre>\n"
      ],
      "text/plain": [
       "Loading Daily data for TSCO with starting period 2023-02-17.\n"
      ]
     },
     "metadata": {},
     "output_type": "display_data"
    },
    {
     "data": {
      "text/html": [
       "<pre style=\"white-space:pre;overflow-x:auto;line-height:normal;font-family:Menlo,'DejaVu Sans Mono',consolas,'Courier New',monospace\">Loading Daily data for AMZN with starting period 2023-02-21.\n",
       "</pre>\n"
      ],
      "text/plain": [
       "Loading Daily data for AMZN with starting period 2023-02-21.\n"
      ]
     },
     "metadata": {},
     "output_type": "display_data"
    },
    {
     "data": {
      "text/html": [
       "<pre style=\"white-space:pre;overflow-x:auto;line-height:normal;font-family:Menlo,'DejaVu Sans Mono',consolas,'Courier New',monospace\">Loading Daily data for AMZN with starting period 2023-02-21.\n",
       "</pre>\n"
      ],
      "text/plain": [
       "Loading Daily data for AMZN with starting period 2023-02-21.\n"
      ]
     },
     "metadata": {},
     "output_type": "display_data"
    },
    {
     "data": {
      "text/html": [
       "<pre style=\"white-space:pre;overflow-x:auto;line-height:normal;font-family:Menlo,'DejaVu Sans Mono',consolas,'Courier New',monospace\">Loading Daily data for GOOG with starting period 2023-02-21.\n",
       "</pre>\n"
      ],
      "text/plain": [
       "Loading Daily data for GOOG with starting period 2023-02-21.\n"
      ]
     },
     "metadata": {},
     "output_type": "display_data"
    },
    {
     "data": {
      "text/html": [
       "<pre style=\"white-space:pre;overflow-x:auto;line-height:normal;font-family:Menlo,'DejaVu Sans Mono',consolas,'Courier New',monospace\">Loading Daily data for AMZN with starting period 2023-02-21.\n",
       "</pre>\n"
      ],
      "text/plain": [
       "Loading Daily data for AMZN with starting period 2023-02-21.\n"
      ]
     },
     "metadata": {},
     "output_type": "display_data"
    },
    {
     "data": {
      "text/html": [
       "<pre style=\"white-space:pre;overflow-x:auto;line-height:normal;font-family:Menlo,'DejaVu Sans Mono',consolas,'Courier New',monospace\">Loading Daily data for GOOG with starting period 2023-02-22.\n",
       "</pre>\n"
      ],
      "text/plain": [
       "Loading Daily data for GOOG with starting period 2023-02-22.\n"
      ]
     },
     "metadata": {},
     "output_type": "display_data"
    },
    {
     "data": {
      "text/html": [
       "<pre style=\"white-space:pre;overflow-x:auto;line-height:normal;font-family:Menlo,'DejaVu Sans Mono',consolas,'Courier New',monospace\">Loading Daily data for AAPL with starting period 2023-02-24.\n",
       "</pre>\n"
      ],
      "text/plain": [
       "Loading Daily data for AAPL with starting period 2023-02-24.\n"
      ]
     },
     "metadata": {},
     "output_type": "display_data"
    },
    {
     "data": {
      "text/html": [
       "<pre style=\"white-space:pre;overflow-x:auto;line-height:normal;font-family:Menlo,'DejaVu Sans Mono',consolas,'Courier New',monospace\">Loading Daily data for GOOG with starting period 2023-02-24.\n",
       "</pre>\n"
      ],
      "text/plain": [
       "Loading Daily data for GOOG with starting period 2023-02-24.\n"
      ]
     },
     "metadata": {},
     "output_type": "display_data"
    },
    {
     "data": {
      "text/html": [
       "<pre style=\"white-space:pre;overflow-x:auto;line-height:normal;font-family:Menlo,'DejaVu Sans Mono',consolas,'Courier New',monospace\">Loading Daily data for TSCO with starting period 2023-02-24.\n",
       "</pre>\n"
      ],
      "text/plain": [
       "Loading Daily data for TSCO with starting period 2023-02-24.\n"
      ]
     },
     "metadata": {},
     "output_type": "display_data"
    },
    {
     "data": {
      "text/html": [
       "<pre style=\"white-space:pre;overflow-x:auto;line-height:normal;font-family:Menlo,'DejaVu Sans Mono',consolas,'Courier New',monospace\">Loading Daily data for TSCO with starting period 2023-02-27.\n",
       "</pre>\n"
      ],
      "text/plain": [
       "Loading Daily data for TSCO with starting period 2023-02-27.\n"
      ]
     },
     "metadata": {},
     "output_type": "display_data"
    },
    {
     "data": {
      "text/html": [
       "<pre style=\"white-space:pre;overflow-x:auto;line-height:normal;font-family:Menlo,'DejaVu Sans Mono',consolas,'Courier New',monospace\">Loading Daily data for GOOG with starting period 2023-02-27.\n",
       "</pre>\n"
      ],
      "text/plain": [
       "Loading Daily data for GOOG with starting period 2023-02-27.\n"
      ]
     },
     "metadata": {},
     "output_type": "display_data"
    },
    {
     "data": {
      "text/html": [
       "<pre style=\"white-space:pre;overflow-x:auto;line-height:normal;font-family:Menlo,'DejaVu Sans Mono',consolas,'Courier New',monospace\">Loading Daily data for TSCO with starting period 2023-02-27.\n",
       "</pre>\n"
      ],
      "text/plain": [
       "Loading Daily data for TSCO with starting period 2023-02-27.\n"
      ]
     },
     "metadata": {},
     "output_type": "display_data"
    },
    {
     "data": {
      "text/html": [
       "<pre style=\"white-space:pre;overflow-x:auto;line-height:normal;font-family:Menlo,'DejaVu Sans Mono',consolas,'Courier New',monospace\">Loading Daily data for AMZN with starting period 2023-02-27.\n",
       "</pre>\n"
      ],
      "text/plain": [
       "Loading Daily data for AMZN with starting period 2023-02-27.\n"
      ]
     },
     "metadata": {},
     "output_type": "display_data"
    },
    {
     "data": {
      "text/html": [
       "<pre style=\"white-space:pre;overflow-x:auto;line-height:normal;font-family:Menlo,'DejaVu Sans Mono',consolas,'Courier New',monospace\">Loading Daily data for AMZN with starting period 2023-02-27.\n",
       "</pre>\n"
      ],
      "text/plain": [
       "Loading Daily data for AMZN with starting period 2023-02-27.\n"
      ]
     },
     "metadata": {},
     "output_type": "display_data"
    },
    {
     "data": {
      "text/html": [
       "<pre style=\"white-space:pre;overflow-x:auto;line-height:normal;font-family:Menlo,'DejaVu Sans Mono',consolas,'Courier New',monospace\">Loading Daily data for GOOG with starting period 2023-02-27.\n",
       "</pre>\n"
      ],
      "text/plain": [
       "Loading Daily data for GOOG with starting period 2023-02-27.\n"
      ]
     },
     "metadata": {},
     "output_type": "display_data"
    },
    {
     "data": {
      "text/html": [
       "<pre style=\"white-space:pre;overflow-x:auto;line-height:normal;font-family:Menlo,'DejaVu Sans Mono',consolas,'Courier New',monospace\">Loading Daily data for AAPL with starting period 2023-02-28.\n",
       "</pre>\n"
      ],
      "text/plain": [
       "Loading Daily data for AAPL with starting period 2023-02-28.\n"
      ]
     },
     "metadata": {},
     "output_type": "display_data"
    },
    {
     "data": {
      "text/html": [
       "<pre style=\"white-space:pre;overflow-x:auto;line-height:normal;font-family:Menlo,'DejaVu Sans Mono',consolas,'Courier New',monospace\">Loading Daily data for AMZN with starting period 2023-02-28.\n",
       "</pre>\n"
      ],
      "text/plain": [
       "Loading Daily data for AMZN with starting period 2023-02-28.\n"
      ]
     },
     "metadata": {},
     "output_type": "display_data"
    },
    {
     "data": {
      "text/html": [
       "<pre style=\"white-space:pre;overflow-x:auto;line-height:normal;font-family:Menlo,'DejaVu Sans Mono',consolas,'Courier New',monospace\">Loading Daily data for TSCO with starting period 2023-02-28.\n",
       "</pre>\n"
      ],
      "text/plain": [
       "Loading Daily data for TSCO with starting period 2023-02-28.\n"
      ]
     },
     "metadata": {},
     "output_type": "display_data"
    },
    {
     "data": {
      "text/html": [
       "<pre style=\"white-space:pre;overflow-x:auto;line-height:normal;font-family:Menlo,'DejaVu Sans Mono',consolas,'Courier New',monospace\">Loading Daily data for AAPL with starting period 2023-03-03.\n",
       "</pre>\n"
      ],
      "text/plain": [
       "Loading Daily data for AAPL with starting period 2023-03-03.\n"
      ]
     },
     "metadata": {},
     "output_type": "display_data"
    },
    {
     "data": {
      "text/html": [
       "<pre style=\"white-space:pre;overflow-x:auto;line-height:normal;font-family:Menlo,'DejaVu Sans Mono',consolas,'Courier New',monospace\">Loading Daily data for GOOG with starting period 2023-03-03.\n",
       "</pre>\n"
      ],
      "text/plain": [
       "Loading Daily data for GOOG with starting period 2023-03-03.\n"
      ]
     },
     "metadata": {},
     "output_type": "display_data"
    },
    {
     "data": {
      "text/html": [
       "<pre style=\"white-space:pre;overflow-x:auto;line-height:normal;font-family:Menlo,'DejaVu Sans Mono',consolas,'Courier New',monospace\">Loading Daily data for TSCO with starting period 2023-03-03.\n",
       "</pre>\n"
      ],
      "text/plain": [
       "Loading Daily data for TSCO with starting period 2023-03-03.\n"
      ]
     },
     "metadata": {},
     "output_type": "display_data"
    },
    {
     "data": {
      "text/html": [
       "<pre style=\"white-space:pre;overflow-x:auto;line-height:normal;font-family:Menlo,'DejaVu Sans Mono',consolas,'Courier New',monospace\">Loading Daily data for AMZN with starting period 2023-03-06.\n",
       "</pre>\n"
      ],
      "text/plain": [
       "Loading Daily data for AMZN with starting period 2023-03-06.\n"
      ]
     },
     "metadata": {},
     "output_type": "display_data"
    },
    {
     "data": {
      "text/html": [
       "<pre style=\"white-space:pre;overflow-x:auto;line-height:normal;font-family:Menlo,'DejaVu Sans Mono',consolas,'Courier New',monospace\">Loading Daily data for TSCO with starting period 2023-03-06.\n",
       "</pre>\n"
      ],
      "text/plain": [
       "Loading Daily data for TSCO with starting period 2023-03-06.\n"
      ]
     },
     "metadata": {},
     "output_type": "display_data"
    },
    {
     "data": {
      "text/html": [
       "<pre style=\"white-space:pre;overflow-x:auto;line-height:normal;font-family:Menlo,'DejaVu Sans Mono',consolas,'Courier New',monospace\">Loading Daily data for AMZN with starting period 2023-03-06.\n",
       "</pre>\n"
      ],
      "text/plain": [
       "Loading Daily data for AMZN with starting period 2023-03-06.\n"
      ]
     },
     "metadata": {},
     "output_type": "display_data"
    },
    {
     "data": {
      "text/html": [
       "<pre style=\"white-space:pre;overflow-x:auto;line-height:normal;font-family:Menlo,'DejaVu Sans Mono',consolas,'Courier New',monospace\">Loading Daily data for TSCO with starting period 2023-03-06.\n",
       "</pre>\n"
      ],
      "text/plain": [
       "Loading Daily data for TSCO with starting period 2023-03-06.\n"
      ]
     },
     "metadata": {},
     "output_type": "display_data"
    },
    {
     "data": {
      "text/html": [
       "<pre style=\"white-space:pre;overflow-x:auto;line-height:normal;font-family:Menlo,'DejaVu Sans Mono',consolas,'Courier New',monospace\">Loading Daily data for AAPL with starting period 2023-03-06.\n",
       "</pre>\n"
      ],
      "text/plain": [
       "Loading Daily data for AAPL with starting period 2023-03-06.\n"
      ]
     },
     "metadata": {},
     "output_type": "display_data"
    },
    {
     "data": {
      "text/html": [
       "<pre style=\"white-space:pre;overflow-x:auto;line-height:normal;font-family:Menlo,'DejaVu Sans Mono',consolas,'Courier New',monospace\">Loading Daily data for AMZN with starting period 2023-03-06.\n",
       "</pre>\n"
      ],
      "text/plain": [
       "Loading Daily data for AMZN with starting period 2023-03-06.\n"
      ]
     },
     "metadata": {},
     "output_type": "display_data"
    },
    {
     "data": {
      "text/html": [
       "<pre style=\"white-space:pre;overflow-x:auto;line-height:normal;font-family:Menlo,'DejaVu Sans Mono',consolas,'Courier New',monospace\">Loading Daily data for GOOG with starting period 2023-03-07.\n",
       "</pre>\n"
      ],
      "text/plain": [
       "Loading Daily data for GOOG with starting period 2023-03-07.\n"
      ]
     },
     "metadata": {},
     "output_type": "display_data"
    },
    {
     "data": {
      "text/html": [
       "<pre style=\"white-space:pre;overflow-x:auto;line-height:normal;font-family:Menlo,'DejaVu Sans Mono',consolas,'Courier New',monospace\">Loading Daily data for AMZN with starting period 2023-03-07.\n",
       "</pre>\n"
      ],
      "text/plain": [
       "Loading Daily data for AMZN with starting period 2023-03-07.\n"
      ]
     },
     "metadata": {},
     "output_type": "display_data"
    },
    {
     "data": {
      "text/html": [
       "<pre style=\"white-space:pre;overflow-x:auto;line-height:normal;font-family:Menlo,'DejaVu Sans Mono',consolas,'Courier New',monospace\">Loading Daily data for AMZN with starting period 2023-03-10.\n",
       "</pre>\n"
      ],
      "text/plain": [
       "Loading Daily data for AMZN with starting period 2023-03-10.\n"
      ]
     },
     "metadata": {},
     "output_type": "display_data"
    },
    {
     "data": {
      "text/html": [
       "<pre style=\"white-space:pre;overflow-x:auto;line-height:normal;font-family:Menlo,'DejaVu Sans Mono',consolas,'Courier New',monospace\">Loading Daily data for MSFT with starting period 2023-03-10.\n",
       "</pre>\n"
      ],
      "text/plain": [
       "Loading Daily data for MSFT with starting period 2023-03-10.\n"
      ]
     },
     "metadata": {},
     "output_type": "display_data"
    },
    {
     "data": {
      "text/html": [
       "<pre style=\"white-space:pre;overflow-x:auto;line-height:normal;font-family:Menlo,'DejaVu Sans Mono',consolas,'Courier New',monospace\">Loading Daily data for AAPL with starting period 2023-03-13.\n",
       "</pre>\n"
      ],
      "text/plain": [
       "Loading Daily data for AAPL with starting period 2023-03-13.\n"
      ]
     },
     "metadata": {},
     "output_type": "display_data"
    },
    {
     "data": {
      "text/html": [
       "<pre style=\"white-space:pre;overflow-x:auto;line-height:normal;font-family:Menlo,'DejaVu Sans Mono',consolas,'Courier New',monospace\">Loading Daily data for TSCO with starting period 2023-03-13.\n",
       "</pre>\n"
      ],
      "text/plain": [
       "Loading Daily data for TSCO with starting period 2023-03-13.\n"
      ]
     },
     "metadata": {},
     "output_type": "display_data"
    },
    {
     "data": {
      "text/html": [
       "<pre style=\"white-space:pre;overflow-x:auto;line-height:normal;font-family:Menlo,'DejaVu Sans Mono',consolas,'Courier New',monospace\">Loading Daily data for AAPL with starting period 2023-03-13.\n",
       "</pre>\n"
      ],
      "text/plain": [
       "Loading Daily data for AAPL with starting period 2023-03-13.\n"
      ]
     },
     "metadata": {},
     "output_type": "display_data"
    },
    {
     "data": {
      "text/html": [
       "<pre style=\"white-space:pre;overflow-x:auto;line-height:normal;font-family:Menlo,'DejaVu Sans Mono',consolas,'Courier New',monospace\">Loading Daily data for TSCO with starting period 2023-03-13.\n",
       "</pre>\n"
      ],
      "text/plain": [
       "Loading Daily data for TSCO with starting period 2023-03-13.\n"
      ]
     },
     "metadata": {},
     "output_type": "display_data"
    },
    {
     "data": {
      "text/html": [
       "<pre style=\"white-space:pre;overflow-x:auto;line-height:normal;font-family:Menlo,'DejaVu Sans Mono',consolas,'Courier New',monospace\">Loading Daily data for AMZN with starting period 2023-03-13.\n",
       "</pre>\n"
      ],
      "text/plain": [
       "Loading Daily data for AMZN with starting period 2023-03-13.\n"
      ]
     },
     "metadata": {},
     "output_type": "display_data"
    },
    {
     "data": {
      "text/html": [
       "<pre style=\"white-space:pre;overflow-x:auto;line-height:normal;font-family:Menlo,'DejaVu Sans Mono',consolas,'Courier New',monospace\">Loading Daily data for TSCO with starting period 2023-03-14.\n",
       "</pre>\n"
      ],
      "text/plain": [
       "Loading Daily data for TSCO with starting period 2023-03-14.\n"
      ]
     },
     "metadata": {},
     "output_type": "display_data"
    },
    {
     "data": {
      "text/html": [
       "<pre style=\"white-space:pre;overflow-x:auto;line-height:normal;font-family:Menlo,'DejaVu Sans Mono',consolas,'Courier New',monospace\">Loading Daily data for GOOG with starting period 2023-03-16.\n",
       "</pre>\n"
      ],
      "text/plain": [
       "Loading Daily data for GOOG with starting period 2023-03-16.\n"
      ]
     },
     "metadata": {},
     "output_type": "display_data"
    },
    {
     "data": {
      "text/html": [
       "<pre style=\"white-space:pre;overflow-x:auto;line-height:normal;font-family:Menlo,'DejaVu Sans Mono',consolas,'Courier New',monospace\">Loading Daily data for MSFT with starting period 2023-03-17.\n",
       "</pre>\n"
      ],
      "text/plain": [
       "Loading Daily data for MSFT with starting period 2023-03-17.\n"
      ]
     },
     "metadata": {},
     "output_type": "display_data"
    },
    {
     "data": {
      "text/html": [
       "<pre style=\"white-space:pre;overflow-x:auto;line-height:normal;font-family:Menlo,'DejaVu Sans Mono',consolas,'Courier New',monospace\">Loading Daily data for GOOG with starting period 2023-03-17.\n",
       "</pre>\n"
      ],
      "text/plain": [
       "Loading Daily data for GOOG with starting period 2023-03-17.\n"
      ]
     },
     "metadata": {},
     "output_type": "display_data"
    },
    {
     "data": {
      "text/html": [
       "<pre style=\"white-space:pre;overflow-x:auto;line-height:normal;font-family:Menlo,'DejaVu Sans Mono',consolas,'Courier New',monospace\">Loading Daily data for TSCO with starting period 2023-03-17.\n",
       "</pre>\n"
      ],
      "text/plain": [
       "Loading Daily data for TSCO with starting period 2023-03-17.\n"
      ]
     },
     "metadata": {},
     "output_type": "display_data"
    },
    {
     "data": {
      "text/html": [
       "<pre style=\"white-space:pre;overflow-x:auto;line-height:normal;font-family:Menlo,'DejaVu Sans Mono',consolas,'Courier New',monospace\">Loading Daily data for AAPL with starting period 2023-03-17.\n",
       "</pre>\n"
      ],
      "text/plain": [
       "Loading Daily data for AAPL with starting period 2023-03-17.\n"
      ]
     },
     "metadata": {},
     "output_type": "display_data"
    },
    {
     "data": {
      "text/html": [
       "<pre style=\"white-space:pre;overflow-x:auto;line-height:normal;font-family:Menlo,'DejaVu Sans Mono',consolas,'Courier New',monospace\">Loading Daily data for AMZN with starting period 2023-03-17.\n",
       "</pre>\n"
      ],
      "text/plain": [
       "Loading Daily data for AMZN with starting period 2023-03-17.\n"
      ]
     },
     "metadata": {},
     "output_type": "display_data"
    },
    {
     "data": {
      "text/html": [
       "<pre style=\"white-space:pre;overflow-x:auto;line-height:normal;font-family:Menlo,'DejaVu Sans Mono',consolas,'Courier New',monospace\">Loading Daily data for AAPL with starting period 2023-03-20.\n",
       "</pre>\n"
      ],
      "text/plain": [
       "Loading Daily data for AAPL with starting period 2023-03-20.\n"
      ]
     },
     "metadata": {},
     "output_type": "display_data"
    },
    {
     "data": {
      "text/html": [
       "<pre style=\"white-space:pre;overflow-x:auto;line-height:normal;font-family:Menlo,'DejaVu Sans Mono',consolas,'Courier New',monospace\">Loading Daily data for GOOG with starting period 2023-03-20.\n",
       "</pre>\n"
      ],
      "text/plain": [
       "Loading Daily data for GOOG with starting period 2023-03-20.\n"
      ]
     },
     "metadata": {},
     "output_type": "display_data"
    },
    {
     "data": {
      "text/html": [
       "<pre style=\"white-space:pre;overflow-x:auto;line-height:normal;font-family:Menlo,'DejaVu Sans Mono',consolas,'Courier New',monospace\">Loading Daily data for MSFT with starting period 2023-03-20.\n",
       "</pre>\n"
      ],
      "text/plain": [
       "Loading Daily data for MSFT with starting period 2023-03-20.\n"
      ]
     },
     "metadata": {},
     "output_type": "display_data"
    },
    {
     "data": {
      "text/html": [
       "<pre style=\"white-space:pre;overflow-x:auto;line-height:normal;font-family:Menlo,'DejaVu Sans Mono',consolas,'Courier New',monospace\">Loading Daily data for TSCO with starting period 2023-03-20.\n",
       "</pre>\n"
      ],
      "text/plain": [
       "Loading Daily data for TSCO with starting period 2023-03-20.\n"
      ]
     },
     "metadata": {},
     "output_type": "display_data"
    },
    {
     "data": {
      "text/html": [
       "<pre style=\"white-space:pre;overflow-x:auto;line-height:normal;font-family:Menlo,'DejaVu Sans Mono',consolas,'Courier New',monospace\">Loading Daily data for GOOG with starting period 2023-03-20.\n",
       "</pre>\n"
      ],
      "text/plain": [
       "Loading Daily data for GOOG with starting period 2023-03-20.\n"
      ]
     },
     "metadata": {},
     "output_type": "display_data"
    },
    {
     "data": {
      "text/html": [
       "<pre style=\"white-space:pre;overflow-x:auto;line-height:normal;font-family:Menlo,'DejaVu Sans Mono',consolas,'Courier New',monospace\">Loading Daily data for MSFT with starting period 2023-03-20.\n",
       "</pre>\n"
      ],
      "text/plain": [
       "Loading Daily data for MSFT with starting period 2023-03-20.\n"
      ]
     },
     "metadata": {},
     "output_type": "display_data"
    },
    {
     "data": {
      "text/html": [
       "<pre style=\"white-space:pre;overflow-x:auto;line-height:normal;font-family:Menlo,'DejaVu Sans Mono',consolas,'Courier New',monospace\">Loading Daily data for AAPL with starting period 2023-03-20.\n",
       "</pre>\n"
      ],
      "text/plain": [
       "Loading Daily data for AAPL with starting period 2023-03-20.\n"
      ]
     },
     "metadata": {},
     "output_type": "display_data"
    },
    {
     "data": {
      "text/html": [
       "<pre style=\"white-space:pre;overflow-x:auto;line-height:normal;font-family:Menlo,'DejaVu Sans Mono',consolas,'Courier New',monospace\">Loading Daily data for AMZN with starting period 2023-03-20.\n",
       "</pre>\n"
      ],
      "text/plain": [
       "Loading Daily data for AMZN with starting period 2023-03-20.\n"
      ]
     },
     "metadata": {},
     "output_type": "display_data"
    },
    {
     "data": {
      "text/html": [
       "<pre style=\"white-space:pre;overflow-x:auto;line-height:normal;font-family:Menlo,'DejaVu Sans Mono',consolas,'Courier New',monospace\">Loading Daily data for AAPL with starting period 2023-03-20.\n",
       "</pre>\n"
      ],
      "text/plain": [
       "Loading Daily data for AAPL with starting period 2023-03-20.\n"
      ]
     },
     "metadata": {},
     "output_type": "display_data"
    },
    {
     "data": {
      "text/html": [
       "<pre style=\"white-space:pre;overflow-x:auto;line-height:normal;font-family:Menlo,'DejaVu Sans Mono',consolas,'Courier New',monospace\">Loading Daily data for AMZN with starting period 2023-03-20.\n",
       "</pre>\n"
      ],
      "text/plain": [
       "Loading Daily data for AMZN with starting period 2023-03-20.\n"
      ]
     },
     "metadata": {},
     "output_type": "display_data"
    },
    {
     "data": {
      "text/html": [
       "<pre style=\"white-space:pre;overflow-x:auto;line-height:normal;font-family:Menlo,'DejaVu Sans Mono',consolas,'Courier New',monospace\">Loading Daily data for GOOG with starting period 2023-03-20.\n",
       "</pre>\n"
      ],
      "text/plain": [
       "Loading Daily data for GOOG with starting period 2023-03-20.\n"
      ]
     },
     "metadata": {},
     "output_type": "display_data"
    },
    {
     "data": {
      "text/html": [
       "<pre style=\"white-space:pre;overflow-x:auto;line-height:normal;font-family:Menlo,'DejaVu Sans Mono',consolas,'Courier New',monospace\">Loading Daily data for MSFT with starting period 2023-03-20.\n",
       "</pre>\n"
      ],
      "text/plain": [
       "Loading Daily data for MSFT with starting period 2023-03-20.\n"
      ]
     },
     "metadata": {},
     "output_type": "display_data"
    },
    {
     "data": {
      "text/html": [
       "<pre style=\"white-space:pre;overflow-x:auto;line-height:normal;font-family:Menlo,'DejaVu Sans Mono',consolas,'Courier New',monospace\">Loading Daily data for TSCO with starting period 2023-03-20.\n",
       "</pre>\n"
      ],
      "text/plain": [
       "Loading Daily data for TSCO with starting period 2023-03-20.\n"
      ]
     },
     "metadata": {},
     "output_type": "display_data"
    },
    {
     "data": {
      "text/html": [
       "<pre style=\"white-space:pre;overflow-x:auto;line-height:normal;font-family:Menlo,'DejaVu Sans Mono',consolas,'Courier New',monospace\">Loading Daily data for TSCO with starting period 2023-03-21.\n",
       "</pre>\n"
      ],
      "text/plain": [
       "Loading Daily data for TSCO with starting period 2023-03-21.\n"
      ]
     },
     "metadata": {},
     "output_type": "display_data"
    },
    {
     "data": {
      "text/html": [
       "<pre style=\"white-space:pre;overflow-x:auto;line-height:normal;font-family:Menlo,'DejaVu Sans Mono',consolas,'Courier New',monospace\">Loading Daily data for MSFT with starting period 2023-03-21.\n",
       "</pre>\n"
      ],
      "text/plain": [
       "Loading Daily data for MSFT with starting period 2023-03-21.\n"
      ]
     },
     "metadata": {},
     "output_type": "display_data"
    },
    {
     "data": {
      "text/html": [
       "<pre style=\"white-space:pre;overflow-x:auto;line-height:normal;font-family:Menlo,'DejaVu Sans Mono',consolas,'Courier New',monospace\">Loading Daily data for AMZN with starting period 2023-03-21.\n",
       "</pre>\n"
      ],
      "text/plain": [
       "Loading Daily data for AMZN with starting period 2023-03-21.\n"
      ]
     },
     "metadata": {},
     "output_type": "display_data"
    },
    {
     "data": {
      "text/html": [
       "<pre style=\"white-space:pre;overflow-x:auto;line-height:normal;font-family:Menlo,'DejaVu Sans Mono',consolas,'Courier New',monospace\">Loading Daily data for AAPL with starting period 2023-03-21.\n",
       "</pre>\n"
      ],
      "text/plain": [
       "Loading Daily data for AAPL with starting period 2023-03-21.\n"
      ]
     },
     "metadata": {},
     "output_type": "display_data"
    },
    {
     "data": {
      "text/html": [
       "<pre style=\"white-space:pre;overflow-x:auto;line-height:normal;font-family:Menlo,'DejaVu Sans Mono',consolas,'Courier New',monospace\">Loading Daily data for AAPL with starting period 2023-03-22.\n",
       "</pre>\n"
      ],
      "text/plain": [
       "Loading Daily data for AAPL with starting period 2023-03-22.\n"
      ]
     },
     "metadata": {},
     "output_type": "display_data"
    },
    {
     "data": {
      "text/html": [
       "<pre style=\"white-space:pre;overflow-x:auto;line-height:normal;font-family:Menlo,'DejaVu Sans Mono',consolas,'Courier New',monospace\">Loading Daily data for AAPL with starting period 2023-03-23.\n",
       "</pre>\n"
      ],
      "text/plain": [
       "Loading Daily data for AAPL with starting period 2023-03-23.\n"
      ]
     },
     "metadata": {},
     "output_type": "display_data"
    },
    {
     "data": {
      "text/html": [
       "<pre style=\"white-space:pre;overflow-x:auto;line-height:normal;font-family:Menlo,'DejaVu Sans Mono',consolas,'Courier New',monospace\">Loading Daily data for AMZN with starting period 2023-03-23.\n",
       "</pre>\n"
      ],
      "text/plain": [
       "Loading Daily data for AMZN with starting period 2023-03-23.\n"
      ]
     },
     "metadata": {},
     "output_type": "display_data"
    },
    {
     "data": {
      "text/html": [
       "<pre style=\"white-space:pre;overflow-x:auto;line-height:normal;font-family:Menlo,'DejaVu Sans Mono',consolas,'Courier New',monospace\">Loading Daily data for GOOG with starting period 2023-03-23.\n",
       "</pre>\n"
      ],
      "text/plain": [
       "Loading Daily data for GOOG with starting period 2023-03-23.\n"
      ]
     },
     "metadata": {},
     "output_type": "display_data"
    },
    {
     "data": {
      "text/html": [
       "<pre style=\"white-space:pre;overflow-x:auto;line-height:normal;font-family:Menlo,'DejaVu Sans Mono',consolas,'Courier New',monospace\">Loading Daily data for MSFT with starting period 2023-03-23.\n",
       "</pre>\n"
      ],
      "text/plain": [
       "Loading Daily data for MSFT with starting period 2023-03-23.\n"
      ]
     },
     "metadata": {},
     "output_type": "display_data"
    },
    {
     "data": {
      "text/html": [
       "<pre style=\"white-space:pre;overflow-x:auto;line-height:normal;font-family:Menlo,'DejaVu Sans Mono',consolas,'Courier New',monospace\">Loading Daily data for TSCO with starting period 2023-03-23.\n",
       "</pre>\n"
      ],
      "text/plain": [
       "Loading Daily data for TSCO with starting period 2023-03-23.\n"
      ]
     },
     "metadata": {},
     "output_type": "display_data"
    },
    {
     "data": {
      "text/html": [
       "<pre style=\"white-space:pre;overflow-x:auto;line-height:normal;font-family:Menlo,'DejaVu Sans Mono',consolas,'Courier New',monospace\">Loading Daily data for AAPL with starting period 2023-03-24.\n",
       "</pre>\n"
      ],
      "text/plain": [
       "Loading Daily data for AAPL with starting period 2023-03-24.\n"
      ]
     },
     "metadata": {},
     "output_type": "display_data"
    },
    {
     "data": {
      "text/html": [
       "<pre style=\"white-space:pre;overflow-x:auto;line-height:normal;font-family:Menlo,'DejaVu Sans Mono',consolas,'Courier New',monospace\">Loading Daily data for AMZN with starting period 2023-03-24.\n",
       "</pre>\n"
      ],
      "text/plain": [
       "Loading Daily data for AMZN with starting period 2023-03-24.\n"
      ]
     },
     "metadata": {},
     "output_type": "display_data"
    },
    {
     "data": {
      "text/html": [
       "<pre style=\"white-space:pre;overflow-x:auto;line-height:normal;font-family:Menlo,'DejaVu Sans Mono',consolas,'Courier New',monospace\">Loading Daily data for GOOG with starting period 2023-03-24.\n",
       "</pre>\n"
      ],
      "text/plain": [
       "Loading Daily data for GOOG with starting period 2023-03-24.\n"
      ]
     },
     "metadata": {},
     "output_type": "display_data"
    },
    {
     "data": {
      "text/html": [
       "<pre style=\"white-space:pre;overflow-x:auto;line-height:normal;font-family:Menlo,'DejaVu Sans Mono',consolas,'Courier New',monospace\">Loading Daily data for MSFT with starting period 2023-03-24.\n",
       "</pre>\n"
      ],
      "text/plain": [
       "Loading Daily data for MSFT with starting period 2023-03-24.\n"
      ]
     },
     "metadata": {},
     "output_type": "display_data"
    },
    {
     "data": {
      "text/html": [
       "<pre style=\"white-space:pre;overflow-x:auto;line-height:normal;font-family:Menlo,'DejaVu Sans Mono',consolas,'Courier New',monospace\">Loading Daily data for TSCO with starting period 2023-03-24.\n",
       "</pre>\n"
      ],
      "text/plain": [
       "Loading Daily data for TSCO with starting period 2023-03-24.\n"
      ]
     },
     "metadata": {},
     "output_type": "display_data"
    },
    {
     "data": {
      "text/html": [
       "<pre style=\"white-space:pre;overflow-x:auto;line-height:normal;font-family:Menlo,'DejaVu Sans Mono',consolas,'Courier New',monospace\">Loading Daily data for GOOG with starting period 2023-03-27.\n",
       "</pre>\n"
      ],
      "text/plain": [
       "Loading Daily data for GOOG with starting period 2023-03-27.\n"
      ]
     },
     "metadata": {},
     "output_type": "display_data"
    },
    {
     "data": {
      "text/html": [
       "<pre style=\"white-space:pre;overflow-x:auto;line-height:normal;font-family:Menlo,'DejaVu Sans Mono',consolas,'Courier New',monospace\">Loading Daily data for MSFT with starting period 2023-03-27.\n",
       "</pre>\n"
      ],
      "text/plain": [
       "Loading Daily data for MSFT with starting period 2023-03-27.\n"
      ]
     },
     "metadata": {},
     "output_type": "display_data"
    },
    {
     "data": {
      "text/html": [
       "<pre style=\"white-space:pre;overflow-x:auto;line-height:normal;font-family:Menlo,'DejaVu Sans Mono',consolas,'Courier New',monospace\">Loading Daily data for AAPL with starting period 2023-03-27.\n",
       "</pre>\n"
      ],
      "text/plain": [
       "Loading Daily data for AAPL with starting period 2023-03-27.\n"
      ]
     },
     "metadata": {},
     "output_type": "display_data"
    },
    {
     "data": {
      "text/html": [
       "<pre style=\"white-space:pre;overflow-x:auto;line-height:normal;font-family:Menlo,'DejaVu Sans Mono',consolas,'Courier New',monospace\">Loading Daily data for AAPL with starting period 2023-03-27.\n",
       "</pre>\n"
      ],
      "text/plain": [
       "Loading Daily data for AAPL with starting period 2023-03-27.\n"
      ]
     },
     "metadata": {},
     "output_type": "display_data"
    },
    {
     "data": {
      "text/html": [
       "<pre style=\"white-space:pre;overflow-x:auto;line-height:normal;font-family:Menlo,'DejaVu Sans Mono',consolas,'Courier New',monospace\">Loading Daily data for AMZN with starting period 2023-03-27.\n",
       "</pre>\n"
      ],
      "text/plain": [
       "Loading Daily data for AMZN with starting period 2023-03-27.\n"
      ]
     },
     "metadata": {},
     "output_type": "display_data"
    },
    {
     "data": {
      "text/html": [
       "<pre style=\"white-space:pre;overflow-x:auto;line-height:normal;font-family:Menlo,'DejaVu Sans Mono',consolas,'Courier New',monospace\">Loading Daily data for GOOG with starting period 2023-03-27.\n",
       "</pre>\n"
      ],
      "text/plain": [
       "Loading Daily data for GOOG with starting period 2023-03-27.\n"
      ]
     },
     "metadata": {},
     "output_type": "display_data"
    },
    {
     "data": {
      "text/html": [
       "<pre style=\"white-space:pre;overflow-x:auto;line-height:normal;font-family:Menlo,'DejaVu Sans Mono',consolas,'Courier New',monospace\">Loading Daily data for MSFT with starting period 2023-03-27.\n",
       "</pre>\n"
      ],
      "text/plain": [
       "Loading Daily data for MSFT with starting period 2023-03-27.\n"
      ]
     },
     "metadata": {},
     "output_type": "display_data"
    },
    {
     "data": {
      "text/html": [
       "<pre style=\"white-space:pre;overflow-x:auto;line-height:normal;font-family:Menlo,'DejaVu Sans Mono',consolas,'Courier New',monospace\">Loading Daily data for AAPL with starting period 2023-03-27.\n",
       "</pre>\n"
      ],
      "text/plain": [
       "Loading Daily data for AAPL with starting period 2023-03-27.\n"
      ]
     },
     "metadata": {},
     "output_type": "display_data"
    },
    {
     "data": {
      "text/html": [
       "<pre style=\"white-space:pre;overflow-x:auto;line-height:normal;font-family:Menlo,'DejaVu Sans Mono',consolas,'Courier New',monospace\">Loading Daily data for GOOG with starting period 2023-03-27.\n",
       "</pre>\n"
      ],
      "text/plain": [
       "Loading Daily data for GOOG with starting period 2023-03-27.\n"
      ]
     },
     "metadata": {},
     "output_type": "display_data"
    },
    {
     "data": {
      "text/html": [
       "<pre style=\"white-space:pre;overflow-x:auto;line-height:normal;font-family:Menlo,'DejaVu Sans Mono',consolas,'Courier New',monospace\">Loading Daily data for MSFT with starting period 2023-03-27.\n",
       "</pre>\n"
      ],
      "text/plain": [
       "Loading Daily data for MSFT with starting period 2023-03-27.\n"
      ]
     },
     "metadata": {},
     "output_type": "display_data"
    },
    {
     "data": {
      "text/html": [
       "<pre style=\"white-space:pre;overflow-x:auto;line-height:normal;font-family:Menlo,'DejaVu Sans Mono',consolas,'Courier New',monospace\">Loading Daily data for MSFT with starting period 2023-03-28.\n",
       "</pre>\n"
      ],
      "text/plain": [
       "Loading Daily data for MSFT with starting period 2023-03-28.\n"
      ]
     },
     "metadata": {},
     "output_type": "display_data"
    },
    {
     "data": {
      "text/html": [
       "<pre style=\"white-space:pre;overflow-x:auto;line-height:normal;font-family:Menlo,'DejaVu Sans Mono',consolas,'Courier New',monospace\">Loading Daily data for TSCO with starting period 2023-03-28.\n",
       "</pre>\n"
      ],
      "text/plain": [
       "Loading Daily data for TSCO with starting period 2023-03-28.\n"
      ]
     },
     "metadata": {},
     "output_type": "display_data"
    },
    {
     "data": {
      "text/html": [
       "<pre style=\"white-space:pre;overflow-x:auto;line-height:normal;font-family:Menlo,'DejaVu Sans Mono',consolas,'Courier New',monospace\">Loading Daily data for AAPL with starting period 2023-03-30.\n",
       "</pre>\n"
      ],
      "text/plain": [
       "Loading Daily data for AAPL with starting period 2023-03-30.\n"
      ]
     },
     "metadata": {},
     "output_type": "display_data"
    },
    {
     "data": {
      "text/html": [
       "<pre style=\"white-space:pre;overflow-x:auto;line-height:normal;font-family:Menlo,'DejaVu Sans Mono',consolas,'Courier New',monospace\">Loading Daily data for AMZN with starting period 2023-03-30.\n",
       "</pre>\n"
      ],
      "text/plain": [
       "Loading Daily data for AMZN with starting period 2023-03-30.\n"
      ]
     },
     "metadata": {},
     "output_type": "display_data"
    },
    {
     "data": {
      "text/html": [
       "<pre style=\"white-space:pre;overflow-x:auto;line-height:normal;font-family:Menlo,'DejaVu Sans Mono',consolas,'Courier New',monospace\">Loading Daily data for GOOG with starting period 2023-03-30.\n",
       "</pre>\n"
      ],
      "text/plain": [
       "Loading Daily data for GOOG with starting period 2023-03-30.\n"
      ]
     },
     "metadata": {},
     "output_type": "display_data"
    },
    {
     "data": {
      "text/html": [
       "<pre style=\"white-space:pre;overflow-x:auto;line-height:normal;font-family:Menlo,'DejaVu Sans Mono',consolas,'Courier New',monospace\">Loading Daily data for TSCO with starting period 2023-03-31.\n",
       "</pre>\n"
      ],
      "text/plain": [
       "Loading Daily data for TSCO with starting period 2023-03-31.\n"
      ]
     },
     "metadata": {},
     "output_type": "display_data"
    },
    {
     "data": {
      "text/html": [
       "<pre style=\"white-space:pre;overflow-x:auto;line-height:normal;font-family:Menlo,'DejaVu Sans Mono',consolas,'Courier New',monospace\">Loading Daily data for MSFT with starting period 2023-03-31.\n",
       "</pre>\n"
      ],
      "text/plain": [
       "Loading Daily data for MSFT with starting period 2023-03-31.\n"
      ]
     },
     "metadata": {},
     "output_type": "display_data"
    },
    {
     "data": {
      "text/html": [
       "<pre style=\"white-space:pre;overflow-x:auto;line-height:normal;font-family:Menlo,'DejaVu Sans Mono',consolas,'Courier New',monospace\">Loading Daily data for AMZN with starting period 2023-03-31.\n",
       "</pre>\n"
      ],
      "text/plain": [
       "Loading Daily data for AMZN with starting period 2023-03-31.\n"
      ]
     },
     "metadata": {},
     "output_type": "display_data"
    },
    {
     "data": {
      "text/html": [
       "<pre style=\"white-space:pre;overflow-x:auto;line-height:normal;font-family:Menlo,'DejaVu Sans Mono',consolas,'Courier New',monospace\">Loading Daily data for AAPL with starting period 2023-03-31.\n",
       "</pre>\n"
      ],
      "text/plain": [
       "Loading Daily data for AAPL with starting period 2023-03-31.\n"
      ]
     },
     "metadata": {},
     "output_type": "display_data"
    },
    {
     "data": {
      "text/html": [
       "<pre style=\"white-space:pre;overflow-x:auto;line-height:normal;font-family:Menlo,'DejaVu Sans Mono',consolas,'Courier New',monospace\">Loading Daily data for GOOG with starting period 2023-03-31.\n",
       "</pre>\n"
      ],
      "text/plain": [
       "Loading Daily data for GOOG with starting period 2023-03-31.\n"
      ]
     },
     "metadata": {},
     "output_type": "display_data"
    },
    {
     "data": {
      "text/html": [
       "<pre style=\"white-space:pre;overflow-x:auto;line-height:normal;font-family:Menlo,'DejaVu Sans Mono',consolas,'Courier New',monospace\">Loading Daily data for AAPL with starting period 2023-04-03.\n",
       "</pre>\n"
      ],
      "text/plain": [
       "Loading Daily data for AAPL with starting period 2023-04-03.\n"
      ]
     },
     "metadata": {},
     "output_type": "display_data"
    },
    {
     "data": {
      "text/html": [
       "<pre style=\"white-space:pre;overflow-x:auto;line-height:normal;font-family:Menlo,'DejaVu Sans Mono',consolas,'Courier New',monospace\">Loading Daily data for AMZN with starting period 2023-04-03.\n",
       "</pre>\n"
      ],
      "text/plain": [
       "Loading Daily data for AMZN with starting period 2023-04-03.\n"
      ]
     },
     "metadata": {},
     "output_type": "display_data"
    },
    {
     "data": {
      "text/html": [
       "<pre style=\"white-space:pre;overflow-x:auto;line-height:normal;font-family:Menlo,'DejaVu Sans Mono',consolas,'Courier New',monospace\">Loading Daily data for GOOG with starting period 2023-04-03.\n",
       "</pre>\n"
      ],
      "text/plain": [
       "Loading Daily data for GOOG with starting period 2023-04-03.\n"
      ]
     },
     "metadata": {},
     "output_type": "display_data"
    },
    {
     "data": {
      "text/html": [
       "<pre style=\"white-space:pre;overflow-x:auto;line-height:normal;font-family:Menlo,'DejaVu Sans Mono',consolas,'Courier New',monospace\">Loading Daily data for MSFT with starting period 2023-04-03.\n",
       "</pre>\n"
      ],
      "text/plain": [
       "Loading Daily data for MSFT with starting period 2023-04-03.\n"
      ]
     },
     "metadata": {},
     "output_type": "display_data"
    },
    {
     "data": {
      "text/html": [
       "<pre style=\"white-space:pre;overflow-x:auto;line-height:normal;font-family:Menlo,'DejaVu Sans Mono',consolas,'Courier New',monospace\">Loading Daily data for TSCO with starting period 2023-04-03.\n",
       "</pre>\n"
      ],
      "text/plain": [
       "Loading Daily data for TSCO with starting period 2023-04-03.\n"
      ]
     },
     "metadata": {},
     "output_type": "display_data"
    },
    {
     "data": {
      "text/html": [
       "<pre style=\"white-space:pre;overflow-x:auto;line-height:normal;font-family:Menlo,'DejaVu Sans Mono',consolas,'Courier New',monospace\">Loading Daily data for AAPL with starting period 2023-04-03.\n",
       "</pre>\n"
      ],
      "text/plain": [
       "Loading Daily data for AAPL with starting period 2023-04-03.\n"
      ]
     },
     "metadata": {},
     "output_type": "display_data"
    },
    {
     "data": {
      "text/html": [
       "<pre style=\"white-space:pre;overflow-x:auto;line-height:normal;font-family:Menlo,'DejaVu Sans Mono',consolas,'Courier New',monospace\">Loading Daily data for AMZN with starting period 2023-04-03.\n",
       "</pre>\n"
      ],
      "text/plain": [
       "Loading Daily data for AMZN with starting period 2023-04-03.\n"
      ]
     },
     "metadata": {},
     "output_type": "display_data"
    },
    {
     "data": {
      "text/html": [
       "<pre style=\"white-space:pre;overflow-x:auto;line-height:normal;font-family:Menlo,'DejaVu Sans Mono',consolas,'Courier New',monospace\">Loading Daily data for GOOG with starting period 2023-04-03.\n",
       "</pre>\n"
      ],
      "text/plain": [
       "Loading Daily data for GOOG with starting period 2023-04-03.\n"
      ]
     },
     "metadata": {},
     "output_type": "display_data"
    },
    {
     "data": {
      "text/html": [
       "<pre style=\"white-space:pre;overflow-x:auto;line-height:normal;font-family:Menlo,'DejaVu Sans Mono',consolas,'Courier New',monospace\">Loading Daily data for MSFT with starting period 2023-04-03.\n",
       "</pre>\n"
      ],
      "text/plain": [
       "Loading Daily data for MSFT with starting period 2023-04-03.\n"
      ]
     },
     "metadata": {},
     "output_type": "display_data"
    },
    {
     "data": {
      "text/html": [
       "<pre style=\"white-space:pre;overflow-x:auto;line-height:normal;font-family:Menlo,'DejaVu Sans Mono',consolas,'Courier New',monospace\">Loading Daily data for TSCO with starting period 2023-04-03.\n",
       "</pre>\n"
      ],
      "text/plain": [
       "Loading Daily data for TSCO with starting period 2023-04-03.\n"
      ]
     },
     "metadata": {},
     "output_type": "display_data"
    },
    {
     "data": {
      "text/html": [
       "<pre style=\"white-space:pre;overflow-x:auto;line-height:normal;font-family:Menlo,'DejaVu Sans Mono',consolas,'Courier New',monospace\">Loading Daily data for AMZN with starting period 2023-04-03.\n",
       "</pre>\n"
      ],
      "text/plain": [
       "Loading Daily data for AMZN with starting period 2023-04-03.\n"
      ]
     },
     "metadata": {},
     "output_type": "display_data"
    },
    {
     "data": {
      "text/html": [
       "<pre style=\"white-space:pre;overflow-x:auto;line-height:normal;font-family:Menlo,'DejaVu Sans Mono',consolas,'Courier New',monospace\">Loading Daily data for TSCO with starting period 2023-04-03.\n",
       "</pre>\n"
      ],
      "text/plain": [
       "Loading Daily data for TSCO with starting period 2023-04-03.\n"
      ]
     },
     "metadata": {},
     "output_type": "display_data"
    },
    {
     "data": {
      "text/html": [
       "<pre style=\"white-space:pre;overflow-x:auto;line-height:normal;font-family:Menlo,'DejaVu Sans Mono',consolas,'Courier New',monospace\">Loading Daily data for MSFT with starting period 2023-04-03.\n",
       "</pre>\n"
      ],
      "text/plain": [
       "Loading Daily data for MSFT with starting period 2023-04-03.\n"
      ]
     },
     "metadata": {},
     "output_type": "display_data"
    },
    {
     "data": {
      "text/html": [
       "<pre style=\"white-space:pre;overflow-x:auto;line-height:normal;font-family:Menlo,'DejaVu Sans Mono',consolas,'Courier New',monospace\">Loading Daily data for AAPL with starting period 2023-04-03.\n",
       "</pre>\n"
      ],
      "text/plain": [
       "Loading Daily data for AAPL with starting period 2023-04-03.\n"
      ]
     },
     "metadata": {},
     "output_type": "display_data"
    },
    {
     "data": {
      "text/html": [
       "<pre style=\"white-space:pre;overflow-x:auto;line-height:normal;font-family:Menlo,'DejaVu Sans Mono',consolas,'Courier New',monospace\">Loading Daily data for GOOG with starting period 2023-04-03.\n",
       "</pre>\n"
      ],
      "text/plain": [
       "Loading Daily data for GOOG with starting period 2023-04-03.\n"
      ]
     },
     "metadata": {},
     "output_type": "display_data"
    },
    {
     "data": {
      "text/html": [
       "<pre style=\"white-space:pre;overflow-x:auto;line-height:normal;font-family:Menlo,'DejaVu Sans Mono',consolas,'Courier New',monospace\">Loading Daily data for AAPL with starting period 2023-04-04.\n",
       "</pre>\n"
      ],
      "text/plain": [
       "Loading Daily data for AAPL with starting period 2023-04-04.\n"
      ]
     },
     "metadata": {},
     "output_type": "display_data"
    },
    {
     "data": {
      "text/html": [
       "<pre style=\"white-space:pre;overflow-x:auto;line-height:normal;font-family:Menlo,'DejaVu Sans Mono',consolas,'Courier New',monospace\">Loading Daily data for GOOG with starting period 2023-04-04.\n",
       "</pre>\n"
      ],
      "text/plain": [
       "Loading Daily data for GOOG with starting period 2023-04-04.\n"
      ]
     },
     "metadata": {},
     "output_type": "display_data"
    },
    {
     "data": {
      "text/html": [
       "<pre style=\"white-space:pre;overflow-x:auto;line-height:normal;font-family:Menlo,'DejaVu Sans Mono',consolas,'Courier New',monospace\">Loading Daily data for MSFT with starting period 2023-04-04.\n",
       "</pre>\n"
      ],
      "text/plain": [
       "Loading Daily data for MSFT with starting period 2023-04-04.\n"
      ]
     },
     "metadata": {},
     "output_type": "display_data"
    },
    {
     "data": {
      "text/html": [
       "<pre style=\"white-space:pre;overflow-x:auto;line-height:normal;font-family:Menlo,'DejaVu Sans Mono',consolas,'Courier New',monospace\">Loading Daily data for AAPL with starting period 2023-04-06.\n",
       "</pre>\n"
      ],
      "text/plain": [
       "Loading Daily data for AAPL with starting period 2023-04-06.\n"
      ]
     },
     "metadata": {},
     "output_type": "display_data"
    },
    {
     "data": {
      "text/html": [
       "<pre style=\"white-space:pre;overflow-x:auto;line-height:normal;font-family:Menlo,'DejaVu Sans Mono',consolas,'Courier New',monospace\">Loading Daily data for GOOG with starting period 2023-04-10.\n",
       "</pre>\n"
      ],
      "text/plain": [
       "Loading Daily data for GOOG with starting period 2023-04-10.\n"
      ]
     },
     "metadata": {},
     "output_type": "display_data"
    },
    {
     "data": {
      "text/html": [
       "<pre style=\"white-space:pre;overflow-x:auto;line-height:normal;font-family:Menlo,'DejaVu Sans Mono',consolas,'Courier New',monospace\">Loading Daily data for AAPL with starting period 2023-04-10.\n",
       "</pre>\n"
      ],
      "text/plain": [
       "Loading Daily data for AAPL with starting period 2023-04-10.\n"
      ]
     },
     "metadata": {},
     "output_type": "display_data"
    },
    {
     "data": {
      "text/html": [
       "<pre style=\"white-space:pre;overflow-x:auto;line-height:normal;font-family:Menlo,'DejaVu Sans Mono',consolas,'Courier New',monospace\">Loading Daily data for AMZN with starting period 2023-04-10.\n",
       "</pre>\n"
      ],
      "text/plain": [
       "Loading Daily data for AMZN with starting period 2023-04-10.\n"
      ]
     },
     "metadata": {},
     "output_type": "display_data"
    },
    {
     "data": {
      "text/html": [
       "<pre style=\"white-space:pre;overflow-x:auto;line-height:normal;font-family:Menlo,'DejaVu Sans Mono',consolas,'Courier New',monospace\">Loading Daily data for TSCO with starting period 2023-04-10.\n",
       "</pre>\n"
      ],
      "text/plain": [
       "Loading Daily data for TSCO with starting period 2023-04-10.\n"
      ]
     },
     "metadata": {},
     "output_type": "display_data"
    },
    {
     "data": {
      "text/html": [
       "<pre style=\"white-space:pre;overflow-x:auto;line-height:normal;font-family:Menlo,'DejaVu Sans Mono',consolas,'Courier New',monospace\">Loading Daily data for TSCO with starting period 2023-04-10.\n",
       "</pre>\n"
      ],
      "text/plain": [
       "Loading Daily data for TSCO with starting period 2023-04-10.\n"
      ]
     },
     "metadata": {},
     "output_type": "display_data"
    },
    {
     "data": {
      "text/html": [
       "<pre style=\"white-space:pre;overflow-x:auto;line-height:normal;font-family:Menlo,'DejaVu Sans Mono',consolas,'Courier New',monospace\">Loading Daily data for MSFT with starting period 2023-04-10.\n",
       "</pre>\n"
      ],
      "text/plain": [
       "Loading Daily data for MSFT with starting period 2023-04-10.\n"
      ]
     },
     "metadata": {},
     "output_type": "display_data"
    },
    {
     "data": {
      "text/html": [
       "<pre style=\"white-space:pre;overflow-x:auto;line-height:normal;font-family:Menlo,'DejaVu Sans Mono',consolas,'Courier New',monospace\">Loading Daily data for GOOG with starting period 2023-04-10.\n",
       "</pre>\n"
      ],
      "text/plain": [
       "Loading Daily data for GOOG with starting period 2023-04-10.\n"
      ]
     },
     "metadata": {},
     "output_type": "display_data"
    },
    {
     "data": {
      "text/html": [
       "<pre style=\"white-space:pre;overflow-x:auto;line-height:normal;font-family:Menlo,'DejaVu Sans Mono',consolas,'Courier New',monospace\">Loading Daily data for AMZN with starting period 2023-04-10.\n",
       "</pre>\n"
      ],
      "text/plain": [
       "Loading Daily data for AMZN with starting period 2023-04-10.\n"
      ]
     },
     "metadata": {},
     "output_type": "display_data"
    },
    {
     "data": {
      "text/html": [
       "<pre style=\"white-space:pre;overflow-x:auto;line-height:normal;font-family:Menlo,'DejaVu Sans Mono',consolas,'Courier New',monospace\">Loading Daily data for AAPL with starting period 2023-04-10.\n",
       "</pre>\n"
      ],
      "text/plain": [
       "Loading Daily data for AAPL with starting period 2023-04-10.\n"
      ]
     },
     "metadata": {},
     "output_type": "display_data"
    },
    {
     "data": {
      "text/html": [
       "<pre style=\"white-space:pre;overflow-x:auto;line-height:normal;font-family:Menlo,'DejaVu Sans Mono',consolas,'Courier New',monospace\">Loading Daily data for AAPL with starting period 2023-04-10.\n",
       "</pre>\n"
      ],
      "text/plain": [
       "Loading Daily data for AAPL with starting period 2023-04-10.\n"
      ]
     },
     "metadata": {},
     "output_type": "display_data"
    },
    {
     "data": {
      "text/html": [
       "<pre style=\"white-space:pre;overflow-x:auto;line-height:normal;font-family:Menlo,'DejaVu Sans Mono',consolas,'Courier New',monospace\">Loading Daily data for AMZN with starting period 2023-04-10.\n",
       "</pre>\n"
      ],
      "text/plain": [
       "Loading Daily data for AMZN with starting period 2023-04-10.\n"
      ]
     },
     "metadata": {},
     "output_type": "display_data"
    },
    {
     "data": {
      "text/html": [
       "<pre style=\"white-space:pre;overflow-x:auto;line-height:normal;font-family:Menlo,'DejaVu Sans Mono',consolas,'Courier New',monospace\">Loading Daily data for GOOG with starting period 2023-04-10.\n",
       "</pre>\n"
      ],
      "text/plain": [
       "Loading Daily data for GOOG with starting period 2023-04-10.\n"
      ]
     },
     "metadata": {},
     "output_type": "display_data"
    },
    {
     "data": {
      "text/html": [
       "<pre style=\"white-space:pre;overflow-x:auto;line-height:normal;font-family:Menlo,'DejaVu Sans Mono',consolas,'Courier New',monospace\">Loading Daily data for MSFT with starting period 2023-04-10.\n",
       "</pre>\n"
      ],
      "text/plain": [
       "Loading Daily data for MSFT with starting period 2023-04-10.\n"
      ]
     },
     "metadata": {},
     "output_type": "display_data"
    },
    {
     "data": {
      "text/html": [
       "<pre style=\"white-space:pre;overflow-x:auto;line-height:normal;font-family:Menlo,'DejaVu Sans Mono',consolas,'Courier New',monospace\">Loading Daily data for TSCO with starting period 2023-04-10.\n",
       "</pre>\n"
      ],
      "text/plain": [
       "Loading Daily data for TSCO with starting period 2023-04-10.\n"
      ]
     },
     "metadata": {},
     "output_type": "display_data"
    },
    {
     "data": {
      "text/html": [
       "<pre style=\"white-space:pre;overflow-x:auto;line-height:normal;font-family:Menlo,'DejaVu Sans Mono',consolas,'Courier New',monospace\">Loading Daily data for AAPL with starting period 2023-04-10.\n",
       "</pre>\n"
      ],
      "text/plain": [
       "Loading Daily data for AAPL with starting period 2023-04-10.\n"
      ]
     },
     "metadata": {},
     "output_type": "display_data"
    },
    {
     "data": {
      "text/html": [
       "<pre style=\"white-space:pre;overflow-x:auto;line-height:normal;font-family:Menlo,'DejaVu Sans Mono',consolas,'Courier New',monospace\">Loading Daily data for AMZN with starting period 2023-04-10.\n",
       "</pre>\n"
      ],
      "text/plain": [
       "Loading Daily data for AMZN with starting period 2023-04-10.\n"
      ]
     },
     "metadata": {},
     "output_type": "display_data"
    },
    {
     "data": {
      "text/html": [
       "<pre style=\"white-space:pre;overflow-x:auto;line-height:normal;font-family:Menlo,'DejaVu Sans Mono',consolas,'Courier New',monospace\">Loading Daily data for GOOG with starting period 2023-04-10.\n",
       "</pre>\n"
      ],
      "text/plain": [
       "Loading Daily data for GOOG with starting period 2023-04-10.\n"
      ]
     },
     "metadata": {},
     "output_type": "display_data"
    },
    {
     "data": {
      "text/html": [
       "<pre style=\"white-space:pre;overflow-x:auto;line-height:normal;font-family:Menlo,'DejaVu Sans Mono',consolas,'Courier New',monospace\">Loading Daily data for MSFT with starting period 2023-04-10.\n",
       "</pre>\n"
      ],
      "text/plain": [
       "Loading Daily data for MSFT with starting period 2023-04-10.\n"
      ]
     },
     "metadata": {},
     "output_type": "display_data"
    },
    {
     "data": {
      "text/html": [
       "<pre style=\"white-space:pre;overflow-x:auto;line-height:normal;font-family:Menlo,'DejaVu Sans Mono',consolas,'Courier New',monospace\">Loading Daily data for TSCO with starting period 2023-04-10.\n",
       "</pre>\n"
      ],
      "text/plain": [
       "Loading Daily data for TSCO with starting period 2023-04-10.\n"
      ]
     },
     "metadata": {},
     "output_type": "display_data"
    },
    {
     "data": {
      "text/html": [
       "<pre style=\"white-space:pre;overflow-x:auto;line-height:normal;font-family:Menlo,'DejaVu Sans Mono',consolas,'Courier New',monospace\">Loading Daily data for TSCO with starting period 2023-04-11.\n",
       "</pre>\n"
      ],
      "text/plain": [
       "Loading Daily data for TSCO with starting period 2023-04-11.\n"
      ]
     },
     "metadata": {},
     "output_type": "display_data"
    },
    {
     "data": {
      "text/html": [
       "<pre style=\"white-space:pre;overflow-x:auto;line-height:normal;font-family:Menlo,'DejaVu Sans Mono',consolas,'Courier New',monospace\">Loading Daily data for MSFT with starting period 2023-04-11.\n",
       "</pre>\n"
      ],
      "text/plain": [
       "Loading Daily data for MSFT with starting period 2023-04-11.\n"
      ]
     },
     "metadata": {},
     "output_type": "display_data"
    },
    {
     "data": {
      "text/html": [
       "<pre style=\"white-space:pre;overflow-x:auto;line-height:normal;font-family:Menlo,'DejaVu Sans Mono',consolas,'Courier New',monospace\">Loading Daily data for AMZN with starting period 2023-04-11.\n",
       "</pre>\n"
      ],
      "text/plain": [
       "Loading Daily data for AMZN with starting period 2023-04-11.\n"
      ]
     },
     "metadata": {},
     "output_type": "display_data"
    },
    {
     "data": {
      "text/html": [
       "<pre style=\"white-space:pre;overflow-x:auto;line-height:normal;font-family:Menlo,'DejaVu Sans Mono',consolas,'Courier New',monospace\">Loading Daily data for AAPL with starting period 2023-04-11.\n",
       "</pre>\n"
      ],
      "text/plain": [
       "Loading Daily data for AAPL with starting period 2023-04-11.\n"
      ]
     },
     "metadata": {},
     "output_type": "display_data"
    },
    {
     "data": {
      "text/html": [
       "<pre style=\"white-space:pre;overflow-x:auto;line-height:normal;font-family:Menlo,'DejaVu Sans Mono',consolas,'Courier New',monospace\">Loading Daily data for GOOG with starting period 2023-04-11.\n",
       "</pre>\n"
      ],
      "text/plain": [
       "Loading Daily data for GOOG with starting period 2023-04-11.\n"
      ]
     },
     "metadata": {},
     "output_type": "display_data"
    },
    {
     "data": {
      "text/html": [
       "<pre style=\"white-space:pre;overflow-x:auto;line-height:normal;font-family:Menlo,'DejaVu Sans Mono',consolas,'Courier New',monospace\">Loading Daily data for AAPL with starting period 2023-04-12.\n",
       "</pre>\n"
      ],
      "text/plain": [
       "Loading Daily data for AAPL with starting period 2023-04-12.\n"
      ]
     },
     "metadata": {},
     "output_type": "display_data"
    },
    {
     "data": {
      "text/html": [
       "<pre style=\"white-space:pre;overflow-x:auto;line-height:normal;font-family:Menlo,'DejaVu Sans Mono',consolas,'Courier New',monospace\">Loading Daily data for AMZN with starting period 2023-04-12.\n",
       "</pre>\n"
      ],
      "text/plain": [
       "Loading Daily data for AMZN with starting period 2023-04-12.\n"
      ]
     },
     "metadata": {},
     "output_type": "display_data"
    },
    {
     "data": {
      "text/html": [
       "<pre style=\"white-space:pre;overflow-x:auto;line-height:normal;font-family:Menlo,'DejaVu Sans Mono',consolas,'Courier New',monospace\">Loading Daily data for MSFT with starting period 2023-04-12.\n",
       "</pre>\n"
      ],
      "text/plain": [
       "Loading Daily data for MSFT with starting period 2023-04-12.\n"
      ]
     },
     "metadata": {},
     "output_type": "display_data"
    },
    {
     "data": {
      "text/html": [
       "<pre style=\"white-space:pre;overflow-x:auto;line-height:normal;font-family:Menlo,'DejaVu Sans Mono',consolas,'Courier New',monospace\">Loading Daily data for AAPL with starting period 2023-04-13.\n",
       "</pre>\n"
      ],
      "text/plain": [
       "Loading Daily data for AAPL with starting period 2023-04-13.\n"
      ]
     },
     "metadata": {},
     "output_type": "display_data"
    },
    {
     "data": {
      "text/html": [
       "<pre style=\"white-space:pre;overflow-x:auto;line-height:normal;font-family:Menlo,'DejaVu Sans Mono',consolas,'Courier New',monospace\">Loading Daily data for AMZN with starting period 2023-04-13.\n",
       "</pre>\n"
      ],
      "text/plain": [
       "Loading Daily data for AMZN with starting period 2023-04-13.\n"
      ]
     },
     "metadata": {},
     "output_type": "display_data"
    },
    {
     "data": {
      "text/html": [
       "<pre style=\"white-space:pre;overflow-x:auto;line-height:normal;font-family:Menlo,'DejaVu Sans Mono',consolas,'Courier New',monospace\">Loading Daily data for GOOG with starting period 2023-04-13.\n",
       "</pre>\n"
      ],
      "text/plain": [
       "Loading Daily data for GOOG with starting period 2023-04-13.\n"
      ]
     },
     "metadata": {},
     "output_type": "display_data"
    },
    {
     "data": {
      "text/html": [
       "<pre style=\"white-space:pre;overflow-x:auto;line-height:normal;font-family:Menlo,'DejaVu Sans Mono',consolas,'Courier New',monospace\">Loading Daily data for MSFT with starting period 2023-04-13.\n",
       "</pre>\n"
      ],
      "text/plain": [
       "Loading Daily data for MSFT with starting period 2023-04-13.\n"
      ]
     },
     "metadata": {},
     "output_type": "display_data"
    },
    {
     "data": {
      "text/html": [
       "<pre style=\"white-space:pre;overflow-x:auto;line-height:normal;font-family:Menlo,'DejaVu Sans Mono',consolas,'Courier New',monospace\">Loading Daily data for TSCO with starting period 2023-04-13.\n",
       "</pre>\n"
      ],
      "text/plain": [
       "Loading Daily data for TSCO with starting period 2023-04-13.\n"
      ]
     },
     "metadata": {},
     "output_type": "display_data"
    },
    {
     "data": {
      "text/html": [
       "<pre style=\"white-space:pre;overflow-x:auto;line-height:normal;font-family:Menlo,'DejaVu Sans Mono',consolas,'Courier New',monospace\">Loading Daily data for MSFT with starting period 2023-04-14.\n",
       "</pre>\n"
      ],
      "text/plain": [
       "Loading Daily data for MSFT with starting period 2023-04-14.\n"
      ]
     },
     "metadata": {},
     "output_type": "display_data"
    },
    {
     "data": {
      "text/html": [
       "<pre style=\"white-space:pre;overflow-x:auto;line-height:normal;font-family:Menlo,'DejaVu Sans Mono',consolas,'Courier New',monospace\">Loading Daily data for GOOG with starting period 2023-04-14.\n",
       "</pre>\n"
      ],
      "text/plain": [
       "Loading Daily data for GOOG with starting period 2023-04-14.\n"
      ]
     },
     "metadata": {},
     "output_type": "display_data"
    },
    {
     "data": {
      "text/html": [
       "<pre style=\"white-space:pre;overflow-x:auto;line-height:normal;font-family:Menlo,'DejaVu Sans Mono',consolas,'Courier New',monospace\">Loading Daily data for TSCO with starting period 2023-04-14.\n",
       "</pre>\n"
      ],
      "text/plain": [
       "Loading Daily data for TSCO with starting period 2023-04-14.\n"
      ]
     },
     "metadata": {},
     "output_type": "display_data"
    },
    {
     "data": {
      "text/html": [
       "<pre style=\"white-space:pre;overflow-x:auto;line-height:normal;font-family:Menlo,'DejaVu Sans Mono',consolas,'Courier New',monospace\">Loading Daily data for AAPL with starting period 2023-04-14.\n",
       "</pre>\n"
      ],
      "text/plain": [
       "Loading Daily data for AAPL with starting period 2023-04-14.\n"
      ]
     },
     "metadata": {},
     "output_type": "display_data"
    },
    {
     "data": {
      "text/html": [
       "<pre style=\"white-space:pre;overflow-x:auto;line-height:normal;font-family:Menlo,'DejaVu Sans Mono',consolas,'Courier New',monospace\">Loading Daily data for AMZN with starting period 2023-04-14.\n",
       "</pre>\n"
      ],
      "text/plain": [
       "Loading Daily data for AMZN with starting period 2023-04-14.\n"
      ]
     },
     "metadata": {},
     "output_type": "display_data"
    },
    {
     "data": {
      "text/html": [
       "<pre style=\"white-space:pre;overflow-x:auto;line-height:normal;font-family:Menlo,'DejaVu Sans Mono',consolas,'Courier New',monospace\">Loading Daily data for GOOG with starting period 2023-04-17.\n",
       "</pre>\n"
      ],
      "text/plain": [
       "Loading Daily data for GOOG with starting period 2023-04-17.\n"
      ]
     },
     "metadata": {},
     "output_type": "display_data"
    },
    {
     "data": {
      "text/html": [
       "<pre style=\"white-space:pre;overflow-x:auto;line-height:normal;font-family:Menlo,'DejaVu Sans Mono',consolas,'Courier New',monospace\">Loading Daily data for MSFT with starting period 2023-04-17.\n",
       "</pre>\n"
      ],
      "text/plain": [
       "Loading Daily data for MSFT with starting period 2023-04-17.\n"
      ]
     },
     "metadata": {},
     "output_type": "display_data"
    },
    {
     "data": {
      "text/html": [
       "<pre style=\"white-space:pre;overflow-x:auto;line-height:normal;font-family:Menlo,'DejaVu Sans Mono',consolas,'Courier New',monospace\">Loading Daily data for AAPL with starting period 2023-04-17.\n",
       "</pre>\n"
      ],
      "text/plain": [
       "Loading Daily data for AAPL with starting period 2023-04-17.\n"
      ]
     },
     "metadata": {},
     "output_type": "display_data"
    },
    {
     "data": {
      "text/html": [
       "<pre style=\"white-space:pre;overflow-x:auto;line-height:normal;font-family:Menlo,'DejaVu Sans Mono',consolas,'Courier New',monospace\">Loading Daily data for AMZN with starting period 2023-04-17.\n",
       "</pre>\n"
      ],
      "text/plain": [
       "Loading Daily data for AMZN with starting period 2023-04-17.\n"
      ]
     },
     "metadata": {},
     "output_type": "display_data"
    },
    {
     "data": {
      "text/html": [
       "<pre style=\"white-space:pre;overflow-x:auto;line-height:normal;font-family:Menlo,'DejaVu Sans Mono',consolas,'Courier New',monospace\">Loading Daily data for TSCO with starting period 2023-04-17.\n",
       "</pre>\n"
      ],
      "text/plain": [
       "Loading Daily data for TSCO with starting period 2023-04-17.\n"
      ]
     },
     "metadata": {},
     "output_type": "display_data"
    },
    {
     "data": {
      "text/html": [
       "<div>\n",
       "<style scoped>\n",
       "    .dataframe tbody tr th:only-of-type {\n",
       "        vertical-align: middle;\n",
       "    }\n",
       "\n",
       "    .dataframe tbody tr th {\n",
       "        vertical-align: top;\n",
       "    }\n",
       "\n",
       "    .dataframe thead th {\n",
       "        text-align: right;\n",
       "    }\n",
       "</style>\n",
       "<table border=\"1\" class=\"dataframe\">\n",
       "  <thead>\n",
       "    <tr style=\"text-align: right;\">\n",
       "      <th></th>\n",
       "      <th>Date</th>\n",
       "      <th>Term</th>\n",
       "      <th>Sentiment</th>\n",
       "      <th>Closing_Price</th>\n",
       "      <th>Closing_Price_7D</th>\n",
       "      <th>Difference</th>\n",
       "    </tr>\n",
       "  </thead>\n",
       "  <tbody>\n",
       "    <tr>\n",
       "      <th>0</th>\n",
       "      <td>2021-01-16</td>\n",
       "      <td>TSCO</td>\n",
       "      <td>neutral</td>\n",
       "      <td>157.479996</td>\n",
       "      <td>155.619995</td>\n",
       "      <td>-1.860001</td>\n",
       "    </tr>\n",
       "    <tr>\n",
       "      <th>1</th>\n",
       "      <td>2022-04-03</td>\n",
       "      <td>TSCO</td>\n",
       "      <td>positive</td>\n",
       "      <td>226.710007</td>\n",
       "      <td>236.380005</td>\n",
       "      <td>9.669998</td>\n",
       "    </tr>\n",
       "    <tr>\n",
       "      <th>2</th>\n",
       "      <td>2022-04-18</td>\n",
       "      <td>TSCO</td>\n",
       "      <td>positive</td>\n",
       "      <td>217.529999</td>\n",
       "      <td>209.960007</td>\n",
       "      <td>-7.569992</td>\n",
       "    </tr>\n",
       "    <tr>\n",
       "      <th>3</th>\n",
       "      <td>2022-06-20</td>\n",
       "      <td>TSCO</td>\n",
       "      <td>positive</td>\n",
       "      <td>188.729996</td>\n",
       "      <td>202.509995</td>\n",
       "      <td>13.779999</td>\n",
       "    </tr>\n",
       "    <tr>\n",
       "      <th>4</th>\n",
       "      <td>2022-07-21</td>\n",
       "      <td>TSCO</td>\n",
       "      <td>positive</td>\n",
       "      <td>198.419998</td>\n",
       "      <td>190.809998</td>\n",
       "      <td>-7.610001</td>\n",
       "    </tr>\n",
       "    <tr>\n",
       "      <th>...</th>\n",
       "      <td>...</td>\n",
       "      <td>...</td>\n",
       "      <td>...</td>\n",
       "      <td>...</td>\n",
       "      <td>...</td>\n",
       "      <td>...</td>\n",
       "    </tr>\n",
       "    <tr>\n",
       "      <th>326</th>\n",
       "      <td>2023-04-18</td>\n",
       "      <td>GOOG</td>\n",
       "      <td>neutral</td>\n",
       "      <td>105.120003</td>\n",
       "      <td>105.120003</td>\n",
       "      <td>0.000000</td>\n",
       "    </tr>\n",
       "    <tr>\n",
       "      <th>329</th>\n",
       "      <td>2023-04-18</td>\n",
       "      <td>MSFT</td>\n",
       "      <td>neutral</td>\n",
       "      <td>288.369995</td>\n",
       "      <td>288.369995</td>\n",
       "      <td>0.000000</td>\n",
       "    </tr>\n",
       "    <tr>\n",
       "      <th>322</th>\n",
       "      <td>2023-04-18</td>\n",
       "      <td>AAPL</td>\n",
       "      <td>positive</td>\n",
       "      <td>166.470001</td>\n",
       "      <td>166.470001</td>\n",
       "      <td>0.000000</td>\n",
       "    </tr>\n",
       "    <tr>\n",
       "      <th>323</th>\n",
       "      <td>2023-04-18</td>\n",
       "      <td>AMZN</td>\n",
       "      <td>neutral</td>\n",
       "      <td>102.300003</td>\n",
       "      <td>102.300003</td>\n",
       "      <td>0.000000</td>\n",
       "    </tr>\n",
       "    <tr>\n",
       "      <th>331</th>\n",
       "      <td>2023-04-18</td>\n",
       "      <td>TSCO</td>\n",
       "      <td>neutral</td>\n",
       "      <td>245.210007</td>\n",
       "      <td>245.210007</td>\n",
       "      <td>0.000000</td>\n",
       "    </tr>\n",
       "  </tbody>\n",
       "</table>\n",
       "<p>247 rows × 6 columns</p>\n",
       "</div>"
      ],
      "text/plain": [
       "          Date  Term Sentiment  Closing_Price  Closing_Price_7D  Difference\n",
       "0   2021-01-16  TSCO   neutral     157.479996        155.619995   -1.860001\n",
       "1   2022-04-03  TSCO  positive     226.710007        236.380005    9.669998\n",
       "2   2022-04-18  TSCO  positive     217.529999        209.960007   -7.569992\n",
       "3   2022-06-20  TSCO  positive     188.729996        202.509995   13.779999\n",
       "4   2022-07-21  TSCO  positive     198.419998        190.809998   -7.610001\n",
       "..         ...   ...       ...            ...               ...         ...\n",
       "326 2023-04-18  GOOG   neutral     105.120003        105.120003    0.000000\n",
       "329 2023-04-18  MSFT   neutral     288.369995        288.369995    0.000000\n",
       "322 2023-04-18  AAPL  positive     166.470001        166.470001    0.000000\n",
       "323 2023-04-18  AMZN   neutral     102.300003        102.300003    0.000000\n",
       "331 2023-04-18  TSCO   neutral     245.210007        245.210007    0.000000\n",
       "\n",
       "[247 rows x 6 columns]"
      ]
     },
     "execution_count": 11,
     "metadata": {},
     "output_type": "execute_result"
    }
   ],
   "source": [
    "# This will give us the closing price for each line from the news pull\n",
    "def get_closing_price(date, term):\n",
    "    end_date = date + pd.DateOffset(days=1) # Add 1 day to include the current date\n",
    "    start_date = date - pd.DateOffset(days=3)\n",
    "    stock_data = openbb.stocks.load(symbol=term, start_date=start_date, end_date=end_date)\n",
    "    if not stock_data.empty:\n",
    "        closing_price = stock_data['Close'].iloc[-1] # Get the closing price for the last row\n",
    "        return closing_price\n",
    "    else:\n",
    "        return None\n",
    "    \n",
    "# Update combined_df to include 'Closing_Price' column\n",
    "sentiment_max_count['Closing_Price'] = sentiment_max_count.apply(lambda row: get_closing_price(row['Date'], row['Term']), axis=1)\n",
    "\n",
    "# get_closing_price 7 days later function\n",
    "def get_closing_price_7d(date, term):\n",
    "    end_date = date + pd.DateOffset(days=8) # Add 7 day to include the current date\n",
    "    start_date = date - pd.DateOffset(days=3)\n",
    "    stock_data = openbb.stocks.load(symbol=term, start_date=start_date, end_date=end_date)\n",
    "    if not stock_data.empty:\n",
    "        closing_price_7d = stock_data['Close'].iloc[-1] # Get the closing price for the last row\n",
    "        return closing_price_7d\n",
    "    else:\n",
    "        return None\n",
    "    \n",
    "# Update combined_df to include 'Closing_Price_7D' column\n",
    "sentiment_max_count['Closing_Price_7D'] = sentiment_max_count.apply(lambda row: get_closing_price_7d(row['Date'], row['Term']), axis=1)\n",
    "\n",
    "# Calculate the difference from the 'Close_Price_7D' and 'Closing_Price' for each date\n",
    "sentiment_max_count['Difference'] = sentiment_max_count['Closing_Price_7D'] - sentiment_max_count['Closing_Price']\n",
    "sentiment_max_count"
   ]
  },
  {
   "cell_type": "code",
   "execution_count": 17,
   "metadata": {},
   "outputs": [
    {
     "data": {
      "text/html": [
       "<div>\n",
       "<style scoped>\n",
       "    .dataframe tbody tr th:only-of-type {\n",
       "        vertical-align: middle;\n",
       "    }\n",
       "\n",
       "    .dataframe tbody tr th {\n",
       "        vertical-align: top;\n",
       "    }\n",
       "\n",
       "    .dataframe thead th {\n",
       "        text-align: right;\n",
       "    }\n",
       "</style>\n",
       "<table border=\"1\" class=\"dataframe\">\n",
       "  <thead>\n",
       "    <tr style=\"text-align: right;\">\n",
       "      <th></th>\n",
       "      <th>Date</th>\n",
       "      <th>Term</th>\n",
       "      <th>Sentiment</th>\n",
       "      <th>Closing_Price</th>\n",
       "      <th>Closing_Price_7D</th>\n",
       "      <th>Difference</th>\n",
       "    </tr>\n",
       "  </thead>\n",
       "  <tbody>\n",
       "    <tr>\n",
       "      <th>138</th>\n",
       "      <td>2023-03-19</td>\n",
       "      <td>GOOG</td>\n",
       "      <td>positive</td>\n",
       "      <td>102.459999</td>\n",
       "      <td>106.059998</td>\n",
       "      <td>3.599998</td>\n",
       "    </tr>\n",
       "    <tr>\n",
       "      <th>144</th>\n",
       "      <td>2023-03-20</td>\n",
       "      <td>MSFT</td>\n",
       "      <td>neutral</td>\n",
       "      <td>272.230011</td>\n",
       "      <td>276.380005</td>\n",
       "      <td>4.149994</td>\n",
       "    </tr>\n",
       "    <tr>\n",
       "      <th>142</th>\n",
       "      <td>2023-03-20</td>\n",
       "      <td>GOOG</td>\n",
       "      <td>negative</td>\n",
       "      <td>101.930000</td>\n",
       "      <td>103.059998</td>\n",
       "      <td>1.129997</td>\n",
       "    </tr>\n",
       "    <tr>\n",
       "      <th>146</th>\n",
       "      <td>2023-03-20</td>\n",
       "      <td>TSCO</td>\n",
       "      <td>neutral</td>\n",
       "      <td>232.190002</td>\n",
       "      <td>229.770004</td>\n",
       "      <td>-2.419998</td>\n",
       "    </tr>\n",
       "    <tr>\n",
       "      <th>139</th>\n",
       "      <td>2023-03-20</td>\n",
       "      <td>AAPL</td>\n",
       "      <td>neutral</td>\n",
       "      <td>157.399994</td>\n",
       "      <td>158.279999</td>\n",
       "      <td>0.880005</td>\n",
       "    </tr>\n",
       "    <tr>\n",
       "      <th>...</th>\n",
       "      <td>...</td>\n",
       "      <td>...</td>\n",
       "      <td>...</td>\n",
       "      <td>...</td>\n",
       "      <td>...</td>\n",
       "      <td>...</td>\n",
       "    </tr>\n",
       "    <tr>\n",
       "      <th>326</th>\n",
       "      <td>2023-04-18</td>\n",
       "      <td>GOOG</td>\n",
       "      <td>neutral</td>\n",
       "      <td>105.120003</td>\n",
       "      <td>105.120003</td>\n",
       "      <td>0.000000</td>\n",
       "    </tr>\n",
       "    <tr>\n",
       "      <th>329</th>\n",
       "      <td>2023-04-18</td>\n",
       "      <td>MSFT</td>\n",
       "      <td>neutral</td>\n",
       "      <td>288.369995</td>\n",
       "      <td>288.369995</td>\n",
       "      <td>0.000000</td>\n",
       "    </tr>\n",
       "    <tr>\n",
       "      <th>322</th>\n",
       "      <td>2023-04-18</td>\n",
       "      <td>AAPL</td>\n",
       "      <td>positive</td>\n",
       "      <td>166.470001</td>\n",
       "      <td>166.470001</td>\n",
       "      <td>0.000000</td>\n",
       "    </tr>\n",
       "    <tr>\n",
       "      <th>323</th>\n",
       "      <td>2023-04-18</td>\n",
       "      <td>AMZN</td>\n",
       "      <td>neutral</td>\n",
       "      <td>102.300003</td>\n",
       "      <td>102.300003</td>\n",
       "      <td>0.000000</td>\n",
       "    </tr>\n",
       "    <tr>\n",
       "      <th>331</th>\n",
       "      <td>2023-04-18</td>\n",
       "      <td>TSCO</td>\n",
       "      <td>neutral</td>\n",
       "      <td>245.210007</td>\n",
       "      <td>245.210007</td>\n",
       "      <td>0.000000</td>\n",
       "    </tr>\n",
       "  </tbody>\n",
       "</table>\n",
       "<p>115 rows × 6 columns</p>\n",
       "</div>"
      ],
      "text/plain": [
       "          Date  Term Sentiment  Closing_Price  Closing_Price_7D  Difference\n",
       "138 2023-03-19  GOOG  positive     102.459999        106.059998    3.599998\n",
       "144 2023-03-20  MSFT   neutral     272.230011        276.380005    4.149994\n",
       "142 2023-03-20  GOOG  negative     101.930000        103.059998    1.129997\n",
       "146 2023-03-20  TSCO   neutral     232.190002        229.770004   -2.419998\n",
       "139 2023-03-20  AAPL   neutral     157.399994        158.279999    0.880005\n",
       "..         ...   ...       ...            ...               ...         ...\n",
       "326 2023-04-18  GOOG   neutral     105.120003        105.120003    0.000000\n",
       "329 2023-04-18  MSFT   neutral     288.369995        288.369995    0.000000\n",
       "322 2023-04-18  AAPL  positive     166.470001        166.470001    0.000000\n",
       "323 2023-04-18  AMZN   neutral     102.300003        102.300003    0.000000\n",
       "331 2023-04-18  TSCO   neutral     245.210007        245.210007    0.000000\n",
       "\n",
       "[115 rows x 6 columns]"
      ]
     },
     "execution_count": 17,
     "metadata": {},
     "output_type": "execute_result"
    }
   ],
   "source": [
    "# Convert date object to pandas Timestamp\n",
    "end_date = pd.Timestamp(date.today()) + pd.DateOffset(days=1)\n",
    "start_date = end_date - pd.DateOffset(days=31)  # 30 days ago\n",
    "last_30_days_df = sentiment_max_count.loc[sentiment_max_count['Date'] >= start_date]\n",
    "last_30_days_df"
   ]
  },
  {
   "cell_type": "code",
   "execution_count": 18,
   "metadata": {},
   "outputs": [
    {
     "data": {
      "application/vnd.plotly.v1+json": {
       "config": {
        "plotlyServerURL": "https://plot.ly"
       },
       "data": [
        {
         "hovertemplate": "Term=GOOG<br>Date=%{x}<br>Difference=%{y}<extra></extra>",
         "legendgroup": "GOOG",
         "line": {
          "color": "#636efa",
          "dash": "solid"
         },
         "marker": {
          "symbol": "circle"
         },
         "mode": "lines",
         "name": "GOOG",
         "orientation": "v",
         "showlegend": true,
         "type": "scatter",
         "x": [
          "2023-03-19T00:00:00",
          "2023-03-20T00:00:00",
          "2023-03-21T00:00:00",
          "2023-03-22T00:00:00",
          "2023-03-23T00:00:00",
          "2023-03-26T00:00:00",
          "2023-03-27T00:00:00",
          "2023-03-28T00:00:00",
          "2023-03-29T00:00:00",
          "2023-03-30T00:00:00",
          "2023-04-02T00:00:00",
          "2023-04-03T00:00:00",
          "2023-04-04T00:00:00",
          "2023-04-05T00:00:00",
          "2023-04-06T00:00:00",
          "2023-04-07T00:00:00",
          "2023-04-10T00:00:00",
          "2023-04-11T00:00:00",
          "2023-04-12T00:00:00",
          "2023-04-13T00:00:00",
          "2023-04-14T00:00:00",
          "2023-04-16T00:00:00",
          "2023-04-17T00:00:00",
          "2023-04-18T00:00:00"
         ],
         "xaxis": "x",
         "y": [
          3.5999984741210938,
          1.1299972534179688,
          -4.4799957275390625,
          -2.3199996948242188,
          -4.94000244140625,
          -2.05999755859375,
          1.850006103515625,
          3.7600021362304688,
          3.0499954223632812,
          7.5800018310546875,
          4.900001525878906,
          2.0399932861328125,
          1,
          0.2700042724609375,
          -0.7099990844726562,
          0.55999755859375,
          -0.529998779296875,
          -1,
          -0.09999847412109375,
          -3.0699996948242188,
          -4.339996337890625,
          -4.339996337890625,
          -1.2999954223632812,
          0
         ],
         "yaxis": "y"
        },
        {
         "hovertemplate": "Term=MSFT<br>Date=%{x}<br>Difference=%{y}<extra></extra>",
         "legendgroup": "MSFT",
         "line": {
          "color": "#EF553B",
          "dash": "solid"
         },
         "marker": {
          "symbol": "circle"
         },
         "mode": "lines",
         "name": "MSFT",
         "orientation": "v",
         "showlegend": true,
         "type": "scatter",
         "x": [
          "2023-03-20T00:00:00",
          "2023-03-21T00:00:00",
          "2023-03-22T00:00:00",
          "2023-03-23T00:00:00",
          "2023-03-24T00:00:00",
          "2023-03-26T00:00:00",
          "2023-03-27T00:00:00",
          "2023-03-28T00:00:00",
          "2023-03-29T00:00:00",
          "2023-03-30T00:00:00",
          "2023-03-31T00:00:00",
          "2023-04-03T00:00:00",
          "2023-04-04T00:00:00",
          "2023-04-05T00:00:00",
          "2023-04-06T00:00:00",
          "2023-04-07T00:00:00",
          "2023-04-11T00:00:00",
          "2023-04-12T00:00:00",
          "2023-04-13T00:00:00",
          "2023-04-14T00:00:00",
          "2023-04-15T00:00:00",
          "2023-04-16T00:00:00",
          "2023-04-17T00:00:00",
          "2023-04-18T00:00:00"
         ],
         "xaxis": "x",
         "y": [
          4.149993896484375,
          1.45001220703125,
          8.220001220703125,
          6.389984130859375,
          7.72998046875,
          7.72998046875,
          10.850006103515625,
          11.949981689453125,
          3.829986572265625,
          7.550018310546875,
          3.300018310546875,
          2.160003662109375,
          -4.350006103515625,
          -0.850006103515625,
          -1.760009765625,
          -5.459991455078125,
          5.540008544921875,
          4.8800048828125,
          -1.470001220703125,
          2.22998046875,
          2.22998046875,
          2.22998046875,
          -0.42999267578125,
          0
         ],
         "yaxis": "y"
        },
        {
         "hovertemplate": "Term=TSCO<br>Date=%{x}<br>Difference=%{y}<extra></extra>",
         "legendgroup": "TSCO",
         "line": {
          "color": "#00cc96",
          "dash": "solid"
         },
         "marker": {
          "symbol": "circle"
         },
         "mode": "lines",
         "name": "TSCO",
         "orientation": "v",
         "showlegend": true,
         "type": "scatter",
         "x": [
          "2023-03-20T00:00:00",
          "2023-03-22T00:00:00",
          "2023-03-23T00:00:00",
          "2023-03-24T00:00:00",
          "2023-03-26T00:00:00",
          "2023-03-27T00:00:00",
          "2023-03-31T00:00:00",
          "2023-04-03T00:00:00",
          "2023-04-04T00:00:00",
          "2023-04-05T00:00:00",
          "2023-04-06T00:00:00",
          "2023-04-10T00:00:00",
          "2023-04-11T00:00:00",
          "2023-04-12T00:00:00",
          "2023-04-13T00:00:00",
          "2023-04-14T00:00:00",
          "2023-04-16T00:00:00",
          "2023-04-17T00:00:00",
          "2023-04-18T00:00:00"
         ],
         "xaxis": "x",
         "y": [
          -2.4199981689453125,
          1.600006103515625,
          3.779998779296875,
          7.829986572265625,
          7.829986572265625,
          11.889999389648438,
          0.5900115966796875,
          -3.1100006103515625,
          0.410003662109375,
          -1.8899993896484375,
          0.42999267578125,
          2.69000244140625,
          5.2100067138671875,
          12.57000732421875,
          9.150009155273438,
          7.260009765625,
          7.260009765625,
          3.970001220703125,
          0
         ],
         "yaxis": "y"
        },
        {
         "hovertemplate": "Term=AAPL<br>Date=%{x}<br>Difference=%{y}<extra></extra>",
         "legendgroup": "AAPL",
         "line": {
          "color": "#ab63fa",
          "dash": "solid"
         },
         "marker": {
          "symbol": "circle"
         },
         "mode": "lines",
         "name": "AAPL",
         "orientation": "v",
         "showlegend": true,
         "type": "scatter",
         "x": [
          "2023-03-20T00:00:00",
          "2023-03-21T00:00:00",
          "2023-03-22T00:00:00",
          "2023-03-23T00:00:00",
          "2023-03-24T00:00:00",
          "2023-03-25T00:00:00",
          "2023-03-26T00:00:00",
          "2023-03-27T00:00:00",
          "2023-03-28T00:00:00",
          "2023-03-29T00:00:00",
          "2023-03-30T00:00:00",
          "2023-04-02T00:00:00",
          "2023-04-03T00:00:00",
          "2023-04-04T00:00:00",
          "2023-04-05T00:00:00",
          "2023-04-06T00:00:00",
          "2023-04-07T00:00:00",
          "2023-04-09T00:00:00",
          "2023-04-10T00:00:00",
          "2023-04-11T00:00:00",
          "2023-04-12T00:00:00",
          "2023-04-13T00:00:00",
          "2023-04-14T00:00:00",
          "2023-04-15T00:00:00",
          "2023-04-16T00:00:00",
          "2023-04-17T00:00:00",
          "2023-04-18T00:00:00"
         ],
         "xaxis": "x",
         "y": [
          0.8800048828125,
          -1.6300048828125,
          2.94000244140625,
          3.4300079345703125,
          4.649993896484375,
          4.649993896484375,
          4.649993896484375,
          7.8899993896484375,
          7.980010986328125,
          2.989990234375,
          2.3000030517578125,
          -0.239990234375,
          -4.1399993896484375,
          -4.8300018310546875,
          -3.6599884033203125,
          0.899993896484375,
          0.5500030517578125,
          0.5500030517578125,
          3.1999969482421875,
          5.6699981689453125,
          6.3699951171875,
          0.910003662109375,
          1.2599945068359375,
          1.2599945068359375,
          1.2599945068359375,
          1.2400054931640625,
          0
         ],
         "yaxis": "y"
        },
        {
         "hovertemplate": "Term=AMZN<br>Date=%{x}<br>Difference=%{y}<extra></extra>",
         "legendgroup": "AMZN",
         "line": {
          "color": "#FFA15A",
          "dash": "solid"
         },
         "marker": {
          "symbol": "circle"
         },
         "mode": "lines",
         "name": "AMZN",
         "orientation": "v",
         "showlegend": true,
         "type": "scatter",
         "x": [
          "2023-03-20T00:00:00",
          "2023-03-22T00:00:00",
          "2023-03-23T00:00:00",
          "2023-03-24T00:00:00",
          "2023-03-26T00:00:00",
          "2023-03-27T00:00:00",
          "2023-03-29T00:00:00",
          "2023-04-02T00:00:00",
          "2023-04-03T00:00:00",
          "2023-04-04T00:00:00",
          "2023-04-05T00:00:00",
          "2023-04-06T00:00:00",
          "2023-04-10T00:00:00",
          "2023-04-11T00:00:00",
          "2023-04-12T00:00:00",
          "2023-04-13T00:00:00",
          "2023-04-14T00:00:00",
          "2023-04-15T00:00:00",
          "2023-04-16T00:00:00",
          "2023-04-17T00:00:00",
          "2023-04-18T00:00:00"
         ],
         "xaxis": "x",
         "y": [
          0.3300018310546875,
          1.5500030517578125,
          3.2900009155273438,
          5.160003662109375,
          5.160003662109375,
          4.370002746582031,
          0.8499984741210938,
          -1.2300033569335938,
          -0.2400054931640625,
          -4.029998779296875,
          -3.2699966430664062,
          0.34000396728515625,
          0.5699996948242188,
          2.3800048828125,
          4.470001220703125,
          -0.09999847412109375,
          -0.20999908447265625,
          -0.20999908447265625,
          -0.20999908447265625,
          -0.43999481201171875,
          0
         ],
         "yaxis": "y"
        }
       ],
       "layout": {
        "legend": {
         "title": {
          "text": "Term"
         },
         "tracegroupgap": 0
        },
        "margin": {
         "t": 60
        },
        "template": {
         "data": {
          "bar": [
           {
            "error_x": {
             "color": "#2a3f5f"
            },
            "error_y": {
             "color": "#2a3f5f"
            },
            "marker": {
             "line": {
              "color": "#E5ECF6",
              "width": 0.5
             },
             "pattern": {
              "fillmode": "overlay",
              "size": 10,
              "solidity": 0.2
             }
            },
            "type": "bar"
           }
          ],
          "barpolar": [
           {
            "marker": {
             "line": {
              "color": "#E5ECF6",
              "width": 0.5
             },
             "pattern": {
              "fillmode": "overlay",
              "size": 10,
              "solidity": 0.2
             }
            },
            "type": "barpolar"
           }
          ],
          "carpet": [
           {
            "aaxis": {
             "endlinecolor": "#2a3f5f",
             "gridcolor": "white",
             "linecolor": "white",
             "minorgridcolor": "white",
             "startlinecolor": "#2a3f5f"
            },
            "baxis": {
             "endlinecolor": "#2a3f5f",
             "gridcolor": "white",
             "linecolor": "white",
             "minorgridcolor": "white",
             "startlinecolor": "#2a3f5f"
            },
            "type": "carpet"
           }
          ],
          "choropleth": [
           {
            "colorbar": {
             "outlinewidth": 0,
             "ticks": ""
            },
            "type": "choropleth"
           }
          ],
          "contour": [
           {
            "colorbar": {
             "outlinewidth": 0,
             "ticks": ""
            },
            "colorscale": [
             [
              0,
              "#0d0887"
             ],
             [
              0.1111111111111111,
              "#46039f"
             ],
             [
              0.2222222222222222,
              "#7201a8"
             ],
             [
              0.3333333333333333,
              "#9c179e"
             ],
             [
              0.4444444444444444,
              "#bd3786"
             ],
             [
              0.5555555555555556,
              "#d8576b"
             ],
             [
              0.6666666666666666,
              "#ed7953"
             ],
             [
              0.7777777777777778,
              "#fb9f3a"
             ],
             [
              0.8888888888888888,
              "#fdca26"
             ],
             [
              1,
              "#f0f921"
             ]
            ],
            "type": "contour"
           }
          ],
          "contourcarpet": [
           {
            "colorbar": {
             "outlinewidth": 0,
             "ticks": ""
            },
            "type": "contourcarpet"
           }
          ],
          "heatmap": [
           {
            "colorbar": {
             "outlinewidth": 0,
             "ticks": ""
            },
            "colorscale": [
             [
              0,
              "#0d0887"
             ],
             [
              0.1111111111111111,
              "#46039f"
             ],
             [
              0.2222222222222222,
              "#7201a8"
             ],
             [
              0.3333333333333333,
              "#9c179e"
             ],
             [
              0.4444444444444444,
              "#bd3786"
             ],
             [
              0.5555555555555556,
              "#d8576b"
             ],
             [
              0.6666666666666666,
              "#ed7953"
             ],
             [
              0.7777777777777778,
              "#fb9f3a"
             ],
             [
              0.8888888888888888,
              "#fdca26"
             ],
             [
              1,
              "#f0f921"
             ]
            ],
            "type": "heatmap"
           }
          ],
          "heatmapgl": [
           {
            "colorbar": {
             "outlinewidth": 0,
             "ticks": ""
            },
            "colorscale": [
             [
              0,
              "#0d0887"
             ],
             [
              0.1111111111111111,
              "#46039f"
             ],
             [
              0.2222222222222222,
              "#7201a8"
             ],
             [
              0.3333333333333333,
              "#9c179e"
             ],
             [
              0.4444444444444444,
              "#bd3786"
             ],
             [
              0.5555555555555556,
              "#d8576b"
             ],
             [
              0.6666666666666666,
              "#ed7953"
             ],
             [
              0.7777777777777778,
              "#fb9f3a"
             ],
             [
              0.8888888888888888,
              "#fdca26"
             ],
             [
              1,
              "#f0f921"
             ]
            ],
            "type": "heatmapgl"
           }
          ],
          "histogram": [
           {
            "marker": {
             "pattern": {
              "fillmode": "overlay",
              "size": 10,
              "solidity": 0.2
             }
            },
            "type": "histogram"
           }
          ],
          "histogram2d": [
           {
            "colorbar": {
             "outlinewidth": 0,
             "ticks": ""
            },
            "colorscale": [
             [
              0,
              "#0d0887"
             ],
             [
              0.1111111111111111,
              "#46039f"
             ],
             [
              0.2222222222222222,
              "#7201a8"
             ],
             [
              0.3333333333333333,
              "#9c179e"
             ],
             [
              0.4444444444444444,
              "#bd3786"
             ],
             [
              0.5555555555555556,
              "#d8576b"
             ],
             [
              0.6666666666666666,
              "#ed7953"
             ],
             [
              0.7777777777777778,
              "#fb9f3a"
             ],
             [
              0.8888888888888888,
              "#fdca26"
             ],
             [
              1,
              "#f0f921"
             ]
            ],
            "type": "histogram2d"
           }
          ],
          "histogram2dcontour": [
           {
            "colorbar": {
             "outlinewidth": 0,
             "ticks": ""
            },
            "colorscale": [
             [
              0,
              "#0d0887"
             ],
             [
              0.1111111111111111,
              "#46039f"
             ],
             [
              0.2222222222222222,
              "#7201a8"
             ],
             [
              0.3333333333333333,
              "#9c179e"
             ],
             [
              0.4444444444444444,
              "#bd3786"
             ],
             [
              0.5555555555555556,
              "#d8576b"
             ],
             [
              0.6666666666666666,
              "#ed7953"
             ],
             [
              0.7777777777777778,
              "#fb9f3a"
             ],
             [
              0.8888888888888888,
              "#fdca26"
             ],
             [
              1,
              "#f0f921"
             ]
            ],
            "type": "histogram2dcontour"
           }
          ],
          "mesh3d": [
           {
            "colorbar": {
             "outlinewidth": 0,
             "ticks": ""
            },
            "type": "mesh3d"
           }
          ],
          "parcoords": [
           {
            "line": {
             "colorbar": {
              "outlinewidth": 0,
              "ticks": ""
             }
            },
            "type": "parcoords"
           }
          ],
          "pie": [
           {
            "automargin": true,
            "type": "pie"
           }
          ],
          "scatter": [
           {
            "fillpattern": {
             "fillmode": "overlay",
             "size": 10,
             "solidity": 0.2
            },
            "type": "scatter"
           }
          ],
          "scatter3d": [
           {
            "line": {
             "colorbar": {
              "outlinewidth": 0,
              "ticks": ""
             }
            },
            "marker": {
             "colorbar": {
              "outlinewidth": 0,
              "ticks": ""
             }
            },
            "type": "scatter3d"
           }
          ],
          "scattercarpet": [
           {
            "marker": {
             "colorbar": {
              "outlinewidth": 0,
              "ticks": ""
             }
            },
            "type": "scattercarpet"
           }
          ],
          "scattergeo": [
           {
            "marker": {
             "colorbar": {
              "outlinewidth": 0,
              "ticks": ""
             }
            },
            "type": "scattergeo"
           }
          ],
          "scattergl": [
           {
            "marker": {
             "colorbar": {
              "outlinewidth": 0,
              "ticks": ""
             }
            },
            "type": "scattergl"
           }
          ],
          "scattermapbox": [
           {
            "marker": {
             "colorbar": {
              "outlinewidth": 0,
              "ticks": ""
             }
            },
            "type": "scattermapbox"
           }
          ],
          "scatterpolar": [
           {
            "marker": {
             "colorbar": {
              "outlinewidth": 0,
              "ticks": ""
             }
            },
            "type": "scatterpolar"
           }
          ],
          "scatterpolargl": [
           {
            "marker": {
             "colorbar": {
              "outlinewidth": 0,
              "ticks": ""
             }
            },
            "type": "scatterpolargl"
           }
          ],
          "scatterternary": [
           {
            "marker": {
             "colorbar": {
              "outlinewidth": 0,
              "ticks": ""
             }
            },
            "type": "scatterternary"
           }
          ],
          "surface": [
           {
            "colorbar": {
             "outlinewidth": 0,
             "ticks": ""
            },
            "colorscale": [
             [
              0,
              "#0d0887"
             ],
             [
              0.1111111111111111,
              "#46039f"
             ],
             [
              0.2222222222222222,
              "#7201a8"
             ],
             [
              0.3333333333333333,
              "#9c179e"
             ],
             [
              0.4444444444444444,
              "#bd3786"
             ],
             [
              0.5555555555555556,
              "#d8576b"
             ],
             [
              0.6666666666666666,
              "#ed7953"
             ],
             [
              0.7777777777777778,
              "#fb9f3a"
             ],
             [
              0.8888888888888888,
              "#fdca26"
             ],
             [
              1,
              "#f0f921"
             ]
            ],
            "type": "surface"
           }
          ],
          "table": [
           {
            "cells": {
             "fill": {
              "color": "#EBF0F8"
             },
             "line": {
              "color": "white"
             }
            },
            "header": {
             "fill": {
              "color": "#C8D4E3"
             },
             "line": {
              "color": "white"
             }
            },
            "type": "table"
           }
          ]
         },
         "layout": {
          "annotationdefaults": {
           "arrowcolor": "#2a3f5f",
           "arrowhead": 0,
           "arrowwidth": 1
          },
          "autotypenumbers": "strict",
          "coloraxis": {
           "colorbar": {
            "outlinewidth": 0,
            "ticks": ""
           }
          },
          "colorscale": {
           "diverging": [
            [
             0,
             "#8e0152"
            ],
            [
             0.1,
             "#c51b7d"
            ],
            [
             0.2,
             "#de77ae"
            ],
            [
             0.3,
             "#f1b6da"
            ],
            [
             0.4,
             "#fde0ef"
            ],
            [
             0.5,
             "#f7f7f7"
            ],
            [
             0.6,
             "#e6f5d0"
            ],
            [
             0.7,
             "#b8e186"
            ],
            [
             0.8,
             "#7fbc41"
            ],
            [
             0.9,
             "#4d9221"
            ],
            [
             1,
             "#276419"
            ]
           ],
           "sequential": [
            [
             0,
             "#0d0887"
            ],
            [
             0.1111111111111111,
             "#46039f"
            ],
            [
             0.2222222222222222,
             "#7201a8"
            ],
            [
             0.3333333333333333,
             "#9c179e"
            ],
            [
             0.4444444444444444,
             "#bd3786"
            ],
            [
             0.5555555555555556,
             "#d8576b"
            ],
            [
             0.6666666666666666,
             "#ed7953"
            ],
            [
             0.7777777777777778,
             "#fb9f3a"
            ],
            [
             0.8888888888888888,
             "#fdca26"
            ],
            [
             1,
             "#f0f921"
            ]
           ],
           "sequentialminus": [
            [
             0,
             "#0d0887"
            ],
            [
             0.1111111111111111,
             "#46039f"
            ],
            [
             0.2222222222222222,
             "#7201a8"
            ],
            [
             0.3333333333333333,
             "#9c179e"
            ],
            [
             0.4444444444444444,
             "#bd3786"
            ],
            [
             0.5555555555555556,
             "#d8576b"
            ],
            [
             0.6666666666666666,
             "#ed7953"
            ],
            [
             0.7777777777777778,
             "#fb9f3a"
            ],
            [
             0.8888888888888888,
             "#fdca26"
            ],
            [
             1,
             "#f0f921"
            ]
           ]
          },
          "colorway": [
           "#636efa",
           "#EF553B",
           "#00cc96",
           "#ab63fa",
           "#FFA15A",
           "#19d3f3",
           "#FF6692",
           "#B6E880",
           "#FF97FF",
           "#FECB52"
          ],
          "font": {
           "color": "#2a3f5f"
          },
          "geo": {
           "bgcolor": "white",
           "lakecolor": "white",
           "landcolor": "#E5ECF6",
           "showlakes": true,
           "showland": true,
           "subunitcolor": "white"
          },
          "hoverlabel": {
           "align": "left"
          },
          "hovermode": "closest",
          "mapbox": {
           "style": "light"
          },
          "paper_bgcolor": "white",
          "plot_bgcolor": "#E5ECF6",
          "polar": {
           "angularaxis": {
            "gridcolor": "white",
            "linecolor": "white",
            "ticks": ""
           },
           "bgcolor": "#E5ECF6",
           "radialaxis": {
            "gridcolor": "white",
            "linecolor": "white",
            "ticks": ""
           }
          },
          "scene": {
           "xaxis": {
            "backgroundcolor": "#E5ECF6",
            "gridcolor": "white",
            "gridwidth": 2,
            "linecolor": "white",
            "showbackground": true,
            "ticks": "",
            "zerolinecolor": "white"
           },
           "yaxis": {
            "backgroundcolor": "#E5ECF6",
            "gridcolor": "white",
            "gridwidth": 2,
            "linecolor": "white",
            "showbackground": true,
            "ticks": "",
            "zerolinecolor": "white"
           },
           "zaxis": {
            "backgroundcolor": "#E5ECF6",
            "gridcolor": "white",
            "gridwidth": 2,
            "linecolor": "white",
            "showbackground": true,
            "ticks": "",
            "zerolinecolor": "white"
           }
          },
          "shapedefaults": {
           "line": {
            "color": "#2a3f5f"
           }
          },
          "ternary": {
           "aaxis": {
            "gridcolor": "white",
            "linecolor": "white",
            "ticks": ""
           },
           "baxis": {
            "gridcolor": "white",
            "linecolor": "white",
            "ticks": ""
           },
           "bgcolor": "#E5ECF6",
           "caxis": {
            "gridcolor": "white",
            "linecolor": "white",
            "ticks": ""
           }
          },
          "title": {
           "x": 0.05
          },
          "xaxis": {
           "automargin": true,
           "gridcolor": "white",
           "linecolor": "white",
           "ticks": "",
           "title": {
            "standoff": 15
           },
           "zerolinecolor": "white",
           "zerolinewidth": 2
          },
          "yaxis": {
           "automargin": true,
           "gridcolor": "white",
           "linecolor": "white",
           "ticks": "",
           "title": {
            "standoff": 15
           },
           "zerolinecolor": "white",
           "zerolinewidth": 2
          }
         }
        },
        "title": {
         "text": "Differene in Price by Stock Ticker"
        },
        "xaxis": {
         "anchor": "y",
         "domain": [
          0,
          1
         ],
         "title": {
          "text": "Date"
         }
        },
        "yaxis": {
         "anchor": "x",
         "domain": [
          0,
          1
         ],
         "title": {
          "text": "Difference"
         }
        }
       }
      }
     },
     "metadata": {},
     "output_type": "display_data"
    }
   ],
   "source": [
    "fig = px.line(last_30_days_df, x='Date', y='Difference', color='Term', labels={'Difference': 'Difference'})\n",
    "\n",
    "# Set plot title\n",
    "fig.update_layout(title='Differene in Price by Stock Ticker')\n",
    "\n",
    "fig.show()"
   ]
  },
  {
   "attachments": {},
   "cell_type": "markdown",
   "metadata": {},
   "source": [
    "---\n",
    "\n",
    "### Lets Build a Model, Why Not?\n",
    "\n",
    "---"
   ]
  },
  {
   "cell_type": "code",
   "execution_count": 12,
   "metadata": {},
   "outputs": [
    {
     "name": "stdout",
     "output_type": "stream",
     "text": [
      "Accuracy: 0.7350993377483444\n",
      "Precision: 0.5813953488372093\n",
      "Recall: 0.5308857808857809\n",
      "F1-score: 0.5398391812865497\n"
     ]
    }
   ],
   "source": [
    "# Split the dataset\n",
    "X_train, X_test, y_train, y_test = train_test_split(combined_df['Title'], combined_df['Sentiment'], test_size=0.3, random_state=50)\n",
    "\n",
    "# We vectorize the words into numerical features\n",
    "vectorizer = CountVectorizer()\n",
    "X_train_vec = vectorizer.fit_transform(X_train)\n",
    "X_test_vec = vectorizer.transform(X_test)\n",
    "\n",
    "# And train a logistic regression model with those features\n",
    "clf = LogisticRegression()\n",
    "clf.fit(X_train_vec, y_train)\n",
    "\n",
    "# Save your model for later implementation\n",
    "with open('model.pkl', 'wb') as f:\n",
    "    pickle.dump(clf, f)\n",
    "\n",
    "with open('vectorizer.pkl', 'wb') as f:\n",
    "    pickle.dump(vectorizer, f)\n",
    "\n",
    "# Make your predictions and see how we did\n",
    "y_pred = clf.predict(X_test_vec)\n",
    "\n",
    "accuracy = accuracy_score(y_test, y_pred)\n",
    "precision = precision_score(y_test, y_pred, average='macro')\n",
    "recall = recall_score(y_test, y_pred, average='macro')\n",
    "f1 = f1_score(y_test, y_pred, average='macro')\n",
    "\n",
    "print(f\"Accuracy: {accuracy}\")\n",
    "print(f\"Precision: {precision}\")\n",
    "print(f\"Recall: {recall}\")\n",
    "print(f\"F1-score: {f1}\")"
   ]
  },
  {
   "cell_type": "code",
   "execution_count": 13,
   "metadata": {},
   "outputs": [
    {
     "name": "stdout",
     "output_type": "stream",
     "text": [
      "There general sentiment for ['AAPL', 'MSFT', 'GOOG', 'AMZN', 'TSCO'] is: neutral\n",
      "neutral     104\n",
      "positive     43\n",
      "negative      4\n",
      "dtype: int64\n"
     ]
    }
   ],
   "source": [
    "sentiment_counts = pd.Series(y_pred).value_counts()\n",
    "general_sentiment = sentiment_counts.idxmax()\n",
    "print(f\"There general sentiment for {terms} is:\", general_sentiment)\n",
    "print(sentiment_counts)"
   ]
  },
  {
   "cell_type": "code",
   "execution_count": null,
   "metadata": {},
   "outputs": [],
   "source": []
  }
 ],
 "metadata": {
  "kernelspec": {
   "display_name": "explore",
   "language": "python",
   "name": "python3"
  },
  "language_info": {
   "codemirror_mode": {
    "name": "ipython",
    "version": 3
   },
   "file_extension": ".py",
   "mimetype": "text/x-python",
   "name": "python",
   "nbconvert_exporter": "python",
   "pygments_lexer": "ipython3",
   "version": "3.9.6"
  },
  "orig_nbformat": 4
 },
 "nbformat": 4,
 "nbformat_minor": 2
}
