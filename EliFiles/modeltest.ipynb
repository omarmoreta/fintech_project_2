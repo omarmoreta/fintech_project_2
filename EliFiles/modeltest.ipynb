{
 "cells": [
  {
   "cell_type": "code",
   "execution_count": 2,
   "metadata": {},
   "outputs": [
    {
     "name": "stdout",
     "output_type": "stream",
     "text": [
      "There general sentiment for Amazon is: neutral\n",
      "                                         article_text sentiment\n",
      "0   your ring doorbell camera just beaming a live ...  negative\n",
      "1   you can no longer buy either print or kindle n...  negative\n",
      "2   amazon may not be known for making generative ...  positive\n",
      "3   if you expecting a rabbit to drop off a basket...  positive\n",
      "4   amazon technology that can substitute for cred...  positive\n",
      "..                                                ...       ...\n",
      "95  if one good thing to come out of the pandemic ...  positive\n",
      "96  macbook air is on sale in nearly every configu...  positive\n",
      "97  amc entertainment soared as much as on tuesday...  negative\n",
      "98  how many people can the amazon halo rise track...  positive\n",
      "99  announced a new hifi tier in that would provid...   neutral\n",
      "\n",
      "[100 rows x 2 columns]\n",
      "neutral     52\n",
      "positive    40\n",
      "negative     8\n",
      "dtype: int64\n"
     ]
    }
   ],
   "source": [
    "# Necessary import libs\n",
    "import pandas as pd\n",
    "import requests\n",
    "import pickle\n",
    "\n",
    "# This will prompt when you run the code, asking for a stock ticker\n",
    "stock_symbol = input(\"Enter the name for your company: \")\n",
    "\n",
    "# Set up your API-key where appropriate\n",
    "###\n",
    "# https://newsapi.org/\n",
    "###\n",
    "url = f'https://newsapi.org/v2/everything?q={stock_symbol}&language=en&apiKey=b5a773a5567143498367cf75f60ccf52'\n",
    "response = requests.get(url)\n",
    "articles = response.json()['articles']\n",
    "\n",
    "# Load our previously built models with pickle\n",
    "with open('model.pkl', 'rb') as f:\n",
    "    clf = pickle.load(f)\n",
    "\n",
    "with open('vectorizer.pkl', 'rb') as f:\n",
    "    vectorizer = pickle.load(f)\n",
    "\n",
    "# Process the articles found\n",
    "preprocessed_articles = []\n",
    "\n",
    "# Preprocess articles and predict sentiment\n",
    "preprocessed_articles = []\n",
    "for article in articles:\n",
    "    text = article['content']\n",
    "    preprocessed_text = ' '.join([token for token in text.lower().split() if token.isalpha()])\n",
    "    preprocessed_articles.append(preprocessed_text)\n",
    "\n",
    "# Apply to model to the articles\n",
    "X_vec = vectorizer.transform(preprocessed_articles)\n",
    "y_pred = clf.predict(X_vec)\n",
    "\n",
    "# Create a dataframe with the article text and sentiment predictions\n",
    "results = pd.DataFrame({'article_text': preprocessed_articles, 'sentiment': y_pred})\n",
    "\n",
    "# Print out the sentiment label with the highest count\n",
    "sentiment_counts = pd.Series(y_pred).value_counts()\n",
    "general_sentiment = sentiment_counts.idxmax()\n",
    "print(f\"There general sentiment for {stock_symbol} is:\", general_sentiment)\n",
    "print(results)\n",
    "print(sentiment_counts)"
   ]
  },
  {
   "cell_type": "code",
   "execution_count": null,
   "metadata": {},
   "outputs": [],
   "source": []
  }
 ],
 "metadata": {
  "kernelspec": {
   "display_name": "explore",
   "language": "python",
   "name": "python3"
  },
  "language_info": {
   "codemirror_mode": {
    "name": "ipython",
    "version": 3
   },
   "file_extension": ".py",
   "mimetype": "text/x-python",
   "name": "python",
   "nbconvert_exporter": "python",
   "pygments_lexer": "ipython3",
   "version": "3.9.6"
  },
  "orig_nbformat": 4
 },
 "nbformat": 4,
 "nbformat_minor": 2
}
