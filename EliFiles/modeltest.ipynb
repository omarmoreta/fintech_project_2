{
 "cells": [
  {
   "cell_type": "code",
   "execution_count": 28,
   "metadata": {},
   "outputs": [
    {
     "name": "stdout",
     "output_type": "stream",
     "text": [
      "There general sentiment for Microsoft is: neutral\n",
      "                                         article_text sentiment\n",
      "0   as soon as lars ruiter steps out of his he is ...   neutral\n",
      "1   microsoft announces the future of office docum...   neutral\n",
      "2   the verge after announcing an copilot assistan...   neutral\n",
      "3   microsoft and snap have teamed up to bring sna...   neutral\n",
      "4   when microsoft and openai announced their rene...   neutral\n",
      "..                                                ...       ...\n",
      "95  netflix games wants to cater to every kind of ...  positive\n",
      "96  last lyft suddenly announced that its presiden...   neutral\n",
      "97  upcoming upgrade will let users turn text into...   neutral\n",
      "98  we use cookies and data and maintain google ou...   neutral\n",
      "99  researchers at microsoft and the digital right...   neutral\n",
      "\n",
      "[100 rows x 2 columns]\n",
      "neutral     79\n",
      "positive    16\n",
      "negative     5\n",
      "dtype: int64\n"
     ]
    }
   ],
   "source": [
    "# Necessary import libs\n",
    "import pandas as pd\n",
    "import requests\n",
    "import pickle\n",
    "\n",
    "# This will prompt when you run the code, asking for a stock ticker\n",
    "stock_symbol = input(\"Enter the name for your company: \")\n",
    "\n",
    "# Set up your API-key where appropriate\n",
    "###\n",
    "# https://newsapi.org/\n",
    "###\n",
    "url = f'https://newsapi.org/v2/everything?q={stock_symbol}&language=en&apiKey=b5a773a5567143498367cf75f60ccf52'\n",
    "response = requests.get(url)\n",
    "articles = response.json()['articles']\n",
    "\n",
    "# Load our previously built models with pickle\n",
    "with open('model.pkl', 'rb') as f:\n",
    "    clf = pickle.load(f)\n",
    "\n",
    "with open('vectorizer.pkl', 'rb') as f:\n",
    "    vectorizer = pickle.load(f)\n",
    "\n",
    "# Process the articles found\n",
    "preprocessed_articles = []\n",
    "\n",
    "# Preprocess articles and predict sentiment\n",
    "preprocessed_articles = []\n",
    "for article in articles:\n",
    "    text = article['content']\n",
    "    preprocessed_text = ' '.join([token for token in text.lower().split() if token.isalpha()])\n",
    "    preprocessed_articles.append(preprocessed_text)\n",
    "\n",
    "# Apply to model to the articles\n",
    "X_vec = vectorizer.transform(preprocessed_articles)\n",
    "y_pred = clf.predict(X_vec)\n",
    "\n",
    "# Create a dataframe with the article text and sentiment predictions\n",
    "results = pd.DataFrame({'article_text': preprocessed_articles, 'sentiment': y_pred})\n",
    "\n",
    "# Print out the sentiment label with the highest count\n",
    "sentiment_counts = pd.Series(y_pred).value_counts()\n",
    "general_sentiment = sentiment_counts.idxmax()\n",
    "print(f\"There general sentiment for {stock_symbol} is:\", general_sentiment)\n",
    "print(results)\n",
    "print(sentiment_counts)"
   ]
  },
  {
   "cell_type": "code",
   "execution_count": null,
   "metadata": {},
   "outputs": [],
   "source": []
  }
 ],
 "metadata": {
  "kernelspec": {
   "display_name": "explore",
   "language": "python",
   "name": "python3"
  },
  "language_info": {
   "codemirror_mode": {
    "name": "ipython",
    "version": 3
   },
   "file_extension": ".py",
   "mimetype": "text/x-python",
   "name": "python",
   "nbconvert_exporter": "python",
   "pygments_lexer": "ipython3",
   "version": "3.9.6"
  },
  "orig_nbformat": 4
 },
 "nbformat": 4,
 "nbformat_minor": 2
}
