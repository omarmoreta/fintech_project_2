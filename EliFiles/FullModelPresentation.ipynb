{
 "cells": [
  {
   "attachments": {},
   "cell_type": "markdown",
   "metadata": {},
   "source": [
    "---\n",
    "\n",
    "### Import your Necessary Libraries\n",
    "\n",
    "---"
   ]
  },
  {
   "cell_type": "code",
   "execution_count": 1,
   "metadata": {},
   "outputs": [],
   "source": [
    "# Do I even need to say anything?\n",
    "import pandas as pd\n",
    "import numpy as np\n",
    "\n",
    "# Plots for days\n",
    "import plotly.express as px\n",
    "import plotly.graph_objects as go\n",
    "import plotly.subplots as sp\n",
    "\n",
    "# Useful datetime functions\n",
    "from datetime import date\n",
    "from datetime import timedelta\n",
    "from datetime import datetime\n",
    "\n",
    "# Sentiment polarity analysis\n",
    "from textblob import TextBlob \n",
    "\n",
    "# Save your models, reuse them\n",
    "import pickle\n",
    "\n",
    "# Fit, transform, all you want\n",
    "from sklearn.model_selection import train_test_split\n",
    "from sklearn.feature_extraction.text import CountVectorizer\n",
    "from sklearn.linear_model import LogisticRegression\n",
    "from sklearn.metrics import classification_report\n",
    "\n",
    "# The main powerhouse of our project\n",
    "from openbb_terminal.sdk import openbb"
   ]
  },
  {
   "attachments": {},
   "cell_type": "markdown",
   "metadata": {},
   "source": [
    "---\n",
    "\n",
    "### Lets get the Sentiment for your company\n",
    "\n",
    "---"
   ]
  },
  {
   "cell_type": "code",
   "execution_count": 43,
   "metadata": {},
   "outputs": [],
   "source": [
    "# Choose your company for the review\n",
    "# You can list multiple companies in here if you wish to build a larger dataframe\n",
    "terms = [\"AAPL\",\"TSLA\",\"AMZN\",\"TSCO\",\"SIVBQ\"]\n",
    "\n",
    "# Create the DataFrame for our module\n",
    "combined_df = pd.DataFrame()\n",
    "\n",
    "# This will give us the closing price for each line from the news pull\n",
    "def get_closing_price(date, term):\n",
    "    end_date = date + pd.DateOffset(days=1) # Add 1 day to include the current date\n",
    "    start_date = date - pd.DateOffset(days=4) # Get a little bit extra in case of weekend\n",
    "    stock_data = openbb.stocks.load(symbol=term, start_date=start_date, end_date=end_date)\n",
    "    if not stock_data.empty:\n",
    "        closing_price = stock_data['Close'].iloc[-1] # Get the closing price for the last row\n",
    "        return closing_price\n",
    "    else:\n",
    "        return None\n",
    "    \n",
    "# get_closing_price 3 days later function\n",
    "def get_closing_price_3d(date, term):\n",
    "    end_date = date + pd.DateOffset(days=4) # Add 4 day to get close 3 days later\n",
    "    start_date = date - pd.DateOffset(days=4)\n",
    "    stock_data = openbb.stocks.load(symbol=term, start_date=start_date, end_date=end_date)\n",
    "    if not stock_data.empty:\n",
    "        closing_price_7d = stock_data['Close'].iloc[-1] # Get the closing price for the last row\n",
    "        return closing_price_7d\n",
    "    else:\n",
    "        return None"
   ]
  },
  {
   "cell_type": "code",
   "execution_count": null,
   "metadata": {},
   "outputs": [],
   "source": [
    "# If there are multiple tickers it will loop through all of them and combine their news articles into 1 dataframe\n",
    "for term in terms:\n",
    "    # OpenBB has a .news() function which will pull in 100 recent news articles related to your Stock\n",
    "    news = openbb.news(term= term, sort= \"published\")\n",
    "    df = pd.DataFrame({'Term': term, 'Title': news['title'], 'Date': news['published'], 'Link': news['link']})\n",
    "    df['Date'] = pd.to_datetime(df['Date']).dt.strftime('%Y-%m-%d')\n",
    "\n",
    "    # Concat the current dataframe to the combined_df we defined earlier\n",
    "    combined_df = pd.concat([combined_df, df], ignore_index=True)\n",
    "\n",
    "# This makes sure the date stays as DateTime for future use\n",
    "combined_df['Date'] = combined_df['Date'].astype('datetime64[ns]')\n",
    "    \n",
    "# Update combined_df to include 'Close' column\n",
    "combined_df['Close'] = combined_df.apply(lambda row: get_closing_price(row['Date'], row['Term']), axis=1)\n",
    "    \n",
    "# Update combined_df to include 'Close_3D' column\n",
    "combined_df['Close_3D'] = combined_df.apply(lambda row: get_closing_price_3d(row['Date'], row['Term']), axis=1)\n",
    "\n",
    "# Start Assigning Sentiment\n",
    "# Create sentiment_labels list\n",
    "sentiment_labels = []\n",
    "\n",
    "# Loop through all of the text and assign labels as 'Sentiment'\n",
    "for text in combined_df['Title']:\n",
    "    blob = TextBlob(text)\n",
    "    sentiment = blob.sentiment.polarity\n",
    "    if sentiment > 0:\n",
    "        sentiment_labels.append('positive')\n",
    "    elif sentiment < 0:\n",
    "        sentiment_labels.append('negative')\n",
    "    else:\n",
    "        sentiment_labels.append('neutral')\n",
    "\n",
    "combined_df['Sentiment'] = sentiment_labels\n",
    "\n",
    "# Calculate the difference in the shift for the 3 days following the day of sentiment\n",
    "combined_df['Difference'] = combined_df['Close_3D'] - combined_df['Close']\n",
    "combined_df"
   ]
  },
  {
   "cell_type": "code",
   "execution_count": 45,
   "metadata": {},
   "outputs": [
    {
     "data": {
      "text/html": [
       "<div>\n",
       "<style scoped>\n",
       "    .dataframe tbody tr th:only-of-type {\n",
       "        vertical-align: middle;\n",
       "    }\n",
       "\n",
       "    .dataframe tbody tr th {\n",
       "        vertical-align: top;\n",
       "    }\n",
       "\n",
       "    .dataframe thead th {\n",
       "        text-align: right;\n",
       "    }\n",
       "</style>\n",
       "<table border=\"1\" class=\"dataframe\">\n",
       "  <thead>\n",
       "    <tr style=\"text-align: right;\">\n",
       "      <th></th>\n",
       "      <th>Term</th>\n",
       "      <th>Title</th>\n",
       "      <th>Date</th>\n",
       "      <th>Link</th>\n",
       "      <th>Close</th>\n",
       "      <th>Close_3D</th>\n",
       "      <th>Sentiment</th>\n",
       "      <th>Difference</th>\n",
       "    </tr>\n",
       "  </thead>\n",
       "  <tbody>\n",
       "    <tr>\n",
       "      <th>0</th>\n",
       "      <td>AAPL</td>\n",
       "      <td>New Study Published in Physician Leadership Jo...</td>\n",
       "      <td>2023-04-20</td>\n",
       "      <td>https://news.google.com/rss/articles/CBMiWmh0d...</td>\n",
       "      <td>166.649994</td>\n",
       "      <td>166.649994</td>\n",
       "      <td>positive</td>\n",
       "      <td>0.000000</td>\n",
       "    </tr>\n",
       "    <tr>\n",
       "      <th>1</th>\n",
       "      <td>AAPL</td>\n",
       "      <td>Apple may triple investment in India, deputy t...</td>\n",
       "      <td>2023-04-20</td>\n",
       "      <td>https://news.google.com/rss/articles/CBMi0AFod...</td>\n",
       "      <td>166.649994</td>\n",
       "      <td>166.649994</td>\n",
       "      <td>neutral</td>\n",
       "      <td>0.000000</td>\n",
       "    </tr>\n",
       "    <tr>\n",
       "      <th>2</th>\n",
       "      <td>AAPL</td>\n",
       "      <td>Adding to Our Cash Position by Trimming 4 Well...</td>\n",
       "      <td>2023-04-20</td>\n",
       "      <td>https://news.google.com/rss/articles/CBMib2h0d...</td>\n",
       "      <td>166.649994</td>\n",
       "      <td>166.649994</td>\n",
       "      <td>neutral</td>\n",
       "      <td>0.000000</td>\n",
       "    </tr>\n",
       "    <tr>\n",
       "      <th>3</th>\n",
       "      <td>AAPL</td>\n",
       "      <td>Guru Fundamental Report for AAPL - Warren Buff...</td>\n",
       "      <td>2023-04-20</td>\n",
       "      <td>https://news.google.com/rss/articles/CBMiUmh0d...</td>\n",
       "      <td>166.649994</td>\n",
       "      <td>166.649994</td>\n",
       "      <td>neutral</td>\n",
       "      <td>0.000000</td>\n",
       "    </tr>\n",
       "    <tr>\n",
       "      <th>4</th>\n",
       "      <td>AAPL</td>\n",
       "      <td>Apple Inc.'s (NASDAQ:AAPL) institutional share...</td>\n",
       "      <td>2023-04-20</td>\n",
       "      <td>https://news.google.com/rss/articles/CBMiUWh0d...</td>\n",
       "      <td>166.649994</td>\n",
       "      <td>166.649994</td>\n",
       "      <td>positive</td>\n",
       "      <td>0.000000</td>\n",
       "    </tr>\n",
       "    <tr>\n",
       "      <th>...</th>\n",
       "      <td>...</td>\n",
       "      <td>...</td>\n",
       "      <td>...</td>\n",
       "      <td>...</td>\n",
       "      <td>...</td>\n",
       "      <td>...</td>\n",
       "      <td>...</td>\n",
       "      <td>...</td>\n",
       "    </tr>\n",
       "    <tr>\n",
       "      <th>497</th>\n",
       "      <td>SIVBQ</td>\n",
       "      <td>Comerica Inc. stock rises Wednesday, outperfor...</td>\n",
       "      <td>2023-03-29</td>\n",
       "      <td>https://news.google.com/rss/articles/CBMicWh0d...</td>\n",
       "      <td>0.970000</td>\n",
       "      <td>0.905000</td>\n",
       "      <td>neutral</td>\n",
       "      <td>-0.065000</td>\n",
       "    </tr>\n",
       "    <tr>\n",
       "      <th>498</th>\n",
       "      <td>SIVBQ</td>\n",
       "      <td>Mphasis Clarifies Having No Exposure to Failed...</td>\n",
       "      <td>2023-03-29</td>\n",
       "      <td>https://news.google.com/rss/articles/CBMibmh0d...</td>\n",
       "      <td>0.970000</td>\n",
       "      <td>0.905000</td>\n",
       "      <td>negative</td>\n",
       "      <td>-0.065000</td>\n",
       "    </tr>\n",
       "    <tr>\n",
       "      <th>499</th>\n",
       "      <td>SIVBQ</td>\n",
       "      <td>U.S. stocks lower at close of trade; Dow Jones...</td>\n",
       "      <td>2023-03-28</td>\n",
       "      <td>https://news.google.com/rss/articles/CBMigAFod...</td>\n",
       "      <td>0.400000</td>\n",
       "      <td>0.905000</td>\n",
       "      <td>negative</td>\n",
       "      <td>0.505000</td>\n",
       "    </tr>\n",
       "    <tr>\n",
       "      <th>500</th>\n",
       "      <td>SIVBQ</td>\n",
       "      <td>Citizens Financial, Fifth Third among oversold...</td>\n",
       "      <td>2023-03-28</td>\n",
       "      <td>https://news.google.com/rss/articles/CBMifGh0d...</td>\n",
       "      <td>0.400000</td>\n",
       "      <td>0.905000</td>\n",
       "      <td>neutral</td>\n",
       "      <td>0.505000</td>\n",
       "    </tr>\n",
       "    <tr>\n",
       "      <th>501</th>\n",
       "      <td>SIVBQ</td>\n",
       "      <td>SVB Financial Q4 2022 Earnings Preview (OTCMKT...</td>\n",
       "      <td>2023-01-18</td>\n",
       "      <td>https://news.google.com/rss/articles/CBMiTGh0d...</td>\n",
       "      <td>251.979996</td>\n",
       "      <td>291.440002</td>\n",
       "      <td>neutral</td>\n",
       "      <td>39.460007</td>\n",
       "    </tr>\n",
       "  </tbody>\n",
       "</table>\n",
       "<p>502 rows × 8 columns</p>\n",
       "</div>"
      ],
      "text/plain": [
       "      Term                                              Title       Date  \\\n",
       "0     AAPL  New Study Published in Physician Leadership Jo... 2023-04-20   \n",
       "1     AAPL  Apple may triple investment in India, deputy t... 2023-04-20   \n",
       "2     AAPL  Adding to Our Cash Position by Trimming 4 Well... 2023-04-20   \n",
       "3     AAPL  Guru Fundamental Report for AAPL - Warren Buff... 2023-04-20   \n",
       "4     AAPL  Apple Inc.'s (NASDAQ:AAPL) institutional share... 2023-04-20   \n",
       "..     ...                                                ...        ...   \n",
       "497  SIVBQ  Comerica Inc. stock rises Wednesday, outperfor... 2023-03-29   \n",
       "498  SIVBQ  Mphasis Clarifies Having No Exposure to Failed... 2023-03-29   \n",
       "499  SIVBQ  U.S. stocks lower at close of trade; Dow Jones... 2023-03-28   \n",
       "500  SIVBQ  Citizens Financial, Fifth Third among oversold... 2023-03-28   \n",
       "501  SIVBQ  SVB Financial Q4 2022 Earnings Preview (OTCMKT... 2023-01-18   \n",
       "\n",
       "                                                  Link       Close  \\\n",
       "0    https://news.google.com/rss/articles/CBMiWmh0d...  166.649994   \n",
       "1    https://news.google.com/rss/articles/CBMi0AFod...  166.649994   \n",
       "2    https://news.google.com/rss/articles/CBMib2h0d...  166.649994   \n",
       "3    https://news.google.com/rss/articles/CBMiUmh0d...  166.649994   \n",
       "4    https://news.google.com/rss/articles/CBMiUWh0d...  166.649994   \n",
       "..                                                 ...         ...   \n",
       "497  https://news.google.com/rss/articles/CBMicWh0d...    0.970000   \n",
       "498  https://news.google.com/rss/articles/CBMibmh0d...    0.970000   \n",
       "499  https://news.google.com/rss/articles/CBMigAFod...    0.400000   \n",
       "500  https://news.google.com/rss/articles/CBMifGh0d...    0.400000   \n",
       "501  https://news.google.com/rss/articles/CBMiTGh0d...  251.979996   \n",
       "\n",
       "       Close_3D Sentiment  Difference  \n",
       "0    166.649994  positive    0.000000  \n",
       "1    166.649994   neutral    0.000000  \n",
       "2    166.649994   neutral    0.000000  \n",
       "3    166.649994   neutral    0.000000  \n",
       "4    166.649994  positive    0.000000  \n",
       "..          ...       ...         ...  \n",
       "497    0.905000   neutral   -0.065000  \n",
       "498    0.905000  negative   -0.065000  \n",
       "499    0.905000  negative    0.505000  \n",
       "500    0.905000   neutral    0.505000  \n",
       "501  291.440002   neutral   39.460007  \n",
       "\n",
       "[502 rows x 8 columns]"
      ]
     },
     "execution_count": 45,
     "metadata": {},
     "output_type": "execute_result"
    }
   ],
   "source": [
    "combined_df"
   ]
  },
  {
   "attachments": {},
   "cell_type": "markdown",
   "metadata": {},
   "source": [
    "---\n",
    "\n",
    "### Single out the most frequent instance of 'Sentiment' by 'Date'\n",
    "\n",
    "---"
   ]
  },
  {
   "cell_type": "code",
   "execution_count": 46,
   "metadata": {},
   "outputs": [
    {
     "data": {
      "text/html": [
       "<div>\n",
       "<style scoped>\n",
       "    .dataframe tbody tr th:only-of-type {\n",
       "        vertical-align: middle;\n",
       "    }\n",
       "\n",
       "    .dataframe tbody tr th {\n",
       "        vertical-align: top;\n",
       "    }\n",
       "\n",
       "    .dataframe thead th {\n",
       "        text-align: right;\n",
       "    }\n",
       "</style>\n",
       "<table border=\"1\" class=\"dataframe\">\n",
       "  <thead>\n",
       "    <tr style=\"text-align: right;\">\n",
       "      <th></th>\n",
       "      <th>Date</th>\n",
       "      <th>Term</th>\n",
       "      <th>Sentiment</th>\n",
       "      <th>Close</th>\n",
       "      <th>Close_3D</th>\n",
       "      <th>Difference</th>\n",
       "    </tr>\n",
       "  </thead>\n",
       "  <tbody>\n",
       "    <tr>\n",
       "      <th>0</th>\n",
       "      <td>2022-04-03</td>\n",
       "      <td>TSCO</td>\n",
       "      <td>positive</td>\n",
       "      <td>226.710007</td>\n",
       "      <td>224.919998</td>\n",
       "      <td>-1.790009</td>\n",
       "    </tr>\n",
       "    <tr>\n",
       "      <th>1</th>\n",
       "      <td>2022-08-15</td>\n",
       "      <td>TSCO</td>\n",
       "      <td>neutral</td>\n",
       "      <td>198.210007</td>\n",
       "      <td>205.210007</td>\n",
       "      <td>7.000000</td>\n",
       "    </tr>\n",
       "    <tr>\n",
       "      <th>2</th>\n",
       "      <td>2022-09-12</td>\n",
       "      <td>TSCO</td>\n",
       "      <td>positive</td>\n",
       "      <td>202.649994</td>\n",
       "      <td>187.960007</td>\n",
       "      <td>-14.689987</td>\n",
       "    </tr>\n",
       "    <tr>\n",
       "      <th>3</th>\n",
       "      <td>2022-09-16</td>\n",
       "      <td>TSCO</td>\n",
       "      <td>neutral</td>\n",
       "      <td>190.020004</td>\n",
       "      <td>192.979996</td>\n",
       "      <td>2.959991</td>\n",
       "    </tr>\n",
       "    <tr>\n",
       "      <th>4</th>\n",
       "      <td>2022-10-03</td>\n",
       "      <td>TSCO</td>\n",
       "      <td>positive</td>\n",
       "      <td>194.119995</td>\n",
       "      <td>200.080002</td>\n",
       "      <td>5.960007</td>\n",
       "    </tr>\n",
       "    <tr>\n",
       "      <th>...</th>\n",
       "      <td>...</td>\n",
       "      <td>...</td>\n",
       "      <td>...</td>\n",
       "      <td>...</td>\n",
       "      <td>...</td>\n",
       "      <td>...</td>\n",
       "    </tr>\n",
       "    <tr>\n",
       "      <th>309</th>\n",
       "      <td>2023-04-20</td>\n",
       "      <td>TSCO</td>\n",
       "      <td>neutral</td>\n",
       "      <td>249.000000</td>\n",
       "      <td>249.000000</td>\n",
       "      <td>0.000000</td>\n",
       "    </tr>\n",
       "    <tr>\n",
       "      <th>302</th>\n",
       "      <td>2023-04-20</td>\n",
       "      <td>AAPL</td>\n",
       "      <td>neutral</td>\n",
       "      <td>166.649994</td>\n",
       "      <td>166.649994</td>\n",
       "      <td>0.000000</td>\n",
       "    </tr>\n",
       "    <tr>\n",
       "      <th>305</th>\n",
       "      <td>2023-04-20</td>\n",
       "      <td>AMZN</td>\n",
       "      <td>neutral</td>\n",
       "      <td>103.809998</td>\n",
       "      <td>103.809998</td>\n",
       "      <td>0.000000</td>\n",
       "    </tr>\n",
       "    <tr>\n",
       "      <th>307</th>\n",
       "      <td>2023-04-20</td>\n",
       "      <td>SIVBQ</td>\n",
       "      <td>neutral</td>\n",
       "      <td>0.763250</td>\n",
       "      <td>0.760100</td>\n",
       "      <td>-0.003150</td>\n",
       "    </tr>\n",
       "    <tr>\n",
       "      <th>311</th>\n",
       "      <td>2023-04-20</td>\n",
       "      <td>TSLA</td>\n",
       "      <td>neutral</td>\n",
       "      <td>162.990005</td>\n",
       "      <td>162.990005</td>\n",
       "      <td>0.000000</td>\n",
       "    </tr>\n",
       "  </tbody>\n",
       "</table>\n",
       "<p>231 rows × 6 columns</p>\n",
       "</div>"
      ],
      "text/plain": [
       "          Date   Term Sentiment       Close    Close_3D  Difference\n",
       "0   2022-04-03   TSCO  positive  226.710007  224.919998   -1.790009\n",
       "1   2022-08-15   TSCO   neutral  198.210007  205.210007    7.000000\n",
       "2   2022-09-12   TSCO  positive  202.649994  187.960007  -14.689987\n",
       "3   2022-09-16   TSCO   neutral  190.020004  192.979996    2.959991\n",
       "4   2022-10-03   TSCO  positive  194.119995  200.080002    5.960007\n",
       "..         ...    ...       ...         ...         ...         ...\n",
       "309 2023-04-20   TSCO   neutral  249.000000  249.000000    0.000000\n",
       "302 2023-04-20   AAPL   neutral  166.649994  166.649994    0.000000\n",
       "305 2023-04-20   AMZN   neutral  103.809998  103.809998    0.000000\n",
       "307 2023-04-20  SIVBQ   neutral    0.763250    0.760100   -0.003150\n",
       "311 2023-04-20   TSLA   neutral  162.990005  162.990005    0.000000\n",
       "\n",
       "[231 rows x 6 columns]"
      ]
     },
     "execution_count": 46,
     "metadata": {},
     "output_type": "execute_result"
    }
   ],
   "source": [
    "# Group by 'Date', 'Term', and 'Sentiment', and count occurrences\n",
    "sentiment_counts = combined_df.groupby(['Date', 'Term', 'Sentiment', 'Close', 'Close_3D', 'Difference']).size().reset_index(name='Count')\n",
    "\n",
    "# Get the sentiment with the highest count for each group\n",
    "idx = sentiment_counts.groupby(['Date', 'Term'])['Count'].idxmax()\n",
    "\n",
    "sentiment_max_count = sentiment_counts.loc[idx, ['Date', 'Term', 'Sentiment', 'Close', 'Close_3D', 'Difference']]\n",
    "\n",
    "sentiment_max_count = sentiment_max_count.sort_values(by='Date', ascending=True)\n",
    "sentiment_max_count"
   ]
  },
  {
   "cell_type": "code",
   "execution_count": 47,
   "metadata": {},
   "outputs": [
    {
     "data": {
      "text/html": [
       "<div>\n",
       "<style scoped>\n",
       "    .dataframe tbody tr th:only-of-type {\n",
       "        vertical-align: middle;\n",
       "    }\n",
       "\n",
       "    .dataframe tbody tr th {\n",
       "        vertical-align: top;\n",
       "    }\n",
       "\n",
       "    .dataframe thead th {\n",
       "        text-align: right;\n",
       "    }\n",
       "</style>\n",
       "<table border=\"1\" class=\"dataframe\">\n",
       "  <thead>\n",
       "    <tr style=\"text-align: right;\">\n",
       "      <th></th>\n",
       "      <th>Date</th>\n",
       "      <th>Term</th>\n",
       "      <th>Sentiment</th>\n",
       "      <th>Close</th>\n",
       "      <th>Close_3D</th>\n",
       "      <th>Difference</th>\n",
       "    </tr>\n",
       "  </thead>\n",
       "  <tbody>\n",
       "    <tr>\n",
       "      <th>123</th>\n",
       "      <td>2023-03-22</td>\n",
       "      <td>AAPL</td>\n",
       "      <td>positive</td>\n",
       "      <td>157.830002</td>\n",
       "      <td>160.250000</td>\n",
       "      <td>2.419998</td>\n",
       "    </tr>\n",
       "    <tr>\n",
       "      <th>125</th>\n",
       "      <td>2023-03-22</td>\n",
       "      <td>AMZN</td>\n",
       "      <td>neutral</td>\n",
       "      <td>98.699997</td>\n",
       "      <td>98.129997</td>\n",
       "      <td>-0.570000</td>\n",
       "    </tr>\n",
       "    <tr>\n",
       "      <th>127</th>\n",
       "      <td>2023-03-22</td>\n",
       "      <td>TSCO</td>\n",
       "      <td>negative</td>\n",
       "      <td>228.839996</td>\n",
       "      <td>227.210007</td>\n",
       "      <td>-1.629990</td>\n",
       "    </tr>\n",
       "    <tr>\n",
       "      <th>128</th>\n",
       "      <td>2023-03-22</td>\n",
       "      <td>TSLA</td>\n",
       "      <td>neutral</td>\n",
       "      <td>191.149994</td>\n",
       "      <td>190.410004</td>\n",
       "      <td>-0.739990</td>\n",
       "    </tr>\n",
       "    <tr>\n",
       "      <th>129</th>\n",
       "      <td>2023-03-23</td>\n",
       "      <td>AAPL</td>\n",
       "      <td>neutral</td>\n",
       "      <td>158.929993</td>\n",
       "      <td>160.250000</td>\n",
       "      <td>1.320007</td>\n",
       "    </tr>\n",
       "    <tr>\n",
       "      <th>...</th>\n",
       "      <td>...</td>\n",
       "      <td>...</td>\n",
       "      <td>...</td>\n",
       "      <td>...</td>\n",
       "      <td>...</td>\n",
       "      <td>...</td>\n",
       "    </tr>\n",
       "    <tr>\n",
       "      <th>309</th>\n",
       "      <td>2023-04-20</td>\n",
       "      <td>TSCO</td>\n",
       "      <td>neutral</td>\n",
       "      <td>249.000000</td>\n",
       "      <td>249.000000</td>\n",
       "      <td>0.000000</td>\n",
       "    </tr>\n",
       "    <tr>\n",
       "      <th>302</th>\n",
       "      <td>2023-04-20</td>\n",
       "      <td>AAPL</td>\n",
       "      <td>neutral</td>\n",
       "      <td>166.649994</td>\n",
       "      <td>166.649994</td>\n",
       "      <td>0.000000</td>\n",
       "    </tr>\n",
       "    <tr>\n",
       "      <th>305</th>\n",
       "      <td>2023-04-20</td>\n",
       "      <td>AMZN</td>\n",
       "      <td>neutral</td>\n",
       "      <td>103.809998</td>\n",
       "      <td>103.809998</td>\n",
       "      <td>0.000000</td>\n",
       "    </tr>\n",
       "    <tr>\n",
       "      <th>307</th>\n",
       "      <td>2023-04-20</td>\n",
       "      <td>SIVBQ</td>\n",
       "      <td>neutral</td>\n",
       "      <td>0.763250</td>\n",
       "      <td>0.760100</td>\n",
       "      <td>-0.003150</td>\n",
       "    </tr>\n",
       "    <tr>\n",
       "      <th>311</th>\n",
       "      <td>2023-04-20</td>\n",
       "      <td>TSLA</td>\n",
       "      <td>neutral</td>\n",
       "      <td>162.990005</td>\n",
       "      <td>162.990005</td>\n",
       "      <td>0.000000</td>\n",
       "    </tr>\n",
       "  </tbody>\n",
       "</table>\n",
       "<p>114 rows × 6 columns</p>\n",
       "</div>"
      ],
      "text/plain": [
       "          Date   Term Sentiment       Close    Close_3D  Difference\n",
       "123 2023-03-22   AAPL  positive  157.830002  160.250000    2.419998\n",
       "125 2023-03-22   AMZN   neutral   98.699997   98.129997   -0.570000\n",
       "127 2023-03-22   TSCO  negative  228.839996  227.210007   -1.629990\n",
       "128 2023-03-22   TSLA   neutral  191.149994  190.410004   -0.739990\n",
       "129 2023-03-23   AAPL   neutral  158.929993  160.250000    1.320007\n",
       "..         ...    ...       ...         ...         ...         ...\n",
       "309 2023-04-20   TSCO   neutral  249.000000  249.000000    0.000000\n",
       "302 2023-04-20   AAPL   neutral  166.649994  166.649994    0.000000\n",
       "305 2023-04-20   AMZN   neutral  103.809998  103.809998    0.000000\n",
       "307 2023-04-20  SIVBQ   neutral    0.763250    0.760100   -0.003150\n",
       "311 2023-04-20   TSLA   neutral  162.990005  162.990005    0.000000\n",
       "\n",
       "[114 rows x 6 columns]"
      ]
     },
     "execution_count": 47,
     "metadata": {},
     "output_type": "execute_result"
    }
   ],
   "source": [
    "# Convert date object to pandas Timestamp\n",
    "end_date = pd.Timestamp(date.today()) + pd.DateOffset(days=1)\n",
    "start_date = end_date - pd.DateOffset(days=31)  # 30 days ago\n",
    "last_30_days_df = sentiment_max_count.loc[sentiment_max_count['Date'] >= start_date]\n",
    "last_30_days_df"
   ]
  },
  {
   "cell_type": "code",
   "execution_count": 48,
   "metadata": {},
   "outputs": [
    {
     "data": {
      "application/vnd.plotly.v1+json": {
       "config": {
        "plotlyServerURL": "https://plot.ly"
       },
       "data": [
        {
         "hovertemplate": "Term=AAPL<br>Date=%{x}<br>Difference=%{y}<extra></extra>",
         "legendgroup": "AAPL",
         "line": {
          "color": "#636efa",
          "dash": "solid"
         },
         "marker": {
          "symbol": "circle"
         },
         "mode": "lines",
         "name": "AAPL",
         "orientation": "v",
         "showlegend": true,
         "type": "scatter",
         "x": [
          "2023-03-22T00:00:00",
          "2023-03-23T00:00:00",
          "2023-03-24T00:00:00",
          "2023-03-25T00:00:00",
          "2023-03-26T00:00:00",
          "2023-03-27T00:00:00",
          "2023-03-28T00:00:00",
          "2023-03-29T00:00:00",
          "2023-03-30T00:00:00",
          "2023-04-02T00:00:00",
          "2023-04-03T00:00:00",
          "2023-04-04T00:00:00",
          "2023-04-05T00:00:00",
          "2023-04-06T00:00:00",
          "2023-04-07T00:00:00",
          "2023-04-09T00:00:00",
          "2023-04-10T00:00:00",
          "2023-04-11T00:00:00",
          "2023-04-13T00:00:00",
          "2023-04-14T00:00:00",
          "2023-04-15T00:00:00",
          "2023-04-17T00:00:00",
          "2023-04-18T00:00:00",
          "2023-04-19T00:00:00",
          "2023-04-20T00:00:00"
         ],
         "xaxis": "x",
         "y": [
          2.4199981689453125,
          1.32000732421875,
          -1.970001220703125,
          -2.600006103515625,
          0.5200042724609375,
          4.0800018310546875,
          7.25,
          4.1299896240234375,
          2.5399932861328125,
          -1.1399993896484375,
          -1.5099945068359375,
          -0.970001220703125,
          0.9000091552734375,
          0,
          -2.6300048828125,
          -4.55999755859375,
          3.529998779296875,
          4.410003662109375,
          -0.3499908447265625,
          0.019989013671875,
          1.2599945068359375,
          1.4199981689453125,
          0.17999267578125,
          -0.980010986328125,
          0
         ],
         "yaxis": "y"
        },
        {
         "hovertemplate": "Term=AMZN<br>Date=%{x}<br>Difference=%{y}<extra></extra>",
         "legendgroup": "AMZN",
         "line": {
          "color": "#EF553B",
          "dash": "solid"
         },
         "marker": {
          "symbol": "circle"
         },
         "mode": "lines",
         "name": "AMZN",
         "orientation": "v",
         "showlegend": true,
         "type": "scatter",
         "x": [
          "2023-03-22T00:00:00",
          "2023-03-23T00:00:00",
          "2023-03-24T00:00:00",
          "2023-03-26T00:00:00",
          "2023-03-27T00:00:00",
          "2023-03-28T00:00:00",
          "2023-03-29T00:00:00",
          "2023-03-30T00:00:00",
          "2023-03-31T00:00:00",
          "2023-04-02T00:00:00",
          "2023-04-03T00:00:00",
          "2023-04-04T00:00:00",
          "2023-04-05T00:00:00",
          "2023-04-06T00:00:00",
          "2023-04-10T00:00:00",
          "2023-04-11T00:00:00",
          "2023-04-12T00:00:00",
          "2023-04-13T00:00:00",
          "2023-04-14T00:00:00",
          "2023-04-15T00:00:00",
          "2023-04-16T00:00:00",
          "2023-04-17T00:00:00",
          "2023-04-18T00:00:00",
          "2023-04-19T00:00:00",
          "2023-04-20T00:00:00"
         ],
         "xaxis": "x",
         "y": [
          -0.5699996948242188,
          -0.5800018310546875,
          -0.089996337890625,
          2.1200027465820312,
          3.9599990844726562,
          6.0500030517578125,
          3.0400009155273438,
          1.2900009155273438,
          -0.8799972534179688,
          -2.19000244140625,
          -0.350006103515625,
          -1.8899993896484375,
          0.9599990844726562,
          0,
          0.23000335693359375,
          2.5900039672851562,
          4.680000305175781,
          0.1100006103515625,
          0.2299957275390625,
          -0.20999908447265625,
          1.7900009155273438,
          1.0699996948242188,
          1.5099945068359375,
          -0.4900054931640625,
          0
         ],
         "yaxis": "y"
        },
        {
         "hovertemplate": "Term=TSCO<br>Date=%{x}<br>Difference=%{y}<extra></extra>",
         "legendgroup": "TSCO",
         "line": {
          "color": "#00cc96",
          "dash": "solid"
         },
         "marker": {
          "symbol": "circle"
         },
         "mode": "lines",
         "name": "TSCO",
         "orientation": "v",
         "showlegend": true,
         "type": "scatter",
         "x": [
          "2023-03-22T00:00:00",
          "2023-03-23T00:00:00",
          "2023-03-24T00:00:00",
          "2023-03-26T00:00:00",
          "2023-03-27T00:00:00",
          "2023-03-31T00:00:00",
          "2023-04-01T00:00:00",
          "2023-04-03T00:00:00",
          "2023-04-04T00:00:00",
          "2023-04-05T00:00:00",
          "2023-04-06T00:00:00",
          "2023-04-10T00:00:00",
          "2023-04-11T00:00:00",
          "2023-04-12T00:00:00",
          "2023-04-13T00:00:00",
          "2023-04-14T00:00:00",
          "2023-04-16T00:00:00",
          "2023-04-17T00:00:00",
          "2023-04-18T00:00:00",
          "2023-04-19T00:00:00",
          "2023-04-20T00:00:00"
         ],
         "xaxis": "x",
         "y": [
          -1.6299896240234375,
          0.600006103515625,
          2.55999755859375,
          3.2299957275390625,
          0.6199951171875,
          6.6200103759765625,
          4.5500030517578125,
          -6.029998779296875,
          -3.959991455078125,
          1.100006103515625,
          0,
          -2.4900054931640625,
          -2.0500030517578125,
          5.30999755859375,
          1.8899993896484375,
          3.290008544921875,
          8.870010375976562,
          7.7599945068359375,
          3.7899932861328125,
          2.17999267578125,
          0
         ],
         "yaxis": "y"
        },
        {
         "hovertemplate": "Term=TSLA<br>Date=%{x}<br>Difference=%{y}<extra></extra>",
         "legendgroup": "TSLA",
         "line": {
          "color": "#ab63fa",
          "dash": "solid"
         },
         "marker": {
          "symbol": "circle"
         },
         "mode": "lines",
         "name": "TSLA",
         "orientation": "v",
         "showlegend": true,
         "type": "scatter",
         "x": [
          "2023-03-22T00:00:00",
          "2023-03-23T00:00:00",
          "2023-03-24T00:00:00",
          "2023-03-25T00:00:00",
          "2023-03-27T00:00:00",
          "2023-03-28T00:00:00",
          "2023-03-30T00:00:00",
          "2023-03-31T00:00:00",
          "2023-04-02T00:00:00",
          "2023-04-03T00:00:00",
          "2023-04-04T00:00:00",
          "2023-04-06T00:00:00",
          "2023-04-07T00:00:00",
          "2023-04-10T00:00:00",
          "2023-04-13T00:00:00",
          "2023-04-14T00:00:00",
          "2023-04-17T00:00:00",
          "2023-04-18T00:00:00",
          "2023-04-19T00:00:00",
          "2023-04-20T00:00:00"
         ],
         "xaxis": "x",
         "y": [
          -0.739990234375,
          -1.80999755859375,
          1.399993896484375,
          -1.220001220703125,
          3.470001220703125,
          18.270004272460938,
          12.180007934570312,
          -12.69000244140625,
          -21.94000244140625,
          -9.710006713867188,
          -7.5200042724609375,
          0,
          -0.5500030517578125,
          1.3899993896484375,
          -0.899993896484375,
          2.0399932861328125,
          -24.04998779296875,
          -21.319992065429688,
          -17.599990844726562,
          0
         ],
         "yaxis": "y"
        },
        {
         "hovertemplate": "Term=SIVBQ<br>Date=%{x}<br>Difference=%{y}<extra></extra>",
         "legendgroup": "SIVBQ",
         "line": {
          "color": "#FFA15A",
          "dash": "solid"
         },
         "marker": {
          "symbol": "circle"
         },
         "mode": "lines",
         "name": "SIVBQ",
         "orientation": "v",
         "showlegend": true,
         "type": "scatter",
         "x": [
          "2023-03-28T00:00:00",
          "2023-03-29T00:00:00",
          "2023-03-30T00:00:00",
          "2023-03-31T00:00:00",
          "2023-04-01T00:00:00",
          "2023-04-02T00:00:00",
          "2023-04-03T00:00:00",
          "2023-04-04T00:00:00",
          "2023-04-05T00:00:00",
          "2023-04-06T00:00:00",
          "2023-04-07T00:00:00",
          "2023-04-09T00:00:00",
          "2023-04-10T00:00:00",
          "2023-04-11T00:00:00",
          "2023-04-12T00:00:00",
          "2023-04-13T00:00:00",
          "2023-04-14T00:00:00",
          "2023-04-15T00:00:00",
          "2023-04-16T00:00:00",
          "2023-04-17T00:00:00",
          "2023-04-18T00:00:00",
          "2023-04-19T00:00:00",
          "2023-04-20T00:00:00"
         ],
         "xaxis": "x",
         "y": [
          0.504999965429306,
          -0.06500005722045898,
          0.009999990463256836,
          0.08005005121231079,
          0.06500005722045898,
          0.0051000118255615234,
          -0.18604999780654907,
          -0.17100000381469727,
          -0.1110999584197998,
          0,
          -0.1940000057220459,
          -0.23400002717971802,
          -0.01500004529953003,
          -0.001999974250793457,
          0.013999998569488525,
          -0.010999977588653564,
          -0.02101999521255493,
          -0.028899967670440674,
          0.35199999809265137,
          0.21201997995376587,
          0.2198999524116516,
          -0.16100001335144043,
          -0.0031499862670898438
         ],
         "yaxis": "y"
        }
       ],
       "layout": {
        "annotations": [
         {
          "showarrow": true,
          "text": "positive",
          "x": "2023-03-22T00:00:00",
          "y": 2.4199981689453125
         },
         {
          "showarrow": true,
          "text": "negative",
          "x": "2023-03-22T00:00:00",
          "y": -1.6299896240234375
         },
         {
          "showarrow": true,
          "text": "negative",
          "x": "2023-03-23T00:00:00",
          "y": -0.5800018310546875
         },
         {
          "showarrow": true,
          "text": "positive",
          "x": "2023-03-26T00:00:00",
          "y": 0.5200042724609375
         },
         {
          "showarrow": true,
          "text": "negative",
          "x": "2023-03-26T00:00:00",
          "y": 2.1200027465820312
         },
         {
          "showarrow": true,
          "text": "negative",
          "x": "2023-03-27T00:00:00",
          "y": 3.9599990844726562
         },
         {
          "showarrow": true,
          "text": "positive",
          "x": "2023-03-27T00:00:00",
          "y": 0.6199951171875
         },
         {
          "showarrow": true,
          "text": "positive",
          "x": "2023-03-28T00:00:00",
          "y": 7.25
         },
         {
          "showarrow": true,
          "text": "negative",
          "x": "2023-03-28T00:00:00",
          "y": 0.504999965429306
         },
         {
          "showarrow": true,
          "text": "positive",
          "x": "2023-03-29T00:00:00",
          "y": 3.0400009155273438
         },
         {
          "showarrow": true,
          "text": "negative",
          "x": "2023-03-29T00:00:00",
          "y": -0.06500005722045898
         },
         {
          "showarrow": true,
          "text": "positive",
          "x": "2023-03-30T00:00:00",
          "y": 2.5399932861328125
         },
         {
          "showarrow": true,
          "text": "negative",
          "x": "2023-03-30T00:00:00",
          "y": 1.2900009155273438
         },
         {
          "showarrow": true,
          "text": "positive",
          "x": "2023-03-31T00:00:00",
          "y": -0.8799972534179688
         },
         {
          "showarrow": true,
          "text": "positive",
          "x": "2023-04-01T00:00:00",
          "y": 4.5500030517578125
         },
         {
          "showarrow": true,
          "text": "positive",
          "x": "2023-04-02T00:00:00",
          "y": -21.94000244140625
         },
         {
          "showarrow": true,
          "text": "positive",
          "x": "2023-04-03T00:00:00",
          "y": -0.18604999780654907
         },
         {
          "showarrow": true,
          "text": "positive",
          "x": "2023-04-03T00:00:00",
          "y": -0.350006103515625
         },
         {
          "showarrow": true,
          "text": "positive",
          "x": "2023-04-03T00:00:00",
          "y": -1.5099945068359375
         },
         {
          "showarrow": true,
          "text": "positive",
          "x": "2023-04-04T00:00:00",
          "y": -0.970001220703125
         },
         {
          "showarrow": true,
          "text": "positive",
          "x": "2023-04-04T00:00:00",
          "y": -1.8899993896484375
         },
         {
          "showarrow": true,
          "text": "negative",
          "x": "2023-04-04T00:00:00",
          "y": -3.959991455078125
         },
         {
          "showarrow": true,
          "text": "positive",
          "x": "2023-04-05T00:00:00",
          "y": 1.100006103515625
         },
         {
          "showarrow": true,
          "text": "positive",
          "x": "2023-04-06T00:00:00",
          "y": 0
         },
         {
          "showarrow": true,
          "text": "negative",
          "x": "2023-04-07T00:00:00",
          "y": -0.1940000057220459
         },
         {
          "showarrow": true,
          "text": "positive",
          "x": "2023-04-10T00:00:00",
          "y": 3.529998779296875
         },
         {
          "showarrow": true,
          "text": "negative",
          "x": "2023-04-10T00:00:00",
          "y": 1.3899993896484375
         },
         {
          "showarrow": true,
          "text": "negative",
          "x": "2023-04-11T00:00:00",
          "y": -0.001999974250793457
         },
         {
          "showarrow": true,
          "text": "positive",
          "x": "2023-04-12T00:00:00",
          "y": 5.30999755859375
         },
         {
          "showarrow": true,
          "text": "positive",
          "x": "2023-04-13T00:00:00",
          "y": -0.010999977588653564
         },
         {
          "showarrow": true,
          "text": "positive",
          "x": "2023-04-13T00:00:00",
          "y": 1.8899993896484375
         },
         {
          "showarrow": true,
          "text": "positive",
          "x": "2023-04-14T00:00:00",
          "y": 2.0399932861328125
         },
         {
          "showarrow": true,
          "text": "positive",
          "x": "2023-04-14T00:00:00",
          "y": 0.019989013671875
         },
         {
          "showarrow": true,
          "text": "positive",
          "x": "2023-04-14T00:00:00",
          "y": 0.2299957275390625
         },
         {
          "showarrow": true,
          "text": "positive",
          "x": "2023-04-15T00:00:00",
          "y": -0.028899967670440674
         },
         {
          "showarrow": true,
          "text": "negative",
          "x": "2023-04-16T00:00:00",
          "y": 1.7900009155273438
         },
         {
          "showarrow": true,
          "text": "positive",
          "x": "2023-04-16T00:00:00",
          "y": 0.35199999809265137
         },
         {
          "showarrow": true,
          "text": "negative",
          "x": "2023-04-16T00:00:00",
          "y": 8.870010375976562
         },
         {
          "showarrow": true,
          "text": "positive",
          "x": "2023-04-17T00:00:00",
          "y": 7.7599945068359375
         },
         {
          "showarrow": true,
          "text": "negative",
          "x": "2023-04-19T00:00:00",
          "y": -0.16100001335144043
         },
         {
          "showarrow": true,
          "text": "positive",
          "x": "2023-04-19T00:00:00",
          "y": 2.17999267578125
         }
        ],
        "legend": {
         "title": {
          "text": "Term"
         },
         "tracegroupgap": 0
        },
        "margin": {
         "t": 60
        },
        "template": {
         "data": {
          "bar": [
           {
            "error_x": {
             "color": "#2a3f5f"
            },
            "error_y": {
             "color": "#2a3f5f"
            },
            "marker": {
             "line": {
              "color": "#E5ECF6",
              "width": 0.5
             },
             "pattern": {
              "fillmode": "overlay",
              "size": 10,
              "solidity": 0.2
             }
            },
            "type": "bar"
           }
          ],
          "barpolar": [
           {
            "marker": {
             "line": {
              "color": "#E5ECF6",
              "width": 0.5
             },
             "pattern": {
              "fillmode": "overlay",
              "size": 10,
              "solidity": 0.2
             }
            },
            "type": "barpolar"
           }
          ],
          "carpet": [
           {
            "aaxis": {
             "endlinecolor": "#2a3f5f",
             "gridcolor": "white",
             "linecolor": "white",
             "minorgridcolor": "white",
             "startlinecolor": "#2a3f5f"
            },
            "baxis": {
             "endlinecolor": "#2a3f5f",
             "gridcolor": "white",
             "linecolor": "white",
             "minorgridcolor": "white",
             "startlinecolor": "#2a3f5f"
            },
            "type": "carpet"
           }
          ],
          "choropleth": [
           {
            "colorbar": {
             "outlinewidth": 0,
             "ticks": ""
            },
            "type": "choropleth"
           }
          ],
          "contour": [
           {
            "colorbar": {
             "outlinewidth": 0,
             "ticks": ""
            },
            "colorscale": [
             [
              0,
              "#0d0887"
             ],
             [
              0.1111111111111111,
              "#46039f"
             ],
             [
              0.2222222222222222,
              "#7201a8"
             ],
             [
              0.3333333333333333,
              "#9c179e"
             ],
             [
              0.4444444444444444,
              "#bd3786"
             ],
             [
              0.5555555555555556,
              "#d8576b"
             ],
             [
              0.6666666666666666,
              "#ed7953"
             ],
             [
              0.7777777777777778,
              "#fb9f3a"
             ],
             [
              0.8888888888888888,
              "#fdca26"
             ],
             [
              1,
              "#f0f921"
             ]
            ],
            "type": "contour"
           }
          ],
          "contourcarpet": [
           {
            "colorbar": {
             "outlinewidth": 0,
             "ticks": ""
            },
            "type": "contourcarpet"
           }
          ],
          "heatmap": [
           {
            "colorbar": {
             "outlinewidth": 0,
             "ticks": ""
            },
            "colorscale": [
             [
              0,
              "#0d0887"
             ],
             [
              0.1111111111111111,
              "#46039f"
             ],
             [
              0.2222222222222222,
              "#7201a8"
             ],
             [
              0.3333333333333333,
              "#9c179e"
             ],
             [
              0.4444444444444444,
              "#bd3786"
             ],
             [
              0.5555555555555556,
              "#d8576b"
             ],
             [
              0.6666666666666666,
              "#ed7953"
             ],
             [
              0.7777777777777778,
              "#fb9f3a"
             ],
             [
              0.8888888888888888,
              "#fdca26"
             ],
             [
              1,
              "#f0f921"
             ]
            ],
            "type": "heatmap"
           }
          ],
          "heatmapgl": [
           {
            "colorbar": {
             "outlinewidth": 0,
             "ticks": ""
            },
            "colorscale": [
             [
              0,
              "#0d0887"
             ],
             [
              0.1111111111111111,
              "#46039f"
             ],
             [
              0.2222222222222222,
              "#7201a8"
             ],
             [
              0.3333333333333333,
              "#9c179e"
             ],
             [
              0.4444444444444444,
              "#bd3786"
             ],
             [
              0.5555555555555556,
              "#d8576b"
             ],
             [
              0.6666666666666666,
              "#ed7953"
             ],
             [
              0.7777777777777778,
              "#fb9f3a"
             ],
             [
              0.8888888888888888,
              "#fdca26"
             ],
             [
              1,
              "#f0f921"
             ]
            ],
            "type": "heatmapgl"
           }
          ],
          "histogram": [
           {
            "marker": {
             "pattern": {
              "fillmode": "overlay",
              "size": 10,
              "solidity": 0.2
             }
            },
            "type": "histogram"
           }
          ],
          "histogram2d": [
           {
            "colorbar": {
             "outlinewidth": 0,
             "ticks": ""
            },
            "colorscale": [
             [
              0,
              "#0d0887"
             ],
             [
              0.1111111111111111,
              "#46039f"
             ],
             [
              0.2222222222222222,
              "#7201a8"
             ],
             [
              0.3333333333333333,
              "#9c179e"
             ],
             [
              0.4444444444444444,
              "#bd3786"
             ],
             [
              0.5555555555555556,
              "#d8576b"
             ],
             [
              0.6666666666666666,
              "#ed7953"
             ],
             [
              0.7777777777777778,
              "#fb9f3a"
             ],
             [
              0.8888888888888888,
              "#fdca26"
             ],
             [
              1,
              "#f0f921"
             ]
            ],
            "type": "histogram2d"
           }
          ],
          "histogram2dcontour": [
           {
            "colorbar": {
             "outlinewidth": 0,
             "ticks": ""
            },
            "colorscale": [
             [
              0,
              "#0d0887"
             ],
             [
              0.1111111111111111,
              "#46039f"
             ],
             [
              0.2222222222222222,
              "#7201a8"
             ],
             [
              0.3333333333333333,
              "#9c179e"
             ],
             [
              0.4444444444444444,
              "#bd3786"
             ],
             [
              0.5555555555555556,
              "#d8576b"
             ],
             [
              0.6666666666666666,
              "#ed7953"
             ],
             [
              0.7777777777777778,
              "#fb9f3a"
             ],
             [
              0.8888888888888888,
              "#fdca26"
             ],
             [
              1,
              "#f0f921"
             ]
            ],
            "type": "histogram2dcontour"
           }
          ],
          "mesh3d": [
           {
            "colorbar": {
             "outlinewidth": 0,
             "ticks": ""
            },
            "type": "mesh3d"
           }
          ],
          "parcoords": [
           {
            "line": {
             "colorbar": {
              "outlinewidth": 0,
              "ticks": ""
             }
            },
            "type": "parcoords"
           }
          ],
          "pie": [
           {
            "automargin": true,
            "type": "pie"
           }
          ],
          "scatter": [
           {
            "fillpattern": {
             "fillmode": "overlay",
             "size": 10,
             "solidity": 0.2
            },
            "type": "scatter"
           }
          ],
          "scatter3d": [
           {
            "line": {
             "colorbar": {
              "outlinewidth": 0,
              "ticks": ""
             }
            },
            "marker": {
             "colorbar": {
              "outlinewidth": 0,
              "ticks": ""
             }
            },
            "type": "scatter3d"
           }
          ],
          "scattercarpet": [
           {
            "marker": {
             "colorbar": {
              "outlinewidth": 0,
              "ticks": ""
             }
            },
            "type": "scattercarpet"
           }
          ],
          "scattergeo": [
           {
            "marker": {
             "colorbar": {
              "outlinewidth": 0,
              "ticks": ""
             }
            },
            "type": "scattergeo"
           }
          ],
          "scattergl": [
           {
            "marker": {
             "colorbar": {
              "outlinewidth": 0,
              "ticks": ""
             }
            },
            "type": "scattergl"
           }
          ],
          "scattermapbox": [
           {
            "marker": {
             "colorbar": {
              "outlinewidth": 0,
              "ticks": ""
             }
            },
            "type": "scattermapbox"
           }
          ],
          "scatterpolar": [
           {
            "marker": {
             "colorbar": {
              "outlinewidth": 0,
              "ticks": ""
             }
            },
            "type": "scatterpolar"
           }
          ],
          "scatterpolargl": [
           {
            "marker": {
             "colorbar": {
              "outlinewidth": 0,
              "ticks": ""
             }
            },
            "type": "scatterpolargl"
           }
          ],
          "scatterternary": [
           {
            "marker": {
             "colorbar": {
              "outlinewidth": 0,
              "ticks": ""
             }
            },
            "type": "scatterternary"
           }
          ],
          "surface": [
           {
            "colorbar": {
             "outlinewidth": 0,
             "ticks": ""
            },
            "colorscale": [
             [
              0,
              "#0d0887"
             ],
             [
              0.1111111111111111,
              "#46039f"
             ],
             [
              0.2222222222222222,
              "#7201a8"
             ],
             [
              0.3333333333333333,
              "#9c179e"
             ],
             [
              0.4444444444444444,
              "#bd3786"
             ],
             [
              0.5555555555555556,
              "#d8576b"
             ],
             [
              0.6666666666666666,
              "#ed7953"
             ],
             [
              0.7777777777777778,
              "#fb9f3a"
             ],
             [
              0.8888888888888888,
              "#fdca26"
             ],
             [
              1,
              "#f0f921"
             ]
            ],
            "type": "surface"
           }
          ],
          "table": [
           {
            "cells": {
             "fill": {
              "color": "#EBF0F8"
             },
             "line": {
              "color": "white"
             }
            },
            "header": {
             "fill": {
              "color": "#C8D4E3"
             },
             "line": {
              "color": "white"
             }
            },
            "type": "table"
           }
          ]
         },
         "layout": {
          "annotationdefaults": {
           "arrowcolor": "#2a3f5f",
           "arrowhead": 0,
           "arrowwidth": 1
          },
          "autotypenumbers": "strict",
          "coloraxis": {
           "colorbar": {
            "outlinewidth": 0,
            "ticks": ""
           }
          },
          "colorscale": {
           "diverging": [
            [
             0,
             "#8e0152"
            ],
            [
             0.1,
             "#c51b7d"
            ],
            [
             0.2,
             "#de77ae"
            ],
            [
             0.3,
             "#f1b6da"
            ],
            [
             0.4,
             "#fde0ef"
            ],
            [
             0.5,
             "#f7f7f7"
            ],
            [
             0.6,
             "#e6f5d0"
            ],
            [
             0.7,
             "#b8e186"
            ],
            [
             0.8,
             "#7fbc41"
            ],
            [
             0.9,
             "#4d9221"
            ],
            [
             1,
             "#276419"
            ]
           ],
           "sequential": [
            [
             0,
             "#0d0887"
            ],
            [
             0.1111111111111111,
             "#46039f"
            ],
            [
             0.2222222222222222,
             "#7201a8"
            ],
            [
             0.3333333333333333,
             "#9c179e"
            ],
            [
             0.4444444444444444,
             "#bd3786"
            ],
            [
             0.5555555555555556,
             "#d8576b"
            ],
            [
             0.6666666666666666,
             "#ed7953"
            ],
            [
             0.7777777777777778,
             "#fb9f3a"
            ],
            [
             0.8888888888888888,
             "#fdca26"
            ],
            [
             1,
             "#f0f921"
            ]
           ],
           "sequentialminus": [
            [
             0,
             "#0d0887"
            ],
            [
             0.1111111111111111,
             "#46039f"
            ],
            [
             0.2222222222222222,
             "#7201a8"
            ],
            [
             0.3333333333333333,
             "#9c179e"
            ],
            [
             0.4444444444444444,
             "#bd3786"
            ],
            [
             0.5555555555555556,
             "#d8576b"
            ],
            [
             0.6666666666666666,
             "#ed7953"
            ],
            [
             0.7777777777777778,
             "#fb9f3a"
            ],
            [
             0.8888888888888888,
             "#fdca26"
            ],
            [
             1,
             "#f0f921"
            ]
           ]
          },
          "colorway": [
           "#636efa",
           "#EF553B",
           "#00cc96",
           "#ab63fa",
           "#FFA15A",
           "#19d3f3",
           "#FF6692",
           "#B6E880",
           "#FF97FF",
           "#FECB52"
          ],
          "font": {
           "color": "#2a3f5f"
          },
          "geo": {
           "bgcolor": "white",
           "lakecolor": "white",
           "landcolor": "#E5ECF6",
           "showlakes": true,
           "showland": true,
           "subunitcolor": "white"
          },
          "hoverlabel": {
           "align": "left"
          },
          "hovermode": "closest",
          "mapbox": {
           "style": "light"
          },
          "paper_bgcolor": "white",
          "plot_bgcolor": "#E5ECF6",
          "polar": {
           "angularaxis": {
            "gridcolor": "white",
            "linecolor": "white",
            "ticks": ""
           },
           "bgcolor": "#E5ECF6",
           "radialaxis": {
            "gridcolor": "white",
            "linecolor": "white",
            "ticks": ""
           }
          },
          "scene": {
           "xaxis": {
            "backgroundcolor": "#E5ECF6",
            "gridcolor": "white",
            "gridwidth": 2,
            "linecolor": "white",
            "showbackground": true,
            "ticks": "",
            "zerolinecolor": "white"
           },
           "yaxis": {
            "backgroundcolor": "#E5ECF6",
            "gridcolor": "white",
            "gridwidth": 2,
            "linecolor": "white",
            "showbackground": true,
            "ticks": "",
            "zerolinecolor": "white"
           },
           "zaxis": {
            "backgroundcolor": "#E5ECF6",
            "gridcolor": "white",
            "gridwidth": 2,
            "linecolor": "white",
            "showbackground": true,
            "ticks": "",
            "zerolinecolor": "white"
           }
          },
          "shapedefaults": {
           "line": {
            "color": "#2a3f5f"
           }
          },
          "ternary": {
           "aaxis": {
            "gridcolor": "white",
            "linecolor": "white",
            "ticks": ""
           },
           "baxis": {
            "gridcolor": "white",
            "linecolor": "white",
            "ticks": ""
           },
           "bgcolor": "#E5ECF6",
           "caxis": {
            "gridcolor": "white",
            "linecolor": "white",
            "ticks": ""
           }
          },
          "title": {
           "x": 0.05
          },
          "xaxis": {
           "automargin": true,
           "gridcolor": "white",
           "linecolor": "white",
           "ticks": "",
           "title": {
            "standoff": 15
           },
           "zerolinecolor": "white",
           "zerolinewidth": 2
          },
          "yaxis": {
           "automargin": true,
           "gridcolor": "white",
           "linecolor": "white",
           "ticks": "",
           "title": {
            "standoff": 15
           },
           "zerolinecolor": "white",
           "zerolinewidth": 2
          }
         }
        },
        "title": {
         "text": "Difference w/ Date with Sentiment (Highest Count)"
        },
        "xaxis": {
         "anchor": "y",
         "domain": [
          0,
          1
         ],
         "title": {
          "text": "Date"
         }
        },
        "yaxis": {
         "anchor": "x",
         "domain": [
          0,
          1
         ],
         "title": {
          "text": "Difference"
         }
        }
       }
      }
     },
     "metadata": {},
     "output_type": "display_data"
    }
   ],
   "source": [
    "# Create a line plot with Plotly\n",
    "fig = px.line(last_30_days_df, x='Date', y='Difference', color='Term', labels={'Difference': 'Difference'})\n",
    "\n",
    "# Add sentiment information as annotations\n",
    "for index, row in sentiment_max_count.iterrows():\n",
    "    date = row['Date']\n",
    "    term = row['Term']\n",
    "    sentiment = row['Sentiment']\n",
    "    if sentiment in ['positive','negative']:\n",
    "        matching_rows = last_30_days_df[(last_30_days_df['Date'] == date) & (last_30_days_df['Term'] == term)]\n",
    "        if not matching_rows.empty:\n",
    "            closing_price = matching_rows.iloc[0]['Difference']\n",
    "            fig.add_annotation(x=date, y=closing_price, text=sentiment, showarrow=True)\n",
    "\n",
    "# Set plot title\n",
    "fig.update_layout(title='Difference w/ Date with Sentiment (Highest Count)')\n",
    "\n",
    "# Show the plot\n",
    "fig.show()"
   ]
  },
  {
   "attachments": {},
   "cell_type": "markdown",
   "metadata": {},
   "source": [
    "---\n",
    "\n",
    "### What If You Wanted To Quickly Pull-up Date Information\n",
    "\n",
    "---"
   ]
  },
  {
   "cell_type": "code",
   "execution_count": 50,
   "metadata": {},
   "outputs": [
    {
     "name": "stdout",
     "output_type": "stream",
     "text": [
      "|     | Term   | Title                                                                      | Date                | Link                                                                                                                                                                                 |   Close |   Close_3D | Sentiment   |   Difference |\n",
      "|----:|:-------|:---------------------------------------------------------------------------|:--------------------|:-------------------------------------------------------------------------------------------------------------------------------------------------------------------------------------|--------:|-----------:|:------------|-------------:|\n",
      "| 140 | TSLA   | Tesla (TSLA) confirms new record deliveries, beats expectations - Electrek | 2023-04-02 00:00:00 | https://news.google.com/rss/articles/CBMiYGh0dHBzOi8vZWxlY3RyZWsuY28vMjAyMy8wNC8wMi90ZXNsYS10c2xhLWNvbmZpcm1zLXExLTIwMjMtcmVjb3JkLWRlbGl2ZXJpZXMtYmVhdHMtZXhwZWN0YXRpb25zL9IBAA?oc=5 |  207.46 |     185.52 | positive    |       -21.94 |\n"
     ]
    }
   ],
   "source": [
    "# Create a new variable with the database filtered elements\n",
    "date_filter = combined_df[(combined_df['Date'] == '2023-04-02') & (combined_df['Term'] == 'TSLA')]\n",
    "\n",
    "# Quick Trick To Get The Link In Click-able Format\n",
    "markdown = date_filter.to_markdown()\n",
    "print(markdown)"
   ]
  },
  {
   "attachments": {},
   "cell_type": "markdown",
   "metadata": {},
   "source": [
    "---\n",
    "\n",
    "### Lets Build a Model, Why Not?\n",
    "\n",
    "---"
   ]
  },
  {
   "cell_type": "code",
   "execution_count": 51,
   "metadata": {},
   "outputs": [
    {
     "name": "stdout",
     "output_type": "stream",
     "text": [
      "              precision    recall  f1-score   support\n",
      "\n",
      "    negative       1.00      0.07      0.14        27\n",
      "     neutral       0.68      0.83      0.75       142\n",
      "    positive       0.61      0.56      0.58        82\n",
      "\n",
      "    accuracy                           0.66       251\n",
      "   macro avg       0.76      0.49      0.49       251\n",
      "weighted avg       0.69      0.66      0.63       251\n",
      "\n"
     ]
    }
   ],
   "source": [
    "# Split the dataset\n",
    "X_train, X_test, y_train, y_test = train_test_split(combined_df['Title'], combined_df['Sentiment'], test_size=0.5, random_state=55)\n",
    "\n",
    "# We vectorize the words into numerical features\n",
    "vectorizer = CountVectorizer()\n",
    "X_train_vec = vectorizer.fit_transform(X_train)\n",
    "X_test_vec = vectorizer.transform(X_test)\n",
    "\n",
    "# And train a logistic regression model with those features\n",
    "lr = LogisticRegression()\n",
    "lr.fit(X_train_vec, y_train)\n",
    "\n",
    "# Save your model for later implementation\n",
    "with open('model.pkl', 'wb') as f:\n",
    "    pickle.dump(lr, f)\n",
    "\n",
    "with open('vectorizer.pkl', 'wb') as f:\n",
    "    pickle.dump(vectorizer, f)\n",
    "\n",
    "y_pred = lr.predict(X_test_vec)\n",
    "\n",
    "# Make your predictions and see how we did\n",
    "def evaluate_model(model, X_test, y_test):    \n",
    "\n",
    "    # Use a classification report to evaluate the model using the predictions and testing data\n",
    "    report = classification_report(y_test, y_pred)\n",
    "    \n",
    "    return report\n",
    "\n",
    "report = evaluate_model(lr, X_test_vec, y_test)\n",
    "print(report)"
   ]
  },
  {
   "cell_type": "code",
   "execution_count": 52,
   "metadata": {},
   "outputs": [
    {
     "name": "stdout",
     "output_type": "stream",
     "text": [
      "The general sentiment for ['AAPL', 'TSLA', 'AMZN', 'TSCO', 'SIVBQ'] is: neutral\n",
      "neutral     173\n",
      "positive     76\n",
      "negative      2\n",
      "dtype: int64\n"
     ]
    }
   ],
   "source": [
    "sentiment_counts = pd.Series(y_pred).value_counts()\n",
    "general_sentiment = sentiment_counts.idxmax()\n",
    "print(f\"The general sentiment for {terms} is:\", general_sentiment)\n",
    "print(sentiment_counts)"
   ]
  },
  {
   "attachments": {},
   "cell_type": "markdown",
   "metadata": {},
   "source": [
    "---\n",
    "\n",
    "### Thank You For Watching\n",
    "\n",
    "---"
   ]
  }
 ],
 "metadata": {
  "kernelspec": {
   "display_name": "explore",
   "language": "python",
   "name": "python3"
  },
  "language_info": {
   "codemirror_mode": {
    "name": "ipython",
    "version": 3
   },
   "file_extension": ".py",
   "mimetype": "text/x-python",
   "name": "python",
   "nbconvert_exporter": "python",
   "pygments_lexer": "ipython3",
   "version": "3.9.6"
  },
  "orig_nbformat": 4
 },
 "nbformat": 4,
 "nbformat_minor": 2
}
