{
 "cells": [
  {
   "cell_type": "markdown",
   "id": "8b5637af-fb78-4237-90ae-6efcddaf3e7a",
   "metadata": {},
   "source": [
    "# Second Neural Network"
   ]
  },
  {
   "cell_type": "code",
   "execution_count": 1,
   "id": "f0fca969-a715-4e00-a3f6-30c9acefb14d",
   "metadata": {
    "tags": []
   },
   "outputs": [],
   "source": [
    "import pandas as pd\n",
    "\n",
    "from openbb_terminal.sdk import openbb\n",
    "\n",
    "from sklearn.preprocessing import MinMaxScaler\n",
    "from sklearn.model_selection import train_test_split\n",
    "\n",
    "from tensorflow.keras.layers import Dense\n",
    "from tensorflow.keras.models import Sequential\n",
    "from tensorflow.keras.optimizers import Adam\n",
    "from tensorflow.keras import layers\n",
    "\n",
    "%matplotlib inline\n",
    "import matplotlib.pyplot as plt"
   ]
  },
  {
   "cell_type": "markdown",
   "id": "0f9a7209-8991-41f9-b949-1273ec42af79",
   "metadata": {},
   "source": [
    "### Collecting and organizing the TSLA data"
   ]
  },
  {
   "cell_type": "code",
   "execution_count": 2,
   "id": "6a882524-5c84-49c2-8891-cecd1fb74087",
   "metadata": {
    "tags": []
   },
   "outputs": [
    {
     "name": "stdout",
     "output_type": "stream",
     "text": [
      "Technical Analysis Summary: TSLA price has changed -0.86% in the last 3 days and -1.46% yesterday. RSI is currently neutral but close to the oversold area and the indicator is pointing downwards. MACD is in the Bearish area and the histogram is moving upwards. TSLA price is trading below the 200-day SMA line and the SMA is trending down. The asset price is between the Middle and the Lower Bollinger Bands. \n"
     ]
    }
   ],
   "source": [
    "# Current TSLA price technical analysis summary\n",
    "tsla = openbb.stocks.ta.summary(symbol=\"TSLA\")\n",
    "print(\"Technical Analysis Summary:\", tsla)"
   ]
  },
  {
   "cell_type": "code",
   "execution_count": 3,
   "id": "01f0d9f3-ab96-40fb-aa1f-b1bdaa04d6e0",
   "metadata": {
    "tags": []
   },
   "outputs": [
    {
     "data": {
      "text/html": [
       "<pre style=\"white-space:pre;overflow-x:auto;line-height:normal;font-family:Menlo,'DejaVu Sans Mono',consolas,'Courier New',monospace\">Loading Daily data for TSLA with starting period 2013-03-01.\n",
       "</pre>\n"
      ],
      "text/plain": [
       "Loading Daily data for TSLA with starting period 2013-03-01.\n"
      ]
     },
     "metadata": {},
     "output_type": "display_data"
    },
    {
     "data": {
      "text/html": [
       "<div>\n",
       "<style scoped>\n",
       "    .dataframe tbody tr th:only-of-type {\n",
       "        vertical-align: middle;\n",
       "    }\n",
       "\n",
       "    .dataframe tbody tr th {\n",
       "        vertical-align: top;\n",
       "    }\n",
       "\n",
       "    .dataframe thead th {\n",
       "        text-align: right;\n",
       "    }\n",
       "</style>\n",
       "<table border=\"1\" class=\"dataframe\">\n",
       "  <thead>\n",
       "    <tr style=\"text-align: right;\">\n",
       "      <th></th>\n",
       "      <th>Open</th>\n",
       "      <th>High</th>\n",
       "      <th>Low</th>\n",
       "      <th>Close</th>\n",
       "      <th>Adj Close</th>\n",
       "      <th>Volume</th>\n",
       "      <th>Dividends</th>\n",
       "      <th>Stock Splits</th>\n",
       "    </tr>\n",
       "    <tr>\n",
       "      <th>date</th>\n",
       "      <th></th>\n",
       "      <th></th>\n",
       "      <th></th>\n",
       "      <th></th>\n",
       "      <th></th>\n",
       "      <th></th>\n",
       "      <th></th>\n",
       "      <th></th>\n",
       "    </tr>\n",
       "  </thead>\n",
       "  <tbody>\n",
       "    <tr>\n",
       "      <th>2013-03-01</th>\n",
       "      <td>2.333333</td>\n",
       "      <td>2.338667</td>\n",
       "      <td>2.283333</td>\n",
       "      <td>2.310000</td>\n",
       "      <td>2.310000</td>\n",
       "      <td>23199000</td>\n",
       "      <td>0.0</td>\n",
       "      <td>0.0</td>\n",
       "    </tr>\n",
       "    <tr>\n",
       "      <th>2013-03-04</th>\n",
       "      <td>2.318000</td>\n",
       "      <td>2.388667</td>\n",
       "      <td>2.313333</td>\n",
       "      <td>2.372000</td>\n",
       "      <td>2.372000</td>\n",
       "      <td>26365500</td>\n",
       "      <td>0.0</td>\n",
       "      <td>0.0</td>\n",
       "    </tr>\n",
       "    <tr>\n",
       "      <th>2013-03-05</th>\n",
       "      <td>2.400000</td>\n",
       "      <td>2.461333</td>\n",
       "      <td>2.386000</td>\n",
       "      <td>2.443333</td>\n",
       "      <td>2.443333</td>\n",
       "      <td>31305000</td>\n",
       "      <td>0.0</td>\n",
       "      <td>0.0</td>\n",
       "    </tr>\n",
       "    <tr>\n",
       "      <th>2013-03-06</th>\n",
       "      <td>2.467333</td>\n",
       "      <td>2.525333</td>\n",
       "      <td>2.464667</td>\n",
       "      <td>2.512667</td>\n",
       "      <td>2.512667</td>\n",
       "      <td>17250000</td>\n",
       "      <td>0.0</td>\n",
       "      <td>0.0</td>\n",
       "    </tr>\n",
       "    <tr>\n",
       "      <th>2013-03-07</th>\n",
       "      <td>2.515333</td>\n",
       "      <td>2.576667</td>\n",
       "      <td>2.458667</td>\n",
       "      <td>2.548667</td>\n",
       "      <td>2.548667</td>\n",
       "      <td>17374500</td>\n",
       "      <td>0.0</td>\n",
       "      <td>0.0</td>\n",
       "    </tr>\n",
       "  </tbody>\n",
       "</table>\n",
       "</div>"
      ],
      "text/plain": [
       "                Open      High       Low     Close  Adj Close    Volume  \\\n",
       "date                                                                      \n",
       "2013-03-01  2.333333  2.338667  2.283333  2.310000   2.310000  23199000   \n",
       "2013-03-04  2.318000  2.388667  2.313333  2.372000   2.372000  26365500   \n",
       "2013-03-05  2.400000  2.461333  2.386000  2.443333   2.443333  31305000   \n",
       "2013-03-06  2.467333  2.525333  2.464667  2.512667   2.512667  17250000   \n",
       "2013-03-07  2.515333  2.576667  2.458667  2.548667   2.548667  17374500   \n",
       "\n",
       "            Dividends  Stock Splits  \n",
       "date                                 \n",
       "2013-03-01        0.0           0.0  \n",
       "2013-03-04        0.0           0.0  \n",
       "2013-03-05        0.0           0.0  \n",
       "2013-03-06        0.0           0.0  \n",
       "2013-03-07        0.0           0.0  "
      ]
     },
     "execution_count": 3,
     "metadata": {},
     "output_type": "execute_result"
    }
   ],
   "source": [
    "# Load the 10-yr TSLA stock data into a dataframe from openbb terminal\n",
    "tsla_10yr_daily = openbb.stocks.load(\n",
    "        symbol = 'TSLA',\n",
    "        start_date = '2013-03-01',\n",
    "        end_date= '2023-03-01',\n",
    "        monthly = False\n",
    ")\n",
    "\n",
    "# Display first five rows\n",
    "tsla_10yr_daily.head()"
   ]
  },
  {
   "cell_type": "code",
   "execution_count": 4,
   "id": "89393b5a-8fb7-4c9b-a790-c08de91d8441",
   "metadata": {
    "tags": []
   },
   "outputs": [
    {
     "data": {
      "text/html": [
       "<div>\n",
       "<style scoped>\n",
       "    .dataframe tbody tr th:only-of-type {\n",
       "        vertical-align: middle;\n",
       "    }\n",
       "\n",
       "    .dataframe tbody tr th {\n",
       "        vertical-align: top;\n",
       "    }\n",
       "\n",
       "    .dataframe thead th {\n",
       "        text-align: right;\n",
       "    }\n",
       "</style>\n",
       "<table border=\"1\" class=\"dataframe\">\n",
       "  <thead>\n",
       "    <tr style=\"text-align: right;\">\n",
       "      <th></th>\n",
       "      <th>Open</th>\n",
       "      <th>High</th>\n",
       "      <th>Low</th>\n",
       "      <th>Close</th>\n",
       "    </tr>\n",
       "    <tr>\n",
       "      <th>date</th>\n",
       "      <th></th>\n",
       "      <th></th>\n",
       "      <th></th>\n",
       "      <th></th>\n",
       "    </tr>\n",
       "  </thead>\n",
       "  <tbody>\n",
       "    <tr>\n",
       "      <th>2013-03-01</th>\n",
       "      <td>2.333333</td>\n",
       "      <td>2.338667</td>\n",
       "      <td>2.283333</td>\n",
       "      <td>2.310000</td>\n",
       "    </tr>\n",
       "    <tr>\n",
       "      <th>2013-03-04</th>\n",
       "      <td>2.318000</td>\n",
       "      <td>2.388667</td>\n",
       "      <td>2.313333</td>\n",
       "      <td>2.372000</td>\n",
       "    </tr>\n",
       "    <tr>\n",
       "      <th>2013-03-05</th>\n",
       "      <td>2.400000</td>\n",
       "      <td>2.461333</td>\n",
       "      <td>2.386000</td>\n",
       "      <td>2.443333</td>\n",
       "    </tr>\n",
       "    <tr>\n",
       "      <th>2013-03-06</th>\n",
       "      <td>2.467333</td>\n",
       "      <td>2.525333</td>\n",
       "      <td>2.464667</td>\n",
       "      <td>2.512667</td>\n",
       "    </tr>\n",
       "    <tr>\n",
       "      <th>2013-03-07</th>\n",
       "      <td>2.515333</td>\n",
       "      <td>2.576667</td>\n",
       "      <td>2.458667</td>\n",
       "      <td>2.548667</td>\n",
       "    </tr>\n",
       "  </tbody>\n",
       "</table>\n",
       "</div>"
      ],
      "text/plain": [
       "                Open      High       Low     Close\n",
       "date                                              \n",
       "2013-03-01  2.333333  2.338667  2.283333  2.310000\n",
       "2013-03-04  2.318000  2.388667  2.313333  2.372000\n",
       "2013-03-05  2.400000  2.461333  2.386000  2.443333\n",
       "2013-03-06  2.467333  2.525333  2.464667  2.512667\n",
       "2013-03-07  2.515333  2.576667  2.458667  2.548667"
      ]
     },
     "execution_count": 4,
     "metadata": {},
     "output_type": "execute_result"
    }
   ],
   "source": [
    "# Drop the columns that are not going to be used for the model\n",
    "tsla_10yr_daily.drop(columns=[\"Adj Close\", \"Dividends\", \"Stock Splits\", \"Volume\"], inplace=True)\n",
    "\n",
    "# Display first five row\n",
    "tsla_10yr_daily.head()"
   ]
  },
  {
   "cell_type": "code",
   "execution_count": null,
   "id": "17e5cf75-fc3e-4bc4-8ec9-d49b6ff32267",
   "metadata": {
    "tags": []
   },
   "outputs": [],
   "source": [
    "# Plot the closing price for TSLA for the last 10yrs\n",
    "plt.plot(\n",
    "    tsla_10yr_daily.index, \n",
    "    tsla_10yr_daily[\"Close\"]\n",
    ")\n",
    "plt.title(\"TSLA Closing Price from March 2013-2023\")\n",
    "plt.xlabel(\"Year\")\n",
    "plt.ylabel(\"Price\")"
   ]
  },
  {
   "cell_type": "code",
   "execution_count": 5,
   "id": "d9dd19b0-e1f2-47d1-b49a-462f2c90edbb",
   "metadata": {
    "tags": []
   },
   "outputs": [
    {
     "data": {
      "text/html": [
       "<div>\n",
       "<style scoped>\n",
       "    .dataframe tbody tr th:only-of-type {\n",
       "        vertical-align: middle;\n",
       "    }\n",
       "\n",
       "    .dataframe tbody tr th {\n",
       "        vertical-align: top;\n",
       "    }\n",
       "\n",
       "    .dataframe thead th {\n",
       "        text-align: right;\n",
       "    }\n",
       "</style>\n",
       "<table border=\"1\" class=\"dataframe\">\n",
       "  <thead>\n",
       "    <tr style=\"text-align: right;\">\n",
       "      <th></th>\n",
       "      <th>BBL_30_2.0</th>\n",
       "      <th>BBM_30_2.0</th>\n",
       "      <th>BBU_30_2.0</th>\n",
       "    </tr>\n",
       "    <tr>\n",
       "      <th>date</th>\n",
       "      <th></th>\n",
       "      <th></th>\n",
       "      <th></th>\n",
       "    </tr>\n",
       "  </thead>\n",
       "  <tbody>\n",
       "    <tr>\n",
       "      <th>2013-04-12</th>\n",
       "      <td>2.204434</td>\n",
       "      <td>2.589200</td>\n",
       "      <td>2.973967</td>\n",
       "    </tr>\n",
       "    <tr>\n",
       "      <th>2013-04-15</th>\n",
       "      <td>2.223721</td>\n",
       "      <td>2.608392</td>\n",
       "      <td>2.993062</td>\n",
       "    </tr>\n",
       "    <tr>\n",
       "      <th>2013-04-16</th>\n",
       "      <td>2.232093</td>\n",
       "      <td>2.636194</td>\n",
       "      <td>3.040295</td>\n",
       "    </tr>\n",
       "    <tr>\n",
       "      <th>2013-04-17</th>\n",
       "      <td>2.239285</td>\n",
       "      <td>2.661601</td>\n",
       "      <td>3.083917</td>\n",
       "    </tr>\n",
       "    <tr>\n",
       "      <th>2013-04-18</th>\n",
       "      <td>2.239149</td>\n",
       "      <td>2.691906</td>\n",
       "      <td>3.144664</td>\n",
       "    </tr>\n",
       "  </tbody>\n",
       "</table>\n",
       "</div>"
      ],
      "text/plain": [
       "            BBL_30_2.0  BBM_30_2.0  BBU_30_2.0\n",
       "date                                          \n",
       "2013-04-12    2.204434    2.589200    2.973967\n",
       "2013-04-15    2.223721    2.608392    2.993062\n",
       "2013-04-16    2.232093    2.636194    3.040295\n",
       "2013-04-17    2.239285    2.661601    3.083917\n",
       "2013-04-18    2.239149    2.691906    3.144664"
      ]
     },
     "execution_count": 5,
     "metadata": {},
     "output_type": "execute_result"
    }
   ],
   "source": [
    "# TSLA monthly bollinger bands and dropping unwanted columns\n",
    "tsla_bbands_30d = openbb.ta.bbands(\n",
    "    data = tsla_10yr_daily, \n",
    "    window = 30, \n",
    "    n_std = 2, \n",
    "    mamode = \"ema\").drop(columns=[\"BBP_30_2.0\", \"BBB_30_2.0\"]\n",
    ")\n",
    "tsla_bbands_30d.head()"
   ]
  },
  {
   "cell_type": "code",
   "execution_count": null,
   "id": "b3f0d469-6acf-4481-98a5-417382ac6bbc",
   "metadata": {
    "tags": []
   },
   "outputs": [],
   "source": [
    "# Plot the Bollinger Bands data\n",
    "plt.plot(tsla_bbands_30d.index, tsla_bbands_30d[\"BBL_30_2.0\"], label = \"Lower\")\n",
    "plt.plot(tsla_bbands_30d.index, tsla_bbands_30d[\"BBM_30_2.0\"], label = \"Middle\")\n",
    "plt.plot(tsla_bbands_30d.index, tsla_bbands_30d[\"BBU_30_2.0\"], label = \"Upper\")\n",
    "plt.title(\"TSLA Monthly Bollinger Bands Data\")\n",
    "plt.xlabel(\"Year\")\n",
    "plt.ylabel(\"Price\")\n",
    "plt.legend(title='Bands')"
   ]
  },
  {
   "cell_type": "code",
   "execution_count": null,
   "id": "022d0d52-5465-4f88-9902-0816938180e0",
   "metadata": {
    "tags": []
   },
   "outputs": [],
   "source": [
    "# Boilinger bands data chart with the stock price\n",
    "tsla_bbands_30d_chart = openbb.ta.bbands_chart(data=tsla_10yr_daily, window = 30, n_std = 2, mamode = \"ema\")\n",
    "tsla_bbands_30d_chart"
   ]
  },
  {
   "cell_type": "code",
   "execution_count": 6,
   "id": "85c8bb96-346d-4d76-8860-5532afe84607",
   "metadata": {
    "tags": []
   },
   "outputs": [
    {
     "data": {
      "text/html": [
       "<div>\n",
       "<style scoped>\n",
       "    .dataframe tbody tr th:only-of-type {\n",
       "        vertical-align: middle;\n",
       "    }\n",
       "\n",
       "    .dataframe tbody tr th {\n",
       "        vertical-align: top;\n",
       "    }\n",
       "\n",
       "    .dataframe thead th {\n",
       "        text-align: right;\n",
       "    }\n",
       "</style>\n",
       "<table border=\"1\" class=\"dataframe\">\n",
       "  <thead>\n",
       "    <tr style=\"text-align: right;\">\n",
       "      <th></th>\n",
       "      <th>ATRe_30</th>\n",
       "    </tr>\n",
       "    <tr>\n",
       "      <th>date</th>\n",
       "      <th></th>\n",
       "    </tr>\n",
       "  </thead>\n",
       "  <tbody>\n",
       "    <tr>\n",
       "      <th>2013-04-12</th>\n",
       "      <td>0.114069</td>\n",
       "    </tr>\n",
       "    <tr>\n",
       "      <th>2013-04-15</th>\n",
       "      <td>0.112258</td>\n",
       "    </tr>\n",
       "    <tr>\n",
       "      <th>2013-04-16</th>\n",
       "      <td>0.117231</td>\n",
       "    </tr>\n",
       "    <tr>\n",
       "      <th>2013-04-17</th>\n",
       "      <td>0.115732</td>\n",
       "    </tr>\n",
       "    <tr>\n",
       "      <th>2013-04-18</th>\n",
       "      <td>0.117771</td>\n",
       "    </tr>\n",
       "  </tbody>\n",
       "</table>\n",
       "</div>"
      ],
      "text/plain": [
       "             ATRe_30\n",
       "date                \n",
       "2013-04-12  0.114069\n",
       "2013-04-15  0.112258\n",
       "2013-04-16  0.117231\n",
       "2013-04-17  0.115732\n",
       "2013-04-18  0.117771"
      ]
     },
     "execution_count": 6,
     "metadata": {},
     "output_type": "execute_result"
    }
   ],
   "source": [
    "# TSLA 30 day average true range\n",
    "atr_tsla_30d = openbb.ta.atr(data = tsla_10yr_daily, window = 30, mamode = \"ema\")\n",
    "atr_tsla_30d.head()"
   ]
  },
  {
   "cell_type": "code",
   "execution_count": null,
   "id": "526002fe-184e-49b1-b702-29211c42df52",
   "metadata": {
    "tags": []
   },
   "outputs": [],
   "source": [
    "# TSLA atr chart with stock price chart\n",
    "atr_tsla_30d_chart = openbb.ta.atr_chart(data = tsla_10yr_daily, window = 30, mamode = \"ema\")"
   ]
  },
  {
   "cell_type": "code",
   "execution_count": 7,
   "id": "15eb5645-2ec2-4dc9-8c5b-c3dbd02f4a6a",
   "metadata": {
    "tags": []
   },
   "outputs": [
    {
     "data": {
      "text/html": [
       "<div>\n",
       "<style scoped>\n",
       "    .dataframe tbody tr th:only-of-type {\n",
       "        vertical-align: middle;\n",
       "    }\n",
       "\n",
       "    .dataframe tbody tr th {\n",
       "        vertical-align: top;\n",
       "    }\n",
       "\n",
       "    .dataframe thead th {\n",
       "        text-align: right;\n",
       "    }\n",
       "</style>\n",
       "<table border=\"1\" class=\"dataframe\">\n",
       "  <thead>\n",
       "    <tr style=\"text-align: right;\">\n",
       "      <th></th>\n",
       "      <th>RSI_30</th>\n",
       "    </tr>\n",
       "    <tr>\n",
       "      <th>date</th>\n",
       "      <th></th>\n",
       "    </tr>\n",
       "  </thead>\n",
       "  <tbody>\n",
       "    <tr>\n",
       "      <th>2013-04-15</th>\n",
       "      <td>64.518071</td>\n",
       "    </tr>\n",
       "    <tr>\n",
       "      <th>2013-04-16</th>\n",
       "      <td>68.419020</td>\n",
       "    </tr>\n",
       "    <tr>\n",
       "      <th>2013-04-17</th>\n",
       "      <td>67.946589</td>\n",
       "    </tr>\n",
       "    <tr>\n",
       "      <th>2013-04-18</th>\n",
       "      <td>70.253570</td>\n",
       "    </tr>\n",
       "    <tr>\n",
       "      <th>2013-04-19</th>\n",
       "      <td>71.456023</td>\n",
       "    </tr>\n",
       "    <tr>\n",
       "      <th>...</th>\n",
       "      <td>...</td>\n",
       "    </tr>\n",
       "    <tr>\n",
       "      <th>2023-02-22</th>\n",
       "      <td>56.548469</td>\n",
       "    </tr>\n",
       "    <tr>\n",
       "      <th>2023-02-23</th>\n",
       "      <td>56.828381</td>\n",
       "    </tr>\n",
       "    <tr>\n",
       "      <th>2023-02-24</th>\n",
       "      <td>55.249155</td>\n",
       "    </tr>\n",
       "    <tr>\n",
       "      <th>2023-02-27</th>\n",
       "      <td>57.764079</td>\n",
       "    </tr>\n",
       "    <tr>\n",
       "      <th>2023-02-28</th>\n",
       "      <td>57.170456</td>\n",
       "    </tr>\n",
       "  </tbody>\n",
       "</table>\n",
       "<p>2487 rows × 1 columns</p>\n",
       "</div>"
      ],
      "text/plain": [
       "               RSI_30\n",
       "date                 \n",
       "2013-04-15  64.518071\n",
       "2013-04-16  68.419020\n",
       "2013-04-17  67.946589\n",
       "2013-04-18  70.253570\n",
       "2013-04-19  71.456023\n",
       "...               ...\n",
       "2023-02-22  56.548469\n",
       "2023-02-23  56.828381\n",
       "2023-02-24  55.249155\n",
       "2023-02-27  57.764079\n",
       "2023-02-28  57.170456\n",
       "\n",
       "[2487 rows x 1 columns]"
      ]
     },
     "execution_count": 7,
     "metadata": {},
     "output_type": "execute_result"
    }
   ],
   "source": [
    "# TSLA 30 day relative strength index\n",
    "rsi_tsla_30d = openbb.ta.rsi(data = tsla_10yr_daily[\"Close\"], window = 30)\n",
    "rsi_tsla_30d"
   ]
  },
  {
   "cell_type": "code",
   "execution_count": null,
   "id": "26fe9681-14af-400e-bf83-015e67534dd1",
   "metadata": {
    "tags": []
   },
   "outputs": [],
   "source": [
    "# TLSA rsi chart and stock price chart\n",
    "rsi_tsla_30d_chart = openbb.ta.rsi_chart(data = tsla_10yr_daily[\"Close\"], window = 30)"
   ]
  },
  {
   "cell_type": "code",
   "execution_count": 8,
   "id": "d541dbe5-adaf-4ae5-bf8d-71250b3f3f76",
   "metadata": {
    "tags": []
   },
   "outputs": [
    {
     "data": {
      "text/html": [
       "<div>\n",
       "<style scoped>\n",
       "    .dataframe tbody tr th:only-of-type {\n",
       "        vertical-align: middle;\n",
       "    }\n",
       "\n",
       "    .dataframe tbody tr th {\n",
       "        vertical-align: top;\n",
       "    }\n",
       "\n",
       "    .dataframe thead th {\n",
       "        text-align: right;\n",
       "    }\n",
       "</style>\n",
       "<table border=\"1\" class=\"dataframe\">\n",
       "  <thead>\n",
       "    <tr style=\"text-align: right;\">\n",
       "      <th></th>\n",
       "      <th>EMA_30</th>\n",
       "    </tr>\n",
       "    <tr>\n",
       "      <th>date</th>\n",
       "      <th></th>\n",
       "    </tr>\n",
       "  </thead>\n",
       "  <tbody>\n",
       "    <tr>\n",
       "      <th>2013-04-12</th>\n",
       "      <td>2.589200</td>\n",
       "    </tr>\n",
       "    <tr>\n",
       "      <th>2013-04-15</th>\n",
       "      <td>2.608392</td>\n",
       "    </tr>\n",
       "    <tr>\n",
       "      <th>2013-04-16</th>\n",
       "      <td>2.636194</td>\n",
       "    </tr>\n",
       "    <tr>\n",
       "      <th>2013-04-17</th>\n",
       "      <td>2.661601</td>\n",
       "    </tr>\n",
       "    <tr>\n",
       "      <th>2013-04-18</th>\n",
       "      <td>2.691906</td>\n",
       "    </tr>\n",
       "    <tr>\n",
       "      <th>...</th>\n",
       "      <td>...</td>\n",
       "    </tr>\n",
       "    <tr>\n",
       "      <th>2023-02-22</th>\n",
       "      <td>180.286725</td>\n",
       "    </tr>\n",
       "    <tr>\n",
       "      <th>2023-02-23</th>\n",
       "      <td>181.692098</td>\n",
       "    </tr>\n",
       "    <tr>\n",
       "      <th>2023-02-24</th>\n",
       "      <td>182.671963</td>\n",
       "    </tr>\n",
       "    <tr>\n",
       "      <th>2023-02-27</th>\n",
       "      <td>184.282159</td>\n",
       "    </tr>\n",
       "    <tr>\n",
       "      <th>2023-02-28</th>\n",
       "      <td>185.664601</td>\n",
       "    </tr>\n",
       "  </tbody>\n",
       "</table>\n",
       "<p>2488 rows × 1 columns</p>\n",
       "</div>"
      ],
      "text/plain": [
       "                EMA_30\n",
       "date                  \n",
       "2013-04-12    2.589200\n",
       "2013-04-15    2.608392\n",
       "2013-04-16    2.636194\n",
       "2013-04-17    2.661601\n",
       "2013-04-18    2.691906\n",
       "...                ...\n",
       "2023-02-22  180.286725\n",
       "2023-02-23  181.692098\n",
       "2023-02-24  182.671963\n",
       "2023-02-27  184.282159\n",
       "2023-02-28  185.664601\n",
       "\n",
       "[2488 rows x 1 columns]"
      ]
     },
     "execution_count": 8,
     "metadata": {},
     "output_type": "execute_result"
    }
   ],
   "source": [
    "# TSLA 30 day exponential moving average data\n",
    "ema_tsla_30d = openbb.ta.ema(data = tsla_10yr_daily[\"Close\"], length = 30)\n",
    "ema_tsla_30d"
   ]
  },
  {
   "cell_type": "code",
   "execution_count": null,
   "id": "b0c848c0-9966-49ec-88a5-e28aab44fcad",
   "metadata": {
    "tags": []
   },
   "outputs": [],
   "source": [
    "# TSLA ema chart\n",
    "plt.plot(ema_tsla_30d)\n",
    "plt.title(\"TSLA Monthly EMA Data\")\n",
    "plt.xlabel(\"Year\")\n",
    "plt.ylabel(\"Price\")"
   ]
  },
  {
   "cell_type": "code",
   "execution_count": 9,
   "id": "3452724e-eff2-41fc-b925-fdf4e97a3792",
   "metadata": {
    "tags": []
   },
   "outputs": [
    {
     "data": {
      "text/plain": [
       "date\n",
       "2013-04-15    0.592543\n",
       "2013-04-16    0.603883\n",
       "2013-04-17    0.601261\n",
       "2013-04-18    0.602905\n",
       "2013-04-19    0.603401\n",
       "                ...   \n",
       "2023-02-22    0.694462\n",
       "2023-02-23    0.691311\n",
       "2023-02-24    0.700320\n",
       "2023-02-27    0.707476\n",
       "2023-02-28    0.707429\n",
       "Name: Close, Length: 2487, dtype: float64"
      ]
     },
     "execution_count": 9,
     "metadata": {},
     "output_type": "execute_result"
    }
   ],
   "source": [
    "# TSLA 30 day standard deviation data\n",
    "std_tsla_30d = openbb.ta.standard_deviation(data = tsla_10yr_daily, window = 30)\n",
    "std_tsla_30d"
   ]
  },
  {
   "cell_type": "code",
   "execution_count": null,
   "id": "db4290a7-72e1-499f-a326-4d643eac739c",
   "metadata": {
    "tags": []
   },
   "outputs": [],
   "source": [
    "plt.plot(std_tsla_30d)\n",
    "plt.title(\"TSLA Monthly STD Data\")\n",
    "plt.xlabel(\"Year\")\n",
    "plt.ylabel(\"Variation\")"
   ]
  },
  {
   "cell_type": "code",
   "execution_count": 10,
   "id": "666d9b3a-112e-41c2-994c-8a66ca82b8a1",
   "metadata": {
    "tags": []
   },
   "outputs": [
    {
     "data": {
      "text/html": [
       "<div>\n",
       "<style scoped>\n",
       "    .dataframe tbody tr th:only-of-type {\n",
       "        vertical-align: middle;\n",
       "    }\n",
       "\n",
       "    .dataframe tbody tr th {\n",
       "        vertical-align: top;\n",
       "    }\n",
       "\n",
       "    .dataframe thead th {\n",
       "        text-align: right;\n",
       "    }\n",
       "</style>\n",
       "<table border=\"1\" class=\"dataframe\">\n",
       "  <thead>\n",
       "    <tr style=\"text-align: right;\">\n",
       "      <th></th>\n",
       "      <th>Open</th>\n",
       "      <th>High</th>\n",
       "      <th>Low</th>\n",
       "      <th>Close</th>\n",
       "      <th>BBL_30_2.0</th>\n",
       "      <th>BBM_30_2.0</th>\n",
       "      <th>BBU_30_2.0</th>\n",
       "      <th>ATRe_30</th>\n",
       "      <th>RSI_30</th>\n",
       "      <th>EMA_30</th>\n",
       "      <th>STD_30</th>\n",
       "    </tr>\n",
       "    <tr>\n",
       "      <th>date</th>\n",
       "      <th></th>\n",
       "      <th></th>\n",
       "      <th></th>\n",
       "      <th></th>\n",
       "      <th></th>\n",
       "      <th></th>\n",
       "      <th></th>\n",
       "      <th></th>\n",
       "      <th></th>\n",
       "      <th></th>\n",
       "      <th></th>\n",
       "    </tr>\n",
       "  </thead>\n",
       "  <tbody>\n",
       "    <tr>\n",
       "      <th>2013-04-15</th>\n",
       "      <td>2.900000</td>\n",
       "      <td>2.920000</td>\n",
       "      <td>2.834000</td>\n",
       "      <td>2.886667</td>\n",
       "      <td>2.223721</td>\n",
       "      <td>2.608392</td>\n",
       "      <td>2.993062</td>\n",
       "      <td>0.112258</td>\n",
       "      <td>64.518071</td>\n",
       "      <td>2.608392</td>\n",
       "      <td>0.592543</td>\n",
       "    </tr>\n",
       "    <tr>\n",
       "      <th>2013-04-16</th>\n",
       "      <td>2.946000</td>\n",
       "      <td>3.076000</td>\n",
       "      <td>2.927333</td>\n",
       "      <td>3.039333</td>\n",
       "      <td>2.232093</td>\n",
       "      <td>2.636194</td>\n",
       "      <td>3.040295</td>\n",
       "      <td>0.117231</td>\n",
       "      <td>68.419020</td>\n",
       "      <td>2.636194</td>\n",
       "      <td>0.603883</td>\n",
       "    </tr>\n",
       "    <tr>\n",
       "      <th>2013-04-17</th>\n",
       "      <td>3.033333</td>\n",
       "      <td>3.063333</td>\n",
       "      <td>2.969333</td>\n",
       "      <td>3.030000</td>\n",
       "      <td>2.239285</td>\n",
       "      <td>2.661601</td>\n",
       "      <td>3.083917</td>\n",
       "      <td>0.115732</td>\n",
       "      <td>67.946589</td>\n",
       "      <td>2.661601</td>\n",
       "      <td>0.601261</td>\n",
       "    </tr>\n",
       "    <tr>\n",
       "      <th>2013-04-18</th>\n",
       "      <td>3.065333</td>\n",
       "      <td>3.173333</td>\n",
       "      <td>3.026000</td>\n",
       "      <td>3.131333</td>\n",
       "      <td>2.239149</td>\n",
       "      <td>2.691906</td>\n",
       "      <td>3.144664</td>\n",
       "      <td>0.117771</td>\n",
       "      <td>70.253570</td>\n",
       "      <td>2.691906</td>\n",
       "      <td>0.602905</td>\n",
       "    </tr>\n",
       "    <tr>\n",
       "      <th>2013-04-19</th>\n",
       "      <td>3.164000</td>\n",
       "      <td>3.325333</td>\n",
       "      <td>3.138000</td>\n",
       "      <td>3.188667</td>\n",
       "      <td>2.237200</td>\n",
       "      <td>2.723955</td>\n",
       "      <td>3.210711</td>\n",
       "      <td>0.122689</td>\n",
       "      <td>71.456023</td>\n",
       "      <td>2.723955</td>\n",
       "      <td>0.603401</td>\n",
       "    </tr>\n",
       "  </tbody>\n",
       "</table>\n",
       "</div>"
      ],
      "text/plain": [
       "                Open      High       Low     Close  BBL_30_2.0  BBM_30_2.0  \\\n",
       "date                                                                         \n",
       "2013-04-15  2.900000  2.920000  2.834000  2.886667    2.223721    2.608392   \n",
       "2013-04-16  2.946000  3.076000  2.927333  3.039333    2.232093    2.636194   \n",
       "2013-04-17  3.033333  3.063333  2.969333  3.030000    2.239285    2.661601   \n",
       "2013-04-18  3.065333  3.173333  3.026000  3.131333    2.239149    2.691906   \n",
       "2013-04-19  3.164000  3.325333  3.138000  3.188667    2.237200    2.723955   \n",
       "\n",
       "            BBU_30_2.0   ATRe_30     RSI_30    EMA_30    STD_30  \n",
       "date                                                             \n",
       "2013-04-15    2.993062  0.112258  64.518071  2.608392  0.592543  \n",
       "2013-04-16    3.040295  0.117231  68.419020  2.636194  0.603883  \n",
       "2013-04-17    3.083917  0.115732  67.946589  2.661601  0.601261  \n",
       "2013-04-18    3.144664  0.117771  70.253570  2.691906  0.602905  \n",
       "2013-04-19    3.210711  0.122689  71.456023  2.723955  0.603401  "
      ]
     },
     "execution_count": 10,
     "metadata": {},
     "output_type": "execute_result"
    }
   ],
   "source": [
    "# Concatenating all of the TSLA dataframe metrics together, changing std name, and dropping null values\n",
    "everything_tsla = pd.concat([tsla_10yr_daily, tsla_bbands_30d, atr_tsla_30d, rsi_tsla_30d, ema_tsla_30d, std_tsla_30d], axis=1)\n",
    "everything_tsla.columns = [*everything_tsla.columns[:-1], \"STD_30\"]\n",
    "everything_tsla = everything_tsla.dropna()\n",
    "everything_tsla.head()"
   ]
  },
  {
   "cell_type": "markdown",
   "id": "854d17de-d4bc-41b7-bb6a-e9ac0eca66b3",
   "metadata": {},
   "source": [
    "### Splitting the testing and training data"
   ]
  },
  {
   "cell_type": "code",
   "execution_count": 11,
   "id": "ee8cf828-fff3-49d7-9bc7-18571547717d",
   "metadata": {
    "tags": []
   },
   "outputs": [],
   "source": [
    "# Split the training and testing Data\n",
    "X = everything_tsla.drop(columns=[\"Close\"]).dropna()\n",
    "y = everything_tsla[\"Close\"]"
   ]
  },
  {
   "cell_type": "code",
   "execution_count": 12,
   "id": "b13a8830-b9c5-4cf5-8746-eb813175d6a5",
   "metadata": {
    "tags": []
   },
   "outputs": [],
   "source": [
    "# Using train_test_split to further split the training and testing data\n",
    "X_train, X_test, y_train, y_test = train_test_split(X, y, test_size=0.33, random_state=42, shuffle=False)"
   ]
  },
  {
   "cell_type": "code",
   "execution_count": 13,
   "id": "ef43700d-a0ae-4862-8615-3a5c983d0e11",
   "metadata": {
    "tags": []
   },
   "outputs": [],
   "source": [
    "# Preprocessing the data with a scaler\n",
    "X_scaler = MinMaxScaler(feature_range = (0, 1))"
   ]
  },
  {
   "cell_type": "code",
   "execution_count": 14,
   "id": "146163ab-0e56-4583-8800-014b25d4f47c",
   "metadata": {
    "tags": []
   },
   "outputs": [
    {
     "data": {
      "text/html": [
       "<style>#sk-container-id-1 {color: black;background-color: white;}#sk-container-id-1 pre{padding: 0;}#sk-container-id-1 div.sk-toggleable {background-color: white;}#sk-container-id-1 label.sk-toggleable__label {cursor: pointer;display: block;width: 100%;margin-bottom: 0;padding: 0.3em;box-sizing: border-box;text-align: center;}#sk-container-id-1 label.sk-toggleable__label-arrow:before {content: \"▸\";float: left;margin-right: 0.25em;color: #696969;}#sk-container-id-1 label.sk-toggleable__label-arrow:hover:before {color: black;}#sk-container-id-1 div.sk-estimator:hover label.sk-toggleable__label-arrow:before {color: black;}#sk-container-id-1 div.sk-toggleable__content {max-height: 0;max-width: 0;overflow: hidden;text-align: left;background-color: #f0f8ff;}#sk-container-id-1 div.sk-toggleable__content pre {margin: 0.2em;color: black;border-radius: 0.25em;background-color: #f0f8ff;}#sk-container-id-1 input.sk-toggleable__control:checked~div.sk-toggleable__content {max-height: 200px;max-width: 100%;overflow: auto;}#sk-container-id-1 input.sk-toggleable__control:checked~label.sk-toggleable__label-arrow:before {content: \"▾\";}#sk-container-id-1 div.sk-estimator input.sk-toggleable__control:checked~label.sk-toggleable__label {background-color: #d4ebff;}#sk-container-id-1 div.sk-label input.sk-toggleable__control:checked~label.sk-toggleable__label {background-color: #d4ebff;}#sk-container-id-1 input.sk-hidden--visually {border: 0;clip: rect(1px 1px 1px 1px);clip: rect(1px, 1px, 1px, 1px);height: 1px;margin: -1px;overflow: hidden;padding: 0;position: absolute;width: 1px;}#sk-container-id-1 div.sk-estimator {font-family: monospace;background-color: #f0f8ff;border: 1px dotted black;border-radius: 0.25em;box-sizing: border-box;margin-bottom: 0.5em;}#sk-container-id-1 div.sk-estimator:hover {background-color: #d4ebff;}#sk-container-id-1 div.sk-parallel-item::after {content: \"\";width: 100%;border-bottom: 1px solid gray;flex-grow: 1;}#sk-container-id-1 div.sk-label:hover label.sk-toggleable__label {background-color: #d4ebff;}#sk-container-id-1 div.sk-serial::before {content: \"\";position: absolute;border-left: 1px solid gray;box-sizing: border-box;top: 0;bottom: 0;left: 50%;z-index: 0;}#sk-container-id-1 div.sk-serial {display: flex;flex-direction: column;align-items: center;background-color: white;padding-right: 0.2em;padding-left: 0.2em;position: relative;}#sk-container-id-1 div.sk-item {position: relative;z-index: 1;}#sk-container-id-1 div.sk-parallel {display: flex;align-items: stretch;justify-content: center;background-color: white;position: relative;}#sk-container-id-1 div.sk-item::before, #sk-container-id-1 div.sk-parallel-item::before {content: \"\";position: absolute;border-left: 1px solid gray;box-sizing: border-box;top: 0;bottom: 0;left: 50%;z-index: -1;}#sk-container-id-1 div.sk-parallel-item {display: flex;flex-direction: column;z-index: 1;position: relative;background-color: white;}#sk-container-id-1 div.sk-parallel-item:first-child::after {align-self: flex-end;width: 50%;}#sk-container-id-1 div.sk-parallel-item:last-child::after {align-self: flex-start;width: 50%;}#sk-container-id-1 div.sk-parallel-item:only-child::after {width: 0;}#sk-container-id-1 div.sk-dashed-wrapped {border: 1px dashed gray;margin: 0 0.4em 0.5em 0.4em;box-sizing: border-box;padding-bottom: 0.4em;background-color: white;}#sk-container-id-1 div.sk-label label {font-family: monospace;font-weight: bold;display: inline-block;line-height: 1.2em;}#sk-container-id-1 div.sk-label-container {text-align: center;}#sk-container-id-1 div.sk-container {/* jupyter's `normalize.less` sets `[hidden] { display: none; }` but bootstrap.min.css set `[hidden] { display: none !important; }` so we also need the `!important` here to be able to override the default hidden behavior on the sphinx rendered scikit-learn.org. See: https://github.com/scikit-learn/scikit-learn/issues/21755 */display: inline-block !important;position: relative;}#sk-container-id-1 div.sk-text-repr-fallback {display: none;}</style><div id=\"sk-container-id-1\" class=\"sk-top-container\"><div class=\"sk-text-repr-fallback\"><pre>MinMaxScaler()</pre><b>In a Jupyter environment, please rerun this cell to show the HTML representation or trust the notebook. <br />On GitHub, the HTML representation is unable to render, please try loading this page with nbviewer.org.</b></div><div class=\"sk-container\" hidden><div class=\"sk-item\"><div class=\"sk-estimator sk-toggleable\"><input class=\"sk-toggleable__control sk-hidden--visually\" id=\"sk-estimator-id-1\" type=\"checkbox\" checked><label for=\"sk-estimator-id-1\" class=\"sk-toggleable__label sk-toggleable__label-arrow\">MinMaxScaler</label><div class=\"sk-toggleable__content\"><pre>MinMaxScaler()</pre></div></div></div></div></div>"
      ],
      "text/plain": [
       "MinMaxScaler()"
      ]
     },
     "execution_count": 14,
     "metadata": {},
     "output_type": "execute_result"
    }
   ],
   "source": [
    "# Fitting the scaler to the training dataset\n",
    "X_scaler.fit(X_train)"
   ]
  },
  {
   "cell_type": "code",
   "execution_count": 15,
   "id": "85d330b7-a569-434a-bdb9-282328bd0586",
   "metadata": {
    "tags": []
   },
   "outputs": [
    {
     "data": {
      "text/plain": [
       "array([[0.        , 0.        , 0.        , ..., 0.64158085, 0.        ,\n",
       "        0.46485485],\n",
       "       [0.00201055, 0.00676672, 0.00415626, ..., 0.71088255, 0.00130271,\n",
       "        0.47770488],\n",
       "       [0.00582766, 0.00621727, 0.00602658, ..., 0.70248964, 0.00249317,\n",
       "        0.47473411],\n",
       "       ...,\n",
       "       [0.89819055, 0.91434595, 0.90633531, ..., 0.79768948, 0.85024209,\n",
       "        0.43326925],\n",
       "       [0.92222968, 0.91784502, 0.91159003, ..., 0.74061353, 0.85848554,\n",
       "        0.44260487],\n",
       "       [0.90623274, 0.91680398, 0.9247417 , ..., 0.74908879, 0.86672315,\n",
       "        0.44169007]])"
      ]
     },
     "execution_count": 15,
     "metadata": {},
     "output_type": "execute_result"
    }
   ],
   "source": [
    "# Transform the dataset with scaler\n",
    "X_train_scaled = X_scaler.transform(X_train)\n",
    "X_test_scaled = X_scaler.transform(X_test)\n",
    "X_train_scaled"
   ]
  },
  {
   "cell_type": "markdown",
   "id": "c8f2c8b5-1ba4-4435-87c0-a4b0b2087b93",
   "metadata": {},
   "source": [
    "### Creating Second model"
   ]
  },
  {
   "cell_type": "code",
   "execution_count": 16,
   "id": "7acc5896-9387-4421-b2d3-ffeaaa577830",
   "metadata": {
    "tags": []
   },
   "outputs": [],
   "source": [
    "# The number of inputs/features into the model\n",
    "number_inputs = 10\n",
    "\n",
    "# The number of layer 1 hidden nodes for the model\n",
    "hidden_nodes_layer1 = 64\n",
    "\n",
    "# The number of layer 2 hidden nodes for the model\n",
    "hidden_nodes_layer2 = 32\n",
    "\n",
    "# Creating the Sequential model\n",
    "neuron = Sequential()\n",
    "\n",
    "# Adding a Dense layer and the elu activation function\n",
    "neuron.add(Dense(units=hidden_nodes_layer1, input_dim=number_inputs, activation=\"elu\"))\n",
    "\n",
    "# Adding a Dense layer and the tanh activation function\n",
    "neuron.add(Dense(units=hidden_nodes_layer2, activation=\"tanh\"))\n",
    "\n",
    "# Add the output layer to the model and the relu activation function\n",
    "neuron.add(Dense(1, activation=\"relu\"))"
   ]
  },
  {
   "cell_type": "code",
   "execution_count": 17,
   "id": "2916e0a4-6fe3-4c2c-ae33-c92db020ed7e",
   "metadata": {
    "tags": []
   },
   "outputs": [
    {
     "name": "stdout",
     "output_type": "stream",
     "text": [
      "Model: \"sequential\"\n",
      "_________________________________________________________________\n",
      " Layer (type)                Output Shape              Param #   \n",
      "=================================================================\n",
      " dense (Dense)               (None, 64)                704       \n",
      "                                                                 \n",
      " dense_1 (Dense)             (None, 32)                2080      \n",
      "                                                                 \n",
      " dense_2 (Dense)             (None, 1)                 33        \n",
      "                                                                 \n",
      "=================================================================\n",
      "Total params: 2,817\n",
      "Trainable params: 2,817\n",
      "Non-trainable params: 0\n",
      "_________________________________________________________________\n"
     ]
    }
   ],
   "source": [
    "# Display the Sequential model summary\n",
    "neuron.summary()"
   ]
  },
  {
   "cell_type": "code",
   "execution_count": 18,
   "id": "f15a640b-e0e0-4eb5-8fe0-aab5576b652b",
   "metadata": {
    "tags": []
   },
   "outputs": [],
   "source": [
    "# Compiling the Sequential Model\n",
    "neuron.compile(loss=\"binary_crossentropy\", optimizer=\"adam\", metrics=[\"accuracy\"])"
   ]
  },
  {
   "cell_type": "code",
   "execution_count": 19,
   "id": "378d111d-84df-4e40-9bdf-455c6ee31255",
   "metadata": {
    "tags": []
   },
   "outputs": [
    {
     "name": "stdout",
     "output_type": "stream",
     "text": [
      "Epoch 1/200\n",
      "17/17 [==============================] - 1s 2ms/step - loss: -1.5714 - accuracy: 0.0000e+00\n",
      "Epoch 2/200\n",
      "17/17 [==============================] - 0s 2ms/step - loss: -32.6185 - accuracy: 0.0000e+00\n",
      "Epoch 3/200\n",
      "17/17 [==============================] - 0s 2ms/step - loss: -71.8914 - accuracy: 0.0000e+00\n",
      "Epoch 4/200\n",
      "17/17 [==============================] - 0s 2ms/step - loss: -112.8887 - accuracy: 0.0000e+00\n",
      "Epoch 5/200\n",
      "17/17 [==============================] - 0s 2ms/step - loss: -141.6168 - accuracy: 0.0000e+00\n",
      "Epoch 6/200\n",
      "17/17 [==============================] - 0s 2ms/step - loss: -160.2890 - accuracy: 0.0000e+00\n",
      "Epoch 7/200\n",
      "17/17 [==============================] - 0s 1ms/step - loss: -174.8138 - accuracy: 0.0000e+00\n",
      "Epoch 8/200\n",
      "17/17 [==============================] - 0s 1ms/step - loss: -187.5371 - accuracy: 0.0000e+00\n",
      "Epoch 9/200\n",
      "17/17 [==============================] - 0s 1ms/step - loss: -199.3110 - accuracy: 0.0000e+00\n",
      "Epoch 10/200\n",
      "17/17 [==============================] - 0s 1ms/step - loss: -210.4552 - accuracy: 0.0000e+00\n",
      "Epoch 11/200\n",
      "17/17 [==============================] - 0s 1ms/step - loss: -221.1909 - accuracy: 0.0000e+00\n",
      "Epoch 12/200\n",
      "17/17 [==============================] - 0s 1ms/step - loss: -231.6194 - accuracy: 0.0000e+00\n",
      "Epoch 13/200\n",
      "17/17 [==============================] - 0s 1ms/step - loss: -241.7966 - accuracy: 0.0000e+00\n",
      "Epoch 14/200\n",
      "17/17 [==============================] - 0s 1ms/step - loss: -251.7491 - accuracy: 0.0000e+00\n",
      "Epoch 15/200\n",
      "17/17 [==============================] - 0s 1ms/step - loss: -261.5921 - accuracy: 0.0000e+00\n",
      "Epoch 16/200\n",
      "17/17 [==============================] - 0s 1ms/step - loss: -271.2640 - accuracy: 0.0000e+00\n",
      "Epoch 17/200\n",
      "17/17 [==============================] - 0s 1ms/step - loss: -280.8842 - accuracy: 0.0000e+00\n",
      "Epoch 18/200\n",
      "17/17 [==============================] - 0s 4ms/step - loss: -290.4005 - accuracy: 0.0000e+00\n",
      "Epoch 19/200\n",
      "17/17 [==============================] - 0s 1ms/step - loss: -299.8348 - accuracy: 0.0000e+00\n",
      "Epoch 20/200\n",
      "17/17 [==============================] - 0s 1ms/step - loss: -309.2276 - accuracy: 0.0000e+00\n",
      "Epoch 21/200\n",
      "17/17 [==============================] - 0s 1ms/step - loss: -318.5634 - accuracy: 0.0000e+00\n",
      "Epoch 22/200\n",
      "17/17 [==============================] - 0s 1ms/step - loss: -327.8486 - accuracy: 0.0000e+00\n",
      "Epoch 23/200\n",
      "17/17 [==============================] - 0s 1ms/step - loss: -337.0797 - accuracy: 0.0000e+00\n",
      "Epoch 24/200\n",
      "17/17 [==============================] - 0s 1ms/step - loss: -346.3010 - accuracy: 0.0000e+00\n",
      "Epoch 25/200\n",
      "17/17 [==============================] - 0s 1ms/step - loss: -355.4597 - accuracy: 0.0000e+00\n",
      "Epoch 26/200\n",
      "17/17 [==============================] - 0s 1ms/step - loss: -364.6117 - accuracy: 0.0000e+00\n",
      "Epoch 27/200\n",
      "17/17 [==============================] - 0s 1ms/step - loss: -373.7231 - accuracy: 0.0000e+00\n",
      "Epoch 28/200\n",
      "17/17 [==============================] - 0s 1ms/step - loss: -382.8128 - accuracy: 0.0000e+00\n",
      "Epoch 29/200\n",
      "17/17 [==============================] - 0s 1ms/step - loss: -391.8576 - accuracy: 0.0000e+00\n",
      "Epoch 30/200\n",
      "17/17 [==============================] - 0s 1ms/step - loss: -400.9103 - accuracy: 0.0000e+00\n",
      "Epoch 31/200\n",
      "17/17 [==============================] - 0s 1ms/step - loss: -409.9475 - accuracy: 0.0000e+00\n",
      "Epoch 32/200\n",
      "17/17 [==============================] - 0s 1ms/step - loss: -418.9576 - accuracy: 0.0000e+00\n",
      "Epoch 33/200\n",
      "17/17 [==============================] - 0s 1ms/step - loss: -427.9247 - accuracy: 0.0000e+00\n",
      "Epoch 34/200\n",
      "17/17 [==============================] - 0s 1ms/step - loss: -436.9031 - accuracy: 0.0000e+00\n",
      "Epoch 35/200\n",
      "17/17 [==============================] - 0s 1ms/step - loss: -445.8503 - accuracy: 0.0000e+00\n",
      "Epoch 36/200\n",
      "17/17 [==============================] - 0s 1ms/step - loss: -454.7908 - accuracy: 0.0000e+00\n",
      "Epoch 37/200\n",
      "17/17 [==============================] - 0s 1ms/step - loss: -463.7379 - accuracy: 0.0000e+00\n",
      "Epoch 38/200\n",
      "17/17 [==============================] - 0s 1ms/step - loss: -472.6415 - accuracy: 0.0000e+00\n",
      "Epoch 39/200\n",
      "17/17 [==============================] - 0s 1ms/step - loss: -481.5655 - accuracy: 0.0000e+00\n",
      "Epoch 40/200\n",
      "17/17 [==============================] - 0s 2ms/step - loss: -490.4753 - accuracy: 0.0000e+00\n",
      "Epoch 41/200\n",
      "17/17 [==============================] - 0s 1ms/step - loss: -499.3521 - accuracy: 0.0000e+00\n",
      "Epoch 42/200\n",
      "17/17 [==============================] - 0s 1ms/step - loss: -508.2067 - accuracy: 0.0000e+00\n",
      "Epoch 43/200\n",
      "17/17 [==============================] - 0s 1ms/step - loss: -517.0971 - accuracy: 0.0000e+00\n",
      "Epoch 44/200\n",
      "17/17 [==============================] - 0s 1ms/step - loss: -525.9469 - accuracy: 0.0000e+00\n",
      "Epoch 45/200\n",
      "17/17 [==============================] - 0s 1ms/step - loss: -534.8060 - accuracy: 0.0000e+00\n",
      "Epoch 46/200\n",
      "17/17 [==============================] - 0s 1ms/step - loss: -543.6215 - accuracy: 0.0000e+00\n",
      "Epoch 47/200\n",
      "17/17 [==============================] - 0s 1ms/step - loss: -552.4663 - accuracy: 0.0000e+00\n",
      "Epoch 48/200\n",
      "17/17 [==============================] - 0s 1ms/step - loss: -561.2761 - accuracy: 0.0000e+00\n",
      "Epoch 49/200\n",
      "17/17 [==============================] - 0s 1ms/step - loss: -570.0912 - accuracy: 0.0000e+00\n",
      "Epoch 50/200\n",
      "17/17 [==============================] - 0s 1ms/step - loss: -578.8920 - accuracy: 0.0000e+00\n",
      "Epoch 51/200\n",
      "17/17 [==============================] - 0s 1ms/step - loss: -587.7354 - accuracy: 0.0000e+00\n",
      "Epoch 52/200\n",
      "17/17 [==============================] - 0s 1ms/step - loss: -596.4781 - accuracy: 0.0000e+00\n",
      "Epoch 53/200\n",
      "17/17 [==============================] - 0s 1ms/step - loss: -605.3064 - accuracy: 0.0000e+00\n",
      "Epoch 54/200\n",
      "17/17 [==============================] - 0s 2ms/step - loss: -614.0838 - accuracy: 0.0000e+00\n",
      "Epoch 55/200\n",
      "17/17 [==============================] - 0s 1ms/step - loss: -622.8595 - accuracy: 0.0000e+00\n",
      "Epoch 56/200\n",
      "17/17 [==============================] - 0s 2ms/step - loss: -631.6384 - accuracy: 0.0000e+00\n",
      "Epoch 57/200\n",
      "17/17 [==============================] - 0s 1ms/step - loss: -640.4333 - accuracy: 0.0000e+00\n",
      "Epoch 58/200\n",
      "17/17 [==============================] - 0s 1ms/step - loss: -649.2028 - accuracy: 0.0000e+00\n",
      "Epoch 59/200\n",
      "17/17 [==============================] - 0s 1ms/step - loss: -657.9749 - accuracy: 0.0000e+00\n",
      "Epoch 60/200\n",
      "17/17 [==============================] - 0s 1ms/step - loss: -666.7141 - accuracy: 0.0000e+00\n",
      "Epoch 61/200\n",
      "17/17 [==============================] - 0s 1ms/step - loss: -675.5010 - accuracy: 0.0000e+00\n",
      "Epoch 62/200\n",
      "17/17 [==============================] - 0s 1ms/step - loss: -684.2314 - accuracy: 0.0000e+00\n",
      "Epoch 63/200\n",
      "17/17 [==============================] - 0s 1ms/step - loss: -692.9948 - accuracy: 0.0000e+00\n",
      "Epoch 64/200\n",
      "17/17 [==============================] - 0s 1ms/step - loss: -701.7391 - accuracy: 0.0000e+00\n",
      "Epoch 65/200\n",
      "17/17 [==============================] - 0s 1ms/step - loss: -710.4701 - accuracy: 0.0000e+00\n",
      "Epoch 66/200\n",
      "17/17 [==============================] - 0s 1ms/step - loss: -719.2144 - accuracy: 0.0000e+00\n",
      "Epoch 67/200\n",
      "17/17 [==============================] - 0s 1ms/step - loss: -727.9232 - accuracy: 0.0000e+00\n",
      "Epoch 68/200\n",
      "17/17 [==============================] - 0s 1ms/step - loss: -736.6945 - accuracy: 0.0000e+00\n",
      "Epoch 69/200\n",
      "17/17 [==============================] - 0s 1ms/step - loss: -745.3906 - accuracy: 0.0000e+00\n",
      "Epoch 70/200\n",
      "17/17 [==============================] - 0s 1ms/step - loss: -754.1437 - accuracy: 0.0000e+00\n",
      "Epoch 71/200\n",
      "17/17 [==============================] - 0s 1ms/step - loss: -762.8691 - accuracy: 0.0000e+00\n",
      "Epoch 72/200\n",
      "17/17 [==============================] - 0s 2ms/step - loss: -771.5632 - accuracy: 0.0000e+00\n",
      "Epoch 73/200\n",
      "17/17 [==============================] - 0s 2ms/step - loss: -780.3175 - accuracy: 0.0000e+00\n",
      "Epoch 74/200\n",
      "17/17 [==============================] - 0s 2ms/step - loss: -789.0065 - accuracy: 0.0000e+00\n",
      "Epoch 75/200\n",
      "17/17 [==============================] - 0s 2ms/step - loss: -797.7206 - accuracy: 0.0000e+00\n",
      "Epoch 76/200\n",
      "17/17 [==============================] - 0s 1ms/step - loss: -806.4365 - accuracy: 0.0000e+00\n",
      "Epoch 77/200\n",
      "17/17 [==============================] - 0s 1ms/step - loss: -815.1397 - accuracy: 0.0000e+00\n",
      "Epoch 78/200\n",
      "17/17 [==============================] - 0s 1ms/step - loss: -823.8520 - accuracy: 0.0000e+00\n",
      "Epoch 79/200\n",
      "17/17 [==============================] - 0s 1ms/step - loss: -832.5483 - accuracy: 0.0000e+00\n",
      "Epoch 80/200\n",
      "17/17 [==============================] - 0s 2ms/step - loss: -841.2413 - accuracy: 0.0000e+00\n",
      "Epoch 81/200\n",
      "17/17 [==============================] - 0s 2ms/step - loss: -849.9447 - accuracy: 0.0000e+00\n",
      "Epoch 82/200\n",
      "17/17 [==============================] - 0s 1ms/step - loss: -858.6280 - accuracy: 0.0000e+00\n",
      "Epoch 83/200\n",
      "17/17 [==============================] - 0s 2ms/step - loss: -867.3296 - accuracy: 0.0000e+00\n",
      "Epoch 84/200\n",
      "17/17 [==============================] - 0s 1ms/step - loss: -876.0053 - accuracy: 0.0000e+00\n",
      "Epoch 85/200\n",
      "17/17 [==============================] - 0s 2ms/step - loss: -884.7105 - accuracy: 0.0000e+00\n",
      "Epoch 86/200\n",
      "17/17 [==============================] - 0s 2ms/step - loss: -893.4012 - accuracy: 0.0000e+00\n",
      "Epoch 87/200\n",
      "17/17 [==============================] - 0s 1ms/step - loss: -902.0649 - accuracy: 0.0000e+00\n",
      "Epoch 88/200\n",
      "17/17 [==============================] - 0s 1ms/step - loss: -910.7637 - accuracy: 0.0000e+00\n",
      "Epoch 89/200\n",
      "17/17 [==============================] - 0s 1ms/step - loss: -919.4548 - accuracy: 0.0000e+00\n",
      "Epoch 90/200\n",
      "17/17 [==============================] - 0s 2ms/step - loss: -928.1277 - accuracy: 0.0000e+00\n",
      "Epoch 91/200\n",
      "17/17 [==============================] - 0s 1ms/step - loss: -936.7945 - accuracy: 0.0000e+00\n",
      "Epoch 92/200\n",
      "17/17 [==============================] - 0s 1ms/step - loss: -945.4839 - accuracy: 0.0000e+00\n",
      "Epoch 93/200\n",
      "17/17 [==============================] - 0s 1ms/step - loss: -954.1678 - accuracy: 0.0000e+00\n",
      "Epoch 94/200\n",
      "17/17 [==============================] - 0s 1ms/step - loss: -962.8754 - accuracy: 0.0000e+00\n",
      "Epoch 95/200\n",
      "17/17 [==============================] - 0s 1ms/step - loss: -971.5270 - accuracy: 0.0000e+00\n",
      "Epoch 96/200\n",
      "17/17 [==============================] - 0s 1ms/step - loss: -980.2095 - accuracy: 0.0000e+00\n",
      "Epoch 97/200\n",
      "17/17 [==============================] - 0s 1ms/step - loss: -988.8878 - accuracy: 0.0000e+00\n",
      "Epoch 98/200\n",
      "17/17 [==============================] - 0s 1ms/step - loss: -997.5498 - accuracy: 0.0000e+00\n",
      "Epoch 99/200\n",
      "17/17 [==============================] - 0s 1ms/step - loss: -1006.2357 - accuracy: 0.0000e+00\n",
      "Epoch 100/200\n",
      "17/17 [==============================] - 0s 1ms/step - loss: -1014.8893 - accuracy: 0.0000e+00\n",
      "Epoch 101/200\n",
      "17/17 [==============================] - 0s 2ms/step - loss: -1023.5975 - accuracy: 0.0000e+00\n",
      "Epoch 102/200\n",
      "17/17 [==============================] - 0s 2ms/step - loss: -1032.2493 - accuracy: 0.0000e+00\n",
      "Epoch 103/200\n",
      "17/17 [==============================] - 0s 1ms/step - loss: -1040.9305 - accuracy: 0.0000e+00\n",
      "Epoch 104/200\n",
      "17/17 [==============================] - 0s 2ms/step - loss: -1049.5996 - accuracy: 0.0000e+00\n",
      "Epoch 105/200\n",
      "17/17 [==============================] - 0s 1ms/step - loss: -1058.2683 - accuracy: 0.0000e+00\n",
      "Epoch 106/200\n",
      "17/17 [==============================] - 0s 1ms/step - loss: -1066.9321 - accuracy: 0.0000e+00\n",
      "Epoch 107/200\n",
      "17/17 [==============================] - 0s 1ms/step - loss: -1075.5815 - accuracy: 0.0000e+00\n",
      "Epoch 108/200\n",
      "17/17 [==============================] - 0s 1ms/step - loss: -1084.2374 - accuracy: 0.0000e+00\n",
      "Epoch 109/200\n",
      "17/17 [==============================] - 0s 1ms/step - loss: -1092.8939 - accuracy: 0.0000e+00\n",
      "Epoch 110/200\n",
      "17/17 [==============================] - 0s 1ms/step - loss: -1101.5583 - accuracy: 0.0000e+00\n",
      "Epoch 111/200\n",
      "17/17 [==============================] - 0s 1ms/step - loss: -1110.1941 - accuracy: 0.0000e+00\n",
      "Epoch 112/200\n",
      "17/17 [==============================] - 0s 2ms/step - loss: -1118.8657 - accuracy: 0.0000e+00\n",
      "Epoch 113/200\n",
      "17/17 [==============================] - 0s 1ms/step - loss: -1127.5178 - accuracy: 0.0000e+00\n",
      "Epoch 114/200\n",
      "17/17 [==============================] - 0s 1ms/step - loss: -1136.1782 - accuracy: 0.0000e+00\n",
      "Epoch 115/200\n",
      "17/17 [==============================] - 0s 2ms/step - loss: -1144.8231 - accuracy: 0.0000e+00\n",
      "Epoch 116/200\n",
      "17/17 [==============================] - 0s 1ms/step - loss: -1153.4851 - accuracy: 0.0000e+00\n",
      "Epoch 117/200\n",
      "17/17 [==============================] - 0s 1ms/step - loss: -1162.1213 - accuracy: 0.0000e+00\n",
      "Epoch 118/200\n",
      "17/17 [==============================] - 0s 1ms/step - loss: -1170.7684 - accuracy: 0.0000e+00\n",
      "Epoch 119/200\n",
      "17/17 [==============================] - 0s 1ms/step - loss: -1179.4166 - accuracy: 0.0000e+00\n",
      "Epoch 120/200\n",
      "17/17 [==============================] - 0s 1ms/step - loss: -1188.0673 - accuracy: 0.0000e+00\n",
      "Epoch 121/200\n",
      "17/17 [==============================] - 0s 1ms/step - loss: -1196.7029 - accuracy: 0.0000e+00\n",
      "Epoch 122/200\n",
      "17/17 [==============================] - 0s 1ms/step - loss: -1205.3641 - accuracy: 0.0000e+00\n",
      "Epoch 123/200\n",
      "17/17 [==============================] - 0s 1ms/step - loss: -1213.9919 - accuracy: 0.0000e+00\n",
      "Epoch 124/200\n",
      "17/17 [==============================] - 0s 1ms/step - loss: -1222.6531 - accuracy: 0.0000e+00\n",
      "Epoch 125/200\n",
      "17/17 [==============================] - 0s 1ms/step - loss: -1231.3058 - accuracy: 0.0000e+00\n",
      "Epoch 126/200\n",
      "17/17 [==============================] - 0s 1ms/step - loss: -1239.9448 - accuracy: 0.0000e+00\n",
      "Epoch 127/200\n",
      "17/17 [==============================] - 0s 1ms/step - loss: -1248.5803 - accuracy: 0.0000e+00\n",
      "Epoch 128/200\n",
      "17/17 [==============================] - 0s 1ms/step - loss: -1257.2211 - accuracy: 0.0000e+00\n",
      "Epoch 129/200\n",
      "17/17 [==============================] - 0s 1ms/step - loss: -1265.8561 - accuracy: 0.0000e+00\n",
      "Epoch 130/200\n",
      "17/17 [==============================] - 0s 1ms/step - loss: -1274.5100 - accuracy: 0.0000e+00\n",
      "Epoch 131/200\n",
      "17/17 [==============================] - 0s 1ms/step - loss: -1283.1368 - accuracy: 0.0000e+00\n",
      "Epoch 132/200\n",
      "17/17 [==============================] - 0s 2ms/step - loss: -1291.7878 - accuracy: 0.0000e+00\n",
      "Epoch 133/200\n",
      "17/17 [==============================] - 0s 2ms/step - loss: -1300.3932 - accuracy: 0.0000e+00\n",
      "Epoch 134/200\n",
      "17/17 [==============================] - 0s 1ms/step - loss: -1309.0646 - accuracy: 0.0000e+00\n",
      "Epoch 135/200\n",
      "17/17 [==============================] - 0s 1ms/step - loss: -1317.7094 - accuracy: 0.0000e+00\n",
      "Epoch 136/200\n",
      "17/17 [==============================] - 0s 1ms/step - loss: -1326.3337 - accuracy: 0.0000e+00\n",
      "Epoch 137/200\n",
      "17/17 [==============================] - 0s 1ms/step - loss: -1334.9949 - accuracy: 0.0000e+00\n",
      "Epoch 138/200\n",
      "17/17 [==============================] - 0s 1ms/step - loss: -1343.6066 - accuracy: 0.0000e+00\n",
      "Epoch 139/200\n",
      "17/17 [==============================] - 0s 1ms/step - loss: -1352.2499 - accuracy: 0.0000e+00\n",
      "Epoch 140/200\n",
      "17/17 [==============================] - 0s 1ms/step - loss: -1360.9038 - accuracy: 0.0000e+00\n",
      "Epoch 141/200\n",
      "17/17 [==============================] - 0s 1ms/step - loss: -1369.5345 - accuracy: 0.0000e+00\n",
      "Epoch 142/200\n",
      "17/17 [==============================] - 0s 1ms/step - loss: -1378.1411 - accuracy: 0.0000e+00\n",
      "Epoch 143/200\n",
      "17/17 [==============================] - 0s 1ms/step - loss: -1386.8168 - accuracy: 0.0000e+00\n",
      "Epoch 144/200\n",
      "17/17 [==============================] - 0s 1ms/step - loss: -1395.4197 - accuracy: 0.0000e+00\n",
      "Epoch 145/200\n",
      "17/17 [==============================] - 0s 1ms/step - loss: -1404.0620 - accuracy: 0.0000e+00\n",
      "Epoch 146/200\n",
      "17/17 [==============================] - 0s 1ms/step - loss: -1412.6837 - accuracy: 0.0000e+00\n",
      "Epoch 147/200\n",
      "17/17 [==============================] - 0s 1ms/step - loss: -1421.3239 - accuracy: 0.0000e+00\n",
      "Epoch 148/200\n",
      "17/17 [==============================] - 0s 1ms/step - loss: -1429.9352 - accuracy: 0.0000e+00\n",
      "Epoch 149/200\n",
      "17/17 [==============================] - 0s 1ms/step - loss: -1438.5846 - accuracy: 0.0000e+00\n",
      "Epoch 150/200\n",
      "17/17 [==============================] - 0s 1ms/step - loss: -1447.2040 - accuracy: 0.0000e+00\n",
      "Epoch 151/200\n",
      "17/17 [==============================] - 0s 1ms/step - loss: -1455.8522 - accuracy: 0.0000e+00\n",
      "Epoch 152/200\n",
      "17/17 [==============================] - 0s 1ms/step - loss: -1464.4420 - accuracy: 0.0000e+00\n",
      "Epoch 153/200\n",
      "17/17 [==============================] - 0s 1ms/step - loss: -1473.1089 - accuracy: 0.0000e+00\n",
      "Epoch 154/200\n",
      "17/17 [==============================] - 0s 1ms/step - loss: -1481.7198 - accuracy: 0.0000e+00\n",
      "Epoch 155/200\n",
      "17/17 [==============================] - 0s 1ms/step - loss: -1490.3591 - accuracy: 0.0000e+00\n",
      "Epoch 156/200\n",
      "17/17 [==============================] - 0s 1ms/step - loss: -1499.0013 - accuracy: 0.0000e+00\n",
      "Epoch 157/200\n",
      "17/17 [==============================] - 0s 1ms/step - loss: -1507.6223 - accuracy: 0.0000e+00\n",
      "Epoch 158/200\n",
      "17/17 [==============================] - 0s 1ms/step - loss: -1516.2604 - accuracy: 0.0000e+00\n",
      "Epoch 159/200\n",
      "17/17 [==============================] - 0s 1ms/step - loss: -1524.8762 - accuracy: 0.0000e+00\n",
      "Epoch 160/200\n",
      "17/17 [==============================] - 0s 1ms/step - loss: -1533.5168 - accuracy: 0.0000e+00\n",
      "Epoch 161/200\n",
      "17/17 [==============================] - 0s 1ms/step - loss: -1542.1189 - accuracy: 0.0000e+00\n",
      "Epoch 162/200\n",
      "17/17 [==============================] - 0s 1ms/step - loss: -1550.7711 - accuracy: 0.0000e+00\n",
      "Epoch 163/200\n",
      "17/17 [==============================] - 0s 1ms/step - loss: -1559.4047 - accuracy: 0.0000e+00\n",
      "Epoch 164/200\n",
      "17/17 [==============================] - 0s 1ms/step - loss: -1568.0146 - accuracy: 0.0000e+00\n",
      "Epoch 165/200\n",
      "17/17 [==============================] - 0s 2ms/step - loss: -1576.6449 - accuracy: 0.0000e+00\n",
      "Epoch 166/200\n",
      "17/17 [==============================] - 0s 1ms/step - loss: -1585.2539 - accuracy: 0.0000e+00\n",
      "Epoch 167/200\n",
      "17/17 [==============================] - 0s 1ms/step - loss: -1593.9077 - accuracy: 0.0000e+00\n",
      "Epoch 168/200\n",
      "17/17 [==============================] - 0s 1ms/step - loss: -1602.4995 - accuracy: 0.0000e+00\n",
      "Epoch 169/200\n",
      "17/17 [==============================] - 0s 1ms/step - loss: -1611.1553 - accuracy: 0.0000e+00\n",
      "Epoch 170/200\n",
      "17/17 [==============================] - 0s 1ms/step - loss: -1619.7421 - accuracy: 0.0000e+00\n",
      "Epoch 171/200\n",
      "17/17 [==============================] - 0s 1ms/step - loss: -1628.3900 - accuracy: 0.0000e+00\n",
      "Epoch 172/200\n",
      "17/17 [==============================] - 0s 1ms/step - loss: -1637.0153 - accuracy: 0.0000e+00\n",
      "Epoch 173/200\n",
      "17/17 [==============================] - 0s 1ms/step - loss: -1645.6322 - accuracy: 0.0000e+00\n",
      "Epoch 174/200\n",
      "17/17 [==============================] - 0s 1ms/step - loss: -1654.2577 - accuracy: 0.0000e+00\n",
      "Epoch 175/200\n",
      "17/17 [==============================] - 0s 1ms/step - loss: -1662.8959 - accuracy: 0.0000e+00\n",
      "Epoch 176/200\n",
      "17/17 [==============================] - 0s 1ms/step - loss: -1671.4838 - accuracy: 0.0000e+00\n",
      "Epoch 177/200\n",
      "17/17 [==============================] - 0s 1ms/step - loss: -1680.1346 - accuracy: 0.0000e+00\n",
      "Epoch 178/200\n",
      "17/17 [==============================] - 0s 1ms/step - loss: -1688.7559 - accuracy: 0.0000e+00\n",
      "Epoch 179/200\n",
      "17/17 [==============================] - 0s 1ms/step - loss: -1697.3796 - accuracy: 0.0000e+00\n",
      "Epoch 180/200\n",
      "17/17 [==============================] - 0s 1ms/step - loss: -1705.9998 - accuracy: 0.0000e+00\n",
      "Epoch 181/200\n",
      "17/17 [==============================] - 0s 1ms/step - loss: -1714.6311 - accuracy: 0.0000e+00\n",
      "Epoch 182/200\n",
      "17/17 [==============================] - 0s 1ms/step - loss: -1723.2563 - accuracy: 0.0000e+00\n",
      "Epoch 183/200\n",
      "17/17 [==============================] - 0s 1ms/step - loss: -1731.8782 - accuracy: 0.0000e+00\n",
      "Epoch 184/200\n",
      "17/17 [==============================] - 0s 1ms/step - loss: -1740.4904 - accuracy: 0.0000e+00\n",
      "Epoch 185/200\n",
      "17/17 [==============================] - 0s 1ms/step - loss: -1749.1244 - accuracy: 0.0000e+00\n",
      "Epoch 186/200\n",
      "17/17 [==============================] - 0s 1ms/step - loss: -1757.7408 - accuracy: 0.0000e+00\n",
      "Epoch 187/200\n",
      "17/17 [==============================] - 0s 1ms/step - loss: -1766.3456 - accuracy: 0.0000e+00\n",
      "Epoch 188/200\n",
      "17/17 [==============================] - 0s 1ms/step - loss: -1774.9915 - accuracy: 0.0000e+00\n",
      "Epoch 189/200\n",
      "17/17 [==============================] - 0s 1ms/step - loss: -1783.6128 - accuracy: 0.0000e+00\n",
      "Epoch 190/200\n",
      "17/17 [==============================] - 0s 1ms/step - loss: -1792.2251 - accuracy: 0.0000e+00\n",
      "Epoch 191/200\n",
      "17/17 [==============================] - 0s 1ms/step - loss: -1800.8406 - accuracy: 0.0000e+00\n",
      "Epoch 192/200\n",
      "17/17 [==============================] - 0s 1ms/step - loss: -1809.4633 - accuracy: 0.0000e+00\n",
      "Epoch 193/200\n",
      "17/17 [==============================] - 0s 1ms/step - loss: -1818.1115 - accuracy: 0.0000e+00\n",
      "Epoch 194/200\n",
      "17/17 [==============================] - 0s 1ms/step - loss: -1826.6902 - accuracy: 0.0000e+00\n",
      "Epoch 195/200\n",
      "17/17 [==============================] - 0s 1ms/step - loss: -1835.3333 - accuracy: 0.0000e+00\n",
      "Epoch 196/200\n",
      "17/17 [==============================] - 0s 1ms/step - loss: -1843.9275 - accuracy: 0.0000e+00\n",
      "Epoch 197/200\n",
      "17/17 [==============================] - 0s 1ms/step - loss: -1852.5571 - accuracy: 0.0000e+00\n",
      "Epoch 198/200\n",
      "17/17 [==============================] - 0s 1ms/step - loss: -1861.1779 - accuracy: 0.0000e+00\n",
      "Epoch 199/200\n",
      "17/17 [==============================] - 0s 1ms/step - loss: -1869.8003 - accuracy: 0.0000e+00\n",
      "Epoch 200/200\n",
      "17/17 [==============================] - 0s 1ms/step - loss: -1878.4260 - accuracy: 0.0000e+00\n"
     ]
    }
   ],
   "source": [
    "# Fitting the model with the training data\n",
    "model = neuron.fit(X_train_scaled, y_train, epochs=200, batch_size=100, shuffle=True)"
   ]
  },
  {
   "cell_type": "markdown",
   "id": "12d10a5f-e46e-492e-be0d-a95d2c2f5ba1",
   "metadata": {},
   "source": [
    "### Looking into model 2 performance"
   ]
  },
  {
   "cell_type": "code",
   "execution_count": 20,
   "id": "25d95b86-f0e0-43e2-8e5f-1ec4bf6dafec",
   "metadata": {
    "tags": []
   },
   "outputs": [
    {
     "data": {
      "text/html": [
       "<div>\n",
       "<style scoped>\n",
       "    .dataframe tbody tr th:only-of-type {\n",
       "        vertical-align: middle;\n",
       "    }\n",
       "\n",
       "    .dataframe tbody tr th {\n",
       "        vertical-align: top;\n",
       "    }\n",
       "\n",
       "    .dataframe thead th {\n",
       "        text-align: right;\n",
       "    }\n",
       "</style>\n",
       "<table border=\"1\" class=\"dataframe\">\n",
       "  <thead>\n",
       "    <tr style=\"text-align: right;\">\n",
       "      <th></th>\n",
       "      <th>loss</th>\n",
       "      <th>accuracy</th>\n",
       "    </tr>\n",
       "  </thead>\n",
       "  <tbody>\n",
       "    <tr>\n",
       "      <th>1</th>\n",
       "      <td>-1.571416</td>\n",
       "      <td>0.0</td>\n",
       "    </tr>\n",
       "    <tr>\n",
       "      <th>2</th>\n",
       "      <td>-32.618523</td>\n",
       "      <td>0.0</td>\n",
       "    </tr>\n",
       "    <tr>\n",
       "      <th>3</th>\n",
       "      <td>-71.891418</td>\n",
       "      <td>0.0</td>\n",
       "    </tr>\n",
       "    <tr>\n",
       "      <th>4</th>\n",
       "      <td>-112.888748</td>\n",
       "      <td>0.0</td>\n",
       "    </tr>\n",
       "    <tr>\n",
       "      <th>5</th>\n",
       "      <td>-141.616791</td>\n",
       "      <td>0.0</td>\n",
       "    </tr>\n",
       "  </tbody>\n",
       "</table>\n",
       "</div>"
      ],
      "text/plain": [
       "         loss  accuracy\n",
       "1   -1.571416       0.0\n",
       "2  -32.618523       0.0\n",
       "3  -71.891418       0.0\n",
       "4 -112.888748       0.0\n",
       "5 -141.616791       0.0"
      ]
     },
     "execution_count": 20,
     "metadata": {},
     "output_type": "execute_result"
    }
   ],
   "source": [
    "# Create a DataFrame with the history dictionary\n",
    "df = pd.DataFrame(model.history, index=range(1, len(model.history[\"loss\"]) + 1))\n",
    "df.head()"
   ]
  },
  {
   "cell_type": "code",
   "execution_count": 21,
   "id": "dd277025-318d-4b67-b16b-f437264a7dd6",
   "metadata": {
    "tags": []
   },
   "outputs": [
    {
     "data": {
      "text/plain": [
       "<Axes: >"
      ]
     },
     "execution_count": 21,
     "metadata": {},
     "output_type": "execute_result"
    },
    {
     "data": {
      "image/png": "[encoded data removed]",
      "text/plain": [
       "<Figure size 640x480 with 1 Axes>"
      ]
     },
     "metadata": {},
     "output_type": "display_data"
    }
   ],
   "source": [
    "# Plot the loss\n",
    "df.plot(y=\"loss\")"
   ]
  },
  {
   "cell_type": "code",
   "execution_count": 22,
   "id": "c6523cb2-a449-404a-8eda-b5fd4352cea1",
   "metadata": {
    "tags": []
   },
   "outputs": [
    {
     "data": {
      "text/plain": [
       "<Axes: >"
      ]
     },
     "execution_count": 22,
     "metadata": {},
     "output_type": "execute_result"
    },
    {
     "data": {
      "image/png": "[encoded data removed]",
      "text/plain": [
       "<Figure size 640x480 with 1 Axes>"
      ]
     },
     "metadata": {},
     "output_type": "display_data"
    }
   ],
   "source": [
    "# Plot the accuracy\n",
    "df.plot(y=\"accuracy\")"
   ]
  },
  {
   "cell_type": "code",
   "execution_count": 23,
   "id": "0fe4c432-01d6-4cc1-b677-68cee1d9a0e2",
   "metadata": {
    "tags": []
   },
   "outputs": [
    {
     "name": "stdout",
     "output_type": "stream",
     "text": [
      "26/26 - 0s - loss: -2.4247e+04 - accuracy: 0.0000e+00 - 159ms/epoch - 6ms/step\n",
      "Loss: -24246.662109375, Accuracy: 0.0\n"
     ]
    }
   ],
   "source": [
    "# Evaluate the model using testing data\n",
    "model_loss, model_accuracy = neuron.evaluate(X_test_scaled, y_test, verbose=2)\n",
    "\n",
    "# Display evaluation results\n",
    "print(f\"Loss: {model_loss}, Accuracy: {model_accuracy}\")"
   ]
  }
 ],
 "metadata": {
  "kernelspec": {
   "display_name": "Python 3 (ipykernel)",
   "language": "python",
   "name": "python3"
  },
  "language_info": {
   "codemirror_mode": {
    "name": "ipython",
    "version": 3
   },
   "file_extension": ".py",
   "mimetype": "text/x-python",
   "name": "python",
   "nbconvert_exporter": "python",
   "pygments_lexer": "ipython3",
   "version": "3.9.16"
  }
 },
 "nbformat": 4,
 "nbformat_minor": 5
}
